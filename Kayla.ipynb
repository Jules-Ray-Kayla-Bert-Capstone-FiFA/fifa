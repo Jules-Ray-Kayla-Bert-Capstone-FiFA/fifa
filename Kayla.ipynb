{
 "cells": [
  {
   "cell_type": "code",
   "execution_count": 1,
   "id": "369fe538",
   "metadata": {},
   "outputs": [
    {
     "name": "stdout",
     "output_type": "stream",
     "text": [
      "Requirement already satisfied: category_encoders in /usr/local/anaconda3/lib/python3.9/site-packages (2.5.0)\n",
      "Requirement already satisfied: numpy>=1.14.0 in /usr/local/anaconda3/lib/python3.9/site-packages (from category_encoders) (1.20.3)\n",
      "Requirement already satisfied: statsmodels>=0.9.0 in /usr/local/anaconda3/lib/python3.9/site-packages (from category_encoders) (0.12.2)\n",
      "Requirement already satisfied: patsy>=0.5.1 in /usr/local/anaconda3/lib/python3.9/site-packages (from category_encoders) (0.5.2)\n",
      "Requirement already satisfied: pandas>=1.0.5 in /usr/local/anaconda3/lib/python3.9/site-packages (from category_encoders) (1.3.4)\n",
      "Requirement already satisfied: scikit-learn>=0.20.0 in /usr/local/anaconda3/lib/python3.9/site-packages (from category_encoders) (1.1.1)\n",
      "Requirement already satisfied: scipy>=1.0.0 in /usr/local/anaconda3/lib/python3.9/site-packages (from category_encoders) (1.7.1)\n",
      "Requirement already satisfied: python-dateutil>=2.7.3 in /usr/local/anaconda3/lib/python3.9/site-packages (from pandas>=1.0.5->category_encoders) (2.8.2)\n",
      "Requirement already satisfied: pytz>=2017.3 in /usr/local/anaconda3/lib/python3.9/site-packages (from pandas>=1.0.5->category_encoders) (2021.3)\n",
      "Requirement already satisfied: six in /usr/local/anaconda3/lib/python3.9/site-packages (from patsy>=0.5.1->category_encoders) (1.16.0)\n",
      "Requirement already satisfied: threadpoolctl>=2.0.0 in /usr/local/anaconda3/lib/python3.9/site-packages (from scikit-learn>=0.20.0->category_encoders) (2.2.0)\n",
      "Requirement already satisfied: joblib>=1.0.0 in /usr/local/anaconda3/lib/python3.9/site-packages (from scikit-learn>=0.20.0->category_encoders) (1.1.0)\n",
      "\n",
      "\u001b[1m[\u001b[0m\u001b[34;49mnotice\u001b[0m\u001b[1;39;49m]\u001b[0m\u001b[39;49m A new release of pip available: \u001b[0m\u001b[31;49m22.1.2\u001b[0m\u001b[39;49m -> \u001b[0m\u001b[32;49m22.2.2\u001b[0m\n",
      "\u001b[1m[\u001b[0m\u001b[34;49mnotice\u001b[0m\u001b[1;39;49m]\u001b[0m\u001b[39;49m To update, run: \u001b[0m\u001b[32;49mpip install --upgrade pip\u001b[0m\n",
      "Note: you may need to restart the kernel to use updated packages.\n"
     ]
    }
   ],
   "source": [
    "pip install category_encoders"
   ]
  },
  {
   "cell_type": "code",
   "execution_count": 2,
   "id": "aaca1a7c",
   "metadata": {},
   "outputs": [],
   "source": [
    "# STANDARD LIBRARIES\n",
    "import os\n",
    "import warnings\n",
    "warnings.filterwarnings(\"ignore\")\n",
    "\n",
    "# THIRD PARTY LIBRARIES\n",
    "import numpy as np\n",
    "import matplotlib.pyplot as plt\n",
    "import pandas as pd\n",
    "import seaborn as sns\n",
    "import pydataset\n",
    "import scipy.stats as stats\n",
    "import category_encoders as ce\n",
    "\n",
    "#statistical tests\n",
    "from scipy import stats\n",
    "from scipy.stats import pearsonr, spearmanr\n",
    "\n",
    "\n",
    "\n",
    "# default pandas decimal number display format\n",
    "pd.options.display.float_format = '{:20,.2f}'.format\n",
    "from sklearn import preprocessing\n",
    "\n",
    "from sklearn.model_selection import train_test_split\n",
    "from sklearn.impute import SimpleImputer\n",
    "from sklearn.feature_selection import RFE\n",
    "from sklearn.metrics import mean_squared_error\n",
    "from sklearn.preprocessing import MinMaxScaler\n",
    "import sklearn.linear_model\n",
    "import sklearn.feature_selection\n",
    "import sklearn.preprocessing\n",
    "from sklearn.feature_selection import SelectKBest, f_regression\n",
    "from sklearn.linear_model import LinearRegression, LassoLars, TweedieRegressor\n",
    "from sklearn.preprocessing import PolynomialFeatures\n",
    "import plotly.express as px\n",
    "from sklearn.cluster import KMeans\n",
    "from sklearn.feature_selection import RFE\n",
    "import matplotlib\n",
    "from sklearn.preprocessing import MinMaxScaler, StandardScaler, RobustScaler, QuantileTransformer\n",
    "from math import sqrt"
   ]
  },
  {
   "cell_type": "code",
   "execution_count": 3,
   "id": "92d518bd",
   "metadata": {},
   "outputs": [],
   "source": [
    "import acquire \n",
    "import prepare"
   ]
  },
  {
   "cell_type": "code",
   "execution_count": 4,
   "id": "73621878",
   "metadata": {},
   "outputs": [],
   "source": [
    "df = acquire.get_fifa_data()"
   ]
  },
  {
   "cell_type": "code",
   "execution_count": 5,
   "id": "a3cd7a20",
   "metadata": {},
   "outputs": [
    {
     "name": "stdout",
     "output_type": "stream",
     "text": [
      "Before dropping nulls, 142079 rows, 111 cols\n",
      "After dropping nulls. 131489 rows. 66 cols\n",
      "After cleaning the data and adding additional columns there are: 98804 rows. 83 cols\n"
     ]
    }
   ],
   "source": [
    "df = prepare.prepped_data(df)"
   ]
  },
  {
   "cell_type": "code",
   "execution_count": 6,
   "id": "d76419f2",
   "metadata": {},
   "outputs": [],
   "source": [
    "goalkeeper_df, forward_df, midfielder_df, defender_df = prepare.acquire_players_by_position(df)"
   ]
  },
  {
   "cell_type": "code",
   "execution_count": 7,
   "id": "2c91e69a",
   "metadata": {},
   "outputs": [
    {
     "data": {
      "text/plain": [
       "(11367, 83)"
      ]
     },
     "execution_count": 7,
     "metadata": {},
     "output_type": "execute_result"
    }
   ],
   "source": [
    "goalkeeper_df.shape"
   ]
  },
  {
   "cell_type": "code",
   "execution_count": 8,
   "id": "593a7785",
   "metadata": {},
   "outputs": [
    {
     "data": {
      "text/plain": [
       "(18494, 83)"
      ]
     },
     "execution_count": 8,
     "metadata": {},
     "output_type": "execute_result"
    }
   ],
   "source": [
    "forward_df.shape"
   ]
  },
  {
   "cell_type": "code",
   "execution_count": 9,
   "id": "34b2ffd7",
   "metadata": {},
   "outputs": [
    {
     "data": {
      "text/plain": [
       "(36682, 83)"
      ]
     },
     "execution_count": 9,
     "metadata": {},
     "output_type": "execute_result"
    }
   ],
   "source": [
    "midfielder_df.shape"
   ]
  },
  {
   "cell_type": "code",
   "execution_count": 10,
   "id": "a4855d76",
   "metadata": {},
   "outputs": [
    {
     "data": {
      "text/plain": [
       "(32261, 83)"
      ]
     },
     "execution_count": 10,
     "metadata": {},
     "output_type": "execute_result"
    }
   ],
   "source": [
    "defender_df.shape"
   ]
  },
  {
   "cell_type": "markdown",
   "id": "f735bb8c",
   "metadata": {},
   "source": [
    "# Step 1: Assign all player positions to a dataframe"
   ]
  },
  {
   "cell_type": "code",
   "execution_count": null,
   "id": "8decc968",
   "metadata": {},
   "outputs": [],
   "source": [
    "#GK\n",
    "goalkeepers = df[(df.club_position == 'GK')]"
   ]
  },
  {
   "cell_type": "code",
   "execution_count": null,
   "id": "106b62d9",
   "metadata": {},
   "outputs": [],
   "source": [
    "goalkeepers.shape"
   ]
  },
  {
   "cell_type": "code",
   "execution_count": null,
   "id": "902e0f9f",
   "metadata": {},
   "outputs": [],
   "source": [
    "#ST, RS, LS, LW, RW, LF, CF\n",
    "forwards = df[(df.club_position == 'ST') | (df.club_position == 'RS') | (df.club_position == 'LS') | (df.club_position == 'LW') | (df.club_position == 'RW') | (df.club_position == 'LF') | (df.club_position == 'CF')]\n"
   ]
  },
  {
   "cell_type": "code",
   "execution_count": null,
   "id": "b1a5f429",
   "metadata": {},
   "outputs": [],
   "source": [
    "forwards.shape"
   ]
  },
  {
   "cell_type": "code",
   "execution_count": null,
   "id": "c08429f1",
   "metadata": {},
   "outputs": [],
   "source": [
    "#LCM, RCM, RM, LM, CAM, LDM, RDM, CDM, LAM, RAM \n",
    "midfielders = df[(df.club_position == 'LCM') | (df.club_position == 'RCM') | (df.club_position == 'RM') | (df.club_position == 'LM') | (df.club_position == 'CAM') | (df.club_position == 'LDM') | (df.club_position == 'RDM') | (df.club_position == 'CDM') | (df.club_position == 'LAM') | (df.club_position == 'RAM')] \n"
   ]
  },
  {
   "cell_type": "code",
   "execution_count": null,
   "id": "53ce6ad6",
   "metadata": {},
   "outputs": [],
   "source": [
    "midfielders.shape"
   ]
  },
  {
   "cell_type": "code",
   "execution_count": null,
   "id": "95c6dfed",
   "metadata": {},
   "outputs": [],
   "source": [
    "#RCB, LCB, LB, RB, CB, RWB, LWB\n",
    "defenders = df[(df.club_position == 'RCB') | (df.club_position == 'LCB') | (df.club_position == 'LB') | (df.club_position == 'RB') | (df.club_position == 'CB') | (df.club_position == 'RWB') | (df.club_position == 'LWB')]"
   ]
  },
  {
   "cell_type": "code",
   "execution_count": null,
   "id": "ea9c5e6b",
   "metadata": {},
   "outputs": [],
   "source": [
    "defenders.shape"
   ]
  },
  {
   "cell_type": "code",
   "execution_count": null,
   "id": "0c1962e2",
   "metadata": {},
   "outputs": [],
   "source": [
    "reserve = df[df.club_position == 'RES']\n"
   ]
  },
  {
   "cell_type": "code",
   "execution_count": null,
   "id": "3d04540e",
   "metadata": {},
   "outputs": [],
   "source": [
    "reserve.shape"
   ]
  },
  {
   "cell_type": "code",
   "execution_count": null,
   "id": "bcbc92a2",
   "metadata": {},
   "outputs": [],
   "source": [
    "substitute = df[df.club_position == 'SUB']"
   ]
  },
  {
   "cell_type": "code",
   "execution_count": null,
   "id": "e8fa78d9",
   "metadata": {},
   "outputs": [],
   "source": [
    "substitute.shape"
   ]
  },
  {
   "cell_type": "code",
   "execution_count": null,
   "id": "269aedc4",
   "metadata": {},
   "outputs": [],
   "source": [
    "df.shape"
   ]
  },
  {
   "cell_type": "markdown",
   "id": "a930e7b2",
   "metadata": {},
   "source": [
    "# Step 2: Separate RESERVE Player dataframe by player position"
   ]
  },
  {
   "cell_type": "code",
   "execution_count": null,
   "id": "4740ec86",
   "metadata": {},
   "outputs": [],
   "source": [
    "reserve.shape"
   ]
  },
  {
   "cell_type": "code",
   "execution_count": null,
   "id": "22a8139b",
   "metadata": {},
   "outputs": [],
   "source": [
    "reserve['player_positions'] = reserve['player_positions'].str.split(',').str[0]"
   ]
  },
  {
   "cell_type": "code",
   "execution_count": null,
   "id": "a1512ee2",
   "metadata": {},
   "outputs": [],
   "source": [
    "df_reserve_goalkeepers = reserve[reserve.player_positions == 'GK']"
   ]
  },
  {
   "cell_type": "code",
   "execution_count": null,
   "id": "6f389842",
   "metadata": {},
   "outputs": [],
   "source": [
    "df_reserve_goalkeepers.shape"
   ]
  },
  {
   "cell_type": "code",
   "execution_count": null,
   "id": "ec77fd4d",
   "metadata": {},
   "outputs": [],
   "source": [
    "#ST, RS, LS, LW, RW, LF, CF\n",
    "df_reserve_forwards = reserve[(reserve.player_positions == 'ST') | (reserve.player_positions == 'RW') | (reserve.player_positions == 'LW') | (reserve.player_positions == 'CF')]"
   ]
  },
  {
   "cell_type": "code",
   "execution_count": null,
   "id": "4766a2db",
   "metadata": {},
   "outputs": [],
   "source": [
    "df_reserve_forwards.shape"
   ]
  },
  {
   "cell_type": "code",
   "execution_count": null,
   "id": "588965b5",
   "metadata": {},
   "outputs": [],
   "source": [
    "#LCM, RCM, RM, LM, CAM, LDM, RDM, CDM, LAM, RAM \n",
    "df_reserve_midfielders = reserve[(reserve.player_positions == 'CM') | (reserve.player_positions == 'CDM') | (reserve.player_positions == 'CAM') | (reserve.player_positions == 'RM') | (reserve.player_positions == 'LM')]"
   ]
  },
  {
   "cell_type": "code",
   "execution_count": null,
   "id": "c192b421",
   "metadata": {},
   "outputs": [],
   "source": [
    "df_reserve_midfielders.shape"
   ]
  },
  {
   "cell_type": "code",
   "execution_count": null,
   "id": "bcec7dc9",
   "metadata": {},
   "outputs": [],
   "source": [
    "#RCB, LCB, LB, RB, CB, RWB, LWB\n",
    "df_reserve_defenders = reserve[(reserve.player_positions == 'CB') | (reserve.player_positions == 'LB') | (reserve.player_positions == 'RB') | (reserve.player_positions == 'LWB') | (reserve.player_positions == 'RWB')]"
   ]
  },
  {
   "cell_type": "code",
   "execution_count": null,
   "id": "b83fead9",
   "metadata": {},
   "outputs": [],
   "source": [
    "df_reserve_defenders.shape"
   ]
  },
  {
   "cell_type": "markdown",
   "id": "87beb22a",
   "metadata": {},
   "source": [
    "# Step 3: Separate SUBSTITUTE Player dataframe by player position"
   ]
  },
  {
   "cell_type": "code",
   "execution_count": null,
   "id": "b28e58fa",
   "metadata": {},
   "outputs": [],
   "source": [
    "substitute.shape"
   ]
  },
  {
   "cell_type": "code",
   "execution_count": null,
   "id": "5812a7a2",
   "metadata": {},
   "outputs": [],
   "source": [
    "substitute['player_positions'] = substitute['player_positions'].str.split(',').str[0]\n"
   ]
  },
  {
   "cell_type": "code",
   "execution_count": null,
   "id": "eb0da29e",
   "metadata": {},
   "outputs": [],
   "source": [
    "df_substitute_goalkeeper = substitute[substitute.player_positions == 'GK']"
   ]
  },
  {
   "cell_type": "code",
   "execution_count": null,
   "id": "ba0d8be5",
   "metadata": {},
   "outputs": [],
   "source": [
    "df_substitute_goalkeeper.shape"
   ]
  },
  {
   "cell_type": "code",
   "execution_count": null,
   "id": "7c62f12c",
   "metadata": {},
   "outputs": [],
   "source": [
    "df_substitute_forward = substitute[(substitute.player_positions == 'ST') | (substitute.player_positions == 'RW') | (substitute.player_positions == 'LW') | (substitute.player_positions == 'CF')]"
   ]
  },
  {
   "cell_type": "code",
   "execution_count": null,
   "id": "1c9884e4",
   "metadata": {},
   "outputs": [],
   "source": [
    "df_substitute_forward.shape"
   ]
  },
  {
   "cell_type": "code",
   "execution_count": null,
   "id": "76a1bcee",
   "metadata": {},
   "outputs": [],
   "source": [
    "df_substitute_midfielders = substitute[(substitute.player_positions == 'CM') | (substitute.player_positions == 'CDM') | (substitute.player_positions == 'CAM') | (substitute.player_positions == 'LM') | (substitute.player_positions == 'RM')]"
   ]
  },
  {
   "cell_type": "code",
   "execution_count": null,
   "id": "40aa4632",
   "metadata": {},
   "outputs": [],
   "source": [
    "df_substitute_midfielders.shape"
   ]
  },
  {
   "cell_type": "code",
   "execution_count": null,
   "id": "5096608e",
   "metadata": {},
   "outputs": [],
   "source": [
    "df_substitute_defenders = substitute[(substitute.player_positions == 'CB') | (substitute.player_positions == 'LB') | (substitute.player_positions == 'RB') | (substitute.player_positions == 'RWB') | (substitute.player_positions == 'LWB')]"
   ]
  },
  {
   "cell_type": "code",
   "execution_count": null,
   "id": "4d3ae078",
   "metadata": {},
   "outputs": [],
   "source": [
    "df_substitute_defenders.shape"
   ]
  },
  {
   "cell_type": "markdown",
   "id": "3949b8e5",
   "metadata": {},
   "source": [
    "# Step 4: Concat Dataframes together \n"
   ]
  },
  {
   "cell_type": "code",
   "execution_count": null,
   "id": "2a1d5ad4",
   "metadata": {},
   "outputs": [],
   "source": [
    "goalkeeper_df = pd.concat([goalkeepers, df_substitute_goalkeeper, df_reserve_goalkeepers], axis=0)"
   ]
  },
  {
   "cell_type": "code",
   "execution_count": null,
   "id": "f195eb7b",
   "metadata": {},
   "outputs": [],
   "source": [
    "goalkeeper_df.shape"
   ]
  },
  {
   "cell_type": "code",
   "execution_count": null,
   "id": "41200828",
   "metadata": {},
   "outputs": [],
   "source": [
    "forward_df = pd.concat([forwards, df_substitute_forward, df_reserve_forwards], axis=0)"
   ]
  },
  {
   "cell_type": "code",
   "execution_count": null,
   "id": "e80f794a",
   "metadata": {},
   "outputs": [],
   "source": [
    "forward_df.shape"
   ]
  },
  {
   "cell_type": "code",
   "execution_count": null,
   "id": "6ee87dd0",
   "metadata": {},
   "outputs": [],
   "source": [
    "midfielder_df = pd.concat([midfielders, df_substitute_midfielders, df_reserve_midfielders], axis=0)"
   ]
  },
  {
   "cell_type": "code",
   "execution_count": null,
   "id": "f4fcd6cc",
   "metadata": {},
   "outputs": [],
   "source": [
    "midfielder_df.shape"
   ]
  },
  {
   "cell_type": "code",
   "execution_count": null,
   "id": "66418fee",
   "metadata": {},
   "outputs": [],
   "source": [
    "defender_df = pd.concat([defenders, df_substitute_defenders, df_reserve_defenders], axis=0)"
   ]
  },
  {
   "cell_type": "code",
   "execution_count": null,
   "id": "0a5bb31b",
   "metadata": {},
   "outputs": [],
   "source": [
    "defender_df.shape"
   ]
  },
  {
   "cell_type": "markdown",
   "id": "986196ef",
   "metadata": {},
   "source": [
    "# Step 5: Correlation for each position"
   ]
  },
  {
   "cell_type": "code",
   "execution_count": null,
   "id": "2e633fef",
   "metadata": {},
   "outputs": [],
   "source": [
    "goalkeeper_df.corr()[['wage_eur']].sort_values(by='wage_eur', ascending=False).head(10)"
   ]
  },
  {
   "cell_type": "code",
   "execution_count": null,
   "id": "142d0625",
   "metadata": {},
   "outputs": [],
   "source": [
    "forward_df.corr()[['wage_eur']].sort_values(by='wage_eur', ascending=False).head(10)"
   ]
  },
  {
   "cell_type": "code",
   "execution_count": null,
   "id": "c1ba1f83",
   "metadata": {},
   "outputs": [],
   "source": [
    "midfielder_df.corr()[['wage_eur']].sort_values(by='wage_eur', ascending=False).head(10)"
   ]
  },
  {
   "cell_type": "code",
   "execution_count": null,
   "id": "436070b4",
   "metadata": {},
   "outputs": [],
   "source": [
    "defender_df.corr()[['wage_eur']].sort_values(by='wage_eur', ascending=False).head(15)"
   ]
  },
  {
   "cell_type": "markdown",
   "id": "b53218b7",
   "metadata": {},
   "source": [
    "# Clusters based on Correlation"
   ]
  },
  {
   "cell_type": "markdown",
   "id": "72dd760e",
   "metadata": {},
   "source": [
    "_Prepare the Data_"
   ]
  },
  {
   "cell_type": "code",
   "execution_count": 11,
   "id": "be4fb716",
   "metadata": {},
   "outputs": [
    {
     "name": "stdout",
     "output_type": "stream",
     "text": [
      "Train: 7728 rows, 83 cols\n",
      "Validate: 1933 rows, 83 cols\n",
      "Test: 1706 rows, 83 cols\n"
     ]
    }
   ],
   "source": [
    "#split\n",
    "train, validate, test = prepare.split(goalkeeper_df)"
   ]
  },
  {
   "cell_type": "code",
   "execution_count": 12,
   "id": "34352b51",
   "metadata": {},
   "outputs": [],
   "source": [
    "#split data\n",
    "X_train = train.drop(columns=['wage_eur', 'total_wage', 'value_eur'])\n",
    "y_train = train[['wage_eur']]\n",
    "\n",
    "X_validate = validate.drop(columns=['wage_eur', 'total_wage', 'value_eur'])\n",
    "y_validate = validate[['wage_eur']]\n",
    "\n",
    "X_test = test.drop(columns=['wage_eur', 'total_wage', 'value_eur'])\n",
    "y_test = test[['wage_eur']]"
   ]
  },
  {
   "cell_type": "markdown",
   "id": "c6e495e6",
   "metadata": {},
   "source": [
    "_Encode categorical variables_ "
   ]
  },
  {
   "cell_type": "code",
   "execution_count": 13,
   "id": "903bba7e",
   "metadata": {},
   "outputs": [
    {
     "data": {
      "text/plain": [
       "(7728, 80)"
      ]
     },
     "execution_count": 13,
     "metadata": {},
     "output_type": "execute_result"
    }
   ],
   "source": [
    "#encode categorical variables\n",
    "encoder = ce.LeaveOneOutEncoder(return_df=True)\n",
    "X_train_loo = encoder.fit_transform(X_train, y_train)\n",
    "X_test_loo = encoder.transform(X_test)\n",
    "X_train_loo.shape"
   ]
  },
  {
   "cell_type": "code",
   "execution_count": 14,
   "id": "0832c063",
   "metadata": {},
   "outputs": [
    {
     "data": {
      "text/plain": [
       "(7728, 80)"
      ]
     },
     "execution_count": 14,
     "metadata": {},
     "output_type": "execute_result"
    }
   ],
   "source": [
    "#scale data \n",
    "scaler = RobustScaler()\n",
    "X_train_scaled = scaler.fit_transform(X_train_loo, y_train)\n",
    "X_train_scaled.shape"
   ]
  },
  {
   "cell_type": "code",
   "execution_count": 15,
   "id": "2da89d61",
   "metadata": {},
   "outputs": [
    {
     "data": {
      "text/html": [
       "<div>\n",
       "<style scoped>\n",
       "    .dataframe tbody tr th:only-of-type {\n",
       "        vertical-align: middle;\n",
       "    }\n",
       "\n",
       "    .dataframe tbody tr th {\n",
       "        vertical-align: top;\n",
       "    }\n",
       "\n",
       "    .dataframe thead th {\n",
       "        text-align: right;\n",
       "    }\n",
       "</style>\n",
       "<table border=\"1\" class=\"dataframe\">\n",
       "  <thead>\n",
       "    <tr style=\"text-align: right;\">\n",
       "      <th></th>\n",
       "      <th>sofifa_id</th>\n",
       "      <th>short_name</th>\n",
       "      <th>player_positions</th>\n",
       "      <th>overall</th>\n",
       "      <th>potential</th>\n",
       "      <th>age</th>\n",
       "      <th>height_cm</th>\n",
       "      <th>weight_kg</th>\n",
       "      <th>club_team_id</th>\n",
       "      <th>club_name</th>\n",
       "      <th>...</th>\n",
       "      <th>league_yr_sum</th>\n",
       "      <th>club_name_yr_sum</th>\n",
       "      <th>seniority</th>\n",
       "      <th>club_position_encoded</th>\n",
       "      <th>work_rate_encoded</th>\n",
       "      <th>preferred_foot_encoded</th>\n",
       "      <th>age_bins_encoded</th>\n",
       "      <th>weight_bins_encoded</th>\n",
       "      <th>body_type_encoded</th>\n",
       "      <th>league_encoded</th>\n",
       "    </tr>\n",
       "  </thead>\n",
       "  <tbody>\n",
       "    <tr>\n",
       "      <th>count</th>\n",
       "      <td>7,728.00</td>\n",
       "      <td>7,728.00</td>\n",
       "      <td>7,728.00</td>\n",
       "      <td>7,728.00</td>\n",
       "      <td>7,728.00</td>\n",
       "      <td>7,728.00</td>\n",
       "      <td>7,728.00</td>\n",
       "      <td>7,728.00</td>\n",
       "      <td>7,728.00</td>\n",
       "      <td>7,728.00</td>\n",
       "      <td>...</td>\n",
       "      <td>7,728.00</td>\n",
       "      <td>7,728.00</td>\n",
       "      <td>7,728.00</td>\n",
       "      <td>7,728.00</td>\n",
       "      <td>7,728.00</td>\n",
       "      <td>7,728.00</td>\n",
       "      <td>7,728.00</td>\n",
       "      <td>7,728.00</td>\n",
       "      <td>7,728.00</td>\n",
       "      <td>7,728.00</td>\n",
       "    </tr>\n",
       "    <tr>\n",
       "      <th>mean</th>\n",
       "      <td>-0.19</td>\n",
       "      <td>0.58</td>\n",
       "      <td>-0.96</td>\n",
       "      <td>0.07</td>\n",
       "      <td>0.05</td>\n",
       "      <td>0.04</td>\n",
       "      <td>0.02</td>\n",
       "      <td>0.01</td>\n",
       "      <td>0.42</td>\n",
       "      <td>0.59</td>\n",
       "      <td>...</td>\n",
       "      <td>0.50</td>\n",
       "      <td>0.64</td>\n",
       "      <td>0.40</td>\n",
       "      <td>-0.01</td>\n",
       "      <td>0.00</td>\n",
       "      <td>-0.10</td>\n",
       "      <td>0.30</td>\n",
       "      <td>617.53</td>\n",
       "      <td>0.05</td>\n",
       "      <td>0.21</td>\n",
       "    </tr>\n",
       "    <tr>\n",
       "      <th>std</th>\n",
       "      <td>0.96</td>\n",
       "      <td>2.40</td>\n",
       "      <td>2.97</td>\n",
       "      <td>0.73</td>\n",
       "      <td>0.76</td>\n",
       "      <td>0.62</td>\n",
       "      <td>0.79</td>\n",
       "      <td>0.78</td>\n",
       "      <td>0.49</td>\n",
       "      <td>1.55</td>\n",
       "      <td>...</td>\n",
       "      <td>1.29</td>\n",
       "      <td>1.83</td>\n",
       "      <td>0.88</td>\n",
       "      <td>0.88</td>\n",
       "      <td>0.00</td>\n",
       "      <td>0.30</td>\n",
       "      <td>0.46</td>\n",
       "      <td>2,178.81</td>\n",
       "      <td>1.32</td>\n",
       "      <td>0.77</td>\n",
       "    </tr>\n",
       "    <tr>\n",
       "      <th>min</th>\n",
       "      <td>-4.85</td>\n",
       "      <td>-0.80</td>\n",
       "      <td>-42.43</td>\n",
       "      <td>-1.73</td>\n",
       "      <td>-2.44</td>\n",
       "      <td>-1.11</td>\n",
       "      <td>-3.17</td>\n",
       "      <td>-3.00</td>\n",
       "      <td>-0.02</td>\n",
       "      <td>-0.40</td>\n",
       "      <td>...</td>\n",
       "      <td>-0.55</td>\n",
       "      <td>-0.40</td>\n",
       "      <td>-0.33</td>\n",
       "      <td>-1.00</td>\n",
       "      <td>0.00</td>\n",
       "      <td>-1.00</td>\n",
       "      <td>-0.01</td>\n",
       "      <td>-7,147.90</td>\n",
       "      <td>-3.00</td>\n",
       "      <td>-0.69</td>\n",
       "    </tr>\n",
       "    <tr>\n",
       "      <th>25%</th>\n",
       "      <td>-0.58</td>\n",
       "      <td>-0.60</td>\n",
       "      <td>-0.71</td>\n",
       "      <td>-0.45</td>\n",
       "      <td>-0.44</td>\n",
       "      <td>-0.44</td>\n",
       "      <td>-0.50</td>\n",
       "      <td>-0.50</td>\n",
       "      <td>-0.01</td>\n",
       "      <td>-0.22</td>\n",
       "      <td>...</td>\n",
       "      <td>-0.33</td>\n",
       "      <td>-0.24</td>\n",
       "      <td>-0.33</td>\n",
       "      <td>-1.00</td>\n",
       "      <td>0.00</td>\n",
       "      <td>0.00</td>\n",
       "      <td>-0.00</td>\n",
       "      <td>-0.79</td>\n",
       "      <td>0.00</td>\n",
       "      <td>-0.38</td>\n",
       "    </tr>\n",
       "    <tr>\n",
       "      <th>50%</th>\n",
       "      <td>0.00</td>\n",
       "      <td>0.00</td>\n",
       "      <td>0.00</td>\n",
       "      <td>0.00</td>\n",
       "      <td>0.00</td>\n",
       "      <td>0.00</td>\n",
       "      <td>0.00</td>\n",
       "      <td>0.00</td>\n",
       "      <td>0.00</td>\n",
       "      <td>0.00</td>\n",
       "      <td>...</td>\n",
       "      <td>0.00</td>\n",
       "      <td>0.00</td>\n",
       "      <td>0.00</td>\n",
       "      <td>0.00</td>\n",
       "      <td>0.00</td>\n",
       "      <td>0.00</td>\n",
       "      <td>0.00</td>\n",
       "      <td>0.00</td>\n",
       "      <td>0.00</td>\n",
       "      <td>0.00</td>\n",
       "    </tr>\n",
       "    <tr>\n",
       "      <th>75%</th>\n",
       "      <td>0.42</td>\n",
       "      <td>0.40</td>\n",
       "      <td>0.29</td>\n",
       "      <td>0.55</td>\n",
       "      <td>0.56</td>\n",
       "      <td>0.56</td>\n",
       "      <td>0.50</td>\n",
       "      <td>0.50</td>\n",
       "      <td>0.99</td>\n",
       "      <td>0.78</td>\n",
       "      <td>...</td>\n",
       "      <td>0.67</td>\n",
       "      <td>0.76</td>\n",
       "      <td>0.67</td>\n",
       "      <td>0.00</td>\n",
       "      <td>0.00</td>\n",
       "      <td>0.00</td>\n",
       "      <td>1.00</td>\n",
       "      <td>0.21</td>\n",
       "      <td>0.00</td>\n",
       "      <td>0.62</td>\n",
       "    </tr>\n",
       "    <tr>\n",
       "      <th>max</th>\n",
       "      <td>1.13</td>\n",
       "      <td>25.78</td>\n",
       "      <td>0.36</td>\n",
       "      <td>2.55</td>\n",
       "      <td>2.67</td>\n",
       "      <td>2.11</td>\n",
       "      <td>3.33</td>\n",
       "      <td>3.50</td>\n",
       "      <td>1.03</td>\n",
       "      <td>13.23</td>\n",
       "      <td>...</td>\n",
       "      <td>4.61</td>\n",
       "      <td>14.26</td>\n",
       "      <td>8.33</td>\n",
       "      <td>1.43</td>\n",
       "      <td>0.00</td>\n",
       "      <td>0.00</td>\n",
       "      <td>1.00</td>\n",
       "      <td>5,819.71</td>\n",
       "      <td>6.00</td>\n",
       "      <td>2.31</td>\n",
       "    </tr>\n",
       "  </tbody>\n",
       "</table>\n",
       "<p>8 rows × 80 columns</p>\n",
       "</div>"
      ],
      "text/plain": [
       "                 sofifa_id           short_name     player_positions  \\\n",
       "count             7,728.00             7,728.00             7,728.00   \n",
       "mean                 -0.19                 0.58                -0.96   \n",
       "std                   0.96                 2.40                 2.97   \n",
       "min                  -4.85                -0.80               -42.43   \n",
       "25%                  -0.58                -0.60                -0.71   \n",
       "50%                   0.00                 0.00                 0.00   \n",
       "75%                   0.42                 0.40                 0.29   \n",
       "max                   1.13                25.78                 0.36   \n",
       "\n",
       "                   overall            potential                  age  \\\n",
       "count             7,728.00             7,728.00             7,728.00   \n",
       "mean                  0.07                 0.05                 0.04   \n",
       "std                   0.73                 0.76                 0.62   \n",
       "min                  -1.73                -2.44                -1.11   \n",
       "25%                  -0.45                -0.44                -0.44   \n",
       "50%                   0.00                 0.00                 0.00   \n",
       "75%                   0.55                 0.56                 0.56   \n",
       "max                   2.55                 2.67                 2.11   \n",
       "\n",
       "                 height_cm            weight_kg         club_team_id  \\\n",
       "count             7,728.00             7,728.00             7,728.00   \n",
       "mean                  0.02                 0.01                 0.42   \n",
       "std                   0.79                 0.78                 0.49   \n",
       "min                  -3.17                -3.00                -0.02   \n",
       "25%                  -0.50                -0.50                -0.01   \n",
       "50%                   0.00                 0.00                 0.00   \n",
       "75%                   0.50                 0.50                 0.99   \n",
       "max                   3.33                 3.50                 1.03   \n",
       "\n",
       "                 club_name  ...        league_yr_sum     club_name_yr_sum  \\\n",
       "count             7,728.00  ...             7,728.00             7,728.00   \n",
       "mean                  0.59  ...                 0.50                 0.64   \n",
       "std                   1.55  ...                 1.29                 1.83   \n",
       "min                  -0.40  ...                -0.55                -0.40   \n",
       "25%                  -0.22  ...                -0.33                -0.24   \n",
       "50%                   0.00  ...                 0.00                 0.00   \n",
       "75%                   0.78  ...                 0.67                 0.76   \n",
       "max                  13.23  ...                 4.61                14.26   \n",
       "\n",
       "                 seniority  club_position_encoded    work_rate_encoded  \\\n",
       "count             7,728.00               7,728.00             7,728.00   \n",
       "mean                  0.40                  -0.01                 0.00   \n",
       "std                   0.88                   0.88                 0.00   \n",
       "min                  -0.33                  -1.00                 0.00   \n",
       "25%                  -0.33                  -1.00                 0.00   \n",
       "50%                   0.00                   0.00                 0.00   \n",
       "75%                   0.67                   0.00                 0.00   \n",
       "max                   8.33                   1.43                 0.00   \n",
       "\n",
       "       preferred_foot_encoded     age_bins_encoded  weight_bins_encoded  \\\n",
       "count                7,728.00             7,728.00             7,728.00   \n",
       "mean                    -0.10                 0.30               617.53   \n",
       "std                      0.30                 0.46             2,178.81   \n",
       "min                     -1.00                -0.01            -7,147.90   \n",
       "25%                      0.00                -0.00                -0.79   \n",
       "50%                      0.00                 0.00                 0.00   \n",
       "75%                      0.00                 1.00                 0.21   \n",
       "max                      0.00                 1.00             5,819.71   \n",
       "\n",
       "         body_type_encoded       league_encoded  \n",
       "count             7,728.00             7,728.00  \n",
       "mean                  0.05                 0.21  \n",
       "std                   1.32                 0.77  \n",
       "min                  -3.00                -0.69  \n",
       "25%                   0.00                -0.38  \n",
       "50%                   0.00                 0.00  \n",
       "75%                   0.00                 0.62  \n",
       "max                   6.00                 2.31  \n",
       "\n",
       "[8 rows x 80 columns]"
      ]
     },
     "execution_count": 15,
     "metadata": {},
     "output_type": "execute_result"
    }
   ],
   "source": [
    "X_train_scaled_df = pd.DataFrame(X_train_scaled, columns=X_train.columns)\n",
    "X_train_scaled_df.describe()"
   ]
  },
  {
   "cell_type": "markdown",
   "id": "45e95e04",
   "metadata": {},
   "source": [
    "# Goalkeeper Clusters"
   ]
  },
  {
   "cell_type": "markdown",
   "id": "685c056f",
   "metadata": {},
   "source": [
    "#### ANOVA test on gk_handling, gk_diving, gk_reflexes"
   ]
  },
  {
   "cell_type": "code",
   "execution_count": 16,
   "id": "8dbb6ef6",
   "metadata": {},
   "outputs": [
    {
     "data": {
      "text/html": [
       "<style>#sk-container-id-1 {color: black;background-color: white;}#sk-container-id-1 pre{padding: 0;}#sk-container-id-1 div.sk-toggleable {background-color: white;}#sk-container-id-1 label.sk-toggleable__label {cursor: pointer;display: block;width: 100%;margin-bottom: 0;padding: 0.3em;box-sizing: border-box;text-align: center;}#sk-container-id-1 label.sk-toggleable__label-arrow:before {content: \"▸\";float: left;margin-right: 0.25em;color: #696969;}#sk-container-id-1 label.sk-toggleable__label-arrow:hover:before {color: black;}#sk-container-id-1 div.sk-estimator:hover label.sk-toggleable__label-arrow:before {color: black;}#sk-container-id-1 div.sk-toggleable__content {max-height: 0;max-width: 0;overflow: hidden;text-align: left;background-color: #f0f8ff;}#sk-container-id-1 div.sk-toggleable__content pre {margin: 0.2em;color: black;border-radius: 0.25em;background-color: #f0f8ff;}#sk-container-id-1 input.sk-toggleable__control:checked~div.sk-toggleable__content {max-height: 200px;max-width: 100%;overflow: auto;}#sk-container-id-1 input.sk-toggleable__control:checked~label.sk-toggleable__label-arrow:before {content: \"▾\";}#sk-container-id-1 div.sk-estimator input.sk-toggleable__control:checked~label.sk-toggleable__label {background-color: #d4ebff;}#sk-container-id-1 div.sk-label input.sk-toggleable__control:checked~label.sk-toggleable__label {background-color: #d4ebff;}#sk-container-id-1 input.sk-hidden--visually {border: 0;clip: rect(1px 1px 1px 1px);clip: rect(1px, 1px, 1px, 1px);height: 1px;margin: -1px;overflow: hidden;padding: 0;position: absolute;width: 1px;}#sk-container-id-1 div.sk-estimator {font-family: monospace;background-color: #f0f8ff;border: 1px dotted black;border-radius: 0.25em;box-sizing: border-box;margin-bottom: 0.5em;}#sk-container-id-1 div.sk-estimator:hover {background-color: #d4ebff;}#sk-container-id-1 div.sk-parallel-item::after {content: \"\";width: 100%;border-bottom: 1px solid gray;flex-grow: 1;}#sk-container-id-1 div.sk-label:hover label.sk-toggleable__label {background-color: #d4ebff;}#sk-container-id-1 div.sk-serial::before {content: \"\";position: absolute;border-left: 1px solid gray;box-sizing: border-box;top: 0;bottom: 0;left: 50%;z-index: 0;}#sk-container-id-1 div.sk-serial {display: flex;flex-direction: column;align-items: center;background-color: white;padding-right: 0.2em;padding-left: 0.2em;position: relative;}#sk-container-id-1 div.sk-item {position: relative;z-index: 1;}#sk-container-id-1 div.sk-parallel {display: flex;align-items: stretch;justify-content: center;background-color: white;position: relative;}#sk-container-id-1 div.sk-item::before, #sk-container-id-1 div.sk-parallel-item::before {content: \"\";position: absolute;border-left: 1px solid gray;box-sizing: border-box;top: 0;bottom: 0;left: 50%;z-index: -1;}#sk-container-id-1 div.sk-parallel-item {display: flex;flex-direction: column;z-index: 1;position: relative;background-color: white;}#sk-container-id-1 div.sk-parallel-item:first-child::after {align-self: flex-end;width: 50%;}#sk-container-id-1 div.sk-parallel-item:last-child::after {align-self: flex-start;width: 50%;}#sk-container-id-1 div.sk-parallel-item:only-child::after {width: 0;}#sk-container-id-1 div.sk-dashed-wrapped {border: 1px dashed gray;margin: 0 0.4em 0.5em 0.4em;box-sizing: border-box;padding-bottom: 0.4em;background-color: white;}#sk-container-id-1 div.sk-label label {font-family: monospace;font-weight: bold;display: inline-block;line-height: 1.2em;}#sk-container-id-1 div.sk-label-container {text-align: center;}#sk-container-id-1 div.sk-container {/* jupyter's `normalize.less` sets `[hidden] { display: none; }` but bootstrap.min.css set `[hidden] { display: none !important; }` so we also need the `!important` here to be able to override the default hidden behavior on the sphinx rendered scikit-learn.org. See: https://github.com/scikit-learn/scikit-learn/issues/21755 */display: inline-block !important;position: relative;}#sk-container-id-1 div.sk-text-repr-fallback {display: none;}</style><div id=\"sk-container-id-1\" class=\"sk-top-container\"><div class=\"sk-text-repr-fallback\"><pre>KMeans(n_clusters=4)</pre><b>In a Jupyter environment, please rerun this cell to show the HTML representation or trust the notebook. <br />On GitHub, the HTML representation is unable to render, please try loading this page with nbviewer.org.</b></div><div class=\"sk-container\" hidden><div class=\"sk-item\"><div class=\"sk-estimator sk-toggleable\"><input class=\"sk-toggleable__control sk-hidden--visually\" id=\"sk-estimator-id-1\" type=\"checkbox\" checked><label for=\"sk-estimator-id-1\" class=\"sk-toggleable__label sk-toggleable__label-arrow\">KMeans</label><div class=\"sk-toggleable__content\"><pre>KMeans(n_clusters=4)</pre></div></div></div></div></div>"
      ],
      "text/plain": [
       "KMeans(n_clusters=4)"
      ]
     },
     "execution_count": 16,
     "metadata": {},
     "output_type": "execute_result"
    }
   ],
   "source": [
    "#significance level \n",
    "a = 0.05 \n",
    "#define x \n",
    "X = X_train_scaled_df[['gk_handling', 'gk_diving', 'gk_reflexes']]\n",
    "#define kmeans\n",
    "kmeans = KMeans(n_clusters=4)\n",
    "#fit \n",
    "kmeans.fit(X)"
   ]
  },
  {
   "cell_type": "code",
   "execution_count": 17,
   "id": "ba3318cd",
   "metadata": {},
   "outputs": [],
   "source": [
    "X_train_scaled_df['clusters'] = kmeans.predict(X)"
   ]
  },
  {
   "cell_type": "code",
   "execution_count": 18,
   "id": "126be42a",
   "metadata": {},
   "outputs": [
    {
     "data": {
      "image/png": "[encoded data removed]",
      "text/plain": [
       "<Figure size 864x432 with 1 Axes>"
      ]
     },
     "metadata": {},
     "output_type": "display_data"
    }
   ],
   "source": [
    "# Find K: evaluate best k using elbow method \n",
    "with plt.style.context('seaborn-whitegrid'):\n",
    "    plt.figure(figsize=(12, 6))\n",
    "    pd.Series({k: KMeans(k).fit(X).inertia_ for k in range(2, 15)}).plot(marker='x')\n",
    "    plt.xticks(range(2, 15))\n",
    "    plt.xlabel('k')\n",
    "    plt.ylabel('inertia')\n",
    "    plt.title('Change in inertia as k increases')"
   ]
  },
  {
   "cell_type": "code",
   "execution_count": 19,
   "id": "ec41e0a8",
   "metadata": {},
   "outputs": [
    {
     "data": {
      "text/html": [
       "<div>\n",
       "<style scoped>\n",
       "    .dataframe tbody tr th:only-of-type {\n",
       "        vertical-align: middle;\n",
       "    }\n",
       "\n",
       "    .dataframe tbody tr th {\n",
       "        vertical-align: top;\n",
       "    }\n",
       "\n",
       "    .dataframe thead th {\n",
       "        text-align: right;\n",
       "    }\n",
       "</style>\n",
       "<table border=\"1\" class=\"dataframe\">\n",
       "  <thead>\n",
       "    <tr style=\"text-align: right;\">\n",
       "      <th></th>\n",
       "      <th>gk_handling</th>\n",
       "      <th>gk_diving</th>\n",
       "      <th>gk_reflexes</th>\n",
       "    </tr>\n",
       "    <tr>\n",
       "      <th>clusters</th>\n",
       "      <th></th>\n",
       "      <th></th>\n",
       "      <th></th>\n",
       "    </tr>\n",
       "  </thead>\n",
       "  <tbody>\n",
       "    <tr>\n",
       "      <th>0</th>\n",
       "      <td>67.30</td>\n",
       "      <td>70.10</td>\n",
       "      <td>71.59</td>\n",
       "    </tr>\n",
       "    <tr>\n",
       "      <th>1</th>\n",
       "      <td>53.26</td>\n",
       "      <td>55.45</td>\n",
       "      <td>56.02</td>\n",
       "    </tr>\n",
       "    <tr>\n",
       "      <th>2</th>\n",
       "      <td>75.70</td>\n",
       "      <td>78.81</td>\n",
       "      <td>80.20</td>\n",
       "    </tr>\n",
       "    <tr>\n",
       "      <th>3</th>\n",
       "      <td>60.71</td>\n",
       "      <td>63.23</td>\n",
       "      <td>64.03</td>\n",
       "    </tr>\n",
       "  </tbody>\n",
       "</table>\n",
       "</div>"
      ],
      "text/plain": [
       "                  gk_handling            gk_diving          gk_reflexes\n",
       "clusters                                                               \n",
       "0                       67.30                70.10                71.59\n",
       "1                       53.26                55.45                56.02\n",
       "2                       75.70                78.81                80.20\n",
       "3                       60.71                63.23                64.03"
      ]
     },
     "execution_count": 19,
     "metadata": {},
     "output_type": "execute_result"
    }
   ],
   "source": [
    "X_train_scaled_df.groupby('clusters')[ 'gk_handling', 'gk_diving', 'gk_reflexes'].mean()"
   ]
  },
  {
   "cell_type": "markdown",
   "id": "4463a6ef",
   "metadata": {},
   "source": [
    "#### _The ANOVA test will be used to measure the significance or lack there of variance between clusters_"
   ]
  },
  {
   "cell_type": "markdown",
   "id": "31aefbf8",
   "metadata": {},
   "source": [
    " - H0: There is no significant difference between salaries of each cluster \n",
    " - HA: There is a significant difference between salaries of each cluster"
   ]
  },
  {
   "cell_type": "code",
   "execution_count": 20,
   "id": "809c4135",
   "metadata": {},
   "outputs": [
    {
     "name": "stdout",
     "output_type": "stream",
     "text": [
      "Anova Test Results on goalkeeper handling/diving/reflexes Cluster\n",
      "F-value:  1910.26469852438\n",
      "p-value:  0.0\n"
     ]
    }
   ],
   "source": [
    "α = 0.05\n",
    "\n",
    "F, p = stats.f_oneway(X_train_scaled_df[X_train_scaled_df.clusters == 0].wage_eur,\n",
    "                      X_train_scaled_df[X_train_scaled_df.clusters == 1].wage_eur,\n",
    "                      X_train_scaled_df[X_train_scaled_df.clusters == 2].wage_eur,\n",
    "                      X_train_scaled_df[X_train_scaled_df.clusters == 3].wage_eur)\n",
    "\n",
    "print('Anova Test Results on goalkeeper handling/diving/reflexes Cluster')\n",
    "print('F-value: ',F)\n",
    "print('p-value: ',p)"
   ]
  },
  {
   "cell_type": "code",
   "execution_count": 21,
   "id": "11f33f16",
   "metadata": {},
   "outputs": [
    {
     "name": "stdout",
     "output_type": "stream",
     "text": [
      "Reject null hypothesis\n"
     ]
    }
   ],
   "source": [
    "if p < α:\n",
    "    print(f'Reject null hypothesis')\n",
    "else:\n",
    "    print(f'Fail to reject null hypothesis')"
   ]
  },
  {
   "cell_type": "code",
   "execution_count": 22,
   "id": "fb4d0008",
   "metadata": {},
   "outputs": [],
   "source": [
    "goalkeeper_0 = X_train_scaled_df[X_train_scaled_df.clusters == 0]\n",
    "goalkeeper_1 = X_train_scaled_df[X_train_scaled_df.clusters == 1]\n",
    "goalkeeper_2 = X_train_scaled_df[train.clusters == 2]\n",
    "goalkeeper_3 = train[train.clusters == 3]"
   ]
  },
  {
   "cell_type": "markdown",
   "id": "7f68c4c0",
   "metadata": {},
   "source": [
    "# Goalkeeping Model"
   ]
  },
  {
   "cell_type": "markdown",
   "id": "44adc927",
   "metadata": {},
   "source": [
    "#### Tweedie Regression Model (GLM)"
   ]
  },
  {
   "cell_type": "code",
   "execution_count": null,
   "id": "fa7519b2",
   "metadata": {},
   "outputs": [],
   "source": [
    "# create the model object\n",
    "glm = TweedieRegressor(power=1, alpha=0)\n",
    "\n",
    "# fit the model to our training data. We must specify the column in y_train, \n",
    "# since we have converted it to a dataframe from a series! \n",
    "glm.fit(X_train_scaled, y_train.wage_eur)\n",
    "\n",
    "# predict train\n",
    "y_train['wage_eur_pred_glm'] = glm.predict(X_train_scaled)\n",
    "\n",
    "# evaluate: rmse\n",
    "rmse_train_glm = mean_squared_error(y_train.wage_eur, y_train.wage_eur_pred_glm)**(1/2)\n",
    "\n",
    "# predict validate\n",
    "y_validate['wage_eur_pred_glm'] = glm.predict(X_validate_scaled)\n",
    "\n",
    "# evaluate: rmse\n",
    "rmse_validate_glm = mean_squared_error(y_validate.wage_eur, y_validate.wage_eur_pred_glm)**(1/2)\n",
    "\n",
    "print(\"RMSE for GLM using Tweedie, power=1 & alpha=0\\nTraining/In-Sample: \", f'{rmse_train:.2f}', \n",
    "      \"\\nValidation/Out-of-Sample: \", f'{rmse_validate_glm:.2f}')"
   ]
  },
  {
   "cell_type": "code",
   "execution_count": null,
   "id": "f3b7956a",
   "metadata": {},
   "outputs": [],
   "source": [
    "#residuals\n",
    "y_train['glm_residuals'] = y_train['wage_eur_pred_glm'] - y_train['wage_eur']\n",
    "y_validate['glm_residuals'] = y_validate['wage_eur_pred_glm'] - y_validate['wage_eur']"
   ]
  },
  {
   "cell_type": "code",
   "execution_count": null,
   "id": "c77ea8f6",
   "metadata": {},
   "outputs": [],
   "source": []
  },
  {
   "cell_type": "markdown",
   "id": "419a656c",
   "metadata": {},
   "source": [
    "# Prepare Forwards"
   ]
  },
  {
   "cell_type": "code",
   "execution_count": 23,
   "id": "c7e055bf",
   "metadata": {},
   "outputs": [
    {
     "name": "stdout",
     "output_type": "stream",
     "text": [
      "Train: 12575 rows, 83 cols\n",
      "Validate: 3144 rows, 83 cols\n",
      "Test: 2775 rows, 83 cols\n"
     ]
    }
   ],
   "source": [
    "#split\n",
    "train, validate, test = prepare.split(forward_df)"
   ]
  },
  {
   "cell_type": "code",
   "execution_count": 24,
   "id": "eec021fa",
   "metadata": {},
   "outputs": [],
   "source": [
    "#split data\n",
    "X_train = train.drop(columns=['wage_eur', 'total_wage', 'value_eur'])\n",
    "y_train = train[['wage_eur']]\n",
    "\n",
    "X_validate = validate.drop(columns=['wage_eur', 'total_wage', 'value_eur'])\n",
    "y_validate = validate[['wage_eur']]\n",
    "\n",
    "X_test = test.drop(columns=['wage_eur', 'total_wage', 'value_eur'])\n",
    "y_test = test[['wage_eur']]"
   ]
  },
  {
   "cell_type": "code",
   "execution_count": 25,
   "id": "dd3e774c",
   "metadata": {},
   "outputs": [
    {
     "data": {
      "text/plain": [
       "(12575, 80)"
      ]
     },
     "execution_count": 25,
     "metadata": {},
     "output_type": "execute_result"
    }
   ],
   "source": [
    "#encode categorical variables\n",
    "encoder = ce.LeaveOneOutEncoder(return_df=True)\n",
    "X_train_loo = encoder.fit_transform(X_train, y_train)\n",
    "X_test_loo = encoder.transform(X_test)\n",
    "X_train_loo.shape"
   ]
  },
  {
   "cell_type": "code",
   "execution_count": 26,
   "id": "e2d4047b",
   "metadata": {},
   "outputs": [
    {
     "data": {
      "text/plain": [
       "(12575, 80)"
      ]
     },
     "execution_count": 26,
     "metadata": {},
     "output_type": "execute_result"
    }
   ],
   "source": [
    "#scale data \n",
    "scaler = RobustScaler()\n",
    "X_train_scaled = scaler.fit_transform(X_train_loo, y_train)\n",
    "X_train_scaled.shape"
   ]
  },
  {
   "cell_type": "code",
   "execution_count": 27,
   "id": "7eb044dc",
   "metadata": {},
   "outputs": [],
   "source": [
    "X_train_scaled_df = pd.DataFrame(X_train_scaled, columns=X_train.columns)"
   ]
  },
  {
   "cell_type": "markdown",
   "id": "a0e4f087",
   "metadata": {},
   "source": [
    "# FORWARD CLUSTERS"
   ]
  },
  {
   "cell_type": "markdown",
   "id": "76094a83",
   "metadata": {},
   "source": [
    "#### ANOVA test on ball_control, reactions, dribbling"
   ]
  },
  {
   "cell_type": "code",
   "execution_count": 28,
   "id": "2f1c63f4",
   "metadata": {},
   "outputs": [
    {
     "data": {
      "text/html": [
       "<style>#sk-container-id-2 {color: black;background-color: white;}#sk-container-id-2 pre{padding: 0;}#sk-container-id-2 div.sk-toggleable {background-color: white;}#sk-container-id-2 label.sk-toggleable__label {cursor: pointer;display: block;width: 100%;margin-bottom: 0;padding: 0.3em;box-sizing: border-box;text-align: center;}#sk-container-id-2 label.sk-toggleable__label-arrow:before {content: \"▸\";float: left;margin-right: 0.25em;color: #696969;}#sk-container-id-2 label.sk-toggleable__label-arrow:hover:before {color: black;}#sk-container-id-2 div.sk-estimator:hover label.sk-toggleable__label-arrow:before {color: black;}#sk-container-id-2 div.sk-toggleable__content {max-height: 0;max-width: 0;overflow: hidden;text-align: left;background-color: #f0f8ff;}#sk-container-id-2 div.sk-toggleable__content pre {margin: 0.2em;color: black;border-radius: 0.25em;background-color: #f0f8ff;}#sk-container-id-2 input.sk-toggleable__control:checked~div.sk-toggleable__content {max-height: 200px;max-width: 100%;overflow: auto;}#sk-container-id-2 input.sk-toggleable__control:checked~label.sk-toggleable__label-arrow:before {content: \"▾\";}#sk-container-id-2 div.sk-estimator input.sk-toggleable__control:checked~label.sk-toggleable__label {background-color: #d4ebff;}#sk-container-id-2 div.sk-label input.sk-toggleable__control:checked~label.sk-toggleable__label {background-color: #d4ebff;}#sk-container-id-2 input.sk-hidden--visually {border: 0;clip: rect(1px 1px 1px 1px);clip: rect(1px, 1px, 1px, 1px);height: 1px;margin: -1px;overflow: hidden;padding: 0;position: absolute;width: 1px;}#sk-container-id-2 div.sk-estimator {font-family: monospace;background-color: #f0f8ff;border: 1px dotted black;border-radius: 0.25em;box-sizing: border-box;margin-bottom: 0.5em;}#sk-container-id-2 div.sk-estimator:hover {background-color: #d4ebff;}#sk-container-id-2 div.sk-parallel-item::after {content: \"\";width: 100%;border-bottom: 1px solid gray;flex-grow: 1;}#sk-container-id-2 div.sk-label:hover label.sk-toggleable__label {background-color: #d4ebff;}#sk-container-id-2 div.sk-serial::before {content: \"\";position: absolute;border-left: 1px solid gray;box-sizing: border-box;top: 0;bottom: 0;left: 50%;z-index: 0;}#sk-container-id-2 div.sk-serial {display: flex;flex-direction: column;align-items: center;background-color: white;padding-right: 0.2em;padding-left: 0.2em;position: relative;}#sk-container-id-2 div.sk-item {position: relative;z-index: 1;}#sk-container-id-2 div.sk-parallel {display: flex;align-items: stretch;justify-content: center;background-color: white;position: relative;}#sk-container-id-2 div.sk-item::before, #sk-container-id-2 div.sk-parallel-item::before {content: \"\";position: absolute;border-left: 1px solid gray;box-sizing: border-box;top: 0;bottom: 0;left: 50%;z-index: -1;}#sk-container-id-2 div.sk-parallel-item {display: flex;flex-direction: column;z-index: 1;position: relative;background-color: white;}#sk-container-id-2 div.sk-parallel-item:first-child::after {align-self: flex-end;width: 50%;}#sk-container-id-2 div.sk-parallel-item:last-child::after {align-self: flex-start;width: 50%;}#sk-container-id-2 div.sk-parallel-item:only-child::after {width: 0;}#sk-container-id-2 div.sk-dashed-wrapped {border: 1px dashed gray;margin: 0 0.4em 0.5em 0.4em;box-sizing: border-box;padding-bottom: 0.4em;background-color: white;}#sk-container-id-2 div.sk-label label {font-family: monospace;font-weight: bold;display: inline-block;line-height: 1.2em;}#sk-container-id-2 div.sk-label-container {text-align: center;}#sk-container-id-2 div.sk-container {/* jupyter's `normalize.less` sets `[hidden] { display: none; }` but bootstrap.min.css set `[hidden] { display: none !important; }` so we also need the `!important` here to be able to override the default hidden behavior on the sphinx rendered scikit-learn.org. See: https://github.com/scikit-learn/scikit-learn/issues/21755 */display: inline-block !important;position: relative;}#sk-container-id-2 div.sk-text-repr-fallback {display: none;}</style><div id=\"sk-container-id-2\" class=\"sk-top-container\"><div class=\"sk-text-repr-fallback\"><pre>KMeans(n_clusters=4)</pre><b>In a Jupyter environment, please rerun this cell to show the HTML representation or trust the notebook. <br />On GitHub, the HTML representation is unable to render, please try loading this page with nbviewer.org.</b></div><div class=\"sk-container\" hidden><div class=\"sk-item\"><div class=\"sk-estimator sk-toggleable\"><input class=\"sk-toggleable__control sk-hidden--visually\" id=\"sk-estimator-id-2\" type=\"checkbox\" checked><label for=\"sk-estimator-id-2\" class=\"sk-toggleable__label sk-toggleable__label-arrow\">KMeans</label><div class=\"sk-toggleable__content\"><pre>KMeans(n_clusters=4)</pre></div></div></div></div></div>"
      ],
      "text/plain": [
       "KMeans(n_clusters=4)"
      ]
     },
     "execution_count": 28,
     "metadata": {},
     "output_type": "execute_result"
    }
   ],
   "source": [
    "#significance level \n",
    "a = 0.05 \n",
    "#define x \n",
    "X = X_train_scaled_df[['ball_control', 'reactions', 'dribbling']]\n",
    "#define kmeans\n",
    "kmeans = KMeans(n_clusters=4)\n",
    "#fit \n",
    "kmeans.fit(X)"
   ]
  },
  {
   "cell_type": "code",
   "execution_count": 29,
   "id": "0a1ed652",
   "metadata": {},
   "outputs": [],
   "source": [
    "train['clusters'] = kmeans.predict(X)"
   ]
  },
  {
   "cell_type": "code",
   "execution_count": 30,
   "id": "0d8fab65",
   "metadata": {},
   "outputs": [
    {
     "data": {
      "image/png": "[encoded data removed]",
      "text/plain": [
       "<Figure size 864x432 with 1 Axes>"
      ]
     },
     "metadata": {},
     "output_type": "display_data"
    }
   ],
   "source": [
    "# Find K: evaluate best k using elbow method \n",
    "with plt.style.context('seaborn-whitegrid'):\n",
    "    plt.figure(figsize=(12, 6))\n",
    "    pd.Series({k: KMeans(k).fit(X).inertia_ for k in range(2, 15)}).plot(marker='x')\n",
    "    plt.xticks(range(2, 15))\n",
    "    plt.xlabel('k')\n",
    "    plt.ylabel('inertia')\n",
    "    plt.title('Change in inertia as k increases')"
   ]
  },
  {
   "cell_type": "code",
   "execution_count": 31,
   "id": "15da9f20",
   "metadata": {},
   "outputs": [
    {
     "data": {
      "text/html": [
       "<div>\n",
       "<style scoped>\n",
       "    .dataframe tbody tr th:only-of-type {\n",
       "        vertical-align: middle;\n",
       "    }\n",
       "\n",
       "    .dataframe tbody tr th {\n",
       "        vertical-align: top;\n",
       "    }\n",
       "\n",
       "    .dataframe thead th {\n",
       "        text-align: right;\n",
       "    }\n",
       "</style>\n",
       "<table border=\"1\" class=\"dataframe\">\n",
       "  <thead>\n",
       "    <tr style=\"text-align: right;\">\n",
       "      <th></th>\n",
       "      <th>ball_control</th>\n",
       "      <th>reactions</th>\n",
       "      <th>dribbling</th>\n",
       "    </tr>\n",
       "    <tr>\n",
       "      <th>clusters</th>\n",
       "      <th></th>\n",
       "      <th></th>\n",
       "      <th></th>\n",
       "    </tr>\n",
       "  </thead>\n",
       "  <tbody>\n",
       "    <tr>\n",
       "      <th>0</th>\n",
       "      <td>79.00</td>\n",
       "      <td>77.00</td>\n",
       "      <td>78.00</td>\n",
       "    </tr>\n",
       "    <tr>\n",
       "      <th>1</th>\n",
       "      <td>55.00</td>\n",
       "      <td>51.00</td>\n",
       "      <td>55.00</td>\n",
       "    </tr>\n",
       "    <tr>\n",
       "      <th>2</th>\n",
       "      <td>71.00</td>\n",
       "      <td>68.00</td>\n",
       "      <td>70.00</td>\n",
       "    </tr>\n",
       "    <tr>\n",
       "      <th>3</th>\n",
       "      <td>63.00</td>\n",
       "      <td>59.00</td>\n",
       "      <td>63.00</td>\n",
       "    </tr>\n",
       "  </tbody>\n",
       "</table>\n",
       "</div>"
      ],
      "text/plain": [
       "                 ball_control            reactions            dribbling\n",
       "clusters                                                               \n",
       "0                       79.00                77.00                78.00\n",
       "1                       55.00                51.00                55.00\n",
       "2                       71.00                68.00                70.00\n",
       "3                       63.00                59.00                63.00"
      ]
     },
     "execution_count": 31,
     "metadata": {},
     "output_type": "execute_result"
    }
   ],
   "source": [
    "train.groupby('clusters')[ 'ball_control', 'reactions', 'dribbling'].median()"
   ]
  },
  {
   "cell_type": "markdown",
   "id": "35a231ff",
   "metadata": {},
   "source": [
    "#### _The ANOVA test will be used to measure the significance or lack there of variance between clusters_"
   ]
  },
  {
   "cell_type": "markdown",
   "id": "a0f4b497",
   "metadata": {},
   "source": [
    " - H0: There is no significant difference between salaries of each cluster \n",
    " - HA: There is a significant difference between salaries of each cluster"
   ]
  },
  {
   "cell_type": "code",
   "execution_count": 32,
   "id": "b2225bb7",
   "metadata": {},
   "outputs": [
    {
     "name": "stdout",
     "output_type": "stream",
     "text": [
      "Anova Test Results on goalkeeper handling/diving/reflexes Cluster\n",
      "F-value:  2068.6969947516845\n",
      "p-value:  0.0\n"
     ]
    }
   ],
   "source": [
    "α = 0.05\n",
    "\n",
    "F, p = stats.f_oneway(train[train.clusters == 0].wage_eur,\n",
    "                      train[train.clusters == 1].wage_eur,\n",
    "                      train[train.clusters == 2].wage_eur,\n",
    "                      train[train.clusters == 3].wage_eur)\n",
    "\n",
    "print('Anova Test Results on goalkeeper handling/diving/reflexes Cluster')\n",
    "print('F-value: ',F)\n",
    "print('p-value: ',p)\n"
   ]
  },
  {
   "cell_type": "code",
   "execution_count": 33,
   "id": "62f27b18",
   "metadata": {},
   "outputs": [
    {
     "name": "stdout",
     "output_type": "stream",
     "text": [
      "Reject null hypothesis\n"
     ]
    }
   ],
   "source": [
    "if p < α:\n",
    "    print(f'Reject null hypothesis')\n",
    "else:\n",
    "    print(f'Fail to reject null hypothesis')"
   ]
  },
  {
   "cell_type": "code",
   "execution_count": 34,
   "id": "c55039dc",
   "metadata": {},
   "outputs": [],
   "source": [
    "forward_0 = train[train.clusters == 0]\n",
    "forward_1 = train[train.clusters == 1]\n",
    "forward_2 = train[train.clusters == 2]\n",
    "forward_3 = train[train.clusters == 3]"
   ]
  },
  {
   "cell_type": "code",
   "execution_count": 60,
   "id": "605e1cd8",
   "metadata": {},
   "outputs": [
    {
     "data": {
      "text/html": [
       "<div>\n",
       "<style scoped>\n",
       "    .dataframe tbody tr th:only-of-type {\n",
       "        vertical-align: middle;\n",
       "    }\n",
       "\n",
       "    .dataframe tbody tr th {\n",
       "        vertical-align: top;\n",
       "    }\n",
       "\n",
       "    .dataframe thead th {\n",
       "        text-align: right;\n",
       "    }\n",
       "</style>\n",
       "<table border=\"1\" class=\"dataframe\">\n",
       "  <thead>\n",
       "    <tr style=\"text-align: right;\">\n",
       "      <th></th>\n",
       "      <th>sofifa_id</th>\n",
       "      <th>short_name</th>\n",
       "      <th>player_positions</th>\n",
       "      <th>overall</th>\n",
       "      <th>potential</th>\n",
       "      <th>value_eur</th>\n",
       "      <th>wage_eur</th>\n",
       "      <th>age</th>\n",
       "      <th>height_cm</th>\n",
       "      <th>weight_kg</th>\n",
       "      <th>...</th>\n",
       "      <th>club_name_yr_sum</th>\n",
       "      <th>seniority</th>\n",
       "      <th>club_position_encoded</th>\n",
       "      <th>work_rate_encoded</th>\n",
       "      <th>preferred_foot_encoded</th>\n",
       "      <th>age_bins_encoded</th>\n",
       "      <th>weight_bins_encoded</th>\n",
       "      <th>body_type_encoded</th>\n",
       "      <th>league_encoded</th>\n",
       "      <th>clusters</th>\n",
       "    </tr>\n",
       "  </thead>\n",
       "  <tbody>\n",
       "    <tr>\n",
       "      <th>74247</th>\n",
       "      <td>214741</td>\n",
       "      <td>F. Bahamondes</td>\n",
       "      <td>RB</td>\n",
       "      <td>62</td>\n",
       "      <td>64</td>\n",
       "      <td>275,000.00</td>\n",
       "      <td>5,000.00</td>\n",
       "      <td>27</td>\n",
       "      <td>177</td>\n",
       "      <td>79</td>\n",
       "      <td>...</td>\n",
       "      <td>20,594,600.00</td>\n",
       "      <td>1</td>\n",
       "      <td>12</td>\n",
       "      <td>8</td>\n",
       "      <td>2</td>\n",
       "      <td>2</td>\n",
       "      <td>2</td>\n",
       "      <td>2</td>\n",
       "      <td>19</td>\n",
       "      <td>0</td>\n",
       "    </tr>\n",
       "    <tr>\n",
       "      <th>53627</th>\n",
       "      <td>247931</td>\n",
       "      <td>A. Van Hoorenbeeck</td>\n",
       "      <td>LB</td>\n",
       "      <td>60</td>\n",
       "      <td>69</td>\n",
       "      <td>525,000.00</td>\n",
       "      <td>2,000.00</td>\n",
       "      <td>22</td>\n",
       "      <td>187</td>\n",
       "      <td>77</td>\n",
       "      <td>...</td>\n",
       "      <td>59,524,400.00</td>\n",
       "      <td>3</td>\n",
       "      <td>22</td>\n",
       "      <td>5</td>\n",
       "      <td>1</td>\n",
       "      <td>2</td>\n",
       "      <td>2</td>\n",
       "      <td>5</td>\n",
       "      <td>13</td>\n",
       "      <td>0</td>\n",
       "    </tr>\n",
       "    <tr>\n",
       "      <th>9344</th>\n",
       "      <td>209997</td>\n",
       "      <td>K. Wimmer</td>\n",
       "      <td>CB</td>\n",
       "      <td>77</td>\n",
       "      <td>83</td>\n",
       "      <td>8,000,000.00</td>\n",
       "      <td>60,000.00</td>\n",
       "      <td>22</td>\n",
       "      <td>187</td>\n",
       "      <td>85</td>\n",
       "      <td>...</td>\n",
       "      <td>887,458,000.00</td>\n",
       "      <td>1</td>\n",
       "      <td>12</td>\n",
       "      <td>5</td>\n",
       "      <td>1</td>\n",
       "      <td>2</td>\n",
       "      <td>2</td>\n",
       "      <td>4</td>\n",
       "      <td>2</td>\n",
       "      <td>1</td>\n",
       "    </tr>\n",
       "    <tr>\n",
       "      <th>56470</th>\n",
       "      <td>143013</td>\n",
       "      <td>P. Ferrari</td>\n",
       "      <td>RB</td>\n",
       "      <td>69</td>\n",
       "      <td>69</td>\n",
       "      <td>575,000.00</td>\n",
       "      <td>9,000.00</td>\n",
       "      <td>32</td>\n",
       "      <td>169</td>\n",
       "      <td>67</td>\n",
       "      <td>...</td>\n",
       "      <td>87,643,400.00</td>\n",
       "      <td>4</td>\n",
       "      <td>17</td>\n",
       "      <td>5</td>\n",
       "      <td>2</td>\n",
       "      <td>1</td>\n",
       "      <td>1</td>\n",
       "      <td>6</td>\n",
       "      <td>1</td>\n",
       "      <td>3</td>\n",
       "    </tr>\n",
       "    <tr>\n",
       "      <th>51318</th>\n",
       "      <td>223278</td>\n",
       "      <td>E. Özgenç</td>\n",
       "      <td>RB</td>\n",
       "      <td>69</td>\n",
       "      <td>69</td>\n",
       "      <td>650,000.00</td>\n",
       "      <td>10,000.00</td>\n",
       "      <td>31</td>\n",
       "      <td>177</td>\n",
       "      <td>70</td>\n",
       "      <td>...</td>\n",
       "      <td>90,350,000.00</td>\n",
       "      <td>2</td>\n",
       "      <td>12</td>\n",
       "      <td>5</td>\n",
       "      <td>2</td>\n",
       "      <td>1</td>\n",
       "      <td>2</td>\n",
       "      <td>2</td>\n",
       "      <td>8</td>\n",
       "      <td>3</td>\n",
       "    </tr>\n",
       "  </tbody>\n",
       "</table>\n",
       "<p>5 rows × 84 columns</p>\n",
       "</div>"
      ],
      "text/plain": [
       "       sofifa_id          short_name player_positions  overall  potential  \\\n",
       "74247     214741       F. Bahamondes               RB       62         64   \n",
       "53627     247931  A. Van Hoorenbeeck               LB       60         69   \n",
       "9344      209997           K. Wimmer               CB       77         83   \n",
       "56470     143013          P. Ferrari               RB       69         69   \n",
       "51318     223278           E. Özgenç               RB       69         69   \n",
       "\n",
       "                 value_eur             wage_eur  age  height_cm  weight_kg  \\\n",
       "74247           275,000.00             5,000.00   27        177         79   \n",
       "53627           525,000.00             2,000.00   22        187         77   \n",
       "9344          8,000,000.00            60,000.00   22        187         85   \n",
       "56470           575,000.00             9,000.00   32        169         67   \n",
       "51318           650,000.00            10,000.00   31        177         70   \n",
       "\n",
       "       ...     club_name_yr_sum seniority club_position_encoded  \\\n",
       "74247  ...        20,594,600.00         1                    12   \n",
       "53627  ...        59,524,400.00         3                    22   \n",
       "9344   ...       887,458,000.00         1                    12   \n",
       "56470  ...        87,643,400.00         4                    17   \n",
       "51318  ...        90,350,000.00         2                    12   \n",
       "\n",
       "       work_rate_encoded preferred_foot_encoded age_bins_encoded  \\\n",
       "74247                  8                      2                2   \n",
       "53627                  5                      1                2   \n",
       "9344                   5                      1                2   \n",
       "56470                  5                      2                1   \n",
       "51318                  5                      2                1   \n",
       "\n",
       "      weight_bins_encoded body_type_encoded league_encoded  clusters  \n",
       "74247                   2                 2             19         0  \n",
       "53627                   2                 5             13         0  \n",
       "9344                    2                 4              2         1  \n",
       "56470                   1                 6              1         3  \n",
       "51318                   2                 2              8         3  \n",
       "\n",
       "[5 rows x 84 columns]"
      ]
     },
     "execution_count": 60,
     "metadata": {},
     "output_type": "execute_result"
    }
   ],
   "source": [
    "train.head()"
   ]
  },
  {
   "cell_type": "code",
   "execution_count": 59,
   "id": "1ef703a5",
   "metadata": {},
   "outputs": [
    {
     "data": {
      "text/html": [
       "<div>\n",
       "<style scoped>\n",
       "    .dataframe tbody tr th:only-of-type {\n",
       "        vertical-align: middle;\n",
       "    }\n",
       "\n",
       "    .dataframe tbody tr th {\n",
       "        vertical-align: top;\n",
       "    }\n",
       "\n",
       "    .dataframe thead th {\n",
       "        text-align: right;\n",
       "    }\n",
       "</style>\n",
       "<table border=\"1\" class=\"dataframe\">\n",
       "  <thead>\n",
       "    <tr style=\"text-align: right;\">\n",
       "      <th></th>\n",
       "      <th>sofifa_id</th>\n",
       "      <th>short_name</th>\n",
       "      <th>player_positions</th>\n",
       "      <th>overall</th>\n",
       "      <th>potential</th>\n",
       "      <th>value_eur</th>\n",
       "      <th>wage_eur</th>\n",
       "      <th>age</th>\n",
       "      <th>height_cm</th>\n",
       "      <th>weight_kg</th>\n",
       "      <th>...</th>\n",
       "      <th>club_name_yr_sum</th>\n",
       "      <th>seniority</th>\n",
       "      <th>club_position_encoded</th>\n",
       "      <th>work_rate_encoded</th>\n",
       "      <th>preferred_foot_encoded</th>\n",
       "      <th>age_bins_encoded</th>\n",
       "      <th>weight_bins_encoded</th>\n",
       "      <th>body_type_encoded</th>\n",
       "      <th>league_encoded</th>\n",
       "      <th>clusters</th>\n",
       "    </tr>\n",
       "  </thead>\n",
       "  <tbody>\n",
       "    <tr>\n",
       "      <th>43863</th>\n",
       "      <td>216700</td>\n",
       "      <td>M. Meza</td>\n",
       "      <td>LW, CAM, RM</td>\n",
       "      <td>77</td>\n",
       "      <td>78</td>\n",
       "      <td>10,500,000.00</td>\n",
       "      <td>45,000.00</td>\n",
       "      <td>26</td>\n",
       "      <td>180</td>\n",
       "      <td>76</td>\n",
       "      <td>...</td>\n",
       "      <td>267,852,000.00</td>\n",
       "      <td>1</td>\n",
       "      <td>3</td>\n",
       "      <td>8</td>\n",
       "      <td>2</td>\n",
       "      <td>2</td>\n",
       "      <td>2</td>\n",
       "      <td>3</td>\n",
       "      <td>10</td>\n",
       "      <td>0</td>\n",
       "    </tr>\n",
       "    <tr>\n",
       "      <th>14540</th>\n",
       "      <td>198951</td>\n",
       "      <td>C. Bakambu</td>\n",
       "      <td>ST</td>\n",
       "      <td>81</td>\n",
       "      <td>85</td>\n",
       "      <td>22,000,000.00</td>\n",
       "      <td>40,000.00</td>\n",
       "      <td>25</td>\n",
       "      <td>182</td>\n",
       "      <td>73</td>\n",
       "      <td>...</td>\n",
       "      <td>341,770,000.00</td>\n",
       "      <td>2</td>\n",
       "      <td>12</td>\n",
       "      <td>5</td>\n",
       "      <td>2</td>\n",
       "      <td>2</td>\n",
       "      <td>2</td>\n",
       "      <td>2</td>\n",
       "      <td>5</td>\n",
       "      <td>0</td>\n",
       "    </tr>\n",
       "    <tr>\n",
       "      <th>40036</th>\n",
       "      <td>192598</td>\n",
       "      <td>Ai Kesen</td>\n",
       "      <td>ST</td>\n",
       "      <td>79</td>\n",
       "      <td>79</td>\n",
       "      <td>17,000,000.00</td>\n",
       "      <td>32,000.00</td>\n",
       "      <td>30</td>\n",
       "      <td>180</td>\n",
       "      <td>77</td>\n",
       "      <td>...</td>\n",
       "      <td>53,370,200.00</td>\n",
       "      <td>2</td>\n",
       "      <td>2</td>\n",
       "      <td>9</td>\n",
       "      <td>2</td>\n",
       "      <td>1</td>\n",
       "      <td>2</td>\n",
       "      <td>9</td>\n",
       "      <td>29</td>\n",
       "      <td>0</td>\n",
       "    </tr>\n",
       "    <tr>\n",
       "      <th>14594</th>\n",
       "      <td>146011</td>\n",
       "      <td>I. Uche</td>\n",
       "      <td>ST, CF, RW</td>\n",
       "      <td>78</td>\n",
       "      <td>78</td>\n",
       "      <td>7,500,000.00</td>\n",
       "      <td>60,000.00</td>\n",
       "      <td>30</td>\n",
       "      <td>175</td>\n",
       "      <td>73</td>\n",
       "      <td>...</td>\n",
       "      <td>341,770,000.00</td>\n",
       "      <td>4</td>\n",
       "      <td>10</td>\n",
       "      <td>5</td>\n",
       "      <td>2</td>\n",
       "      <td>1</td>\n",
       "      <td>2</td>\n",
       "      <td>2</td>\n",
       "      <td>5</td>\n",
       "      <td>0</td>\n",
       "    </tr>\n",
       "    <tr>\n",
       "      <th>55314</th>\n",
       "      <td>184252</td>\n",
       "      <td>L. Pratto</td>\n",
       "      <td>ST</td>\n",
       "      <td>80</td>\n",
       "      <td>80</td>\n",
       "      <td>13,500,000.00</td>\n",
       "      <td>33,000.00</td>\n",
       "      <td>31</td>\n",
       "      <td>187</td>\n",
       "      <td>91</td>\n",
       "      <td>...</td>\n",
       "      <td>201,500,000.00</td>\n",
       "      <td>2</td>\n",
       "      <td>21</td>\n",
       "      <td>8</td>\n",
       "      <td>2</td>\n",
       "      <td>1</td>\n",
       "      <td>3</td>\n",
       "      <td>7</td>\n",
       "      <td>1</td>\n",
       "      <td>0</td>\n",
       "    </tr>\n",
       "  </tbody>\n",
       "</table>\n",
       "<p>5 rows × 84 columns</p>\n",
       "</div>"
      ],
      "text/plain": [
       "       sofifa_id  short_name player_positions  overall  potential  \\\n",
       "43863     216700     M. Meza      LW, CAM, RM       77         78   \n",
       "14540     198951  C. Bakambu               ST       81         85   \n",
       "40036     192598    Ai Kesen               ST       79         79   \n",
       "14594     146011     I. Uche       ST, CF, RW       78         78   \n",
       "55314     184252   L. Pratto               ST       80         80   \n",
       "\n",
       "                 value_eur             wage_eur  age  height_cm  weight_kg  \\\n",
       "43863        10,500,000.00            45,000.00   26        180         76   \n",
       "14540        22,000,000.00            40,000.00   25        182         73   \n",
       "40036        17,000,000.00            32,000.00   30        180         77   \n",
       "14594         7,500,000.00            60,000.00   30        175         73   \n",
       "55314        13,500,000.00            33,000.00   31        187         91   \n",
       "\n",
       "       ...     club_name_yr_sum seniority club_position_encoded  \\\n",
       "43863  ...       267,852,000.00         1                     3   \n",
       "14540  ...       341,770,000.00         2                    12   \n",
       "40036  ...        53,370,200.00         2                     2   \n",
       "14594  ...       341,770,000.00         4                    10   \n",
       "55314  ...       201,500,000.00         2                    21   \n",
       "\n",
       "       work_rate_encoded preferred_foot_encoded age_bins_encoded  \\\n",
       "43863                  8                      2                2   \n",
       "14540                  5                      2                2   \n",
       "40036                  9                      2                1   \n",
       "14594                  5                      2                1   \n",
       "55314                  8                      2                1   \n",
       "\n",
       "      weight_bins_encoded body_type_encoded league_encoded  clusters  \n",
       "43863                   2                 3             10         0  \n",
       "14540                   2                 2              5         0  \n",
       "40036                   2                 9             29         0  \n",
       "14594                   2                 2              5         0  \n",
       "55314                   3                 7              1         0  \n",
       "\n",
       "[5 rows x 84 columns]"
      ]
     },
     "execution_count": 59,
     "metadata": {},
     "output_type": "execute_result"
    }
   ],
   "source": [
    "forward_0.head()"
   ]
  },
  {
   "cell_type": "markdown",
   "id": "c286aec1",
   "metadata": {},
   "source": [
    "# Prepare Midfielders"
   ]
  },
  {
   "cell_type": "code",
   "execution_count": 35,
   "id": "379aeec4",
   "metadata": {},
   "outputs": [
    {
     "name": "stdout",
     "output_type": "stream",
     "text": [
      "Train: 24943 rows, 83 cols\n",
      "Validate: 6236 rows, 83 cols\n",
      "Test: 5503 rows, 83 cols\n"
     ]
    }
   ],
   "source": [
    "#split\n",
    "train, validate, test = prepare.split(midfielder_df)"
   ]
  },
  {
   "cell_type": "code",
   "execution_count": 36,
   "id": "ed560897",
   "metadata": {},
   "outputs": [],
   "source": [
    "#split data\n",
    "X_train = train.drop(columns=['wage_eur', 'total_wage', 'value_eur'])\n",
    "y_train = train[['wage_eur']]\n",
    "\n",
    "X_validate = validate.drop(columns=['wage_eur', 'total_wage', 'value_eur'])\n",
    "y_validate = validate[['wage_eur']]\n",
    "\n",
    "X_test = test.drop(columns=['wage_eur', 'total_wage', 'value_eur'])\n",
    "y_test = test[['wage_eur']]"
   ]
  },
  {
   "cell_type": "code",
   "execution_count": 37,
   "id": "8cde4402",
   "metadata": {},
   "outputs": [
    {
     "data": {
      "text/plain": [
       "(24943, 80)"
      ]
     },
     "execution_count": 37,
     "metadata": {},
     "output_type": "execute_result"
    }
   ],
   "source": [
    "#encode categorical variables\n",
    "encoder = ce.LeaveOneOutEncoder(return_df=True)\n",
    "X_train_loo = encoder.fit_transform(X_train, y_train)\n",
    "X_test_loo = encoder.transform(X_test)\n",
    "X_train_loo.shape"
   ]
  },
  {
   "cell_type": "code",
   "execution_count": 38,
   "id": "a9a93e3f",
   "metadata": {},
   "outputs": [
    {
     "data": {
      "text/plain": [
       "(24943, 80)"
      ]
     },
     "execution_count": 38,
     "metadata": {},
     "output_type": "execute_result"
    }
   ],
   "source": [
    "#scale data \n",
    "scaler = RobustScaler()\n",
    "X_train_scaled = scaler.fit_transform(X_train_loo, y_train)\n",
    "X_train_scaled.shape"
   ]
  },
  {
   "cell_type": "code",
   "execution_count": 39,
   "id": "4cca2a0e",
   "metadata": {},
   "outputs": [],
   "source": [
    "X_train_scaled_df = pd.DataFrame(X_train_scaled, columns=X_train.columns)"
   ]
  },
  {
   "cell_type": "markdown",
   "id": "383034c5",
   "metadata": {},
   "source": [
    "# Midfielder Cluster"
   ]
  },
  {
   "cell_type": "markdown",
   "id": "e5d93801",
   "metadata": {},
   "source": [
    "#### ANOVA test on ball_control, reactions, passing"
   ]
  },
  {
   "cell_type": "code",
   "execution_count": 40,
   "id": "73be0d5e",
   "metadata": {},
   "outputs": [
    {
     "data": {
      "text/html": [
       "<style>#sk-container-id-3 {color: black;background-color: white;}#sk-container-id-3 pre{padding: 0;}#sk-container-id-3 div.sk-toggleable {background-color: white;}#sk-container-id-3 label.sk-toggleable__label {cursor: pointer;display: block;width: 100%;margin-bottom: 0;padding: 0.3em;box-sizing: border-box;text-align: center;}#sk-container-id-3 label.sk-toggleable__label-arrow:before {content: \"▸\";float: left;margin-right: 0.25em;color: #696969;}#sk-container-id-3 label.sk-toggleable__label-arrow:hover:before {color: black;}#sk-container-id-3 div.sk-estimator:hover label.sk-toggleable__label-arrow:before {color: black;}#sk-container-id-3 div.sk-toggleable__content {max-height: 0;max-width: 0;overflow: hidden;text-align: left;background-color: #f0f8ff;}#sk-container-id-3 div.sk-toggleable__content pre {margin: 0.2em;color: black;border-radius: 0.25em;background-color: #f0f8ff;}#sk-container-id-3 input.sk-toggleable__control:checked~div.sk-toggleable__content {max-height: 200px;max-width: 100%;overflow: auto;}#sk-container-id-3 input.sk-toggleable__control:checked~label.sk-toggleable__label-arrow:before {content: \"▾\";}#sk-container-id-3 div.sk-estimator input.sk-toggleable__control:checked~label.sk-toggleable__label {background-color: #d4ebff;}#sk-container-id-3 div.sk-label input.sk-toggleable__control:checked~label.sk-toggleable__label {background-color: #d4ebff;}#sk-container-id-3 input.sk-hidden--visually {border: 0;clip: rect(1px 1px 1px 1px);clip: rect(1px, 1px, 1px, 1px);height: 1px;margin: -1px;overflow: hidden;padding: 0;position: absolute;width: 1px;}#sk-container-id-3 div.sk-estimator {font-family: monospace;background-color: #f0f8ff;border: 1px dotted black;border-radius: 0.25em;box-sizing: border-box;margin-bottom: 0.5em;}#sk-container-id-3 div.sk-estimator:hover {background-color: #d4ebff;}#sk-container-id-3 div.sk-parallel-item::after {content: \"\";width: 100%;border-bottom: 1px solid gray;flex-grow: 1;}#sk-container-id-3 div.sk-label:hover label.sk-toggleable__label {background-color: #d4ebff;}#sk-container-id-3 div.sk-serial::before {content: \"\";position: absolute;border-left: 1px solid gray;box-sizing: border-box;top: 0;bottom: 0;left: 50%;z-index: 0;}#sk-container-id-3 div.sk-serial {display: flex;flex-direction: column;align-items: center;background-color: white;padding-right: 0.2em;padding-left: 0.2em;position: relative;}#sk-container-id-3 div.sk-item {position: relative;z-index: 1;}#sk-container-id-3 div.sk-parallel {display: flex;align-items: stretch;justify-content: center;background-color: white;position: relative;}#sk-container-id-3 div.sk-item::before, #sk-container-id-3 div.sk-parallel-item::before {content: \"\";position: absolute;border-left: 1px solid gray;box-sizing: border-box;top: 0;bottom: 0;left: 50%;z-index: -1;}#sk-container-id-3 div.sk-parallel-item {display: flex;flex-direction: column;z-index: 1;position: relative;background-color: white;}#sk-container-id-3 div.sk-parallel-item:first-child::after {align-self: flex-end;width: 50%;}#sk-container-id-3 div.sk-parallel-item:last-child::after {align-self: flex-start;width: 50%;}#sk-container-id-3 div.sk-parallel-item:only-child::after {width: 0;}#sk-container-id-3 div.sk-dashed-wrapped {border: 1px dashed gray;margin: 0 0.4em 0.5em 0.4em;box-sizing: border-box;padding-bottom: 0.4em;background-color: white;}#sk-container-id-3 div.sk-label label {font-family: monospace;font-weight: bold;display: inline-block;line-height: 1.2em;}#sk-container-id-3 div.sk-label-container {text-align: center;}#sk-container-id-3 div.sk-container {/* jupyter's `normalize.less` sets `[hidden] { display: none; }` but bootstrap.min.css set `[hidden] { display: none !important; }` so we also need the `!important` here to be able to override the default hidden behavior on the sphinx rendered scikit-learn.org. See: https://github.com/scikit-learn/scikit-learn/issues/21755 */display: inline-block !important;position: relative;}#sk-container-id-3 div.sk-text-repr-fallback {display: none;}</style><div id=\"sk-container-id-3\" class=\"sk-top-container\"><div class=\"sk-text-repr-fallback\"><pre>KMeans(n_clusters=4)</pre><b>In a Jupyter environment, please rerun this cell to show the HTML representation or trust the notebook. <br />On GitHub, the HTML representation is unable to render, please try loading this page with nbviewer.org.</b></div><div class=\"sk-container\" hidden><div class=\"sk-item\"><div class=\"sk-estimator sk-toggleable\"><input class=\"sk-toggleable__control sk-hidden--visually\" id=\"sk-estimator-id-3\" type=\"checkbox\" checked><label for=\"sk-estimator-id-3\" class=\"sk-toggleable__label sk-toggleable__label-arrow\">KMeans</label><div class=\"sk-toggleable__content\"><pre>KMeans(n_clusters=4)</pre></div></div></div></div></div>"
      ],
      "text/plain": [
       "KMeans(n_clusters=4)"
      ]
     },
     "execution_count": 40,
     "metadata": {},
     "output_type": "execute_result"
    }
   ],
   "source": [
    "#significance level \n",
    "a = 0.05 \n",
    "#define x \n",
    "X = X_train_scaled_df[['ball_control', 'reactions', 'passing']]\n",
    "#define kmeans\n",
    "kmeans = KMeans(n_clusters=4)\n",
    "#fit \n",
    "kmeans.fit(X)"
   ]
  },
  {
   "cell_type": "code",
   "execution_count": 41,
   "id": "613e2b23",
   "metadata": {},
   "outputs": [],
   "source": [
    "train['clusters'] = kmeans.predict(X)"
   ]
  },
  {
   "cell_type": "code",
   "execution_count": 42,
   "id": "c6001b49",
   "metadata": {},
   "outputs": [
    {
     "data": {
      "image/png": "[encoded data removed]",
      "text/plain": [
       "<Figure size 864x432 with 1 Axes>"
      ]
     },
     "metadata": {},
     "output_type": "display_data"
    }
   ],
   "source": [
    "# Find K: evaluate best k using elbow method \n",
    "with plt.style.context('seaborn-whitegrid'):\n",
    "    plt.figure(figsize=(12, 6))\n",
    "    pd.Series({k: KMeans(k).fit(X).inertia_ for k in range(2, 15)}).plot(marker='x')\n",
    "    plt.xticks(range(2, 15))\n",
    "    plt.xlabel('k')\n",
    "    plt.ylabel('inertia')\n",
    "    plt.title('Change in inertia as k increases')"
   ]
  },
  {
   "cell_type": "code",
   "execution_count": 43,
   "id": "f84c2e55",
   "metadata": {},
   "outputs": [
    {
     "data": {
      "text/html": [
       "<div>\n",
       "<style scoped>\n",
       "    .dataframe tbody tr th:only-of-type {\n",
       "        vertical-align: middle;\n",
       "    }\n",
       "\n",
       "    .dataframe tbody tr th {\n",
       "        vertical-align: top;\n",
       "    }\n",
       "\n",
       "    .dataframe thead th {\n",
       "        text-align: right;\n",
       "    }\n",
       "</style>\n",
       "<table border=\"1\" class=\"dataframe\">\n",
       "  <thead>\n",
       "    <tr style=\"text-align: right;\">\n",
       "      <th></th>\n",
       "      <th>ball_control</th>\n",
       "      <th>reactions</th>\n",
       "      <th>passing</th>\n",
       "    </tr>\n",
       "    <tr>\n",
       "      <th>clusters</th>\n",
       "      <th></th>\n",
       "      <th></th>\n",
       "      <th></th>\n",
       "    </tr>\n",
       "  </thead>\n",
       "  <tbody>\n",
       "    <tr>\n",
       "      <th>0</th>\n",
       "      <td>64.00</td>\n",
       "      <td>60.00</td>\n",
       "      <td>59.00</td>\n",
       "    </tr>\n",
       "    <tr>\n",
       "      <th>1</th>\n",
       "      <td>71.00</td>\n",
       "      <td>67.00</td>\n",
       "      <td>66.00</td>\n",
       "    </tr>\n",
       "    <tr>\n",
       "      <th>2</th>\n",
       "      <td>56.00</td>\n",
       "      <td>51.00</td>\n",
       "      <td>52.00</td>\n",
       "    </tr>\n",
       "    <tr>\n",
       "      <th>3</th>\n",
       "      <td>78.00</td>\n",
       "      <td>75.00</td>\n",
       "      <td>74.00</td>\n",
       "    </tr>\n",
       "  </tbody>\n",
       "</table>\n",
       "</div>"
      ],
      "text/plain": [
       "                 ball_control            reactions              passing\n",
       "clusters                                                               \n",
       "0                       64.00                60.00                59.00\n",
       "1                       71.00                67.00                66.00\n",
       "2                       56.00                51.00                52.00\n",
       "3                       78.00                75.00                74.00"
      ]
     },
     "execution_count": 43,
     "metadata": {},
     "output_type": "execute_result"
    }
   ],
   "source": [
    "train.groupby('clusters')[ 'ball_control', 'reactions', 'passing'].median()"
   ]
  },
  {
   "cell_type": "markdown",
   "id": "23edfb8a",
   "metadata": {},
   "source": [
    "#### _The ANOVA test will be used to measure the significance or lack there of variance between clusters_"
   ]
  },
  {
   "cell_type": "markdown",
   "id": "07d9adae",
   "metadata": {},
   "source": [
    " - H0: There is no significant difference between salaries of each cluster \n",
    " - HA: There is a significant difference between salaries of each cluster"
   ]
  },
  {
   "cell_type": "code",
   "execution_count": 44,
   "id": "8fc2b0ba",
   "metadata": {},
   "outputs": [
    {
     "name": "stdout",
     "output_type": "stream",
     "text": [
      "Anova Test Results on goalkeeper handling/diving/reflexes Cluster\n",
      "F-value:  5364.360909423364\n",
      "p-value:  0.0\n"
     ]
    }
   ],
   "source": [
    "α = 0.05\n",
    "\n",
    "F, p = stats.f_oneway(train[train.clusters == 0].wage_eur,\n",
    "                      train[train.clusters == 1].wage_eur,\n",
    "                      train[train.clusters == 2].wage_eur,\n",
    "                      train[train.clusters == 3].wage_eur)\n",
    "\n",
    "print('Anova Test Results on goalkeeper handling/diving/reflexes Cluster')\n",
    "print('F-value: ',F)\n",
    "print('p-value: ',p)"
   ]
  },
  {
   "cell_type": "code",
   "execution_count": 45,
   "id": "ffdf54b4",
   "metadata": {},
   "outputs": [
    {
     "name": "stdout",
     "output_type": "stream",
     "text": [
      "Reject null hypothesis\n"
     ]
    }
   ],
   "source": [
    "if p < α:\n",
    "    print(f'Reject null hypothesis')\n",
    "else:\n",
    "    print(f'Fail to reject null hypothesis')"
   ]
  },
  {
   "cell_type": "code",
   "execution_count": 46,
   "id": "b8519bc0",
   "metadata": {},
   "outputs": [],
   "source": [
    "midfielder_0 = train[train.clusters == 0]\n",
    "midfielder_1 = train[train.clusters == 1]\n",
    "midfielder_2 = train[train.clusters == 2]\n",
    "midfielder_3 = train[train.clusters == 3]"
   ]
  },
  {
   "cell_type": "markdown",
   "id": "2cb86220",
   "metadata": {},
   "source": [
    "# Prepare Defenders"
   ]
  },
  {
   "cell_type": "code",
   "execution_count": 47,
   "id": "6e459a80",
   "metadata": {},
   "outputs": [
    {
     "name": "stdout",
     "output_type": "stream",
     "text": [
      "Train: 21936 rows, 83 cols\n",
      "Validate: 5485 rows, 83 cols\n",
      "Test: 4840 rows, 83 cols\n"
     ]
    }
   ],
   "source": [
    "#split\n",
    "train, validate, test = prepare.split(defender_df)"
   ]
  },
  {
   "cell_type": "code",
   "execution_count": 48,
   "id": "0711cf6b",
   "metadata": {},
   "outputs": [],
   "source": [
    "#split data\n",
    "X_train = train.drop(columns=['wage_eur', 'total_wage', 'value_eur'])\n",
    "y_train = train[['wage_eur']]\n",
    "\n",
    "X_validate = validate.drop(columns=['wage_eur', 'total_wage', 'value_eur'])\n",
    "y_validate = validate[['wage_eur']]\n",
    "\n",
    "X_test = test.drop(columns=['wage_eur', 'total_wage', 'value_eur'])\n",
    "y_test = test[['wage_eur']]"
   ]
  },
  {
   "cell_type": "code",
   "execution_count": 49,
   "id": "764ff74e",
   "metadata": {},
   "outputs": [
    {
     "data": {
      "text/plain": [
       "(21936, 80)"
      ]
     },
     "execution_count": 49,
     "metadata": {},
     "output_type": "execute_result"
    }
   ],
   "source": [
    "#encode categorical variables\n",
    "encoder = ce.LeaveOneOutEncoder(return_df=True)\n",
    "X_train_loo = encoder.fit_transform(X_train, y_train)\n",
    "X_test_loo = encoder.transform(X_test)\n",
    "X_train_loo.shape"
   ]
  },
  {
   "cell_type": "code",
   "execution_count": 50,
   "id": "e48aa41a",
   "metadata": {},
   "outputs": [
    {
     "data": {
      "text/plain": [
       "(21936, 80)"
      ]
     },
     "execution_count": 50,
     "metadata": {},
     "output_type": "execute_result"
    }
   ],
   "source": [
    "#scale data \n",
    "scaler = RobustScaler()\n",
    "X_train_scaled = scaler.fit_transform(X_train_loo, y_train)\n",
    "X_train_scaled.shape"
   ]
  },
  {
   "cell_type": "code",
   "execution_count": 51,
   "id": "4c3839bf",
   "metadata": {},
   "outputs": [],
   "source": [
    "X_train_scaled_df = pd.DataFrame(X_train_scaled, columns=X_train.columns)"
   ]
  },
  {
   "cell_type": "markdown",
   "id": "00026a09",
   "metadata": {},
   "source": [
    "# Defender Clusters "
   ]
  },
  {
   "cell_type": "markdown",
   "id": "1c53a18c",
   "metadata": {},
   "source": [
    "#### ANOVA test on marking, potential, short_passing"
   ]
  },
  {
   "cell_type": "code",
   "execution_count": 52,
   "id": "49322f9d",
   "metadata": {},
   "outputs": [
    {
     "data": {
      "text/html": [
       "<style>#sk-container-id-4 {color: black;background-color: white;}#sk-container-id-4 pre{padding: 0;}#sk-container-id-4 div.sk-toggleable {background-color: white;}#sk-container-id-4 label.sk-toggleable__label {cursor: pointer;display: block;width: 100%;margin-bottom: 0;padding: 0.3em;box-sizing: border-box;text-align: center;}#sk-container-id-4 label.sk-toggleable__label-arrow:before {content: \"▸\";float: left;margin-right: 0.25em;color: #696969;}#sk-container-id-4 label.sk-toggleable__label-arrow:hover:before {color: black;}#sk-container-id-4 div.sk-estimator:hover label.sk-toggleable__label-arrow:before {color: black;}#sk-container-id-4 div.sk-toggleable__content {max-height: 0;max-width: 0;overflow: hidden;text-align: left;background-color: #f0f8ff;}#sk-container-id-4 div.sk-toggleable__content pre {margin: 0.2em;color: black;border-radius: 0.25em;background-color: #f0f8ff;}#sk-container-id-4 input.sk-toggleable__control:checked~div.sk-toggleable__content {max-height: 200px;max-width: 100%;overflow: auto;}#sk-container-id-4 input.sk-toggleable__control:checked~label.sk-toggleable__label-arrow:before {content: \"▾\";}#sk-container-id-4 div.sk-estimator input.sk-toggleable__control:checked~label.sk-toggleable__label {background-color: #d4ebff;}#sk-container-id-4 div.sk-label input.sk-toggleable__control:checked~label.sk-toggleable__label {background-color: #d4ebff;}#sk-container-id-4 input.sk-hidden--visually {border: 0;clip: rect(1px 1px 1px 1px);clip: rect(1px, 1px, 1px, 1px);height: 1px;margin: -1px;overflow: hidden;padding: 0;position: absolute;width: 1px;}#sk-container-id-4 div.sk-estimator {font-family: monospace;background-color: #f0f8ff;border: 1px dotted black;border-radius: 0.25em;box-sizing: border-box;margin-bottom: 0.5em;}#sk-container-id-4 div.sk-estimator:hover {background-color: #d4ebff;}#sk-container-id-4 div.sk-parallel-item::after {content: \"\";width: 100%;border-bottom: 1px solid gray;flex-grow: 1;}#sk-container-id-4 div.sk-label:hover label.sk-toggleable__label {background-color: #d4ebff;}#sk-container-id-4 div.sk-serial::before {content: \"\";position: absolute;border-left: 1px solid gray;box-sizing: border-box;top: 0;bottom: 0;left: 50%;z-index: 0;}#sk-container-id-4 div.sk-serial {display: flex;flex-direction: column;align-items: center;background-color: white;padding-right: 0.2em;padding-left: 0.2em;position: relative;}#sk-container-id-4 div.sk-item {position: relative;z-index: 1;}#sk-container-id-4 div.sk-parallel {display: flex;align-items: stretch;justify-content: center;background-color: white;position: relative;}#sk-container-id-4 div.sk-item::before, #sk-container-id-4 div.sk-parallel-item::before {content: \"\";position: absolute;border-left: 1px solid gray;box-sizing: border-box;top: 0;bottom: 0;left: 50%;z-index: -1;}#sk-container-id-4 div.sk-parallel-item {display: flex;flex-direction: column;z-index: 1;position: relative;background-color: white;}#sk-container-id-4 div.sk-parallel-item:first-child::after {align-self: flex-end;width: 50%;}#sk-container-id-4 div.sk-parallel-item:last-child::after {align-self: flex-start;width: 50%;}#sk-container-id-4 div.sk-parallel-item:only-child::after {width: 0;}#sk-container-id-4 div.sk-dashed-wrapped {border: 1px dashed gray;margin: 0 0.4em 0.5em 0.4em;box-sizing: border-box;padding-bottom: 0.4em;background-color: white;}#sk-container-id-4 div.sk-label label {font-family: monospace;font-weight: bold;display: inline-block;line-height: 1.2em;}#sk-container-id-4 div.sk-label-container {text-align: center;}#sk-container-id-4 div.sk-container {/* jupyter's `normalize.less` sets `[hidden] { display: none; }` but bootstrap.min.css set `[hidden] { display: none !important; }` so we also need the `!important` here to be able to override the default hidden behavior on the sphinx rendered scikit-learn.org. See: https://github.com/scikit-learn/scikit-learn/issues/21755 */display: inline-block !important;position: relative;}#sk-container-id-4 div.sk-text-repr-fallback {display: none;}</style><div id=\"sk-container-id-4\" class=\"sk-top-container\"><div class=\"sk-text-repr-fallback\"><pre>KMeans(n_clusters=4)</pre><b>In a Jupyter environment, please rerun this cell to show the HTML representation or trust the notebook. <br />On GitHub, the HTML representation is unable to render, please try loading this page with nbviewer.org.</b></div><div class=\"sk-container\" hidden><div class=\"sk-item\"><div class=\"sk-estimator sk-toggleable\"><input class=\"sk-toggleable__control sk-hidden--visually\" id=\"sk-estimator-id-4\" type=\"checkbox\" checked><label for=\"sk-estimator-id-4\" class=\"sk-toggleable__label sk-toggleable__label-arrow\">KMeans</label><div class=\"sk-toggleable__content\"><pre>KMeans(n_clusters=4)</pre></div></div></div></div></div>"
      ],
      "text/plain": [
       "KMeans(n_clusters=4)"
      ]
     },
     "execution_count": 52,
     "metadata": {},
     "output_type": "execute_result"
    }
   ],
   "source": [
    "#significance level \n",
    "a = 0.05 \n",
    "#define x \n",
    "X = X_train_scaled_df[['marking', 'potential', 'short_passing']]\n",
    "#define kmeans\n",
    "kmeans = KMeans(n_clusters=4)\n",
    "#fit \n",
    "kmeans.fit(X)"
   ]
  },
  {
   "cell_type": "code",
   "execution_count": 53,
   "id": "7eabcae3",
   "metadata": {},
   "outputs": [],
   "source": [
    "train['clusters'] = kmeans.predict(X)"
   ]
  },
  {
   "cell_type": "code",
   "execution_count": 54,
   "id": "61cd5779",
   "metadata": {},
   "outputs": [
    {
     "data": {
      "image/png": "[encoded data removed]",
      "text/plain": [
       "<Figure size 864x432 with 1 Axes>"
      ]
     },
     "metadata": {},
     "output_type": "display_data"
    }
   ],
   "source": [
    "# Find K: evaluate best k using elbow method \n",
    "with plt.style.context('seaborn-whitegrid'):\n",
    "    plt.figure(figsize=(12, 6))\n",
    "    pd.Series({k: KMeans(k).fit(X).inertia_ for k in range(2, 15)}).plot(marker='x')\n",
    "    plt.xticks(range(2, 15))\n",
    "    plt.xlabel('k')\n",
    "    plt.ylabel('inertia')\n",
    "    plt.title('Change in inertia as k increases')"
   ]
  },
  {
   "cell_type": "code",
   "execution_count": 55,
   "id": "ca1810bb",
   "metadata": {},
   "outputs": [
    {
     "data": {
      "text/html": [
       "<div>\n",
       "<style scoped>\n",
       "    .dataframe tbody tr th:only-of-type {\n",
       "        vertical-align: middle;\n",
       "    }\n",
       "\n",
       "    .dataframe tbody tr th {\n",
       "        vertical-align: top;\n",
       "    }\n",
       "\n",
       "    .dataframe thead th {\n",
       "        text-align: right;\n",
       "    }\n",
       "</style>\n",
       "<table border=\"1\" class=\"dataframe\">\n",
       "  <thead>\n",
       "    <tr style=\"text-align: right;\">\n",
       "      <th></th>\n",
       "      <th>ball_control</th>\n",
       "      <th>reactions</th>\n",
       "      <th>passing</th>\n",
       "    </tr>\n",
       "    <tr>\n",
       "      <th>clusters</th>\n",
       "      <th></th>\n",
       "      <th></th>\n",
       "      <th></th>\n",
       "    </tr>\n",
       "  </thead>\n",
       "  <tbody>\n",
       "    <tr>\n",
       "      <th>0</th>\n",
       "      <td>56.00</td>\n",
       "      <td>57.00</td>\n",
       "      <td>51.00</td>\n",
       "    </tr>\n",
       "    <tr>\n",
       "      <th>1</th>\n",
       "      <td>69.00</td>\n",
       "      <td>73.00</td>\n",
       "      <td>64.00</td>\n",
       "    </tr>\n",
       "    <tr>\n",
       "      <th>2</th>\n",
       "      <td>41.00</td>\n",
       "      <td>51.00</td>\n",
       "      <td>35.00</td>\n",
       "    </tr>\n",
       "    <tr>\n",
       "      <th>3</th>\n",
       "      <td>61.00</td>\n",
       "      <td>64.00</td>\n",
       "      <td>56.00</td>\n",
       "    </tr>\n",
       "  </tbody>\n",
       "</table>\n",
       "</div>"
      ],
      "text/plain": [
       "                 ball_control            reactions              passing\n",
       "clusters                                                               \n",
       "0                       56.00                57.00                51.00\n",
       "1                       69.00                73.00                64.00\n",
       "2                       41.00                51.00                35.00\n",
       "3                       61.00                64.00                56.00"
      ]
     },
     "execution_count": 55,
     "metadata": {},
     "output_type": "execute_result"
    }
   ],
   "source": [
    "train.groupby('clusters')[ 'ball_control', 'reactions', 'passing'].median()"
   ]
  },
  {
   "cell_type": "markdown",
   "id": "b5f2fef0",
   "metadata": {},
   "source": [
    "#### _The ANOVA test will be used to measure the significance or lack there of variance between clusters_"
   ]
  },
  {
   "cell_type": "markdown",
   "id": "02a65c59",
   "metadata": {},
   "source": [
    " - H0: There is no significant difference between salaries of each cluster \n",
    " - HA: There is a significant difference between salaries of each cluster"
   ]
  },
  {
   "cell_type": "code",
   "execution_count": 56,
   "id": "dc605351",
   "metadata": {},
   "outputs": [
    {
     "name": "stdout",
     "output_type": "stream",
     "text": [
      "Anova Test Results on goalkeeper handling/diving/reflexes Cluster\n",
      "F-value:  4762.5344713075665\n",
      "p-value:  0.0\n"
     ]
    }
   ],
   "source": [
    "α = 0.05\n",
    "\n",
    "F, p = stats.f_oneway(train[train.clusters == 0].wage_eur,\n",
    "                      train[train.clusters == 1].wage_eur,\n",
    "                      train[train.clusters == 2].wage_eur,\n",
    "                      train[train.clusters == 3].wage_eur)\n",
    "\n",
    "print('Anova Test Results on goalkeeper handling/diving/reflexes Cluster')\n",
    "print('F-value: ',F)\n",
    "print('p-value: ',p)"
   ]
  },
  {
   "cell_type": "code",
   "execution_count": 57,
   "id": "e07fe821",
   "metadata": {},
   "outputs": [
    {
     "name": "stdout",
     "output_type": "stream",
     "text": [
      "Reject null hypothesis\n"
     ]
    }
   ],
   "source": [
    "if p < α:\n",
    "    print(f'Reject null hypothesis')\n",
    "else:\n",
    "    print(f'Fail to reject null hypothesis')"
   ]
  },
  {
   "cell_type": "code",
   "execution_count": 58,
   "id": "d1d6f51d",
   "metadata": {},
   "outputs": [],
   "source": [
    "defender_0 = train[train.clusters == 0]\n",
    "defender_1 = train[train.clusters == 1]\n",
    "defender_2 = train[train.clusters == 2]\n",
    "defender_3 = train[train.clusters == 3]"
   ]
  },
  {
   "cell_type": "code",
   "execution_count": null,
   "id": "c52c25c3",
   "metadata": {},
   "outputs": [],
   "source": []
  },
  {
   "cell_type": "markdown",
   "id": "abe87021",
   "metadata": {},
   "source": [
    "# Goalkeeping Model"
   ]
  },
  {
   "cell_type": "markdown",
   "id": "16ee92e8",
   "metadata": {},
   "source": [
    "#### Tweedie Regression Model (GLM)"
   ]
  },
  {
   "cell_type": "code",
   "execution_count": null,
   "id": "d8ed652c",
   "metadata": {},
   "outputs": [],
   "source": [
    "# create the model object\n",
    "glm = TweedieRegressor(power=1, alpha=0)\n",
    "\n",
    "# fit the model to our training data. We must specify the column in y_train, \n",
    "# since we have converted it to a dataframe from a series! \n",
    "glm.fit(X_train_scaled, y_train.wage_eur)\n",
    "\n",
    "# predict train\n",
    "y_train['wage_eur_pred_glm'] = glm.predict(X_train_scaled)\n",
    "\n",
    "# evaluate: rmse\n",
    "rmse_train_glm = mean_squared_error(y_train.wage_eur, y_train.wage_eur_pred_glm)**(1/2)\n",
    "\n",
    "# predict validate\n",
    "y_validate['wage_eur_pred_glm'] = glm.predict(X_validate_scaled)\n",
    "\n",
    "# evaluate: rmse\n",
    "rmse_validate_glm = mean_squared_error(y_validate.wage_eur, y_validate.wage_eur_pred_glm)**(1/2)\n",
    "\n",
    "print(\"RMSE for GLM using Tweedie, power=1 & alpha=0\\nTraining/In-Sample: \", f'{rmse_train:.2f}', \n",
    "      \"\\nValidation/Out-of-Sample: \", f'{rmse_validate_glm:.2f}')"
   ]
  },
  {
   "cell_type": "code",
   "execution_count": null,
   "id": "a99944cc",
   "metadata": {},
   "outputs": [],
   "source": [
    "#residuals\n",
    "y_train['glm_residuals'] = y_train['wage_eur_pred_glm'] - y_train['wage_eur']\n",
    "y_validate['glm_residuals'] = y_validate['wage_eur_pred_glm'] - y_validate['wage_eur']"
   ]
  },
  {
   "cell_type": "code",
   "execution_count": null,
   "id": "6d6862b1",
   "metadata": {},
   "outputs": [],
   "source": []
  },
  {
   "cell_type": "code",
   "execution_count": null,
   "id": "ed6be110",
   "metadata": {},
   "outputs": [],
   "source": []
  },
  {
   "cell_type": "code",
   "execution_count": null,
   "id": "dd3f5f58",
   "metadata": {},
   "outputs": [],
   "source": []
  },
  {
   "cell_type": "code",
   "execution_count": null,
   "id": "26e95336",
   "metadata": {},
   "outputs": [],
   "source": []
  },
  {
   "cell_type": "code",
   "execution_count": null,
   "id": "035a72ec",
   "metadata": {},
   "outputs": [],
   "source": []
  },
  {
   "cell_type": "code",
   "execution_count": null,
   "id": "fb56430c",
   "metadata": {},
   "outputs": [],
   "source": []
  },
  {
   "cell_type": "code",
   "execution_count": null,
   "id": "e3dcdf19",
   "metadata": {},
   "outputs": [],
   "source": []
  },
  {
   "cell_type": "code",
   "execution_count": null,
   "id": "7e7e0387",
   "metadata": {},
   "outputs": [],
   "source": []
  },
  {
   "cell_type": "code",
   "execution_count": null,
   "id": "f2348ba7",
   "metadata": {},
   "outputs": [],
   "source": []
  },
  {
   "cell_type": "code",
   "execution_count": null,
   "id": "cbc5c3df",
   "metadata": {},
   "outputs": [],
   "source": []
  },
  {
   "cell_type": "code",
   "execution_count": null,
   "id": "9f2eaf6a",
   "metadata": {},
   "outputs": [],
   "source": []
  },
  {
   "cell_type": "code",
   "execution_count": null,
   "id": "80582f68",
   "metadata": {},
   "outputs": [],
   "source": []
  },
  {
   "cell_type": "code",
   "execution_count": null,
   "id": "d13b26f9",
   "metadata": {},
   "outputs": [],
   "source": []
  },
  {
   "cell_type": "code",
   "execution_count": null,
   "id": "93054df5",
   "metadata": {},
   "outputs": [],
   "source": []
  },
  {
   "cell_type": "code",
   "execution_count": null,
   "id": "0356372b",
   "metadata": {},
   "outputs": [],
   "source": []
  },
  {
   "cell_type": "code",
   "execution_count": null,
   "id": "ea10aa47",
   "metadata": {},
   "outputs": [],
   "source": []
  },
  {
   "cell_type": "code",
   "execution_count": null,
   "id": "954f98f1",
   "metadata": {},
   "outputs": [],
   "source": []
  },
  {
   "cell_type": "code",
   "execution_count": null,
   "id": "5f38c3ad",
   "metadata": {},
   "outputs": [],
   "source": []
  },
  {
   "cell_type": "code",
   "execution_count": null,
   "id": "645573a7",
   "metadata": {},
   "outputs": [],
   "source": []
  },
  {
   "cell_type": "code",
   "execution_count": null,
   "id": "d9f73054",
   "metadata": {},
   "outputs": [],
   "source": []
  },
  {
   "cell_type": "code",
   "execution_count": null,
   "id": "07a415eb",
   "metadata": {},
   "outputs": [],
   "source": []
  },
  {
   "cell_type": "code",
   "execution_count": null,
   "id": "90ea20d5",
   "metadata": {},
   "outputs": [],
   "source": []
  },
  {
   "cell_type": "code",
   "execution_count": null,
   "id": "13832e00",
   "metadata": {},
   "outputs": [],
   "source": []
  },
  {
   "cell_type": "code",
   "execution_count": null,
   "id": "cdf61a08",
   "metadata": {},
   "outputs": [],
   "source": []
  },
  {
   "cell_type": "code",
   "execution_count": null,
   "id": "8d271add",
   "metadata": {},
   "outputs": [],
   "source": []
  },
  {
   "cell_type": "code",
   "execution_count": null,
   "id": "32783fc4",
   "metadata": {},
   "outputs": [],
   "source": []
  },
  {
   "cell_type": "code",
   "execution_count": null,
   "id": "42efa447",
   "metadata": {},
   "outputs": [],
   "source": []
  },
  {
   "cell_type": "code",
   "execution_count": null,
   "id": "7c3c1ad1",
   "metadata": {},
   "outputs": [],
   "source": []
  },
  {
   "cell_type": "code",
   "execution_count": null,
   "id": "b6c4358e",
   "metadata": {},
   "outputs": [],
   "source": []
  },
  {
   "cell_type": "code",
   "execution_count": null,
   "id": "14b867d8",
   "metadata": {},
   "outputs": [],
   "source": []
  },
  {
   "cell_type": "code",
   "execution_count": null,
   "id": "684b55a4",
   "metadata": {},
   "outputs": [],
   "source": []
  },
  {
   "cell_type": "code",
   "execution_count": null,
   "id": "77db6572",
   "metadata": {},
   "outputs": [],
   "source": []
  }
 ],
 "metadata": {
  "kernelspec": {
   "display_name": "Python 3 (ipykernel)",
   "language": "python",
   "name": "python3"
  },
  "language_info": {
   "codemirror_mode": {
    "name": "ipython",
    "version": 3
   },
   "file_extension": ".py",
   "mimetype": "text/x-python",
   "name": "python",
   "nbconvert_exporter": "python",
   "pygments_lexer": "ipython3",
   "version": "3.9.7"
  }
 },
 "nbformat": 4,
 "nbformat_minor": 5
}
