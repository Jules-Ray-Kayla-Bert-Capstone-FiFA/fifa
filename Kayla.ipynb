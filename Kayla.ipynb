{
 "cells": [
  {
   "cell_type": "code",
   "execution_count": 56,
   "id": "0d58fe1d",
   "metadata": {},
   "outputs": [
    {
     "name": "stdout",
     "output_type": "stream",
     "text": [
      "Collecting category_encoders\n",
      "  Downloading category_encoders-2.5.0-py2.py3-none-any.whl (69 kB)\n",
      "\u001b[2K     \u001b[90m━━━━━━━━━━━━━━━━━━━━━━━━━━━━━━━━━━━━━━━\u001b[0m \u001b[32m69.1/69.1 kB\u001b[0m \u001b[31m746.1 kB/s\u001b[0m eta \u001b[36m0:00:00\u001b[0ma \u001b[36m0:00:01\u001b[0m\n",
      "\u001b[?25hRequirement already satisfied: scipy>=1.0.0 in /usr/local/anaconda3/lib/python3.9/site-packages (from category_encoders) (1.7.1)\n",
      "Requirement already satisfied: pandas>=1.0.5 in /usr/local/anaconda3/lib/python3.9/site-packages (from category_encoders) (1.3.4)\n",
      "Requirement already satisfied: statsmodels>=0.9.0 in /usr/local/anaconda3/lib/python3.9/site-packages (from category_encoders) (0.12.2)\n",
      "Requirement already satisfied: numpy>=1.14.0 in /usr/local/anaconda3/lib/python3.9/site-packages (from category_encoders) (1.20.3)\n",
      "Requirement already satisfied: patsy>=0.5.1 in /usr/local/anaconda3/lib/python3.9/site-packages (from category_encoders) (0.5.2)\n",
      "Requirement already satisfied: scikit-learn>=0.20.0 in /usr/local/anaconda3/lib/python3.9/site-packages (from category_encoders) (1.1.1)\n",
      "Requirement already satisfied: python-dateutil>=2.7.3 in /usr/local/anaconda3/lib/python3.9/site-packages (from pandas>=1.0.5->category_encoders) (2.8.2)\n",
      "Requirement already satisfied: pytz>=2017.3 in /usr/local/anaconda3/lib/python3.9/site-packages (from pandas>=1.0.5->category_encoders) (2021.3)\n",
      "Requirement already satisfied: six in /usr/local/anaconda3/lib/python3.9/site-packages (from patsy>=0.5.1->category_encoders) (1.16.0)\n",
      "Requirement already satisfied: threadpoolctl>=2.0.0 in /usr/local/anaconda3/lib/python3.9/site-packages (from scikit-learn>=0.20.0->category_encoders) (2.2.0)\n",
      "Requirement already satisfied: joblib>=1.0.0 in /usr/local/anaconda3/lib/python3.9/site-packages (from scikit-learn>=0.20.0->category_encoders) (1.1.0)\n",
      "Installing collected packages: category_encoders\n",
      "Successfully installed category_encoders-2.5.0\n",
      "\n",
      "\u001b[1m[\u001b[0m\u001b[34;49mnotice\u001b[0m\u001b[1;39;49m]\u001b[0m\u001b[39;49m A new release of pip available: \u001b[0m\u001b[31;49m22.1.2\u001b[0m\u001b[39;49m -> \u001b[0m\u001b[32;49m22.2.2\u001b[0m\n",
      "\u001b[1m[\u001b[0m\u001b[34;49mnotice\u001b[0m\u001b[1;39;49m]\u001b[0m\u001b[39;49m To update, run: \u001b[0m\u001b[32;49mpip install --upgrade pip\u001b[0m\n",
      "Note: you may need to restart the kernel to use updated packages.\n"
     ]
    }
   ],
   "source": [
    "pip install category_encoders"
   ]
  },
  {
   "cell_type": "code",
   "execution_count": 57,
   "id": "aaca1a7c",
   "metadata": {},
   "outputs": [],
   "source": [
    "# STANDARD LIBRARIES\n",
    "import os\n",
    "import warnings\n",
    "warnings.filterwarnings(\"ignore\")\n",
    "\n",
    "# THIRD PARTY LIBRARIES\n",
    "import numpy as np\n",
    "import matplotlib.pyplot as plt\n",
    "import pandas as pd\n",
    "import seaborn as sns\n",
    "import pydataset\n",
    "import scipy.stats as stats\n",
    "import category_encoders as ce\n",
    "\n",
    "#statistical tests\n",
    "from scipy import stats\n",
    "from scipy.stats import pearsonr, spearmanr\n",
    "\n",
    "\n",
    "\n",
    "# default pandas decimal number display format\n",
    "pd.options.display.float_format = '{:20,.2f}'.format\n",
    "from sklearn import preprocessing\n",
    "\n",
    "from sklearn.model_selection import train_test_split\n",
    "from sklearn.impute import SimpleImputer\n",
    "from sklearn.feature_selection import RFE\n",
    "from sklearn.metrics import mean_squared_error\n",
    "from sklearn.preprocessing import MinMaxScaler\n",
    "import sklearn.linear_model\n",
    "import sklearn.feature_selection\n",
    "import sklearn.preprocessing\n",
    "from sklearn.feature_selection import SelectKBest, f_regression\n",
    "from sklearn.linear_model import LinearRegression, LassoLars, TweedieRegressor\n",
    "from sklearn.preprocessing import PolynomialFeatures\n",
    "import plotly.express as px\n",
    "from sklearn.cluster import KMeans\n",
    "from sklearn.feature_selection import RFE\n",
    "import matplotlib\n",
    "from sklearn.preprocessing import MinMaxScaler, StandardScaler, RobustScaler, QuantileTransformer\n",
    "from math import sqrt"
   ]
  },
  {
   "cell_type": "code",
   "execution_count": 2,
   "id": "92d518bd",
   "metadata": {},
   "outputs": [],
   "source": [
    "import acquire \n",
    "import prepare"
   ]
  },
  {
   "cell_type": "code",
   "execution_count": 3,
   "id": "73621878",
   "metadata": {},
   "outputs": [],
   "source": [
    "df = acquire.get_fifa_data()"
   ]
  },
  {
   "cell_type": "code",
   "execution_count": 4,
   "id": "a3cd7a20",
   "metadata": {},
   "outputs": [
    {
     "name": "stdout",
     "output_type": "stream",
     "text": [
      "Before dropping nulls, 20700 rows, 111 cols\n",
      "After dropping nulls. 19457 rows. 66 cols\n",
      "After cleaning the data and adding additional columns there are: 15373 rows. 80 cols\n"
     ]
    }
   ],
   "source": [
    "df = prepare.prepped_data(df)"
   ]
  },
  {
   "cell_type": "markdown",
   "id": "f735bb8c",
   "metadata": {},
   "source": [
    "# Step 1: Assign all player positions to a dataframe"
   ]
  },
  {
   "cell_type": "code",
   "execution_count": 5,
   "id": "8decc968",
   "metadata": {},
   "outputs": [],
   "source": [
    "#GK\n",
    "goalkeepers = df[(df.club_position == 'GK')]"
   ]
  },
  {
   "cell_type": "code",
   "execution_count": 7,
   "id": "902e0f9f",
   "metadata": {},
   "outputs": [],
   "source": [
    "#ST, RS, LS, LW, RW, LF, CF\n",
    "forwards = df[(df.club_position == 'ST') | (df.club_position == 'RS') | (df.club_position == 'LS') | (df.club_position == 'LW') | (df.club_position == 'RW') | (df.club_position == 'LF') | (df.club_position == 'CF')]\n"
   ]
  },
  {
   "cell_type": "code",
   "execution_count": 8,
   "id": "c08429f1",
   "metadata": {},
   "outputs": [],
   "source": [
    "#LCM, RCM, RM, LM, CAM, LDM, RDM, CDM, LAM, RAM \n",
    "midfielders = df[(df.club_position == 'LCM') | (df.club_position == 'RCM') | (df.club_position == 'RM') | (df.club_position == 'LM') | (df.club_position == 'CAM') | (df.club_position == 'LDM') | (df.club_position == 'RDM') | (df.club_position == 'CDM') | (df.club_position == 'LAM') | (df.club_position == 'RAM')] \n"
   ]
  },
  {
   "cell_type": "code",
   "execution_count": 9,
   "id": "95c6dfed",
   "metadata": {},
   "outputs": [],
   "source": [
    "#RCB, LCB, LB, RB, CB, RWB, LWB\n",
    "defenders = df[(df.club_position == 'RCB') | (df.club_position == 'LCB') | (df.club_position == 'LB') | (df.club_position == 'RB') | (df.club_position == 'CB') | (df.club_position == 'RWB') | (df.club_position == 'LWB')]"
   ]
  },
  {
   "cell_type": "code",
   "execution_count": 10,
   "id": "0c1962e2",
   "metadata": {},
   "outputs": [],
   "source": [
    "reserve = df[df.club_position == 'RES']\n",
    "substitute = df[df.club_position == 'SUB']"
   ]
  },
  {
   "cell_type": "markdown",
   "id": "a930e7b2",
   "metadata": {},
   "source": [
    "# Step 2: Separate RESERVE Player dataframe by player position"
   ]
  },
  {
   "cell_type": "code",
   "execution_count": 15,
   "id": "22a8139b",
   "metadata": {},
   "outputs": [],
   "source": [
    "reserve['player_positions'] = reserve['player_positions'].str.split(',').str[0]"
   ]
  },
  {
   "cell_type": "code",
   "execution_count": 16,
   "id": "a1512ee2",
   "metadata": {},
   "outputs": [],
   "source": [
    "df_reserve_goalkeepers = reserve[reserve.player_positions == 'GK']"
   ]
  },
  {
   "cell_type": "code",
   "execution_count": 17,
   "id": "ec77fd4d",
   "metadata": {},
   "outputs": [],
   "source": [
    "#ST, RS, LS, LW, RW, LF, CF\n",
    "df_reserve_forwards = reserve[(reserve.player_positions == 'ST') | (reserve.player_positions == 'RW') | (reserve.player_positions == 'LW') | (reserve.player_positions == 'CF')]"
   ]
  },
  {
   "cell_type": "code",
   "execution_count": 18,
   "id": "588965b5",
   "metadata": {},
   "outputs": [],
   "source": [
    "#LCM, RCM, RM, LM, CAM, LDM, RDM, CDM, LAM, RAM \n",
    "df_reserve_midfielders = reserve[(reserve.player_positions == 'CM') | (reserve.player_positions == 'CDM') | (reserve.player_positions == 'CAM') | (reserve.player_positions == 'RM') | (reserve.player_positions == 'LM')]"
   ]
  },
  {
   "cell_type": "code",
   "execution_count": 19,
   "id": "bcec7dc9",
   "metadata": {},
   "outputs": [],
   "source": [
    "#RCB, LCB, LB, RB, CB, RWB, LWB\n",
    "df_reserve_defenders = reserve[(reserve.player_positions == 'CB') | (reserve.player_positions == 'LB') | (reserve.player_positions == 'RB') | (reserve.player_positions == 'LWB') | (reserve.player_positions == 'RWB')]"
   ]
  },
  {
   "cell_type": "markdown",
   "id": "7da22822",
   "metadata": {},
   "source": [
    "# Step 3: Separate SUBSTITUTE Player dataframe by player position"
   ]
  },
  {
   "cell_type": "code",
   "execution_count": 27,
   "id": "5812a7a2",
   "metadata": {},
   "outputs": [],
   "source": [
    "substitute['player_positions'] = substitute['player_positions'].str.split(',').str[0]\n"
   ]
  },
  {
   "cell_type": "code",
   "execution_count": 28,
   "id": "eb0da29e",
   "metadata": {},
   "outputs": [],
   "source": [
    "df_substitute_goalkeeper = substitute[substitute.player_positions == 'GK']"
   ]
  },
  {
   "cell_type": "code",
   "execution_count": 29,
   "id": "7c62f12c",
   "metadata": {},
   "outputs": [],
   "source": [
    "df_substitute_forward = substitute[(substitute.player_positions == 'ST') | (substitute.player_positions == 'RW') | (substitute.player_positions == 'LW') | (substitute.player_positions == 'CF')]"
   ]
  },
  {
   "cell_type": "code",
   "execution_count": 30,
   "id": "76a1bcee",
   "metadata": {},
   "outputs": [],
   "source": [
    "df_substitute_midfielders = substitute[(substitute.player_positions == 'CM') | (substitute.player_positions == 'CDM') | (substitute.player_positions == 'CAM') | (substitute.player_positions == 'LM') | (substitute.player_positions == 'RM')]"
   ]
  },
  {
   "cell_type": "code",
   "execution_count": 31,
   "id": "5096608e",
   "metadata": {},
   "outputs": [],
   "source": [
    "df_substitute_defenders = substitute[(substitute.player_positions == 'CB') | (substitute.player_positions == 'LB') | (substitute.player_positions == 'RB') | (substitute.player_positions == 'RWB') | (substitute.player_positions == 'LWB')]"
   ]
  },
  {
   "cell_type": "markdown",
   "id": "ba856c12",
   "metadata": {},
   "source": [
    "# Step 4: Concat Dataframes together \n"
   ]
  },
  {
   "cell_type": "code",
   "execution_count": 32,
   "id": "2a1d5ad4",
   "metadata": {},
   "outputs": [],
   "source": [
    "goalkeeper_df = pd.concat([goalkeepers, df_substitute_goalkeeper, df_reserve_goalkeepers], axis=0)"
   ]
  },
  {
   "cell_type": "code",
   "execution_count": 33,
   "id": "41200828",
   "metadata": {},
   "outputs": [],
   "source": [
    "forward_df = pd.concat([forwards, df_substitute_forward, df_reserve_forwards], axis=0)"
   ]
  },
  {
   "cell_type": "code",
   "execution_count": 34,
   "id": "6ee87dd0",
   "metadata": {},
   "outputs": [],
   "source": [
    "midfielder_df = pd.concat([midfielders, df_substitute_midfielders, df_reserve_midfielders], axis=0)"
   ]
  },
  {
   "cell_type": "code",
   "execution_count": 35,
   "id": "66418fee",
   "metadata": {},
   "outputs": [],
   "source": [
    "defender_df = pd.concat([defenders, df_substitute_defenders, df_reserve_defenders], axis=0)"
   ]
  },
  {
   "cell_type": "markdown",
   "id": "2029c9a2",
   "metadata": {},
   "source": [
    "# Step 5: Correlation for each position"
   ]
  },
  {
   "cell_type": "code",
   "execution_count": 43,
   "id": "193c3ca0",
   "metadata": {},
   "outputs": [
    {
     "data": {
      "text/html": [
       "<div>\n",
       "<style scoped>\n",
       "    .dataframe tbody tr th:only-of-type {\n",
       "        vertical-align: middle;\n",
       "    }\n",
       "\n",
       "    .dataframe tbody tr th {\n",
       "        vertical-align: top;\n",
       "    }\n",
       "\n",
       "    .dataframe thead th {\n",
       "        text-align: right;\n",
       "    }\n",
       "</style>\n",
       "<table border=\"1\" class=\"dataframe\">\n",
       "  <thead>\n",
       "    <tr style=\"text-align: right;\">\n",
       "      <th></th>\n",
       "      <th>wage_eur</th>\n",
       "    </tr>\n",
       "  </thead>\n",
       "  <tbody>\n",
       "    <tr>\n",
       "      <th>wage_eur</th>\n",
       "      <td>1.00</td>\n",
       "    </tr>\n",
       "    <tr>\n",
       "      <th>total_wage</th>\n",
       "      <td>0.81</td>\n",
       "    </tr>\n",
       "    <tr>\n",
       "      <th>value_eur</th>\n",
       "      <td>0.81</td>\n",
       "    </tr>\n",
       "    <tr>\n",
       "      <th>international_reputation</th>\n",
       "      <td>0.70</td>\n",
       "    </tr>\n",
       "    <tr>\n",
       "      <th>overall</th>\n",
       "      <td>0.62</td>\n",
       "    </tr>\n",
       "    <tr>\n",
       "      <th>gk_handling</th>\n",
       "      <td>0.60</td>\n",
       "    </tr>\n",
       "    <tr>\n",
       "      <th>gk_diving</th>\n",
       "      <td>0.59</td>\n",
       "    </tr>\n",
       "    <tr>\n",
       "      <th>gk_reflexes</th>\n",
       "      <td>0.59</td>\n",
       "    </tr>\n",
       "    <tr>\n",
       "      <th>potential</th>\n",
       "      <td>0.58</td>\n",
       "    </tr>\n",
       "    <tr>\n",
       "      <th>gk_positioning</th>\n",
       "      <td>0.56</td>\n",
       "    </tr>\n",
       "  </tbody>\n",
       "</table>\n",
       "</div>"
      ],
      "text/plain": [
       "                                     wage_eur\n",
       "wage_eur                                 1.00\n",
       "total_wage                               0.81\n",
       "value_eur                                0.81\n",
       "international_reputation                 0.70\n",
       "overall                                  0.62\n",
       "gk_handling                              0.60\n",
       "gk_diving                                0.59\n",
       "gk_reflexes                              0.59\n",
       "potential                                0.58\n",
       "gk_positioning                           0.56"
      ]
     },
     "execution_count": 43,
     "metadata": {},
     "output_type": "execute_result"
    }
   ],
   "source": [
    "goalkeeper_df.corr()[['wage_eur']].sort_values(by='wage_eur', ascending=False).head(10)"
   ]
  },
  {
   "cell_type": "code",
   "execution_count": 44,
   "id": "cc7a6821",
   "metadata": {},
   "outputs": [
    {
     "data": {
      "text/html": [
       "<div>\n",
       "<style scoped>\n",
       "    .dataframe tbody tr th:only-of-type {\n",
       "        vertical-align: middle;\n",
       "    }\n",
       "\n",
       "    .dataframe tbody tr th {\n",
       "        vertical-align: top;\n",
       "    }\n",
       "\n",
       "    .dataframe thead th {\n",
       "        text-align: right;\n",
       "    }\n",
       "</style>\n",
       "<table border=\"1\" class=\"dataframe\">\n",
       "  <thead>\n",
       "    <tr style=\"text-align: right;\">\n",
       "      <th></th>\n",
       "      <th>wage_eur</th>\n",
       "    </tr>\n",
       "  </thead>\n",
       "  <tbody>\n",
       "    <tr>\n",
       "      <th>wage_eur</th>\n",
       "      <td>1.00</td>\n",
       "    </tr>\n",
       "    <tr>\n",
       "      <th>total_wage</th>\n",
       "      <td>0.85</td>\n",
       "    </tr>\n",
       "    <tr>\n",
       "      <th>value_eur</th>\n",
       "      <td>0.85</td>\n",
       "    </tr>\n",
       "    <tr>\n",
       "      <th>international_reputation</th>\n",
       "      <td>0.73</td>\n",
       "    </tr>\n",
       "    <tr>\n",
       "      <th>overall</th>\n",
       "      <td>0.65</td>\n",
       "    </tr>\n",
       "    <tr>\n",
       "      <th>ball_control</th>\n",
       "      <td>0.60</td>\n",
       "    </tr>\n",
       "    <tr>\n",
       "      <th>reactions</th>\n",
       "      <td>0.60</td>\n",
       "    </tr>\n",
       "    <tr>\n",
       "      <th>dribbling</th>\n",
       "      <td>0.59</td>\n",
       "    </tr>\n",
       "    <tr>\n",
       "      <th>shooting</th>\n",
       "      <td>0.58</td>\n",
       "    </tr>\n",
       "    <tr>\n",
       "      <th>positioning</th>\n",
       "      <td>0.57</td>\n",
       "    </tr>\n",
       "  </tbody>\n",
       "</table>\n",
       "</div>"
      ],
      "text/plain": [
       "                                     wage_eur\n",
       "wage_eur                                 1.00\n",
       "total_wage                               0.85\n",
       "value_eur                                0.85\n",
       "international_reputation                 0.73\n",
       "overall                                  0.65\n",
       "ball_control                             0.60\n",
       "reactions                                0.60\n",
       "dribbling                                0.59\n",
       "shooting                                 0.58\n",
       "positioning                              0.57"
      ]
     },
     "execution_count": 44,
     "metadata": {},
     "output_type": "execute_result"
    }
   ],
   "source": [
    "forward_df.corr()[['wage_eur']].sort_values(by='wage_eur', ascending=False).head(10)"
   ]
  },
  {
   "cell_type": "code",
   "execution_count": 45,
   "id": "5522ca5e",
   "metadata": {},
   "outputs": [
    {
     "data": {
      "text/html": [
       "<div>\n",
       "<style scoped>\n",
       "    .dataframe tbody tr th:only-of-type {\n",
       "        vertical-align: middle;\n",
       "    }\n",
       "\n",
       "    .dataframe tbody tr th {\n",
       "        vertical-align: top;\n",
       "    }\n",
       "\n",
       "    .dataframe thead th {\n",
       "        text-align: right;\n",
       "    }\n",
       "</style>\n",
       "<table border=\"1\" class=\"dataframe\">\n",
       "  <thead>\n",
       "    <tr style=\"text-align: right;\">\n",
       "      <th></th>\n",
       "      <th>wage_eur</th>\n",
       "    </tr>\n",
       "  </thead>\n",
       "  <tbody>\n",
       "    <tr>\n",
       "      <th>wage_eur</th>\n",
       "      <td>1.00</td>\n",
       "    </tr>\n",
       "    <tr>\n",
       "      <th>total_wage</th>\n",
       "      <td>0.84</td>\n",
       "    </tr>\n",
       "    <tr>\n",
       "      <th>value_eur</th>\n",
       "      <td>0.84</td>\n",
       "    </tr>\n",
       "    <tr>\n",
       "      <th>international_reputation</th>\n",
       "      <td>0.68</td>\n",
       "    </tr>\n",
       "    <tr>\n",
       "      <th>overall</th>\n",
       "      <td>0.64</td>\n",
       "    </tr>\n",
       "    <tr>\n",
       "      <th>ball_control</th>\n",
       "      <td>0.60</td>\n",
       "    </tr>\n",
       "    <tr>\n",
       "      <th>passing</th>\n",
       "      <td>0.59</td>\n",
       "    </tr>\n",
       "    <tr>\n",
       "      <th>reactions</th>\n",
       "      <td>0.59</td>\n",
       "    </tr>\n",
       "    <tr>\n",
       "      <th>short_passing</th>\n",
       "      <td>0.59</td>\n",
       "    </tr>\n",
       "    <tr>\n",
       "      <th>dribbling</th>\n",
       "      <td>0.57</td>\n",
       "    </tr>\n",
       "  </tbody>\n",
       "</table>\n",
       "</div>"
      ],
      "text/plain": [
       "                                     wage_eur\n",
       "wage_eur                                 1.00\n",
       "total_wage                               0.84\n",
       "value_eur                                0.84\n",
       "international_reputation                 0.68\n",
       "overall                                  0.64\n",
       "ball_control                             0.60\n",
       "passing                                  0.59\n",
       "reactions                                0.59\n",
       "short_passing                            0.59\n",
       "dribbling                                0.57"
      ]
     },
     "execution_count": 45,
     "metadata": {},
     "output_type": "execute_result"
    }
   ],
   "source": [
    "midfielder_df.corr()[['wage_eur']].sort_values(by='wage_eur', ascending=False).head(10)"
   ]
  },
  {
   "cell_type": "code",
   "execution_count": 106,
   "id": "57724450",
   "metadata": {},
   "outputs": [
    {
     "data": {
      "text/html": [
       "<div>\n",
       "<style scoped>\n",
       "    .dataframe tbody tr th:only-of-type {\n",
       "        vertical-align: middle;\n",
       "    }\n",
       "\n",
       "    .dataframe tbody tr th {\n",
       "        vertical-align: top;\n",
       "    }\n",
       "\n",
       "    .dataframe thead th {\n",
       "        text-align: right;\n",
       "    }\n",
       "</style>\n",
       "<table border=\"1\" class=\"dataframe\">\n",
       "  <thead>\n",
       "    <tr style=\"text-align: right;\">\n",
       "      <th></th>\n",
       "      <th>wage_eur</th>\n",
       "    </tr>\n",
       "  </thead>\n",
       "  <tbody>\n",
       "    <tr>\n",
       "      <th>wage_eur</th>\n",
       "      <td>1.00</td>\n",
       "    </tr>\n",
       "    <tr>\n",
       "      <th>total_wage</th>\n",
       "      <td>0.81</td>\n",
       "    </tr>\n",
       "    <tr>\n",
       "      <th>value_eur</th>\n",
       "      <td>0.81</td>\n",
       "    </tr>\n",
       "    <tr>\n",
       "      <th>international_reputation</th>\n",
       "      <td>0.67</td>\n",
       "    </tr>\n",
       "    <tr>\n",
       "      <th>overall</th>\n",
       "      <td>0.67</td>\n",
       "    </tr>\n",
       "    <tr>\n",
       "      <th>reactions</th>\n",
       "      <td>0.64</td>\n",
       "    </tr>\n",
       "    <tr>\n",
       "      <th>defending</th>\n",
       "      <td>0.63</td>\n",
       "    </tr>\n",
       "    <tr>\n",
       "      <th>sliding_tackle</th>\n",
       "      <td>0.63</td>\n",
       "    </tr>\n",
       "    <tr>\n",
       "      <th>standing_tackle</th>\n",
       "      <td>0.62</td>\n",
       "    </tr>\n",
       "    <tr>\n",
       "      <th>interceptions</th>\n",
       "      <td>0.62</td>\n",
       "    </tr>\n",
       "    <tr>\n",
       "      <th>marking</th>\n",
       "      <td>0.60</td>\n",
       "    </tr>\n",
       "    <tr>\n",
       "      <th>potential</th>\n",
       "      <td>0.59</td>\n",
       "    </tr>\n",
       "    <tr>\n",
       "      <th>short_passing</th>\n",
       "      <td>0.53</td>\n",
       "    </tr>\n",
       "    <tr>\n",
       "      <th>ball_control</th>\n",
       "      <td>0.51</td>\n",
       "    </tr>\n",
       "    <tr>\n",
       "      <th>passing</th>\n",
       "      <td>0.50</td>\n",
       "    </tr>\n",
       "  </tbody>\n",
       "</table>\n",
       "</div>"
      ],
      "text/plain": [
       "                                     wage_eur\n",
       "wage_eur                                 1.00\n",
       "total_wage                               0.81\n",
       "value_eur                                0.81\n",
       "international_reputation                 0.67\n",
       "overall                                  0.67\n",
       "reactions                                0.64\n",
       "defending                                0.63\n",
       "sliding_tackle                           0.63\n",
       "standing_tackle                          0.62\n",
       "interceptions                            0.62\n",
       "marking                                  0.60\n",
       "potential                                0.59\n",
       "short_passing                            0.53\n",
       "ball_control                             0.51\n",
       "passing                                  0.50"
      ]
     },
     "execution_count": 106,
     "metadata": {},
     "output_type": "execute_result"
    }
   ],
   "source": [
    "defender_df.corr()[['wage_eur']].sort_values(by='wage_eur', ascending=False).head(15)"
   ]
  },
  {
   "cell_type": "markdown",
   "id": "41c236a4",
   "metadata": {},
   "source": [
    "# Clusters based on Correlation"
   ]
  },
  {
   "cell_type": "markdown",
   "id": "bedc14ff",
   "metadata": {},
   "source": [
    "_Prepare the Data_"
   ]
  },
  {
   "cell_type": "code",
   "execution_count": 49,
   "id": "1b300e6e",
   "metadata": {},
   "outputs": [
    {
     "name": "stdout",
     "output_type": "stream",
     "text": [
      "Train: 1200 rows, 80 cols\n",
      "Validate: 301 rows, 80 cols\n",
      "Test: 265 rows, 80 cols\n"
     ]
    }
   ],
   "source": [
    "#split\n",
    "train, validate, test = prepare.split(goalkeeper_df)"
   ]
  },
  {
   "cell_type": "code",
   "execution_count": 50,
   "id": "8e9ff852",
   "metadata": {},
   "outputs": [],
   "source": [
    "#split data\n",
    "X_train = train.drop(columns=['wage_eur', 'total_wage', 'value_eur'])\n",
    "y_train = train[['wage_eur']]\n",
    "\n",
    "X_validate = validate.drop(columns=['wage_eur', 'total_wage', 'value_eur'])\n",
    "y_validate = validate[['wage_eur']]\n",
    "\n",
    "X_test = test.drop(columns=['wage_eur', 'total_wage', 'value_eur'])\n",
    "y_test = test[['wage_eur']]"
   ]
  },
  {
   "cell_type": "markdown",
   "id": "bb0cfffe",
   "metadata": {},
   "source": [
    "_Encode categorical variables_ "
   ]
  },
  {
   "cell_type": "code",
   "execution_count": 58,
   "id": "006d08ea",
   "metadata": {},
   "outputs": [
    {
     "data": {
      "text/plain": [
       "(1200, 77)"
      ]
     },
     "execution_count": 58,
     "metadata": {},
     "output_type": "execute_result"
    }
   ],
   "source": [
    "#encode categorical variables\n",
    "encoder = ce.LeaveOneOutEncoder(return_df=True)\n",
    "X_train_loo = encoder.fit_transform(X_train, y_train)\n",
    "X_test_loo = encoder.transform(X_test)\n",
    "X_train_loo.shape"
   ]
  },
  {
   "cell_type": "code",
   "execution_count": 60,
   "id": "98e7ef9b",
   "metadata": {},
   "outputs": [
    {
     "data": {
      "text/plain": [
       "(1200, 77)"
      ]
     },
     "execution_count": 60,
     "metadata": {},
     "output_type": "execute_result"
    }
   ],
   "source": [
    "#scale data \n",
    "scaler = RobustScaler()\n",
    "X_train_scaled = scaler.fit_transform(X_train_loo, y_train)\n",
    "X_train_scaled.shape"
   ]
  },
  {
   "cell_type": "code",
   "execution_count": 62,
   "id": "d4e06ae0",
   "metadata": {},
   "outputs": [
    {
     "data": {
      "text/html": [
       "<div>\n",
       "<style scoped>\n",
       "    .dataframe tbody tr th:only-of-type {\n",
       "        vertical-align: middle;\n",
       "    }\n",
       "\n",
       "    .dataframe tbody tr th {\n",
       "        vertical-align: top;\n",
       "    }\n",
       "\n",
       "    .dataframe thead th {\n",
       "        text-align: right;\n",
       "    }\n",
       "</style>\n",
       "<table border=\"1\" class=\"dataframe\">\n",
       "  <thead>\n",
       "    <tr style=\"text-align: right;\">\n",
       "      <th></th>\n",
       "      <th>sofifa_id</th>\n",
       "      <th>short_name</th>\n",
       "      <th>player_positions</th>\n",
       "      <th>overall</th>\n",
       "      <th>potential</th>\n",
       "      <th>age</th>\n",
       "      <th>height_cm</th>\n",
       "      <th>weight_kg</th>\n",
       "      <th>club_team_id</th>\n",
       "      <th>club_name</th>\n",
       "      <th>...</th>\n",
       "      <th>weight_bins</th>\n",
       "      <th>year_joined</th>\n",
       "      <th>seniority</th>\n",
       "      <th>club_position_encoded</th>\n",
       "      <th>work_rate_encoded</th>\n",
       "      <th>preferred_foot_encoded</th>\n",
       "      <th>age_bins_encoded</th>\n",
       "      <th>weight_bins_encoded</th>\n",
       "      <th>body_type_encoded</th>\n",
       "      <th>league_encoded</th>\n",
       "    </tr>\n",
       "  </thead>\n",
       "  <tbody>\n",
       "    <tr>\n",
       "      <th>count</th>\n",
       "      <td>1,200.00</td>\n",
       "      <td>1,200.00</td>\n",
       "      <td>1,200.00</td>\n",
       "      <td>1,200.00</td>\n",
       "      <td>1,200.00</td>\n",
       "      <td>1,200.00</td>\n",
       "      <td>1,200.00</td>\n",
       "      <td>1,200.00</td>\n",
       "      <td>1,200.00</td>\n",
       "      <td>1,200.00</td>\n",
       "      <td>...</td>\n",
       "      <td>1,200.00</td>\n",
       "      <td>1,200.00</td>\n",
       "      <td>1,200.00</td>\n",
       "      <td>1,200.00</td>\n",
       "      <td>1,200.00</td>\n",
       "      <td>1,200.00</td>\n",
       "      <td>1,200.00</td>\n",
       "      <td>1,200.00</td>\n",
       "      <td>1,200.00</td>\n",
       "      <td>1,200.00</td>\n",
       "    </tr>\n",
       "    <tr>\n",
       "      <th>mean</th>\n",
       "      <td>-0.13</td>\n",
       "      <td>3,300.45</td>\n",
       "      <td>-0.97</td>\n",
       "      <td>0.00</td>\n",
       "      <td>0.10</td>\n",
       "      <td>0.07</td>\n",
       "      <td>0.08</td>\n",
       "      <td>0.01</td>\n",
       "      <td>0.44</td>\n",
       "      <td>0.78</td>\n",
       "      <td>...</td>\n",
       "      <td>235.33</td>\n",
       "      <td>-0.43</td>\n",
       "      <td>0.41</td>\n",
       "      <td>-0.06</td>\n",
       "      <td>0.00</td>\n",
       "      <td>-0.11</td>\n",
       "      <td>0.31</td>\n",
       "      <td>235.33</td>\n",
       "      <td>-0.02</td>\n",
       "      <td>0.24</td>\n",
       "    </tr>\n",
       "    <tr>\n",
       "      <th>std</th>\n",
       "      <td>0.71</td>\n",
       "      <td>16,056.72</td>\n",
       "      <td>2.73</td>\n",
       "      <td>0.74</td>\n",
       "      <td>0.71</td>\n",
       "      <td>0.62</td>\n",
       "      <td>0.69</td>\n",
       "      <td>0.77</td>\n",
       "      <td>0.49</td>\n",
       "      <td>2.13</td>\n",
       "      <td>...</td>\n",
       "      <td>519.52</td>\n",
       "      <td>0.89</td>\n",
       "      <td>0.88</td>\n",
       "      <td>0.89</td>\n",
       "      <td>0.00</td>\n",
       "      <td>0.31</td>\n",
       "      <td>0.47</td>\n",
       "      <td>519.52</td>\n",
       "      <td>1.27</td>\n",
       "      <td>0.68</td>\n",
       "    </tr>\n",
       "    <tr>\n",
       "      <th>min</th>\n",
       "      <td>-4.60</td>\n",
       "      <td>-9,555.50</td>\n",
       "      <td>-31.23</td>\n",
       "      <td>-1.58</td>\n",
       "      <td>-1.80</td>\n",
       "      <td>-1.00</td>\n",
       "      <td>-2.00</td>\n",
       "      <td>-2.12</td>\n",
       "      <td>-0.02</td>\n",
       "      <td>-0.33</td>\n",
       "      <td>...</td>\n",
       "      <td>-1,660.66</td>\n",
       "      <td>-6.00</td>\n",
       "      <td>-0.33</td>\n",
       "      <td>-1.00</td>\n",
       "      <td>0.00</td>\n",
       "      <td>-1.00</td>\n",
       "      <td>-0.07</td>\n",
       "      <td>-1,660.66</td>\n",
       "      <td>-3.00</td>\n",
       "      <td>-0.55</td>\n",
       "    </tr>\n",
       "    <tr>\n",
       "      <th>25%</th>\n",
       "      <td>-0.53</td>\n",
       "      <td>0.00</td>\n",
       "      <td>-0.85</td>\n",
       "      <td>-0.50</td>\n",
       "      <td>-0.40</td>\n",
       "      <td>-0.44</td>\n",
       "      <td>-0.43</td>\n",
       "      <td>-0.50</td>\n",
       "      <td>-0.01</td>\n",
       "      <td>-0.28</td>\n",
       "      <td>...</td>\n",
       "      <td>-0.89</td>\n",
       "      <td>-0.67</td>\n",
       "      <td>-0.33</td>\n",
       "      <td>-1.00</td>\n",
       "      <td>0.00</td>\n",
       "      <td>0.00</td>\n",
       "      <td>-0.00</td>\n",
       "      <td>-0.89</td>\n",
       "      <td>0.00</td>\n",
       "      <td>-0.30</td>\n",
       "    </tr>\n",
       "    <tr>\n",
       "      <th>50%</th>\n",
       "      <td>0.00</td>\n",
       "      <td>0.00</td>\n",
       "      <td>0.00</td>\n",
       "      <td>0.00</td>\n",
       "      <td>0.00</td>\n",
       "      <td>0.00</td>\n",
       "      <td>0.00</td>\n",
       "      <td>0.00</td>\n",
       "      <td>0.00</td>\n",
       "      <td>0.00</td>\n",
       "      <td>...</td>\n",
       "      <td>0.00</td>\n",
       "      <td>0.00</td>\n",
       "      <td>0.00</td>\n",
       "      <td>0.00</td>\n",
       "      <td>0.00</td>\n",
       "      <td>0.00</td>\n",
       "      <td>0.00</td>\n",
       "      <td>0.00</td>\n",
       "      <td>0.00</td>\n",
       "      <td>0.00</td>\n",
       "    </tr>\n",
       "    <tr>\n",
       "      <th>75%</th>\n",
       "      <td>0.47</td>\n",
       "      <td>0.00</td>\n",
       "      <td>0.15</td>\n",
       "      <td>0.50</td>\n",
       "      <td>0.60</td>\n",
       "      <td>0.56</td>\n",
       "      <td>0.57</td>\n",
       "      <td>0.50</td>\n",
       "      <td>0.99</td>\n",
       "      <td>0.72</td>\n",
       "      <td>...</td>\n",
       "      <td>0.11</td>\n",
       "      <td>0.33</td>\n",
       "      <td>0.67</td>\n",
       "      <td>0.00</td>\n",
       "      <td>0.00</td>\n",
       "      <td>0.00</td>\n",
       "      <td>1.00</td>\n",
       "      <td>0.11</td>\n",
       "      <td>0.00</td>\n",
       "      <td>0.70</td>\n",
       "    </tr>\n",
       "    <tr>\n",
       "      <th>max</th>\n",
       "      <td>0.69</td>\n",
       "      <td>189,944.50</td>\n",
       "      <td>0.18</td>\n",
       "      <td>2.08</td>\n",
       "      <td>2.30</td>\n",
       "      <td>1.89</td>\n",
       "      <td>2.14</td>\n",
       "      <td>2.88</td>\n",
       "      <td>1.03</td>\n",
       "      <td>27.22</td>\n",
       "      <td>...</td>\n",
       "      <td>1,250.59</td>\n",
       "      <td>0.33</td>\n",
       "      <td>5.67</td>\n",
       "      <td>1.43</td>\n",
       "      <td>0.00</td>\n",
       "      <td>0.00</td>\n",
       "      <td>1.01</td>\n",
       "      <td>1,250.59</td>\n",
       "      <td>5.00</td>\n",
       "      <td>1.85</td>\n",
       "    </tr>\n",
       "  </tbody>\n",
       "</table>\n",
       "<p>8 rows × 77 columns</p>\n",
       "</div>"
      ],
      "text/plain": [
       "                 sofifa_id           short_name     player_positions  \\\n",
       "count             1,200.00             1,200.00             1,200.00   \n",
       "mean                 -0.13             3,300.45                -0.97   \n",
       "std                   0.71            16,056.72                 2.73   \n",
       "min                  -4.60            -9,555.50               -31.23   \n",
       "25%                  -0.53                 0.00                -0.85   \n",
       "50%                   0.00                 0.00                 0.00   \n",
       "75%                   0.47                 0.00                 0.15   \n",
       "max                   0.69           189,944.50                 0.18   \n",
       "\n",
       "                   overall            potential                  age  \\\n",
       "count             1,200.00             1,200.00             1,200.00   \n",
       "mean                  0.00                 0.10                 0.07   \n",
       "std                   0.74                 0.71                 0.62   \n",
       "min                  -1.58                -1.80                -1.00   \n",
       "25%                  -0.50                -0.40                -0.44   \n",
       "50%                   0.00                 0.00                 0.00   \n",
       "75%                   0.50                 0.60                 0.56   \n",
       "max                   2.08                 2.30                 1.89   \n",
       "\n",
       "                 height_cm            weight_kg         club_team_id  \\\n",
       "count             1,200.00             1,200.00             1,200.00   \n",
       "mean                  0.08                 0.01                 0.44   \n",
       "std                   0.69                 0.77                 0.49   \n",
       "min                  -2.00                -2.12                -0.02   \n",
       "25%                  -0.43                -0.50                -0.01   \n",
       "50%                   0.00                 0.00                 0.00   \n",
       "75%                   0.57                 0.50                 0.99   \n",
       "max                   2.14                 2.88                 1.03   \n",
       "\n",
       "                 club_name  ...          weight_bins          year_joined  \\\n",
       "count             1,200.00  ...             1,200.00             1,200.00   \n",
       "mean                  0.78  ...               235.33                -0.43   \n",
       "std                   2.13  ...               519.52                 0.89   \n",
       "min                  -0.33  ...            -1,660.66                -6.00   \n",
       "25%                  -0.28  ...                -0.89                -0.67   \n",
       "50%                   0.00  ...                 0.00                 0.00   \n",
       "75%                   0.72  ...                 0.11                 0.33   \n",
       "max                  27.22  ...             1,250.59                 0.33   \n",
       "\n",
       "                 seniority  club_position_encoded    work_rate_encoded  \\\n",
       "count             1,200.00               1,200.00             1,200.00   \n",
       "mean                  0.41                  -0.06                 0.00   \n",
       "std                   0.88                   0.89                 0.00   \n",
       "min                  -0.33                  -1.00                 0.00   \n",
       "25%                  -0.33                  -1.00                 0.00   \n",
       "50%                   0.00                   0.00                 0.00   \n",
       "75%                   0.67                   0.00                 0.00   \n",
       "max                   5.67                   1.43                 0.00   \n",
       "\n",
       "       preferred_foot_encoded     age_bins_encoded  weight_bins_encoded  \\\n",
       "count                1,200.00             1,200.00             1,200.00   \n",
       "mean                    -0.11                 0.31               235.33   \n",
       "std                      0.31                 0.47               519.52   \n",
       "min                     -1.00                -0.07            -1,660.66   \n",
       "25%                      0.00                -0.00                -0.89   \n",
       "50%                      0.00                 0.00                 0.00   \n",
       "75%                      0.00                 1.00                 0.11   \n",
       "max                      0.00                 1.01             1,250.59   \n",
       "\n",
       "         body_type_encoded       league_encoded  \n",
       "count             1,200.00             1,200.00  \n",
       "mean                 -0.02                 0.24  \n",
       "std                   1.27                 0.68  \n",
       "min                  -3.00                -0.55  \n",
       "25%                   0.00                -0.30  \n",
       "50%                   0.00                 0.00  \n",
       "75%                   0.00                 0.70  \n",
       "max                   5.00                 1.85  \n",
       "\n",
       "[8 rows x 77 columns]"
      ]
     },
     "execution_count": 62,
     "metadata": {},
     "output_type": "execute_result"
    }
   ],
   "source": [
    "X_train_scaled_df = pd.DataFrame(X_train_scaled, columns=X_train.columns)\n",
    "X_train_scaled_df.describe()"
   ]
  },
  {
   "cell_type": "markdown",
   "id": "b9b7fbe2",
   "metadata": {},
   "source": [
    "# Goalkeeper Clusters"
   ]
  },
  {
   "cell_type": "markdown",
   "id": "fb6fad97",
   "metadata": {},
   "source": [
    "#### ANOVA test on gk_handling, gk_diving, gk_reflexes"
   ]
  },
  {
   "cell_type": "code",
   "execution_count": 65,
   "id": "73e92347",
   "metadata": {},
   "outputs": [
    {
     "data": {
      "text/html": [
       "<style>#sk-container-id-1 {color: black;background-color: white;}#sk-container-id-1 pre{padding: 0;}#sk-container-id-1 div.sk-toggleable {background-color: white;}#sk-container-id-1 label.sk-toggleable__label {cursor: pointer;display: block;width: 100%;margin-bottom: 0;padding: 0.3em;box-sizing: border-box;text-align: center;}#sk-container-id-1 label.sk-toggleable__label-arrow:before {content: \"▸\";float: left;margin-right: 0.25em;color: #696969;}#sk-container-id-1 label.sk-toggleable__label-arrow:hover:before {color: black;}#sk-container-id-1 div.sk-estimator:hover label.sk-toggleable__label-arrow:before {color: black;}#sk-container-id-1 div.sk-toggleable__content {max-height: 0;max-width: 0;overflow: hidden;text-align: left;background-color: #f0f8ff;}#sk-container-id-1 div.sk-toggleable__content pre {margin: 0.2em;color: black;border-radius: 0.25em;background-color: #f0f8ff;}#sk-container-id-1 input.sk-toggleable__control:checked~div.sk-toggleable__content {max-height: 200px;max-width: 100%;overflow: auto;}#sk-container-id-1 input.sk-toggleable__control:checked~label.sk-toggleable__label-arrow:before {content: \"▾\";}#sk-container-id-1 div.sk-estimator input.sk-toggleable__control:checked~label.sk-toggleable__label {background-color: #d4ebff;}#sk-container-id-1 div.sk-label input.sk-toggleable__control:checked~label.sk-toggleable__label {background-color: #d4ebff;}#sk-container-id-1 input.sk-hidden--visually {border: 0;clip: rect(1px 1px 1px 1px);clip: rect(1px, 1px, 1px, 1px);height: 1px;margin: -1px;overflow: hidden;padding: 0;position: absolute;width: 1px;}#sk-container-id-1 div.sk-estimator {font-family: monospace;background-color: #f0f8ff;border: 1px dotted black;border-radius: 0.25em;box-sizing: border-box;margin-bottom: 0.5em;}#sk-container-id-1 div.sk-estimator:hover {background-color: #d4ebff;}#sk-container-id-1 div.sk-parallel-item::after {content: \"\";width: 100%;border-bottom: 1px solid gray;flex-grow: 1;}#sk-container-id-1 div.sk-label:hover label.sk-toggleable__label {background-color: #d4ebff;}#sk-container-id-1 div.sk-serial::before {content: \"\";position: absolute;border-left: 1px solid gray;box-sizing: border-box;top: 0;bottom: 0;left: 50%;z-index: 0;}#sk-container-id-1 div.sk-serial {display: flex;flex-direction: column;align-items: center;background-color: white;padding-right: 0.2em;padding-left: 0.2em;position: relative;}#sk-container-id-1 div.sk-item {position: relative;z-index: 1;}#sk-container-id-1 div.sk-parallel {display: flex;align-items: stretch;justify-content: center;background-color: white;position: relative;}#sk-container-id-1 div.sk-item::before, #sk-container-id-1 div.sk-parallel-item::before {content: \"\";position: absolute;border-left: 1px solid gray;box-sizing: border-box;top: 0;bottom: 0;left: 50%;z-index: -1;}#sk-container-id-1 div.sk-parallel-item {display: flex;flex-direction: column;z-index: 1;position: relative;background-color: white;}#sk-container-id-1 div.sk-parallel-item:first-child::after {align-self: flex-end;width: 50%;}#sk-container-id-1 div.sk-parallel-item:last-child::after {align-self: flex-start;width: 50%;}#sk-container-id-1 div.sk-parallel-item:only-child::after {width: 0;}#sk-container-id-1 div.sk-dashed-wrapped {border: 1px dashed gray;margin: 0 0.4em 0.5em 0.4em;box-sizing: border-box;padding-bottom: 0.4em;background-color: white;}#sk-container-id-1 div.sk-label label {font-family: monospace;font-weight: bold;display: inline-block;line-height: 1.2em;}#sk-container-id-1 div.sk-label-container {text-align: center;}#sk-container-id-1 div.sk-container {/* jupyter's `normalize.less` sets `[hidden] { display: none; }` but bootstrap.min.css set `[hidden] { display: none !important; }` so we also need the `!important` here to be able to override the default hidden behavior on the sphinx rendered scikit-learn.org. See: https://github.com/scikit-learn/scikit-learn/issues/21755 */display: inline-block !important;position: relative;}#sk-container-id-1 div.sk-text-repr-fallback {display: none;}</style><div id=\"sk-container-id-1\" class=\"sk-top-container\"><div class=\"sk-text-repr-fallback\"><pre>KMeans(n_clusters=4)</pre><b>In a Jupyter environment, please rerun this cell to show the HTML representation or trust the notebook. <br />On GitHub, the HTML representation is unable to render, please try loading this page with nbviewer.org.</b></div><div class=\"sk-container\" hidden><div class=\"sk-item\"><div class=\"sk-estimator sk-toggleable\"><input class=\"sk-toggleable__control sk-hidden--visually\" id=\"sk-estimator-id-1\" type=\"checkbox\" checked><label for=\"sk-estimator-id-1\" class=\"sk-toggleable__label sk-toggleable__label-arrow\">KMeans</label><div class=\"sk-toggleable__content\"><pre>KMeans(n_clusters=4)</pre></div></div></div></div></div>"
      ],
      "text/plain": [
       "KMeans(n_clusters=4)"
      ]
     },
     "execution_count": 65,
     "metadata": {},
     "output_type": "execute_result"
    }
   ],
   "source": [
    "#significance level \n",
    "a = 0.05 \n",
    "#define x \n",
    "X = X_train_scaled_df[['gk_handling', 'gk_diving', 'gk_reflexes']]\n",
    "#define kmeans\n",
    "kmeans = KMeans(n_clusters=4)\n",
    "#fit \n",
    "kmeans.fit(X)"
   ]
  },
  {
   "cell_type": "code",
   "execution_count": 67,
   "id": "ed0d88a8",
   "metadata": {},
   "outputs": [],
   "source": [
    "train['clusters'] = kmeans.predict(X)"
   ]
  },
  {
   "cell_type": "code",
   "execution_count": 68,
   "id": "ad2da04c",
   "metadata": {},
   "outputs": [
    {
     "data": {
      "image/png": "[encoded data removed]",
      "text/plain": [
       "<Figure size 864x432 with 1 Axes>"
      ]
     },
     "metadata": {},
     "output_type": "display_data"
    }
   ],
   "source": [
    "# Find K: evaluate best k using elbow method \n",
    "with plt.style.context('seaborn-whitegrid'):\n",
    "    plt.figure(figsize=(12, 6))\n",
    "    pd.Series({k: KMeans(k).fit(X).inertia_ for k in range(2, 15)}).plot(marker='x')\n",
    "    plt.xticks(range(2, 15))\n",
    "    plt.xlabel('k')\n",
    "    plt.ylabel('inertia')\n",
    "    plt.title('Change in inertia as k increases')"
   ]
  },
  {
   "cell_type": "code",
   "execution_count": 70,
   "id": "96af7b35",
   "metadata": {},
   "outputs": [
    {
     "data": {
      "text/html": [
       "<div>\n",
       "<style scoped>\n",
       "    .dataframe tbody tr th:only-of-type {\n",
       "        vertical-align: middle;\n",
       "    }\n",
       "\n",
       "    .dataframe tbody tr th {\n",
       "        vertical-align: top;\n",
       "    }\n",
       "\n",
       "    .dataframe thead th {\n",
       "        text-align: right;\n",
       "    }\n",
       "</style>\n",
       "<table border=\"1\" class=\"dataframe\">\n",
       "  <thead>\n",
       "    <tr style=\"text-align: right;\">\n",
       "      <th></th>\n",
       "      <th>gk_handling</th>\n",
       "      <th>gk_diving</th>\n",
       "      <th>gk_reflexes</th>\n",
       "    </tr>\n",
       "    <tr>\n",
       "      <th>clusters</th>\n",
       "      <th></th>\n",
       "      <th></th>\n",
       "      <th></th>\n",
       "    </tr>\n",
       "  </thead>\n",
       "  <tbody>\n",
       "    <tr>\n",
       "      <th>0</th>\n",
       "      <td>77.00</td>\n",
       "      <td>80.00</td>\n",
       "      <td>82.00</td>\n",
       "    </tr>\n",
       "    <tr>\n",
       "      <th>1</th>\n",
       "      <td>54.00</td>\n",
       "      <td>57.00</td>\n",
       "      <td>56.00</td>\n",
       "    </tr>\n",
       "    <tr>\n",
       "      <th>2</th>\n",
       "      <td>62.00</td>\n",
       "      <td>64.00</td>\n",
       "      <td>64.00</td>\n",
       "    </tr>\n",
       "    <tr>\n",
       "      <th>3</th>\n",
       "      <td>69.00</td>\n",
       "      <td>71.00</td>\n",
       "      <td>73.00</td>\n",
       "    </tr>\n",
       "  </tbody>\n",
       "</table>\n",
       "</div>"
      ],
      "text/plain": [
       "                  gk_handling            gk_diving          gk_reflexes\n",
       "clusters                                                               \n",
       "0                       77.00                80.00                82.00\n",
       "1                       54.00                57.00                56.00\n",
       "2                       62.00                64.00                64.00\n",
       "3                       69.00                71.00                73.00"
      ]
     },
     "execution_count": 70,
     "metadata": {},
     "output_type": "execute_result"
    }
   ],
   "source": [
    "train.groupby('clusters')[ 'gk_handling', 'gk_diving', 'gk_reflexes'].median()"
   ]
  },
  {
   "cell_type": "markdown",
   "id": "805f1d83",
   "metadata": {},
   "source": [
    "#### _The ANOVA test will be used to measure the significance or lack there of variance between clusters_"
   ]
  },
  {
   "cell_type": "markdown",
   "id": "98ac3a72",
   "metadata": {},
   "source": [
    " - H0: There is no significant difference between salaries of each cluster \n",
    " - HA: There is a significant difference between salaries of each cluster"
   ]
  },
  {
   "cell_type": "code",
   "execution_count": 73,
   "id": "9639b84e",
   "metadata": {},
   "outputs": [
    {
     "name": "stdout",
     "output_type": "stream",
     "text": [
      "Anova Test Results on goalkeeper handling/diving/reflexes Cluster\n",
      "F-value:  274.9144383077501\n",
      "p-value:  1.0828884379638766e-135\n"
     ]
    }
   ],
   "source": [
    "alpha = 0.05\n",
    "\n",
    "F, p = stats.f_oneway(train[train.clusters == 0].wage_eur,\n",
    "                      train[train.clusters == 1].wage_eur,\n",
    "                      train[train.clusters == 2].wage_eur,\n",
    "                      train[train.clusters == 3].wage_eur)\n",
    "\n",
    "print('Anova Test Results on goalkeeper handling/diving/reflexes Cluster')\n",
    "print('F-value: ',F)\n",
    "print('p-value: ',p)\n",
    "#if p > alpha:\n",
    "    #print(\"\\nWe fail to reject null hypothesis.\")\n",
    "#elif t < 0:\n",
    "    #print(\"We fail to reject null hypothesis.\")\n",
    "#else:\n",
    "    #print(\"We reject null hypothesis.\\n\\n\")"
   ]
  },
  {
   "cell_type": "markdown",
   "id": "46064993",
   "metadata": {},
   "source": [
    "# Prepare Forwards"
   ]
  },
  {
   "cell_type": "code",
   "execution_count": 74,
   "id": "201e0abc",
   "metadata": {},
   "outputs": [
    {
     "name": "stdout",
     "output_type": "stream",
     "text": [
      "Train: 1989 rows, 80 cols\n",
      "Validate: 498 rows, 80 cols\n",
      "Test: 439 rows, 80 cols\n"
     ]
    }
   ],
   "source": [
    "#split\n",
    "train, validate, test = prepare.split(forward_df)"
   ]
  },
  {
   "cell_type": "code",
   "execution_count": 75,
   "id": "90261973",
   "metadata": {},
   "outputs": [],
   "source": [
    "#split data\n",
    "X_train = train.drop(columns=['wage_eur', 'total_wage', 'value_eur'])\n",
    "y_train = train[['wage_eur']]\n",
    "\n",
    "X_validate = validate.drop(columns=['wage_eur', 'total_wage', 'value_eur'])\n",
    "y_validate = validate[['wage_eur']]\n",
    "\n",
    "X_test = test.drop(columns=['wage_eur', 'total_wage', 'value_eur'])\n",
    "y_test = test[['wage_eur']]"
   ]
  },
  {
   "cell_type": "code",
   "execution_count": 76,
   "id": "f1ed6891",
   "metadata": {},
   "outputs": [
    {
     "data": {
      "text/plain": [
       "(1989, 77)"
      ]
     },
     "execution_count": 76,
     "metadata": {},
     "output_type": "execute_result"
    }
   ],
   "source": [
    "#encode categorical variables\n",
    "encoder = ce.LeaveOneOutEncoder(return_df=True)\n",
    "X_train_loo = encoder.fit_transform(X_train, y_train)\n",
    "X_test_loo = encoder.transform(X_test)\n",
    "X_train_loo.shape"
   ]
  },
  {
   "cell_type": "code",
   "execution_count": 77,
   "id": "67714009",
   "metadata": {},
   "outputs": [
    {
     "data": {
      "text/plain": [
       "(1989, 77)"
      ]
     },
     "execution_count": 77,
     "metadata": {},
     "output_type": "execute_result"
    }
   ],
   "source": [
    "#scale data \n",
    "scaler = RobustScaler()\n",
    "X_train_scaled = scaler.fit_transform(X_train_loo, y_train)\n",
    "X_train_scaled.shape"
   ]
  },
  {
   "cell_type": "code",
   "execution_count": 78,
   "id": "9d724134",
   "metadata": {},
   "outputs": [],
   "source": [
    "X_train_scaled_df = pd.DataFrame(X_train_scaled, columns=X_train.columns)"
   ]
  },
  {
   "cell_type": "markdown",
   "id": "49f33c08",
   "metadata": {},
   "source": [
    "# FORWARD CLUSTERS"
   ]
  },
  {
   "cell_type": "markdown",
   "id": "d380ee3e",
   "metadata": {},
   "source": [
    "#### ANOVA test on ball_control, reactions, dribbling"
   ]
  },
  {
   "cell_type": "code",
   "execution_count": 79,
   "id": "dd1c1eec",
   "metadata": {},
   "outputs": [
    {
     "data": {
      "text/html": [
       "<style>#sk-container-id-2 {color: black;background-color: white;}#sk-container-id-2 pre{padding: 0;}#sk-container-id-2 div.sk-toggleable {background-color: white;}#sk-container-id-2 label.sk-toggleable__label {cursor: pointer;display: block;width: 100%;margin-bottom: 0;padding: 0.3em;box-sizing: border-box;text-align: center;}#sk-container-id-2 label.sk-toggleable__label-arrow:before {content: \"▸\";float: left;margin-right: 0.25em;color: #696969;}#sk-container-id-2 label.sk-toggleable__label-arrow:hover:before {color: black;}#sk-container-id-2 div.sk-estimator:hover label.sk-toggleable__label-arrow:before {color: black;}#sk-container-id-2 div.sk-toggleable__content {max-height: 0;max-width: 0;overflow: hidden;text-align: left;background-color: #f0f8ff;}#sk-container-id-2 div.sk-toggleable__content pre {margin: 0.2em;color: black;border-radius: 0.25em;background-color: #f0f8ff;}#sk-container-id-2 input.sk-toggleable__control:checked~div.sk-toggleable__content {max-height: 200px;max-width: 100%;overflow: auto;}#sk-container-id-2 input.sk-toggleable__control:checked~label.sk-toggleable__label-arrow:before {content: \"▾\";}#sk-container-id-2 div.sk-estimator input.sk-toggleable__control:checked~label.sk-toggleable__label {background-color: #d4ebff;}#sk-container-id-2 div.sk-label input.sk-toggleable__control:checked~label.sk-toggleable__label {background-color: #d4ebff;}#sk-container-id-2 input.sk-hidden--visually {border: 0;clip: rect(1px 1px 1px 1px);clip: rect(1px, 1px, 1px, 1px);height: 1px;margin: -1px;overflow: hidden;padding: 0;position: absolute;width: 1px;}#sk-container-id-2 div.sk-estimator {font-family: monospace;background-color: #f0f8ff;border: 1px dotted black;border-radius: 0.25em;box-sizing: border-box;margin-bottom: 0.5em;}#sk-container-id-2 div.sk-estimator:hover {background-color: #d4ebff;}#sk-container-id-2 div.sk-parallel-item::after {content: \"\";width: 100%;border-bottom: 1px solid gray;flex-grow: 1;}#sk-container-id-2 div.sk-label:hover label.sk-toggleable__label {background-color: #d4ebff;}#sk-container-id-2 div.sk-serial::before {content: \"\";position: absolute;border-left: 1px solid gray;box-sizing: border-box;top: 0;bottom: 0;left: 50%;z-index: 0;}#sk-container-id-2 div.sk-serial {display: flex;flex-direction: column;align-items: center;background-color: white;padding-right: 0.2em;padding-left: 0.2em;position: relative;}#sk-container-id-2 div.sk-item {position: relative;z-index: 1;}#sk-container-id-2 div.sk-parallel {display: flex;align-items: stretch;justify-content: center;background-color: white;position: relative;}#sk-container-id-2 div.sk-item::before, #sk-container-id-2 div.sk-parallel-item::before {content: \"\";position: absolute;border-left: 1px solid gray;box-sizing: border-box;top: 0;bottom: 0;left: 50%;z-index: -1;}#sk-container-id-2 div.sk-parallel-item {display: flex;flex-direction: column;z-index: 1;position: relative;background-color: white;}#sk-container-id-2 div.sk-parallel-item:first-child::after {align-self: flex-end;width: 50%;}#sk-container-id-2 div.sk-parallel-item:last-child::after {align-self: flex-start;width: 50%;}#sk-container-id-2 div.sk-parallel-item:only-child::after {width: 0;}#sk-container-id-2 div.sk-dashed-wrapped {border: 1px dashed gray;margin: 0 0.4em 0.5em 0.4em;box-sizing: border-box;padding-bottom: 0.4em;background-color: white;}#sk-container-id-2 div.sk-label label {font-family: monospace;font-weight: bold;display: inline-block;line-height: 1.2em;}#sk-container-id-2 div.sk-label-container {text-align: center;}#sk-container-id-2 div.sk-container {/* jupyter's `normalize.less` sets `[hidden] { display: none; }` but bootstrap.min.css set `[hidden] { display: none !important; }` so we also need the `!important` here to be able to override the default hidden behavior on the sphinx rendered scikit-learn.org. See: https://github.com/scikit-learn/scikit-learn/issues/21755 */display: inline-block !important;position: relative;}#sk-container-id-2 div.sk-text-repr-fallback {display: none;}</style><div id=\"sk-container-id-2\" class=\"sk-top-container\"><div class=\"sk-text-repr-fallback\"><pre>KMeans(n_clusters=4)</pre><b>In a Jupyter environment, please rerun this cell to show the HTML representation or trust the notebook. <br />On GitHub, the HTML representation is unable to render, please try loading this page with nbviewer.org.</b></div><div class=\"sk-container\" hidden><div class=\"sk-item\"><div class=\"sk-estimator sk-toggleable\"><input class=\"sk-toggleable__control sk-hidden--visually\" id=\"sk-estimator-id-2\" type=\"checkbox\" checked><label for=\"sk-estimator-id-2\" class=\"sk-toggleable__label sk-toggleable__label-arrow\">KMeans</label><div class=\"sk-toggleable__content\"><pre>KMeans(n_clusters=4)</pre></div></div></div></div></div>"
      ],
      "text/plain": [
       "KMeans(n_clusters=4)"
      ]
     },
     "execution_count": 79,
     "metadata": {},
     "output_type": "execute_result"
    }
   ],
   "source": [
    "#significance level \n",
    "a = 0.05 \n",
    "#define x \n",
    "X = X_train_scaled_df[['ball_control', 'reactions', 'dribbling']]\n",
    "#define kmeans\n",
    "kmeans = KMeans(n_clusters=4)\n",
    "#fit \n",
    "kmeans.fit(X)"
   ]
  },
  {
   "cell_type": "code",
   "execution_count": 80,
   "id": "ef2f4eb4",
   "metadata": {},
   "outputs": [],
   "source": [
    "train['clusters'] = kmeans.predict(X)"
   ]
  },
  {
   "cell_type": "code",
   "execution_count": 81,
   "id": "3d895200",
   "metadata": {},
   "outputs": [
    {
     "data": {
      "image/png": "[encoded data removed]",
      "text/plain": [
       "<Figure size 864x432 with 1 Axes>"
      ]
     },
     "metadata": {},
     "output_type": "display_data"
    }
   ],
   "source": [
    "# Find K: evaluate best k using elbow method \n",
    "with plt.style.context('seaborn-whitegrid'):\n",
    "    plt.figure(figsize=(12, 6))\n",
    "    pd.Series({k: KMeans(k).fit(X).inertia_ for k in range(2, 15)}).plot(marker='x')\n",
    "    plt.xticks(range(2, 15))\n",
    "    plt.xlabel('k')\n",
    "    plt.ylabel('inertia')\n",
    "    plt.title('Change in inertia as k increases')"
   ]
  },
  {
   "cell_type": "code",
   "execution_count": 82,
   "id": "dfb21683",
   "metadata": {},
   "outputs": [
    {
     "data": {
      "text/html": [
       "<div>\n",
       "<style scoped>\n",
       "    .dataframe tbody tr th:only-of-type {\n",
       "        vertical-align: middle;\n",
       "    }\n",
       "\n",
       "    .dataframe tbody tr th {\n",
       "        vertical-align: top;\n",
       "    }\n",
       "\n",
       "    .dataframe thead th {\n",
       "        text-align: right;\n",
       "    }\n",
       "</style>\n",
       "<table border=\"1\" class=\"dataframe\">\n",
       "  <thead>\n",
       "    <tr style=\"text-align: right;\">\n",
       "      <th></th>\n",
       "      <th>ball_control</th>\n",
       "      <th>reactions</th>\n",
       "      <th>dribbling</th>\n",
       "    </tr>\n",
       "    <tr>\n",
       "      <th>clusters</th>\n",
       "      <th></th>\n",
       "      <th></th>\n",
       "      <th></th>\n",
       "    </tr>\n",
       "  </thead>\n",
       "  <tbody>\n",
       "    <tr>\n",
       "      <th>0</th>\n",
       "      <td>65.00</td>\n",
       "      <td>60.00</td>\n",
       "      <td>64.00</td>\n",
       "    </tr>\n",
       "    <tr>\n",
       "      <th>1</th>\n",
       "      <td>72.00</td>\n",
       "      <td>69.00</td>\n",
       "      <td>71.00</td>\n",
       "    </tr>\n",
       "    <tr>\n",
       "      <th>2</th>\n",
       "      <td>80.00</td>\n",
       "      <td>79.00</td>\n",
       "      <td>80.00</td>\n",
       "    </tr>\n",
       "    <tr>\n",
       "      <th>3</th>\n",
       "      <td>56.00</td>\n",
       "      <td>52.00</td>\n",
       "      <td>56.00</td>\n",
       "    </tr>\n",
       "  </tbody>\n",
       "</table>\n",
       "</div>"
      ],
      "text/plain": [
       "                 ball_control            reactions            dribbling\n",
       "clusters                                                               \n",
       "0                       65.00                60.00                64.00\n",
       "1                       72.00                69.00                71.00\n",
       "2                       80.00                79.00                80.00\n",
       "3                       56.00                52.00                56.00"
      ]
     },
     "execution_count": 82,
     "metadata": {},
     "output_type": "execute_result"
    }
   ],
   "source": [
    "train.groupby('clusters')[ 'ball_control', 'reactions', 'dribbling'].median()"
   ]
  },
  {
   "cell_type": "markdown",
   "id": "278e5af6",
   "metadata": {},
   "source": [
    "#### _The ANOVA test will be used to measure the significance or lack there of variance between clusters_"
   ]
  },
  {
   "cell_type": "markdown",
   "id": "d12812e4",
   "metadata": {},
   "source": [
    " - H0: There is no significant difference between salaries of each cluster \n",
    " - HA: There is a significant difference between salaries of each cluster"
   ]
  },
  {
   "cell_type": "code",
   "execution_count": 83,
   "id": "aceca4c1",
   "metadata": {},
   "outputs": [
    {
     "name": "stdout",
     "output_type": "stream",
     "text": [
      "Anova Test Results on goalkeeper handling/diving/reflexes Cluster\n",
      "F-value:  449.02470459555894\n",
      "p-value:  1.223655017896163e-222\n"
     ]
    }
   ],
   "source": [
    "alpha = 0.05\n",
    "\n",
    "F, p = stats.f_oneway(train[train.clusters == 0].wage_eur,\n",
    "                      train[train.clusters == 1].wage_eur,\n",
    "                      train[train.clusters == 2].wage_eur,\n",
    "                      train[train.clusters == 3].wage_eur)\n",
    "\n",
    "print('Anova Test Results on goalkeeper handling/diving/reflexes Cluster')\n",
    "print('F-value: ',F)\n",
    "print('p-value: ',p)\n",
    "#if p > alpha:\n",
    "    #print(\"\\nWe fail to reject null hypothesis.\")\n",
    "#elif t < 0:\n",
    "    #print(\"We fail to reject null hypothesis.\")\n",
    "#else:\n",
    "    #print(\"We reject null hypothesis.\\n\\n\")"
   ]
  },
  {
   "cell_type": "markdown",
   "id": "db5771d6",
   "metadata": {},
   "source": [
    "# Prepare Midfielders"
   ]
  },
  {
   "cell_type": "code",
   "execution_count": 88,
   "id": "3c8bdfc7",
   "metadata": {},
   "outputs": [
    {
     "name": "stdout",
     "output_type": "stream",
     "text": [
      "Train: 3824 rows, 80 cols\n",
      "Validate: 957 rows, 80 cols\n",
      "Test: 844 rows, 80 cols\n"
     ]
    }
   ],
   "source": [
    "#split\n",
    "train, validate, test = prepare.split(midfielder_df)"
   ]
  },
  {
   "cell_type": "code",
   "execution_count": 89,
   "id": "9d1a1d95",
   "metadata": {},
   "outputs": [],
   "source": [
    "#split data\n",
    "X_train = train.drop(columns=['wage_eur', 'total_wage', 'value_eur'])\n",
    "y_train = train[['wage_eur']]\n",
    "\n",
    "X_validate = validate.drop(columns=['wage_eur', 'total_wage', 'value_eur'])\n",
    "y_validate = validate[['wage_eur']]\n",
    "\n",
    "X_test = test.drop(columns=['wage_eur', 'total_wage', 'value_eur'])\n",
    "y_test = test[['wage_eur']]"
   ]
  },
  {
   "cell_type": "code",
   "execution_count": 90,
   "id": "e53ff3e4",
   "metadata": {},
   "outputs": [
    {
     "data": {
      "text/plain": [
       "(3824, 77)"
      ]
     },
     "execution_count": 90,
     "metadata": {},
     "output_type": "execute_result"
    }
   ],
   "source": [
    "#encode categorical variables\n",
    "encoder = ce.LeaveOneOutEncoder(return_df=True)\n",
    "X_train_loo = encoder.fit_transform(X_train, y_train)\n",
    "X_test_loo = encoder.transform(X_test)\n",
    "X_train_loo.shape"
   ]
  },
  {
   "cell_type": "code",
   "execution_count": 91,
   "id": "4b2e1612",
   "metadata": {},
   "outputs": [
    {
     "data": {
      "text/plain": [
       "(3824, 77)"
      ]
     },
     "execution_count": 91,
     "metadata": {},
     "output_type": "execute_result"
    }
   ],
   "source": [
    "#scale data \n",
    "scaler = RobustScaler()\n",
    "X_train_scaled = scaler.fit_transform(X_train_loo, y_train)\n",
    "X_train_scaled.shape"
   ]
  },
  {
   "cell_type": "code",
   "execution_count": 92,
   "id": "8cf02c8f",
   "metadata": {},
   "outputs": [],
   "source": [
    "X_train_scaled_df = pd.DataFrame(X_train_scaled, columns=X_train.columns)"
   ]
  },
  {
   "cell_type": "markdown",
   "id": "81291eb6",
   "metadata": {},
   "source": [
    "# Midfielder Cluster"
   ]
  },
  {
   "cell_type": "markdown",
   "id": "35d31bb4",
   "metadata": {},
   "source": [
    "#### ANOVA test on ball_control, reactions, passing"
   ]
  },
  {
   "cell_type": "code",
   "execution_count": 93,
   "id": "416668da",
   "metadata": {},
   "outputs": [
    {
     "data": {
      "text/html": [
       "<style>#sk-container-id-3 {color: black;background-color: white;}#sk-container-id-3 pre{padding: 0;}#sk-container-id-3 div.sk-toggleable {background-color: white;}#sk-container-id-3 label.sk-toggleable__label {cursor: pointer;display: block;width: 100%;margin-bottom: 0;padding: 0.3em;box-sizing: border-box;text-align: center;}#sk-container-id-3 label.sk-toggleable__label-arrow:before {content: \"▸\";float: left;margin-right: 0.25em;color: #696969;}#sk-container-id-3 label.sk-toggleable__label-arrow:hover:before {color: black;}#sk-container-id-3 div.sk-estimator:hover label.sk-toggleable__label-arrow:before {color: black;}#sk-container-id-3 div.sk-toggleable__content {max-height: 0;max-width: 0;overflow: hidden;text-align: left;background-color: #f0f8ff;}#sk-container-id-3 div.sk-toggleable__content pre {margin: 0.2em;color: black;border-radius: 0.25em;background-color: #f0f8ff;}#sk-container-id-3 input.sk-toggleable__control:checked~div.sk-toggleable__content {max-height: 200px;max-width: 100%;overflow: auto;}#sk-container-id-3 input.sk-toggleable__control:checked~label.sk-toggleable__label-arrow:before {content: \"▾\";}#sk-container-id-3 div.sk-estimator input.sk-toggleable__control:checked~label.sk-toggleable__label {background-color: #d4ebff;}#sk-container-id-3 div.sk-label input.sk-toggleable__control:checked~label.sk-toggleable__label {background-color: #d4ebff;}#sk-container-id-3 input.sk-hidden--visually {border: 0;clip: rect(1px 1px 1px 1px);clip: rect(1px, 1px, 1px, 1px);height: 1px;margin: -1px;overflow: hidden;padding: 0;position: absolute;width: 1px;}#sk-container-id-3 div.sk-estimator {font-family: monospace;background-color: #f0f8ff;border: 1px dotted black;border-radius: 0.25em;box-sizing: border-box;margin-bottom: 0.5em;}#sk-container-id-3 div.sk-estimator:hover {background-color: #d4ebff;}#sk-container-id-3 div.sk-parallel-item::after {content: \"\";width: 100%;border-bottom: 1px solid gray;flex-grow: 1;}#sk-container-id-3 div.sk-label:hover label.sk-toggleable__label {background-color: #d4ebff;}#sk-container-id-3 div.sk-serial::before {content: \"\";position: absolute;border-left: 1px solid gray;box-sizing: border-box;top: 0;bottom: 0;left: 50%;z-index: 0;}#sk-container-id-3 div.sk-serial {display: flex;flex-direction: column;align-items: center;background-color: white;padding-right: 0.2em;padding-left: 0.2em;position: relative;}#sk-container-id-3 div.sk-item {position: relative;z-index: 1;}#sk-container-id-3 div.sk-parallel {display: flex;align-items: stretch;justify-content: center;background-color: white;position: relative;}#sk-container-id-3 div.sk-item::before, #sk-container-id-3 div.sk-parallel-item::before {content: \"\";position: absolute;border-left: 1px solid gray;box-sizing: border-box;top: 0;bottom: 0;left: 50%;z-index: -1;}#sk-container-id-3 div.sk-parallel-item {display: flex;flex-direction: column;z-index: 1;position: relative;background-color: white;}#sk-container-id-3 div.sk-parallel-item:first-child::after {align-self: flex-end;width: 50%;}#sk-container-id-3 div.sk-parallel-item:last-child::after {align-self: flex-start;width: 50%;}#sk-container-id-3 div.sk-parallel-item:only-child::after {width: 0;}#sk-container-id-3 div.sk-dashed-wrapped {border: 1px dashed gray;margin: 0 0.4em 0.5em 0.4em;box-sizing: border-box;padding-bottom: 0.4em;background-color: white;}#sk-container-id-3 div.sk-label label {font-family: monospace;font-weight: bold;display: inline-block;line-height: 1.2em;}#sk-container-id-3 div.sk-label-container {text-align: center;}#sk-container-id-3 div.sk-container {/* jupyter's `normalize.less` sets `[hidden] { display: none; }` but bootstrap.min.css set `[hidden] { display: none !important; }` so we also need the `!important` here to be able to override the default hidden behavior on the sphinx rendered scikit-learn.org. See: https://github.com/scikit-learn/scikit-learn/issues/21755 */display: inline-block !important;position: relative;}#sk-container-id-3 div.sk-text-repr-fallback {display: none;}</style><div id=\"sk-container-id-3\" class=\"sk-top-container\"><div class=\"sk-text-repr-fallback\"><pre>KMeans(n_clusters=4)</pre><b>In a Jupyter environment, please rerun this cell to show the HTML representation or trust the notebook. <br />On GitHub, the HTML representation is unable to render, please try loading this page with nbviewer.org.</b></div><div class=\"sk-container\" hidden><div class=\"sk-item\"><div class=\"sk-estimator sk-toggleable\"><input class=\"sk-toggleable__control sk-hidden--visually\" id=\"sk-estimator-id-3\" type=\"checkbox\" checked><label for=\"sk-estimator-id-3\" class=\"sk-toggleable__label sk-toggleable__label-arrow\">KMeans</label><div class=\"sk-toggleable__content\"><pre>KMeans(n_clusters=4)</pre></div></div></div></div></div>"
      ],
      "text/plain": [
       "KMeans(n_clusters=4)"
      ]
     },
     "execution_count": 93,
     "metadata": {},
     "output_type": "execute_result"
    }
   ],
   "source": [
    "#significance level \n",
    "a = 0.05 \n",
    "#define x \n",
    "X = X_train_scaled_df[['ball_control', 'reactions', 'passing']]\n",
    "#define kmeans\n",
    "kmeans = KMeans(n_clusters=4)\n",
    "#fit \n",
    "kmeans.fit(X)"
   ]
  },
  {
   "cell_type": "code",
   "execution_count": 94,
   "id": "dfd4b360",
   "metadata": {},
   "outputs": [],
   "source": [
    "train['clusters'] = kmeans.predict(X)"
   ]
  },
  {
   "cell_type": "code",
   "execution_count": 95,
   "id": "54263336",
   "metadata": {},
   "outputs": [
    {
     "data": {
      "image/png": "[encoded data removed]",
      "text/plain": [
       "<Figure size 864x432 with 1 Axes>"
      ]
     },
     "metadata": {},
     "output_type": "display_data"
    }
   ],
   "source": [
    "# Find K: evaluate best k using elbow method \n",
    "with plt.style.context('seaborn-whitegrid'):\n",
    "    plt.figure(figsize=(12, 6))\n",
    "    pd.Series({k: KMeans(k).fit(X).inertia_ for k in range(2, 15)}).plot(marker='x')\n",
    "    plt.xticks(range(2, 15))\n",
    "    plt.xlabel('k')\n",
    "    plt.ylabel('inertia')\n",
    "    plt.title('Change in inertia as k increases')"
   ]
  },
  {
   "cell_type": "code",
   "execution_count": 96,
   "id": "b6495241",
   "metadata": {},
   "outputs": [
    {
     "data": {
      "text/html": [
       "<div>\n",
       "<style scoped>\n",
       "    .dataframe tbody tr th:only-of-type {\n",
       "        vertical-align: middle;\n",
       "    }\n",
       "\n",
       "    .dataframe tbody tr th {\n",
       "        vertical-align: top;\n",
       "    }\n",
       "\n",
       "    .dataframe thead th {\n",
       "        text-align: right;\n",
       "    }\n",
       "</style>\n",
       "<table border=\"1\" class=\"dataframe\">\n",
       "  <thead>\n",
       "    <tr style=\"text-align: right;\">\n",
       "      <th></th>\n",
       "      <th>ball_control</th>\n",
       "      <th>reactions</th>\n",
       "      <th>passing</th>\n",
       "    </tr>\n",
       "    <tr>\n",
       "      <th>clusters</th>\n",
       "      <th></th>\n",
       "      <th></th>\n",
       "      <th></th>\n",
       "    </tr>\n",
       "  </thead>\n",
       "  <tbody>\n",
       "    <tr>\n",
       "      <th>0</th>\n",
       "      <td>65.00</td>\n",
       "      <td>60.00</td>\n",
       "      <td>60.00</td>\n",
       "    </tr>\n",
       "    <tr>\n",
       "      <th>1</th>\n",
       "      <td>80.00</td>\n",
       "      <td>77.00</td>\n",
       "      <td>76.00</td>\n",
       "    </tr>\n",
       "    <tr>\n",
       "      <th>2</th>\n",
       "      <td>56.00</td>\n",
       "      <td>51.00</td>\n",
       "      <td>52.00</td>\n",
       "    </tr>\n",
       "    <tr>\n",
       "      <th>3</th>\n",
       "      <td>72.00</td>\n",
       "      <td>68.00</td>\n",
       "      <td>67.00</td>\n",
       "    </tr>\n",
       "  </tbody>\n",
       "</table>\n",
       "</div>"
      ],
      "text/plain": [
       "                 ball_control            reactions              passing\n",
       "clusters                                                               \n",
       "0                       65.00                60.00                60.00\n",
       "1                       80.00                77.00                76.00\n",
       "2                       56.00                51.00                52.00\n",
       "3                       72.00                68.00                67.00"
      ]
     },
     "execution_count": 96,
     "metadata": {},
     "output_type": "execute_result"
    }
   ],
   "source": [
    "train.groupby('clusters')[ 'ball_control', 'reactions', 'passing'].median()"
   ]
  },
  {
   "cell_type": "markdown",
   "id": "6f6921f1",
   "metadata": {},
   "source": [
    "#### _The ANOVA test will be used to measure the significance or lack there of variance between clusters_"
   ]
  },
  {
   "cell_type": "markdown",
   "id": "71bdc27e",
   "metadata": {},
   "source": [
    " - H0: There is no significant difference between salaries of each cluster \n",
    " - HA: There is a significant difference between salaries of each cluster"
   ]
  },
  {
   "cell_type": "code",
   "execution_count": 97,
   "id": "e136ce64",
   "metadata": {},
   "outputs": [
    {
     "name": "stdout",
     "output_type": "stream",
     "text": [
      "Anova Test Results on goalkeeper handling/diving/reflexes Cluster\n",
      "F-value:  829.7447827016706\n",
      "p-value:  0.0\n"
     ]
    }
   ],
   "source": [
    "alpha = 0.05\n",
    "\n",
    "F, p = stats.f_oneway(train[train.clusters == 0].wage_eur,\n",
    "                      train[train.clusters == 1].wage_eur,\n",
    "                      train[train.clusters == 2].wage_eur,\n",
    "                      train[train.clusters == 3].wage_eur)\n",
    "\n",
    "print('Anova Test Results on goalkeeper handling/diving/reflexes Cluster')\n",
    "print('F-value: ',F)\n",
    "print('p-value: ',p)\n",
    "#if p > alpha:\n",
    "    #print(\"\\nWe fail to reject null hypothesis.\")\n",
    "#elif t < 0:\n",
    "    #print(\"We fail to reject null hypothesis.\")\n",
    "#else:\n",
    "    #print(\"We reject null hypothesis.\\n\\n\")"
   ]
  },
  {
   "cell_type": "markdown",
   "id": "c3022e2b",
   "metadata": {},
   "source": [
    "# Prepare Defenders"
   ]
  },
  {
   "cell_type": "code",
   "execution_count": 101,
   "id": "831c5fa4",
   "metadata": {},
   "outputs": [
    {
     "name": "stdout",
     "output_type": "stream",
     "text": [
      "Train: 3437 rows, 80 cols\n",
      "Validate: 860 rows, 80 cols\n",
      "Test: 759 rows, 80 cols\n"
     ]
    }
   ],
   "source": [
    "#split\n",
    "train, validate, test = prepare.split(defender_df)"
   ]
  },
  {
   "cell_type": "code",
   "execution_count": 102,
   "id": "ca821824",
   "metadata": {},
   "outputs": [],
   "source": [
    "#split data\n",
    "X_train = train.drop(columns=['wage_eur', 'total_wage', 'value_eur'])\n",
    "y_train = train[['wage_eur']]\n",
    "\n",
    "X_validate = validate.drop(columns=['wage_eur', 'total_wage', 'value_eur'])\n",
    "y_validate = validate[['wage_eur']]\n",
    "\n",
    "X_test = test.drop(columns=['wage_eur', 'total_wage', 'value_eur'])\n",
    "y_test = test[['wage_eur']]"
   ]
  },
  {
   "cell_type": "code",
   "execution_count": 103,
   "id": "af8415b1",
   "metadata": {},
   "outputs": [
    {
     "data": {
      "text/plain": [
       "(3437, 77)"
      ]
     },
     "execution_count": 103,
     "metadata": {},
     "output_type": "execute_result"
    }
   ],
   "source": [
    "#encode categorical variables\n",
    "encoder = ce.LeaveOneOutEncoder(return_df=True)\n",
    "X_train_loo = encoder.fit_transform(X_train, y_train)\n",
    "X_test_loo = encoder.transform(X_test)\n",
    "X_train_loo.shape"
   ]
  },
  {
   "cell_type": "code",
   "execution_count": 104,
   "id": "2e550001",
   "metadata": {},
   "outputs": [
    {
     "data": {
      "text/plain": [
       "(3437, 77)"
      ]
     },
     "execution_count": 104,
     "metadata": {},
     "output_type": "execute_result"
    }
   ],
   "source": [
    "#scale data \n",
    "scaler = RobustScaler()\n",
    "X_train_scaled = scaler.fit_transform(X_train_loo, y_train)\n",
    "X_train_scaled.shape"
   ]
  },
  {
   "cell_type": "code",
   "execution_count": 105,
   "id": "f27996c8",
   "metadata": {},
   "outputs": [],
   "source": [
    "X_train_scaled_df = pd.DataFrame(X_train_scaled, columns=X_train.columns)"
   ]
  },
  {
   "cell_type": "markdown",
   "id": "3b7d1fd8",
   "metadata": {},
   "source": [
    "# Defender Clusters "
   ]
  },
  {
   "cell_type": "markdown",
   "id": "a7f7e015",
   "metadata": {},
   "source": [
    "#### ANOVA test on marking, potential, short_passing"
   ]
  },
  {
   "cell_type": "code",
   "execution_count": 107,
   "id": "03259ebf",
   "metadata": {},
   "outputs": [
    {
     "data": {
      "text/html": [
       "<style>#sk-container-id-4 {color: black;background-color: white;}#sk-container-id-4 pre{padding: 0;}#sk-container-id-4 div.sk-toggleable {background-color: white;}#sk-container-id-4 label.sk-toggleable__label {cursor: pointer;display: block;width: 100%;margin-bottom: 0;padding: 0.3em;box-sizing: border-box;text-align: center;}#sk-container-id-4 label.sk-toggleable__label-arrow:before {content: \"▸\";float: left;margin-right: 0.25em;color: #696969;}#sk-container-id-4 label.sk-toggleable__label-arrow:hover:before {color: black;}#sk-container-id-4 div.sk-estimator:hover label.sk-toggleable__label-arrow:before {color: black;}#sk-container-id-4 div.sk-toggleable__content {max-height: 0;max-width: 0;overflow: hidden;text-align: left;background-color: #f0f8ff;}#sk-container-id-4 div.sk-toggleable__content pre {margin: 0.2em;color: black;border-radius: 0.25em;background-color: #f0f8ff;}#sk-container-id-4 input.sk-toggleable__control:checked~div.sk-toggleable__content {max-height: 200px;max-width: 100%;overflow: auto;}#sk-container-id-4 input.sk-toggleable__control:checked~label.sk-toggleable__label-arrow:before {content: \"▾\";}#sk-container-id-4 div.sk-estimator input.sk-toggleable__control:checked~label.sk-toggleable__label {background-color: #d4ebff;}#sk-container-id-4 div.sk-label input.sk-toggleable__control:checked~label.sk-toggleable__label {background-color: #d4ebff;}#sk-container-id-4 input.sk-hidden--visually {border: 0;clip: rect(1px 1px 1px 1px);clip: rect(1px, 1px, 1px, 1px);height: 1px;margin: -1px;overflow: hidden;padding: 0;position: absolute;width: 1px;}#sk-container-id-4 div.sk-estimator {font-family: monospace;background-color: #f0f8ff;border: 1px dotted black;border-radius: 0.25em;box-sizing: border-box;margin-bottom: 0.5em;}#sk-container-id-4 div.sk-estimator:hover {background-color: #d4ebff;}#sk-container-id-4 div.sk-parallel-item::after {content: \"\";width: 100%;border-bottom: 1px solid gray;flex-grow: 1;}#sk-container-id-4 div.sk-label:hover label.sk-toggleable__label {background-color: #d4ebff;}#sk-container-id-4 div.sk-serial::before {content: \"\";position: absolute;border-left: 1px solid gray;box-sizing: border-box;top: 0;bottom: 0;left: 50%;z-index: 0;}#sk-container-id-4 div.sk-serial {display: flex;flex-direction: column;align-items: center;background-color: white;padding-right: 0.2em;padding-left: 0.2em;position: relative;}#sk-container-id-4 div.sk-item {position: relative;z-index: 1;}#sk-container-id-4 div.sk-parallel {display: flex;align-items: stretch;justify-content: center;background-color: white;position: relative;}#sk-container-id-4 div.sk-item::before, #sk-container-id-4 div.sk-parallel-item::before {content: \"\";position: absolute;border-left: 1px solid gray;box-sizing: border-box;top: 0;bottom: 0;left: 50%;z-index: -1;}#sk-container-id-4 div.sk-parallel-item {display: flex;flex-direction: column;z-index: 1;position: relative;background-color: white;}#sk-container-id-4 div.sk-parallel-item:first-child::after {align-self: flex-end;width: 50%;}#sk-container-id-4 div.sk-parallel-item:last-child::after {align-self: flex-start;width: 50%;}#sk-container-id-4 div.sk-parallel-item:only-child::after {width: 0;}#sk-container-id-4 div.sk-dashed-wrapped {border: 1px dashed gray;margin: 0 0.4em 0.5em 0.4em;box-sizing: border-box;padding-bottom: 0.4em;background-color: white;}#sk-container-id-4 div.sk-label label {font-family: monospace;font-weight: bold;display: inline-block;line-height: 1.2em;}#sk-container-id-4 div.sk-label-container {text-align: center;}#sk-container-id-4 div.sk-container {/* jupyter's `normalize.less` sets `[hidden] { display: none; }` but bootstrap.min.css set `[hidden] { display: none !important; }` so we also need the `!important` here to be able to override the default hidden behavior on the sphinx rendered scikit-learn.org. See: https://github.com/scikit-learn/scikit-learn/issues/21755 */display: inline-block !important;position: relative;}#sk-container-id-4 div.sk-text-repr-fallback {display: none;}</style><div id=\"sk-container-id-4\" class=\"sk-top-container\"><div class=\"sk-text-repr-fallback\"><pre>KMeans(n_clusters=4)</pre><b>In a Jupyter environment, please rerun this cell to show the HTML representation or trust the notebook. <br />On GitHub, the HTML representation is unable to render, please try loading this page with nbviewer.org.</b></div><div class=\"sk-container\" hidden><div class=\"sk-item\"><div class=\"sk-estimator sk-toggleable\"><input class=\"sk-toggleable__control sk-hidden--visually\" id=\"sk-estimator-id-4\" type=\"checkbox\" checked><label for=\"sk-estimator-id-4\" class=\"sk-toggleable__label sk-toggleable__label-arrow\">KMeans</label><div class=\"sk-toggleable__content\"><pre>KMeans(n_clusters=4)</pre></div></div></div></div></div>"
      ],
      "text/plain": [
       "KMeans(n_clusters=4)"
      ]
     },
     "execution_count": 107,
     "metadata": {},
     "output_type": "execute_result"
    }
   ],
   "source": [
    "#significance level \n",
    "a = 0.05 \n",
    "#define x \n",
    "X = X_train_scaled_df[['marking', 'potential', 'short_passing']]\n",
    "#define kmeans\n",
    "kmeans = KMeans(n_clusters=4)\n",
    "#fit \n",
    "kmeans.fit(X)"
   ]
  },
  {
   "cell_type": "code",
   "execution_count": 108,
   "id": "61caedfe",
   "metadata": {},
   "outputs": [],
   "source": [
    "train['clusters'] = kmeans.predict(X)"
   ]
  },
  {
   "cell_type": "code",
   "execution_count": 109,
   "id": "46a8f784",
   "metadata": {},
   "outputs": [
    {
     "data": {
      "image/png": "[encoded data removed]",
      "text/plain": [
       "<Figure size 864x432 with 1 Axes>"
      ]
     },
     "metadata": {},
     "output_type": "display_data"
    }
   ],
   "source": [
    "# Find K: evaluate best k using elbow method \n",
    "with plt.style.context('seaborn-whitegrid'):\n",
    "    plt.figure(figsize=(12, 6))\n",
    "    pd.Series({k: KMeans(k).fit(X).inertia_ for k in range(2, 15)}).plot(marker='x')\n",
    "    plt.xticks(range(2, 15))\n",
    "    plt.xlabel('k')\n",
    "    plt.ylabel('inertia')\n",
    "    plt.title('Change in inertia as k increases')"
   ]
  },
  {
   "cell_type": "code",
   "execution_count": 110,
   "id": "3df4f5f1",
   "metadata": {},
   "outputs": [
    {
     "data": {
      "text/html": [
       "<div>\n",
       "<style scoped>\n",
       "    .dataframe tbody tr th:only-of-type {\n",
       "        vertical-align: middle;\n",
       "    }\n",
       "\n",
       "    .dataframe tbody tr th {\n",
       "        vertical-align: top;\n",
       "    }\n",
       "\n",
       "    .dataframe thead th {\n",
       "        text-align: right;\n",
       "    }\n",
       "</style>\n",
       "<table border=\"1\" class=\"dataframe\">\n",
       "  <thead>\n",
       "    <tr style=\"text-align: right;\">\n",
       "      <th></th>\n",
       "      <th>ball_control</th>\n",
       "      <th>reactions</th>\n",
       "      <th>passing</th>\n",
       "    </tr>\n",
       "    <tr>\n",
       "      <th>clusters</th>\n",
       "      <th></th>\n",
       "      <th></th>\n",
       "      <th></th>\n",
       "    </tr>\n",
       "  </thead>\n",
       "  <tbody>\n",
       "    <tr>\n",
       "      <th>0</th>\n",
       "      <td>44.00</td>\n",
       "      <td>50.00</td>\n",
       "      <td>38.00</td>\n",
       "    </tr>\n",
       "    <tr>\n",
       "      <th>1</th>\n",
       "      <td>64.00</td>\n",
       "      <td>66.00</td>\n",
       "      <td>58.00</td>\n",
       "    </tr>\n",
       "    <tr>\n",
       "      <th>2</th>\n",
       "      <td>57.00</td>\n",
       "      <td>58.00</td>\n",
       "      <td>51.00</td>\n",
       "    </tr>\n",
       "    <tr>\n",
       "      <th>3</th>\n",
       "      <td>72.00</td>\n",
       "      <td>75.00</td>\n",
       "      <td>66.00</td>\n",
       "    </tr>\n",
       "  </tbody>\n",
       "</table>\n",
       "</div>"
      ],
      "text/plain": [
       "                 ball_control            reactions              passing\n",
       "clusters                                                               \n",
       "0                       44.00                50.00                38.00\n",
       "1                       64.00                66.00                58.00\n",
       "2                       57.00                58.00                51.00\n",
       "3                       72.00                75.00                66.00"
      ]
     },
     "execution_count": 110,
     "metadata": {},
     "output_type": "execute_result"
    }
   ],
   "source": [
    "train.groupby('clusters')[ 'ball_control', 'reactions', 'passing'].median()"
   ]
  },
  {
   "cell_type": "markdown",
   "id": "dede498c",
   "metadata": {},
   "source": [
    "#### _The ANOVA test will be used to measure the significance or lack there of variance between clusters_"
   ]
  },
  {
   "cell_type": "markdown",
   "id": "799e8f44",
   "metadata": {},
   "source": [
    " - H0: There is no significant difference between salaries of each cluster \n",
    " - HA: There is a significant difference between salaries of each cluster"
   ]
  },
  {
   "cell_type": "code",
   "execution_count": 113,
   "id": "55d5d245",
   "metadata": {},
   "outputs": [
    {
     "name": "stdout",
     "output_type": "stream",
     "text": [
      "Anova Test Results on goalkeeper handling/diving/reflexes Cluster\n",
      "F-value:  945.0582927446194\n",
      "p-value:  0.0\n"
     ]
    }
   ],
   "source": [
    "alpha = 0.05\n",
    "\n",
    "F, p = stats.f_oneway(train[train.clusters == 0].wage_eur,\n",
    "                      train[train.clusters == 1].wage_eur,\n",
    "                      train[train.clusters == 2].wage_eur,\n",
    "                      train[train.clusters == 3].wage_eur)\n",
    "\n",
    "print('Anova Test Results on goalkeeper handling/diving/reflexes Cluster')\n",
    "print('F-value: ',F)\n",
    "print('p-value: ',p)\n",
    "#if p > alpha:\n",
    "    #print(\"\\nWe fail to reject null hypothesis.\")\n",
    "#elif t < 0:\n",
    "    #print(\"We fail to reject null hypothesis.\")\n",
    "#else:\n",
    "    #print(\"We reject null hypothesis.\\n\\n\")"
   ]
  },
  {
   "cell_type": "code",
   "execution_count": null,
   "id": "74630d78",
   "metadata": {},
   "outputs": [],
   "source": []
  },
  {
   "cell_type": "code",
   "execution_count": null,
   "id": "1c28b36f",
   "metadata": {},
   "outputs": [],
   "source": []
  },
  {
   "cell_type": "code",
   "execution_count": null,
   "id": "1c72f763",
   "metadata": {},
   "outputs": [],
   "source": []
  },
  {
   "cell_type": "code",
   "execution_count": null,
   "id": "4af27f21",
   "metadata": {},
   "outputs": [],
   "source": []
  },
  {
   "cell_type": "code",
   "execution_count": null,
   "id": "7c181239",
   "metadata": {},
   "outputs": [],
   "source": []
  },
  {
   "cell_type": "code",
   "execution_count": null,
   "id": "18fb60a2",
   "metadata": {},
   "outputs": [],
   "source": []
  },
  {
   "cell_type": "code",
   "execution_count": null,
   "id": "71651020",
   "metadata": {},
   "outputs": [],
   "source": []
  },
  {
   "cell_type": "code",
   "execution_count": null,
   "id": "972ba89a",
   "metadata": {},
   "outputs": [],
   "source": []
  },
  {
   "cell_type": "code",
   "execution_count": null,
   "id": "4f02bb6d",
   "metadata": {},
   "outputs": [],
   "source": []
  },
  {
   "cell_type": "code",
   "execution_count": null,
   "id": "f834705b",
   "metadata": {},
   "outputs": [],
   "source": []
  },
  {
   "cell_type": "code",
   "execution_count": null,
   "id": "422e727a",
   "metadata": {},
   "outputs": [],
   "source": []
  },
  {
   "cell_type": "code",
   "execution_count": null,
   "id": "41bf8880",
   "metadata": {},
   "outputs": [],
   "source": []
  },
  {
   "cell_type": "code",
   "execution_count": null,
   "id": "54063696",
   "metadata": {},
   "outputs": [],
   "source": []
  },
  {
   "cell_type": "code",
   "execution_count": null,
   "id": "db4d95ba",
   "metadata": {},
   "outputs": [],
   "source": []
  },
  {
   "cell_type": "code",
   "execution_count": null,
   "id": "d26baad5",
   "metadata": {},
   "outputs": [],
   "source": []
  },
  {
   "cell_type": "code",
   "execution_count": null,
   "id": "d81d2b04",
   "metadata": {},
   "outputs": [],
   "source": []
  },
  {
   "cell_type": "code",
   "execution_count": null,
   "id": "c9eeed59",
   "metadata": {},
   "outputs": [],
   "source": []
  },
  {
   "cell_type": "code",
   "execution_count": null,
   "id": "5c0cba39",
   "metadata": {},
   "outputs": [],
   "source": []
  },
  {
   "cell_type": "code",
   "execution_count": null,
   "id": "3ee5275c",
   "metadata": {},
   "outputs": [],
   "source": []
  },
  {
   "cell_type": "code",
   "execution_count": null,
   "id": "61bea88f",
   "metadata": {},
   "outputs": [],
   "source": []
  },
  {
   "cell_type": "code",
   "execution_count": null,
   "id": "17bc22ef",
   "metadata": {},
   "outputs": [],
   "source": []
  },
  {
   "cell_type": "code",
   "execution_count": null,
   "id": "94a85417",
   "metadata": {},
   "outputs": [],
   "source": []
  },
  {
   "cell_type": "code",
   "execution_count": null,
   "id": "b1c066cb",
   "metadata": {},
   "outputs": [],
   "source": []
  },
  {
   "cell_type": "code",
   "execution_count": null,
   "id": "93973187",
   "metadata": {},
   "outputs": [],
   "source": []
  },
  {
   "cell_type": "code",
   "execution_count": null,
   "id": "809f1f80",
   "metadata": {},
   "outputs": [],
   "source": []
  },
  {
   "cell_type": "code",
   "execution_count": null,
   "id": "84fd8da2",
   "metadata": {},
   "outputs": [],
   "source": []
  },
  {
   "cell_type": "code",
   "execution_count": null,
   "id": "5ce656df",
   "metadata": {},
   "outputs": [],
   "source": []
  },
  {
   "cell_type": "code",
   "execution_count": null,
   "id": "795ec4db",
   "metadata": {},
   "outputs": [],
   "source": []
  },
  {
   "cell_type": "code",
   "execution_count": null,
   "id": "8186f2af",
   "metadata": {},
   "outputs": [],
   "source": []
  },
  {
   "cell_type": "code",
   "execution_count": null,
   "id": "ed707e76",
   "metadata": {},
   "outputs": [],
   "source": []
  },
  {
   "cell_type": "code",
   "execution_count": null,
   "id": "05dc1324",
   "metadata": {},
   "outputs": [],
   "source": []
  },
  {
   "cell_type": "code",
   "execution_count": null,
   "id": "642b0e0d",
   "metadata": {},
   "outputs": [],
   "source": []
  },
  {
   "cell_type": "code",
   "execution_count": null,
   "id": "739c8e2b",
   "metadata": {},
   "outputs": [],
   "source": []
  },
  {
   "cell_type": "code",
   "execution_count": null,
   "id": "f40db8d4",
   "metadata": {},
   "outputs": [],
   "source": []
  },
  {
   "cell_type": "code",
   "execution_count": null,
   "id": "b62b966a",
   "metadata": {},
   "outputs": [],
   "source": []
  },
  {
   "cell_type": "code",
   "execution_count": null,
   "id": "72994132",
   "metadata": {},
   "outputs": [],
   "source": []
  },
  {
   "cell_type": "code",
   "execution_count": null,
   "id": "7649cc49",
   "metadata": {},
   "outputs": [],
   "source": []
  },
  {
   "cell_type": "code",
   "execution_count": null,
   "id": "148a3f6e",
   "metadata": {},
   "outputs": [],
   "source": []
  }
 ],
 "metadata": {
  "kernelspec": {
   "display_name": "Python 3 (ipykernel)",
   "language": "python",
   "name": "python3"
  },
  "language_info": {
   "codemirror_mode": {
    "name": "ipython",
    "version": 3
   },
   "file_extension": ".py",
   "mimetype": "text/x-python",
   "name": "python",
   "nbconvert_exporter": "python",
   "pygments_lexer": "ipython3",
   "version": "3.9.7"
  }
 },
 "nbformat": 4,
 "nbformat_minor": 5
}
