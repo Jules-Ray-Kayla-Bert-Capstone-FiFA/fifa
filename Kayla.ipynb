{
 "cells": [
  {
   "cell_type": "code",
   "execution_count": null,
   "id": "aa6f23e1",
   "metadata": {},
   "outputs": [],
   "source": [
    "pip install category_encoders"
   ]
  },
  {
   "cell_type": "code",
   "execution_count": 1,
   "id": "aaca1a7c",
   "metadata": {},
   "outputs": [],
   "source": [
    "# STANDARD LIBRARIES\n",
    "import os\n",
    "import warnings\n",
    "warnings.filterwarnings(\"ignore\")\n",
    "\n",
    "# THIRD PARTY LIBRARIES\n",
    "import numpy as np\n",
    "import matplotlib.pyplot as plt\n",
    "import pandas as pd\n",
    "import seaborn as sns\n",
    "import pydataset\n",
    "import scipy.stats as stats\n",
    "import category_encoders as ce\n",
    "\n",
    "#statistical tests\n",
    "from scipy import stats\n",
    "from scipy.stats import pearsonr, spearmanr\n",
    "\n",
    "\n",
    "\n",
    "# default pandas decimal number display format\n",
    "pd.options.display.float_format = '{:20,.2f}'.format\n",
    "from sklearn import preprocessing\n",
    "\n",
    "from sklearn.model_selection import train_test_split\n",
    "from sklearn.impute import SimpleImputer\n",
    "from sklearn.feature_selection import RFE\n",
    "from sklearn.metrics import mean_squared_error\n",
    "from sklearn.preprocessing import MinMaxScaler\n",
    "import sklearn.linear_model\n",
    "import sklearn.feature_selection\n",
    "import sklearn.preprocessing\n",
    "from sklearn.feature_selection import SelectKBest, f_regression\n",
    "from sklearn.linear_model import LinearRegression, LassoLars, TweedieRegressor\n",
    "from sklearn.preprocessing import PolynomialFeatures\n",
    "import plotly.express as px\n",
    "from sklearn.cluster import KMeans\n",
    "from sklearn.feature_selection import RFE\n",
    "import matplotlib\n",
    "from sklearn.preprocessing import MinMaxScaler, StandardScaler, RobustScaler, QuantileTransformer\n",
    "from math import sqrt"
   ]
  },
  {
   "cell_type": "code",
   "execution_count": 2,
   "id": "92d518bd",
   "metadata": {},
   "outputs": [],
   "source": [
    "import acquire \n",
    "import prepare"
   ]
  },
  {
   "cell_type": "code",
   "execution_count": 3,
   "id": "73621878",
   "metadata": {},
   "outputs": [],
   "source": [
    "df = acquire.get_fifa_data()"
   ]
  },
  {
   "cell_type": "code",
   "execution_count": 4,
   "id": "a3cd7a20",
   "metadata": {},
   "outputs": [
    {
     "name": "stdout",
     "output_type": "stream",
     "text": [
      "Before dropping nulls, 20700 rows, 111 cols\n",
      "After dropping nulls. 19457 rows. 66 cols\n",
      "After cleaning the data and adding additional columns there are: 15373 rows. 83 cols\n"
     ]
    }
   ],
   "source": [
    "df = prepare.prepped_data(df)"
   ]
  },
  {
   "cell_type": "code",
   "execution_count": 6,
   "id": "74b25626",
   "metadata": {},
   "outputs": [],
   "source": [
    "goalkeeper_df, forward_df, midfielder_df, defender_df = prepare.acquire_players_by_position(df)"
   ]
  },
  {
   "cell_type": "code",
   "execution_count": null,
   "id": "7567354f",
   "metadata": {},
   "outputs": [],
   "source": [
    "goalkeeper_df.he"
   ]
  },
  {
   "cell_type": "code",
   "execution_count": null,
   "id": "d1f0881a",
   "metadata": {},
   "outputs": [],
   "source": []
  },
  {
   "cell_type": "code",
   "execution_count": null,
   "id": "b9d7bba8",
   "metadata": {},
   "outputs": [],
   "source": []
  },
  {
   "cell_type": "markdown",
   "id": "f735bb8c",
   "metadata": {},
   "source": [
    "# Step 1: Assign all player positions to a dataframe"
   ]
  },
  {
   "cell_type": "code",
   "execution_count": null,
   "id": "8decc968",
   "metadata": {},
   "outputs": [],
   "source": [
    "#GK\n",
    "goalkeepers = df[(df.club_position == 'GK')]"
   ]
  },
  {
   "cell_type": "code",
   "execution_count": null,
   "id": "916ac9c7",
   "metadata": {},
   "outputs": [],
   "source": [
    "goalkeepers.shape"
   ]
  },
  {
   "cell_type": "code",
   "execution_count": null,
   "id": "902e0f9f",
   "metadata": {},
   "outputs": [],
   "source": [
    "#ST, RS, LS, LW, RW, LF, CF\n",
    "forwards = df[(df.club_position == 'ST') | (df.club_position == 'RS') | (df.club_position == 'LS') | (df.club_position == 'LW') | (df.club_position == 'RW') | (df.club_position == 'LF') | (df.club_position == 'CF')]\n"
   ]
  },
  {
   "cell_type": "code",
   "execution_count": null,
   "id": "848c38b4",
   "metadata": {},
   "outputs": [],
   "source": [
    "forwards.shape"
   ]
  },
  {
   "cell_type": "code",
   "execution_count": null,
   "id": "c08429f1",
   "metadata": {},
   "outputs": [],
   "source": [
    "#LCM, RCM, RM, LM, CAM, LDM, RDM, CDM, LAM, RAM \n",
    "midfielders = df[(df.club_position == 'LCM') | (df.club_position == 'RCM') | (df.club_position == 'RM') | (df.club_position == 'LM') | (df.club_position == 'CAM') | (df.club_position == 'LDM') | (df.club_position == 'RDM') | (df.club_position == 'CDM') | (df.club_position == 'LAM') | (df.club_position == 'RAM')] \n"
   ]
  },
  {
   "cell_type": "code",
   "execution_count": null,
   "id": "fda7fa6a",
   "metadata": {},
   "outputs": [],
   "source": [
    "midfielders.shape"
   ]
  },
  {
   "cell_type": "code",
   "execution_count": null,
   "id": "95c6dfed",
   "metadata": {},
   "outputs": [],
   "source": [
    "#RCB, LCB, LB, RB, CB, RWB, LWB\n",
    "defenders = df[(df.club_position == 'RCB') | (df.club_position == 'LCB') | (df.club_position == 'LB') | (df.club_position == 'RB') | (df.club_position == 'CB') | (df.club_position == 'RWB') | (df.club_position == 'LWB')]"
   ]
  },
  {
   "cell_type": "code",
   "execution_count": null,
   "id": "129063db",
   "metadata": {},
   "outputs": [],
   "source": [
    "defenders.shape"
   ]
  },
  {
   "cell_type": "code",
   "execution_count": null,
   "id": "0c1962e2",
   "metadata": {},
   "outputs": [],
   "source": [
    "reserve = df[df.club_position == 'RES']\n"
   ]
  },
  {
   "cell_type": "code",
   "execution_count": null,
   "id": "8d55b888",
   "metadata": {},
   "outputs": [],
   "source": [
    "reserve.shape"
   ]
  },
  {
   "cell_type": "code",
   "execution_count": null,
   "id": "24ca101b",
   "metadata": {},
   "outputs": [],
   "source": [
    "substitute = df[df.club_position == 'SUB']"
   ]
  },
  {
   "cell_type": "code",
   "execution_count": null,
   "id": "407d039c",
   "metadata": {},
   "outputs": [],
   "source": [
    "substitute.shape"
   ]
  },
  {
   "cell_type": "code",
   "execution_count": null,
   "id": "c588663c",
   "metadata": {},
   "outputs": [],
   "source": [
    "df.shape"
   ]
  },
  {
   "cell_type": "markdown",
   "id": "a930e7b2",
   "metadata": {},
   "source": [
    "# Step 2: Separate RESERVE Player dataframe by player position"
   ]
  },
  {
   "cell_type": "code",
   "execution_count": null,
   "id": "7a8e336b",
   "metadata": {},
   "outputs": [],
   "source": [
    "reserve.shape"
   ]
  },
  {
   "cell_type": "code",
   "execution_count": null,
   "id": "22a8139b",
   "metadata": {},
   "outputs": [],
   "source": [
    "reserve['player_positions'] = reserve['player_positions'].str.split(',').str[0]"
   ]
  },
  {
   "cell_type": "code",
   "execution_count": null,
   "id": "a1512ee2",
   "metadata": {},
   "outputs": [],
   "source": [
    "df_reserve_goalkeepers = reserve[reserve.player_positions == 'GK']"
   ]
  },
  {
   "cell_type": "code",
   "execution_count": null,
   "id": "e50884b9",
   "metadata": {},
   "outputs": [],
   "source": [
    "df_reserve_goalkeepers.shape"
   ]
  },
  {
   "cell_type": "code",
   "execution_count": null,
   "id": "ec77fd4d",
   "metadata": {},
   "outputs": [],
   "source": [
    "#ST, RS, LS, LW, RW, LF, CF\n",
    "df_reserve_forwards = reserve[(reserve.player_positions == 'ST') | (reserve.player_positions == 'RW') | (reserve.player_positions == 'LW') | (reserve.player_positions == 'CF')]"
   ]
  },
  {
   "cell_type": "code",
   "execution_count": null,
   "id": "56c62315",
   "metadata": {},
   "outputs": [],
   "source": [
    "df_reserve_forwards.shape"
   ]
  },
  {
   "cell_type": "code",
   "execution_count": null,
   "id": "588965b5",
   "metadata": {},
   "outputs": [],
   "source": [
    "#LCM, RCM, RM, LM, CAM, LDM, RDM, CDM, LAM, RAM \n",
    "df_reserve_midfielders = reserve[(reserve.player_positions == 'CM') | (reserve.player_positions == 'CDM') | (reserve.player_positions == 'CAM') | (reserve.player_positions == 'RM') | (reserve.player_positions == 'LM')]"
   ]
  },
  {
   "cell_type": "code",
   "execution_count": null,
   "id": "aaea5183",
   "metadata": {},
   "outputs": [],
   "source": [
    "df_reserve_midfielders.shape"
   ]
  },
  {
   "cell_type": "code",
   "execution_count": null,
   "id": "bcec7dc9",
   "metadata": {},
   "outputs": [],
   "source": [
    "#RCB, LCB, LB, RB, CB, RWB, LWB\n",
    "df_reserve_defenders = reserve[(reserve.player_positions == 'CB') | (reserve.player_positions == 'LB') | (reserve.player_positions == 'RB') | (reserve.player_positions == 'LWB') | (reserve.player_positions == 'RWB')]"
   ]
  },
  {
   "cell_type": "code",
   "execution_count": null,
   "id": "73e20882",
   "metadata": {},
   "outputs": [],
   "source": [
    "df_reserve_defenders.shape"
   ]
  },
  {
   "cell_type": "markdown",
   "id": "a887d653",
   "metadata": {},
   "source": [
    "# Step 3: Separate SUBSTITUTE Player dataframe by player position"
   ]
  },
  {
   "cell_type": "code",
   "execution_count": null,
   "id": "aeea8e55",
   "metadata": {},
   "outputs": [],
   "source": [
    "substitute.shape"
   ]
  },
  {
   "cell_type": "code",
   "execution_count": null,
   "id": "5812a7a2",
   "metadata": {},
   "outputs": [],
   "source": [
    "substitute['player_positions'] = substitute['player_positions'].str.split(',').str[0]\n"
   ]
  },
  {
   "cell_type": "code",
   "execution_count": null,
   "id": "eb0da29e",
   "metadata": {},
   "outputs": [],
   "source": [
    "df_substitute_goalkeeper = substitute[substitute.player_positions == 'GK']"
   ]
  },
  {
   "cell_type": "code",
   "execution_count": null,
   "id": "d7d99332",
   "metadata": {},
   "outputs": [],
   "source": [
    "df_substitute_goalkeeper.shape"
   ]
  },
  {
   "cell_type": "code",
   "execution_count": null,
   "id": "7c62f12c",
   "metadata": {},
   "outputs": [],
   "source": [
    "df_substitute_forward = substitute[(substitute.player_positions == 'ST') | (substitute.player_positions == 'RW') | (substitute.player_positions == 'LW') | (substitute.player_positions == 'CF')]"
   ]
  },
  {
   "cell_type": "code",
   "execution_count": null,
   "id": "b483822f",
   "metadata": {},
   "outputs": [],
   "source": [
    "df_substitute_forward.shape"
   ]
  },
  {
   "cell_type": "code",
   "execution_count": null,
   "id": "76a1bcee",
   "metadata": {},
   "outputs": [],
   "source": [
    "df_substitute_midfielders = substitute[(substitute.player_positions == 'CM') | (substitute.player_positions == 'CDM') | (substitute.player_positions == 'CAM') | (substitute.player_positions == 'LM') | (substitute.player_positions == 'RM')]"
   ]
  },
  {
   "cell_type": "code",
   "execution_count": null,
   "id": "2e718301",
   "metadata": {},
   "outputs": [],
   "source": [
    "df_substitute_midfielders.shape"
   ]
  },
  {
   "cell_type": "code",
   "execution_count": null,
   "id": "5096608e",
   "metadata": {},
   "outputs": [],
   "source": [
    "df_substitute_defenders = substitute[(substitute.player_positions == 'CB') | (substitute.player_positions == 'LB') | (substitute.player_positions == 'RB') | (substitute.player_positions == 'RWB') | (substitute.player_positions == 'LWB')]"
   ]
  },
  {
   "cell_type": "code",
   "execution_count": null,
   "id": "1242a8b9",
   "metadata": {},
   "outputs": [],
   "source": [
    "df_substitute_defenders.shape"
   ]
  },
  {
   "cell_type": "markdown",
   "id": "bb4167c0",
   "metadata": {},
   "source": [
    "# Step 4: Concat Dataframes together \n"
   ]
  },
  {
   "cell_type": "code",
   "execution_count": null,
   "id": "2a1d5ad4",
   "metadata": {},
   "outputs": [],
   "source": [
    "goalkeeper_df = pd.concat([goalkeepers, df_substitute_goalkeeper, df_reserve_goalkeepers], axis=0)"
   ]
  },
  {
   "cell_type": "code",
   "execution_count": null,
   "id": "41200828",
   "metadata": {},
   "outputs": [],
   "source": [
    "forward_df = pd.concat([forwards, df_substitute_forward, df_reserve_forwards], axis=0)"
   ]
  },
  {
   "cell_type": "code",
   "execution_count": null,
   "id": "6ee87dd0",
   "metadata": {},
   "outputs": [],
   "source": [
    "midfielder_df = pd.concat([midfielders, df_substitute_midfielders, df_reserve_midfielders], axis=0)"
   ]
  },
  {
   "cell_type": "code",
   "execution_count": null,
   "id": "66418fee",
   "metadata": {},
   "outputs": [],
   "source": [
    "defender_df = pd.concat([defenders, df_substitute_defenders, df_reserve_defenders], axis=0)"
   ]
  },
  {
   "cell_type": "markdown",
   "id": "6fa723ed",
   "metadata": {},
   "source": [
    "# Step 5: Correlation for each position"
   ]
  },
  {
   "cell_type": "code",
   "execution_count": null,
   "id": "2241b543",
   "metadata": {},
   "outputs": [],
   "source": [
    "goalkeeper_df.corr()[['wage_eur']].sort_values(by='wage_eur', ascending=False).head(10)"
   ]
  },
  {
   "cell_type": "code",
   "execution_count": null,
   "id": "75d27af0",
   "metadata": {},
   "outputs": [],
   "source": [
    "forward_df.corr()[['wage_eur']].sort_values(by='wage_eur', ascending=False).head(10)"
   ]
  },
  {
   "cell_type": "code",
   "execution_count": null,
   "id": "2552c4dc",
   "metadata": {},
   "outputs": [],
   "source": [
    "midfielder_df.corr()[['wage_eur']].sort_values(by='wage_eur', ascending=False).head(10)"
   ]
  },
  {
   "cell_type": "code",
   "execution_count": null,
   "id": "0fa2e1a6",
   "metadata": {},
   "outputs": [],
   "source": [
    "defender_df.corr()[['wage_eur']].sort_values(by='wage_eur', ascending=False).head(15)"
   ]
  },
  {
   "cell_type": "markdown",
   "id": "ce573127",
   "metadata": {},
   "source": [
    "# Clusters based on Correlation"
   ]
  },
  {
   "cell_type": "markdown",
   "id": "e192930f",
   "metadata": {},
   "source": [
    "_Prepare the Data_"
   ]
  },
  {
   "cell_type": "code",
   "execution_count": null,
   "id": "3c791b71",
   "metadata": {},
   "outputs": [],
   "source": [
    "#split\n",
    "train, validate, test = prepare.split(goalkeeper_df)"
   ]
  },
  {
   "cell_type": "code",
   "execution_count": null,
   "id": "7b90fd1f",
   "metadata": {},
   "outputs": [],
   "source": [
    "#split data\n",
    "X_train = train.drop(columns=['wage_eur', 'total_wage', 'value_eur'])\n",
    "y_train = train[['wage_eur']]\n",
    "\n",
    "X_validate = validate.drop(columns=['wage_eur', 'total_wage', 'value_eur'])\n",
    "y_validate = validate[['wage_eur']]\n",
    "\n",
    "X_test = test.drop(columns=['wage_eur', 'total_wage', 'value_eur'])\n",
    "y_test = test[['wage_eur']]"
   ]
  },
  {
   "cell_type": "markdown",
   "id": "d130cc2e",
   "metadata": {},
   "source": [
    "_Encode categorical variables_ "
   ]
  },
  {
   "cell_type": "code",
   "execution_count": null,
   "id": "2a466146",
   "metadata": {},
   "outputs": [],
   "source": [
    "#encode categorical variables\n",
    "encoder = ce.LeaveOneOutEncoder(return_df=True)\n",
    "X_train_loo = encoder.fit_transform(X_train, y_train)\n",
    "X_test_loo = encoder.transform(X_test)\n",
    "X_train_loo.shape"
   ]
  },
  {
   "cell_type": "code",
   "execution_count": null,
   "id": "2a50587e",
   "metadata": {},
   "outputs": [],
   "source": [
    "#scale data \n",
    "scaler = RobustScaler()\n",
    "X_train_scaled = scaler.fit_transform(X_train_loo, y_train)\n",
    "X_train_scaled.shape"
   ]
  },
  {
   "cell_type": "code",
   "execution_count": null,
   "id": "3c5686ff",
   "metadata": {},
   "outputs": [],
   "source": [
    "X_train_scaled_df = pd.DataFrame(X_train_scaled, columns=X_train.columns)\n",
    "X_train_scaled_df.describe()"
   ]
  },
  {
   "cell_type": "markdown",
   "id": "ac726d86",
   "metadata": {},
   "source": [
    "# Goalkeeper Clusters"
   ]
  },
  {
   "cell_type": "markdown",
   "id": "769596f3",
   "metadata": {},
   "source": [
    "#### ANOVA test on gk_handling, gk_diving, gk_reflexes"
   ]
  },
  {
   "cell_type": "code",
   "execution_count": null,
   "id": "7143da22",
   "metadata": {},
   "outputs": [],
   "source": [
    "#significance level \n",
    "a = 0.05 \n",
    "#define x \n",
    "X = X_train_scaled_df[['gk_handling', 'gk_diving', 'gk_reflexes']]\n",
    "#define kmeans\n",
    "kmeans = KMeans(n_clusters=4)\n",
    "#fit \n",
    "kmeans.fit(X)"
   ]
  },
  {
   "cell_type": "code",
   "execution_count": null,
   "id": "fb53b9ae",
   "metadata": {},
   "outputs": [],
   "source": [
    "train['clusters'] = kmeans.predict(X)"
   ]
  },
  {
   "cell_type": "code",
   "execution_count": null,
   "id": "db1a231e",
   "metadata": {},
   "outputs": [],
   "source": [
    "# Find K: evaluate best k using elbow method \n",
    "with plt.style.context('seaborn-whitegrid'):\n",
    "    plt.figure(figsize=(12, 6))\n",
    "    pd.Series({k: KMeans(k).fit(X).inertia_ for k in range(2, 15)}).plot(marker='x')\n",
    "    plt.xticks(range(2, 15))\n",
    "    plt.xlabel('k')\n",
    "    plt.ylabel('inertia')\n",
    "    plt.title('Change in inertia as k increases')"
   ]
  },
  {
   "cell_type": "code",
   "execution_count": null,
   "id": "1aea5112",
   "metadata": {},
   "outputs": [],
   "source": [
    "train.groupby('clusters')[ 'gk_handling', 'gk_diving', 'gk_reflexes'].median()"
   ]
  },
  {
   "cell_type": "markdown",
   "id": "696c3022",
   "metadata": {},
   "source": [
    "#### _The ANOVA test will be used to measure the significance or lack there of variance between clusters_"
   ]
  },
  {
   "cell_type": "markdown",
   "id": "4233936b",
   "metadata": {},
   "source": [
    " - H0: There is no significant difference between salaries of each cluster \n",
    " - HA: There is a significant difference between salaries of each cluster"
   ]
  },
  {
   "cell_type": "code",
   "execution_count": null,
   "id": "510d6055",
   "metadata": {},
   "outputs": [],
   "source": [
    "alpha = 0.05\n",
    "\n",
    "F, p = stats.f_oneway(train[train.clusters == 0].wage_eur,\n",
    "                      train[train.clusters == 1].wage_eur,\n",
    "                      train[train.clusters == 2].wage_eur,\n",
    "                      train[train.clusters == 3].wage_eur)\n",
    "\n",
    "print('Anova Test Results on goalkeeper handling/diving/reflexes Cluster')\n",
    "print('F-value: ',F)\n",
    "print('p-value: ',p)\n",
    "#if p > alpha:\n",
    "    #print(\"\\nWe fail to reject null hypothesis.\")\n",
    "#elif t < 0:\n",
    "    #print(\"We fail to reject null hypothesis.\")\n",
    "#else:\n",
    "    #print(\"We reject null hypothesis.\\n\\n\")"
   ]
  },
  {
   "cell_type": "markdown",
   "id": "1452e810",
   "metadata": {},
   "source": [
    "# Prepare Forwards"
   ]
  },
  {
   "cell_type": "code",
   "execution_count": null,
   "id": "814f37f5",
   "metadata": {},
   "outputs": [],
   "source": [
    "#split\n",
    "train, validate, test = prepare.split(forward_df)"
   ]
  },
  {
   "cell_type": "code",
   "execution_count": null,
   "id": "14488263",
   "metadata": {},
   "outputs": [],
   "source": [
    "#split data\n",
    "X_train = train.drop(columns=['wage_eur', 'total_wage', 'value_eur'])\n",
    "y_train = train[['wage_eur']]\n",
    "\n",
    "X_validate = validate.drop(columns=['wage_eur', 'total_wage', 'value_eur'])\n",
    "y_validate = validate[['wage_eur']]\n",
    "\n",
    "X_test = test.drop(columns=['wage_eur', 'total_wage', 'value_eur'])\n",
    "y_test = test[['wage_eur']]"
   ]
  },
  {
   "cell_type": "code",
   "execution_count": null,
   "id": "562646c3",
   "metadata": {},
   "outputs": [],
   "source": [
    "#encode categorical variables\n",
    "encoder = ce.LeaveOneOutEncoder(return_df=True)\n",
    "X_train_loo = encoder.fit_transform(X_train, y_train)\n",
    "X_test_loo = encoder.transform(X_test)\n",
    "X_train_loo.shape"
   ]
  },
  {
   "cell_type": "code",
   "execution_count": null,
   "id": "495ced8b",
   "metadata": {},
   "outputs": [],
   "source": [
    "#scale data \n",
    "scaler = RobustScaler()\n",
    "X_train_scaled = scaler.fit_transform(X_train_loo, y_train)\n",
    "X_train_scaled.shape"
   ]
  },
  {
   "cell_type": "code",
   "execution_count": null,
   "id": "7e7df20f",
   "metadata": {},
   "outputs": [],
   "source": [
    "X_train_scaled_df = pd.DataFrame(X_train_scaled, columns=X_train.columns)"
   ]
  },
  {
   "cell_type": "markdown",
   "id": "cfd67a31",
   "metadata": {},
   "source": [
    "# FORWARD CLUSTERS"
   ]
  },
  {
   "cell_type": "markdown",
   "id": "12aea00f",
   "metadata": {},
   "source": [
    "#### ANOVA test on ball_control, reactions, dribbling"
   ]
  },
  {
   "cell_type": "code",
   "execution_count": null,
   "id": "d4c1af18",
   "metadata": {},
   "outputs": [],
   "source": [
    "#significance level \n",
    "a = 0.05 \n",
    "#define x \n",
    "X = X_train_scaled_df[['ball_control', 'reactions', 'dribbling']]\n",
    "#define kmeans\n",
    "kmeans = KMeans(n_clusters=4)\n",
    "#fit \n",
    "kmeans.fit(X)"
   ]
  },
  {
   "cell_type": "code",
   "execution_count": null,
   "id": "638a606a",
   "metadata": {},
   "outputs": [],
   "source": [
    "train['clusters'] = kmeans.predict(X)"
   ]
  },
  {
   "cell_type": "code",
   "execution_count": null,
   "id": "256fab9a",
   "metadata": {},
   "outputs": [],
   "source": [
    "# Find K: evaluate best k using elbow method \n",
    "with plt.style.context('seaborn-whitegrid'):\n",
    "    plt.figure(figsize=(12, 6))\n",
    "    pd.Series({k: KMeans(k).fit(X).inertia_ for k in range(2, 15)}).plot(marker='x')\n",
    "    plt.xticks(range(2, 15))\n",
    "    plt.xlabel('k')\n",
    "    plt.ylabel('inertia')\n",
    "    plt.title('Change in inertia as k increases')"
   ]
  },
  {
   "cell_type": "code",
   "execution_count": null,
   "id": "f6b658c0",
   "metadata": {},
   "outputs": [],
   "source": [
    "train.groupby('clusters')[ 'ball_control', 'reactions', 'dribbling'].median()"
   ]
  },
  {
   "cell_type": "markdown",
   "id": "789b5317",
   "metadata": {},
   "source": [
    "#### _The ANOVA test will be used to measure the significance or lack there of variance between clusters_"
   ]
  },
  {
   "cell_type": "markdown",
   "id": "743db73c",
   "metadata": {},
   "source": [
    " - H0: There is no significant difference between salaries of each cluster \n",
    " - HA: There is a significant difference between salaries of each cluster"
   ]
  },
  {
   "cell_type": "code",
   "execution_count": null,
   "id": "1609a4cd",
   "metadata": {},
   "outputs": [],
   "source": [
    "alpha = 0.05\n",
    "\n",
    "F, p = stats.f_oneway(train[train.clusters == 0].wage_eur,\n",
    "                      train[train.clusters == 1].wage_eur,\n",
    "                      train[train.clusters == 2].wage_eur,\n",
    "                      train[train.clusters == 3].wage_eur)\n",
    "\n",
    "print('Anova Test Results on goalkeeper handling/diving/reflexes Cluster')\n",
    "print('F-value: ',F)\n",
    "print('p-value: ',p)\n",
    "#if p > alpha:\n",
    "    #print(\"\\nWe fail to reject null hypothesis.\")\n",
    "#elif t < 0:\n",
    "    #print(\"We fail to reject null hypothesis.\")\n",
    "#else:\n",
    "    #print(\"We reject null hypothesis.\\n\\n\")"
   ]
  },
  {
   "cell_type": "markdown",
   "id": "9dc69026",
   "metadata": {},
   "source": [
    "# Prepare Midfielders"
   ]
  },
  {
   "cell_type": "code",
   "execution_count": null,
   "id": "169b8d4a",
   "metadata": {},
   "outputs": [],
   "source": [
    "#split\n",
    "train, validate, test = prepare.split(midfielder_df)"
   ]
  },
  {
   "cell_type": "code",
   "execution_count": null,
   "id": "18a100c5",
   "metadata": {},
   "outputs": [],
   "source": [
    "#split data\n",
    "X_train = train.drop(columns=['wage_eur', 'total_wage', 'value_eur'])\n",
    "y_train = train[['wage_eur']]\n",
    "\n",
    "X_validate = validate.drop(columns=['wage_eur', 'total_wage', 'value_eur'])\n",
    "y_validate = validate[['wage_eur']]\n",
    "\n",
    "X_test = test.drop(columns=['wage_eur', 'total_wage', 'value_eur'])\n",
    "y_test = test[['wage_eur']]"
   ]
  },
  {
   "cell_type": "code",
   "execution_count": null,
   "id": "385bf244",
   "metadata": {},
   "outputs": [],
   "source": [
    "#encode categorical variables\n",
    "encoder = ce.LeaveOneOutEncoder(return_df=True)\n",
    "X_train_loo = encoder.fit_transform(X_train, y_train)\n",
    "X_test_loo = encoder.transform(X_test)\n",
    "X_train_loo.shape"
   ]
  },
  {
   "cell_type": "code",
   "execution_count": null,
   "id": "985e8b89",
   "metadata": {},
   "outputs": [],
   "source": [
    "#scale data \n",
    "scaler = RobustScaler()\n",
    "X_train_scaled = scaler.fit_transform(X_train_loo, y_train)\n",
    "X_train_scaled.shape"
   ]
  },
  {
   "cell_type": "code",
   "execution_count": null,
   "id": "15753d02",
   "metadata": {},
   "outputs": [],
   "source": [
    "X_train_scaled_df = pd.DataFrame(X_train_scaled, columns=X_train.columns)"
   ]
  },
  {
   "cell_type": "markdown",
   "id": "4c66cd50",
   "metadata": {},
   "source": [
    "# Midfielder Cluster"
   ]
  },
  {
   "cell_type": "markdown",
   "id": "7ba89f8f",
   "metadata": {},
   "source": [
    "#### ANOVA test on ball_control, reactions, passing"
   ]
  },
  {
   "cell_type": "code",
   "execution_count": null,
   "id": "f1cd4599",
   "metadata": {},
   "outputs": [],
   "source": [
    "#significance level \n",
    "a = 0.05 \n",
    "#define x \n",
    "X = X_train_scaled_df[['ball_control', 'reactions', 'passing']]\n",
    "#define kmeans\n",
    "kmeans = KMeans(n_clusters=4)\n",
    "#fit \n",
    "kmeans.fit(X)"
   ]
  },
  {
   "cell_type": "code",
   "execution_count": null,
   "id": "006458a1",
   "metadata": {},
   "outputs": [],
   "source": [
    "train['clusters'] = kmeans.predict(X)"
   ]
  },
  {
   "cell_type": "code",
   "execution_count": null,
   "id": "6e9d8cd1",
   "metadata": {},
   "outputs": [],
   "source": [
    "# Find K: evaluate best k using elbow method \n",
    "with plt.style.context('seaborn-whitegrid'):\n",
    "    plt.figure(figsize=(12, 6))\n",
    "    pd.Series({k: KMeans(k).fit(X).inertia_ for k in range(2, 15)}).plot(marker='x')\n",
    "    plt.xticks(range(2, 15))\n",
    "    plt.xlabel('k')\n",
    "    plt.ylabel('inertia')\n",
    "    plt.title('Change in inertia as k increases')"
   ]
  },
  {
   "cell_type": "code",
   "execution_count": null,
   "id": "abe5dd46",
   "metadata": {},
   "outputs": [],
   "source": [
    "train.groupby('clusters')[ 'ball_control', 'reactions', 'passing'].median()"
   ]
  },
  {
   "cell_type": "markdown",
   "id": "c8b28354",
   "metadata": {},
   "source": [
    "#### _The ANOVA test will be used to measure the significance or lack there of variance between clusters_"
   ]
  },
  {
   "cell_type": "markdown",
   "id": "9dffdb6e",
   "metadata": {},
   "source": [
    " - H0: There is no significant difference between salaries of each cluster \n",
    " - HA: There is a significant difference between salaries of each cluster"
   ]
  },
  {
   "cell_type": "code",
   "execution_count": null,
   "id": "7d9bde0a",
   "metadata": {},
   "outputs": [],
   "source": [
    "alpha = 0.05\n",
    "\n",
    "F, p = stats.f_oneway(train[train.clusters == 0].wage_eur,\n",
    "                      train[train.clusters == 1].wage_eur,\n",
    "                      train[train.clusters == 2].wage_eur,\n",
    "                      train[train.clusters == 3].wage_eur)\n",
    "\n",
    "print('Anova Test Results on goalkeeper handling/diving/reflexes Cluster')\n",
    "print('F-value: ',F)\n",
    "print('p-value: ',p)\n",
    "#if p > alpha:\n",
    "    #print(\"\\nWe fail to reject null hypothesis.\")\n",
    "#elif t < 0:\n",
    "    #print(\"We fail to reject null hypothesis.\")\n",
    "#else:\n",
    "    #print(\"We reject null hypothesis.\\n\\n\")"
   ]
  },
  {
   "cell_type": "markdown",
   "id": "b99204a6",
   "metadata": {},
   "source": [
    "# Prepare Defenders"
   ]
  },
  {
   "cell_type": "code",
   "execution_count": null,
   "id": "7f962c7d",
   "metadata": {},
   "outputs": [],
   "source": [
    "#split\n",
    "train, validate, test = prepare.split(defender_df)"
   ]
  },
  {
   "cell_type": "code",
   "execution_count": null,
   "id": "1e701922",
   "metadata": {},
   "outputs": [],
   "source": [
    "#split data\n",
    "X_train = train.drop(columns=['wage_eur', 'total_wage', 'value_eur'])\n",
    "y_train = train[['wage_eur']]\n",
    "\n",
    "X_validate = validate.drop(columns=['wage_eur', 'total_wage', 'value_eur'])\n",
    "y_validate = validate[['wage_eur']]\n",
    "\n",
    "X_test = test.drop(columns=['wage_eur', 'total_wage', 'value_eur'])\n",
    "y_test = test[['wage_eur']]"
   ]
  },
  {
   "cell_type": "code",
   "execution_count": null,
   "id": "7a3c80fd",
   "metadata": {},
   "outputs": [],
   "source": [
    "#encode categorical variables\n",
    "encoder = ce.LeaveOneOutEncoder(return_df=True)\n",
    "X_train_loo = encoder.fit_transform(X_train, y_train)\n",
    "X_test_loo = encoder.transform(X_test)\n",
    "X_train_loo.shape"
   ]
  },
  {
   "cell_type": "code",
   "execution_count": null,
   "id": "a635d727",
   "metadata": {},
   "outputs": [],
   "source": [
    "#scale data \n",
    "scaler = RobustScaler()\n",
    "X_train_scaled = scaler.fit_transform(X_train_loo, y_train)\n",
    "X_train_scaled.shape"
   ]
  },
  {
   "cell_type": "code",
   "execution_count": null,
   "id": "b0d5c0c2",
   "metadata": {},
   "outputs": [],
   "source": [
    "X_train_scaled_df = pd.DataFrame(X_train_scaled, columns=X_train.columns)"
   ]
  },
  {
   "cell_type": "markdown",
   "id": "b844df34",
   "metadata": {},
   "source": [
    "# Defender Clusters "
   ]
  },
  {
   "cell_type": "markdown",
   "id": "29f18edc",
   "metadata": {},
   "source": [
    "#### ANOVA test on marking, potential, short_passing"
   ]
  },
  {
   "cell_type": "code",
   "execution_count": null,
   "id": "54f3f9c4",
   "metadata": {},
   "outputs": [],
   "source": [
    "#significance level \n",
    "a = 0.05 \n",
    "#define x \n",
    "X = X_train_scaled_df[['marking', 'potential', 'short_passing']]\n",
    "#define kmeans\n",
    "kmeans = KMeans(n_clusters=4)\n",
    "#fit \n",
    "kmeans.fit(X)"
   ]
  },
  {
   "cell_type": "code",
   "execution_count": null,
   "id": "86dc7b4f",
   "metadata": {},
   "outputs": [],
   "source": [
    "train['clusters'] = kmeans.predict(X)"
   ]
  },
  {
   "cell_type": "code",
   "execution_count": null,
   "id": "5240c6c5",
   "metadata": {},
   "outputs": [],
   "source": [
    "# Find K: evaluate best k using elbow method \n",
    "with plt.style.context('seaborn-whitegrid'):\n",
    "    plt.figure(figsize=(12, 6))\n",
    "    pd.Series({k: KMeans(k).fit(X).inertia_ for k in range(2, 15)}).plot(marker='x')\n",
    "    plt.xticks(range(2, 15))\n",
    "    plt.xlabel('k')\n",
    "    plt.ylabel('inertia')\n",
    "    plt.title('Change in inertia as k increases')"
   ]
  },
  {
   "cell_type": "code",
   "execution_count": null,
   "id": "f8ca43e0",
   "metadata": {},
   "outputs": [],
   "source": [
    "train.groupby('clusters')[ 'ball_control', 'reactions', 'passing'].median()"
   ]
  },
  {
   "cell_type": "markdown",
   "id": "dfc6b0ef",
   "metadata": {},
   "source": [
    "#### _The ANOVA test will be used to measure the significance or lack there of variance between clusters_"
   ]
  },
  {
   "cell_type": "markdown",
   "id": "54e28c6a",
   "metadata": {},
   "source": [
    " - H0: There is no significant difference between salaries of each cluster \n",
    " - HA: There is a significant difference between salaries of each cluster"
   ]
  },
  {
   "cell_type": "code",
   "execution_count": null,
   "id": "0d22f4c0",
   "metadata": {},
   "outputs": [],
   "source": [
    "alpha = 0.05\n",
    "\n",
    "F, p = stats.f_oneway(train[train.clusters == 0].wage_eur,\n",
    "                      train[train.clusters == 1].wage_eur,\n",
    "                      train[train.clusters == 2].wage_eur,\n",
    "                      train[train.clusters == 3].wage_eur)\n",
    "\n",
    "print('Anova Test Results on goalkeeper handling/diving/reflexes Cluster')\n",
    "print('F-value: ',F)\n",
    "print('p-value: ',p)\n",
    "#if p > alpha:\n",
    "    #print(\"\\nWe fail to reject null hypothesis.\")\n",
    "#elif t < 0:\n",
    "    #print(\"We fail to reject null hypothesis.\")\n",
    "#else:\n",
    "    #print(\"We reject null hypothesis.\\n\\n\")"
   ]
  },
  {
   "cell_type": "code",
   "execution_count": null,
   "id": "498219e2",
   "metadata": {},
   "outputs": [],
   "source": []
  },
  {
   "cell_type": "code",
   "execution_count": null,
   "id": "248907e6",
   "metadata": {},
   "outputs": [],
   "source": []
  },
  {
   "cell_type": "code",
   "execution_count": null,
   "id": "4d985e93",
   "metadata": {},
   "outputs": [],
   "source": []
  },
  {
   "cell_type": "code",
   "execution_count": null,
   "id": "81637fac",
   "metadata": {},
   "outputs": [],
   "source": []
  },
  {
   "cell_type": "code",
   "execution_count": null,
   "id": "388601d1",
   "metadata": {},
   "outputs": [],
   "source": []
  },
  {
   "cell_type": "code",
   "execution_count": null,
   "id": "78a2177a",
   "metadata": {},
   "outputs": [],
   "source": []
  },
  {
   "cell_type": "code",
   "execution_count": null,
   "id": "509ddd79",
   "metadata": {},
   "outputs": [],
   "source": []
  },
  {
   "cell_type": "code",
   "execution_count": null,
   "id": "3fa9c3f8",
   "metadata": {},
   "outputs": [],
   "source": []
  },
  {
   "cell_type": "code",
   "execution_count": null,
   "id": "927389db",
   "metadata": {},
   "outputs": [],
   "source": []
  },
  {
   "cell_type": "code",
   "execution_count": null,
   "id": "0caec967",
   "metadata": {},
   "outputs": [],
   "source": []
  },
  {
   "cell_type": "code",
   "execution_count": null,
   "id": "ae8b6e24",
   "metadata": {},
   "outputs": [],
   "source": []
  },
  {
   "cell_type": "code",
   "execution_count": null,
   "id": "d8aeccf6",
   "metadata": {},
   "outputs": [],
   "source": []
  },
  {
   "cell_type": "code",
   "execution_count": null,
   "id": "8e27255b",
   "metadata": {},
   "outputs": [],
   "source": []
  },
  {
   "cell_type": "code",
   "execution_count": null,
   "id": "2f3c0828",
   "metadata": {},
   "outputs": [],
   "source": []
  },
  {
   "cell_type": "code",
   "execution_count": null,
   "id": "bfc3c462",
   "metadata": {},
   "outputs": [],
   "source": []
  },
  {
   "cell_type": "code",
   "execution_count": null,
   "id": "377d548f",
   "metadata": {},
   "outputs": [],
   "source": []
  },
  {
   "cell_type": "code",
   "execution_count": null,
   "id": "da9d63d6",
   "metadata": {},
   "outputs": [],
   "source": []
  },
  {
   "cell_type": "code",
   "execution_count": null,
   "id": "811817f2",
   "metadata": {},
   "outputs": [],
   "source": []
  },
  {
   "cell_type": "code",
   "execution_count": null,
   "id": "fae8e99c",
   "metadata": {},
   "outputs": [],
   "source": []
  },
  {
   "cell_type": "code",
   "execution_count": null,
   "id": "ee3fe253",
   "metadata": {},
   "outputs": [],
   "source": []
  },
  {
   "cell_type": "code",
   "execution_count": null,
   "id": "cbc51792",
   "metadata": {},
   "outputs": [],
   "source": []
  },
  {
   "cell_type": "code",
   "execution_count": null,
   "id": "1f581c9d",
   "metadata": {},
   "outputs": [],
   "source": []
  },
  {
   "cell_type": "code",
   "execution_count": null,
   "id": "76684e1c",
   "metadata": {},
   "outputs": [],
   "source": []
  },
  {
   "cell_type": "code",
   "execution_count": null,
   "id": "18fef49c",
   "metadata": {},
   "outputs": [],
   "source": []
  },
  {
   "cell_type": "code",
   "execution_count": null,
   "id": "b48f573f",
   "metadata": {},
   "outputs": [],
   "source": []
  },
  {
   "cell_type": "code",
   "execution_count": null,
   "id": "06cb1465",
   "metadata": {},
   "outputs": [],
   "source": []
  },
  {
   "cell_type": "code",
   "execution_count": null,
   "id": "730854b5",
   "metadata": {},
   "outputs": [],
   "source": []
  },
  {
   "cell_type": "code",
   "execution_count": null,
   "id": "a52982c9",
   "metadata": {},
   "outputs": [],
   "source": []
  },
  {
   "cell_type": "code",
   "execution_count": null,
   "id": "3f72cd01",
   "metadata": {},
   "outputs": [],
   "source": []
  },
  {
   "cell_type": "code",
   "execution_count": null,
   "id": "0b41ae72",
   "metadata": {},
   "outputs": [],
   "source": []
  },
  {
   "cell_type": "code",
   "execution_count": null,
   "id": "94929056",
   "metadata": {},
   "outputs": [],
   "source": []
  },
  {
   "cell_type": "code",
   "execution_count": null,
   "id": "771f9a2d",
   "metadata": {},
   "outputs": [],
   "source": []
  },
  {
   "cell_type": "code",
   "execution_count": null,
   "id": "f4ead93d",
   "metadata": {},
   "outputs": [],
   "source": []
  },
  {
   "cell_type": "code",
   "execution_count": null,
   "id": "b3e9bf17",
   "metadata": {},
   "outputs": [],
   "source": []
  },
  {
   "cell_type": "code",
   "execution_count": null,
   "id": "4fe8dd16",
   "metadata": {},
   "outputs": [],
   "source": []
  },
  {
   "cell_type": "code",
   "execution_count": null,
   "id": "253d3b40",
   "metadata": {},
   "outputs": [],
   "source": []
  },
  {
   "cell_type": "code",
   "execution_count": null,
   "id": "1be2bad6",
   "metadata": {},
   "outputs": [],
   "source": []
  },
  {
   "cell_type": "code",
   "execution_count": null,
   "id": "5a55cb66",
   "metadata": {},
   "outputs": [],
   "source": []
  }
 ],
 "metadata": {
  "kernelspec": {
   "display_name": "Python 3 (ipykernel)",
   "language": "python",
   "name": "python3"
  },
  "language_info": {
   "codemirror_mode": {
    "name": "ipython",
    "version": 3
   },
   "file_extension": ".py",
   "mimetype": "text/x-python",
   "name": "python",
   "nbconvert_exporter": "python",
   "pygments_lexer": "ipython3",
   "version": "3.9.7"
  }
 },
 "nbformat": 4,
 "nbformat_minor": 5
}
