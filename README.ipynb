{
 "cells": [
  {
   "cell_type": "markdown",
   "id": "b18baa04",
   "metadata": {},
   "source": [
    "#### Group Project By: Jules Morris, Eriberto Contreras, Raymond Cerna, and Kayla Brock | Codeup | Jemison Cohort | July 27, 2022"
   ]
  },
  {
   "cell_type": "markdown",
   "id": "b2ae787d",
   "metadata": {},
   "source": [
    "# _FIFA_"
   ]
  },
  {
   "cell_type": "markdown",
   "id": "41929ba5",
   "metadata": {},
   "source": [
    "#### A project using linear regression to predict FIFA player contract amount"
   ]
  },
  {
   "cell_type": "markdown",
   "id": "4f842104",
   "metadata": {},
   "source": [
    "<hr style=\"border-top: 2px groove LightCyan ; margin-top: 1px; margin-bottom: 1px\"></hr>"
   ]
  },
  {
   "cell_type": "markdown",
   "id": "31f523d4",
   "metadata": {},
   "source": [
    "# Project Overview & EXECUTIVE SUMMARY "
   ]
  },
  {
   "cell_type": "markdown",
   "id": "96edcede",
   "metadata": {},
   "source": [
    "<hr style=\"border-top: 1px groove LightCyan ; margin-top: 1px; margin-bottom: 1px\"></hr>"
   ]
  },
  {
   "cell_type": "markdown",
   "id": "4a539792",
   "metadata": {},
   "source": [
    "#### _Project Goal_"
   ]
  },
  {
   "cell_type": "markdown",
   "id": "66293ff7",
   "metadata": {},
   "source": [
    "The goal of this report is to create a linear regression model that can accurately estimate a player's contract amount within a 10% margin of error. This information can be used by investors to estimate the cost of starting and/or maintaining a team."
   ]
  },
  {
   "cell_type": "markdown",
   "id": "50e58412",
   "metadata": {},
   "source": [
    "#### _Description_"
   ]
  },
  {
   "cell_type": "markdown",
   "id": "3bc829d6",
   "metadata": {},
   "source": [
    "_\"Soccer, known as football outside of North America, is the 'beautiful game' to its multitude of fans. Soccer is played in every corner of the world and inspires its own frenzy every four years with the convening of the international championship known as the World Cup. There is no competition on earth that mobilizes such passion or that is as inclusive as the qualification for this event. The World Cup is entirely controlled through the international governing body for the sport of soccer, FIFA, the French language acronym for the Federation Internationale de Football Association. A testament to the status of soccer as the world's most popular sport. FIFA is unquestionably the most powerful and all-encompassing world sports body.\"_\n",
    "\n",
    "       - https://www.encyclopedia.com/sports/sports-fitness-recreation-and-leisure-magazines/fifa-world-cup-soccer"
   ]
  },
  {
   "cell_type": "markdown",
   "id": "101b9fdc",
   "metadata": {},
   "source": [
    "This project aims to uncover the main attributes that influence FIFA player's contract amount. "
   ]
  },
  {
   "cell_type": "markdown",
   "id": "0944b2f0",
   "metadata": {},
   "source": [
    "#### _Project Motivation:_"
   ]
  },
  {
   "cell_type": "markdown",
   "id": "6ee12c80",
   "metadata": {},
   "source": [
    "_In this section each member of the team discusses their reason why they chose this project._"
   ]
  },
  {
   "cell_type": "markdown",
   "id": "03f6dde1",
   "metadata": {},
   "source": [
    "#### Ray"
   ]
  },
  {
   "cell_type": "markdown",
   "id": "0e50e5cf",
   "metadata": {},
   "source": [
    "_I was interested in this project because I think it sets a strong foundation for a financial type forecasting analysis. I know Football/Soccer is a subject a lot of individuals are very familiar with. In fact, it is the most popular sport in the entire world which makes it easily relatable. Also, since this was affiliated to financial structure and attributes of an individual, place, and team, I believed I may find a connection to utilize what we discover in future projects._"
   ]
  },
  {
   "cell_type": "markdown",
   "id": "e54b1503",
   "metadata": {},
   "source": [
    "#### Eriberto"
   ]
  },
  {
   "cell_type": "markdown",
   "id": "1a065659",
   "metadata": {},
   "source": [
    "_This project peaked my interest because it gave me the opportunity to challenge my data science skills in a subject matter that I had no experience with prior. I hope to gain insight on to how teams budget their players and on how the wages range based on skillsets. I am excited to work on a data set that comes from such globally known sport and organization as big as FIFA. I hope this project will capture the attention of Data Scientist and FIFA fans and give them a fun learning experience._\n",
    "\n"
   ]
  },
  {
   "cell_type": "markdown",
   "id": "bf4880d8",
   "metadata": {},
   "source": [
    "#### Kayla "
   ]
  },
  {
   "cell_type": "markdown",
   "id": "90fab723",
   "metadata": {},
   "source": [
    "_As a former teacher in central Phoenix, I can promise you 'professional soccer player' was the dream of at least 70% of my male students. While not everyone grows up to be the rich and famous Lionel Messi, I truly believed many of my students had what it took to make money playing the sport they loved. I am most excited about the opportunity to share this report with my former colleagues. I know the kids will love this!_ "
   ]
  },
  {
   "cell_type": "markdown",
   "id": "b67cd158",
   "metadata": {},
   "source": [
    "#### Jules"
   ]
  },
  {
   "cell_type": "markdown",
   "id": "61346dd2",
   "metadata": {},
   "source": [
    "_I chose this project because I am passionate about one of the most intense, inclusive, fast-paced, and exhilarating games on Earth. I have been a fan of the game since I was young, and was excited about the possibility of combining some of the worlds most-famous players with my love of machine learning and predictive algorithms. This is a project that will capture the imagination of everyone who has a love of the game, the. players, or data science._"
   ]
  },
  {
   "cell_type": "markdown",
   "id": "2a54087c",
   "metadata": {},
   "source": [
    "#### _Initial Questions_"
   ]
  },
  {
   "cell_type": "markdown",
   "id": "21d3a7e9",
   "metadata": {},
   "source": [
    "- Does the league a player is with impact salary?\n",
    "- Does the seniority a player has on a team impact salary?\n",
    "- Does age impact salary?"
   ]
  },
  {
   "cell_type": "markdown",
   "id": "998f4abc",
   "metadata": {},
   "source": [
    "#### _Executive Summary_"
   ]
  },
  {
   "cell_type": "markdown",
   "id": "4eb19775",
   "metadata": {},
   "source": [
    "Overall:\n",
    "\n",
    "RMSE Baseline: €20154.67\n",
    "\n",
    "The features that were included in the overall model were:\n",
    "\n",
    "International Reputation\n",
    "Overall\n",
    "Reactions\n",
    "Potential\n",
    "Test RMSE: €11095.90, which marked a 44.95% improvement from the original RMSE of this dataset.\n",
    "\n",
    "\n",
    "Forwards {insert hyperlink to in-depth analysis}:\n",
    "\n",
    "RMSE Baseline: €21889.30\n",
    "\n",
    "The features included in this model:\n",
    "\n",
    "Overall\n",
    "Shooting\n",
    "Ball control\n",
    "Test RMSE: €12579.66, which marked a 42.53% improvement from the original RMSE of this dataset.\n",
    "\n",
    "In this subset, predictive capacity did not show the same improvement as the inclusive overall model, it was beneficial for forwards to remain in the original dataset.\n",
    "\n",
    "Midfielders:\n",
    "\n",
    "RMSE Baseline: €21721.47\n",
    "\n",
    "The features included in this model:\n",
    "\n",
    "International reputation\n",
    "Overall\n",
    "Passing\n",
    "Test RMSE: €11015.47, which marked a 49.29% improvement from the original RMSE of this dataset.\n",
    "\n",
    "\n",
    "Defenders:\n",
    "\n",
    "RMSE Baseline: €19629.66\n",
    "\n",
    "The features included in this model:\n",
    "\n",
    "Overall\n",
    "Defending\n",
    "Test RMSE: €10524.00, which marked a 46.39% improvement from the original RMSE of this dataset.\n",
    "\n",
    "\n",
    "Goalkeepers:\n",
    "\n",
    "RMSE Baseline: €15905.59\n",
    "\n",
    "The features included in this model:\n",
    "\n",
    "Overall\n",
    "Goal keeping reflexes\n",
    "Test RMSE: €9126.68, which marked a improvement 42.62% from the original RMSE of this dataset.\n",
    "    \n",
    "The exploration process revealed several nonlinear relationships, including a players overall score, their age, and their potential. Due to the lack of linearity, the linear regression model was less precise in predictions than was hoped for. For certain field positions such as midfielders and defenders, the test RMSE percentage improvement was greater than the inclusive dataset. Additionally, player salaries was not normally distributed, making predictions more challenging for regression models. Removing outliers is a strategy to reduce RMSE, though there is a trade-off, due to reducing the robustness of the model to new data.\n"
   ]
  },
  {
   "cell_type": "markdown",
   "id": "724a17b7",
   "metadata": {},
   "source": [
    "#### _Deliverables_"
   ]
  },
  {
   "cell_type": "markdown",
   "id": "17921639",
   "metadata": {},
   "source": [
    "Final Notebook, Readme, and Presentation"
   ]
  },
  {
   "cell_type": "markdown",
   "id": "06cb1a69",
   "metadata": {},
   "source": [
    "# II. Project Data "
   ]
  },
  {
   "cell_type": "markdown",
   "id": "4d432099",
   "metadata": {},
   "source": [
    "<hr style=\"border-top: 2px groove LightCyan ; margin-top: 1px; margin-bottom: 1px\"></hr>"
   ]
  },
  {
   "cell_type": "markdown",
   "id": "f8008205",
   "metadata": {},
   "source": [
    "#### _Data Dictionary_"
   ]
  },
  {
   "cell_type": "markdown",
   "id": "10bd9f2d",
   "metadata": {},
   "source": [
    "The final DataFrame used to explore the data for this project contains the following variables (columns). The variables are defined below:"
   ]
  },
  {
   "cell_type": "markdown",
   "id": "0699a542",
   "metadata": {},
   "source": [
    "# III. Project PLAN"
   ]
  },
  {
   "cell_type": "markdown",
   "id": "71f92106",
   "metadata": {},
   "source": [
    "<hr style=\"border-top: 2px groove LightCyan ; margin-top: 1px; margin-bottom: 1px\"></hr>"
   ]
  },
  {
   "cell_type": "markdown",
   "id": "2becdf03",
   "metadata": {},
   "source": [
    "The following outlines the process taken through the data science pipeline to complete this project."
   ]
  },
  {
   "cell_type": "markdown",
   "id": "27983a3f",
   "metadata": {},
   "source": [
    "_Plan_"
   ]
  },
  {
   "cell_type": "markdown",
   "id": "209aa968",
   "metadata": {},
   "source": [
    "In the planning stage we: read project expectations, created a project outline, wrote a project goal to include how we would measure success or failure, reviewed the overview of the dataset, documented all initial thoughts, questions, and hypotheses, created a plan for completing the project, created a data dictionary to define features, created a local folder and github repository. "
   ]
  },
  {
   "cell_type": "markdown",
   "id": "43fe37cd",
   "metadata": {},
   "source": [
    "_Acquire_"
   ]
  },
  {
   "cell_type": "markdown",
   "id": "41e98c7d",
   "metadata": {},
   "source": [
    "    In the acquire stage we: \n",
    "        - acquired data from kaggle: https://www.kaggle.com/bryanb/fifa-player-stats-database\n",
    "        - used pd.read_excel to import the excel file\n",
    "        - used pd.ExcelFile to read the excel file\n",
    "        - separated pages of excel file by year\n",
    "        - added a 'year' column to each page with associated year date\n",
    "        - used pd.concat to concat the pages back together into one dataframe\n",
    "        - created a CSV to store the data in our shared repository. \n",
    "    This dataframe can be called with acquire.py using the function get_fifa_data()."
   ]
  },
  {
   "cell_type": "markdown",
   "id": "198122e3",
   "metadata": {},
   "source": [
    "_Prepare_"
   ]
  },
  {
   "cell_type": "markdown",
   "id": "14f5862e",
   "metadata": {},
   "source": [
    "- In the prepare stage we: \n",
    "       - dropped league_level '2, 3, and 4'\n",
    "       - dropped nation_team_id and nation_position for having 90% null values \n",
    "       - dropped mentality_composure for having over 30 thousand values missing \n",
    "       - dropped columns that didn't add value: player_url, long_name, dob, league_level, club_jersey_number, club_loaned_from, nation_jersey_number, body_type, real_face, release_clause_eur, player_tags, player_traits, 'ls', 'st', 'rs', 'lw', 'lf', 'cf','rf', 'rw', 'lam', 'cam', 'ram','lm', 'lcm', 'cm', 'rcm', 'rm','lwb', 'ldm', 'cdm', 'rdm', 'rwb','lb','lcb', 'cb', 'rcb', 'rb','gk', 'player_face_url', 'club_logo_url','club_flag_url','nation_logo_url', 'nation_flag_url' \n",
    "       - imputed '0' for null values in goal keeping stats: goalkeeping_speed, defending, physic, dribbling, passing, shooting, and pace. "
   ]
  },
  {
   "cell_type": "markdown",
   "id": "70cd6962",
   "metadata": {},
   "source": [
    "_Explore_"
   ]
  },
  {
   "cell_type": "markdown",
   "id": "7bdb7794",
   "metadata": {},
   "source": [
    "During the exploratory data analysis process we used statistical testing, clustering, recursive feature elimination, and feature engineering to determine which features are most important in a salary prediction model.\n",
    "\n",
    "Results were improved uniformly when outliers were removed in trial modeling, though the results were negligible. Additionally, this does make salary prediction of star players challenging and potentially reduces the ability of the model to be robust to new data."
   ]
  },
  {
   "cell_type": "markdown",
   "id": "d7e2f770",
   "metadata": {},
   "source": [
    "_Model and Evaluate_"
   ]
  },
  {
   "cell_type": "markdown",
   "id": "134e82d2",
   "metadata": {},
   "source": [
    "We used trained three regression models, Linear, Lasso + Lars, and a Generalized Linear Model using a Tweedie Regressor to see which model had the best predictive capacity to measure on the out of sample data. The regression models performed similarly with one another across the overall datasets and maintained the best performance even once the data was subset by field positions, resulting in the lowest overall Root Mean Squared Error and highest  score. The best performing model was the Generalized Linear Model using a Tweedie Regressor, and the baseline was calculated by taking the average of the Root Mean Squared Error from the train and validation sets."
   ]
  },
  {
   "cell_type": "markdown",
   "id": "19c69bf4",
   "metadata": {},
   "source": [
    "_Deliver_"
   ]
  },
  {
   "cell_type": "markdown",
   "id": "0913aed5",
   "metadata": {},
   "source": [
    "Final Notebook and Presentation"
   ]
  },
  {
   "cell_type": "markdown",
   "id": "991102cf",
   "metadata": {},
   "source": [
    "# IV. Supplementary Files "
   ]
  },
  {
   "cell_type": "markdown",
   "id": "c79b4467",
   "metadata": {},
   "source": [
    "<hr style=\"border-top: 2px groove LightCyan ; margin-top: 1px; margin-bottom: 1px\"></hr>"
   ]
  },
  {
   "cell_type": "markdown",
   "id": "bcbdf4b9",
   "metadata": {},
   "source": [
    "- acquire.py - provides code to import the data \n",
    "- prepare.py - provides code to prepare, split, and encode the data \n",
    "- visuals.py - provides code for all visuals found in the notebook"
   ]
  },
  {
   "cell_type": "markdown",
   "id": "1313fd30",
   "metadata": {},
   "source": [
    "# V. Steps to Reproduce"
   ]
  },
  {
   "cell_type": "markdown",
   "id": "335a2bf5",
   "metadata": {},
   "source": [
    "<hr style=\"border-top: 2px groove LightCyan ; margin-top: 1px; margin-bottom: 1px\"></hr>"
   ]
  },
  {
   "cell_type": "markdown",
   "id": "57c7d0a3",
   "metadata": {},
   "source": [
    "- Clone this repo (including acquire.py, prepare.py, visuals.py, CSV)\n",
    "- Run Final Report Jupyter notebook to view the final product "
   ]
  }
 ],
 "metadata": {
  "kernelspec": {
   "display_name": "Python 3 (ipykernel)",
   "language": "python",
   "name": "python3"
  },
  "language_info": {
   "codemirror_mode": {
    "name": "ipython",
    "version": 3
   },
   "file_extension": ".py",
   "mimetype": "text/x-python",
   "name": "python",
   "nbconvert_exporter": "python",
   "pygments_lexer": "ipython3",
   "version": "3.9.7"
  }
 },
 "nbformat": 4,
 "nbformat_minor": 5
}
