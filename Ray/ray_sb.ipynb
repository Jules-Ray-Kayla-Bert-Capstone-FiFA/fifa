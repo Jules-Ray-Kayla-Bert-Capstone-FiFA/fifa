{
 "cells": [
  {
   "cell_type": "code",
   "execution_count": 1,
   "id": "db91da24",
   "metadata": {},
   "outputs": [],
   "source": [
    "import pandas as pd"
   ]
  },
  {
   "cell_type": "code",
   "execution_count": 2,
   "id": "10421d6e",
   "metadata": {},
   "outputs": [],
   "source": [
    "pd.set_option('display.max_rows', 500)\n",
    "pd.set_option('display.max_columns', 500)\n",
    "pd.set_option('display.width', 1000)"
   ]
  },
  {
   "cell_type": "code",
   "execution_count": null,
   "id": "81b8ff29",
   "metadata": {},
   "outputs": [],
   "source": [
    "df = pd.read_excel('fifa_male.xlsx')\n",
    "xlsx = pd.ExcelFile('fifa_male.xlsx')\n",
    "df1 = pd.read_excel(xlsx, 'FIFA 22')\n",
    "df2 = pd.read_excel(xlsx, 'FIFA 21')\n",
    "df3 = pd.read_excel(xlsx, 'FIFA 20')\n",
    "df4 = pd.read_excel(xlsx, 'FIFA 19')\n",
    "df5 = pd.read_excel(xlsx, 'FIFA 18')\n",
    "df6 = pd.read_excel(xlsx, 'FIFA 17')\n",
    "df6 = pd.read_excel(xlsx, 'FIFA 16')\n",
    "df7 = pd.read_excel(xlsx, 'FIFA 15')"
   ]
  },
  {
   "cell_type": "code",
   "execution_count": null,
   "id": "4e9f9ac1",
   "metadata": {},
   "outputs": [],
   "source": [
    "df1.shape"
   ]
  },
  {
   "cell_type": "code",
   "execution_count": null,
   "id": "de6be0a4",
   "metadata": {},
   "outputs": [],
   "source": [
    "df2.shape"
   ]
  },
  {
   "cell_type": "code",
   "execution_count": 3,
   "id": "6b597c40",
   "metadata": {},
   "outputs": [],
   "source": [
    "#df = pd.read_excel('fifa_male.xlsx',sheet_name=['FIFA 22','FIFA 21','FIFA 20', 'FIFA 19', 'FIFA 18', 'FIFA 17', 'FIFA 16', 'FIFA 15'])"
   ]
  },
  {
   "cell_type": "code",
   "execution_count": null,
   "id": "0fe15046",
   "metadata": {},
   "outputs": [],
   "source": [
    "df1.columns.values"
   ]
  },
  {
   "cell_type": "code",
   "execution_count": null,
   "id": "7bad7c27",
   "metadata": {},
   "outputs": [],
   "source": [
    "numcols = [col for col in df.columns if df[col].dtype !='O']\n",
    "numcols"
   ]
  },
  {
   "cell_type": "code",
   "execution_count": null,
   "id": "15be4678",
   "metadata": {},
   "outputs": [],
   "source": [
    "catcols = [col for col in df.columns if df[col].dtype == 'O']\n",
    "catcols"
   ]
  },
  {
   "cell_type": "code",
   "execution_count": null,
   "id": "7bcc45c3",
   "metadata": {},
   "outputs": [],
   "source": [
    "for col in catcols:\n",
    "    print(f\"Column: {col}\")\n",
    "    print(df[col].value_counts())\n",
    "    print(\"--------\")\n",
    "    print(df[col].value_counts(normalize=True, dropna=False))\n",
    "    print(\"=================\")"
   ]
  },
  {
   "cell_type": "code",
   "execution_count": null,
   "id": "73717f9e",
   "metadata": {},
   "outputs": [],
   "source": []
  }
 ],
 "metadata": {
  "kernelspec": {
   "display_name": "Python 3 (ipykernel)",
   "language": "python",
   "name": "python3"
  },
  "language_info": {
   "codemirror_mode": {
    "name": "ipython",
    "version": 3
   },
   "file_extension": ".py",
   "mimetype": "text/x-python",
   "name": "python",
   "nbconvert_exporter": "python",
   "pygments_lexer": "ipython3",
   "version": "3.9.7"
  }
 },
 "nbformat": 4,
 "nbformat_minor": 5
}
