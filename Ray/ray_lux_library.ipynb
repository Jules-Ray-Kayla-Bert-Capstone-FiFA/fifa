{
 "cells": [
  {
   "cell_type": "code",
   "execution_count": 1,
   "id": "22ed326d",
   "metadata": {},
   "outputs": [
    {
     "name": "stderr",
     "output_type": "stream",
     "text": [
      "<frozen importlib._bootstrap>:228: RuntimeWarning: scipy._lib.messagestream.MessageStream size changed, may indicate binary incompatibility. Expected 56 from C header, got 64 from PyObject\n"
     ]
    }
   ],
   "source": [
    "import pandas as pd\n",
    "import lux\n",
    "import sys\n",
    "from lux.vis.Vis import Vis"
   ]
  },
  {
   "cell_type": "code",
   "execution_count": 2,
   "id": "882eefbd",
   "metadata": {},
   "outputs": [],
   "source": [
    "# the system path\n",
    "sys.path.append('/Users/Ray/codeup-data-science/fifa')\n",
    " \n",
    "# importing the function\n",
    "from acquire import get_fifa_data"
   ]
  },
  {
   "cell_type": "code",
   "execution_count": 3,
   "id": "128db6da",
   "metadata": {},
   "outputs": [],
   "source": [
    "import sys\n",
    " \n",
    "# the system path\n",
    "sys.path.append('/Users/Ray/codeup-data-science/fifa')\n",
    " \n",
    "# importing split\n",
    "import prepare, model"
   ]
  },
  {
   "cell_type": "code",
   "execution_count": 4,
   "id": "98ac175c",
   "metadata": {
    "scrolled": false
   },
   "outputs": [
    {
     "name": "stderr",
     "output_type": "stream",
     "text": [
      "/Users/Ray/codeup-data-science/fifa/Ray/acquire.py:13: DtypeWarning: Columns (81,85,104) have mixed types. Specify dtype option on import or set low_memory=False.\n",
      "  return pd.read_csv(filename)\n"
     ]
    }
   ],
   "source": [
    "#acquire\n",
    "df = get_fifa_data()"
   ]
  },
  {
   "cell_type": "code",
   "execution_count": 5,
   "id": "cb770216",
   "metadata": {},
   "outputs": [
    {
     "name": "stdout",
     "output_type": "stream",
     "text": [
      "Before dropping nulls, 142079 rows, 111 cols\n",
      "After dropping nulls. 131489 rows. 66 cols\n",
      "After cleaning the data and adding additional columns there are: 98804 rows. 83 cols\n"
     ]
    }
   ],
   "source": [
    "#prepare\n",
    "df = prepare.prepped_data(df)"
   ]
  },
  {
   "cell_type": "code",
   "execution_count": 6,
   "id": "f45053cd",
   "metadata": {},
   "outputs": [
    {
     "name": "stderr",
     "output_type": "stream",
     "text": [
      "/opt/homebrew/anaconda3/lib/python3.9/site-packages/lux/executor/PandasExecutor.py:448: UserWarning:\n",
      "Lux detects that attributes ['club_joined', 'year'] may be temporal.\n",
      "To display visualizations for these attributes accurately, please convert temporal attributes to Datetime objects.\n",
      "For example, you can convert a Year attribute (e.g., 1998, 1971, 1982) using pd.to_datetime by specifying the `format` as '%Y'.\n",
      "\n",
      "Here is a starter template that you can use for converting the temporal fields:\n",
      "\tdf['club_joined'] = pd.to_datetime(df['club_joined'], format='<replace-with-datetime-format>')\n",
      "\tdf['year'] = pd.to_datetime(df['year'], format='<replace-with-datetime-format>')\n",
      "\n",
      "See more at: https://pandas.pydata.org/pandas-docs/stable/reference/api/pandas.to_datetime.html\n",
      "If year is not a temporal attribute, please use override Lux's automatically detected type:\n",
      "\tdf.set_data_type({'year':'quantitative'})\n"
     ]
    }
   ],
   "source": [
    "df.set_data_type({'year_joined':'quantitative'})"
   ]
  },
  {
   "cell_type": "code",
   "execution_count": 7,
   "id": "2beb12a1",
   "metadata": {},
   "outputs": [],
   "source": [
    "df.intent = ['seniority','wage_eur']"
   ]
  },
  {
   "cell_type": "code",
   "execution_count": null,
   "id": "001e33ec",
   "metadata": {},
   "outputs": [],
   "source": [
    "df"
   ]
  },
  {
   "cell_type": "code",
   "execution_count": null,
   "id": "bd14e347",
   "metadata": {},
   "outputs": [],
   "source": [
    "intent = [\"wage_eur\"]\n",
    "vis = Vis(intent,df)\n",
    "vis"
   ]
  },
  {
   "cell_type": "code",
   "execution_count": null,
   "id": "dd3db847",
   "metadata": {},
   "outputs": [],
   "source": [
    "from lux.vis.VisList import VisList\n",
    "vc = VisList([\"wage_eur\",\"?\"],df)\n",
    "vc"
   ]
  },
  {
   "cell_type": "code",
   "execution_count": null,
   "id": "d4d8758c",
   "metadata": {},
   "outputs": [],
   "source": []
  },
  {
   "cell_type": "code",
   "execution_count": null,
   "id": "731ff093",
   "metadata": {},
   "outputs": [],
   "source": []
  }
 ],
 "metadata": {
  "kernelspec": {
   "display_name": "Python 3 (ipykernel)",
   "language": "python",
   "name": "python3"
  },
  "language_info": {
   "codemirror_mode": {
    "name": "ipython",
    "version": 3
   },
   "file_extension": ".py",
   "mimetype": "text/x-python",
   "name": "python",
   "nbconvert_exporter": "python",
   "pygments_lexer": "ipython3",
   "version": "3.9.7"
  }
 },
 "nbformat": 4,
 "nbformat_minor": 5
}
