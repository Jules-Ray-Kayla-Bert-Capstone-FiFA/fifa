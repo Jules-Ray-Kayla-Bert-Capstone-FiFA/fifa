{
 "cells": [
  {
   "cell_type": "code",
   "execution_count": 1,
   "id": "22ed326d",
   "metadata": {},
   "outputs": [
    {
     "name": "stderr",
     "output_type": "stream",
     "text": [
      "<frozen importlib._bootstrap>:228: RuntimeWarning: scipy._lib.messagestream.MessageStream size changed, may indicate binary incompatibility. Expected 56 from C header, got 64 from PyObject\n"
     ]
    }
   ],
   "source": [
    "import pandas as pd\n",
    "import lux\n",
    "import sys\n",
    "from lux.vis.Vis import Vis"
   ]
  },
  {
   "cell_type": "code",
   "execution_count": 2,
   "id": "882eefbd",
   "metadata": {},
   "outputs": [],
   "source": [
    "# the system path\n",
    "sys.path.append('/Users/Ray/codeup-data-science/fifa')\n",
    " \n",
    "# importing the function\n",
    "from acquire import get_fifa_data"
   ]
  },
  {
   "cell_type": "code",
   "execution_count": 3,
   "id": "128db6da",
   "metadata": {},
   "outputs": [],
   "source": [
    "import sys\n",
    " \n",
    "# the system path\n",
    "sys.path.append('/Users/Ray/codeup-data-science/fifa')\n",
    " \n",
    "# importing split\n",
    "import prepare, model"
   ]
  },
  {
   "cell_type": "code",
   "execution_count": 4,
   "id": "98ac175c",
   "metadata": {
    "scrolled": false
   },
   "outputs": [
    {
     "name": "stderr",
     "output_type": "stream",
     "text": [
      "/Users/Ray/codeup-data-science/fifa/Ray/acquire.py:13: DtypeWarning: Columns (81,85,104) have mixed types. Specify dtype option on import or set low_memory=False.\n",
      "  return pd.read_csv(filename)\n"
     ]
    }
   ],
   "source": [
    "#acquire\n",
    "df = get_fifa_data()"
   ]
  },
  {
   "cell_type": "code",
   "execution_count": 5,
   "id": "cb770216",
   "metadata": {},
   "outputs": [
    {
     "name": "stdout",
     "output_type": "stream",
     "text": [
      "Before dropping nulls, 142079 rows, 111 cols\n",
      "After dropping nulls. 131489 rows. 66 cols\n",
      "After cleaning the data and adding additional columns there are: 98804 rows. 83 cols\n"
     ]
    }
   ],
   "source": [
    "#prepare\n",
    "df = prepare.prepped_data(df)"
   ]
  },
  {
   "cell_type": "code",
   "execution_count": 6,
   "id": "f45053cd",
   "metadata": {},
   "outputs": [
    {
     "name": "stderr",
     "output_type": "stream",
     "text": [
      "/opt/homebrew/anaconda3/lib/python3.9/site-packages/lux/executor/PandasExecutor.py:448: UserWarning:\n",
      "Lux detects that attributes ['club_joined', 'year'] may be temporal.\n",
      "To display visualizations for these attributes accurately, please convert temporal attributes to Datetime objects.\n",
      "For example, you can convert a Year attribute (e.g., 1998, 1971, 1982) using pd.to_datetime by specifying the `format` as '%Y'.\n",
      "\n",
      "Here is a starter template that you can use for converting the temporal fields:\n",
      "\tdf['club_joined'] = pd.to_datetime(df['club_joined'], format='<replace-with-datetime-format>')\n",
      "\tdf['year'] = pd.to_datetime(df['year'], format='<replace-with-datetime-format>')\n",
      "\n",
      "See more at: https://pandas.pydata.org/pandas-docs/stable/reference/api/pandas.to_datetime.html\n",
      "If year is not a temporal attribute, please use override Lux's automatically detected type:\n",
      "\tdf.set_data_type({'year':'quantitative'})\n"
     ]
    }
   ],
   "source": [
    "df.set_data_type({'year_joined':'quantitative'})"
   ]
  },
  {
   "cell_type": "code",
   "execution_count": 7,
   "id": "2beb12a1",
   "metadata": {},
   "outputs": [],
   "source": [
    "df.intent = ['seniority','wage_eur']"
   ]
  },
  {
   "cell_type": "code",
   "execution_count": 8,
   "id": "001e33ec",
   "metadata": {},
   "outputs": [
    {
     "data": {
      "application/vnd.jupyter.widget-view+json": {
       "model_id": "cdbbfc338779431f9b9cce8ca8ed20e8",
       "version_major": 2,
       "version_minor": 0
      },
      "text/plain": [
       "Button(description='Toggle Pandas/Lux', layout=Layout(top='5px', width='140px'), style=ButtonStyle())"
      ]
     },
     "metadata": {},
     "output_type": "display_data"
    },
    {
     "data": {
      "application/vnd.jupyter.widget-view+json": {
       "model_id": "bab982a5b7cd482895593871fa50bb29",
       "version_major": 2,
       "version_minor": 0
      },
      "text/plain": [
       "Output()"
      ]
     },
     "metadata": {},
     "output_type": "display_data"
    }
   ],
   "source": [
    "df"
   ]
  },
  {
   "cell_type": "code",
   "execution_count": 9,
   "id": "bd14e347",
   "metadata": {},
   "outputs": [
    {
     "data": {
      "application/vnd.jupyter.widget-view+json": {
       "model_id": "19bbcf141e9349068a7e7745d015c5df",
       "version_major": 2,
       "version_minor": 0
      },
      "text/plain": [
       "LuxWidget(current_vis={'config': {'view': {'continuousWidth': 400, 'continuousHeight': 300}, 'axis': {'labelCo…"
      ]
     },
     "metadata": {},
     "output_type": "display_data"
    }
   ],
   "source": [
    "intent = [\"wage_eur\"]\n",
    "vis = Vis(intent,df)\n",
    "vis"
   ]
  },
  {
   "cell_type": "code",
   "execution_count": 10,
   "id": "dd3db847",
   "metadata": {},
   "outputs": [
    {
     "data": {
      "application/vnd.jupyter.widget-view+json": {
       "model_id": "355e47c45f1c4dfba884f9a443f9bd0e",
       "version_major": 2,
       "version_minor": 0
      },
      "text/plain": [
       "LuxWidget(recommendations=[{'action': 'Vis List', 'description': 'Shows a vis list defined by the intent', 'vs…"
      ]
     },
     "metadata": {},
     "output_type": "display_data"
    }
   ],
   "source": [
    "from lux.vis.VisList import VisList\n",
    "vc = VisList([\"wage_eur\",\"?\"],df)\n",
    "vc"
   ]
  },
  {
   "cell_type": "code",
   "execution_count": null,
   "id": "d4d8758c",
   "metadata": {},
   "outputs": [],
   "source": []
  },
  {
   "cell_type": "code",
   "execution_count": null,
   "id": "731ff093",
   "metadata": {},
   "outputs": [],
   "source": []
  }
 ],
 "metadata": {
  "kernelspec": {
   "display_name": "Python 3 (ipykernel)",
   "language": "python",
   "name": "python3"
  },
  "language_info": {
   "codemirror_mode": {
    "name": "ipython",
    "version": 3
   },
   "file_extension": ".py",
   "mimetype": "text/x-python",
   "name": "python",
   "nbconvert_exporter": "python",
   "pygments_lexer": "ipython3",
   "version": "3.9.7"
  }
 },
 "nbformat": 4,
 "nbformat_minor": 5
}
