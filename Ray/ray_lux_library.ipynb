{
 "cells": [
  {
   "cell_type": "code",
   "execution_count": 1,
   "id": "22ed326d",
   "metadata": {},
   "outputs": [
    {
     "name": "stderr",
     "output_type": "stream",
     "text": [
      "<frozen importlib._bootstrap>:228: RuntimeWarning: scipy._lib.messagestream.MessageStream size changed, may indicate binary incompatibility. Expected 56 from C header, got 64 from PyObject\n"
     ]
    }
   ],
   "source": [
    "import pandas as pd\n",
    "import lux\n",
    "import sys"
   ]
  },
  {
   "cell_type": "code",
   "execution_count": 2,
   "id": "882eefbd",
   "metadata": {},
   "outputs": [],
   "source": [
    "# the system path\n",
    "sys.path.append('/Users/Ray/codeup-data-science/fifa')\n",
    " \n",
    "# importing the function\n",
    "from acquire import get_fifa_data"
   ]
  },
  {
   "cell_type": "code",
   "execution_count": 3,
   "id": "128db6da",
   "metadata": {},
   "outputs": [],
   "source": [
    "import sys\n",
    " \n",
    "# the system path\n",
    "sys.path.append('/Users/Ray/codeup-data-science/fifa')\n",
    " \n",
    "# importing split\n",
    "import prepare, model"
   ]
  },
  {
   "cell_type": "code",
   "execution_count": 4,
   "id": "98ac175c",
   "metadata": {
    "scrolled": false
   },
   "outputs": [
    {
     "name": "stderr",
     "output_type": "stream",
     "text": [
      "/Users/Ray/codeup-data-science/fifa/Ray/acquire.py:13: DtypeWarning: Columns (81,85,104) have mixed types. Specify dtype option on import or set low_memory=False.\n",
      "  return pd.read_csv(filename)\n"
     ]
    }
   ],
   "source": [
    "#acquire\n",
    "df = get_fifa_data()"
   ]
  },
  {
   "cell_type": "code",
   "execution_count": 5,
   "id": "cb770216",
   "metadata": {},
   "outputs": [
    {
     "name": "stdout",
     "output_type": "stream",
     "text": [
      "Before dropping nulls, 142079 rows, 111 cols\n",
      "After dropping nulls. 131489 rows. 66 cols\n",
      "After cleaning the data and adding additional columns there are: 98804 rows. 83 cols\n"
     ]
    }
   ],
   "source": [
    "#prepare\n",
    "df = prepare.prepped_data(df)"
   ]
  },
  {
   "cell_type": "code",
   "execution_count": 6,
   "id": "f45053cd",
   "metadata": {},
   "outputs": [
    {
     "name": "stderr",
     "output_type": "stream",
     "text": [
      "/opt/homebrew/anaconda3/lib/python3.9/site-packages/lux/executor/PandasExecutor.py:448: UserWarning:\n",
      "Lux detects that attributes ['club_joined', 'year'] may be temporal.\n",
      "To display visualizations for these attributes accurately, please convert temporal attributes to Datetime objects.\n",
      "For example, you can convert a Year attribute (e.g., 1998, 1971, 1982) using pd.to_datetime by specifying the `format` as '%Y'.\n",
      "\n",
      "Here is a starter template that you can use for converting the temporal fields:\n",
      "\tdf['club_joined'] = pd.to_datetime(df['club_joined'], format='<replace-with-datetime-format>')\n",
      "\tdf['year'] = pd.to_datetime(df['year'], format='<replace-with-datetime-format>')\n",
      "\n",
      "See more at: https://pandas.pydata.org/pandas-docs/stable/reference/api/pandas.to_datetime.html\n",
      "If year is not a temporal attribute, please use override Lux's automatically detected type:\n",
      "\tdf.set_data_type({'year':'quantitative'})\n"
     ]
    }
   ],
   "source": [
    "df.set_data_type({'year_joined':'quantitative'})"
   ]
  },
  {
   "cell_type": "code",
   "execution_count": 7,
   "id": "c84cccf6",
   "metadata": {},
   "outputs": [],
   "source": [
    "df.intent = ['seniority','wage_eur']"
   ]
  },
  {
   "cell_type": "code",
   "execution_count": 8,
   "id": "5bc4f81a",
   "metadata": {},
   "outputs": [
    {
     "data": {
      "application/vnd.jupyter.widget-view+json": {
       "model_id": "dbfca08a985647a484cf619e603300e1",
       "version_major": 2,
       "version_minor": 0
      },
      "text/plain": [
       "Button(description='Toggle Pandas/Lux', layout=Layout(top='5px', width='140px'), style=ButtonStyle())"
      ]
     },
     "metadata": {},
     "output_type": "display_data"
    },
    {
     "data": {
      "application/vnd.jupyter.widget-view+json": {
       "model_id": "5405b2aefe7b4fcb9fcad16b20003a79",
       "version_major": 2,
       "version_minor": 0
      },
      "text/plain": [
       "Output()"
      ]
     },
     "metadata": {},
     "output_type": "display_data"
    }
   ],
   "source": [
    "df"
   ]
  },
  {
   "cell_type": "code",
   "execution_count": 9,
   "id": "6fde2edc",
   "metadata": {},
   "outputs": [
    {
     "name": "stderr",
     "output_type": "stream",
     "text": [
      "/var/folders/bk/zhdff0zs3yz8v31x8wdnftxm0000gn/T/ipykernel_72824/913334217.py:1: UserWarning:\n",
      "No visualization selected to export.\n",
      "See more: https://lux-api.readthedocs.io/en/latest/source/guide/FAQ.html#troubleshooting-tips\n"
     ]
    },
    {
     "ename": "IndexError",
     "evalue": "list index out of range",
     "output_type": "error",
     "traceback": [
      "\u001b[0;31m---------------------------------------------------------------------------\u001b[0m",
      "\u001b[0;31mIndexError\u001b[0m                                Traceback (most recent call last)",
      "Input \u001b[0;32mIn [9]\u001b[0m, in \u001b[0;36m<cell line: 1>\u001b[0;34m()\u001b[0m\n\u001b[0;32m----> 1\u001b[0m vis \u001b[38;5;241m=\u001b[39m \u001b[43mdf\u001b[49m\u001b[38;5;241;43m.\u001b[39;49m\u001b[43mexported\u001b[49m\u001b[43m[\u001b[49m\u001b[38;5;241;43m0\u001b[39;49m\u001b[43m]\u001b[49m\n\u001b[1;32m      2\u001b[0m vis\n",
      "\u001b[0;31mIndexError\u001b[0m: list index out of range"
     ]
    }
   ],
   "source": [
    "vis = df.exported[0]\n",
    "vis"
   ]
  },
  {
   "cell_type": "code",
   "execution_count": 10,
   "id": "89540d39",
   "metadata": {},
   "outputs": [],
   "source": [
    "from lux.vis.Vis import Vis"
   ]
  },
  {
   "cell_type": "code",
   "execution_count": 11,
   "id": "399bf990",
   "metadata": {},
   "outputs": [
    {
     "data": {
      "application/vnd.jupyter.widget-view+json": {
       "model_id": "7bb759ff9fd9483183046b7c6ed2e6c2",
       "version_major": 2,
       "version_minor": 0
      },
      "text/plain": [
       "LuxWidget(current_vis={'config': {'view': {'continuousWidth': 400, 'continuousHeight': 300}, 'axis': {'labelCo…"
      ]
     },
     "metadata": {},
     "output_type": "display_data"
    }
   ],
   "source": [
    "intent = [\"wage_eur\"]\n",
    "vis = Vis(intent,df)\n",
    "vis"
   ]
  },
  {
   "cell_type": "code",
   "execution_count": 12,
   "id": "dfac67f7",
   "metadata": {},
   "outputs": [
    {
     "data": {
      "application/vnd.jupyter.widget-view+json": {
       "model_id": "ba86f020c6ce48d5996d8792c4fd9e31",
       "version_major": 2,
       "version_minor": 0
      },
      "text/plain": [
       "LuxWidget(recommendations=[{'action': 'Vis List', 'description': 'Shows a vis list defined by the intent', 'vs…"
      ]
     },
     "metadata": {},
     "output_type": "display_data"
    }
   ],
   "source": [
    "from lux.vis.VisList import VisList\n",
    "vc = VisList([\"wage_eur\",\"?\"],df)\n",
    "vc"
   ]
  },
  {
   "cell_type": "code",
   "execution_count": null,
   "id": "b666f630",
   "metadata": {},
   "outputs": [],
   "source": []
  },
  {
   "cell_type": "code",
   "execution_count": null,
   "id": "60e94427",
   "metadata": {},
   "outputs": [],
   "source": []
  }
 ],
 "metadata": {
  "kernelspec": {
   "display_name": "Python 3 (ipykernel)",
   "language": "python",
   "name": "python3"
  },
  "language_info": {
   "codemirror_mode": {
    "name": "ipython",
    "version": 3
   },
   "file_extension": ".py",
   "mimetype": "text/x-python",
   "name": "python",
   "nbconvert_exporter": "python",
   "pygments_lexer": "ipython3",
   "version": "3.9.7"
  }
 },
 "nbformat": 4,
 "nbformat_minor": 5
}
