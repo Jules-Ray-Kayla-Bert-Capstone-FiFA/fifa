{
 "cells": [
  {
   "cell_type": "code",
   "execution_count": 1,
   "id": "13f2f663",
   "metadata": {},
   "outputs": [],
   "source": [
    "import os\n",
    "import json\n",
    "from typing import Dict, List, Optional, Union, cast\n",
    "import requests\n",
    "import pandas as pd\n",
    "import bamboolib as bam\n",
    "\n",
    "import unicodedata\n",
    "import re\n",
    "import json\n",
    "\n",
    "import acquire\n",
    "\n",
    "import nltk\n",
    "from nltk.tokenize.toktok import ToktokTokenizer\n",
    "from nltk.corpus import stopwords\n",
    "from wordcloud import WordCloud\n",
    "\n",
    "from sklearn.model_selection import train_test_split\n",
    "from sklearn.linear_model import LogisticRegression\n",
    "from sklearn.metrics import classification_report, accuracy_score\n",
    "from sklearn.feature_extraction.text import TfidfVectorizer\n",
    "from sklearn.neighbors import KNeighborsClassifier\n",
    "from sklearn.metrics import confusion_matrix\n",
    "from sklearn.ensemble import RandomForestClassifier\n",
    "from sklearn.tree import DecisionTreeClassifier\n",
    "from sklearn.impute import SimpleImputer\n",
    "from sklearn.preprocessing import MinMaxScaler, StandardScaler, RobustScaler, QuantileTransformer\n",
    "from sklearn.cluster import KMeans\n",
    "\n",
    "from sklearn.metrics import mean_squared_error, r2_score\n",
    "from sklearn.feature_selection import f_regression \n",
    "\n",
    "#statistical tests\n",
    "from scipy import stats\n",
    "from scipy.stats import pearsonr, spearmanr\n",
    "\n",
    "from math import sqrt\n",
    "from sklearn.linear_model import LinearRegression, LassoLars, TweedieRegressor\n",
    "from sklearn.preprocessing import PolynomialFeatures\n",
    "\n",
    "\n",
    "import matplotlib.pyplot as plt\n",
    "import seaborn as sns\n",
    "import warnings\n",
    "warnings.filter=\"ignore\"\n",
    "\n",
    "from bs4 import BeautifulSoup\n",
    "import prepare\n",
    "import plotly.express as px\n",
    "\n",
    "#imports to show interactive visuals on github\n",
    "import plotly.io as pio\n",
    "pio.renderers\n",
    "\n",
    "#forces dataframe to show every columns\n",
    "pd.set_option('display.max_columns', None)"
   ]
  },
  {
   "cell_type": "markdown",
   "id": "b347d36f",
   "metadata": {},
   "source": [
    "***"
   ]
  },
  {
   "cell_type": "markdown",
   "id": "65c9c059",
   "metadata": {},
   "source": [
    "# `Acquire` Data."
   ]
  },
  {
   "cell_type": "code",
   "execution_count": 2,
   "id": "77b26fa7",
   "metadata": {},
   "outputs": [],
   "source": [
    "df = acquire.get_fifa_data()"
   ]
  },
  {
   "cell_type": "markdown",
   "id": "8192d4c6",
   "metadata": {},
   "source": [
    "***"
   ]
  },
  {
   "cell_type": "markdown",
   "id": "01998d31",
   "metadata": {},
   "source": [
    "# Import [Prepare.py](https://github.com/Jules-Ray-Kayla-Bert-Capstone-FiFA/fifa/blob/main/prepare.py) File.\n",
    "`Summary:`\n",
    "    This file was created with the purpose of cleaning, encoding, scaling, dropping, and adding collumns to our existing data. It is necessary to complete this preperation step before we start exploring and modeling our data."
   ]
  },
  {
   "cell_type": "code",
   "execution_count": 3,
   "id": "dc8f5151",
   "metadata": {},
   "outputs": [
    {
     "name": "stdout",
     "output_type": "stream",
     "text": [
      "Before dropping nulls, 142079 rows, 111 cols\n",
      "After dropping nulls. 131489 rows. 66 cols\n",
      "After cleaning the data and adding additional columns there are: 98804 rows. 83 cols\n"
     ]
    }
   ],
   "source": [
    "#defining df as our imported prepped data.\n",
    "df = prepare.prepped_data(df) "
   ]
  },
  {
   "cell_type": "code",
   "execution_count": 4,
   "id": "6821a6fd",
   "metadata": {},
   "outputs": [
    {
     "data": {
      "application/vnd.jupyter.widget-view+json": {
       "model_id": "c09585c62e8143f5a0e8340f4b903105"
      },
      "text/plain": [
       "       sofifa_id      short_name player_positions  overall  potential  \\\n",
       "25        199574    A. Letellier               GK       69         70   \n",
       "26        245367       X. Simons               CM       66         83   \n",
       "27        261249       É. Michut               CM       65         82   \n",
       "28        250822       B. Fadiga          CM, CAM       64         78   \n",
       "29        263194       I. Gharbi          LW, CAM       63         80   \n",
       "...          ...             ...              ...      ...        ...   \n",
       "98799     234292    L. Järvenpää               RB       57         70   \n",
       "98800     234294      L. Lingman               RW       57         72   \n",
       "98801     234297    S. Dahlström               CM       57         72   \n",
       "98802     234300  L. Lappalainen               ST       57         76   \n",
       "98803     234296      S. Ylätupa               RW       54         74   \n",
       "\n",
       "       value_eur  wage_eur  age  height_cm  weight_kg  club_team_id  \\\n",
       "25     1000000.0   21000.0   30        193         93          73.0   \n",
       "26     2200000.0    6000.0   18        168         58          73.0   \n",
       "27     1800000.0    6000.0   18        178         68          73.0   \n",
       "28     1400000.0   11000.0   20        178         70          73.0   \n",
       "29     1200000.0    3000.0   17        167         58          73.0   \n",
       "...          ...       ...  ...        ...        ...           ...   \n",
       "98799   180000.0     500.0   19        182         76      100325.0   \n",
       "98800   230000.0     500.0   18        174         65      100325.0   \n",
       "98801   240000.0     500.0   19        181         83      100325.0   \n",
       "98802   230000.0     500.0   17        183         76      100325.0   \n",
       "98803   140000.0     500.0   16        171         67      100325.0   \n",
       "\n",
       "                 club_name            league_name  nationality_id  \\\n",
       "25     Paris Saint-Germain         French Ligue 1              18   \n",
       "26     Paris Saint-Germain         French Ligue 1              34   \n",
       "27     Paris Saint-Germain         French Ligue 1              18   \n",
       "28     Paris Saint-Germain         French Ligue 1              18   \n",
       "29     Paris Saint-Germain         French Ligue 1              18   \n",
       "...                    ...                    ...             ...   \n",
       "98799         HJK Helsinki  Finnish Veikkausliiga              17   \n",
       "98800         HJK Helsinki  Finnish Veikkausliiga              17   \n",
       "98801         HJK Helsinki  Finnish Veikkausliiga              17   \n",
       "98802         HJK Helsinki  Finnish Veikkausliiga              17   \n",
       "98803         HJK Helsinki  Finnish Veikkausliiga              17   \n",
       "\n",
       "      nationality_name club_position    position field_position club_joined  \\\n",
       "25              France           RES    Reserves       Reserves  2020-09-27   \n",
       "26         Netherlands           RES    Reserves       Reserves  2019-07-23   \n",
       "27              France           RES    Reserves       Reserves  2020-07-01   \n",
       "28              France           RES    Reserves       Reserves  2020-07-01   \n",
       "29              France           RES    Reserves       Reserves  2021-07-01   \n",
       "...                ...           ...         ...            ...         ...   \n",
       "98799          Finland           SUB  Substitute           Subs  2016-01-01   \n",
       "98800          Finland           SUB  Substitute           Subs  2016-01-01   \n",
       "98801          Finland           RES    Reserves       Reserves  2016-01-01   \n",
       "98802          Finland           SUB  Substitute           Subs  2016-01-01   \n",
       "98803          Finland           RES    Reserves       Reserves  2016-01-01   \n",
       "\n",
       "       club_contract_valid_until         body_type preferred_foot  weak_foot  \\\n",
       "25                        2022.0     Normal (185+)          Right          2   \n",
       "26                        2022.0     Normal (170-)          Right          3   \n",
       "27                        2025.0    Lean (170-185)          Right          3   \n",
       "28                        2022.0    Lean (170-185)          Right          3   \n",
       "29                        2022.0       Lean (170-)          Right          3   \n",
       "...                          ...               ...            ...        ...   \n",
       "98799                     2020.0  Normal (170-185)          Right          3   \n",
       "98800                     2020.0    Lean (170-185)          Right          3   \n",
       "98801                     2020.0  Normal (170-185)          Right          3   \n",
       "98802                     2020.0  Normal (170-185)          Right          3   \n",
       "98803                     2020.0  Normal (170-185)          Right          3   \n",
       "\n",
       "       skill_moves  international_reputation      work_rate  pace  shooting  \\\n",
       "25               1                         2  Medium/Medium     0         0   \n",
       "26               3                         1    Medium/High    68        57   \n",
       "27               3                         1    High/Medium    65        53   \n",
       "28               3                         1    High/Medium    75        47   \n",
       "29               3                         1  Medium/Medium    71        55   \n",
       "...            ...                       ...            ...   ...       ...   \n",
       "98799            2                         1  Medium/Medium    70        26   \n",
       "98800            2                         1  Medium/Medium    70        46   \n",
       "98801            2                         1  Medium/Medium    70        46   \n",
       "98802            2                         1  Medium/Medium    77        54   \n",
       "98803            2                         1  Medium/Medium    72        43   \n",
       "\n",
       "       passing  dribbling  defending  physical  crossing  finishing  \\\n",
       "25           0          0          0         0        13         10   \n",
       "26          66         70         57        60        60         57   \n",
       "27          64         71         56        49        55         50   \n",
       "28          60         71         59        53        48         46   \n",
       "29          60         71         40        40        55         54   \n",
       "...        ...        ...        ...       ...       ...        ...   \n",
       "98799       41         43         55        66        56         25   \n",
       "98800       50         63         29        56        61         45   \n",
       "98801       53         60         50        59        45         45   \n",
       "98802       42         57         18        61        32         57   \n",
       "98803       49         57         27        48        56         47   \n",
       "\n",
       "       heading_accuracy  short_passing  volleys  skill_dribbling  curve  \\\n",
       "25                   11             28       13               11     19   \n",
       "26                   39             69       49               70     71   \n",
       "27                   45             70       48               70     61   \n",
       "28                   55             67       37               71     52   \n",
       "29                   35             62       49               71     68   \n",
       "...                 ...            ...      ...              ...    ...   \n",
       "98799                52             41       23               41     37   \n",
       "98800                39             51       45               61     34   \n",
       "98801                44             59       31               60     32   \n",
       "98802                53             44       45               56     44   \n",
       "98803                38             47       34               55     47   \n",
       "\n",
       "       fk_accuracy  long_passing  ball_control  acceleration  sprint_speed  \\\n",
       "25              13            23            16            37            39   \n",
       "26              61            65            69            70            66   \n",
       "27              48            66            70            68            62   \n",
       "28              47            61            69            77            73   \n",
       "29              52            57            67            75            68   \n",
       "...            ...           ...           ...           ...           ...   \n",
       "98799           31            30            35            67            72   \n",
       "98800           41            45            59            68            72   \n",
       "98801           41            58            57            67            72   \n",
       "98802           39            41            57            75            79   \n",
       "98803           33            45            57            68            76   \n",
       "\n",
       "       agility  reactions  balance  shot_power  jumping  stamina  strength  \\\n",
       "25          32         67       20          47       57       31        72   \n",
       "26          73         63       84          59       56       61        55   \n",
       "27          75         62       80          58       45       50        45   \n",
       "28          86         65       77          52       55       68        40   \n",
       "29          81         55       88          60       49       41        34   \n",
       "...        ...        ...      ...         ...      ...      ...       ...   \n",
       "98799       59         50       63          27       60       79        63   \n",
       "98800       81         56       82          52       67       82        52   \n",
       "98801       65         55       63          49       66       55        61   \n",
       "98802       68         51       58          50       67       60        69   \n",
       "98803       60         51       81          45       55       57        47   \n",
       "\n",
       "       long_shots  aggression  interceptions  positioning  vision  penalties  \\\n",
       "25             14          25             24           14      22         20   \n",
       "26             55          72             61           67      68         58   \n",
       "27             55          60             61           58      67         55   \n",
       "28             43          65             61           58      62         50   \n",
       "29             54          51             40           57      64         60   \n",
       "...           ...         ...            ...          ...     ...        ...   \n",
       "98799          23          57             56           42      38         35   \n",
       "98800          41          31             25           52      49         50   \n",
       "98801          49          56             54           42      57         42   \n",
       "98802          54          43             15           52      51         54   \n",
       "98803          34          35             24           48      53         41   \n",
       "\n",
       "       marking  standing_tackle  sliding_tackle  gk_diving  gk_handling  \\\n",
       "25          15               13              11         68           67   \n",
       "26          56               64              52          9           11   \n",
       "27          55               60              51          9           13   \n",
       "28          55               63              56         12           14   \n",
       "29          37               45              38          7            9   \n",
       "...        ...              ...             ...        ...          ...   \n",
       "98799       57               53              52         14           15   \n",
       "98800       34               25              23         11           14   \n",
       "98801       38               58              56         15           11   \n",
       "98802       14               13              12          7           14   \n",
       "98803       23               29              26          8            8   \n",
       "\n",
       "       gk_kicking  gk_positioning  gk_reflexes  gk_speed  year  total_wage  \\\n",
       "25             62              67           72        38  2022   1021000.0   \n",
       "26              5               8           10         0  2022   2206000.0   \n",
       "27             11               8            9         0  2022   1806000.0   \n",
       "28             14              15           15         0  2022   1411000.0   \n",
       "29             13              15            8         0  2022   1203000.0   \n",
       "...           ...             ...          ...       ...   ...         ...   \n",
       "98799           6               8            9         0  2017    180500.0   \n",
       "98800           9              10           15         0  2017    230500.0   \n",
       "98801           8              10           14         0  2017    240500.0   \n",
       "98802           6               6            9         0  2017    230500.0   \n",
       "98803          14              14           11         0  2017    140500.0   \n",
       "\n",
       "      age_bins height_bins weight_bins  year_joined  wage_year  league_yr_sum  \\\n",
       "25       older        tall       heavy         2020  1092000.0   5.034099e+09   \n",
       "26     younger       short        slim         2019   312000.0   5.034099e+09   \n",
       "27     younger      medium        slim         2020   312000.0   5.034099e+09   \n",
       "28     younger      medium     average         2020   572000.0   5.034099e+09   \n",
       "29     younger       short        slim         2021   156000.0   5.034099e+09   \n",
       "...        ...         ...         ...          ...        ...            ...   \n",
       "98799  younger      medium     average         2016    26000.0   3.504800e+06   \n",
       "98800  younger      medium        slim         2016    26000.0   3.504800e+06   \n",
       "98801  younger      medium     average         2016    26000.0   3.504800e+06   \n",
       "98802  younger      medium     average         2016    26000.0   3.504800e+06   \n",
       "98803  younger       short        slim         2016    26000.0   3.504800e+06   \n",
       "\n",
       "       club_name_yr_sum  seniority  club_position_encoded  work_rate_encoded  \\\n",
       "25          991694600.0          2                     22                  5   \n",
       "26          991694600.0          3                     22                  6   \n",
       "27          991694600.0          2                     22                  8   \n",
       "28          991694600.0          2                     22                  8   \n",
       "29          991694600.0          1                     22                  5   \n",
       "...                 ...        ...                    ...                ...   \n",
       "98799         3504800.0          1                     12                  5   \n",
       "98800         3504800.0          1                     12                  5   \n",
       "98801         3504800.0          1                     22                  5   \n",
       "98802         3504800.0          1                     12                  5   \n",
       "98803         3504800.0          1                     22                  5   \n",
       "\n",
       "       preferred_foot_encoded age_bins_encoded weight_bins_encoded  \\\n",
       "25                          2                1                   3   \n",
       "26                          2                2                   1   \n",
       "27                          2                2                   1   \n",
       "28                          2                2                   2   \n",
       "29                          2                2                   1   \n",
       "...                       ...              ...                 ...   \n",
       "98799                       2                2                   2   \n",
       "98800                       2                2                   1   \n",
       "98801                       2                2                   2   \n",
       "98802                       2                2                   2   \n",
       "98803                       2                2                   1   \n",
       "\n",
       "       body_type_encoded  league_encoded  \n",
       "25                     4               4  \n",
       "26                     6               4  \n",
       "27                     3               4  \n",
       "28                     3               4  \n",
       "29                     8               4  \n",
       "...                  ...             ...  \n",
       "98799                  2              42  \n",
       "98800                  3              42  \n",
       "98801                  2              42  \n",
       "98802                  2              42  \n",
       "98803                  2              42  \n",
       "\n",
       "[85921 rows x 83 columns]"
      ]
     },
     "metadata": {},
     "output_type": "display_data"
    }
   ],
   "source": [
    "cols = ['wage_eur']\n",
    "def handle_outliers(df, cols, k):\n",
    "    \"\"\"this will eliminate most outliers, use a 1.5 k value if unsure because it is the most common, make sure to define cols value as the features\n",
    "    you want the outliers to be handled. this should be done before running the function and outiside of it\"\"\"\n",
    "\n",
    "    \n",
    "    # Create placeholder dictionary for each columns bounds\n",
    "    bounds_dict = {}\n",
    "   \n",
    "    for col in cols:\n",
    "        # get necessary iqr values\n",
    "        q1 = df[col].quantile(0.25)\n",
    "        q3 = df[col].quantile(0.75)\n",
    "        iqr = q3 - q1\n",
    "        upper_bound =  q3 + k * iqr\n",
    "        lower_bound =  q1 - k * iqr\n",
    "\n",
    "        #store values in a dictionary referencable by the column name\n",
    "        #and specific bound\n",
    "        bounds_dict[col] = {}\n",
    "        bounds_dict[col]['upper_bound'] = upper_bound\n",
    "        bounds_dict[col]['lower_bound'] = lower_bound\n",
    "\n",
    "    for col in cols:\n",
    "        #retrieve bounds\n",
    "        col_upper_bound = bounds_dict[col]['upper_bound']\n",
    "        col_lower_bound = bounds_dict[col]['lower_bound']\n",
    "\n",
    "        #remove rows with an outlier in that column\n",
    "        df = df[(df[col] < col_upper_bound) & (df[col] > col_lower_bound)]\n",
    "        \n",
    "    return df\n",
    "\n",
    "handle_outliers(df,cols,1.5)"
   ]
  },
  {
   "cell_type": "markdown",
   "id": "75eead09",
   "metadata": {},
   "source": [
    "# Seperating Goalkeepers, Forwards, & Midfielders"
   ]
  },
  {
   "cell_type": "code",
   "execution_count": 5,
   "id": "d62c0ab0",
   "metadata": {},
   "outputs": [],
   "source": [
    "goalkeeper_df, forward_df, midfielder_df, defender_df = prepare.acquire_players_by_position(df)"
   ]
  },
  {
   "cell_type": "markdown",
   "id": "2b8303aa",
   "metadata": {},
   "source": [
    "# Focusing on midfielders on this section"
   ]
  },
  {
   "cell_type": "code",
   "execution_count": 6,
   "id": "0eb8a4c3",
   "metadata": {},
   "outputs": [
    {
     "data": {
      "application/vnd.jupyter.widget-view+json": {
       "model_id": "8abd95a6d2e54918b7465451775c8973"
      },
      "text/plain": [
       "       sofifa_id      short_name player_positions  overall  potential  \\\n",
       "0         158023        L. Messi       RW, ST, CF       93         93   \n",
       "1         190871       Neymar Jr          LW, CAM       91         91   \n",
       "2         231747       K. Mbappé           ST, LW       91         95   \n",
       "3         230621   G. Donnarumma               GK       89         93   \n",
       "4         155862    Sergio Ramos               CB       88         88   \n",
       "...          ...             ...              ...      ...        ...   \n",
       "98799     234292    L. Järvenpää               RB       57         70   \n",
       "98800     234294      L. Lingman               RW       57         72   \n",
       "98801     234297    S. Dahlström               CM       57         72   \n",
       "98802     234300  L. Lappalainen               ST       57         76   \n",
       "98803     234296      S. Ylätupa               RW       54         74   \n",
       "\n",
       "         value_eur  wage_eur  age  height_cm  weight_kg  club_team_id  \\\n",
       "0       78000000.0  320000.0   34        170         72          73.0   \n",
       "1      129000000.0  270000.0   29        175         68          73.0   \n",
       "2      194000000.0  230000.0   22        182         73          73.0   \n",
       "3      119500000.0  110000.0   22        196         90          73.0   \n",
       "4       24000000.0  115000.0   35        184         82          73.0   \n",
       "...            ...       ...  ...        ...        ...           ...   \n",
       "98799     180000.0     500.0   19        182         76      100325.0   \n",
       "98800     230000.0     500.0   18        174         65      100325.0   \n",
       "98801     240000.0     500.0   19        181         83      100325.0   \n",
       "98802     230000.0     500.0   17        183         76      100325.0   \n",
       "98803     140000.0     500.0   16        171         67      100325.0   \n",
       "\n",
       "                 club_name            league_name  nationality_id  \\\n",
       "0      Paris Saint-Germain         French Ligue 1              52   \n",
       "1      Paris Saint-Germain         French Ligue 1              54   \n",
       "2      Paris Saint-Germain         French Ligue 1              18   \n",
       "3      Paris Saint-Germain         French Ligue 1              27   \n",
       "4      Paris Saint-Germain         French Ligue 1              45   \n",
       "...                    ...                    ...             ...   \n",
       "98799         HJK Helsinki  Finnish Veikkausliiga              17   \n",
       "98800         HJK Helsinki  Finnish Veikkausliiga              17   \n",
       "98801         HJK Helsinki  Finnish Veikkausliiga              17   \n",
       "98802         HJK Helsinki  Finnish Veikkausliiga              17   \n",
       "98803         HJK Helsinki  Finnish Veikkausliiga              17   \n",
       "\n",
       "      nationality_name club_position          position field_position  \\\n",
       "0            Argentina            RW        Right Wing        Forward   \n",
       "1               Brazil            LW         Left Wing        Forward   \n",
       "2               France            ST           Striker        Forward   \n",
       "3                Italy            GK        Goalkeeper     Goalkeeper   \n",
       "4                Spain           LCB  Left Centre Back       Defender   \n",
       "...                ...           ...               ...            ...   \n",
       "98799          Finland           SUB        Substitute           Subs   \n",
       "98800          Finland           SUB        Substitute           Subs   \n",
       "98801          Finland           RES          Reserves       Reserves   \n",
       "98802          Finland           SUB        Substitute           Subs   \n",
       "98803          Finland           RES          Reserves       Reserves   \n",
       "\n",
       "      club_joined  club_contract_valid_until         body_type preferred_foot  \\\n",
       "0      2021-08-10                     2023.0            Unique           Left   \n",
       "1      2017-08-03                     2025.0            Unique          Right   \n",
       "2      2018-07-01                     2022.0            Unique          Right   \n",
       "3      2021-07-15                     2026.0            Unique          Right   \n",
       "4      2021-07-08                     2023.0            Unique          Right   \n",
       "...           ...                        ...               ...            ...   \n",
       "98799  2016-01-01                     2020.0  Normal (170-185)          Right   \n",
       "98800  2016-01-01                     2020.0    Lean (170-185)          Right   \n",
       "98801  2016-01-01                     2020.0  Normal (170-185)          Right   \n",
       "98802  2016-01-01                     2020.0  Normal (170-185)          Right   \n",
       "98803  2016-01-01                     2020.0  Normal (170-185)          Right   \n",
       "\n",
       "       weak_foot  skill_moves  international_reputation      work_rate  pace  \\\n",
       "0              4            4                         5     Medium/Low    85   \n",
       "1              5            5                         5    High/Medium    91   \n",
       "2              4            5                         4       High/Low    97   \n",
       "3              3            1                         3  Medium/Medium     0   \n",
       "4              3            3                         4    High/Medium    70   \n",
       "...          ...          ...                       ...            ...   ...   \n",
       "98799          3            2                         1  Medium/Medium    70   \n",
       "98800          3            2                         1  Medium/Medium    70   \n",
       "98801          3            2                         1  Medium/Medium    70   \n",
       "98802          3            2                         1  Medium/Medium    77   \n",
       "98803          3            2                         1  Medium/Medium    72   \n",
       "\n",
       "       shooting  passing  dribbling  defending  physical  crossing  finishing  \\\n",
       "0            92       91         95         34        65        85         95   \n",
       "1            83       86         94         37        63        85         83   \n",
       "2            88       80         92         36        77        78         93   \n",
       "3             0        0          0          0         0        12         12   \n",
       "4            70       76         74         88        84        66         65   \n",
       "...         ...      ...        ...        ...       ...       ...        ...   \n",
       "98799        26       41         43         55        66        56         25   \n",
       "98800        46       50         63         29        56        61         45   \n",
       "98801        46       53         60         50        59        45         45   \n",
       "98802        54       42         57         18        61        32         57   \n",
       "98803        43       49         57         27        48        56         47   \n",
       "\n",
       "       heading_accuracy  short_passing  volleys  skill_dribbling  curve  \\\n",
       "0                    70             91       88               96     93   \n",
       "1                    63             86       86               95     88   \n",
       "2                    72             85       83               93     80   \n",
       "3                    12             36        8               28     12   \n",
       "4                    92             82       69               65     74   \n",
       "...                 ...            ...      ...              ...    ...   \n",
       "98799                52             41       23               41     37   \n",
       "98800                39             51       45               61     34   \n",
       "98801                44             59       31               60     32   \n",
       "98802                53             44       45               56     44   \n",
       "98803                38             47       34               55     47   \n",
       "\n",
       "       fk_accuracy  long_passing  ball_control  acceleration  sprint_speed  \\\n",
       "0               94            91            96            91            80   \n",
       "1               87            81            95            93            89   \n",
       "2               69            71            91            97            97   \n",
       "3               14            34            30            50            55   \n",
       "4               76            83            83            71            69   \n",
       "...            ...           ...           ...           ...           ...   \n",
       "98799           31            30            35            67            72   \n",
       "98800           41            45            59            68            72   \n",
       "98801           41            58            57            67            72   \n",
       "98802           39            41            57            75            79   \n",
       "98803           33            45            57            68            76   \n",
       "\n",
       "       agility  reactions  balance  shot_power  jumping  stamina  strength  \\\n",
       "0           91         94       95          86       68       72        69   \n",
       "1           96         89       84          80       64       81        53   \n",
       "2           92         93       83          86       78       88        77   \n",
       "3           64         85       38          59       72       34        72   \n",
       "4           77         92       66          79       93       78        84   \n",
       "...        ...        ...      ...         ...      ...      ...       ...   \n",
       "98799       59         50       63          27       60       79        63   \n",
       "98800       81         56       82          52       67       82        52   \n",
       "98801       65         55       63          49       66       55        61   \n",
       "98802       68         51       58          50       67       60        69   \n",
       "98803       60         51       81          45       55       57        47   \n",
       "\n",
       "       long_shots  aggression  interceptions  positioning  vision  penalties  \\\n",
       "0              94          44             40           93      95         75   \n",
       "1              81          63             37           86      90         93   \n",
       "2              82          62             38           92      82         79   \n",
       "3              18          30             26           14      60         24   \n",
       "4              64          90             87           73      71         92   \n",
       "...           ...         ...            ...          ...     ...        ...   \n",
       "98799          23          57             56           42      38         35   \n",
       "98800          41          31             25           52      49         50   \n",
       "98801          49          56             54           42      57         42   \n",
       "98802          54          43             15           52      51         54   \n",
       "98803          34          35             24           48      53         41   \n",
       "\n",
       "       marking  standing_tackle  sliding_tackle  gk_diving  gk_handling  \\\n",
       "0           20               35              24          6           11   \n",
       "1           35               32              29          9            9   \n",
       "2           26               34              32         13            5   \n",
       "3           20               14              16         91           83   \n",
       "4           84               89              91         11            8   \n",
       "...        ...              ...             ...        ...          ...   \n",
       "98799       57               53              52         14           15   \n",
       "98800       34               25              23         11           14   \n",
       "98801       38               58              56         15           11   \n",
       "98802       14               13              12          7           14   \n",
       "98803       23               29              26          8            8   \n",
       "\n",
       "       gk_kicking  gk_positioning  gk_reflexes  gk_speed  year   total_wage  \\\n",
       "0              15              14            8         0  2022   78320000.0   \n",
       "1              15              15           11         0  2022  129270000.0   \n",
       "2               7              11            6         0  2022  194230000.0   \n",
       "3              79              85           90        52  2022  119610000.0   \n",
       "4               9               7           11         0  2022   24115000.0   \n",
       "...           ...             ...          ...       ...   ...          ...   \n",
       "98799           6               8            9         0  2017     180500.0   \n",
       "98800           9              10           15         0  2017     230500.0   \n",
       "98801           8              10           14         0  2017     240500.0   \n",
       "98802           6               6            9         0  2017     230500.0   \n",
       "98803          14              14           11         0  2017     140500.0   \n",
       "\n",
       "      age_bins height_bins weight_bins  year_joined   wage_year  \\\n",
       "0        older       short     average         2021  16640000.0   \n",
       "1      younger      medium        slim         2017  14040000.0   \n",
       "2      younger      medium     average         2018  11960000.0   \n",
       "3      younger        tall       heavy         2021   5720000.0   \n",
       "4        older      medium     average         2021   5980000.0   \n",
       "...        ...         ...         ...          ...         ...   \n",
       "98799  younger      medium     average         2016     26000.0   \n",
       "98800  younger      medium        slim         2016     26000.0   \n",
       "98801  younger      medium     average         2016     26000.0   \n",
       "98802  younger      medium     average         2016     26000.0   \n",
       "98803  younger       short        slim         2016     26000.0   \n",
       "\n",
       "       league_yr_sum  club_name_yr_sum  seniority  club_position_encoded  \\\n",
       "0       5.034099e+09       991694600.0          1                      1   \n",
       "1       5.034099e+09       991694600.0          5                      3   \n",
       "2       5.034099e+09       991694600.0          4                      2   \n",
       "3       5.034099e+09       991694600.0          1                      5   \n",
       "4       5.034099e+09       991694600.0          1                      8   \n",
       "...              ...               ...        ...                    ...   \n",
       "98799   3.504800e+06         3504800.0          1                     12   \n",
       "98800   3.504800e+06         3504800.0          1                     12   \n",
       "98801   3.504800e+06         3504800.0          1                     22   \n",
       "98802   3.504800e+06         3504800.0          1                     12   \n",
       "98803   3.504800e+06         3504800.0          1                     22   \n",
       "\n",
       "       work_rate_encoded  preferred_foot_encoded age_bins_encoded  \\\n",
       "0                      4                       1                1   \n",
       "1                      8                       2                2   \n",
       "2                      7                       2                2   \n",
       "3                      5                       2                2   \n",
       "4                      8                       2                1   \n",
       "...                  ...                     ...              ...   \n",
       "98799                  5                       2                2   \n",
       "98800                  5                       2                2   \n",
       "98801                  5                       2                2   \n",
       "98802                  5                       2                2   \n",
       "98803                  5                       2                2   \n",
       "\n",
       "      weight_bins_encoded  body_type_encoded  league_encoded  \n",
       "0                       2                  1               4  \n",
       "1                       1                  1               4  \n",
       "2                       2                  1               4  \n",
       "3                       3                  1               4  \n",
       "4                       2                  1               4  \n",
       "...                   ...                ...             ...  \n",
       "98799                   2                  2              42  \n",
       "98800                   1                  3              42  \n",
       "98801                   2                  2              42  \n",
       "98802                   2                  2              42  \n",
       "98803                   1                  2              42  \n",
       "\n",
       "[98804 rows x 83 columns]"
      ]
     },
     "metadata": {},
     "output_type": "display_data"
    }
   ],
   "source": [
    "df = midfielder_df\n",
    "df"
   ]
  },
  {
   "cell_type": "code",
   "execution_count": 7,
   "id": "aa0ea4f2",
   "metadata": {},
   "outputs": [
    {
     "name": "stdout",
     "output_type": "stream",
     "text": [
      "Train: 58558 rows, 83 cols\n",
      "Validate: 26216 rows, 83 cols\n",
      "Test: 14030 rows, 83 cols\n"
     ]
    }
   ],
   "source": [
    "train, validate, test = prepare.split(df)"
   ]
  },
  {
   "cell_type": "markdown",
   "id": "9e37e21b",
   "metadata": {},
   "source": [
    "# `Explore`"
   ]
  },
  {
   "cell_type": "markdown",
   "id": "e18a8dc8",
   "metadata": {},
   "source": [
    "## Importing split function to start our exploring on our train data."
   ]
  },
  {
   "cell_type": "markdown",
   "id": "e3ef50b8",
   "metadata": {},
   "source": [
    "***\n",
    "# Relationship to Wage_euro Plot"
   ]
  },
  {
   "cell_type": "code",
   "execution_count": 8,
   "id": "3f55ff57",
   "metadata": {
    "scrolled": false
   },
   "outputs": [
    {
     "data": {
      "image/png": "[encoded data removed]",
      "text/plain": [
       "<Figure size 864x576 with 1 Axes>"
      ]
     },
     "metadata": {
      "needs_background": "light"
     },
     "output_type": "display_data"
    }
   ],
   "source": [
    "plt.figure(figsize = (12,8))\n",
    "train.corr()['wage_eur'].sort_values(ascending=False).plot(kind='barh', color='orange')\n",
    "plt.title('Relationship with wages')\n",
    "plt.xlabel('Relationship')\n",
    "plt.ylabel('Features')\n",
    "plt.show()"
   ]
  },
  {
   "cell_type": "code",
   "execution_count": 9,
   "id": "4193d591",
   "metadata": {
    "scrolled": false
   },
   "outputs": [
    {
     "data": {
      "application/vnd.jupyter.widget-view+json": {
       "model_id": "1982594014034092ab1f1f4bf1bc9f6b"
      },
      "text/plain": [
       "                          wage_eur\n",
       "total_wage                0.832441\n",
       "value_eur                 0.830918\n",
       "international_reputation  0.724579\n",
       "club_name_yr_sum          0.702224\n",
       "overall                   0.648795\n",
       "...                            ...\n",
       "club_position_encoded    -0.151730\n",
       "year_joined              -0.168948\n",
       "club_team_id             -0.236538\n",
       "league_encoded           -0.243333\n",
       "sofifa_id                -0.279278\n",
       "\n",
       "[64 rows x 1 columns]"
      ]
     },
     "metadata": {},
     "output_type": "display_data"
    }
   ],
   "source": [
    "features_cor =  train.corr()['wage_eur'].sort_values(ascending=False)\n",
    "features_cor = pd.DataFrame(features_cor)\n",
    "features_cor.tail(64)"
   ]
  },
  {
   "cell_type": "code",
   "execution_count": 10,
   "id": "b643bbe8",
   "metadata": {},
   "outputs": [],
   "source": [
    "# from sklearn.feature_selection import RFE\n",
    "# # initialize the ML algorithm\n",
    "# lm = LinearRegression()\n",
    "# # create the rfe object, indicating the ML object (lm) and the number of features I want to end up with.\n",
    "# rfe = RFE(lm, n_features_to_select=15)\n",
    "# # fit the data using RFE\n",
    "# rfe.fit(X , y)\n",
    "# # get the mask of the columns selected\n",
    "# feature_mask = rfe.support_\n",
    "# # get list of the column names.\n",
    "# rfe_feature = X.iloc[:,feature_mask].columns.tolist()"
   ]
  },
  {
   "cell_type": "code",
   "execution_count": null,
   "id": "bf8339f7",
   "metadata": {},
   "outputs": [],
   "source": []
  },
  {
   "cell_type": "markdown",
   "id": "9df09add",
   "metadata": {},
   "source": [
    "`Takeaways:` \n",
    "For this Exploration section I wil be focusing on the skills that are under or equal to 70 percent of correlation and greater then 48 percent. \n",
    "The list below will be the skills and stats that I will be focusing on.\n",
    "\n",
    "- overall\n",
    "- passing\n",
    "- ball_control\n",
    "- short_passing\n",
    "- reactions\n",
    "- potential\n",
    "- dribbling\n",
    "- vision\n",
    "- skill_dribbling\n",
    "- league_yr_sum\n",
    "- long_passing\n",
    "- shooting\n",
    "\n"
   ]
  },
  {
   "cell_type": "code",
   "execution_count": 11,
   "id": "43e98e08",
   "metadata": {},
   "outputs": [],
   "source": [
    "# identifying mvp columns for midfielders\n",
    "mvp = ['overall','reactions'] #'skill_dribbling', 'league_yr_sum', 'long_passing', 'shooting''international_reputation',, 'passing', 'ball_control', 'short_passing', 'reactions', 'potential',\n",
    "#'dribbling', 'vision'"
   ]
  },
  {
   "cell_type": "code",
   "execution_count": 12,
   "id": "78db62b1",
   "metadata": {},
   "outputs": [],
   "source": [
    "X_train = train[mvp]\n",
    "y_train = train['wage_eur']\n",
    "\n",
    "X_validate = validate[mvp]\n",
    "y_validate = validate['wage_eur']\n",
    "\n",
    "X_test = test[mvp]\n",
    "y_test = test['wage_eur']"
   ]
  },
  {
   "cell_type": "markdown",
   "id": "a471648d",
   "metadata": {},
   "source": [
    "# Scaling"
   ]
  },
  {
   "cell_type": "markdown",
   "id": "e91d2b76",
   "metadata": {},
   "source": [
    "scaler = RobustScaler()\n",
    "# Note that we only call .fit with the training data,\n",
    "# but we use .transform to apply the scaling to all the data splits.\n",
    "scaler.fit(X_train)\n",
    "\n",
    "X_train_scaled = scaler.transform(X_train)\n",
    "X_validate_scaled = scaler.transform(X_validate)\n",
    "X_test_scaled = scaler.transform(X_test)\n"
   ]
  },
  {
   "cell_type": "code",
   "execution_count": 13,
   "id": "c95ced52",
   "metadata": {},
   "outputs": [],
   "source": [
    "#scaler, X_train_scaled, X_validate_scaled, X_test_scaled = scale_data(X_train, X_validate, X_test, return_scaler=True)"
   ]
  },
  {
   "cell_type": "markdown",
   "id": "011ca93a",
   "metadata": {},
   "source": [
    "# RMSE"
   ]
  },
  {
   "cell_type": "code",
   "execution_count": 14,
   "id": "dbc00d12",
   "metadata": {},
   "outputs": [
    {
     "name": "stdout",
     "output_type": "stream",
     "text": [
      "RMSE using Mean\n",
      "Train/In-Sample:  26843.09 \n",
      "Validate/Out-of-Sample:  23634.52\n",
      "RMSE using Median\n",
      "Train/In-Sample:  28540.47 \n",
      "Validate/Out-of-Sample:  24985.87\n"
     ]
    }
   ],
   "source": [
    "# We need y_train and y_validate to be dataframes to append the new columns with predicted values.\n",
    "y_train = pd.DataFrame(y_train)\n",
    "y_validate = pd.DataFrame(y_validate)\n",
    "# 1. Predict price_pred_mean\n",
    "wage_eur_pred_mean = y_train.wage_eur.mean()\n",
    "# creating a wage_eur_pred_mean column for my y_train\n",
    "y_train['wage_eur_pred_mean'] = y_train.wage_eur.mean()\n",
    "# creating a wage_eur_pred_mean column for my y_validate\n",
    "y_validate['wage_eur_pred_mean'] = y_validate.wage_eur.mean()\n",
    "# 2. compute price_pred_median\n",
    "# creating a predictive median for y train \n",
    "y_train['wage_eur_pred_median'] = y_train.wage_eur.median()\n",
    "# creating a predictive median for y_validate\n",
    "y_validate['wage_eur_pred_median'] = y_validate.wage_eur.median()\n",
    "# 3. RMSE of price_pred_mean\n",
    "rmse_train = mean_squared_error(y_train.wage_eur, y_train.wage_eur_pred_mean)**(1/2)\n",
    "rmse_validate = mean_squared_error(y_validate.wage_eur, y_validate.wage_eur_pred_mean)**(1/2)\n",
    "print(\"RMSE using Mean\\nTrain/In-Sample: \", round(rmse_train, 2),\n",
    "      \"\\nValidate/Out-of-Sample: \", round(rmse_validate, 2))\n",
    "# 4. RMSE of wage_eur_pred_median\n",
    "rmse_train = mean_squared_error(y_train.wage_eur, y_train.wage_eur_pred_median)**(1/2)\n",
    "rmse_validate = mean_squared_error(y_validate.wage_eur, y_validate.wage_eur_pred_median)**(1/2)\n",
    "print(\"RMSE using Median\\nTrain/In-Sample: \", round(rmse_train, 2),\n",
    "      \"\\nValidate/Out-of-Sample: \", round(rmse_validate, 2))"
   ]
  },
  {
   "cell_type": "code",
   "execution_count": 15,
   "id": "4fc7c20b",
   "metadata": {},
   "outputs": [
    {
     "data": {
      "application/vnd.jupyter.widget-view+json": {
       "model_id": "de770a8cdedb4481bc93cb04d4898b18"
      },
      "text/plain": [
       "       wage_eur\n",
       "0      320000.0\n",
       "1      270000.0\n",
       "2      230000.0\n",
       "3      110000.0\n",
       "4      115000.0\n",
       "...         ...\n",
       "98696     500.0\n",
       "98697     500.0\n",
       "98698     500.0\n",
       "98699     500.0\n",
       "98700     500.0\n",
       "\n",
       "[14030 rows x 1 columns]"
      ]
     },
     "metadata": {},
     "output_type": "display_data"
    }
   ],
   "source": [
    "y_test = pd.DataFrame(y_test)\n",
    "\n",
    "y_test"
   ]
  },
  {
   "cell_type": "code",
   "execution_count": null,
   "id": "87b134ca",
   "metadata": {},
   "outputs": [],
   "source": [
    "model."
   ]
  },
  {
   "cell_type": "code",
   "execution_count": 16,
   "id": "693dee45",
   "metadata": {},
   "outputs": [
    {
     "ename": "NameError",
     "evalue": "name 'X_train_scaled' is not defined",
     "output_type": "error",
     "traceback": [
      "\u001b[0;31m---------------------------------------------------------------------------\u001b[0m",
      "\u001b[0;31mNameError\u001b[0m                                 Traceback (most recent call last)",
      "\u001b[0;32m/var/folders/dc/8rtfvpyj2mb6mqbnfkf5dl400000gn/T/ipykernel_27089/1825165043.py\u001b[0m in \u001b[0;36m<module>\u001b[0;34m\u001b[0m\n\u001b[1;32m      4\u001b[0m \u001b[0;31m# fit the model to our training data. We must specify the column in y_train,\u001b[0m\u001b[0;34m\u001b[0m\u001b[0;34m\u001b[0m\u001b[0m\n\u001b[1;32m      5\u001b[0m \u001b[0;31m# since we have converted it to a dataframe from a series!\u001b[0m\u001b[0;34m\u001b[0m\u001b[0;34m\u001b[0m\u001b[0m\n\u001b[0;32m----> 6\u001b[0;31m \u001b[0mlm\u001b[0m\u001b[0;34m.\u001b[0m\u001b[0mfit\u001b[0m\u001b[0;34m(\u001b[0m\u001b[0mX_train_scaled\u001b[0m\u001b[0;34m,\u001b[0m \u001b[0my_train\u001b[0m\u001b[0;34m.\u001b[0m\u001b[0mwage_eur\u001b[0m\u001b[0;34m)\u001b[0m\u001b[0;34m\u001b[0m\u001b[0;34m\u001b[0m\u001b[0m\n\u001b[0m\u001b[1;32m      7\u001b[0m \u001b[0;34m\u001b[0m\u001b[0m\n\u001b[1;32m      8\u001b[0m \u001b[0;31m# predict train\u001b[0m\u001b[0;34m\u001b[0m\u001b[0;34m\u001b[0m\u001b[0m\n",
      "\u001b[0;31mNameError\u001b[0m: name 'X_train_scaled' is not defined"
     ]
    }
   ],
   "source": [
    "# create the model object\n",
    "lm = LinearRegression(normalize=True)\n",
    "\n",
    "# fit the model to our training data. We must specify the column in y_train, \n",
    "# since we have converted it to a dataframe from a series! \n",
    "lm.fit(X_train_scaled, y_train.wage_eur)\n",
    "\n",
    "# predict train\n",
    "y_train['wage_eur_pred_lm'] = lm.predict(X_train_scaled)\n",
    "\n",
    "# evaluate: rmse\n",
    "rmse_train = mean_squared_error(y_train.wage_eur, y_train.wage_eur_pred_lm)**(1/2)\n",
    "\n",
    "# predict validate\n",
    "y_validate['wage_eur_pred_lm'] = lm.predict(X_validate_scaled)\n",
    "\n",
    "# evaluate: rmse\n",
    "rmse_validate_lm = mean_squared_error(y_validate.wage_eur, y_validate.wage_eur_pred_lm)**(1/2)\n",
    "\n",
    "print(\"RMSE for OLS using LinearRegression\\nTraining/In-Sample: \", rmse_train, \n",
    "      \"\\nValidation/Out-of-Sample: \", rmse_validate_lm)"
   ]
  },
  {
   "cell_type": "code",
   "execution_count": null,
   "id": "148ee37f",
   "metadata": {},
   "outputs": [],
   "source": [
    "#residuals\n",
    "y_train['lm_residuals'] = y_train['wage_eur_pred_lm'] - y_train['wage_eur']\n",
    "y_validate['lm_residuals'] = y_validate['wage_eur_pred_lm'] - y_validate['wage_eur']"
   ]
  },
  {
   "cell_type": "markdown",
   "id": "51283ae8",
   "metadata": {},
   "source": [
    "# LassoLars(lars)"
   ]
  },
  {
   "cell_type": "code",
   "execution_count": 17,
   "id": "07a8ea9c",
   "metadata": {},
   "outputs": [
    {
     "ename": "NameError",
     "evalue": "name 'X_train_scaled' is not defined",
     "output_type": "error",
     "traceback": [
      "\u001b[0;31m---------------------------------------------------------------------------\u001b[0m",
      "\u001b[0;31mNameError\u001b[0m                                 Traceback (most recent call last)",
      "\u001b[0;32m/var/folders/dc/8rtfvpyj2mb6mqbnfkf5dl400000gn/T/ipykernel_27089/3091595521.py\u001b[0m in \u001b[0;36m<module>\u001b[0;34m\u001b[0m\n\u001b[1;32m      4\u001b[0m \u001b[0;31m# fit the model to our training data. We must specify the column in y_train,\u001b[0m\u001b[0;34m\u001b[0m\u001b[0;34m\u001b[0m\u001b[0m\n\u001b[1;32m      5\u001b[0m \u001b[0;31m# since we have converted it to a dataframe from a series!\u001b[0m\u001b[0;34m\u001b[0m\u001b[0;34m\u001b[0m\u001b[0m\n\u001b[0;32m----> 6\u001b[0;31m \u001b[0mlars\u001b[0m\u001b[0;34m.\u001b[0m\u001b[0mfit\u001b[0m\u001b[0;34m(\u001b[0m\u001b[0mX_train_scaled\u001b[0m\u001b[0;34m,\u001b[0m \u001b[0my_train\u001b[0m\u001b[0;34m.\u001b[0m\u001b[0mwage_eur\u001b[0m\u001b[0;34m)\u001b[0m\u001b[0;34m\u001b[0m\u001b[0;34m\u001b[0m\u001b[0m\n\u001b[0m\u001b[1;32m      7\u001b[0m \u001b[0;34m\u001b[0m\u001b[0m\n\u001b[1;32m      8\u001b[0m \u001b[0;31m# predict train\u001b[0m\u001b[0;34m\u001b[0m\u001b[0;34m\u001b[0m\u001b[0m\n",
      "\u001b[0;31mNameError\u001b[0m: name 'X_train_scaled' is not defined"
     ]
    }
   ],
   "source": [
    "# create the model object\n",
    "lars = LassoLars(alpha=1.0)\n",
    "\n",
    "# fit the model to our training data. We must specify the column in y_train, \n",
    "# since we have converted it to a dataframe from a series! \n",
    "lars.fit(X_train_scaled, y_train.wage_eur)\n",
    "\n",
    "# predict train\n",
    "y_train['wage_eur_pred_lars'] = lars.predict(X_train_scaled)\n",
    "\n",
    "# evaluate: rmse\n",
    "rmse_train_lars = mean_squared_error(y_train.wage_eur, y_train.wage_eur_pred_lars)**(1/2)\n",
    "\n",
    "# predict validate\n",
    "y_validate['wage_eur_pred_lars'] = lars.predict(X_validate_scaled)\n",
    "\n",
    "# evaluate: rmse\n",
    "rmse_validate_lars = mean_squared_error(y_validate.wage_eur, y_validate.wage_eur_pred_lars)**(1/2)\n",
    "\n",
    "print(\"RMSE for Lasso + Lars\\nTraining/In-Sample: \", rmse_train_lars, \n",
    "      \"\\nValidation/Out-of-Sample: \", rmse_validate_lars)"
   ]
  },
  {
   "cell_type": "code",
   "execution_count": 18,
   "id": "63bd79a6",
   "metadata": {},
   "outputs": [
    {
     "ename": "KeyError",
     "evalue": "'wage_eur_pred_lars'",
     "output_type": "error",
     "traceback": [
      "\u001b[0;31m---------------------------------------------------------------------------\u001b[0m",
      "\u001b[0;31mKeyError\u001b[0m                                  Traceback (most recent call last)",
      "\u001b[0;32m/usr/local/anaconda3/lib/python3.9/site-packages/pandas/core/indexes/base.py\u001b[0m in \u001b[0;36mget_loc\u001b[0;34m(self, key, method, tolerance)\u001b[0m\n\u001b[1;32m   3360\u001b[0m             \u001b[0;32mtry\u001b[0m\u001b[0;34m:\u001b[0m\u001b[0;34m\u001b[0m\u001b[0;34m\u001b[0m\u001b[0m\n\u001b[0;32m-> 3361\u001b[0;31m                 \u001b[0;32mreturn\u001b[0m \u001b[0mself\u001b[0m\u001b[0;34m.\u001b[0m\u001b[0m_engine\u001b[0m\u001b[0;34m.\u001b[0m\u001b[0mget_loc\u001b[0m\u001b[0;34m(\u001b[0m\u001b[0mcasted_key\u001b[0m\u001b[0;34m)\u001b[0m\u001b[0;34m\u001b[0m\u001b[0;34m\u001b[0m\u001b[0m\n\u001b[0m\u001b[1;32m   3362\u001b[0m             \u001b[0;32mexcept\u001b[0m \u001b[0mKeyError\u001b[0m \u001b[0;32mas\u001b[0m \u001b[0merr\u001b[0m\u001b[0;34m:\u001b[0m\u001b[0;34m\u001b[0m\u001b[0;34m\u001b[0m\u001b[0m\n",
      "\u001b[0;32m/usr/local/anaconda3/lib/python3.9/site-packages/pandas/_libs/index.pyx\u001b[0m in \u001b[0;36mpandas._libs.index.IndexEngine.get_loc\u001b[0;34m()\u001b[0m\n",
      "\u001b[0;32m/usr/local/anaconda3/lib/python3.9/site-packages/pandas/_libs/index.pyx\u001b[0m in \u001b[0;36mpandas._libs.index.IndexEngine.get_loc\u001b[0;34m()\u001b[0m\n",
      "\u001b[0;32mpandas/_libs/hashtable_class_helper.pxi\u001b[0m in \u001b[0;36mpandas._libs.hashtable.PyObjectHashTable.get_item\u001b[0;34m()\u001b[0m\n",
      "\u001b[0;32mpandas/_libs/hashtable_class_helper.pxi\u001b[0m in \u001b[0;36mpandas._libs.hashtable.PyObjectHashTable.get_item\u001b[0;34m()\u001b[0m\n",
      "\u001b[0;31mKeyError\u001b[0m: 'wage_eur_pred_lars'",
      "\nThe above exception was the direct cause of the following exception:\n",
      "\u001b[0;31mKeyError\u001b[0m                                  Traceback (most recent call last)",
      "\u001b[0;32m/var/folders/dc/8rtfvpyj2mb6mqbnfkf5dl400000gn/T/ipykernel_27089/585905970.py\u001b[0m in \u001b[0;36m<module>\u001b[0;34m\u001b[0m\n\u001b[1;32m      1\u001b[0m \u001b[0;31m#residuals\u001b[0m\u001b[0;34m\u001b[0m\u001b[0;34m\u001b[0m\u001b[0m\n\u001b[0;32m----> 2\u001b[0;31m \u001b[0my_train\u001b[0m\u001b[0;34m[\u001b[0m\u001b[0;34m'lars_residuals'\u001b[0m\u001b[0;34m]\u001b[0m \u001b[0;34m=\u001b[0m \u001b[0my_train\u001b[0m\u001b[0;34m[\u001b[0m\u001b[0;34m'wage_eur_pred_lars'\u001b[0m\u001b[0;34m]\u001b[0m \u001b[0;34m-\u001b[0m \u001b[0my_train\u001b[0m\u001b[0;34m[\u001b[0m\u001b[0;34m'wage_eur'\u001b[0m\u001b[0;34m]\u001b[0m\u001b[0;34m\u001b[0m\u001b[0;34m\u001b[0m\u001b[0m\n\u001b[0m\u001b[1;32m      3\u001b[0m \u001b[0my_validate\u001b[0m\u001b[0;34m[\u001b[0m\u001b[0;34m'lars_residuals'\u001b[0m\u001b[0;34m]\u001b[0m \u001b[0;34m=\u001b[0m \u001b[0my_validate\u001b[0m\u001b[0;34m[\u001b[0m\u001b[0;34m'wage_eur_pred_lars'\u001b[0m\u001b[0;34m]\u001b[0m \u001b[0;34m-\u001b[0m \u001b[0my_validate\u001b[0m\u001b[0;34m[\u001b[0m\u001b[0;34m'wage_eur'\u001b[0m\u001b[0;34m]\u001b[0m\u001b[0;34m\u001b[0m\u001b[0;34m\u001b[0m\u001b[0m\n",
      "\u001b[0;32m/usr/local/anaconda3/lib/python3.9/site-packages/pandas/core/frame.py\u001b[0m in \u001b[0;36m__getitem__\u001b[0;34m(self, key)\u001b[0m\n\u001b[1;32m   3456\u001b[0m             \u001b[0;32mif\u001b[0m \u001b[0mself\u001b[0m\u001b[0;34m.\u001b[0m\u001b[0mcolumns\u001b[0m\u001b[0;34m.\u001b[0m\u001b[0mnlevels\u001b[0m \u001b[0;34m>\u001b[0m \u001b[0;36m1\u001b[0m\u001b[0;34m:\u001b[0m\u001b[0;34m\u001b[0m\u001b[0;34m\u001b[0m\u001b[0m\n\u001b[1;32m   3457\u001b[0m                 \u001b[0;32mreturn\u001b[0m \u001b[0mself\u001b[0m\u001b[0;34m.\u001b[0m\u001b[0m_getitem_multilevel\u001b[0m\u001b[0;34m(\u001b[0m\u001b[0mkey\u001b[0m\u001b[0;34m)\u001b[0m\u001b[0;34m\u001b[0m\u001b[0;34m\u001b[0m\u001b[0m\n\u001b[0;32m-> 3458\u001b[0;31m             \u001b[0mindexer\u001b[0m \u001b[0;34m=\u001b[0m \u001b[0mself\u001b[0m\u001b[0;34m.\u001b[0m\u001b[0mcolumns\u001b[0m\u001b[0;34m.\u001b[0m\u001b[0mget_loc\u001b[0m\u001b[0;34m(\u001b[0m\u001b[0mkey\u001b[0m\u001b[0;34m)\u001b[0m\u001b[0;34m\u001b[0m\u001b[0;34m\u001b[0m\u001b[0m\n\u001b[0m\u001b[1;32m   3459\u001b[0m             \u001b[0;32mif\u001b[0m \u001b[0mis_integer\u001b[0m\u001b[0;34m(\u001b[0m\u001b[0mindexer\u001b[0m\u001b[0;34m)\u001b[0m\u001b[0;34m:\u001b[0m\u001b[0;34m\u001b[0m\u001b[0;34m\u001b[0m\u001b[0m\n\u001b[1;32m   3460\u001b[0m                 \u001b[0mindexer\u001b[0m \u001b[0;34m=\u001b[0m \u001b[0;34m[\u001b[0m\u001b[0mindexer\u001b[0m\u001b[0;34m]\u001b[0m\u001b[0;34m\u001b[0m\u001b[0;34m\u001b[0m\u001b[0m\n",
      "\u001b[0;32m/usr/local/anaconda3/lib/python3.9/site-packages/pandas/core/indexes/base.py\u001b[0m in \u001b[0;36mget_loc\u001b[0;34m(self, key, method, tolerance)\u001b[0m\n\u001b[1;32m   3361\u001b[0m                 \u001b[0;32mreturn\u001b[0m \u001b[0mself\u001b[0m\u001b[0;34m.\u001b[0m\u001b[0m_engine\u001b[0m\u001b[0;34m.\u001b[0m\u001b[0mget_loc\u001b[0m\u001b[0;34m(\u001b[0m\u001b[0mcasted_key\u001b[0m\u001b[0;34m)\u001b[0m\u001b[0;34m\u001b[0m\u001b[0;34m\u001b[0m\u001b[0m\n\u001b[1;32m   3362\u001b[0m             \u001b[0;32mexcept\u001b[0m \u001b[0mKeyError\u001b[0m \u001b[0;32mas\u001b[0m \u001b[0merr\u001b[0m\u001b[0;34m:\u001b[0m\u001b[0;34m\u001b[0m\u001b[0;34m\u001b[0m\u001b[0m\n\u001b[0;32m-> 3363\u001b[0;31m                 \u001b[0;32mraise\u001b[0m \u001b[0mKeyError\u001b[0m\u001b[0;34m(\u001b[0m\u001b[0mkey\u001b[0m\u001b[0;34m)\u001b[0m \u001b[0;32mfrom\u001b[0m \u001b[0merr\u001b[0m\u001b[0;34m\u001b[0m\u001b[0;34m\u001b[0m\u001b[0m\n\u001b[0m\u001b[1;32m   3364\u001b[0m \u001b[0;34m\u001b[0m\u001b[0m\n\u001b[1;32m   3365\u001b[0m         \u001b[0;32mif\u001b[0m \u001b[0mis_scalar\u001b[0m\u001b[0;34m(\u001b[0m\u001b[0mkey\u001b[0m\u001b[0;34m)\u001b[0m \u001b[0;32mand\u001b[0m \u001b[0misna\u001b[0m\u001b[0;34m(\u001b[0m\u001b[0mkey\u001b[0m\u001b[0;34m)\u001b[0m \u001b[0;32mand\u001b[0m \u001b[0;32mnot\u001b[0m \u001b[0mself\u001b[0m\u001b[0;34m.\u001b[0m\u001b[0mhasnans\u001b[0m\u001b[0;34m:\u001b[0m\u001b[0;34m\u001b[0m\u001b[0;34m\u001b[0m\u001b[0m\n",
      "\u001b[0;31mKeyError\u001b[0m: 'wage_eur_pred_lars'"
     ]
    }
   ],
   "source": [
    "#residuals\n",
    "y_train['lars_residuals'] = y_train['wage_eur_pred_lars'] - y_train['wage_eur']\n",
    "y_validate['lars_residuals'] = y_validate['wage_eur_pred_lars'] - y_validate['wage_eur']"
   ]
  },
  {
   "cell_type": "markdown",
   "id": "2193f156",
   "metadata": {},
   "source": [
    "# Twedie Regression Model (GLM)"
   ]
  },
  {
   "cell_type": "code",
   "execution_count": 19,
   "id": "8ba1eff8",
   "metadata": {},
   "outputs": [
    {
     "ename": "NameError",
     "evalue": "name 'X_train_scaled' is not defined",
     "output_type": "error",
     "traceback": [
      "\u001b[0;31m---------------------------------------------------------------------------\u001b[0m",
      "\u001b[0;31mNameError\u001b[0m                                 Traceback (most recent call last)",
      "\u001b[0;32m/var/folders/dc/8rtfvpyj2mb6mqbnfkf5dl400000gn/T/ipykernel_27089/2615040538.py\u001b[0m in \u001b[0;36m<module>\u001b[0;34m\u001b[0m\n\u001b[1;32m      4\u001b[0m \u001b[0;31m# fit the model to our training data. We must specify the column in y_train,\u001b[0m\u001b[0;34m\u001b[0m\u001b[0;34m\u001b[0m\u001b[0m\n\u001b[1;32m      5\u001b[0m \u001b[0;31m# since we have converted it to a dataframe from a series!\u001b[0m\u001b[0;34m\u001b[0m\u001b[0;34m\u001b[0m\u001b[0m\n\u001b[0;32m----> 6\u001b[0;31m \u001b[0mglm\u001b[0m\u001b[0;34m.\u001b[0m\u001b[0mfit\u001b[0m\u001b[0;34m(\u001b[0m\u001b[0mX_train_scaled\u001b[0m\u001b[0;34m,\u001b[0m \u001b[0my_train\u001b[0m\u001b[0;34m.\u001b[0m\u001b[0mwage_eur\u001b[0m\u001b[0;34m)\u001b[0m\u001b[0;34m\u001b[0m\u001b[0;34m\u001b[0m\u001b[0m\n\u001b[0m\u001b[1;32m      7\u001b[0m \u001b[0;34m\u001b[0m\u001b[0m\n\u001b[1;32m      8\u001b[0m \u001b[0;31m# predict train\u001b[0m\u001b[0;34m\u001b[0m\u001b[0;34m\u001b[0m\u001b[0m\n",
      "\u001b[0;31mNameError\u001b[0m: name 'X_train_scaled' is not defined"
     ]
    }
   ],
   "source": [
    "# create the model object\n",
    "glm = TweedieRegressor(power=1, alpha=0)\n",
    "\n",
    "# fit the model to our training data. We must specify the column in y_train, \n",
    "# since we have converted it to a dataframe from a series! \n",
    "glm.fit(X_train_scaled, y_train.wage_eur)\n",
    "\n",
    "# predict train\n",
    "y_train['wage_eur_pred_glm'] = glm.predict(X_train_scaled)\n",
    "\n",
    "# evaluate: rmse\n",
    "rmse_train_glm = mean_squared_error(y_train.wage_eur, y_train.wage_eur_pred_glm)**(1/2)\n",
    "\n",
    "# predict validate\n",
    "y_validate['wage_eur_pred_glm'] = glm.predict(X_validate_scaled)\n",
    "\n",
    "# evaluate: rmse\n",
    "rmse_validate_glm = mean_squared_error(y_validate.wage_eur, y_validate.wage_eur_pred_glm)**(1/2)\n",
    "\n",
    "print(\"RMSE for GLM using Tweedie, power=1 & alpha=0\\nTraining/In-Sample: \", rmse_train, \n",
    "      \"\\nValidation/Out-of-Sample: \", rmse_validate_glm)"
   ]
  },
  {
   "cell_type": "code",
   "execution_count": 20,
   "id": "3216ff17",
   "metadata": {},
   "outputs": [
    {
     "ename": "KeyError",
     "evalue": "'wage_eur_pred_glm'",
     "output_type": "error",
     "traceback": [
      "\u001b[0;31m---------------------------------------------------------------------------\u001b[0m",
      "\u001b[0;31mKeyError\u001b[0m                                  Traceback (most recent call last)",
      "\u001b[0;32m/usr/local/anaconda3/lib/python3.9/site-packages/pandas/core/indexes/base.py\u001b[0m in \u001b[0;36mget_loc\u001b[0;34m(self, key, method, tolerance)\u001b[0m\n\u001b[1;32m   3360\u001b[0m             \u001b[0;32mtry\u001b[0m\u001b[0;34m:\u001b[0m\u001b[0;34m\u001b[0m\u001b[0;34m\u001b[0m\u001b[0m\n\u001b[0;32m-> 3361\u001b[0;31m                 \u001b[0;32mreturn\u001b[0m \u001b[0mself\u001b[0m\u001b[0;34m.\u001b[0m\u001b[0m_engine\u001b[0m\u001b[0;34m.\u001b[0m\u001b[0mget_loc\u001b[0m\u001b[0;34m(\u001b[0m\u001b[0mcasted_key\u001b[0m\u001b[0;34m)\u001b[0m\u001b[0;34m\u001b[0m\u001b[0;34m\u001b[0m\u001b[0m\n\u001b[0m\u001b[1;32m   3362\u001b[0m             \u001b[0;32mexcept\u001b[0m \u001b[0mKeyError\u001b[0m \u001b[0;32mas\u001b[0m \u001b[0merr\u001b[0m\u001b[0;34m:\u001b[0m\u001b[0;34m\u001b[0m\u001b[0;34m\u001b[0m\u001b[0m\n",
      "\u001b[0;32m/usr/local/anaconda3/lib/python3.9/site-packages/pandas/_libs/index.pyx\u001b[0m in \u001b[0;36mpandas._libs.index.IndexEngine.get_loc\u001b[0;34m()\u001b[0m\n",
      "\u001b[0;32m/usr/local/anaconda3/lib/python3.9/site-packages/pandas/_libs/index.pyx\u001b[0m in \u001b[0;36mpandas._libs.index.IndexEngine.get_loc\u001b[0;34m()\u001b[0m\n",
      "\u001b[0;32mpandas/_libs/hashtable_class_helper.pxi\u001b[0m in \u001b[0;36mpandas._libs.hashtable.PyObjectHashTable.get_item\u001b[0;34m()\u001b[0m\n",
      "\u001b[0;32mpandas/_libs/hashtable_class_helper.pxi\u001b[0m in \u001b[0;36mpandas._libs.hashtable.PyObjectHashTable.get_item\u001b[0;34m()\u001b[0m\n",
      "\u001b[0;31mKeyError\u001b[0m: 'wage_eur_pred_glm'",
      "\nThe above exception was the direct cause of the following exception:\n",
      "\u001b[0;31mKeyError\u001b[0m                                  Traceback (most recent call last)",
      "\u001b[0;32m/var/folders/dc/8rtfvpyj2mb6mqbnfkf5dl400000gn/T/ipykernel_27089/2014705075.py\u001b[0m in \u001b[0;36m<module>\u001b[0;34m\u001b[0m\n\u001b[1;32m      1\u001b[0m \u001b[0;31m#residuals\u001b[0m\u001b[0;34m\u001b[0m\u001b[0;34m\u001b[0m\u001b[0m\n\u001b[0;32m----> 2\u001b[0;31m \u001b[0my_train\u001b[0m\u001b[0;34m[\u001b[0m\u001b[0;34m'glm_residuals'\u001b[0m\u001b[0;34m]\u001b[0m \u001b[0;34m=\u001b[0m \u001b[0my_train\u001b[0m\u001b[0;34m[\u001b[0m\u001b[0;34m'wage_eur_pred_glm'\u001b[0m\u001b[0;34m]\u001b[0m \u001b[0;34m-\u001b[0m \u001b[0my_train\u001b[0m\u001b[0;34m[\u001b[0m\u001b[0;34m'wage_eur'\u001b[0m\u001b[0;34m]\u001b[0m\u001b[0;34m\u001b[0m\u001b[0;34m\u001b[0m\u001b[0m\n\u001b[0m\u001b[1;32m      3\u001b[0m \u001b[0my_validate\u001b[0m\u001b[0;34m[\u001b[0m\u001b[0;34m'glm_residuals'\u001b[0m\u001b[0;34m]\u001b[0m \u001b[0;34m=\u001b[0m \u001b[0my_validate\u001b[0m\u001b[0;34m[\u001b[0m\u001b[0;34m'wage_eur_pred_glm'\u001b[0m\u001b[0;34m]\u001b[0m \u001b[0;34m-\u001b[0m \u001b[0my_validate\u001b[0m\u001b[0;34m[\u001b[0m\u001b[0;34m'wage_eur'\u001b[0m\u001b[0;34m]\u001b[0m\u001b[0;34m\u001b[0m\u001b[0;34m\u001b[0m\u001b[0m\n",
      "\u001b[0;32m/usr/local/anaconda3/lib/python3.9/site-packages/pandas/core/frame.py\u001b[0m in \u001b[0;36m__getitem__\u001b[0;34m(self, key)\u001b[0m\n\u001b[1;32m   3456\u001b[0m             \u001b[0;32mif\u001b[0m \u001b[0mself\u001b[0m\u001b[0;34m.\u001b[0m\u001b[0mcolumns\u001b[0m\u001b[0;34m.\u001b[0m\u001b[0mnlevels\u001b[0m \u001b[0;34m>\u001b[0m \u001b[0;36m1\u001b[0m\u001b[0;34m:\u001b[0m\u001b[0;34m\u001b[0m\u001b[0;34m\u001b[0m\u001b[0m\n\u001b[1;32m   3457\u001b[0m                 \u001b[0;32mreturn\u001b[0m \u001b[0mself\u001b[0m\u001b[0;34m.\u001b[0m\u001b[0m_getitem_multilevel\u001b[0m\u001b[0;34m(\u001b[0m\u001b[0mkey\u001b[0m\u001b[0;34m)\u001b[0m\u001b[0;34m\u001b[0m\u001b[0;34m\u001b[0m\u001b[0m\n\u001b[0;32m-> 3458\u001b[0;31m             \u001b[0mindexer\u001b[0m \u001b[0;34m=\u001b[0m \u001b[0mself\u001b[0m\u001b[0;34m.\u001b[0m\u001b[0mcolumns\u001b[0m\u001b[0;34m.\u001b[0m\u001b[0mget_loc\u001b[0m\u001b[0;34m(\u001b[0m\u001b[0mkey\u001b[0m\u001b[0;34m)\u001b[0m\u001b[0;34m\u001b[0m\u001b[0;34m\u001b[0m\u001b[0m\n\u001b[0m\u001b[1;32m   3459\u001b[0m             \u001b[0;32mif\u001b[0m \u001b[0mis_integer\u001b[0m\u001b[0;34m(\u001b[0m\u001b[0mindexer\u001b[0m\u001b[0;34m)\u001b[0m\u001b[0;34m:\u001b[0m\u001b[0;34m\u001b[0m\u001b[0;34m\u001b[0m\u001b[0m\n\u001b[1;32m   3460\u001b[0m                 \u001b[0mindexer\u001b[0m \u001b[0;34m=\u001b[0m \u001b[0;34m[\u001b[0m\u001b[0mindexer\u001b[0m\u001b[0;34m]\u001b[0m\u001b[0;34m\u001b[0m\u001b[0;34m\u001b[0m\u001b[0m\n",
      "\u001b[0;32m/usr/local/anaconda3/lib/python3.9/site-packages/pandas/core/indexes/base.py\u001b[0m in \u001b[0;36mget_loc\u001b[0;34m(self, key, method, tolerance)\u001b[0m\n\u001b[1;32m   3361\u001b[0m                 \u001b[0;32mreturn\u001b[0m \u001b[0mself\u001b[0m\u001b[0;34m.\u001b[0m\u001b[0m_engine\u001b[0m\u001b[0;34m.\u001b[0m\u001b[0mget_loc\u001b[0m\u001b[0;34m(\u001b[0m\u001b[0mcasted_key\u001b[0m\u001b[0;34m)\u001b[0m\u001b[0;34m\u001b[0m\u001b[0;34m\u001b[0m\u001b[0m\n\u001b[1;32m   3362\u001b[0m             \u001b[0;32mexcept\u001b[0m \u001b[0mKeyError\u001b[0m \u001b[0;32mas\u001b[0m \u001b[0merr\u001b[0m\u001b[0;34m:\u001b[0m\u001b[0;34m\u001b[0m\u001b[0;34m\u001b[0m\u001b[0m\n\u001b[0;32m-> 3363\u001b[0;31m                 \u001b[0;32mraise\u001b[0m \u001b[0mKeyError\u001b[0m\u001b[0;34m(\u001b[0m\u001b[0mkey\u001b[0m\u001b[0;34m)\u001b[0m \u001b[0;32mfrom\u001b[0m \u001b[0merr\u001b[0m\u001b[0;34m\u001b[0m\u001b[0;34m\u001b[0m\u001b[0m\n\u001b[0m\u001b[1;32m   3364\u001b[0m \u001b[0;34m\u001b[0m\u001b[0m\n\u001b[1;32m   3365\u001b[0m         \u001b[0;32mif\u001b[0m \u001b[0mis_scalar\u001b[0m\u001b[0;34m(\u001b[0m\u001b[0mkey\u001b[0m\u001b[0;34m)\u001b[0m \u001b[0;32mand\u001b[0m \u001b[0misna\u001b[0m\u001b[0;34m(\u001b[0m\u001b[0mkey\u001b[0m\u001b[0;34m)\u001b[0m \u001b[0;32mand\u001b[0m \u001b[0;32mnot\u001b[0m \u001b[0mself\u001b[0m\u001b[0;34m.\u001b[0m\u001b[0mhasnans\u001b[0m\u001b[0;34m:\u001b[0m\u001b[0;34m\u001b[0m\u001b[0;34m\u001b[0m\u001b[0m\n",
      "\u001b[0;31mKeyError\u001b[0m: 'wage_eur_pred_glm'"
     ]
    }
   ],
   "source": [
    "#residuals\n",
    "y_train['glm_residuals'] = y_train['wage_eur_pred_glm'] - y_train['wage_eur']\n",
    "y_validate['glm_residuals'] = y_validate['wage_eur_pred_glm'] - y_validate['wage_eur']"
   ]
  },
  {
   "cell_type": "markdown",
   "id": "dc8c525c",
   "metadata": {},
   "source": [
    "# Polynomial Regression"
   ]
  },
  {
   "cell_type": "code",
   "execution_count": 21,
   "id": "f3bd3f5a",
   "metadata": {},
   "outputs": [
    {
     "ename": "NameError",
     "evalue": "name 'X_train_scaled' is not defined",
     "output_type": "error",
     "traceback": [
      "\u001b[0;31m---------------------------------------------------------------------------\u001b[0m",
      "\u001b[0;31mNameError\u001b[0m                                 Traceback (most recent call last)",
      "\u001b[0;32m/var/folders/dc/8rtfvpyj2mb6mqbnfkf5dl400000gn/T/ipykernel_27089/1598727043.py\u001b[0m in \u001b[0;36m<module>\u001b[0;34m\u001b[0m\n\u001b[1;32m      3\u001b[0m \u001b[0;34m\u001b[0m\u001b[0m\n\u001b[1;32m      4\u001b[0m \u001b[0;31m# fit and transform X_train_scaled\u001b[0m\u001b[0;34m\u001b[0m\u001b[0;34m\u001b[0m\u001b[0m\n\u001b[0;32m----> 5\u001b[0;31m \u001b[0mX_train_degree2\u001b[0m \u001b[0;34m=\u001b[0m \u001b[0mpf\u001b[0m\u001b[0;34m.\u001b[0m\u001b[0mfit_transform\u001b[0m\u001b[0;34m(\u001b[0m\u001b[0mX_train_scaled\u001b[0m\u001b[0;34m)\u001b[0m\u001b[0;34m\u001b[0m\u001b[0;34m\u001b[0m\u001b[0m\n\u001b[0m\u001b[1;32m      6\u001b[0m \u001b[0;34m\u001b[0m\u001b[0m\n\u001b[1;32m      7\u001b[0m \u001b[0;31m# transform X_validate_scaled & X_test_scaled\u001b[0m\u001b[0;34m\u001b[0m\u001b[0;34m\u001b[0m\u001b[0m\n",
      "\u001b[0;31mNameError\u001b[0m: name 'X_train_scaled' is not defined"
     ]
    }
   ],
   "source": [
    "# make the polynomial features to get a new set of features\n",
    "pf = PolynomialFeatures(degree=2)\n",
    "\n",
    "# fit and transform X_train_scaled\n",
    "X_train_degree2 = pf.fit_transform(X_train_scaled)\n",
    "\n",
    "# transform X_validate_scaled & X_test_scaled\n",
    "X_validate_degree2 = pf.transform(X_validate_scaled)\n",
    "X_test_degree2 = pf.transform(X_test_scaled)"
   ]
  },
  {
   "cell_type": "code",
   "execution_count": 22,
   "id": "1986a4d6",
   "metadata": {},
   "outputs": [
    {
     "ename": "NameError",
     "evalue": "name 'X_train_degree2' is not defined",
     "output_type": "error",
     "traceback": [
      "\u001b[0;31m---------------------------------------------------------------------------\u001b[0m",
      "\u001b[0;31mNameError\u001b[0m                                 Traceback (most recent call last)",
      "\u001b[0;32m/var/folders/dc/8rtfvpyj2mb6mqbnfkf5dl400000gn/T/ipykernel_27089/400052584.py\u001b[0m in \u001b[0;36m<module>\u001b[0;34m\u001b[0m\n\u001b[1;32m      4\u001b[0m \u001b[0;31m# fit the model to our training data. We must specify the column in y_train,\u001b[0m\u001b[0;34m\u001b[0m\u001b[0;34m\u001b[0m\u001b[0m\n\u001b[1;32m      5\u001b[0m \u001b[0;31m# since we have converted it to a dataframe from a series!\u001b[0m\u001b[0;34m\u001b[0m\u001b[0;34m\u001b[0m\u001b[0m\n\u001b[0;32m----> 6\u001b[0;31m \u001b[0mlm2\u001b[0m\u001b[0;34m.\u001b[0m\u001b[0mfit\u001b[0m\u001b[0;34m(\u001b[0m\u001b[0mX_train_degree2\u001b[0m\u001b[0;34m,\u001b[0m \u001b[0my_train\u001b[0m\u001b[0;34m.\u001b[0m\u001b[0mwage_eur\u001b[0m\u001b[0;34m)\u001b[0m\u001b[0;34m\u001b[0m\u001b[0;34m\u001b[0m\u001b[0m\n\u001b[0m\u001b[1;32m      7\u001b[0m \u001b[0;34m\u001b[0m\u001b[0m\n\u001b[1;32m      8\u001b[0m \u001b[0;31m# predict train\u001b[0m\u001b[0;34m\u001b[0m\u001b[0;34m\u001b[0m\u001b[0m\n",
      "\u001b[0;31mNameError\u001b[0m: name 'X_train_degree2' is not defined"
     ]
    }
   ],
   "source": [
    "# create the model object\n",
    "lm2 = LinearRegression(normalize=True)\n",
    "\n",
    "# fit the model to our training data. We must specify the column in y_train, \n",
    "# since we have converted it to a dataframe from a series! \n",
    "lm2.fit(X_train_degree2, y_train.wage_eur)\n",
    "\n",
    "# predict train\n",
    "y_train['wage_eur_pred_lm2'] = lm2.predict(X_train_degree2)\n",
    "\n",
    "# evaluate: rmse\n",
    "rmse_train_lm2 = mean_squared_error(y_train.wage_eur, y_train.wage_eur_pred_lm2)**(1/2)\n",
    "\n",
    "# predict validate\n",
    "y_validate['wage_eur_pred_lm2'] = lm2.predict(X_validate_degree2)\n",
    "\n",
    "# evaluate: rmse\n",
    "rmse_validate_lm2 = mean_squared_error(y_validate.wage_eur, y_validate.wage_eur_pred_lm2)**(1/2)\n",
    "\n",
    "print(\"RMSE for Polynomial Model, degrees=2\\nTraining/In-Sample: \", rmse_train, \n",
    "      \"\\nValidation/Out-of-Sample: \", rmse_validate)"
   ]
  },
  {
   "cell_type": "code",
   "execution_count": 23,
   "id": "8f7ecdc6",
   "metadata": {},
   "outputs": [
    {
     "ename": "KeyError",
     "evalue": "'wage_eur_pred_lm2'",
     "output_type": "error",
     "traceback": [
      "\u001b[0;31m---------------------------------------------------------------------------\u001b[0m",
      "\u001b[0;31mKeyError\u001b[0m                                  Traceback (most recent call last)",
      "\u001b[0;32m/usr/local/anaconda3/lib/python3.9/site-packages/pandas/core/indexes/base.py\u001b[0m in \u001b[0;36mget_loc\u001b[0;34m(self, key, method, tolerance)\u001b[0m\n\u001b[1;32m   3360\u001b[0m             \u001b[0;32mtry\u001b[0m\u001b[0;34m:\u001b[0m\u001b[0;34m\u001b[0m\u001b[0;34m\u001b[0m\u001b[0m\n\u001b[0;32m-> 3361\u001b[0;31m                 \u001b[0;32mreturn\u001b[0m \u001b[0mself\u001b[0m\u001b[0;34m.\u001b[0m\u001b[0m_engine\u001b[0m\u001b[0;34m.\u001b[0m\u001b[0mget_loc\u001b[0m\u001b[0;34m(\u001b[0m\u001b[0mcasted_key\u001b[0m\u001b[0;34m)\u001b[0m\u001b[0;34m\u001b[0m\u001b[0;34m\u001b[0m\u001b[0m\n\u001b[0m\u001b[1;32m   3362\u001b[0m             \u001b[0;32mexcept\u001b[0m \u001b[0mKeyError\u001b[0m \u001b[0;32mas\u001b[0m \u001b[0merr\u001b[0m\u001b[0;34m:\u001b[0m\u001b[0;34m\u001b[0m\u001b[0;34m\u001b[0m\u001b[0m\n",
      "\u001b[0;32m/usr/local/anaconda3/lib/python3.9/site-packages/pandas/_libs/index.pyx\u001b[0m in \u001b[0;36mpandas._libs.index.IndexEngine.get_loc\u001b[0;34m()\u001b[0m\n",
      "\u001b[0;32m/usr/local/anaconda3/lib/python3.9/site-packages/pandas/_libs/index.pyx\u001b[0m in \u001b[0;36mpandas._libs.index.IndexEngine.get_loc\u001b[0;34m()\u001b[0m\n",
      "\u001b[0;32mpandas/_libs/hashtable_class_helper.pxi\u001b[0m in \u001b[0;36mpandas._libs.hashtable.PyObjectHashTable.get_item\u001b[0;34m()\u001b[0m\n",
      "\u001b[0;32mpandas/_libs/hashtable_class_helper.pxi\u001b[0m in \u001b[0;36mpandas._libs.hashtable.PyObjectHashTable.get_item\u001b[0;34m()\u001b[0m\n",
      "\u001b[0;31mKeyError\u001b[0m: 'wage_eur_pred_lm2'",
      "\nThe above exception was the direct cause of the following exception:\n",
      "\u001b[0;31mKeyError\u001b[0m                                  Traceback (most recent call last)",
      "\u001b[0;32m/var/folders/dc/8rtfvpyj2mb6mqbnfkf5dl400000gn/T/ipykernel_27089/4153590387.py\u001b[0m in \u001b[0;36m<module>\u001b[0;34m\u001b[0m\n\u001b[1;32m      1\u001b[0m \u001b[0;31m#residuals\u001b[0m\u001b[0;34m\u001b[0m\u001b[0;34m\u001b[0m\u001b[0m\n\u001b[0;32m----> 2\u001b[0;31m \u001b[0my_train\u001b[0m\u001b[0;34m[\u001b[0m\u001b[0;34m'poly_residuals'\u001b[0m\u001b[0;34m]\u001b[0m \u001b[0;34m=\u001b[0m \u001b[0my_train\u001b[0m\u001b[0;34m[\u001b[0m\u001b[0;34m'wage_eur_pred_lm2'\u001b[0m\u001b[0;34m]\u001b[0m \u001b[0;34m-\u001b[0m \u001b[0my_train\u001b[0m\u001b[0;34m[\u001b[0m\u001b[0;34m'wage_eur'\u001b[0m\u001b[0;34m]\u001b[0m\u001b[0;34m\u001b[0m\u001b[0;34m\u001b[0m\u001b[0m\n\u001b[0m\u001b[1;32m      3\u001b[0m \u001b[0my_validate\u001b[0m\u001b[0;34m[\u001b[0m\u001b[0;34m'poly_residuals'\u001b[0m\u001b[0;34m]\u001b[0m \u001b[0;34m=\u001b[0m \u001b[0my_validate\u001b[0m\u001b[0;34m[\u001b[0m\u001b[0;34m'wage_eur_pred_lm2'\u001b[0m\u001b[0;34m]\u001b[0m \u001b[0;34m-\u001b[0m \u001b[0my_validate\u001b[0m\u001b[0;34m[\u001b[0m\u001b[0;34m'wage_eur'\u001b[0m\u001b[0;34m]\u001b[0m\u001b[0;34m\u001b[0m\u001b[0;34m\u001b[0m\u001b[0m\n",
      "\u001b[0;32m/usr/local/anaconda3/lib/python3.9/site-packages/pandas/core/frame.py\u001b[0m in \u001b[0;36m__getitem__\u001b[0;34m(self, key)\u001b[0m\n\u001b[1;32m   3456\u001b[0m             \u001b[0;32mif\u001b[0m \u001b[0mself\u001b[0m\u001b[0;34m.\u001b[0m\u001b[0mcolumns\u001b[0m\u001b[0;34m.\u001b[0m\u001b[0mnlevels\u001b[0m \u001b[0;34m>\u001b[0m \u001b[0;36m1\u001b[0m\u001b[0;34m:\u001b[0m\u001b[0;34m\u001b[0m\u001b[0;34m\u001b[0m\u001b[0m\n\u001b[1;32m   3457\u001b[0m                 \u001b[0;32mreturn\u001b[0m \u001b[0mself\u001b[0m\u001b[0;34m.\u001b[0m\u001b[0m_getitem_multilevel\u001b[0m\u001b[0;34m(\u001b[0m\u001b[0mkey\u001b[0m\u001b[0;34m)\u001b[0m\u001b[0;34m\u001b[0m\u001b[0;34m\u001b[0m\u001b[0m\n\u001b[0;32m-> 3458\u001b[0;31m             \u001b[0mindexer\u001b[0m \u001b[0;34m=\u001b[0m \u001b[0mself\u001b[0m\u001b[0;34m.\u001b[0m\u001b[0mcolumns\u001b[0m\u001b[0;34m.\u001b[0m\u001b[0mget_loc\u001b[0m\u001b[0;34m(\u001b[0m\u001b[0mkey\u001b[0m\u001b[0;34m)\u001b[0m\u001b[0;34m\u001b[0m\u001b[0;34m\u001b[0m\u001b[0m\n\u001b[0m\u001b[1;32m   3459\u001b[0m             \u001b[0;32mif\u001b[0m \u001b[0mis_integer\u001b[0m\u001b[0;34m(\u001b[0m\u001b[0mindexer\u001b[0m\u001b[0;34m)\u001b[0m\u001b[0;34m:\u001b[0m\u001b[0;34m\u001b[0m\u001b[0;34m\u001b[0m\u001b[0m\n\u001b[1;32m   3460\u001b[0m                 \u001b[0mindexer\u001b[0m \u001b[0;34m=\u001b[0m \u001b[0;34m[\u001b[0m\u001b[0mindexer\u001b[0m\u001b[0;34m]\u001b[0m\u001b[0;34m\u001b[0m\u001b[0;34m\u001b[0m\u001b[0m\n",
      "\u001b[0;32m/usr/local/anaconda3/lib/python3.9/site-packages/pandas/core/indexes/base.py\u001b[0m in \u001b[0;36mget_loc\u001b[0;34m(self, key, method, tolerance)\u001b[0m\n\u001b[1;32m   3361\u001b[0m                 \u001b[0;32mreturn\u001b[0m \u001b[0mself\u001b[0m\u001b[0;34m.\u001b[0m\u001b[0m_engine\u001b[0m\u001b[0;34m.\u001b[0m\u001b[0mget_loc\u001b[0m\u001b[0;34m(\u001b[0m\u001b[0mcasted_key\u001b[0m\u001b[0;34m)\u001b[0m\u001b[0;34m\u001b[0m\u001b[0;34m\u001b[0m\u001b[0m\n\u001b[1;32m   3362\u001b[0m             \u001b[0;32mexcept\u001b[0m \u001b[0mKeyError\u001b[0m \u001b[0;32mas\u001b[0m \u001b[0merr\u001b[0m\u001b[0;34m:\u001b[0m\u001b[0;34m\u001b[0m\u001b[0;34m\u001b[0m\u001b[0m\n\u001b[0;32m-> 3363\u001b[0;31m                 \u001b[0;32mraise\u001b[0m \u001b[0mKeyError\u001b[0m\u001b[0;34m(\u001b[0m\u001b[0mkey\u001b[0m\u001b[0;34m)\u001b[0m \u001b[0;32mfrom\u001b[0m \u001b[0merr\u001b[0m\u001b[0;34m\u001b[0m\u001b[0;34m\u001b[0m\u001b[0m\n\u001b[0m\u001b[1;32m   3364\u001b[0m \u001b[0;34m\u001b[0m\u001b[0m\n\u001b[1;32m   3365\u001b[0m         \u001b[0;32mif\u001b[0m \u001b[0mis_scalar\u001b[0m\u001b[0;34m(\u001b[0m\u001b[0mkey\u001b[0m\u001b[0;34m)\u001b[0m \u001b[0;32mand\u001b[0m \u001b[0misna\u001b[0m\u001b[0;34m(\u001b[0m\u001b[0mkey\u001b[0m\u001b[0;34m)\u001b[0m \u001b[0;32mand\u001b[0m \u001b[0;32mnot\u001b[0m \u001b[0mself\u001b[0m\u001b[0;34m.\u001b[0m\u001b[0mhasnans\u001b[0m\u001b[0;34m:\u001b[0m\u001b[0;34m\u001b[0m\u001b[0;34m\u001b[0m\u001b[0m\n",
      "\u001b[0;31mKeyError\u001b[0m: 'wage_eur_pred_lm2'"
     ]
    }
   ],
   "source": [
    "#residuals\n",
    "y_train['poly_residuals'] = y_train['wage_eur_pred_lm2'] - y_train['wage_eur']\n",
    "y_validate['poly_residuals'] = y_validate['wage_eur_pred_lm2'] - y_validate['wage_eur']"
   ]
  },
  {
   "cell_type": "markdown",
   "id": "badf5443",
   "metadata": {},
   "source": [
    "# Evaluating Models"
   ]
  },
  {
   "cell_type": "code",
   "execution_count": null,
   "id": "6381324f",
   "metadata": {},
   "outputs": [],
   "source": [
    "from sklearn.linear_model import LinearRegression\n",
    "y = pd.DataFrame(y_train.wage_eur)\n",
    "X = pd.DataFrame(X_train_scaled)\n",
    "# assuming X and y are already defined\n",
    "model = LinearRegression().fit(X, y)\n",
    "train['yhat'] = model.predict(X)"
   ]
  },
  {
   "cell_type": "code",
   "execution_count": null,
   "id": "eaf20aa7",
   "metadata": {},
   "outputs": [],
   "source": [
    "df = pd.DataFrame(train[['overall', 'passing', 'ball_control', 'short_passing', 'reactions', 'potential',\n",
    "'dribbling','wage_eur','yhat']])\n",
    "df.head()"
   ]
  },
  {
   "cell_type": "code",
   "execution_count": null,
   "id": "8e7313bc",
   "metadata": {},
   "outputs": [],
   "source": [
    "#creating a baseline from the mean of the target variable\n",
    "baseline = y.mean()\n",
    "df['baseline'] = y.wage_eur.mean()\n",
    "# turning baseline to int from float\n",
    "df.baseline = df.baseline.astype(int)\n",
    "# residual = actual - predicted\n",
    "df['residual'] = df.wage_eur - df.yhat\n",
    "df['baseline_residual'] = df.wage_eur - df.baseline"
   ]
  },
  {
   "cell_type": "code",
   "execution_count": null,
   "id": "e22ef44d",
   "metadata": {},
   "outputs": [],
   "source": [
    "baseline"
   ]
  },
  {
   "cell_type": "code",
   "execution_count": null,
   "id": "fd0d4f7c",
   "metadata": {},
   "outputs": [],
   "source": [
    "df['residual^2'] = df.residual**2\n",
    "df['baseline_residual^2'] = df.baseline_residual**2\n",
    "\n",
    "df.head()"
   ]
  },
  {
   "cell_type": "code",
   "execution_count": null,
   "id": "3701ed32",
   "metadata": {},
   "outputs": [],
   "source": [
    "SSE = df['residual^2'].sum()\n",
    "SSE_baseline = df['baseline_residual^2'].sum()\n",
    "\n",
    "print('SSE =', \"{:.1f}\".format(SSE))\n",
    "print(\"SSE Baseline =\", \"{:.1f}\".format(SSE_baseline))\n",
    "\n",
    "if SSE < SSE_baseline:\n",
    "    print('SSE is better than baseline')\n",
    "else:\n",
    "    print('baseline is better')"
   ]
  },
  {
   "cell_type": "code",
   "execution_count": null,
   "id": "1c7be17c",
   "metadata": {},
   "outputs": [],
   "source": [
    "MSE = SSE/len(df)\n",
    "MSE_baseline = SSE_baseline/len(df)\n",
    "\n",
    "print(\"MSE = \", \"{:.1f}\".format(MSE))\n",
    "print(\"MSE baseline = \", \"{:.1f}\".format(MSE_baseline))\n",
    "\n",
    "if MSE < MSE_baseline:\n",
    "    print('MSE is better than baseline')\n",
    "else:\n",
    "    print('baseline is better')"
   ]
  },
  {
   "cell_type": "code",
   "execution_count": null,
   "id": "6c0574d4",
   "metadata": {},
   "outputs": [],
   "source": [
    "from math import sqrt\n",
    "RMSE = sqrt(MSE)\n",
    "RMSE_baseline =  sqrt(MSE_baseline)\n",
    "\n",
    "if RMSE < RMSE_baseline:\n",
    "    print('RMSE is better than baseline')\n",
    "else:\n",
    "    print('baseline is better')\n",
    "    \n",
    "print(\"RMSE = \", \"{:.1f}\".format(RMSE))\n",
    "print(\"RMSE baseline = \", \"{:.1f}\".format(RMSE_baseline))"
   ]
  },
  {
   "cell_type": "code",
   "execution_count": null,
   "id": "9a1bbe04",
   "metadata": {},
   "outputs": [],
   "source": [
    "if SSE < SSE_baseline:\n",
    "    print('OLS regression model performs better than the baseline')\n",
    "else:\n",
    "    print('OLS regression model performs worse than the baseline')"
   ]
  },
  {
   "cell_type": "code",
   "execution_count": null,
   "id": "a159259d",
   "metadata": {},
   "outputs": [],
   "source": [
    "# sklearn.metrics.explained_variance_score\n",
    "from sklearn.metrics import explained_variance_score\n",
    "evs = explained_variance_score(df.wage_eur, df.yhat)\n",
    "print('Explained Variance = ', round(evs,3))"
   ]
  },
  {
   "cell_type": "code",
   "execution_count": null,
   "id": "fc17e072",
   "metadata": {},
   "outputs": [],
   "source": [
    "# calculate R2 the easy way:\n",
    "from sklearn.metrics import r2_score\n",
    "r2_score(df.wage_eur, df.yhat)"
   ]
  },
  {
   "cell_type": "code",
   "execution_count": null,
   "id": "9066c006",
   "metadata": {},
   "outputs": [],
   "source": [
    "import statsmodels.api as sm\n",
    "X2 = sm.add_constant(df.potential)\n",
    "est = sm.OLS(df.wage_eur, X2)\n",
    "est2 = est.fit()\n",
    "print(est2.summary())"
   ]
  },
  {
   "cell_type": "code",
   "execution_count": null,
   "id": "b334b76f",
   "metadata": {},
   "outputs": [],
   "source": [
    "def residuals(actual, predicted):\n",
    "    return actual - predicted\n",
    "\n",
    "#sum of squared errors (SSE)\n",
    "def sse(actual, predicted):\n",
    "    return (residuals(actual, predicted) **2).sum()\n",
    "\n",
    "#explained sum of squares (ESS)\n",
    "def ess(actual, predicted):\n",
    "    return ((predicted - actual.mean()) ** 2).sum()\n",
    "\n",
    "#total sum of squares (TSS)\n",
    "def tss(actual):\n",
    "    return ((actual - actual.mean()) ** 2).sum()\n",
    "\n",
    "#mean squared error (MSE)\n",
    "def mse(actual, predicted):\n",
    "    n = actual.shape[0]\n",
    "    return sse(actual, predicted) / n\n",
    "\n",
    "#root mean squared error (RMSE)\n",
    "def rmse(actual, predicted):\n",
    "    return math.sqrt(mse(actual, predicted))\n",
    "\n",
    "# returns r2 scor\n",
    "def r2_score(actual, predicted):\n",
    "    return ess(actual, predicted) / tss(actual)\n",
    "\n",
    "def regression_errors(actual, predicted):\n",
    "    return pd.Series({\n",
    "                        'SSE': sse(actual, predicted),\n",
    "                        'ESS': ess(actual, predicted),\n",
    "                        'TSS': tss(actual),\n",
    "                        'MSE': mse(actual, predicted),\n",
    "                        'RMSE': rmse(actual, predicted),\n",
    "                        })\n",
    "\n",
    "def baseline_mean_errors(actual):\n",
    "    predicted = actual.mean()\n",
    "    return {\n",
    "             'SSE': sse(actual, predicted),\n",
    "             'MSE': mse(actual, predicted),\n",
    "             'RMSE': rmse(actual, predicted),\n",
    "            }\n",
    "\n",
    "def better_than_baseline(actual, predicted):\n",
    "    rmse_baseline = rmse(actual, actual.mean())\n",
    "    rmse_model = rmse(actual, predicted)\n",
    "    return rmse_model < rmse_baseline"
   ]
  },
  {
   "cell_type": "code",
   "execution_count": null,
   "id": "555d62da",
   "metadata": {},
   "outputs": [],
   "source": [
    "actual = y_train.wage_eur\n",
    "predicted = df.yhat\n",
    "residuals = actual - predicted"
   ]
  },
  {
   "cell_type": "code",
   "execution_count": null,
   "id": "28c4507f",
   "metadata": {
    "scrolled": false
   },
   "outputs": [],
   "source": [
    "def actual_vs_predicted():\n",
    "    # plot to visualize actual vs predicted. \n",
    "    plt.figure(figsize=(16,8))\n",
    "    plt.hist(y_validate.wage_eur, color='blue', alpha=.5, label=\"Actual Final wage_eur\")\n",
    "    plt.hist(y_validate.wage_eur_pred_lm, color='red', alpha=.5, label=\"Model: LinearRegression\")\n",
    "    plt.hist(y_validate.wage_eur_pred_glm, color='yellow', alpha=.5, label=\"Model: TweedieRegressor\")\n",
    "    plt.hist(y_validate.wage_eur_pred_lm2, color='green', alpha=.5, label=\"Model 2nd degree Polynomial\")\n",
    "    plt.xlabel(\"Final wage(eur)\")\n",
    "    plt.ylabel(\"predicted wage_eur\")\n",
    "    plt.title(\"Comparing the Distribution of Actual wage_eur to Distributions of Predicted wage_eur for the Top Models\")\n",
    "    plt.legend()\n",
    "    plt.show()\n",
    "actual_vs_predicted()"
   ]
  },
  {
   "cell_type": "code",
   "execution_count": null,
   "id": "67da25db",
   "metadata": {},
   "outputs": [],
   "source": [
    "y_train"
   ]
  },
  {
   "cell_type": "code",
   "execution_count": null,
   "id": "57bcacdd",
   "metadata": {},
   "outputs": [],
   "source": [
    "metric_df = pd.DataFrame(data=[{\n",
    "    'model': 'mean_baseline', \n",
    "    'RMSE_validate': rmse_validate,\n",
    "        'r^2_validate': explained_variance_score(y_validate.wage_eur, y_validate.wage_eur_pred_mean)}])\n",
    "metric_df = metric_df.append({\n",
    "    'model': 'OLS Regressor', \n",
    "    'RMSE_validate': rmse_validate_lm,\n",
    "    'r^2_validate': explained_variance_score(y_validate.wage_eur, y_validate.wage_eur_pred_lm)}, ignore_index=True)\n",
    "metric_df = metric_df.append({\n",
    "    'model': 'Lasso alpha 1', \n",
    "    'RMSE_validate': rmse_validate_lars,\n",
    "    'r^2_validate': explained_variance_score(y_validate.wage_eur, y_validate.wage_eur_pred_lars)}, ignore_index=True)\n",
    "metric_df = metric_df.append({\n",
    "    'model': 'GLM (TweedieRegressor)', \n",
    "    'RMSE_validate': rmse_validate_glm,\n",
    "    'r^2_validate': explained_variance_score(y_validate.wage_eur, y_validate.wage_eur_pred_glm)}, ignore_index=True)\n",
    "metric_df = metric_df.append({\n",
    "    'model': 'Poly', \n",
    "    'RMSE_validate': rmse_validate_lm2,\n",
    "    'r^2_validate': explained_variance_score(y_validate.wage_eur, y_validate.wage_eur_pred_lm2)}, ignore_index=True)"
   ]
  },
  {
   "cell_type": "code",
   "execution_count": null,
   "id": "55e1a5e3",
   "metadata": {},
   "outputs": [],
   "source": [
    "metric_df  "
   ]
  },
  {
   "cell_type": "code",
   "execution_count": null,
   "id": "0d634a35",
   "metadata": {},
   "outputs": [],
   "source": [
    "stop # Marketability percent_change_train = ((baseline - RMSE_train ) / baseline) * 100"
   ]
  },
  {
   "cell_type": "code",
   "execution_count": null,
   "id": "b01fa194",
   "metadata": {},
   "outputs": [],
   "source": [
    "y_test = pd.DataFrame(y_test)\n",
    "\n",
    "# predict on test\n",
    "y_test['wage_eur_pred_LINEAR'] = lm.predict(X_test_scaled)\n",
    "\n",
    "# evaluate: rmse\n",
    "rmse_test_lm = mean_squared_error(y_test.wage_eur, y_test.wage_eur_pred_LINEAR)**(1/2)\n",
    "\n",
    "print(\"RMSE for OLS Model using LinearRegression\\nOut-of-Sample Performance: \", rmse_test_lm)\n",
    "\n",
    "y_test = pd.DataFrame(y_test)\n",
    "\n",
    "# predict on test\n",
    "y_test['wage_eur_pred_LASSO'] = lars.predict(X_test_scaled)\n",
    "\n",
    "# evaluate: rmse\n",
    "rmse_test_lars = mean_squared_error(y_test.wage_eur, y_test.wage_eur_pred_LASSO)**(1/2)\n",
    "\n",
    "print(\"RMSE for OLS Model using Lasso\\nOut-of-Sample Performance: \", rmse_test_lars)\n",
    "\n",
    "y_test = pd.DataFrame(y_test)\n",
    "\n",
    "#predict on test\n",
    "y_test['pred_Poly'] = lm2.predict(X_test_degree2)\n",
    "\n",
    "# evaluate: rmse\n",
    "rmse_test = mean_squared_error(y_test.wage_eur, y_test.pred_Poly)**(0.5)\n",
    "\n",
    "print(f\"\"\"\n",
    "RMSE for Polynomial Regressor, degrees=2:\n",
    "Test/Out-of-Sample Performance: {rmse_test}\n",
    "\"\"\")\n",
    "\n",
    "\n",
    "\n",
    "#predict on test\n",
    "y_test['wage_eur_pred_glm'] = glm.predict(X_test_scaled)\n",
    "\n",
    "# evaluate: rmse\n",
    "rmse_test = mean_squared_error(y_test.wage_eur, y_test.wage_eur_pred_glm)**(1/2)\n",
    "print(\"RMSE for GLM using Tweedie, power=1 & alpha=0\\nTraining/In-Sample: \", rmse_train, \n",
    "      \"\\nValidation/Out-of-Sample: \", rmse_validate_glm)\n"
   ]
  },
  {
   "cell_type": "code",
   "execution_count": null,
   "id": "b363bde2",
   "metadata": {},
   "outputs": [],
   "source": [
    "y_test"
   ]
  },
  {
   "cell_type": "code",
   "execution_count": null,
   "id": "92eb38b5",
   "metadata": {},
   "outputs": [],
   "source": [
    "sns.scatterplot(data = y_test)\n"
   ]
  },
  {
   "cell_type": "code",
   "execution_count": null,
   "id": "60e62052",
   "metadata": {},
   "outputs": [],
   "source": [
    "features = ['overall', 'potential', 'age', 'height_cm', 'weight_kg', 'club_team_id', 'nationality_id',\n",
    "        'weak_foot', 'skill_moves', 'pace', 'shooting', 'passing', 'dribbling', 'defending', 'physical',\n",
    "        'crossing', 'finishing', 'heading_accuracy', 'short_passing', 'volleys', 'skill_dribbling',\n",
    "        'curve', 'fk_accuracy', 'long_passing', 'ball_control', 'acceleration', 'sprint_speed', 'agility',\n",
    "        'reactions', 'balance', 'shot_power', 'jumping', 'stamina', 'strength', 'long_shots', 'aggression',\n",
    "        'interceptions', 'positioning', 'vision', 'penalties', 'marking', 'standing_tackle', 'sliding_tackle',\n",
    "        'gk_diving', 'gk_handling', 'gk_kicking', 'gk_positioning', 'gk_reflexes', 'gk_speed', 'year',\n",
    "        'year_joined', 'seniority', 'work_rate_encoded', 'preferred_foot_encoded',\n",
    "        'age_bins_encoded', 'weight_bins_encoded', 'body_type_encoded', 'league_encoded', 'bmi']\n",
    "train_scaled, validate_scaled, test_scaled = model.scale_data(train, validate, test)\n",
    "X = train_scaled[features]\n",
    "y = train[['wage_eur']]\n",
    "from sklearn.linear_model import LinearRegression\n",
    "from sklearn.feature_selection import RFE\n",
    "# initialize the ML algorithm\n",
    "lm = LinearRegression()\n",
    "# create the rfe object, indicating the ML object (lm) and the number of features I want to end up with.\n",
    "rfe = RFE(lm, n_features_to_select=10)\n",
    "# fit the data using RFE\n",
    "rfe.fit(X , y)\n",
    "# get the mask of the columns selected\n",
    "feature_mask = rfe.support_\n",
    "# get list of the column names.\n",
    "rfe_feature = X.iloc[:,feature_mask].columns.tolist()\n",
    "rfe_feature"
   ]
  }
 ],
 "metadata": {
  "kernelspec": {
   "display_name": "Python 3 (ipykernel)",
   "language": "python",
   "name": "python3"
  },
  "language_info": {
   "codemirror_mode": {
    "name": "ipython",
    "version": 3
   },
   "file_extension": ".py",
   "mimetype": "text/x-python",
   "name": "python",
   "nbconvert_exporter": "python",
   "pygments_lexer": "ipython3",
   "version": "3.9.7"
  }
 },
 "nbformat": 4,
 "nbformat_minor": 5
}
