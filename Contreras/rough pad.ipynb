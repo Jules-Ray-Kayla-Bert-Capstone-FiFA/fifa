{
 "cells": [
  {
   "cell_type": "code",
   "execution_count": 1,
   "id": "13f2f663",
   "metadata": {},
   "outputs": [],
   "source": [
    "import os\n",
    "import json\n",
    "from typing import Dict, List, Optional, Union, cast\n",
    "import requests\n",
    "import pandas as pd\n",
    "import bamboolib as bam\n",
    "\n",
    "import unicodedata\n",
    "import re\n",
    "import json\n",
    "\n",
    "import acquire\n",
    "\n",
    "import nltk\n",
    "from nltk.tokenize.toktok import ToktokTokenizer\n",
    "from nltk.corpus import stopwords\n",
    "from wordcloud import WordCloud\n",
    "\n",
    "from sklearn.model_selection import train_test_split\n",
    "from sklearn.linear_model import LogisticRegression\n",
    "from sklearn.metrics import classification_report, accuracy_score\n",
    "from sklearn.feature_extraction.text import TfidfVectorizer\n",
    "from sklearn.neighbors import KNeighborsClassifier\n",
    "from sklearn.metrics import confusion_matrix\n",
    "from sklearn.ensemble import RandomForestClassifier\n",
    "from sklearn.tree import DecisionTreeClassifier\n",
    "from sklearn.impute import SimpleImputer\n",
    "from sklearn.preprocessing import MinMaxScaler, StandardScaler, RobustScaler, QuantileTransformer\n",
    "from sklearn.cluster import KMeans\n",
    "\n",
    "from sklearn.metrics import mean_squared_error, r2_score\n",
    "from sklearn.feature_selection import f_regression \n",
    "\n",
    "\n",
    "from math import sqrt\n",
    "from sklearn.linear_model import LinearRegression, LassoLars, TweedieRegressor\n",
    "from sklearn.preprocessing import PolynomialFeatures\n",
    "\n",
    "\n",
    "import matplotlib.pyplot as plt\n",
    "import seaborn as sns\n",
    "import warnings\n",
    "warnings.filter=\"ignore\"\n",
    "\n",
    "from bs4 import BeautifulSoup\n",
    "import prepare\n",
    "import plotly.express as px\n"
   ]
  },
  {
   "cell_type": "markdown",
   "id": "b347d36f",
   "metadata": {},
   "source": [
    "***"
   ]
  },
  {
   "cell_type": "markdown",
   "id": "65c9c059",
   "metadata": {},
   "source": [
    "# `Acquire` Data."
   ]
  },
  {
   "cell_type": "code",
   "execution_count": 2,
   "id": "77b26fa7",
   "metadata": {},
   "outputs": [],
   "source": [
    "df = acquire.get_fifa_data()"
   ]
  },
  {
   "cell_type": "markdown",
   "id": "eb75c59f",
   "metadata": {},
   "source": [
    "# `Explore` And `Prep` Data"
   ]
  },
  {
   "cell_type": "code",
   "execution_count": 3,
   "id": "fe4b780c",
   "metadata": {
    "scrolled": true
   },
   "outputs": [
    {
     "data": {
      "application/vnd.jupyter.widget-view+json": {
       "model_id": "39ffa784dd994e57a38b7dfc2d589117"
      },
      "text/plain": [
       "        sofifa_id                                         player_url  \\\n",
       "0          158023  https://sofifa.com/player/158023/lionel-messi/...   \n",
       "1          188545  https://sofifa.com/player/188545/robert-lewand...   \n",
       "2           20801  https://sofifa.com/player/20801/c-ronaldo-dos-...   \n",
       "3          190871  https://sofifa.com/player/190871/neymar-da-sil...   \n",
       "4          192985  https://sofifa.com/player/192985/kevin-de-bruy...   \n",
       "...           ...                                                ...   \n",
       "142074     220806  https://sofifa.com/player/220806/ellis-redman/...   \n",
       "142075     225509  https://sofifa.com/player/225509/aaron-collins...   \n",
       "142076     201197  https://sofifa.com/player/201197/paul-tisdale/...   \n",
       "142077     217591  https://sofifa.com/player/217591/piotr-zemlo/1...   \n",
       "142078     222947  https://sofifa.com/player/222947/tom-davies/15...   \n",
       "\n",
       "               short_name                            long_name  \\\n",
       "0                L. Messi       Lionel Andrés Messi Cuccittini   \n",
       "1          R. Lewandowski                   Robert Lewandowski   \n",
       "2       Cristiano Ronaldo  Cristiano Ronaldo dos Santos Aveiro   \n",
       "3               Neymar Jr        Neymar da Silva Santos Júnior   \n",
       "4            K. De Bruyne                      Kevin De Bruyne   \n",
       "...                   ...                                  ...   \n",
       "142074          E. Redman                         Ellis Redman   \n",
       "142075         A. Collins            Aaron Graham John Collins   \n",
       "142076         P. Tisdale                         Paul Tisdale   \n",
       "142077           P. Żemło                          Piotr Żemło   \n",
       "142078          T. Davies            Thomas Christopher Davies   \n",
       "\n",
       "       player_positions  overall  potential    value_eur  wage_eur  age  \\\n",
       "0            RW, ST, CF       93         93   78000000.0  320000.0   34   \n",
       "1                    ST       92         92  119500000.0  270000.0   32   \n",
       "2                ST, LW       91         91   45000000.0  270000.0   36   \n",
       "3               LW, CAM       91         91  129000000.0  270000.0   29   \n",
       "4               CM, CAM       91         91  125500000.0  350000.0   30   \n",
       "...                 ...      ...        ...          ...       ...  ...   \n",
       "142074               CB       41         61      20000.0    2000.0   17   \n",
       "142075               ST       41         50      30000.0    2000.0   17   \n",
       "142076          CM, CAM       40         40          NaN    2000.0   41   \n",
       "142077           LM, LB       40         50      15000.0    2000.0   18   \n",
       "142078               CB       40         49      15000.0    2000.0   22   \n",
       "\n",
       "               dob  height_cm  weight_kg  club_team_id            club_name  \\\n",
       "0       1987-06-24        170         72          73.0  Paris Saint-Germain   \n",
       "1       1988-08-21        185         81          21.0    FC Bayern München   \n",
       "2       1985-02-05        187         83          11.0    Manchester United   \n",
       "3       1992-02-05        175         68          73.0  Paris Saint-Germain   \n",
       "4       1991-06-28        181         70          10.0      Manchester City   \n",
       "...            ...        ...        ...           ...                  ...   \n",
       "142074  1996-09-26        187         81      112254.0       Newport County   \n",
       "142075  1997-06-01        178         57      112254.0       Newport County   \n",
       "142076  1973-01-14        175         72         143.0          Exeter City   \n",
       "142077  1995-07-10        190         76        1873.0         Wisła Kraków   \n",
       "142078  1992-04-18        180         70      112260.0       Fleetwood Town   \n",
       "\n",
       "                        league_name  league_level club_position  \\\n",
       "0                    French Ligue 1           1.0            RW   \n",
       "1              German 1. Bundesliga           1.0            ST   \n",
       "2            English Premier League           1.0            ST   \n",
       "3                    French Ligue 1           1.0            LW   \n",
       "4            English Premier League           1.0           RCM   \n",
       "...                             ...           ...           ...   \n",
       "142074           English League Two           4.0           RES   \n",
       "142075           English League Two           4.0           RES   \n",
       "142076           English League Two           4.0           RES   \n",
       "142077  Polish T-Mobile Ekstraklasa           1.0           RES   \n",
       "142078           English League One           3.0           RES   \n",
       "\n",
       "        club_jersey_number club_loaned_from club_joined  \\\n",
       "0                     30.0              NaN  2021-08-10   \n",
       "1                      9.0              NaN  2014-07-01   \n",
       "2                      7.0              NaN  2021-08-27   \n",
       "3                     10.0              NaN  2017-08-03   \n",
       "4                     17.0              NaN  2015-08-30   \n",
       "...                    ...              ...         ...   \n",
       "142074                35.0              NaN  2013-10-22   \n",
       "142075                39.0              NaN  2014-08-14   \n",
       "142076                17.0              NaN  2006-06-26   \n",
       "142077                43.0              NaN  2012-07-01   \n",
       "142078                26.0              NaN  2014-03-11   \n",
       "\n",
       "        club_contract_valid_until  nationality_id nationality_name  \\\n",
       "0                          2023.0              52        Argentina   \n",
       "1                          2023.0              37           Poland   \n",
       "2                          2023.0              38         Portugal   \n",
       "3                          2025.0              54           Brazil   \n",
       "4                          2025.0               7          Belgium   \n",
       "...                           ...             ...              ...   \n",
       "142074                     2015.0              50            Wales   \n",
       "142075                     2015.0              50            Wales   \n",
       "142076                     2015.0              32            Malta   \n",
       "142077                     2015.0              37           Poland   \n",
       "142078                     2021.0              14          England   \n",
       "\n",
       "        nation_team_id nation_position  nation_jersey_number preferred_foot  \\\n",
       "0               1369.0              RW                  10.0           Left   \n",
       "1               1353.0              RS                   9.0          Right   \n",
       "2               1354.0              ST                   7.0          Right   \n",
       "3                  NaN             NaN                   NaN          Right   \n",
       "4               1325.0             RCM                   7.0          Right   \n",
       "...                ...             ...                   ...            ...   \n",
       "142074             NaN             NaN                   NaN          Right   \n",
       "142075             NaN             NaN                   NaN          Right   \n",
       "142076             NaN             NaN                   NaN          Right   \n",
       "142077             NaN             NaN                   NaN           Left   \n",
       "142078             NaN             NaN                   NaN          Right   \n",
       "\n",
       "        weak_foot  skill_moves  international_reputation      work_rate  \\\n",
       "0               4            4                         5     Medium/Low   \n",
       "1               4            4                         5    High/Medium   \n",
       "2               4            5                         5       High/Low   \n",
       "3               5            5                         5    High/Medium   \n",
       "4               5            4                         4      High/High   \n",
       "...           ...          ...                       ...            ...   \n",
       "142074          2            2                         1  Medium/Medium   \n",
       "142075          3            3                         1  Medium/Medium   \n",
       "142076          3            2                         1  Medium/Medium   \n",
       "142077          3            2                         1  Medium/Medium   \n",
       "142078          2            2                         1  Medium/Medium   \n",
       "\n",
       "               body_type real_face  release_clause_eur  \\\n",
       "0                 Unique       Yes         144300000.0   \n",
       "1                 Unique       Yes         197200000.0   \n",
       "2                 Unique       Yes          83300000.0   \n",
       "3                 Unique       Yes         238700000.0   \n",
       "4                 Unique       Yes         232200000.0   \n",
       "...                  ...       ...                 ...   \n",
       "142074     Normal (185+)        No                 NaN   \n",
       "142075    Lean (170-185)        No                 NaN   \n",
       "142076    Lean (170-185)        No                 NaN   \n",
       "142077     Normal (185+)        No                 NaN   \n",
       "142078  Normal (170-185)        No                 NaN   \n",
       "\n",
       "                                              player_tags  \\\n",
       "0       #Dribbler, #Distance Shooter, #FK Specialist, ...   \n",
       "1       #Aerial Threat, #Distance Shooter, #Clinical F...   \n",
       "2       #Aerial Threat, #Dribbler, #Distance Shooter, ...   \n",
       "3       #Speedster, #Dribbler, #Playmaker, #FK Special...   \n",
       "4       #Dribbler, #Playmaker, #Engine, #Distance Shoo...   \n",
       "...                                                   ...   \n",
       "142074                                                NaN   \n",
       "142075                                                NaN   \n",
       "142076                                                NaN   \n",
       "142077                                                NaN   \n",
       "142078                                                NaN   \n",
       "\n",
       "                                            player_traits  pace  shooting  \\\n",
       "0       Finesse Shot, Long Shot Taker (AI), Playmaker ...  85.0      92.0   \n",
       "1       Solid Player, Finesse Shot, Outside Foot Shot,...  78.0      92.0   \n",
       "2       Power Free-Kick, Flair, Long Shot Taker (AI), ...  87.0      94.0   \n",
       "3       Injury Prone, Flair, Speed Dribbler (AI), Play...  91.0      83.0   \n",
       "4       Injury Prone, Leadership, Early Crosser, Long ...  76.0      86.0   \n",
       "...                                                   ...   ...       ...   \n",
       "142074                                                NaN  66.0      25.0   \n",
       "142075                                                NaN  64.0      41.0   \n",
       "142076                       Injury Prone, Playmaker (AI)  38.0      36.0   \n",
       "142077                                                NaN  58.0      27.0   \n",
       "142078                                                NaN  72.0      27.0   \n",
       "\n",
       "        passing  dribbling  defending  physic  attacking_crossing  \\\n",
       "0          91.0       95.0       34.0    65.0                  85   \n",
       "1          79.0       86.0       44.0    82.0                  71   \n",
       "2          80.0       88.0       34.0    75.0                  87   \n",
       "3          86.0       94.0       37.0    63.0                  85   \n",
       "4          93.0       88.0       64.0    78.0                  94   \n",
       "...         ...        ...        ...     ...                 ...   \n",
       "142074     29.0       30.0       39.0    53.0                  25   \n",
       "142075     27.0       35.0       27.0    41.0                  22   \n",
       "142076     42.0       45.0       31.0    33.0                  39   \n",
       "142077     35.0       31.0       52.0    68.0                  49   \n",
       "142078     27.0       30.0       35.0    61.0                  23   \n",
       "\n",
       "        attacking_finishing  attacking_heading_accuracy  \\\n",
       "0                        95                          70   \n",
       "1                        95                          90   \n",
       "2                        95                          90   \n",
       "3                        83                          63   \n",
       "4                        82                          55   \n",
       "...                     ...                         ...   \n",
       "142074                   25                          41   \n",
       "142075                   47                          43   \n",
       "142076                   36                          29   \n",
       "142077                   24                          57   \n",
       "142078                   25                          38   \n",
       "\n",
       "        attacking_short_passing  attacking_volleys  skill_dribbling  \\\n",
       "0                            91                 88               96   \n",
       "1                            85                 89               85   \n",
       "2                            80                 86               88   \n",
       "3                            86                 86               95   \n",
       "4                            94                 82               88   \n",
       "...                         ...                ...              ...   \n",
       "142074                       36                 25               25   \n",
       "142075                       25                 27               29   \n",
       "142076                       43                 27               46   \n",
       "142077                       40                 25               27   \n",
       "142078                       32                 29               24   \n",
       "\n",
       "        skill_curve  skill_fk_accuracy  skill_long_passing  \\\n",
       "0                93                 94                  91   \n",
       "1                79                 85                  70   \n",
       "2                81                 84                  77   \n",
       "3                88                 87                  81   \n",
       "4                85                 83                  93   \n",
       "...             ...                ...                 ...   \n",
       "142074           21                 25                  33   \n",
       "142075           20                 22                  24   \n",
       "142076           41                 53                  41   \n",
       "142077           24                 21                  34   \n",
       "142078           24                 27                  21   \n",
       "\n",
       "        skill_ball_control  movement_acceleration  movement_sprint_speed  \\\n",
       "0                       96                     91                     80   \n",
       "1                       88                     77                     79   \n",
       "2                       88                     85                     88   \n",
       "3                       95                     93                     89   \n",
       "4                       91                     76                     76   \n",
       "...                    ...                    ...                    ...   \n",
       "142074                  26                     65                     66   \n",
       "142075                  30                     60                     68   \n",
       "142076                  44                     35                     41   \n",
       "142077                  32                     57                     58   \n",
       "142078                  35                     71                     73   \n",
       "\n",
       "        movement_agility  movement_reactions  movement_balance  \\\n",
       "0                     91                  94                95   \n",
       "1                     77                  93                82   \n",
       "2                     86                  94                74   \n",
       "3                     96                  89                84   \n",
       "4                     79                  91                78   \n",
       "...                  ...                 ...               ...   \n",
       "142074                52                  36                55   \n",
       "142075                66                  39                68   \n",
       "142076                37                  41                51   \n",
       "142077                36                  50                44   \n",
       "142078                33                  32                61   \n",
       "\n",
       "        power_shot_power  power_jumping  power_stamina  power_strength  \\\n",
       "0                     86             68             72              69   \n",
       "1                     90             85             76              86   \n",
       "2                     94             95             77              77   \n",
       "3                     80             64             81              53   \n",
       "4                     91             63             89              74   \n",
       "...                  ...            ...            ...             ...   \n",
       "142074                22             62             56              52   \n",
       "142075                36             51             47              42   \n",
       "142076                32             39             25              37   \n",
       "142077                31             61             74              75   \n",
       "142078                39             64             70              63   \n",
       "\n",
       "        power_long_shots  mentality_aggression  mentality_interceptions  \\\n",
       "0                     94                    44                       40   \n",
       "1                     87                    81                       49   \n",
       "2                     93                    63                       29   \n",
       "3                     81                    63                       37   \n",
       "4                     91                    76                       66   \n",
       "...                  ...                   ...                      ...   \n",
       "142074                25                    50                       41   \n",
       "142075                36                    30                       25   \n",
       "142076                38                    32                       35   \n",
       "142077                25                    44                       47   \n",
       "142078                22                    44                       34   \n",
       "\n",
       "        mentality_positioning  mentality_vision  mentality_penalties  \\\n",
       "0                          93                95                   75   \n",
       "1                          95                81                   90   \n",
       "2                          95                76                   88   \n",
       "3                          86                90                   93   \n",
       "4                          88                94                   83   \n",
       "...                       ...               ...                  ...   \n",
       "142074                     25                22                   31   \n",
       "142075                     41                39                   47   \n",
       "142076                     43                41                   55   \n",
       "142077                     38                21                   31   \n",
       "142078                     27                25                   21   \n",
       "\n",
       "        mentality_composure  defending_marking_awareness  \\\n",
       "0                      96.0                           20   \n",
       "1                      88.0                           35   \n",
       "2                      95.0                           24   \n",
       "3                      93.0                           35   \n",
       "4                      89.0                           68   \n",
       "...                     ...                          ...   \n",
       "142074                  NaN                           38   \n",
       "142075                  NaN                           25   \n",
       "142076                  NaN                           27   \n",
       "142077                  NaN                           54   \n",
       "142078                  NaN                           36   \n",
       "\n",
       "        defending_standing_tackle  defending_sliding_tackle  \\\n",
       "0                              35                        24   \n",
       "1                              42                        19   \n",
       "2                              32                        24   \n",
       "3                              32                        29   \n",
       "4                              65                        53   \n",
       "...                           ...                       ...   \n",
       "142074                         40                        35   \n",
       "142075                         25                        25   \n",
       "142076                         34                        29   \n",
       "142077                         52                        51   \n",
       "142078                         34                        35   \n",
       "\n",
       "        goalkeeping_diving  goalkeeping_handling  goalkeeping_kicking  \\\n",
       "0                        6                    11                   15   \n",
       "1                       15                     6                   12   \n",
       "2                        7                    11                   15   \n",
       "3                        9                     9                   15   \n",
       "4                       15                    13                    5   \n",
       "...                    ...                   ...                  ...   \n",
       "142074                  12                     6                   15   \n",
       "142075                  13                    11                   12   \n",
       "142076                   5                     6                   14   \n",
       "142077                   8                    14                    7   \n",
       "142078                  15                    13                    6   \n",
       "\n",
       "        goalkeeping_positioning  goalkeeping_reflexes  goalkeeping_speed  \\\n",
       "0                            14                     8                NaN   \n",
       "1                             8                    10                NaN   \n",
       "2                            14                    11                NaN   \n",
       "3                            15                    11                NaN   \n",
       "4                            10                    13                NaN   \n",
       "...                         ...                   ...                ...   \n",
       "142074                        8                     6                NaN   \n",
       "142075                       15                    11                NaN   \n",
       "142076                        8                    13                NaN   \n",
       "142077                       10                     9                NaN   \n",
       "142078                       11                     9                NaN   \n",
       "\n",
       "          ls    st    rs    lw  lf  cf  rf    rw   lam   cam   ram    lm  \\\n",
       "0       89+3  89+3  89+3  92.0  93  93  93  92.0    93    93    93  91+2   \n",
       "1       90+2  90+2  90+2  85.0  88  88  88  85.0  86+3  86+3  86+3  84+3   \n",
       "2       90+1  90+1  90+1  88.0  89  89  89  88.0  86+3  86+3  86+3  86+3   \n",
       "3       83+3  83+3  83+3  90.0  88  88  88  90.0  89+2  89+2  89+2  89+2   \n",
       "4       83+3  83+3  83+3  88.0  87  87  87  88.0  89+2  89+2  89+2  89+2   \n",
       "...      ...   ...   ...   ...  ..  ..  ..   ...   ...   ...   ...   ...   \n",
       "142074    32    32    32    33  30  30  30    33    30    30    30    34   \n",
       "142075    41    41    41    37  39  39  39    37    37    37    37    35   \n",
       "142076    38    38    38  41-1  40  40  40  41-1  41-1  41-1  41-1  41-1   \n",
       "142077    38    38    38    38  35  35  35    38    33    33    33    40   \n",
       "142078    35    35    35    33  33  33  33    33    31    31    31    34   \n",
       "\n",
       "         lcm    cm   rcm    rm   lwb   ldm   cdm   rdm   rwb    lb   lcb  \\\n",
       "0       87+3  87+3  87+3  91+2  66+3  64+3  64+3  64+3  66+3  61+3  50+3   \n",
       "1       80+3  80+3  80+3  84+3  64+3  66+3  66+3  66+3  64+3  61+3  60+3   \n",
       "2       78+3  78+3  78+3  86+3  63+3  59+3  59+3  59+3  63+3  60+3  53+3   \n",
       "3       82+3  82+3  82+3  89+2  67+3  63+3  63+3  63+3  67+3  62+3  50+3   \n",
       "4       89+2  89+2  89+2  89+2  79+3  80+3  80+3  80+3  79+3  75+3  69+3   \n",
       "...      ...   ...   ...   ...   ...   ...   ...   ...   ...   ...   ...   \n",
       "142074    32    32    32    34    37    38    38    38    37    40    41   \n",
       "142075    32    32    32    35    31    30    30    30    31    32    31   \n",
       "142076    40    40    40  41-1    36    37    37    37    36    34    33   \n",
       "142077    38    38    38    40    48    46    46    46    48  51-1  53-3   \n",
       "142078    31    31    31    34    37    36    36    36    37    39    40   \n",
       "\n",
       "          cb   rcb    rb    gk  \\\n",
       "0       50+3  50+3  61+3  19+3   \n",
       "1       60+3  60+3  61+3  19+3   \n",
       "2       53+3  53+3  60+3  20+3   \n",
       "3       50+3  50+3  62+3  20+3   \n",
       "4       69+3  69+3  75+3  21+3   \n",
       "...      ...   ...   ...   ...   \n",
       "142074    41    41    40    10   \n",
       "142075    31    31    32    14   \n",
       "142076    33    33    34    10   \n",
       "142077  53-3  53-3  51-1    12   \n",
       "142078    40    40    39    13   \n",
       "\n",
       "                                          player_face_url  \\\n",
       "0       https://cdn.sofifa.net/players/158/023/22_120.png   \n",
       "1       https://cdn.sofifa.net/players/188/545/22_120.png   \n",
       "2       https://cdn.sofifa.net/players/020/801/22_120.png   \n",
       "3       https://cdn.sofifa.net/players/190/871/22_120.png   \n",
       "4       https://cdn.sofifa.net/players/192/985/22_120.png   \n",
       "...                                                   ...   \n",
       "142074  https://cdn.sofifa.net/players/220/806/15_120.png   \n",
       "142075  https://cdn.sofifa.net/players/225/509/15_120.png   \n",
       "142076  https://cdn.sofifa.net/players/201/197/15_120.png   \n",
       "142077  https://cdn.sofifa.net/players/217/591/15_120.png   \n",
       "142078  https://cdn.sofifa.net/players/222/947/15_120.png   \n",
       "\n",
       "                                     club_logo_url  \\\n",
       "0           https://cdn.sofifa.net/teams/73/60.png   \n",
       "1           https://cdn.sofifa.net/teams/21/60.png   \n",
       "2           https://cdn.sofifa.net/teams/11/60.png   \n",
       "3           https://cdn.sofifa.net/teams/73/60.png   \n",
       "4           https://cdn.sofifa.net/teams/10/60.png   \n",
       "...                                            ...   \n",
       "142074  https://cdn.sofifa.net/teams/112254/60.png   \n",
       "142075  https://cdn.sofifa.net/teams/112254/60.png   \n",
       "142076     https://cdn.sofifa.net/teams/143/60.png   \n",
       "142077    https://cdn.sofifa.net/teams/1873/60.png   \n",
       "142078  https://cdn.sofifa.net/teams/112260/60.png   \n",
       "\n",
       "                                  club_flag_url  \\\n",
       "0           https://cdn.sofifa.net/flags/fr.png   \n",
       "1           https://cdn.sofifa.net/flags/de.png   \n",
       "2       https://cdn.sofifa.net/flags/gb-eng.png   \n",
       "3           https://cdn.sofifa.net/flags/fr.png   \n",
       "4       https://cdn.sofifa.net/flags/gb-eng.png   \n",
       "...                                         ...   \n",
       "142074  https://cdn.sofifa.net/flags/gb-eng.png   \n",
       "142075  https://cdn.sofifa.net/flags/gb-eng.png   \n",
       "142076  https://cdn.sofifa.net/flags/gb-eng.png   \n",
       "142077      https://cdn.sofifa.net/flags/pl.png   \n",
       "142078  https://cdn.sofifa.net/flags/gb-eng.png   \n",
       "\n",
       "                                 nation_logo_url  \\\n",
       "0       https://cdn.sofifa.net/teams/1369/60.png   \n",
       "1       https://cdn.sofifa.net/teams/1353/60.png   \n",
       "2       https://cdn.sofifa.net/teams/1354/60.png   \n",
       "3                                            NaN   \n",
       "4       https://cdn.sofifa.net/teams/1325/60.png   \n",
       "...                                          ...   \n",
       "142074                                       NaN   \n",
       "142075                                       NaN   \n",
       "142076                                       NaN   \n",
       "142077                                       NaN   \n",
       "142078                                       NaN   \n",
       "\n",
       "                                nation_flag_url  year  \n",
       "0           https://cdn.sofifa.net/flags/ar.png  2022  \n",
       "1           https://cdn.sofifa.net/flags/pl.png  2022  \n",
       "2           https://cdn.sofifa.net/flags/pt.png  2022  \n",
       "3           https://cdn.sofifa.net/flags/br.png  2022  \n",
       "4           https://cdn.sofifa.net/flags/be.png  2022  \n",
       "...                                         ...   ...  \n",
       "142074  https://cdn.sofifa.net/flags/gb-wls.png  2015  \n",
       "142075  https://cdn.sofifa.net/flags/gb-wls.png  2015  \n",
       "142076      https://cdn.sofifa.net/flags/mt.png  2015  \n",
       "142077      https://cdn.sofifa.net/flags/pl.png  2015  \n",
       "142078  https://cdn.sofifa.net/flags/gb-eng.png  2015  \n",
       "\n",
       "[142079 rows x 111 columns]"
      ]
     },
     "metadata": {},
     "output_type": "display_data"
    }
   ],
   "source": [
    "#forces dataframe to show every columns\n",
    "pd.set_option('display.max_columns', None)\n",
    "df"
   ]
  },
  {
   "cell_type": "code",
   "execution_count": 4,
   "id": "de17264f",
   "metadata": {},
   "outputs": [],
   "source": [
    "#add 0 values to non goal keeper players\n",
    "#df['goalkeeping_speed'].fillna(\"0\", inplace = True)"
   ]
  },
  {
   "cell_type": "code",
   "execution_count": 5,
   "id": "6882e1f1",
   "metadata": {},
   "outputs": [],
   "source": [
    "#forces dataframe to show every columns\n",
    "pd.set_option('display.max_columns', None)"
   ]
  },
  {
   "cell_type": "markdown",
   "id": "8192d4c6",
   "metadata": {},
   "source": [
    "***"
   ]
  },
  {
   "cell_type": "markdown",
   "id": "46dbbc8b",
   "metadata": {},
   "source": [
    "# Columns That Have Null Values"
   ]
  },
  {
   "cell_type": "code",
   "execution_count": 6,
   "id": "b999ed5f",
   "metadata": {},
   "outputs": [
    {
     "data": {
      "text/plain": [
       "value_eur                    True\n",
       "wage_eur                     True\n",
       "club_team_id                 True\n",
       "club_name                    True\n",
       "league_name                  True\n",
       "league_level                 True\n",
       "club_position                True\n",
       "club_jersey_number           True\n",
       "club_loaned_from             True\n",
       "club_joined                  True\n",
       "club_contract_valid_until    True\n",
       "nation_team_id               True\n",
       "nation_position              True\n",
       "nation_jersey_number         True\n",
       "release_clause_eur           True\n",
       "player_tags                  True\n",
       "player_traits                True\n",
       "pace                         True\n",
       "shooting                     True\n",
       "passing                      True\n",
       "dribbling                    True\n",
       "defending                    True\n",
       "physic                       True\n",
       "mentality_composure          True\n",
       "goalkeeping_speed            True\n",
       "lw                           True\n",
       "rw                           True\n",
       "club_logo_url                True\n",
       "club_flag_url                True\n",
       "nation_logo_url              True\n",
       "dtype: bool"
      ]
     },
     "execution_count": 6,
     "metadata": {},
     "output_type": "execute_result"
    }
   ],
   "source": [
    "na = df.isna().sum() > 0\n",
    "na[na]"
   ]
  },
  {
   "cell_type": "markdown",
   "id": "624b454e",
   "metadata": {},
   "source": [
    "`Takeaways:`\n",
    "- Over 25 columns have null values and we need to address them."
   ]
  },
  {
   "cell_type": "markdown",
   "id": "2b3a3594",
   "metadata": {},
   "source": [
    "***"
   ]
  },
  {
   "cell_type": "markdown",
   "id": "d5ce0e26",
   "metadata": {},
   "source": [
    "## Taking a look at our null values:"
   ]
  },
  {
   "cell_type": "markdown",
   "id": "967042bc",
   "metadata": {},
   "source": [
    "# `value_eur`,`wage_eur`, & `club_team_id`."
   ]
  },
  {
   "cell_type": "code",
   "execution_count": 7,
   "id": "61996608",
   "metadata": {},
   "outputs": [],
   "source": [
    "#df[df.value_eur.isnull()]"
   ]
  },
  {
   "cell_type": "markdown",
   "id": "1c0763dc",
   "metadata": {},
   "source": [
    "`Takeaways:`\n",
    "- we might have to consider removing these players because they would corrupt our data considering their wage information is missing and would not add any value to our model."
   ]
  },
  {
   "cell_type": "code",
   "execution_count": 8,
   "id": "8835ed24",
   "metadata": {},
   "outputs": [],
   "source": [
    "#df[df.wage_eur.isnull()]"
   ]
  },
  {
   "cell_type": "markdown",
   "id": "70574607",
   "metadata": {},
   "source": [
    "`Takeaways:`\n",
    "- we might have to consider removing these players because they would corrupt our data considering their value information is missing and would not add any value to our model."
   ]
  },
  {
   "cell_type": "code",
   "execution_count": 9,
   "id": "4b19f7c6",
   "metadata": {},
   "outputs": [],
   "source": [
    "#df[df.club_team_id.isnull()]"
   ]
  },
  {
   "cell_type": "markdown",
   "id": "496b1131",
   "metadata": {},
   "source": [
    "`Takeaways:`\n",
    "- we might have to consider removing these players because there club id is important information that we need to conclude their club budget."
   ]
  },
  {
   "cell_type": "code",
   "execution_count": 10,
   "id": "d48afb50",
   "metadata": {},
   "outputs": [],
   "source": [
    "#df[df.league_name.isnull()]"
   ]
  },
  {
   "cell_type": "markdown",
   "id": "1e5d8c79",
   "metadata": {},
   "source": [
    "`Takeaways:`\n",
    "- we might have to consider removing these players because the leage that they play in is important and can give us valuable information that needs to be categorized."
   ]
  },
  {
   "cell_type": "markdown",
   "id": "64f66c06",
   "metadata": {},
   "source": [
    "# `club_position`, `club_joined`, & `club_contract_valid_until`."
   ]
  },
  {
   "cell_type": "code",
   "execution_count": 11,
   "id": "6d40529d",
   "metadata": {},
   "outputs": [],
   "source": [
    "#df[df.club_position.isnull()]"
   ]
  },
  {
   "cell_type": "code",
   "execution_count": 12,
   "id": "426e1995",
   "metadata": {},
   "outputs": [],
   "source": [
    "#df[df.club_joined.isnull()]"
   ]
  },
  {
   "cell_type": "code",
   "execution_count": 13,
   "id": "b8d6873b",
   "metadata": {},
   "outputs": [],
   "source": [
    "#df[df.club_contract_valid_until.isnull()]"
   ]
  },
  {
   "cell_type": "markdown",
   "id": "15004c1a",
   "metadata": {},
   "source": [
    "`takeaways:`\n",
    "- Club_position, club_joined, & club_contract_valid_until all seem to have similar payers with null values.\n",
    "- We will be dropping these rows to better benefit our exploration and our modeling."
   ]
  },
  {
   "cell_type": "markdown",
   "id": "39889e87",
   "metadata": {},
   "source": [
    "# `nation_team_id`, `nation_position`."
   ]
  },
  {
   "cell_type": "code",
   "execution_count": 14,
   "id": "95b249e5",
   "metadata": {},
   "outputs": [],
   "source": [
    "#df[df.nation_team_id.isnull()]"
   ]
  },
  {
   "cell_type": "code",
   "execution_count": 15,
   "id": "77143172",
   "metadata": {},
   "outputs": [],
   "source": [
    "#df[df.nation_position.isnull()]"
   ]
  },
  {
   "cell_type": "markdown",
   "id": "6f174b2e",
   "metadata": {},
   "source": [
    "`Takeaways:`\n",
    "- Number of Nulls missing is greater than %90 so we will be eliminating these columns."
   ]
  },
  {
   "cell_type": "markdown",
   "id": "b7400369",
   "metadata": {},
   "source": [
    "***"
   ]
  },
  {
   "cell_type": "markdown",
   "id": "9685fd1d",
   "metadata": {},
   "source": [
    "# `pace`, `shooting`,`dribbling`, `passing`, `defending`, `physic`."
   ]
  },
  {
   "cell_type": "code",
   "execution_count": 16,
   "id": "39d3751a",
   "metadata": {},
   "outputs": [],
   "source": [
    "#df[df.pace.isnull()]"
   ]
  },
  {
   "cell_type": "code",
   "execution_count": 17,
   "id": "6f2bbc34",
   "metadata": {},
   "outputs": [],
   "source": [
    "#df[df.shooting.isnull()]"
   ]
  },
  {
   "cell_type": "code",
   "execution_count": 18,
   "id": "8339f08f",
   "metadata": {},
   "outputs": [],
   "source": [
    "#df[df.passing.isnull()]"
   ]
  },
  {
   "cell_type": "code",
   "execution_count": 19,
   "id": "358c7bb8",
   "metadata": {},
   "outputs": [],
   "source": [
    "#df[df.dribbling.isnull()]"
   ]
  },
  {
   "cell_type": "code",
   "execution_count": 20,
   "id": "d286bb15",
   "metadata": {},
   "outputs": [],
   "source": [
    "#df[df.defending.isnull()]"
   ]
  },
  {
   "cell_type": "code",
   "execution_count": 21,
   "id": "6805cce1",
   "metadata": {},
   "outputs": [],
   "source": [
    "#df[df.physic.isnull()]"
   ]
  },
  {
   "cell_type": "markdown",
   "id": "e4075f18",
   "metadata": {},
   "source": [
    "`Takeaways:`\n",
    "- Most of these null values are for goal keepers and can be replaced with 0 because these skills are not a requirement for their career field."
   ]
  },
  {
   "cell_type": "markdown",
   "id": "f64d1ffe",
   "metadata": {},
   "source": [
    "***"
   ]
  },
  {
   "cell_type": "markdown",
   "id": "01998d31",
   "metadata": {},
   "source": [
    "# Import [Prepare.py](https://github.com/Jules-Ray-Kayla-Bert-Capstone-FiFA/fifa/blob/main/prepare.py) File.\n",
    "`Summary:`\n",
    "    This file was created with the purpose of cleaning, encoding, scaling, dropping, and adding collumns to our existing data. It is necessary to complete this preperation step before we start exploring and modeling our data."
   ]
  },
  {
   "cell_type": "code",
   "execution_count": 22,
   "id": "dc8f5151",
   "metadata": {},
   "outputs": [
    {
     "name": "stdout",
     "output_type": "stream",
     "text": [
      "Before dropping nulls, 142079 rows, 111 cols\n",
      "After dropping nulls. 131489 rows. 66 cols\n",
      "After cleaning the data and adding additional columns there are: 98804 rows. 83 cols\n"
     ]
    },
    {
     "data": {
      "application/vnd.jupyter.widget-view+json": {
       "model_id": "01863b60dc8747fe91cf0b2248bd9848"
      },
      "text/plain": [
       "       sofifa_id      short_name player_positions  overall  potential  \\\n",
       "0         158023        L. Messi       RW, ST, CF       93         93   \n",
       "1         190871       Neymar Jr          LW, CAM       91         91   \n",
       "2         231747       K. Mbappé           ST, LW       91         95   \n",
       "3         230621   G. Donnarumma               GK       89         93   \n",
       "4         155862    Sergio Ramos               CB       88         88   \n",
       "...          ...             ...              ...      ...        ...   \n",
       "98799     234292    L. Järvenpää               RB       57         70   \n",
       "98800     234294      L. Lingman               RW       57         72   \n",
       "98801     234297    S. Dahlström               CM       57         72   \n",
       "98802     234300  L. Lappalainen               ST       57         76   \n",
       "98803     234296      S. Ylätupa               RW       54         74   \n",
       "\n",
       "         value_eur  wage_eur  age  height_cm  weight_kg  club_team_id  \\\n",
       "0       78000000.0  320000.0   34        170         72          73.0   \n",
       "1      129000000.0  270000.0   29        175         68          73.0   \n",
       "2      194000000.0  230000.0   22        182         73          73.0   \n",
       "3      119500000.0  110000.0   22        196         90          73.0   \n",
       "4       24000000.0  115000.0   35        184         82          73.0   \n",
       "...            ...       ...  ...        ...        ...           ...   \n",
       "98799     180000.0     500.0   19        182         76      100325.0   \n",
       "98800     230000.0     500.0   18        174         65      100325.0   \n",
       "98801     240000.0     500.0   19        181         83      100325.0   \n",
       "98802     230000.0     500.0   17        183         76      100325.0   \n",
       "98803     140000.0     500.0   16        171         67      100325.0   \n",
       "\n",
       "                 club_name            league_name  nationality_id  \\\n",
       "0      Paris Saint-Germain         French Ligue 1              52   \n",
       "1      Paris Saint-Germain         French Ligue 1              54   \n",
       "2      Paris Saint-Germain         French Ligue 1              18   \n",
       "3      Paris Saint-Germain         French Ligue 1              27   \n",
       "4      Paris Saint-Germain         French Ligue 1              45   \n",
       "...                    ...                    ...             ...   \n",
       "98799         HJK Helsinki  Finnish Veikkausliiga              17   \n",
       "98800         HJK Helsinki  Finnish Veikkausliiga              17   \n",
       "98801         HJK Helsinki  Finnish Veikkausliiga              17   \n",
       "98802         HJK Helsinki  Finnish Veikkausliiga              17   \n",
       "98803         HJK Helsinki  Finnish Veikkausliiga              17   \n",
       "\n",
       "      nationality_name club_position          position field_position  \\\n",
       "0            Argentina            RW        Right Wing        Forward   \n",
       "1               Brazil            LW         Left Wing        Forward   \n",
       "2               France            ST           Striker        Forward   \n",
       "3                Italy            GK        Goalkeeper     Goalkeeper   \n",
       "4                Spain           LCB  Left Centre Back       Defender   \n",
       "...                ...           ...               ...            ...   \n",
       "98799          Finland           SUB        Substitute           Subs   \n",
       "98800          Finland           SUB        Substitute           Subs   \n",
       "98801          Finland           RES          Reserves       Reserves   \n",
       "98802          Finland           SUB        Substitute           Subs   \n",
       "98803          Finland           RES          Reserves       Reserves   \n",
       "\n",
       "      club_joined  club_contract_valid_until         body_type preferred_foot  \\\n",
       "0      2021-08-10                     2023.0            Unique           Left   \n",
       "1      2017-08-03                     2025.0            Unique          Right   \n",
       "2      2018-07-01                     2022.0            Unique          Right   \n",
       "3      2021-07-15                     2026.0            Unique          Right   \n",
       "4      2021-07-08                     2023.0            Unique          Right   \n",
       "...           ...                        ...               ...            ...   \n",
       "98799  2016-01-01                     2020.0  Normal (170-185)          Right   \n",
       "98800  2016-01-01                     2020.0    Lean (170-185)          Right   \n",
       "98801  2016-01-01                     2020.0  Normal (170-185)          Right   \n",
       "98802  2016-01-01                     2020.0  Normal (170-185)          Right   \n",
       "98803  2016-01-01                     2020.0  Normal (170-185)          Right   \n",
       "\n",
       "       weak_foot  skill_moves  international_reputation      work_rate  pace  \\\n",
       "0              4            4                         5     Medium/Low    85   \n",
       "1              5            5                         5    High/Medium    91   \n",
       "2              4            5                         4       High/Low    97   \n",
       "3              3            1                         3  Medium/Medium     0   \n",
       "4              3            3                         4    High/Medium    70   \n",
       "...          ...          ...                       ...            ...   ...   \n",
       "98799          3            2                         1  Medium/Medium    70   \n",
       "98800          3            2                         1  Medium/Medium    70   \n",
       "98801          3            2                         1  Medium/Medium    70   \n",
       "98802          3            2                         1  Medium/Medium    77   \n",
       "98803          3            2                         1  Medium/Medium    72   \n",
       "\n",
       "       shooting  passing  dribbling  defending  physical  crossing  finishing  \\\n",
       "0            92       91         95         34        65        85         95   \n",
       "1            83       86         94         37        63        85         83   \n",
       "2            88       80         92         36        77        78         93   \n",
       "3             0        0          0          0         0        12         12   \n",
       "4            70       76         74         88        84        66         65   \n",
       "...         ...      ...        ...        ...       ...       ...        ...   \n",
       "98799        26       41         43         55        66        56         25   \n",
       "98800        46       50         63         29        56        61         45   \n",
       "98801        46       53         60         50        59        45         45   \n",
       "98802        54       42         57         18        61        32         57   \n",
       "98803        43       49         57         27        48        56         47   \n",
       "\n",
       "       heading_accuracy  short_passing  volleys  skill_dribbling  curve  \\\n",
       "0                    70             91       88               96     93   \n",
       "1                    63             86       86               95     88   \n",
       "2                    72             85       83               93     80   \n",
       "3                    12             36        8               28     12   \n",
       "4                    92             82       69               65     74   \n",
       "...                 ...            ...      ...              ...    ...   \n",
       "98799                52             41       23               41     37   \n",
       "98800                39             51       45               61     34   \n",
       "98801                44             59       31               60     32   \n",
       "98802                53             44       45               56     44   \n",
       "98803                38             47       34               55     47   \n",
       "\n",
       "       fk_accuracy  long_passing  ball_control  acceleration  sprint_speed  \\\n",
       "0               94            91            96            91            80   \n",
       "1               87            81            95            93            89   \n",
       "2               69            71            91            97            97   \n",
       "3               14            34            30            50            55   \n",
       "4               76            83            83            71            69   \n",
       "...            ...           ...           ...           ...           ...   \n",
       "98799           31            30            35            67            72   \n",
       "98800           41            45            59            68            72   \n",
       "98801           41            58            57            67            72   \n",
       "98802           39            41            57            75            79   \n",
       "98803           33            45            57            68            76   \n",
       "\n",
       "       agility  reactions  balance  shot_power  jumping  stamina  strength  \\\n",
       "0           91         94       95          86       68       72        69   \n",
       "1           96         89       84          80       64       81        53   \n",
       "2           92         93       83          86       78       88        77   \n",
       "3           64         85       38          59       72       34        72   \n",
       "4           77         92       66          79       93       78        84   \n",
       "...        ...        ...      ...         ...      ...      ...       ...   \n",
       "98799       59         50       63          27       60       79        63   \n",
       "98800       81         56       82          52       67       82        52   \n",
       "98801       65         55       63          49       66       55        61   \n",
       "98802       68         51       58          50       67       60        69   \n",
       "98803       60         51       81          45       55       57        47   \n",
       "\n",
       "       long_shots  aggression  interceptions  positioning  vision  penalties  \\\n",
       "0              94          44             40           93      95         75   \n",
       "1              81          63             37           86      90         93   \n",
       "2              82          62             38           92      82         79   \n",
       "3              18          30             26           14      60         24   \n",
       "4              64          90             87           73      71         92   \n",
       "...           ...         ...            ...          ...     ...        ...   \n",
       "98799          23          57             56           42      38         35   \n",
       "98800          41          31             25           52      49         50   \n",
       "98801          49          56             54           42      57         42   \n",
       "98802          54          43             15           52      51         54   \n",
       "98803          34          35             24           48      53         41   \n",
       "\n",
       "       marking  standing_tackle  sliding_tackle  gk_diving  gk_handling  \\\n",
       "0           20               35              24          6           11   \n",
       "1           35               32              29          9            9   \n",
       "2           26               34              32         13            5   \n",
       "3           20               14              16         91           83   \n",
       "4           84               89              91         11            8   \n",
       "...        ...              ...             ...        ...          ...   \n",
       "98799       57               53              52         14           15   \n",
       "98800       34               25              23         11           14   \n",
       "98801       38               58              56         15           11   \n",
       "98802       14               13              12          7           14   \n",
       "98803       23               29              26          8            8   \n",
       "\n",
       "       gk_kicking  gk_positioning  gk_reflexes  gk_speed  year   total_wage  \\\n",
       "0              15              14            8         0  2022   78320000.0   \n",
       "1              15              15           11         0  2022  129270000.0   \n",
       "2               7              11            6         0  2022  194230000.0   \n",
       "3              79              85           90        52  2022  119610000.0   \n",
       "4               9               7           11         0  2022   24115000.0   \n",
       "...           ...             ...          ...       ...   ...          ...   \n",
       "98799           6               8            9         0  2017     180500.0   \n",
       "98800           9              10           15         0  2017     230500.0   \n",
       "98801           8              10           14         0  2017     240500.0   \n",
       "98802           6               6            9         0  2017     230500.0   \n",
       "98803          14              14           11         0  2017     140500.0   \n",
       "\n",
       "      age_bins height_bins weight_bins  year_joined   wage_year  \\\n",
       "0        older       short     average         2021  16640000.0   \n",
       "1      younger      medium        slim         2017  14040000.0   \n",
       "2      younger      medium     average         2018  11960000.0   \n",
       "3      younger        tall       heavy         2021   5720000.0   \n",
       "4        older      medium     average         2021   5980000.0   \n",
       "...        ...         ...         ...          ...         ...   \n",
       "98799  younger      medium     average         2016     26000.0   \n",
       "98800  younger      medium        slim         2016     26000.0   \n",
       "98801  younger      medium     average         2016     26000.0   \n",
       "98802  younger      medium     average         2016     26000.0   \n",
       "98803  younger       short        slim         2016     26000.0   \n",
       "\n",
       "       league_yr_sum  club_name_yr_sum  seniority  club_position_encoded  \\\n",
       "0       5.034099e+09       991694600.0          1                      1   \n",
       "1       5.034099e+09       991694600.0          5                      3   \n",
       "2       5.034099e+09       991694600.0          4                      2   \n",
       "3       5.034099e+09       991694600.0          1                      5   \n",
       "4       5.034099e+09       991694600.0          1                      8   \n",
       "...              ...               ...        ...                    ...   \n",
       "98799   3.504800e+06         3504800.0          1                     12   \n",
       "98800   3.504800e+06         3504800.0          1                     12   \n",
       "98801   3.504800e+06         3504800.0          1                     22   \n",
       "98802   3.504800e+06         3504800.0          1                     12   \n",
       "98803   3.504800e+06         3504800.0          1                     22   \n",
       "\n",
       "       work_rate_encoded  preferred_foot_encoded age_bins_encoded  \\\n",
       "0                      4                       1                1   \n",
       "1                      8                       2                2   \n",
       "2                      7                       2                2   \n",
       "3                      5                       2                2   \n",
       "4                      8                       2                1   \n",
       "...                  ...                     ...              ...   \n",
       "98799                  5                       2                2   \n",
       "98800                  5                       2                2   \n",
       "98801                  5                       2                2   \n",
       "98802                  5                       2                2   \n",
       "98803                  5                       2                2   \n",
       "\n",
       "      weight_bins_encoded  body_type_encoded  league_encoded  \n",
       "0                       2                  1               4  \n",
       "1                       1                  1               4  \n",
       "2                       2                  1               4  \n",
       "3                       3                  1               4  \n",
       "4                       2                  1               4  \n",
       "...                   ...                ...             ...  \n",
       "98799                   2                  2              42  \n",
       "98800                   1                  3              42  \n",
       "98801                   2                  2              42  \n",
       "98802                   2                  2              42  \n",
       "98803                   1                  2              42  \n",
       "\n",
       "[98804 rows x 83 columns]"
      ]
     },
     "metadata": {},
     "output_type": "display_data"
    }
   ],
   "source": [
    "#defining df as our imported prepped data.\n",
    "df = prepare.prepped_data(df)\n",
    "df"
   ]
  },
  {
   "cell_type": "markdown",
   "id": "75eead09",
   "metadata": {},
   "source": [
    "# Seperating Goalkeepers, Forwards, & Midfielders"
   ]
  },
  {
   "cell_type": "code",
   "execution_count": 23,
   "id": "d62c0ab0",
   "metadata": {},
   "outputs": [],
   "source": [
    "goalkeeper_df, forward_df, midfielder_df, defender_df = prepare.acquire_players_by_position(df)"
   ]
  },
  {
   "cell_type": "code",
   "execution_count": 24,
   "id": "0eb8a4c3",
   "metadata": {},
   "outputs": [],
   "source": [
    "df = midfielder_df"
   ]
  },
  {
   "cell_type": "markdown",
   "id": "e17c79a5",
   "metadata": {},
   "source": [
    "print(\"add\",df_substitute_defenders.value_counts().sum())\n",
    "print(\"add\",df_substitute_forward.value_counts().sum())\n",
    "print(\"add\",df_substitute_goalkeeper.value_counts().sum())\n",
    "print(\"add\",df_substitute_midfielders.value_counts().sum())"
   ]
  },
  {
   "cell_type": "code",
   "execution_count": 25,
   "id": "aa0ea4f2",
   "metadata": {},
   "outputs": [
    {
     "name": "stdout",
     "output_type": "stream",
     "text": [
      "Train: 21872 rows, 83 cols\n",
      "Validate: 9695 rows, 83 cols\n",
      "Test: 5115 rows, 83 cols\n"
     ]
    }
   ],
   "source": [
    "train, validate, test = prepare.split(df)"
   ]
  },
  {
   "cell_type": "code",
   "execution_count": 29,
   "id": "030bf96b",
   "metadata": {},
   "outputs": [
    {
     "data": {
      "application/vnd.jupyter.widget-view+json": {
       "model_id": "e75d463549184784a2f8d9c3f9e3e312"
      },
      "text/plain": [
       "       sofifa_id     short_name player_positions  overall  potential  \\\n",
       "215       170890     B. Matuidi          CDM, CM       83         85   \n",
       "216        49370       T. Motta          CDM, CM       82         82   \n",
       "221       199556    M. Verratti          CM, CDM       80         86   \n",
       "449       112253    J. Toulalan          CDM, CM       83         83   \n",
       "450       162347  João Moutinho          CM, CAM       83         83   \n",
       "...          ...            ...              ...      ...        ...   \n",
       "94345     245476          Mello              CAM       59         64   \n",
       "94347     244167    S. Milewski               CM       55         64   \n",
       "96694     215752   K. Chvedukas               CM       58         59   \n",
       "97753     242637      C. Galvin               LM       58         67   \n",
       "98185     244914   S. Daly-Bütz               RM       49         57   \n",
       "\n",
       "        value_eur  wage_eur  age  height_cm  weight_kg  club_team_id  \\\n",
       "215    14000000.0  150000.0   27        175         70          73.0   \n",
       "216     9500000.0  130000.0   31        187         83          73.0   \n",
       "221     9500000.0   90000.0   21        165         60          73.0   \n",
       "449    10500000.0   90000.0   30        183         77          69.0   \n",
       "450    16500000.0  110000.0   27        171         61          69.0   \n",
       "...           ...       ...  ...        ...        ...           ...   \n",
       "94345    210000.0    1000.0   25        174         71      111089.0   \n",
       "94347    120000.0    1000.0   20        175         76      111089.0   \n",
       "96694    140000.0    1000.0   27        174         69         837.0   \n",
       "97753    200000.0     500.0   22        172         66         753.0   \n",
       "98185     45000.0     500.0   22        184         73         422.0   \n",
       "\n",
       "                 club_name                     league_name  nationality_id  \\\n",
       "215    Paris Saint-Germain                  French Ligue 1              18   \n",
       "216    Paris Saint-Germain                  French Ligue 1              27   \n",
       "221    Paris Saint-Germain                  French Ligue 1              27   \n",
       "449              AS Monaco                  French Ligue 1              18   \n",
       "450              AS Monaco                  French Ligue 1              38   \n",
       "...                    ...                             ...             ...   \n",
       "94345   Zagłębie Sosnowiec     Polish T-Mobile Ekstraklasa              54   \n",
       "94347   Zagłębie Sosnowiec     Polish T-Mobile Ekstraklasa              37   \n",
       "96694           Dundalk FC  Rep. Ireland Airtricity League              30   \n",
       "97753         Waterford FC  Rep. Ireland Airtricity League              25   \n",
       "98185            Cork City  Rep. Ireland Airtricity League              25   \n",
       "\n",
       "          nationality_name club_position                   position  \\\n",
       "215                 France           LCM       Left Centre Midfield   \n",
       "216                  Italy           CDM  Centre Defensive Midfield   \n",
       "221                  Italy           RCM      Right Centre Midfield   \n",
       "449                 France           CDM  Centre Defensive Midfield   \n",
       "450               Portugal           RCM      Right Centre Midfield   \n",
       "...                    ...           ...                        ...   \n",
       "94345               Brazil           RES                   Reserves   \n",
       "94347               Poland           RES                   Reserves   \n",
       "96694            Lithuania           RES                   Reserves   \n",
       "97753  Republic of Ireland           RES                   Reserves   \n",
       "98185  Republic of Ireland           RES                   Reserves   \n",
       "\n",
       "      field_position club_joined  club_contract_valid_until         body_type  \\\n",
       "215       Midfielder  2011-07-01                     2018.0    Lean (170-185)   \n",
       "216       Midfielder  2012-01-01                     2016.0  Normal (170-185)   \n",
       "221       Midfielder  2012-07-01                     2019.0     Normal (170-)   \n",
       "449       Midfielder  2013-07-07                     2015.0  Normal (170-185)   \n",
       "450       Midfielder  2013-07-01                     2018.0  Normal (170-185)   \n",
       "...              ...         ...                        ...               ...   \n",
       "94345       Reserves  2018-07-09                     2020.0    Lean (170-185)   \n",
       "94347       Reserves  2017-01-26                     2020.0  Normal (170-185)   \n",
       "96694       Reserves  2018-01-08                     2019.0    Lean (170-185)   \n",
       "97753       Reserves  2018-07-27                     2018.0  Normal (170-185)   \n",
       "98185       Reserves  2018-07-24                     2019.0  Normal (170-185)   \n",
       "\n",
       "      preferred_foot  weak_foot  skill_moves  international_reputation  \\\n",
       "215             Left          3            2                         3   \n",
       "216             Left          4            3                         3   \n",
       "221            Right          3            3                         2   \n",
       "449            Right          3            2                         3   \n",
       "450            Right          4            3                         3   \n",
       "...              ...        ...          ...                       ...   \n",
       "94345           Left          3            2                         1   \n",
       "94347          Right          2            2                         1   \n",
       "96694          Right          3            2                         1   \n",
       "97753          Right          3            3                         1   \n",
       "98185          Right          2            2                         1   \n",
       "\n",
       "           work_rate  pace  shooting  passing  dribbling  defending  physical  \\\n",
       "215        High/High    78        67       76         76         84        82   \n",
       "216    Medium/Medium    50        66       78         73         79        84   \n",
       "221    Medium/Medium    70        55       80         84         73        67   \n",
       "449      Medium/High    53        50       77         71         79        82   \n",
       "450    Medium/Medium    74        75       83         82         71        72   \n",
       "...              ...   ...       ...      ...        ...        ...       ...   \n",
       "94345  Medium/Medium    61        46       60         59         41        45   \n",
       "94347  Medium/Medium    57        39       54         52         52        56   \n",
       "96694  Medium/Medium    64        38       58         52         56        53   \n",
       "97753    High/Medium    73        45       54         62         39        55   \n",
       "98185  Medium/Medium    65        44       43         51         22        47   \n",
       "\n",
       "       crossing  finishing  heading_accuracy  short_passing  volleys  \\\n",
       "215          72         65                73             83       72   \n",
       "216          66         54                82             84       76   \n",
       "221          67         45                55             86       64   \n",
       "449          68         27                70             83       27   \n",
       "450          78         72                68             86       77   \n",
       "...         ...        ...               ...            ...      ...   \n",
       "94345        47         46                43             70       42   \n",
       "94347        48         30                47             62       32   \n",
       "96694        53         33                55             66       28   \n",
       "97753        55         43                40             58       35   \n",
       "98185        46         43                32             44       38   \n",
       "\n",
       "       skill_dribbling  curve  fk_accuracy  long_passing  ball_control  \\\n",
       "215                 73     65           52            79            77   \n",
       "216                 73     67           67            86            83   \n",
       "221                 83     76           66            85            85   \n",
       "449                 69     53           56            83            79   \n",
       "450                 81     82           79            83            84   \n",
       "...                ...    ...          ...           ...           ...   \n",
       "94345               60     48           42            66            58   \n",
       "94347               48     42           43            53            55   \n",
       "96694               48     43           39            61            55   \n",
       "97753               59     53           39            52            58   \n",
       "98185               51     43           36            40            50   \n",
       "\n",
       "       acceleration  sprint_speed  agility  reactions  balance  shot_power  \\\n",
       "215              77            79       81         83       79          74   \n",
       "216              48            52       50         78       50          82   \n",
       "221              72            68       87         82       93          66   \n",
       "449              54            52       55         82       64          78   \n",
       "450              79            69       84         82       85          76   \n",
       "...             ...           ...      ...        ...      ...         ...   \n",
       "94345            57            65       52         54       75          50   \n",
       "94347            56            58       58         54       69          48   \n",
       "96694            64            64       54         58       65          46   \n",
       "97753            80            67       79         52       83          48   \n",
       "98185            61            68       56         37       60          50   \n",
       "\n",
       "       jumping  stamina  strength  long_shots  aggression  interceptions  \\\n",
       "215         81       95        75          66          85             88   \n",
       "216         85       80        85          73          85             84   \n",
       "221         64       77        56          58          85             78   \n",
       "449         69       91        79          72          82             90   \n",
       "450         81       91        60          81          77             75   \n",
       "...        ...      ...       ...         ...         ...            ...   \n",
       "94345       57       41        48          43          37             30   \n",
       "94347       60       57        58          45          48             48   \n",
       "96694       58       63        46          37          59             57   \n",
       "97753       63       60        50          46          59             35   \n",
       "98185       43       47        54          39          30             16   \n",
       "\n",
       "       positioning  vision  penalties  marking  standing_tackle  \\\n",
       "215             70      74         56       84               84   \n",
       "216             65      77         70       72               81   \n",
       "221             61      84         64       73               76   \n",
       "449             68      80         56       68               88   \n",
       "450             78      84         70       67               75   \n",
       "...            ...     ...        ...      ...              ...   \n",
       "94345           51      58         48       39               46   \n",
       "94347           48      53         54       52               56   \n",
       "96694           51      55         50       54               58   \n",
       "97753           52      50         43       36               44   \n",
       "98185           46      44         49       20               24   \n",
       "\n",
       "       sliding_tackle  gk_diving  gk_handling  gk_kicking  gk_positioning  \\\n",
       "215                83          8           11           5              10   \n",
       "216                76         10           10           7               5   \n",
       "221                73         12           12          15              15   \n",
       "449                75         12            6          15               5   \n",
       "450                68         13           15          15              13   \n",
       "...               ...        ...          ...         ...             ...   \n",
       "94345              51          7            8           6              12   \n",
       "94347              54          5            7          14              12   \n",
       "96694              58         13            9          15              13   \n",
       "97753              41          6            6          13              13   \n",
       "98185              27          6           11          12               6   \n",
       "\n",
       "       gk_reflexes  gk_speed  year  total_wage age_bins height_bins  \\\n",
       "215             14         0  2015  14150000.0  younger      medium   \n",
       "216             14         0  2015   9630000.0    older      medium   \n",
       "221             10         0  2015   9590000.0  younger       short   \n",
       "449              7         0  2015  10590000.0    older      medium   \n",
       "450             13         0  2015  16610000.0  younger       short   \n",
       "...            ...       ...   ...         ...      ...         ...   \n",
       "94345            8         0  2019    211000.0  younger      medium   \n",
       "94347            6         0  2019    121000.0  younger      medium   \n",
       "96694           13         0  2019    141000.0  younger      medium   \n",
       "97753           12         0  2019    200500.0  younger       short   \n",
       "98185           11         0  2019     45500.0  younger      medium   \n",
       "\n",
       "      weight_bins  year_joined  wage_year  league_yr_sum  club_name_yr_sum  \\\n",
       "215       average         2011  7800000.0   5.034099e+09       991694600.0   \n",
       "216       average         2012  6760000.0   5.034099e+09       991694600.0   \n",
       "221          slim         2012  4680000.0   5.034099e+09       991694600.0   \n",
       "449       average         2013  4680000.0   5.034099e+09       375746800.0   \n",
       "450          slim         2013  5720000.0   5.034099e+09       375746800.0   \n",
       "...           ...          ...        ...            ...               ...   \n",
       "94345     average         2018    52000.0   5.593692e+08         1742000.0   \n",
       "94347     average         2017    52000.0   5.593692e+08         1742000.0   \n",
       "96694        slim         2018    52000.0   1.222338e+08        14297400.0   \n",
       "97753        slim         2018    26000.0   1.222338e+08         2587000.0   \n",
       "98185     average         2018    26000.0   1.222338e+08        11520600.0   \n",
       "\n",
       "       seniority  club_position_encoded  work_rate_encoded  \\\n",
       "215            4                     11                  9   \n",
       "216            3                      7                  5   \n",
       "221            3                      4                  5   \n",
       "449            2                      7                  6   \n",
       "450            2                      4                  5   \n",
       "...          ...                    ...                ...   \n",
       "94345          1                     22                  5   \n",
       "94347          2                     22                  5   \n",
       "96694          1                     22                  5   \n",
       "97753          1                     22                  8   \n",
       "98185          1                     22                  5   \n",
       "\n",
       "       preferred_foot_encoded age_bins_encoded weight_bins_encoded  \\\n",
       "215                         1                2                   2   \n",
       "216                         1                1                   2   \n",
       "221                         2                2                   1   \n",
       "449                         2                1                   2   \n",
       "450                         2                2                   1   \n",
       "...                       ...              ...                 ...   \n",
       "94345                       1                2                   2   \n",
       "94347                       2                2                   2   \n",
       "96694                       2                2                   1   \n",
       "97753                       2                2                   1   \n",
       "98185                       2                2                   2   \n",
       "\n",
       "       body_type_encoded  league_encoded  \n",
       "215                    3               4  \n",
       "216                    2               4  \n",
       "221                    6               4  \n",
       "449                    2               4  \n",
       "450                    2               4  \n",
       "...                  ...             ...  \n",
       "94345                  3              14  \n",
       "94347                  2              14  \n",
       "96694                  3              24  \n",
       "97753                  2              24  \n",
       "98185                  2              24  \n",
       "\n",
       "[21872 rows x 83 columns]"
      ]
     },
     "metadata": {},
     "output_type": "display_data"
    }
   ],
   "source": [
    "train"
   ]
  },
  {
   "cell_type": "markdown",
   "id": "9e37e21b",
   "metadata": {},
   "source": [
    "# `Explore`"
   ]
  },
  {
   "cell_type": "markdown",
   "id": "e18a8dc8",
   "metadata": {},
   "source": [
    "## Importing split function to start our exploring on our train data."
   ]
  },
  {
   "cell_type": "markdown",
   "id": "e3ef50b8",
   "metadata": {},
   "source": [
    "***\n",
    "# Relationship to Wage_euro Plot"
   ]
  },
  {
   "cell_type": "code",
   "execution_count": null,
   "id": "3f55ff57",
   "metadata": {
    "scrolled": false
   },
   "outputs": [],
   "source": [
    "plt.figure(figsize = (12,8))\n",
    "train.corr()['wage_eur'].sort_values(ascending=False).plot(kind='barh', color='orange')\n",
    "plt.title('Relationship with wages')\n",
    "plt.xlabel('Relationship')\n",
    "plt.ylabel('Features')\n",
    "plt.show()"
   ]
  },
  {
   "cell_type": "code",
   "execution_count": null,
   "id": "4193d591",
   "metadata": {
    "scrolled": false
   },
   "outputs": [],
   "source": [
    "features_cor =  train.corr()['wage_eur'].sort_values(ascending=False)\n",
    "features_cor = pd.DataFrame(features_cor)\n",
    "features_cor.tail(58)"
   ]
  },
  {
   "cell_type": "markdown",
   "id": "c73ccaab",
   "metadata": {},
   "source": [
    "## Questions to explore?"
   ]
  },
  {
   "cell_type": "markdown",
   "id": "39b92880",
   "metadata": {},
   "source": [
    "`Does age impact salary?`\n",
    "\n",
    "`Does seniority(length of time playing with a club) impact salary?`\n",
    "\n",
    "`Does the club you start with impact your salary?`\n",
    "\n",
    "`Do players with unusual body types have higher or lower salaries?`\n",
    "\n",
    "`Does nationality impact salary?`\n",
    "\n",
    "`Does international reputation impact salary?`\n",
    "\n",
    "`Does contract length positively or negatively impact salary?`\n",
    "\n",
    "`Overarching question: What features are most important in player salaries?`\n",
    "\n",
    "- Players to focus on for Eriberto Contreras?\n",
    "- Additionally I will be focusing on team budgets?"
   ]
  },
  {
   "cell_type": "code",
   "execution_count": null,
   "id": "fa6f76bc",
   "metadata": {},
   "outputs": [],
   "source": [
    "fig = px.box(train, x=\"position\", y=\"wage_eur\", points=\"all\", animation_frame='year', color=\"league_name\",\n",
    "                   hover_name=\"league_name\")\n",
    "fig.update_xaxes(categoryorder = 'mean ascending')\n",
    "fig.update_layout(title_text='Wages and positions', title_x=0.5)\n",
    "fig.show()\n"
   ]
  },
  {
   "cell_type": "code",
   "execution_count": null,
   "id": "e0187660",
   "metadata": {},
   "outputs": [],
   "source": [
    "fig = px.box(train, x=\"league_name\", y=\"wage_eur\", points=\"all\", animation_frame='year', color=\"league_name\",\n",
    "                   hover_name=\"league_name\")\n",
    "fig.update_xaxes(categoryorder = 'mean ascending')\n",
    "fig.update_layout(title_text='Wage & League', title_x=0.5)\n",
    "fig.show()"
   ]
  },
  {
   "cell_type": "code",
   "execution_count": null,
   "id": "bfcd966c",
   "metadata": {},
   "outputs": [],
   "source": [
    "fig = px.box(train, x=\"club_name\", y=\"wage_eur\", points=\"all\", animation_frame='year', color=\"league_name\",\n",
    "                   hover_name=\"league_name\")\n",
    "fig.update_xaxes(categoryorder = 'mean ascending')\n",
    "fig.update_layout(title_text='Wage & Club', title_x=0.5)\n",
    "fig.show()\n"
   ]
  },
  {
   "cell_type": "code",
   "execution_count": null,
   "id": "7629e511",
   "metadata": {},
   "outputs": [],
   "source": [
    "# df = px.data.gapminder().query(\"year\").query(\"fifa_total_player_budget\")\n",
    "#train.loc[train['wage_eur'] < 2.6, 'country'] = 'top' # Represent only large countries\n",
    "fig = px.pie(train, values='wage_eur', names='league_name', title='LEAGUE')\n",
    "fig.show()"
   ]
  },
  {
   "cell_type": "code",
   "execution_count": null,
   "id": "659ac99b",
   "metadata": {},
   "outputs": [],
   "source": [
    "fig = px.box(train, x=\"age\", y=\"wage_eur\", points=\"all\", animation_frame='year', color=\"league_name\",\n",
    "                   hover_name=\"league_name\")\n",
    "fig.update_xaxes(categoryorder = 'mean ascending')\n",
    "fig.update_layout(title_text='WAGE & AGE', title_x=0.5)\n",
    "fig.show()\n"
   ]
  },
  {
   "cell_type": "code",
   "execution_count": null,
   "id": "bed80fff",
   "metadata": {},
   "outputs": [],
   "source": [
    "fig = px.box(train, x=\"club_joined\", y=\"wage_eur\", points=\"all\", animation_frame='year', color=\"league_name\",\n",
    "                   hover_name=\"league_name\")\n",
    "fig.update_xaxes(categoryorder = 'mean ascending')\n",
    "fig.update_layout(title_text='Wage Per Position', title_x=0.5)\n",
    "fig.show()\n"
   ]
  },
  {
   "cell_type": "code",
   "execution_count": null,
   "id": "5015ec76",
   "metadata": {},
   "outputs": [],
   "source": [
    "#Does contract length positively or negatively impact salary?\n",
    "\n",
    "fig = px.box(train, x=\"club_contract_valid_until\", y=\"wage_eur\", points=\"all\", animation_frame='year', color=\"league_name\",\n",
    "                   hover_name=\"league_name\")\n",
    "fig.update_xaxes(categoryorder = 'mean ascending')\n",
    "fig.update_layout(title_text='Wage Per Position and contract ', title_x=0.5)\n",
    "fig.show()"
   ]
  },
  {
   "cell_type": "code",
   "execution_count": null,
   "id": "43e98e08",
   "metadata": {},
   "outputs": [],
   "source": [
    "# identifying mvp columns\n",
    "mvp = ['potential', 'reactions', 'vision', 'short_passing','long_passing',\n",
    "                    'ball_control', 'curve', 'shot_power', 'volleys', 'long_shots',\n",
    "                    'fk_accuracy', 'crossing', 'skill_dribbling']"
   ]
  },
  {
   "cell_type": "code",
   "execution_count": null,
   "id": "78db62b1",
   "metadata": {},
   "outputs": [],
   "source": [
    "X_train = train[mvp]\n",
    "y_train = train['wage_eur']\n",
    "\n",
    "X_validate = validate[mvp]\n",
    "y_validate = validate['wage_eur']\n",
    "\n",
    "X_test = test[mvp]\n",
    "y_test = test['wage_eur']"
   ]
  },
  {
   "cell_type": "markdown",
   "id": "a471648d",
   "metadata": {},
   "source": [
    "# Scaling"
   ]
  },
  {
   "cell_type": "code",
   "execution_count": null,
   "id": "7166429d",
   "metadata": {},
   "outputs": [],
   "source": [
    "scaler = RobustScaler()\n",
    "# Note that we only call .fit with the training data,\n",
    "# but we use .transform to apply the scaling to all the data splits.\n",
    "scaler.fit(X_train)\n",
    "\n",
    "X_train_scaled = scaler.transform(X_train)\n",
    "X_validate_scaled = scaler.transform(X_validate)\n",
    "X_test_scaled = scaler.transform(X_test)"
   ]
  },
  {
   "cell_type": "code",
   "execution_count": null,
   "id": "c95ced52",
   "metadata": {},
   "outputs": [],
   "source": [
    "#scaler, X_train_scaled, X_validate_scaled, X_test_scaled = scale_data(X_train, X_validate, X_test, return_scaler=True)"
   ]
  },
  {
   "cell_type": "markdown",
   "id": "011ca93a",
   "metadata": {},
   "source": [
    "# RMSE"
   ]
  },
  {
   "cell_type": "code",
   "execution_count": null,
   "id": "dbc00d12",
   "metadata": {},
   "outputs": [],
   "source": [
    "# We need y_train and y_validate to be dataframes to append the new columns with predicted values.\n",
    "y_train = pd.DataFrame(y_train)\n",
    "y_validate = pd.DataFrame(y_validate)\n",
    "# 1. Predict price_pred_mean\n",
    "wage_eur_pred_mean = y_train.wage_eur.mean()\n",
    "# creating a wage_eur_pred_mean column for my y_train\n",
    "y_train['wage_eur_pred_mean'] = y_train.wage_eur.mean()\n",
    "# creating a wage_eur_pred_mean column for my y_validate\n",
    "y_validate['wage_eur_pred_mean'] = y_validate.wage_eur.mean()\n",
    "# 2. compute price_pred_median\n",
    "# creating a predictive median for y train \n",
    "y_train['wage_eur_pred_median'] = y_train.wage_eur.median()\n",
    "# creating a predictive median for y_validate\n",
    "y_validate['wage_eur_pred_median'] = y_validate.wage_eur.median()\n",
    "# 3. RMSE of price_pred_mean\n",
    "rmse_train = mean_squared_error(y_train.wage_eur, y_train.wage_eur_pred_mean)**(1/2)\n",
    "rmse_validate = mean_squared_error(y_validate.wage_eur, y_validate.wage_eur_pred_mean)**(1/2)\n",
    "print(\"RMSE using Mean\\nTrain/In-Sample: \", round(rmse_train, 2),\n",
    "      \"\\nValidate/Out-of-Sample: \", round(rmse_validate, 2))\n",
    "# 4. RMSE of wage_eur_pred_median\n",
    "rmse_train = mean_squared_error(y_train.wage_eur, y_train.wage_eur_pred_median)**(1/2)\n",
    "rmse_validate = mean_squared_error(y_validate.wage_eur, y_validate.wage_eur_pred_median)**(1/2)\n",
    "print(\"RMSE using Median\\nTrain/In-Sample: \", round(rmse_train, 2),\n",
    "      \"\\nValidate/Out-of-Sample: \", round(rmse_validate, 2))"
   ]
  },
  {
   "cell_type": "code",
   "execution_count": null,
   "id": "4fc7c20b",
   "metadata": {},
   "outputs": [],
   "source": [
    "y_test = pd.DataFrame(y_test)\n",
    "\n",
    "y_test"
   ]
  },
  {
   "cell_type": "code",
   "execution_count": null,
   "id": "693dee45",
   "metadata": {},
   "outputs": [],
   "source": [
    "# create the model object\n",
    "lm = LinearRegression(normalize=True)\n",
    "\n",
    "# fit the model to our training data. We must specify the column in y_train, \n",
    "# since we have converted it to a dataframe from a series! \n",
    "lm.fit(X_train_scaled, y_train.wage_eur)\n",
    "\n",
    "# predict train\n",
    "y_train['wage_eur_pred_lm'] = lm.predict(X_train_scaled)\n",
    "\n",
    "# evaluate: rmse\n",
    "rmse_train = mean_squared_error(y_train.wage_eur, y_train.wage_eur_pred_lm)**(1/2)\n",
    "\n",
    "# predict validate\n",
    "y_validate['wage_eur_pred_lm'] = lm.predict(X_validate_scaled)\n",
    "\n",
    "# evaluate: rmse\n",
    "rmse_validate_lm = mean_squared_error(y_validate.wage_eur, y_validate.wage_eur_pred_lm)**(1/2)\n",
    "\n",
    "print(\"RMSE for OLS using LinearRegression\\nTraining/In-Sample: \", rmse_train, \n",
    "      \"\\nValidation/Out-of-Sample: \", rmse_validate_lm)"
   ]
  },
  {
   "cell_type": "code",
   "execution_count": null,
   "id": "148ee37f",
   "metadata": {},
   "outputs": [],
   "source": [
    "#residuals\n",
    "y_train['lm_residuals'] = y_train['wage_eur_pred_lm'] - y_train['wage_eur']\n",
    "y_validate['lm_residuals'] = y_validate['wage_eur_pred_lm'] - y_validate['wage_eur']"
   ]
  },
  {
   "cell_type": "markdown",
   "id": "51283ae8",
   "metadata": {},
   "source": [
    "# LassoLars(lars)"
   ]
  },
  {
   "cell_type": "code",
   "execution_count": null,
   "id": "07a8ea9c",
   "metadata": {},
   "outputs": [],
   "source": [
    "# create the model object\n",
    "lars = LassoLars(alpha=1.0)\n",
    "\n",
    "# fit the model to our training data. We must specify the column in y_train, \n",
    "# since we have converted it to a dataframe from a series! \n",
    "lars.fit(X_train_scaled, y_train.wage_eur)\n",
    "\n",
    "# predict train\n",
    "y_train['wage_eur_pred_lars'] = lars.predict(X_train_scaled)\n",
    "\n",
    "# evaluate: rmse\n",
    "rmse_train_lars = mean_squared_error(y_train.wage_eur, y_train.wage_eur_pred_lars)**(1/2)\n",
    "\n",
    "# predict validate\n",
    "y_validate['wage_eur_pred_lars'] = lars.predict(X_validate_scaled)\n",
    "\n",
    "# evaluate: rmse\n",
    "rmse_validate_lars = mean_squared_error(y_validate.wage_eur, y_validate.wage_eur_pred_lars)**(1/2)\n",
    "\n",
    "print(\"RMSE for Lasso + Lars\\nTraining/In-Sample: \", rmse_train_lars, \n",
    "      \"\\nValidation/Out-of-Sample: \", rmse_validate_lars)"
   ]
  },
  {
   "cell_type": "code",
   "execution_count": null,
   "id": "63bd79a6",
   "metadata": {},
   "outputs": [],
   "source": [
    "#residuals\n",
    "y_train['lars_residuals'] = y_train['wage_eur_pred_lars'] - y_train['wage_eur']\n",
    "y_validate['lars_residuals'] = y_validate['wage_eur_pred_lars'] - y_validate['wage_eur']"
   ]
  },
  {
   "cell_type": "markdown",
   "id": "2193f156",
   "metadata": {},
   "source": [
    "# Twedie Regression Model (GLM)"
   ]
  },
  {
   "cell_type": "code",
   "execution_count": null,
   "id": "8ba1eff8",
   "metadata": {},
   "outputs": [],
   "source": [
    "# create the model object\n",
    "glm = TweedieRegressor(power=1, alpha=0)\n",
    "\n",
    "# fit the model to our training data. We must specify the column in y_train, \n",
    "# since we have converted it to a dataframe from a series! \n",
    "glm.fit(X_train_scaled, y_train.wage_eur)\n",
    "\n",
    "# predict train\n",
    "y_train['wage_eur_pred_glm'] = glm.predict(X_train_scaled)\n",
    "\n",
    "# evaluate: rmse\n",
    "rmse_train_glm = mean_squared_error(y_train.wage_eur, y_train.wage_eur_pred_glm)**(1/2)\n",
    "\n",
    "# predict validate\n",
    "y_validate['wage_eur_pred_glm'] = glm.predict(X_validate_scaled)\n",
    "\n",
    "# evaluate: rmse\n",
    "rmse_validate_glm = mean_squared_error(y_validate.wage_eur, y_validate.wage_eur_pred_glm)**(1/2)\n",
    "\n",
    "print(\"RMSE for GLM using Tweedie, power=1 & alpha=0\\nTraining/In-Sample: \", rmse_train, \n",
    "      \"\\nValidation/Out-of-Sample: \", rmse_validate_glm)"
   ]
  },
  {
   "cell_type": "code",
   "execution_count": null,
   "id": "3216ff17",
   "metadata": {},
   "outputs": [],
   "source": [
    "#residuals\n",
    "y_train['glm_residuals'] = y_train['wage_eur_pred_glm'] - y_train['wage_eur']\n",
    "y_validate['glm_residuals'] = y_validate['wage_eur_pred_glm'] - y_validate['wage_eur']"
   ]
  },
  {
   "cell_type": "markdown",
   "id": "dc8c525c",
   "metadata": {},
   "source": [
    "# Polynomial Regression"
   ]
  },
  {
   "cell_type": "code",
   "execution_count": null,
   "id": "f3bd3f5a",
   "metadata": {},
   "outputs": [],
   "source": [
    "# make the polynomial features to get a new set of features\n",
    "pf = PolynomialFeatures(degree=2)\n",
    "\n",
    "# fit and transform X_train_scaled\n",
    "X_train_degree2 = pf.fit_transform(X_train_scaled)\n",
    "\n",
    "# transform X_validate_scaled & X_test_scaled\n",
    "X_validate_degree2 = pf.transform(X_validate_scaled)\n",
    "X_test_degree2 = pf.transform(X_test_scaled)"
   ]
  },
  {
   "cell_type": "code",
   "execution_count": null,
   "id": "1986a4d6",
   "metadata": {},
   "outputs": [],
   "source": [
    "# create the model object\n",
    "lm2 = LinearRegression(normalize=True)\n",
    "\n",
    "# fit the model to our training data. We must specify the column in y_train, \n",
    "# since we have converted it to a dataframe from a series! \n",
    "lm2.fit(X_train_degree2, y_train.wage_eur)\n",
    "\n",
    "# predict train\n",
    "y_train['wage_eur_pred_lm2'] = lm2.predict(X_train_degree2)\n",
    "\n",
    "# evaluate: rmse\n",
    "rmse_train_lm2 = mean_squared_error(y_train.wage_eur, y_train.wage_eur_pred_lm2)**(1/2)\n",
    "\n",
    "# predict validate\n",
    "y_validate['wage_eur_pred_lm2'] = lm2.predict(X_validate_degree2)\n",
    "\n",
    "# evaluate: rmse\n",
    "rmse_validate_lm2 = mean_squared_error(y_validate.wage_eur, y_validate.wage_eur_pred_lm2)**(1/2)\n",
    "\n",
    "print(\"RMSE for Polynomial Model, degrees=2\\nTraining/In-Sample: \", rmse_train, \n",
    "      \"\\nValidation/Out-of-Sample: \", rmse_validate)"
   ]
  },
  {
   "cell_type": "code",
   "execution_count": null,
   "id": "8f7ecdc6",
   "metadata": {},
   "outputs": [],
   "source": [
    "#residuals\n",
    "y_train['poly_residuals'] = y_train['wage_eur_pred_lm2'] - y_train['wage_eur']\n",
    "y_validate['poly_residuals'] = y_validate['wage_eur_pred_lm2'] - y_validate['wage_eur']"
   ]
  },
  {
   "cell_type": "markdown",
   "id": "badf5443",
   "metadata": {},
   "source": [
    "# Evaluating Models"
   ]
  },
  {
   "cell_type": "code",
   "execution_count": null,
   "id": "6381324f",
   "metadata": {},
   "outputs": [],
   "source": [
    "from sklearn.linear_model import LinearRegression\n",
    "y = pd.DataFrame(y_train.wage_eur)\n",
    "X = pd.DataFrame(X_train_scaled)\n",
    "# assuming X and y are already defined\n",
    "model = LinearRegression().fit(X, y)\n",
    "train['yhat'] = model.predict(X)\n",
    "train"
   ]
  },
  {
   "cell_type": "code",
   "execution_count": null,
   "id": "eaf20aa7",
   "metadata": {},
   "outputs": [],
   "source": [
    "df = pd.DataFrame(train[['potential', 'reactions', 'vision', 'short_passing','long_passing',\n",
    "       'ball_control','wage_eur','yhat']])\n",
    "df.head()"
   ]
  },
  {
   "cell_type": "code",
   "execution_count": null,
   "id": "8e7313bc",
   "metadata": {},
   "outputs": [],
   "source": [
    "#creating a baseline from the mean of the target variable\n",
    "baseline = y.mean()\n",
    "df['baseline'] = y.wage_eur.mean()\n",
    "# turning baseline to int from float\n",
    "df.baseline = df.baseline.astype(int)\n",
    "# residual = actual - predicted\n",
    "df['residual'] = df.wage_eur - df.yhat\n",
    "df['baseline_residual'] = df.wage_eur - df.baseline"
   ]
  },
  {
   "cell_type": "code",
   "execution_count": null,
   "id": "e22ef44d",
   "metadata": {},
   "outputs": [],
   "source": [
    "baseline"
   ]
  },
  {
   "cell_type": "code",
   "execution_count": null,
   "id": "fd0d4f7c",
   "metadata": {},
   "outputs": [],
   "source": [
    "df['residual^2'] = df.residual**2\n",
    "df['baseline_residual^2'] = df.baseline_residual**2\n",
    "\n",
    "df.head()"
   ]
  },
  {
   "cell_type": "code",
   "execution_count": null,
   "id": "3701ed32",
   "metadata": {},
   "outputs": [],
   "source": [
    "SSE = df['residual^2'].sum()\n",
    "SSE_baseline = df['baseline_residual^2'].sum()\n",
    "\n",
    "print('SSE =', \"{:.1f}\".format(SSE))\n",
    "print(\"SSE Baseline =\", \"{:.1f}\".format(SSE_baseline))\n",
    "\n",
    "if SSE < SSE_baseline:\n",
    "    print('SSE is better than baseline')\n",
    "else:\n",
    "    print('baseline is better')"
   ]
  },
  {
   "cell_type": "code",
   "execution_count": null,
   "id": "1c7be17c",
   "metadata": {},
   "outputs": [],
   "source": [
    "MSE = SSE/len(df)\n",
    "MSE_baseline = SSE_baseline/len(df)\n",
    "\n",
    "print(\"MSE = \", \"{:.1f}\".format(MSE))\n",
    "print(\"MSE baseline = \", \"{:.1f}\".format(MSE_baseline))\n",
    "\n",
    "if MSE < MSE_baseline:\n",
    "    print('MSE is better than baseline')\n",
    "else:\n",
    "    print('baseline is better')"
   ]
  },
  {
   "cell_type": "code",
   "execution_count": null,
   "id": "6c0574d4",
   "metadata": {},
   "outputs": [],
   "source": [
    "from math import sqrt\n",
    "RMSE = sqrt(MSE)\n",
    "RMSE_baseline =  sqrt(MSE_baseline)\n",
    "\n",
    "if RMSE < RMSE_baseline:\n",
    "    print('RMSE is better than baseline')\n",
    "else:\n",
    "    print('baseline is better')\n",
    "    \n",
    "print(\"RMSE = \", \"{:.1f}\".format(RMSE))\n",
    "print(\"RMSE baseline = \", \"{:.1f}\".format(RMSE_baseline))"
   ]
  },
  {
   "cell_type": "code",
   "execution_count": null,
   "id": "9a1bbe04",
   "metadata": {},
   "outputs": [],
   "source": [
    "if SSE < SSE_baseline:\n",
    "    print('OLS regression model performs better than the baseline')\n",
    "else:\n",
    "    print('OLS regression model performs worse than the baseline')"
   ]
  },
  {
   "cell_type": "code",
   "execution_count": null,
   "id": "a159259d",
   "metadata": {},
   "outputs": [],
   "source": [
    "# sklearn.metrics.explained_variance_score\n",
    "from sklearn.metrics import explained_variance_score\n",
    "evs = explained_variance_score(df.wage_eur, df.yhat)\n",
    "print('Explained Variance = ', round(evs,3))"
   ]
  },
  {
   "cell_type": "code",
   "execution_count": null,
   "id": "fc17e072",
   "metadata": {},
   "outputs": [],
   "source": [
    "# calculate R2 the easy way:\n",
    "from sklearn.metrics import r2_score\n",
    "r2_score(df.wage_eur, df.yhat)"
   ]
  },
  {
   "cell_type": "code",
   "execution_count": null,
   "id": "9066c006",
   "metadata": {},
   "outputs": [],
   "source": [
    "import statsmodels.api as sm\n",
    "X2 = sm.add_constant(df.potential)\n",
    "est = sm.OLS(df.wage_eur, X2)\n",
    "est2 = est.fit()\n",
    "print(est2.summary())"
   ]
  },
  {
   "cell_type": "code",
   "execution_count": null,
   "id": "b334b76f",
   "metadata": {},
   "outputs": [],
   "source": [
    "def residuals(actual, predicted):\n",
    "    return actual - predicted\n",
    "\n",
    "#sum of squared errors (SSE)\n",
    "def sse(actual, predicted):\n",
    "    return (residuals(actual, predicted) **2).sum()\n",
    "\n",
    "#explained sum of squares (ESS)\n",
    "def ess(actual, predicted):\n",
    "    return ((predicted - actual.mean()) ** 2).sum()\n",
    "\n",
    "#total sum of squares (TSS)\n",
    "def tss(actual):\n",
    "    return ((actual - actual.mean()) ** 2).sum()\n",
    "\n",
    "#mean squared error (MSE)\n",
    "def mse(actual, predicted):\n",
    "    n = actual.shape[0]\n",
    "    return sse(actual, predicted) / n\n",
    "\n",
    "#root mean squared error (RMSE)\n",
    "def rmse(actual, predicted):\n",
    "    return math.sqrt(mse(actual, predicted))\n",
    "\n",
    "# returns r2 scor\n",
    "def r2_score(actual, predicted):\n",
    "    return ess(actual, predicted) / tss(actual)\n",
    "\n",
    "def regression_errors(actual, predicted):\n",
    "    return pd.Series({\n",
    "                        'SSE': sse(actual, predicted),\n",
    "                        'ESS': ess(actual, predicted),\n",
    "                        'TSS': tss(actual),\n",
    "                        'MSE': mse(actual, predicted),\n",
    "                        'RMSE': rmse(actual, predicted),\n",
    "                        })\n",
    "\n",
    "def baseline_mean_errors(actual):\n",
    "    predicted = actual.mean()\n",
    "    return {\n",
    "             'SSE': sse(actual, predicted),\n",
    "             'MSE': mse(actual, predicted),\n",
    "             'RMSE': rmse(actual, predicted),\n",
    "            }\n",
    "\n",
    "def better_than_baseline(actual, predicted):\n",
    "    rmse_baseline = rmse(actual, actual.mean())\n",
    "    rmse_model = rmse(actual, predicted)\n",
    "    return rmse_model < rmse_baseline"
   ]
  },
  {
   "cell_type": "code",
   "execution_count": null,
   "id": "555d62da",
   "metadata": {},
   "outputs": [],
   "source": [
    "actual = y_train.wage_eur\n",
    "predicted = df.yhat\n",
    "residuals = actual - predicted"
   ]
  },
  {
   "cell_type": "code",
   "execution_count": null,
   "id": "28c4507f",
   "metadata": {},
   "outputs": [],
   "source": [
    "def actual_vs_predicted():\n",
    "    # plot to visualize actual vs predicted. \n",
    "    plt.figure(figsize=(16,8))\n",
    "    plt.hist(y_validate.wage_eur, color='blue', alpha=.5, label=\"Actual Final wage_eur\")\n",
    "    plt.hist(y_validate.wage_eur_pred_lm, color='red', alpha=.5, label=\"Model: LinearRegression\")\n",
    "    plt.hist(y_validate.wage_eur_pred_glm, color='yellow', alpha=.5, label=\"Model: TweedieRegressor\")\n",
    "    plt.hist(y_validate.wage_eur_pred_lm2, color='green', alpha=.5, label=\"Model 2nd degree Polynomial\")\n",
    "    plt.xlabel(\"Final wage(eur)\")\n",
    "    plt.ylabel(\"predicted wage_eur\")\n",
    "    plt.title(\"Comparing the Distribution of Actual wage_eur to Distributions of Predicted wage_eur for the Top Models\")\n",
    "    plt.legend()\n",
    "    plt.show()\n",
    "actual_vs_predicted()"
   ]
  },
  {
   "cell_type": "code",
   "execution_count": null,
   "id": "67da25db",
   "metadata": {},
   "outputs": [],
   "source": [
    "y_train"
   ]
  },
  {
   "cell_type": "code",
   "execution_count": null,
   "id": "57bcacdd",
   "metadata": {},
   "outputs": [],
   "source": [
    "metric_df = pd.DataFrame(data=[{\n",
    "    'model': 'mean_baseline', \n",
    "    'RMSE_validate': rmse_validate,\n",
    "        'r^2_validate': explained_variance_score(y_validate.wage_eur, y_validate.wage_eur_pred_mean)}])\n",
    "metric_df = metric_df.append({\n",
    "    'model': 'OLS Regressor', \n",
    "    'RMSE_validate': rmse_validate_lm,\n",
    "    'r^2_validate': explained_variance_score(y_validate.wage_eur, y_validate.wage_eur_pred_lm)}, ignore_index=True)\n",
    "metric_df = metric_df.append({\n",
    "    'model': 'Lasso alpha 1', \n",
    "    'RMSE_validate': rmse_validate_lars,\n",
    "    'r^2_validate': explained_variance_score(y_validate.wage_eur, y_validate.wage_eur_pred_lars)}, ignore_index=True)\n",
    "metric_df = metric_df.append({\n",
    "    'model': 'GLS (Poisson)', \n",
    "    'RMSE_validate': rmse_validate_glm,\n",
    "    'r^2_validate': explained_variance_score(y_validate.wage_eur, y_validate.wage_eur_pred_glm)}, ignore_index=True)\n",
    "metric_df = metric_df.append({\n",
    "    'model': 'Quadratic Model', \n",
    "    'RMSE_validate': rmse_validate_lm2,\n",
    "    'r^2_validate': explained_variance_score(y_validate.wage_eur, y_validate.wage_eur_pred_lm2)}, ignore_index=True)"
   ]
  },
  {
   "cell_type": "code",
   "execution_count": null,
   "id": "55e1a5e3",
   "metadata": {},
   "outputs": [],
   "source": [
    "metric_df  "
   ]
  },
  {
   "cell_type": "code",
   "execution_count": null,
   "id": "b01fa194",
   "metadata": {},
   "outputs": [],
   "source": [
    "y_test = pd.DataFrame(y_test)\n",
    "\n",
    "# predict on test\n",
    "y_test['wage_eur_pred_LINEAR'] = lm.predict(X_test_scaled)\n",
    "\n",
    "# evaluate: rmse\n",
    "rmse_test_lm = mean_squared_error(y_test.wage_eur, y_test.wage_eur_pred_LINEAR)**(1/2)\n",
    "\n",
    "print(\"RMSE for OLS Model using LinearRegression\\nOut-of-Sample Performance: \", rmse_test_lm)\n",
    "\n",
    "y_test = pd.DataFrame(y_test)\n",
    "\n",
    "# predict on test\n",
    "y_test['wage_eur_pred_LASSO'] = lars.predict(X_test_scaled)\n",
    "\n",
    "# evaluate: rmse\n",
    "rmse_test_lars = mean_squared_error(y_test.wage_eur, y_test.wage_eur_pred_LASSO)**(1/2)\n",
    "\n",
    "print(\"RMSE for OLS Model using Lasso\\nOut-of-Sample Performance: \", rmse_test_lars)\n",
    "\n",
    "y_test = pd.DataFrame(y_test)\n",
    "\n",
    "#predict on test\n",
    "y_test['pred_Poly'] = lm2.predict(X_test_degree2)\n",
    "\n",
    "# evaluate: rmse\n",
    "rmse_test = mean_squared_error(y_test.wage_eur, y_test.pred_Poly)**(0.5)\n",
    "\n",
    "print(f\"\"\"\n",
    "RMSE for Polynomial Regressor, degrees=2:\n",
    "Test/Out-of-Sample Performance: {rmse_test}\n",
    "\"\"\")\n",
    "\n",
    "\n",
    "\n",
    "#predict on test\n",
    "y_test['wage_eur_pred_glm'] = glm.predict(X_test_scaled)\n",
    "\n",
    "# evaluate: rmse\n",
    "rmse_test = mean_squared_error(y_test.wage_eur, y_test.wage_eur_pred_glm)**(1/2)\n",
    "print(\"RMSE for GLM using Tweedie, power=1 & alpha=0\\nTraining/In-Sample: \", rmse_train, \n",
    "      \"\\nValidation/Out-of-Sample: \", rmse_validate_glm)\n"
   ]
  },
  {
   "cell_type": "code",
   "execution_count": null,
   "id": "b363bde2",
   "metadata": {},
   "outputs": [],
   "source": [
    "y_test"
   ]
  },
  {
   "cell_type": "code",
   "execution_count": null,
   "id": "92eb38b5",
   "metadata": {},
   "outputs": [],
   "source": [
    "sns.scatterplot(data = y_test)"
   ]
  }
 ],
 "metadata": {
  "kernelspec": {
   "display_name": "Python 3 (ipykernel)",
   "language": "python",
   "name": "python3"
  },
  "language_info": {
   "codemirror_mode": {
    "name": "ipython",
    "version": 3
   },
   "file_extension": ".py",
   "mimetype": "text/x-python",
   "name": "python",
   "nbconvert_exporter": "python",
   "pygments_lexer": "ipython3",
   "version": "3.9.7"
  }
 },
 "nbformat": 4,
 "nbformat_minor": 5
}
