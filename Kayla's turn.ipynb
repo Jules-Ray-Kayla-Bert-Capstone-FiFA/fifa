{
 "cells": [
  {
   "cell_type": "code",
   "execution_count": 1,
   "id": "aa6f23e1",
   "metadata": {},
   "outputs": [
    {
     "name": "stdout",
     "output_type": "stream",
     "text": [
      "Requirement already satisfied: category_encoders in /usr/local/anaconda3/lib/python3.9/site-packages (2.5.0)\n",
      "Requirement already satisfied: numpy>=1.14.0 in /usr/local/anaconda3/lib/python3.9/site-packages (from category_encoders) (1.20.3)\n",
      "Requirement already satisfied: patsy>=0.5.1 in /usr/local/anaconda3/lib/python3.9/site-packages (from category_encoders) (0.5.2)\n",
      "Requirement already satisfied: statsmodels>=0.9.0 in /usr/local/anaconda3/lib/python3.9/site-packages (from category_encoders) (0.12.2)\n",
      "Requirement already satisfied: scikit-learn>=0.20.0 in /usr/local/anaconda3/lib/python3.9/site-packages (from category_encoders) (1.1.1)\n",
      "Requirement already satisfied: pandas>=1.0.5 in /usr/local/anaconda3/lib/python3.9/site-packages (from category_encoders) (1.3.4)\n",
      "Requirement already satisfied: scipy>=1.0.0 in /usr/local/anaconda3/lib/python3.9/site-packages (from category_encoders) (1.7.1)\n",
      "Requirement already satisfied: python-dateutil>=2.7.3 in /usr/local/anaconda3/lib/python3.9/site-packages (from pandas>=1.0.5->category_encoders) (2.8.2)\n",
      "Requirement already satisfied: pytz>=2017.3 in /usr/local/anaconda3/lib/python3.9/site-packages (from pandas>=1.0.5->category_encoders) (2021.3)\n",
      "Requirement already satisfied: six in /usr/local/anaconda3/lib/python3.9/site-packages (from patsy>=0.5.1->category_encoders) (1.16.0)\n",
      "Requirement already satisfied: threadpoolctl>=2.0.0 in /usr/local/anaconda3/lib/python3.9/site-packages (from scikit-learn>=0.20.0->category_encoders) (2.2.0)\n",
      "Requirement already satisfied: joblib>=1.0.0 in /usr/local/anaconda3/lib/python3.9/site-packages (from scikit-learn>=0.20.0->category_encoders) (1.1.0)\n",
      "\n",
      "\u001b[1m[\u001b[0m\u001b[34;49mnotice\u001b[0m\u001b[1;39;49m]\u001b[0m\u001b[39;49m A new release of pip available: \u001b[0m\u001b[31;49m22.1.2\u001b[0m\u001b[39;49m -> \u001b[0m\u001b[32;49m22.2.2\u001b[0m\n",
      "\u001b[1m[\u001b[0m\u001b[34;49mnotice\u001b[0m\u001b[1;39;49m]\u001b[0m\u001b[39;49m To update, run: \u001b[0m\u001b[32;49mpip install --upgrade pip\u001b[0m\n",
      "Note: you may need to restart the kernel to use updated packages.\n"
     ]
    }
   ],
   "source": [
    "pip install category_encoders"
   ]
  },
  {
   "cell_type": "code",
   "execution_count": 2,
   "id": "aaca1a7c",
   "metadata": {},
   "outputs": [],
   "source": [
    "# STANDARD LIBRARIES\n",
    "import os\n",
    "import warnings\n",
    "warnings.filterwarnings(\"ignore\")\n",
    "\n",
    "# THIRD PARTY LIBRARIES\n",
    "import numpy as np\n",
    "import matplotlib.pyplot as plt\n",
    "import pandas as pd\n",
    "import seaborn as sns\n",
    "\n",
    "import scipy.stats as stats\n",
    "import category_encoders as ce\n",
    "\n",
    "#statistical tests\n",
    "from scipy import stats\n",
    "from scipy.stats import pearsonr, spearmanr\n",
    "\n",
    "\n",
    "\n",
    "# default pandas decimal number display format\n",
    "pd.options.display.float_format = '{:20,.2f}'.format\n",
    "from sklearn import preprocessing\n",
    "\n",
    "from sklearn.model_selection import train_test_split\n",
    "from sklearn.impute import SimpleImputer\n",
    "from sklearn.feature_selection import RFE\n",
    "from sklearn.metrics import mean_squared_error\n",
    "from sklearn.preprocessing import MinMaxScaler\n",
    "import sklearn.linear_model\n",
    "import sklearn.feature_selection\n",
    "import sklearn.preprocessing\n",
    "from sklearn.feature_selection import SelectKBest, f_regression\n",
    "from sklearn.linear_model import LinearRegression, LassoLars, TweedieRegressor\n",
    "from sklearn.preprocessing import PolynomialFeatures\n",
    "import plotly.express as px\n",
    "from sklearn.cluster import KMeans\n",
    "from sklearn.feature_selection import RFE\n",
    "import matplotlib\n",
    "from sklearn.preprocessing import MinMaxScaler, StandardScaler, RobustScaler, QuantileTransformer\n",
    "from math import sqrt"
   ]
  },
  {
   "cell_type": "code",
   "execution_count": 3,
   "id": "92d518bd",
   "metadata": {},
   "outputs": [],
   "source": [
    "import acquire \n",
    "import prepare"
   ]
  },
  {
   "cell_type": "code",
   "execution_count": 4,
   "id": "73621878",
   "metadata": {},
   "outputs": [],
   "source": [
    "df = acquire.get_fifa_data()"
   ]
  },
  {
   "cell_type": "code",
   "execution_count": 5,
   "id": "a3cd7a20",
   "metadata": {},
   "outputs": [
    {
     "name": "stdout",
     "output_type": "stream",
     "text": [
      "Before dropping nulls, 142079 rows, 111 cols\n",
      "After dropping nulls. 131489 rows. 66 cols\n",
      "After cleaning the data and adding additional columns there are: 98804 rows. 83 cols\n"
     ]
    }
   ],
   "source": [
    "df = prepare.prepped_data(df)"
   ]
  },
  {
   "cell_type": "code",
   "execution_count": 6,
   "id": "74b25626",
   "metadata": {},
   "outputs": [],
   "source": [
    "goalkeeper_df, forward_df, midfielder_df, defender_df = prepare.acquire_players_by_position(df)"
   ]
  },
  {
   "cell_type": "code",
   "execution_count": null,
   "id": "d1f0881a",
   "metadata": {},
   "outputs": [],
   "source": []
  },
  {
   "cell_type": "code",
   "execution_count": null,
   "id": "b9d7bba8",
   "metadata": {},
   "outputs": [],
   "source": []
  },
  {
   "cell_type": "markdown",
   "id": "f735bb8c",
   "metadata": {},
   "source": [
    "# Step 1: Assign all player positions to a dataframe"
   ]
  },
  {
   "cell_type": "code",
   "execution_count": null,
   "id": "8decc968",
   "metadata": {},
   "outputs": [],
   "source": [
    "#GK\n",
    "goalkeepers = df[(df.club_position == 'GK')]"
   ]
  },
  {
   "cell_type": "code",
   "execution_count": null,
   "id": "916ac9c7",
   "metadata": {},
   "outputs": [],
   "source": [
    "goalkeepers.shape"
   ]
  },
  {
   "cell_type": "code",
   "execution_count": null,
   "id": "902e0f9f",
   "metadata": {},
   "outputs": [],
   "source": [
    "#ST, RS, LS, LW, RW, LF, CF\n",
    "forwards = df[(df.club_position == 'ST') | (df.club_position == 'RS') | (df.club_position == 'LS') | (df.club_position == 'LW') | (df.club_position == 'RW') | (df.club_position == 'LF') | (df.club_position == 'CF')]\n"
   ]
  },
  {
   "cell_type": "code",
   "execution_count": null,
   "id": "848c38b4",
   "metadata": {},
   "outputs": [],
   "source": [
    "forwards.shape"
   ]
  },
  {
   "cell_type": "code",
   "execution_count": null,
   "id": "c08429f1",
   "metadata": {},
   "outputs": [],
   "source": [
    "#LCM, RCM, RM, LM, CAM, LDM, RDM, CDM, LAM, RAM \n",
    "midfielders = df[(df.club_position == 'LCM') | (df.club_position == 'RCM') | (df.club_position == 'RM') | (df.club_position == 'LM') | (df.club_position == 'CAM') | (df.club_position == 'LDM') | (df.club_position == 'RDM') | (df.club_position == 'CDM') | (df.club_position == 'LAM') | (df.club_position == 'RAM')] \n"
   ]
  },
  {
   "cell_type": "code",
   "execution_count": null,
   "id": "fda7fa6a",
   "metadata": {},
   "outputs": [],
   "source": [
    "midfielders.shape"
   ]
  },
  {
   "cell_type": "code",
   "execution_count": null,
   "id": "95c6dfed",
   "metadata": {},
   "outputs": [],
   "source": [
    "#RCB, LCB, LB, RB, CB, RWB, LWB\n",
    "defenders = df[(df.club_position == 'RCB') | (df.club_position == 'LCB') | (df.club_position == 'LB') | (df.club_position == 'RB') | (df.club_position == 'CB') | (df.club_position == 'RWB') | (df.club_position == 'LWB')]"
   ]
  },
  {
   "cell_type": "code",
   "execution_count": null,
   "id": "129063db",
   "metadata": {},
   "outputs": [],
   "source": [
    "defenders.shape"
   ]
  },
  {
   "cell_type": "code",
   "execution_count": null,
   "id": "0c1962e2",
   "metadata": {},
   "outputs": [],
   "source": [
    "reserve = df[df.club_position == 'RES']\n"
   ]
  },
  {
   "cell_type": "code",
   "execution_count": null,
   "id": "8d55b888",
   "metadata": {},
   "outputs": [],
   "source": [
    "reserve.shape"
   ]
  },
  {
   "cell_type": "code",
   "execution_count": null,
   "id": "24ca101b",
   "metadata": {},
   "outputs": [],
   "source": [
    "substitute = df[df.club_position == 'SUB']"
   ]
  },
  {
   "cell_type": "code",
   "execution_count": null,
   "id": "407d039c",
   "metadata": {},
   "outputs": [],
   "source": [
    "substitute.shape"
   ]
  },
  {
   "cell_type": "code",
   "execution_count": null,
   "id": "c588663c",
   "metadata": {},
   "outputs": [],
   "source": [
    "df.shape"
   ]
  },
  {
   "cell_type": "markdown",
   "id": "a930e7b2",
   "metadata": {},
   "source": [
    "# Step 2: Separate RESERVE Player dataframe by player position"
   ]
  },
  {
   "cell_type": "code",
   "execution_count": null,
   "id": "7a8e336b",
   "metadata": {},
   "outputs": [],
   "source": [
    "reserve.shape"
   ]
  },
  {
   "cell_type": "code",
   "execution_count": null,
   "id": "22a8139b",
   "metadata": {},
   "outputs": [],
   "source": [
    "reserve['player_positions'] = reserve['player_positions'].str.split(',').str[0]"
   ]
  },
  {
   "cell_type": "code",
   "execution_count": null,
   "id": "a1512ee2",
   "metadata": {},
   "outputs": [],
   "source": [
    "df_reserve_goalkeepers = reserve[reserve.player_positions == 'GK']"
   ]
  },
  {
   "cell_type": "code",
   "execution_count": null,
   "id": "e50884b9",
   "metadata": {},
   "outputs": [],
   "source": [
    "df_reserve_goalkeepers.shape"
   ]
  },
  {
   "cell_type": "code",
   "execution_count": null,
   "id": "ec77fd4d",
   "metadata": {},
   "outputs": [],
   "source": [
    "#ST, RS, LS, LW, RW, LF, CF\n",
    "df_reserve_forwards = reserve[(reserve.player_positions == 'ST') | (reserve.player_positions == 'RW') | (reserve.player_positions == 'LW') | (reserve.player_positions == 'CF')]"
   ]
  },
  {
   "cell_type": "code",
   "execution_count": null,
   "id": "56c62315",
   "metadata": {},
   "outputs": [],
   "source": [
    "df_reserve_forwards.shape"
   ]
  },
  {
   "cell_type": "code",
   "execution_count": null,
   "id": "588965b5",
   "metadata": {},
   "outputs": [],
   "source": [
    "#LCM, RCM, RM, LM, CAM, LDM, RDM, CDM, LAM, RAM \n",
    "df_reserve_midfielders = reserve[(reserve.player_positions == 'CM') | (reserve.player_positions == 'CDM') | (reserve.player_positions == 'CAM') | (reserve.player_positions == 'RM') | (reserve.player_positions == 'LM')]"
   ]
  },
  {
   "cell_type": "code",
   "execution_count": null,
   "id": "aaea5183",
   "metadata": {},
   "outputs": [],
   "source": [
    "df_reserve_midfielders.shape"
   ]
  },
  {
   "cell_type": "code",
   "execution_count": null,
   "id": "bcec7dc9",
   "metadata": {},
   "outputs": [],
   "source": [
    "#RCB, LCB, LB, RB, CB, RWB, LWB\n",
    "df_reserve_defenders = reserve[(reserve.player_positions == 'CB') | (reserve.player_positions == 'LB') | (reserve.player_positions == 'RB') | (reserve.player_positions == 'LWB') | (reserve.player_positions == 'RWB')]"
   ]
  },
  {
   "cell_type": "code",
   "execution_count": null,
   "id": "73e20882",
   "metadata": {},
   "outputs": [],
   "source": [
    "df_reserve_defenders.shape"
   ]
  },
  {
   "cell_type": "markdown",
   "id": "a887d653",
   "metadata": {},
   "source": [
    "# Step 3: Separate SUBSTITUTE Player dataframe by player position"
   ]
  },
  {
   "cell_type": "code",
   "execution_count": null,
   "id": "aeea8e55",
   "metadata": {},
   "outputs": [],
   "source": [
    "substitute.shape"
   ]
  },
  {
   "cell_type": "code",
   "execution_count": null,
   "id": "5812a7a2",
   "metadata": {},
   "outputs": [],
   "source": [
    "substitute['player_positions'] = substitute['player_positions'].str.split(',').str[0]\n"
   ]
  },
  {
   "cell_type": "code",
   "execution_count": null,
   "id": "eb0da29e",
   "metadata": {},
   "outputs": [],
   "source": [
    "df_substitute_goalkeeper = substitute[substitute.player_positions == 'GK']"
   ]
  },
  {
   "cell_type": "code",
   "execution_count": null,
   "id": "d7d99332",
   "metadata": {},
   "outputs": [],
   "source": [
    "df_substitute_goalkeeper.shape"
   ]
  },
  {
   "cell_type": "code",
   "execution_count": null,
   "id": "7c62f12c",
   "metadata": {},
   "outputs": [],
   "source": [
    "df_substitute_forward = substitute[(substitute.player_positions == 'ST') | (substitute.player_positions == 'RW') | (substitute.player_positions == 'LW') | (substitute.player_positions == 'CF')]"
   ]
  },
  {
   "cell_type": "code",
   "execution_count": null,
   "id": "b483822f",
   "metadata": {},
   "outputs": [],
   "source": [
    "df_substitute_forward.shape"
   ]
  },
  {
   "cell_type": "code",
   "execution_count": null,
   "id": "76a1bcee",
   "metadata": {},
   "outputs": [],
   "source": [
    "df_substitute_midfielders = substitute[(substitute.player_positions == 'CM') | (substitute.player_positions == 'CDM') | (substitute.player_positions == 'CAM') | (substitute.player_positions == 'LM') | (substitute.player_positions == 'RM')]"
   ]
  },
  {
   "cell_type": "code",
   "execution_count": null,
   "id": "2e718301",
   "metadata": {},
   "outputs": [],
   "source": [
    "df_substitute_midfielders.shape"
   ]
  },
  {
   "cell_type": "code",
   "execution_count": null,
   "id": "5096608e",
   "metadata": {},
   "outputs": [],
   "source": [
    "df_substitute_defenders = substitute[(substitute.player_positions == 'CB') | (substitute.player_positions == 'LB') | (substitute.player_positions == 'RB') | (substitute.player_positions == 'RWB') | (substitute.player_positions == 'LWB')]"
   ]
  },
  {
   "cell_type": "code",
   "execution_count": null,
   "id": "1242a8b9",
   "metadata": {},
   "outputs": [],
   "source": [
    "df_substitute_defenders.shape"
   ]
  },
  {
   "cell_type": "markdown",
   "id": "bb4167c0",
   "metadata": {},
   "source": [
    "# Step 4: Concat Dataframes together \n"
   ]
  },
  {
   "cell_type": "code",
   "execution_count": null,
   "id": "2a1d5ad4",
   "metadata": {},
   "outputs": [],
   "source": [
    "goalkeeper_df = pd.concat([goalkeepers, df_substitute_goalkeeper, df_reserve_goalkeepers], axis=0)"
   ]
  },
  {
   "cell_type": "code",
   "execution_count": null,
   "id": "41200828",
   "metadata": {},
   "outputs": [],
   "source": [
    "forward_df = pd.concat([forwards, df_substitute_forward, df_reserve_forwards], axis=0)"
   ]
  },
  {
   "cell_type": "code",
   "execution_count": null,
   "id": "6ee87dd0",
   "metadata": {},
   "outputs": [],
   "source": [
    "midfielder_df = pd.concat([midfielders, df_substitute_midfielders, df_reserve_midfielders], axis=0)"
   ]
  },
  {
   "cell_type": "code",
   "execution_count": null,
   "id": "66418fee",
   "metadata": {},
   "outputs": [],
   "source": [
    "defender_df = pd.concat([defenders, df_substitute_defenders, df_reserve_defenders], axis=0)"
   ]
  },
  {
   "cell_type": "markdown",
   "id": "6fa723ed",
   "metadata": {},
   "source": [
    "# Step 5: Correlation for each position"
   ]
  },
  {
   "cell_type": "code",
   "execution_count": null,
   "id": "2241b543",
   "metadata": {},
   "outputs": [],
   "source": [
    "goalkeeper_df.corr()[['wage_eur']].sort_values(by='wage_eur', ascending=False).head(17)"
   ]
  },
  {
   "cell_type": "code",
   "execution_count": null,
   "id": "75d27af0",
   "metadata": {},
   "outputs": [],
   "source": [
    "forward_df.corr()[['wage_eur']].sort_values(by='wage_eur', ascending=False).head(10)"
   ]
  },
  {
   "cell_type": "code",
   "execution_count": null,
   "id": "2552c4dc",
   "metadata": {},
   "outputs": [],
   "source": [
    "midfielder_df.corr()[['wage_eur']].sort_values(by='wage_eur', ascending=False).head(10)"
   ]
  },
  {
   "cell_type": "code",
   "execution_count": null,
   "id": "0fa2e1a6",
   "metadata": {},
   "outputs": [],
   "source": [
    "defender_df.corr()[['wage_eur']].sort_values(by='wage_eur', ascending=False).head(15)"
   ]
  },
  {
   "cell_type": "markdown",
   "id": "ce573127",
   "metadata": {},
   "source": [
    "# Clusters based on Correlation"
   ]
  },
  {
   "cell_type": "markdown",
   "id": "e192930f",
   "metadata": {},
   "source": [
    "_Prepare the Data_"
   ]
  },
  {
   "cell_type": "code",
   "execution_count": 8,
   "id": "3c791b71",
   "metadata": {},
   "outputs": [
    {
     "name": "stdout",
     "output_type": "stream",
     "text": [
      "Train: 6779 rows, 83 cols\n",
      "Validate: 2969 rows, 83 cols\n",
      "Test: 1619 rows, 83 cols\n"
     ]
    }
   ],
   "source": [
    "#split\n",
    "train, validate, test = prepare.split(goalkeeper_df)"
   ]
  },
  {
   "cell_type": "code",
   "execution_count": 9,
   "id": "7b90fd1f",
   "metadata": {},
   "outputs": [],
   "source": [
    "#split data\n",
    "X_train = train.drop(columns=['wage_eur', 'total_wage', 'value_eur'])\n",
    "y_train = train[['wage_eur']]\n",
    "\n",
    "X_validate = validate.drop(columns=['wage_eur', 'total_wage', 'value_eur'])\n",
    "y_validate = validate[['wage_eur']]\n",
    "\n",
    "X_test = test.drop(columns=['wage_eur', 'total_wage', 'value_eur'])\n",
    "y_test = test[['wage_eur']]"
   ]
  },
  {
   "cell_type": "markdown",
   "id": "d130cc2e",
   "metadata": {},
   "source": [
    "_Encode categorical variables_ "
   ]
  },
  {
   "cell_type": "code",
   "execution_count": 10,
   "id": "2a466146",
   "metadata": {},
   "outputs": [
    {
     "data": {
      "text/plain": [
       "(6779, 80)"
      ]
     },
     "execution_count": 10,
     "metadata": {},
     "output_type": "execute_result"
    }
   ],
   "source": [
    "#encode categorical variables\n",
    "encoder = ce.LeaveOneOutEncoder(return_df=True)\n",
    "X_train_loo = encoder.fit_transform(X_train, y_train)\n",
    "X_test_loo = encoder.transform(X_test)\n",
    "X_train_loo.shape"
   ]
  },
  {
   "cell_type": "code",
   "execution_count": 11,
   "id": "2a50587e",
   "metadata": {},
   "outputs": [
    {
     "data": {
      "text/plain": [
       "(6779, 80)"
      ]
     },
     "execution_count": 11,
     "metadata": {},
     "output_type": "execute_result"
    }
   ],
   "source": [
    "#scale data \n",
    "scaler = RobustScaler()\n",
    "X_train_scaled = scaler.fit_transform(X_train_loo, y_train)\n",
    "X_train_scaled.shape"
   ]
  },
  {
   "cell_type": "code",
   "execution_count": 12,
   "id": "3c5686ff",
   "metadata": {},
   "outputs": [
    {
     "data": {
      "text/html": [
       "<div>\n",
       "<style scoped>\n",
       "    .dataframe tbody tr th:only-of-type {\n",
       "        vertical-align: middle;\n",
       "    }\n",
       "\n",
       "    .dataframe tbody tr th {\n",
       "        vertical-align: top;\n",
       "    }\n",
       "\n",
       "    .dataframe thead th {\n",
       "        text-align: right;\n",
       "    }\n",
       "</style>\n",
       "<table border=\"1\" class=\"dataframe\">\n",
       "  <thead>\n",
       "    <tr style=\"text-align: right;\">\n",
       "      <th></th>\n",
       "      <th>sofifa_id</th>\n",
       "      <th>short_name</th>\n",
       "      <th>player_positions</th>\n",
       "      <th>overall</th>\n",
       "      <th>potential</th>\n",
       "      <th>age</th>\n",
       "      <th>height_cm</th>\n",
       "      <th>weight_kg</th>\n",
       "      <th>club_team_id</th>\n",
       "      <th>club_name</th>\n",
       "      <th>...</th>\n",
       "      <th>league_yr_sum</th>\n",
       "      <th>club_name_yr_sum</th>\n",
       "      <th>seniority</th>\n",
       "      <th>club_position_encoded</th>\n",
       "      <th>work_rate_encoded</th>\n",
       "      <th>preferred_foot_encoded</th>\n",
       "      <th>age_bins_encoded</th>\n",
       "      <th>weight_bins_encoded</th>\n",
       "      <th>body_type_encoded</th>\n",
       "      <th>league_encoded</th>\n",
       "    </tr>\n",
       "  </thead>\n",
       "  <tbody>\n",
       "    <tr>\n",
       "      <th>count</th>\n",
       "      <td>6,779.00</td>\n",
       "      <td>6,779.00</td>\n",
       "      <td>6,779.00</td>\n",
       "      <td>6,779.00</td>\n",
       "      <td>6,779.00</td>\n",
       "      <td>6,779.00</td>\n",
       "      <td>6,779.00</td>\n",
       "      <td>6,779.00</td>\n",
       "      <td>6,779.00</td>\n",
       "      <td>6,779.00</td>\n",
       "      <td>...</td>\n",
       "      <td>6,779.00</td>\n",
       "      <td>6,779.00</td>\n",
       "      <td>6,779.00</td>\n",
       "      <td>6,779.00</td>\n",
       "      <td>6,779.00</td>\n",
       "      <td>6,779.00</td>\n",
       "      <td>6,779.00</td>\n",
       "      <td>6,779.00</td>\n",
       "      <td>6,779.00</td>\n",
       "      <td>6,779.00</td>\n",
       "    </tr>\n",
       "    <tr>\n",
       "      <th>mean</th>\n",
       "      <td>-0.28</td>\n",
       "      <td>0.62</td>\n",
       "      <td>-0.90</td>\n",
       "      <td>0.06</td>\n",
       "      <td>0.01</td>\n",
       "      <td>0.03</td>\n",
       "      <td>-0.01</td>\n",
       "      <td>0.03</td>\n",
       "      <td>0.40</td>\n",
       "      <td>0.49</td>\n",
       "      <td>...</td>\n",
       "      <td>0.55</td>\n",
       "      <td>0.59</td>\n",
       "      <td>0.40</td>\n",
       "      <td>-0.02</td>\n",
       "      <td>0.00</td>\n",
       "      <td>-0.10</td>\n",
       "      <td>0.29</td>\n",
       "      <td>467.16</td>\n",
       "      <td>0.06</td>\n",
       "      <td>0.22</td>\n",
       "    </tr>\n",
       "    <tr>\n",
       "      <th>std</th>\n",
       "      <td>0.98</td>\n",
       "      <td>2.27</td>\n",
       "      <td>2.74</td>\n",
       "      <td>0.74</td>\n",
       "      <td>0.69</td>\n",
       "      <td>0.69</td>\n",
       "      <td>0.79</td>\n",
       "      <td>0.78</td>\n",
       "      <td>0.48</td>\n",
       "      <td>1.31</td>\n",
       "      <td>...</td>\n",
       "      <td>1.30</td>\n",
       "      <td>1.66</td>\n",
       "      <td>0.90</td>\n",
       "      <td>0.86</td>\n",
       "      <td>0.00</td>\n",
       "      <td>0.30</td>\n",
       "      <td>0.45</td>\n",
       "      <td>1,691.53</td>\n",
       "      <td>1.35</td>\n",
       "      <td>0.81</td>\n",
       "    </tr>\n",
       "    <tr>\n",
       "      <th>min</th>\n",
       "      <td>-4.67</td>\n",
       "      <td>-0.77</td>\n",
       "      <td>-37.00</td>\n",
       "      <td>-1.73</td>\n",
       "      <td>-2.20</td>\n",
       "      <td>-1.25</td>\n",
       "      <td>-3.83</td>\n",
       "      <td>-3.00</td>\n",
       "      <td>-0.02</td>\n",
       "      <td>-0.46</td>\n",
       "      <td>...</td>\n",
       "      <td>-0.56</td>\n",
       "      <td>-0.40</td>\n",
       "      <td>-0.33</td>\n",
       "      <td>-1.00</td>\n",
       "      <td>0.00</td>\n",
       "      <td>-1.00</td>\n",
       "      <td>-0.01</td>\n",
       "      <td>-5,906.01</td>\n",
       "      <td>-3.00</td>\n",
       "      <td>-0.71</td>\n",
       "    </tr>\n",
       "    <tr>\n",
       "      <th>25%</th>\n",
       "      <td>-0.62</td>\n",
       "      <td>-0.54</td>\n",
       "      <td>-0.75</td>\n",
       "      <td>-0.45</td>\n",
       "      <td>-0.50</td>\n",
       "      <td>-0.50</td>\n",
       "      <td>-0.50</td>\n",
       "      <td>-0.50</td>\n",
       "      <td>-0.01</td>\n",
       "      <td>-0.26</td>\n",
       "      <td>...</td>\n",
       "      <td>-0.34</td>\n",
       "      <td>-0.22</td>\n",
       "      <td>-0.33</td>\n",
       "      <td>-1.00</td>\n",
       "      <td>0.00</td>\n",
       "      <td>0.00</td>\n",
       "      <td>-0.00</td>\n",
       "      <td>-0.71</td>\n",
       "      <td>0.00</td>\n",
       "      <td>-0.36</td>\n",
       "    </tr>\n",
       "    <tr>\n",
       "      <th>50%</th>\n",
       "      <td>0.00</td>\n",
       "      <td>0.00</td>\n",
       "      <td>0.00</td>\n",
       "      <td>0.00</td>\n",
       "      <td>0.00</td>\n",
       "      <td>0.00</td>\n",
       "      <td>0.00</td>\n",
       "      <td>0.00</td>\n",
       "      <td>0.00</td>\n",
       "      <td>0.00</td>\n",
       "      <td>...</td>\n",
       "      <td>0.00</td>\n",
       "      <td>0.00</td>\n",
       "      <td>0.00</td>\n",
       "      <td>0.00</td>\n",
       "      <td>0.00</td>\n",
       "      <td>0.00</td>\n",
       "      <td>0.00</td>\n",
       "      <td>0.00</td>\n",
       "      <td>0.00</td>\n",
       "      <td>0.00</td>\n",
       "    </tr>\n",
       "    <tr>\n",
       "      <th>75%</th>\n",
       "      <td>0.38</td>\n",
       "      <td>0.46</td>\n",
       "      <td>0.25</td>\n",
       "      <td>0.55</td>\n",
       "      <td>0.50</td>\n",
       "      <td>0.50</td>\n",
       "      <td>0.50</td>\n",
       "      <td>0.50</td>\n",
       "      <td>0.99</td>\n",
       "      <td>0.74</td>\n",
       "      <td>...</td>\n",
       "      <td>0.66</td>\n",
       "      <td>0.78</td>\n",
       "      <td>0.67</td>\n",
       "      <td>0.00</td>\n",
       "      <td>0.00</td>\n",
       "      <td>0.00</td>\n",
       "      <td>1.00</td>\n",
       "      <td>0.29</td>\n",
       "      <td>0.00</td>\n",
       "      <td>0.64</td>\n",
       "    </tr>\n",
       "    <tr>\n",
       "      <th>max</th>\n",
       "      <td>0.83</td>\n",
       "      <td>27.82</td>\n",
       "      <td>0.44</td>\n",
       "      <td>2.55</td>\n",
       "      <td>2.50</td>\n",
       "      <td>2.38</td>\n",
       "      <td>3.33</td>\n",
       "      <td>3.50</td>\n",
       "      <td>1.01</td>\n",
       "      <td>8.72</td>\n",
       "      <td>...</td>\n",
       "      <td>4.63</td>\n",
       "      <td>12.79</td>\n",
       "      <td>8.67</td>\n",
       "      <td>1.43</td>\n",
       "      <td>0.00</td>\n",
       "      <td>0.00</td>\n",
       "      <td>1.00</td>\n",
       "      <td>4,359.85</td>\n",
       "      <td>6.00</td>\n",
       "      <td>2.64</td>\n",
       "    </tr>\n",
       "  </tbody>\n",
       "</table>\n",
       "<p>8 rows × 80 columns</p>\n",
       "</div>"
      ],
      "text/plain": [
       "                 sofifa_id           short_name     player_positions  \\\n",
       "count             6,779.00             6,779.00             6,779.00   \n",
       "mean                 -0.28                 0.62                -0.90   \n",
       "std                   0.98                 2.27                 2.74   \n",
       "min                  -4.67                -0.77               -37.00   \n",
       "25%                  -0.62                -0.54                -0.75   \n",
       "50%                   0.00                 0.00                 0.00   \n",
       "75%                   0.38                 0.46                 0.25   \n",
       "max                   0.83                27.82                 0.44   \n",
       "\n",
       "                   overall            potential                  age  \\\n",
       "count             6,779.00             6,779.00             6,779.00   \n",
       "mean                  0.06                 0.01                 0.03   \n",
       "std                   0.74                 0.69                 0.69   \n",
       "min                  -1.73                -2.20                -1.25   \n",
       "25%                  -0.45                -0.50                -0.50   \n",
       "50%                   0.00                 0.00                 0.00   \n",
       "75%                   0.55                 0.50                 0.50   \n",
       "max                   2.55                 2.50                 2.38   \n",
       "\n",
       "                 height_cm            weight_kg         club_team_id  \\\n",
       "count             6,779.00             6,779.00             6,779.00   \n",
       "mean                 -0.01                 0.03                 0.40   \n",
       "std                   0.79                 0.78                 0.48   \n",
       "min                  -3.83                -3.00                -0.02   \n",
       "25%                  -0.50                -0.50                -0.01   \n",
       "50%                   0.00                 0.00                 0.00   \n",
       "75%                   0.50                 0.50                 0.99   \n",
       "max                   3.33                 3.50                 1.01   \n",
       "\n",
       "                 club_name  ...        league_yr_sum     club_name_yr_sum  \\\n",
       "count             6,779.00  ...             6,779.00             6,779.00   \n",
       "mean                  0.49  ...                 0.55                 0.59   \n",
       "std                   1.31  ...                 1.30                 1.66   \n",
       "min                  -0.46  ...                -0.56                -0.40   \n",
       "25%                  -0.26  ...                -0.34                -0.22   \n",
       "50%                   0.00  ...                 0.00                 0.00   \n",
       "75%                   0.74  ...                 0.66                 0.78   \n",
       "max                   8.72  ...                 4.63                12.79   \n",
       "\n",
       "                 seniority  club_position_encoded    work_rate_encoded  \\\n",
       "count             6,779.00               6,779.00             6,779.00   \n",
       "mean                  0.40                  -0.02                 0.00   \n",
       "std                   0.90                   0.86                 0.00   \n",
       "min                  -0.33                  -1.00                 0.00   \n",
       "25%                  -0.33                  -1.00                 0.00   \n",
       "50%                   0.00                   0.00                 0.00   \n",
       "75%                   0.67                   0.00                 0.00   \n",
       "max                   8.67                   1.43                 0.00   \n",
       "\n",
       "       preferred_foot_encoded     age_bins_encoded  weight_bins_encoded  \\\n",
       "count                6,779.00             6,779.00             6,779.00   \n",
       "mean                    -0.10                 0.29               467.16   \n",
       "std                      0.30                 0.45             1,691.53   \n",
       "min                     -1.00                -0.01            -5,906.01   \n",
       "25%                      0.00                -0.00                -0.71   \n",
       "50%                      0.00                 0.00                 0.00   \n",
       "75%                      0.00                 1.00                 0.29   \n",
       "max                      0.00                 1.00             4,359.85   \n",
       "\n",
       "         body_type_encoded       league_encoded  \n",
       "count             6,779.00             6,779.00  \n",
       "mean                  0.06                 0.22  \n",
       "std                   1.35                 0.81  \n",
       "min                  -3.00                -0.71  \n",
       "25%                   0.00                -0.36  \n",
       "50%                   0.00                 0.00  \n",
       "75%                   0.00                 0.64  \n",
       "max                   6.00                 2.64  \n",
       "\n",
       "[8 rows x 80 columns]"
      ]
     },
     "execution_count": 12,
     "metadata": {},
     "output_type": "execute_result"
    }
   ],
   "source": [
    "X_train_scaled_df = pd.DataFrame(X_train_scaled, columns=X_train.columns)\n",
    "X_train_scaled_df.describe()"
   ]
  },
  {
   "cell_type": "markdown",
   "id": "ac726d86",
   "metadata": {},
   "source": [
    "# Goalkeeper Clusters"
   ]
  },
  {
   "cell_type": "markdown",
   "id": "769596f3",
   "metadata": {},
   "source": [
    "#### ANOVA test on gk_handling, gk_diving, gk_reflexes"
   ]
  },
  {
   "cell_type": "code",
   "execution_count": 13,
   "id": "7143da22",
   "metadata": {},
   "outputs": [
    {
     "data": {
      "text/html": [
       "<style>#sk-container-id-1 {color: black;background-color: white;}#sk-container-id-1 pre{padding: 0;}#sk-container-id-1 div.sk-toggleable {background-color: white;}#sk-container-id-1 label.sk-toggleable__label {cursor: pointer;display: block;width: 100%;margin-bottom: 0;padding: 0.3em;box-sizing: border-box;text-align: center;}#sk-container-id-1 label.sk-toggleable__label-arrow:before {content: \"▸\";float: left;margin-right: 0.25em;color: #696969;}#sk-container-id-1 label.sk-toggleable__label-arrow:hover:before {color: black;}#sk-container-id-1 div.sk-estimator:hover label.sk-toggleable__label-arrow:before {color: black;}#sk-container-id-1 div.sk-toggleable__content {max-height: 0;max-width: 0;overflow: hidden;text-align: left;background-color: #f0f8ff;}#sk-container-id-1 div.sk-toggleable__content pre {margin: 0.2em;color: black;border-radius: 0.25em;background-color: #f0f8ff;}#sk-container-id-1 input.sk-toggleable__control:checked~div.sk-toggleable__content {max-height: 200px;max-width: 100%;overflow: auto;}#sk-container-id-1 input.sk-toggleable__control:checked~label.sk-toggleable__label-arrow:before {content: \"▾\";}#sk-container-id-1 div.sk-estimator input.sk-toggleable__control:checked~label.sk-toggleable__label {background-color: #d4ebff;}#sk-container-id-1 div.sk-label input.sk-toggleable__control:checked~label.sk-toggleable__label {background-color: #d4ebff;}#sk-container-id-1 input.sk-hidden--visually {border: 0;clip: rect(1px 1px 1px 1px);clip: rect(1px, 1px, 1px, 1px);height: 1px;margin: -1px;overflow: hidden;padding: 0;position: absolute;width: 1px;}#sk-container-id-1 div.sk-estimator {font-family: monospace;background-color: #f0f8ff;border: 1px dotted black;border-radius: 0.25em;box-sizing: border-box;margin-bottom: 0.5em;}#sk-container-id-1 div.sk-estimator:hover {background-color: #d4ebff;}#sk-container-id-1 div.sk-parallel-item::after {content: \"\";width: 100%;border-bottom: 1px solid gray;flex-grow: 1;}#sk-container-id-1 div.sk-label:hover label.sk-toggleable__label {background-color: #d4ebff;}#sk-container-id-1 div.sk-serial::before {content: \"\";position: absolute;border-left: 1px solid gray;box-sizing: border-box;top: 0;bottom: 0;left: 50%;z-index: 0;}#sk-container-id-1 div.sk-serial {display: flex;flex-direction: column;align-items: center;background-color: white;padding-right: 0.2em;padding-left: 0.2em;position: relative;}#sk-container-id-1 div.sk-item {position: relative;z-index: 1;}#sk-container-id-1 div.sk-parallel {display: flex;align-items: stretch;justify-content: center;background-color: white;position: relative;}#sk-container-id-1 div.sk-item::before, #sk-container-id-1 div.sk-parallel-item::before {content: \"\";position: absolute;border-left: 1px solid gray;box-sizing: border-box;top: 0;bottom: 0;left: 50%;z-index: -1;}#sk-container-id-1 div.sk-parallel-item {display: flex;flex-direction: column;z-index: 1;position: relative;background-color: white;}#sk-container-id-1 div.sk-parallel-item:first-child::after {align-self: flex-end;width: 50%;}#sk-container-id-1 div.sk-parallel-item:last-child::after {align-self: flex-start;width: 50%;}#sk-container-id-1 div.sk-parallel-item:only-child::after {width: 0;}#sk-container-id-1 div.sk-dashed-wrapped {border: 1px dashed gray;margin: 0 0.4em 0.5em 0.4em;box-sizing: border-box;padding-bottom: 0.4em;background-color: white;}#sk-container-id-1 div.sk-label label {font-family: monospace;font-weight: bold;display: inline-block;line-height: 1.2em;}#sk-container-id-1 div.sk-label-container {text-align: center;}#sk-container-id-1 div.sk-container {/* jupyter's `normalize.less` sets `[hidden] { display: none; }` but bootstrap.min.css set `[hidden] { display: none !important; }` so we also need the `!important` here to be able to override the default hidden behavior on the sphinx rendered scikit-learn.org. See: https://github.com/scikit-learn/scikit-learn/issues/21755 */display: inline-block !important;position: relative;}#sk-container-id-1 div.sk-text-repr-fallback {display: none;}</style><div id=\"sk-container-id-1\" class=\"sk-top-container\"><div class=\"sk-text-repr-fallback\"><pre>KMeans(n_clusters=4)</pre><b>In a Jupyter environment, please rerun this cell to show the HTML representation or trust the notebook. <br />On GitHub, the HTML representation is unable to render, please try loading this page with nbviewer.org.</b></div><div class=\"sk-container\" hidden><div class=\"sk-item\"><div class=\"sk-estimator sk-toggleable\"><input class=\"sk-toggleable__control sk-hidden--visually\" id=\"sk-estimator-id-1\" type=\"checkbox\" checked><label for=\"sk-estimator-id-1\" class=\"sk-toggleable__label sk-toggleable__label-arrow\">KMeans</label><div class=\"sk-toggleable__content\"><pre>KMeans(n_clusters=4)</pre></div></div></div></div></div>"
      ],
      "text/plain": [
       "KMeans(n_clusters=4)"
      ]
     },
     "execution_count": 13,
     "metadata": {},
     "output_type": "execute_result"
    }
   ],
   "source": [
    "#significance level \n",
    "a = 0.05 \n",
    "#define x \n",
    "X = X_train_scaled_df[['gk_handling', 'gk_diving', 'gk_reflexes']]\n",
    "#define kmeans\n",
    "kmeans = KMeans(n_clusters=4)\n",
    "#fit \n",
    "kmeans.fit(X)"
   ]
  },
  {
   "cell_type": "code",
   "execution_count": 14,
   "id": "fb53b9ae",
   "metadata": {},
   "outputs": [],
   "source": [
    "train['clusters'] = kmeans.predict(X)"
   ]
  },
  {
   "cell_type": "code",
   "execution_count": 15,
   "id": "db1a231e",
   "metadata": {},
   "outputs": [
    {
     "data": {
      "image/png": "[encoded data removed]",
      "text/plain": [
       "<Figure size 864x432 with 1 Axes>"
      ]
     },
     "metadata": {},
     "output_type": "display_data"
    }
   ],
   "source": [
    "# Find K: evaluate best k using elbow method \n",
    "with plt.style.context('seaborn-whitegrid'):\n",
    "    plt.figure(figsize=(12, 6))\n",
    "    pd.Series({k: KMeans(k).fit(X).inertia_ for k in range(2, 15)}).plot(marker='x')\n",
    "    plt.xticks(range(2, 15))\n",
    "    plt.xlabel('k')\n",
    "    plt.ylabel('inertia')\n",
    "    plt.title('Change in inertia as k increases')"
   ]
  },
  {
   "cell_type": "code",
   "execution_count": 16,
   "id": "1aea5112",
   "metadata": {},
   "outputs": [
    {
     "data": {
      "text/html": [
       "<div>\n",
       "<style scoped>\n",
       "    .dataframe tbody tr th:only-of-type {\n",
       "        vertical-align: middle;\n",
       "    }\n",
       "\n",
       "    .dataframe tbody tr th {\n",
       "        vertical-align: top;\n",
       "    }\n",
       "\n",
       "    .dataframe thead th {\n",
       "        text-align: right;\n",
       "    }\n",
       "</style>\n",
       "<table border=\"1\" class=\"dataframe\">\n",
       "  <thead>\n",
       "    <tr style=\"text-align: right;\">\n",
       "      <th></th>\n",
       "      <th>gk_handling</th>\n",
       "      <th>gk_diving</th>\n",
       "      <th>gk_reflexes</th>\n",
       "    </tr>\n",
       "    <tr>\n",
       "      <th>clusters</th>\n",
       "      <th></th>\n",
       "      <th></th>\n",
       "      <th></th>\n",
       "    </tr>\n",
       "  </thead>\n",
       "  <tbody>\n",
       "    <tr>\n",
       "      <th>0</th>\n",
       "      <td>60.00</td>\n",
       "      <td>63.00</td>\n",
       "      <td>64.00</td>\n",
       "    </tr>\n",
       "    <tr>\n",
       "      <th>1</th>\n",
       "      <td>53.00</td>\n",
       "      <td>56.00</td>\n",
       "      <td>56.00</td>\n",
       "    </tr>\n",
       "    <tr>\n",
       "      <th>2</th>\n",
       "      <td>75.00</td>\n",
       "      <td>78.00</td>\n",
       "      <td>80.00</td>\n",
       "    </tr>\n",
       "    <tr>\n",
       "      <th>3</th>\n",
       "      <td>67.00</td>\n",
       "      <td>70.00</td>\n",
       "      <td>71.00</td>\n",
       "    </tr>\n",
       "  </tbody>\n",
       "</table>\n",
       "</div>"
      ],
      "text/plain": [
       "                  gk_handling            gk_diving          gk_reflexes\n",
       "clusters                                                               \n",
       "0                       60.00                63.00                64.00\n",
       "1                       53.00                56.00                56.00\n",
       "2                       75.00                78.00                80.00\n",
       "3                       67.00                70.00                71.00"
      ]
     },
     "execution_count": 16,
     "metadata": {},
     "output_type": "execute_result"
    }
   ],
   "source": [
    "#look at median of clusters \n",
    "train.groupby('clusters')[ 'gk_handling', 'gk_diving', 'gk_reflexes'].median()"
   ]
  },
  {
   "cell_type": "code",
   "execution_count": 17,
   "id": "cce93968",
   "metadata": {},
   "outputs": [
    {
     "data": {
      "text/html": [
       "<div>\n",
       "<style scoped>\n",
       "    .dataframe tbody tr th:only-of-type {\n",
       "        vertical-align: middle;\n",
       "    }\n",
       "\n",
       "    .dataframe tbody tr th {\n",
       "        vertical-align: top;\n",
       "    }\n",
       "\n",
       "    .dataframe thead th {\n",
       "        text-align: right;\n",
       "    }\n",
       "</style>\n",
       "<table border=\"1\" class=\"dataframe\">\n",
       "  <thead>\n",
       "    <tr style=\"text-align: right;\">\n",
       "      <th></th>\n",
       "      <th>gk_handling</th>\n",
       "      <th>gk_diving</th>\n",
       "      <th>gk_reflexes</th>\n",
       "    </tr>\n",
       "    <tr>\n",
       "      <th>clusters</th>\n",
       "      <th></th>\n",
       "      <th></th>\n",
       "      <th></th>\n",
       "    </tr>\n",
       "  </thead>\n",
       "  <tbody>\n",
       "    <tr>\n",
       "      <th>0</th>\n",
       "      <td>60.20</td>\n",
       "      <td>63.03</td>\n",
       "      <td>63.85</td>\n",
       "    </tr>\n",
       "    <tr>\n",
       "      <th>1</th>\n",
       "      <td>52.53</td>\n",
       "      <td>55.37</td>\n",
       "      <td>55.65</td>\n",
       "    </tr>\n",
       "    <tr>\n",
       "      <th>2</th>\n",
       "      <td>75.44</td>\n",
       "      <td>78.53</td>\n",
       "      <td>79.93</td>\n",
       "    </tr>\n",
       "    <tr>\n",
       "      <th>3</th>\n",
       "      <td>66.95</td>\n",
       "      <td>69.84</td>\n",
       "      <td>71.35</td>\n",
       "    </tr>\n",
       "  </tbody>\n",
       "</table>\n",
       "</div>"
      ],
      "text/plain": [
       "                  gk_handling            gk_diving          gk_reflexes\n",
       "clusters                                                               \n",
       "0                       60.20                63.03                63.85\n",
       "1                       52.53                55.37                55.65\n",
       "2                       75.44                78.53                79.93\n",
       "3                       66.95                69.84                71.35"
      ]
     },
     "execution_count": 17,
     "metadata": {},
     "output_type": "execute_result"
    }
   ],
   "source": [
    "#look at mean of clusters \n",
    "train.groupby('clusters')[ 'gk_handling', 'gk_diving', 'gk_reflexes'].mean()"
   ]
  },
  {
   "cell_type": "code",
   "execution_count": 18,
   "id": "918aca9b",
   "metadata": {},
   "outputs": [
    {
     "data": {
      "text/html": [
       "<div>\n",
       "<style scoped>\n",
       "    .dataframe tbody tr th:only-of-type {\n",
       "        vertical-align: middle;\n",
       "    }\n",
       "\n",
       "    .dataframe tbody tr th {\n",
       "        vertical-align: top;\n",
       "    }\n",
       "\n",
       "    .dataframe thead th {\n",
       "        text-align: right;\n",
       "    }\n",
       "</style>\n",
       "<table border=\"1\" class=\"dataframe\">\n",
       "  <thead>\n",
       "    <tr style=\"text-align: right;\">\n",
       "      <th></th>\n",
       "      <th>clusters</th>\n",
       "      <th>gk_handling</th>\n",
       "      <th>gk_diving</th>\n",
       "      <th>gk_reflexes</th>\n",
       "      <th>wage_eur</th>\n",
       "    </tr>\n",
       "  </thead>\n",
       "  <tbody>\n",
       "    <tr>\n",
       "      <th>214</th>\n",
       "      <td>2</td>\n",
       "      <td>79</td>\n",
       "      <td>85</td>\n",
       "      <td>87</td>\n",
       "      <td>180,000.00</td>\n",
       "    </tr>\n",
       "    <tr>\n",
       "      <th>454</th>\n",
       "      <td>2</td>\n",
       "      <td>75</td>\n",
       "      <td>76</td>\n",
       "      <td>76</td>\n",
       "      <td>50,000.00</td>\n",
       "    </tr>\n",
       "    <tr>\n",
       "      <th>687</th>\n",
       "      <td>2</td>\n",
       "      <td>71</td>\n",
       "      <td>78</td>\n",
       "      <td>83</td>\n",
       "      <td>80,000.00</td>\n",
       "    </tr>\n",
       "    <tr>\n",
       "      <th>914</th>\n",
       "      <td>2</td>\n",
       "      <td>81</td>\n",
       "      <td>77</td>\n",
       "      <td>90</td>\n",
       "      <td>80,000.00</td>\n",
       "    </tr>\n",
       "    <tr>\n",
       "      <th>1121</th>\n",
       "      <td>2</td>\n",
       "      <td>78</td>\n",
       "      <td>83</td>\n",
       "      <td>82</td>\n",
       "      <td>130,000.00</td>\n",
       "    </tr>\n",
       "    <tr>\n",
       "      <th>...</th>\n",
       "      <td>...</td>\n",
       "      <td>...</td>\n",
       "      <td>...</td>\n",
       "      <td>...</td>\n",
       "      <td>...</td>\n",
       "    </tr>\n",
       "    <tr>\n",
       "      <th>93415</th>\n",
       "      <td>1</td>\n",
       "      <td>54</td>\n",
       "      <td>56</td>\n",
       "      <td>54</td>\n",
       "      <td>1,000.00</td>\n",
       "    </tr>\n",
       "    <tr>\n",
       "      <th>93596</th>\n",
       "      <td>1</td>\n",
       "      <td>61</td>\n",
       "      <td>59</td>\n",
       "      <td>52</td>\n",
       "      <td>500.00</td>\n",
       "    </tr>\n",
       "    <tr>\n",
       "      <th>94075</th>\n",
       "      <td>1</td>\n",
       "      <td>45</td>\n",
       "      <td>53</td>\n",
       "      <td>58</td>\n",
       "      <td>500.00</td>\n",
       "    </tr>\n",
       "    <tr>\n",
       "      <th>94349</th>\n",
       "      <td>1</td>\n",
       "      <td>56</td>\n",
       "      <td>58</td>\n",
       "      <td>58</td>\n",
       "      <td>500.00</td>\n",
       "    </tr>\n",
       "    <tr>\n",
       "      <th>98744</th>\n",
       "      <td>1</td>\n",
       "      <td>53</td>\n",
       "      <td>59</td>\n",
       "      <td>57</td>\n",
       "      <td>500.00</td>\n",
       "    </tr>\n",
       "  </tbody>\n",
       "</table>\n",
       "<p>6779 rows × 5 columns</p>\n",
       "</div>"
      ],
      "text/plain": [
       "       clusters  gk_handling  gk_diving  gk_reflexes             wage_eur\n",
       "214           2           79         85           87           180,000.00\n",
       "454           2           75         76           76            50,000.00\n",
       "687           2           71         78           83            80,000.00\n",
       "914           2           81         77           90            80,000.00\n",
       "1121          2           78         83           82           130,000.00\n",
       "...         ...          ...        ...          ...                  ...\n",
       "93415         1           54         56           54             1,000.00\n",
       "93596         1           61         59           52               500.00\n",
       "94075         1           45         53           58               500.00\n",
       "94349         1           56         58           58               500.00\n",
       "98744         1           53         59           57               500.00\n",
       "\n",
       "[6779 rows x 5 columns]"
      ]
     },
     "execution_count": 18,
     "metadata": {},
     "output_type": "execute_result"
    }
   ],
   "source": [
    "#create dataframe that includes wage \n",
    "testing = pd.concat([train[['clusters', 'gk_handling', 'gk_diving', 'gk_reflexes']], y_train], axis = 1)\n",
    "testing"
   ]
  },
  {
   "cell_type": "code",
   "execution_count": 19,
   "id": "83908593",
   "metadata": {},
   "outputs": [
    {
     "data": {
      "text/html": [
       "<div>\n",
       "<style scoped>\n",
       "    .dataframe tbody tr th:only-of-type {\n",
       "        vertical-align: middle;\n",
       "    }\n",
       "\n",
       "    .dataframe tbody tr th {\n",
       "        vertical-align: top;\n",
       "    }\n",
       "\n",
       "    .dataframe thead th {\n",
       "        text-align: right;\n",
       "    }\n",
       "</style>\n",
       "<table border=\"1\" class=\"dataframe\">\n",
       "  <thead>\n",
       "    <tr style=\"text-align: right;\">\n",
       "      <th></th>\n",
       "      <th>gk_handling</th>\n",
       "      <th>gk_diving</th>\n",
       "      <th>gk_reflexes</th>\n",
       "      <th>wage_eur</th>\n",
       "    </tr>\n",
       "    <tr>\n",
       "      <th>clusters</th>\n",
       "      <th></th>\n",
       "      <th></th>\n",
       "      <th></th>\n",
       "      <th></th>\n",
       "    </tr>\n",
       "  </thead>\n",
       "  <tbody>\n",
       "    <tr>\n",
       "      <th>0</th>\n",
       "      <td>60.20</td>\n",
       "      <td>63.03</td>\n",
       "      <td>63.85</td>\n",
       "      <td>3,049.46</td>\n",
       "    </tr>\n",
       "    <tr>\n",
       "      <th>1</th>\n",
       "      <td>52.53</td>\n",
       "      <td>55.37</td>\n",
       "      <td>55.65</td>\n",
       "      <td>1,551.54</td>\n",
       "    </tr>\n",
       "    <tr>\n",
       "      <th>2</th>\n",
       "      <td>75.44</td>\n",
       "      <td>78.53</td>\n",
       "      <td>79.93</td>\n",
       "      <td>45,306.72</td>\n",
       "    </tr>\n",
       "    <tr>\n",
       "      <th>3</th>\n",
       "      <td>66.95</td>\n",
       "      <td>69.84</td>\n",
       "      <td>71.35</td>\n",
       "      <td>10,260.90</td>\n",
       "    </tr>\n",
       "  </tbody>\n",
       "</table>\n",
       "</div>"
      ],
      "text/plain": [
       "                  gk_handling            gk_diving          gk_reflexes  \\\n",
       "clusters                                                                  \n",
       "0                       60.20                63.03                63.85   \n",
       "1                       52.53                55.37                55.65   \n",
       "2                       75.44                78.53                79.93   \n",
       "3                       66.95                69.84                71.35   \n",
       "\n",
       "                     wage_eur  \n",
       "clusters                       \n",
       "0                    3,049.46  \n",
       "1                    1,551.54  \n",
       "2                   45,306.72  \n",
       "3                   10,260.90  "
      ]
     },
     "execution_count": 19,
     "metadata": {},
     "output_type": "execute_result"
    }
   ],
   "source": [
    "#groupby to be able to compare the wages per cluster\n",
    "testing.groupby('clusters')[ 'gk_handling', 'gk_diving', 'gk_reflexes', 'wage_eur'].mean()"
   ]
  },
  {
   "cell_type": "code",
   "execution_count": 20,
   "id": "9609f4d6",
   "metadata": {},
   "outputs": [],
   "source": [
    "# testing2 = pd.concat([X_train_scaled_df[['clusters', 'gk_handling', 'gk_diving', 'gk_reflexes']], y_train], axis = 1)\n",
    "# testing2"
   ]
  },
  {
   "cell_type": "code",
   "execution_count": 21,
   "id": "b3881097",
   "metadata": {},
   "outputs": [],
   "source": [
    "train1 = train[['gk_handling', 'gk_diving', 'gk_reflexes', 'overall']].copy()"
   ]
  },
  {
   "cell_type": "code",
   "execution_count": 22,
   "id": "0c6dc036",
   "metadata": {},
   "outputs": [],
   "source": [
    "validate1 = validate[['gk_handling', 'gk_diving', 'gk_reflexes', 'overall']].copy()"
   ]
  },
  {
   "cell_type": "code",
   "execution_count": null,
   "id": "afea0f6d",
   "metadata": {},
   "outputs": [],
   "source": [
    "train.clusters1"
   ]
  },
  {
   "cell_type": "markdown",
   "id": "ecb4827f",
   "metadata": {},
   "source": [
    "1. clusters in the validate dataframe\n",
    "2. clusters in the test dataframe\n",
    "3. creating a dataframe with the features that you want"
   ]
  },
  {
   "cell_type": "markdown",
   "id": "d984e456",
   "metadata": {},
   "source": [
    "# Create Baseline"
   ]
  },
  {
   "cell_type": "code",
   "execution_count": 23,
   "id": "cb5925d6",
   "metadata": {},
   "outputs": [],
   "source": [
    "from sklearn.metrics import mean_squared_error, r2_score"
   ]
  },
  {
   "cell_type": "markdown",
   "id": "c7f583ca",
   "metadata": {},
   "source": [
    "# Imported Function to create baseline "
   ]
  },
  {
   "cell_type": "code",
   "execution_count": 24,
   "id": "4e1b1ef8",
   "metadata": {},
   "outputs": [],
   "source": [
    "def create_baseline(y_train, y_validate, target):\n",
    "    '''\n",
    "    Take in y_train and y_validate dataframe and target variable(wage_euro). \n",
    "    Calculate the mean and median of the target variable and print the result side by side comparison\n",
    "    Select the one that has the lowest RMSE\n",
    "    Append into a dataframe called metric_df\n",
    "    '''\n",
    "    #wage_euro_value mean\n",
    "    wage_euro_pred_mean = y_train[target].mean()\n",
    "    y_train['wage_euro_pred_mean'] = wage_euro_pred_mean\n",
    "    y_validate['wage_euro_pred_mean'] = wage_euro_pred_mean\n",
    "\n",
    "    #wage_euro_value_median\n",
    "    wage_euro_pred_median = y_train[target].median()\n",
    "    y_train['wage_euro_pred_median'] = wage_euro_pred_median\n",
    "    y_validate['wage_euro_pred_median'] = wage_euro_pred_median\n",
    "\n",
    "\n",
    "    #RMSE of wage_euro_value_pred_mean\n",
    "    rmse_mean_train = mean_squared_error(y_train[target], y_train.wage_euro_pred_mean)**(1/2)\n",
    "    rmse_mean_validate = mean_squared_error(y_validate[target], y_validate.wage_euro_pred_mean)**(1/2)\n",
    "\n",
    "\n",
    "    #RMSE of wage_euro_value_pred_median\n",
    "    rmse_median_train = mean_squared_error(y_train[target], y_train.wage_euro_pred_median)**(1/2)\n",
    "    rmse_median_validate = mean_squared_error(y_validate[target], y_validate.wage_euro_pred_median)**(1/2)\n",
    "\n",
    "    #R2 score for the baseline\n",
    "    r2_baseline = r2_score(y_validate[target], y_validate.wage_euro_pred_mean)\n",
    "\n",
    "    #Append rmse validate and r2 score into a dataframe\n",
    "    metric_df = pd.DataFrame(data=[{\n",
    "    'model': 'Mean Baseline',\n",
    "    'rmse_train': rmse_mean_train,\n",
    "    'rmse_validate': rmse_mean_validate,\n",
    "    'r^2_value': r2_baseline}])\n",
    "\n",
    "    return  metric_df, rmse_mean_train, rmse_mean_validate, rmse_median_train, rmse_median_validate, r2_baseline"
   ]
  },
  {
   "cell_type": "code",
   "execution_count": 25,
   "id": "a3734110",
   "metadata": {},
   "outputs": [],
   "source": [
    "target = 'wage_eur'\n",
    "#create baseline\n",
    "metric_df, rmse_mean_train, rmse_mean_validate, rmse_median_train, rmse_median_validate, r2_baseline = create_baseline(y_train, y_validate, target)\n"
   ]
  },
  {
   "cell_type": "code",
   "execution_count": 26,
   "id": "85f66e02",
   "metadata": {},
   "outputs": [
    {
     "data": {
      "text/html": [
       "<div>\n",
       "<style scoped>\n",
       "    .dataframe tbody tr th:only-of-type {\n",
       "        vertical-align: middle;\n",
       "    }\n",
       "\n",
       "    .dataframe tbody tr th {\n",
       "        vertical-align: top;\n",
       "    }\n",
       "\n",
       "    .dataframe thead th {\n",
       "        text-align: right;\n",
       "    }\n",
       "</style>\n",
       "<table border=\"1\" class=\"dataframe\">\n",
       "  <thead>\n",
       "    <tr style=\"text-align: right;\">\n",
       "      <th></th>\n",
       "      <th>model</th>\n",
       "      <th>rmse_train</th>\n",
       "      <th>rmse_validate</th>\n",
       "      <th>r^2_value</th>\n",
       "    </tr>\n",
       "  </thead>\n",
       "  <tbody>\n",
       "    <tr>\n",
       "      <th>0</th>\n",
       "      <td>Mean Baseline</td>\n",
       "      <td>21,917.17</td>\n",
       "      <td>18,979.66</td>\n",
       "      <td>-0.03</td>\n",
       "    </tr>\n",
       "  </tbody>\n",
       "</table>\n",
       "</div>"
      ],
      "text/plain": [
       "           model           rmse_train        rmse_validate  \\\n",
       "0  Mean Baseline            21,917.17            18,979.66   \n",
       "\n",
       "             r^2_value  \n",
       "0                -0.03  "
      ]
     },
     "execution_count": 26,
     "metadata": {},
     "output_type": "execute_result"
    }
   ],
   "source": [
    "metric_df"
   ]
  },
  {
   "cell_type": "markdown",
   "id": "3d3f3e53",
   "metadata": {},
   "source": [
    "# Imported Functions for Models "
   ]
  },
  {
   "cell_type": "code",
   "execution_count": 27,
   "id": "0385b9e4",
   "metadata": {},
   "outputs": [],
   "source": [
    "def create_model(model, X_train, X_validate, y_train, y_validate, target):\n",
    "    '''\n",
    "    Function takes in X_train df and target df (wage_eur), and\n",
    "    type of model (LinearRegression, LassoLars, TweedieRegressor) and\n",
    "    calculates the mean squared error and the r2 score\n",
    "    Finally, returns mean squared error and the r2 score\n",
    "    '''\n",
    "    #fit the model to our training data, specify column since it is a dataframe\n",
    "    model.fit(X_train,y_train[target])\n",
    "\n",
    "    #predict train\n",
    "    y_train['wage_euro_pred_lm'] = model.predict(X_train)\n",
    "    y_train['wage_euro_pred_lars'] = model.predict(X_train)\n",
    "    y_train['wage_euro_pred_glm'] = model.predict(X_train)\n",
    "\n",
    "    #evaluate the RMSE for train\n",
    "    rmse_train = mean_squared_error(y_train[target], y_train.wage_euro_pred_lm)**(1/2)\n",
    "    rmse_train = mean_squared_error(y_train[target], y_train.wage_euro_pred_lars)**(1/2)\n",
    "    rmse_train = mean_squared_error(y_train[target], y_train.wage_euro_pred_glm)**(1/2)\n",
    "\n",
    "    #predict validate\n",
    "    y_validate['wage_euro_pred_lm'] = model.predict(X_validate)\n",
    "    y_validate['wage_euro_pred_lars'] = model.predict(X_validate)\n",
    "    y_validate['wage_euro_pred_glm'] = model.predict(X_validate)\n",
    "   \n",
    "    #evaluate the RMSE for validate\n",
    "    rmse_validate = mean_squared_error(y_validate[target], y_validate.wage_euro_pred_lm)**(1/2)\n",
    "    rmse_validate = mean_squared_error(y_validate[target], y_validate.wage_euro_pred_lars)**(1/2)\n",
    "    rmse_validate = mean_squared_error(y_validate[target], y_validate.wage_euro_pred_glm)**(1/2)\n",
    "\n",
    "    #r2 score for model\n",
    "    r2_model_score = r2_score(y_validate[target], y_validate.wage_euro_pred_lm)\n",
    "    r2_model_score = r2_score(y_validate[target], y_validate.wage_euro_pred_lars)\n",
    "    r2_model_score = r2_score(y_validate[target], y_validate.wage_euro_pred_glm)\n",
    "\n",
    "    return rmse_train, rmse_validate, r2_model_score"
   ]
  },
  {
   "cell_type": "code",
   "execution_count": 28,
   "id": "e7c0875e",
   "metadata": {},
   "outputs": [],
   "source": [
    "#Linear regression model\n",
    "rmse_lm_train, rmse_lm_validate, r2_lm_value = create_model(LinearRegression(normalize=True), train1, validate1, y_train, y_validate, 'wage_eur')\n",
    "\n",
    "#Lassorlars model\n",
    "rmse_lars_train, rmse_lars_validate, r2_lars_value = create_model(LassoLars(alpha=1.0), train1, validate1, y_train, y_validate, 'wage_eur')\n",
    "\n",
    "#Tweedie regressor model\n",
    "rmse_glm_train, rmse_glm_validate, r2_glm_value = create_model(TweedieRegressor(power =0, alpha=0.00), train1, validate1, y_train, y_validate, 'wage_eur')"
   ]
  },
  {
   "cell_type": "code",
   "execution_count": 29,
   "id": "1730019c",
   "metadata": {},
   "outputs": [],
   "source": [
    "# add model's performance to metric df\n",
    "metric_df = metric_df.append({\n",
    "    'model': 'Linear_regression',\n",
    "    'rmse_train': rmse_lm_train,\n",
    "    'rmse_validate': rmse_lm_validate,\n",
    "    'r^2_value': r2_lm_value}, ignore_index=True)\n",
    "\n",
    "metric_df = metric_df.append({\n",
    "    'model': 'Lassolars',\n",
    "    'rmse_train': rmse_lars_train,\n",
    "    'rmse_validate': rmse_lars_validate,\n",
    "    'r^2_value': r2_lars_value}, ignore_index=True)\n",
    "\n",
    "metric_df = metric_df.append({\n",
    "    'model': 'Tweedie_regressor',\n",
    "    'rmse_train': rmse_glm_train,\n",
    "    'rmse_validate': rmse_glm_validate,\n",
    "    'r^2_value': r2_glm_value}, ignore_index=True)\n"
   ]
  },
  {
   "cell_type": "code",
   "execution_count": 30,
   "id": "91a0bac6",
   "metadata": {},
   "outputs": [],
   "source": [
    "def report(metric_df):\n",
    "    '''\n",
    "    This funtion will take in a dataframe and convert to a html and passed to the display function, \n",
    "    it will result in dataframe being displayed in the frontend (only works in the notebook).\n",
    "    '''\n",
    "    \n",
    "    from IPython.display import display, HTML\n",
    "    rmse_base = metric_df.iloc[0,2]\n",
    "    print(f'These are the models that perform better than our baseline rmse: {rmse_base}')\n",
    "    dfs =metric_df[['model', 'rmse_validate']][metric_df['rmse_validate'] < rmse_base]\n",
    "    display(HTML(dfs.to_html()))\n",
    "    \n",
    "    \n",
    "    min_val = metric_df['rmse_validate'].idxmin()\n",
    "    metric_df.iloc[min_val][0]\n",
    "    rsme_bet = round(metric_df['rmse_validate'].iloc[min_val], 6)\n",
    "    print('-----------------------------------------------------------------------------------------------')\n",
    "    print(f'   ********** The model with the less  rmse_validate  is {metric_df.iloc[min_val][0] }  rmse:{rsme_bet} **********             ')\n",
    "    print('-----------------------------------------------------------------------------------------------')\n",
    "    print(' ')\n",
    "    min_val = metric_df['r^2_value'].idxmax()\n",
    "    metric_df.iloc[min_val][0]\n",
    "    print(f'The model with r^2 validate closer to 1 is ', metric_df.iloc[min_val][0])\n",
    "    \n",
    "    display(HTML(metric_df.to_html()))\n",
    "    return"
   ]
  },
  {
   "cell_type": "code",
   "execution_count": 31,
   "id": "180bd23b",
   "metadata": {},
   "outputs": [
    {
     "name": "stdout",
     "output_type": "stream",
     "text": [
      "These are the models that perform better than our baseline rmse: 18979.65667364599\n"
     ]
    },
    {
     "data": {
      "text/html": [
       "<table border=\"1\" class=\"dataframe\">\n",
       "  <thead>\n",
       "    <tr style=\"text-align: right;\">\n",
       "      <th></th>\n",
       "      <th>model</th>\n",
       "      <th>rmse_validate</th>\n",
       "    </tr>\n",
       "  </thead>\n",
       "  <tbody>\n",
       "    <tr>\n",
       "      <th>1</th>\n",
       "      <td>Linear_regression</td>\n",
       "      <td>15,687.56</td>\n",
       "    </tr>\n",
       "    <tr>\n",
       "      <th>2</th>\n",
       "      <td>Lassolars</td>\n",
       "      <td>15,675.02</td>\n",
       "    </tr>\n",
       "    <tr>\n",
       "      <th>3</th>\n",
       "      <td>Tweedie_regressor</td>\n",
       "      <td>15,687.56</td>\n",
       "    </tr>\n",
       "  </tbody>\n",
       "</table>"
      ],
      "text/plain": [
       "<IPython.core.display.HTML object>"
      ]
     },
     "metadata": {},
     "output_type": "display_data"
    },
    {
     "name": "stdout",
     "output_type": "stream",
     "text": [
      "-----------------------------------------------------------------------------------------------\n",
      "   ********** The model with the less  rmse_validate  is Lassolars  rmse:15675.023291 **********             \n",
      "-----------------------------------------------------------------------------------------------\n",
      " \n",
      "The model with r^2 validate closer to 1 is  Lassolars\n"
     ]
    },
    {
     "data": {
      "text/html": [
       "<table border=\"1\" class=\"dataframe\">\n",
       "  <thead>\n",
       "    <tr style=\"text-align: right;\">\n",
       "      <th></th>\n",
       "      <th>model</th>\n",
       "      <th>rmse_train</th>\n",
       "      <th>rmse_validate</th>\n",
       "      <th>r^2_value</th>\n",
       "    </tr>\n",
       "  </thead>\n",
       "  <tbody>\n",
       "    <tr>\n",
       "      <th>0</th>\n",
       "      <td>Mean Baseline</td>\n",
       "      <td>21,917.17</td>\n",
       "      <td>18,979.66</td>\n",
       "      <td>-0.03</td>\n",
       "    </tr>\n",
       "    <tr>\n",
       "      <th>1</th>\n",
       "      <td>Linear_regression</td>\n",
       "      <td>16,728.62</td>\n",
       "      <td>15,687.56</td>\n",
       "      <td>0.29</td>\n",
       "    </tr>\n",
       "    <tr>\n",
       "      <th>2</th>\n",
       "      <td>Lassolars</td>\n",
       "      <td>16,728.87</td>\n",
       "      <td>15,675.02</td>\n",
       "      <td>0.30</td>\n",
       "    </tr>\n",
       "    <tr>\n",
       "      <th>3</th>\n",
       "      <td>Tweedie_regressor</td>\n",
       "      <td>16,728.62</td>\n",
       "      <td>15,687.56</td>\n",
       "      <td>0.29</td>\n",
       "    </tr>\n",
       "  </tbody>\n",
       "</table>"
      ],
      "text/plain": [
       "<IPython.core.display.HTML object>"
      ]
     },
     "metadata": {},
     "output_type": "display_data"
    }
   ],
   "source": [
    "report(metric_df)"
   ]
  },
  {
   "cell_type": "code",
   "execution_count": null,
   "id": "257f7bd8",
   "metadata": {},
   "outputs": [],
   "source": []
  },
  {
   "cell_type": "markdown",
   "id": "696c3022",
   "metadata": {},
   "source": [
    "#### _The ANOVA test will be used to measure the significance or lack there of variance between clusters_"
   ]
  },
  {
   "cell_type": "markdown",
   "id": "4233936b",
   "metadata": {},
   "source": [
    " - H0: There is no significant difference between salaries of each cluster \n",
    " - HA: There is a significant difference between salaries of each cluster"
   ]
  },
  {
   "cell_type": "code",
   "execution_count": null,
   "id": "510d6055",
   "metadata": {},
   "outputs": [],
   "source": [
    "alpha = 0.05\n",
    "\n",
    "F, p = stats.f_oneway(train[train.clusters == 0].wage_eur,\n",
    "                      train[train.clusters == 1].wage_eur,\n",
    "                      train[train.clusters == 2].wage_eur,\n",
    "                      train[train.clusters == 3].wage_eur)\n",
    "\n",
    "print('Anova Test Results on goalkeeper handling/diving/reflexes Cluster')\n",
    "print('F-value: ',F)\n",
    "print('p-value: ',p)\n",
    "#if p > alpha:\n",
    "    #print(\"\\nWe fail to reject null hypothesis.\")\n",
    "#elif t < 0:\n",
    "    #print(\"We fail to reject null hypothesis.\")\n",
    "#else:\n",
    "    #print(\"We reject null hypothesis.\\n\\n\")"
   ]
  },
  {
   "cell_type": "markdown",
   "id": "1452e810",
   "metadata": {},
   "source": [
    "# Prepare Forwards"
   ]
  },
  {
   "cell_type": "code",
   "execution_count": null,
   "id": "814f37f5",
   "metadata": {},
   "outputs": [],
   "source": [
    "#split\n",
    "train, validate, test = prepare.split(forward_df)"
   ]
  },
  {
   "cell_type": "code",
   "execution_count": null,
   "id": "14488263",
   "metadata": {},
   "outputs": [],
   "source": [
    "#split data\n",
    "X_train = train.drop(columns=['wage_eur', 'total_wage', 'value_eur'])\n",
    "y_train = train[['wage_eur']]\n",
    "\n",
    "X_validate = validate.drop(columns=['wage_eur', 'total_wage', 'value_eur'])\n",
    "y_validate = validate[['wage_eur']]\n",
    "\n",
    "X_test = test.drop(columns=['wage_eur', 'total_wage', 'value_eur'])\n",
    "y_test = test[['wage_eur']]"
   ]
  },
  {
   "cell_type": "code",
   "execution_count": null,
   "id": "562646c3",
   "metadata": {},
   "outputs": [],
   "source": [
    "#encode categorical variables\n",
    "encoder = ce.LeaveOneOutEncoder(return_df=True)\n",
    "X_train_loo = encoder.fit_transform(X_train, y_train)\n",
    "X_test_loo = encoder.transform(X_test)\n",
    "X_train_loo.shape"
   ]
  },
  {
   "cell_type": "code",
   "execution_count": null,
   "id": "495ced8b",
   "metadata": {},
   "outputs": [],
   "source": [
    "#scale data \n",
    "scaler = RobustScaler()\n",
    "X_train_scaled = scaler.fit_transform(X_train_loo, y_train)\n",
    "X_train_scaled.shape"
   ]
  },
  {
   "cell_type": "code",
   "execution_count": null,
   "id": "7e7df20f",
   "metadata": {},
   "outputs": [],
   "source": [
    "X_train_scaled_df = pd.DataFrame(X_train_scaled, columns=X_train.columns)"
   ]
  },
  {
   "cell_type": "markdown",
   "id": "cfd67a31",
   "metadata": {},
   "source": [
    "# FORWARD CLUSTERS"
   ]
  },
  {
   "cell_type": "markdown",
   "id": "12aea00f",
   "metadata": {},
   "source": [
    "#### ANOVA test on ball_control, reactions, dribbling"
   ]
  },
  {
   "cell_type": "code",
   "execution_count": null,
   "id": "d4c1af18",
   "metadata": {},
   "outputs": [],
   "source": [
    "#significance level \n",
    "a = 0.05 \n",
    "#define x \n",
    "X = X_train_scaled_df[['ball_control', 'reactions', 'dribbling']]\n",
    "#define kmeans\n",
    "kmeans = KMeans(n_clusters=4)\n",
    "#fit \n",
    "kmeans.fit(X)"
   ]
  },
  {
   "cell_type": "code",
   "execution_count": null,
   "id": "638a606a",
   "metadata": {},
   "outputs": [],
   "source": [
    "train['clusters'] = kmeans.predict(X)"
   ]
  },
  {
   "cell_type": "code",
   "execution_count": null,
   "id": "256fab9a",
   "metadata": {},
   "outputs": [],
   "source": [
    "# Find K: evaluate best k using elbow method \n",
    "with plt.style.context('seaborn-whitegrid'):\n",
    "    plt.figure(figsize=(12, 6))\n",
    "    pd.Series({k: KMeans(k).fit(X).inertia_ for k in range(2, 15)}).plot(marker='x')\n",
    "    plt.xticks(range(2, 15))\n",
    "    plt.xlabel('k')\n",
    "    plt.ylabel('inertia')\n",
    "    plt.title('Change in inertia as k increases')"
   ]
  },
  {
   "cell_type": "code",
   "execution_count": null,
   "id": "f6b658c0",
   "metadata": {},
   "outputs": [],
   "source": [
    "train.groupby('clusters')[ 'ball_control', 'reactions', 'dribbling'].median()"
   ]
  },
  {
   "cell_type": "markdown",
   "id": "789b5317",
   "metadata": {},
   "source": [
    "#### _The ANOVA test will be used to measure the significance or lack there of variance between clusters_"
   ]
  },
  {
   "cell_type": "markdown",
   "id": "743db73c",
   "metadata": {},
   "source": [
    " - H0: There is no significant difference between salaries of each cluster \n",
    " - HA: There is a significant difference between salaries of each cluster"
   ]
  },
  {
   "cell_type": "code",
   "execution_count": null,
   "id": "1609a4cd",
   "metadata": {},
   "outputs": [],
   "source": [
    "alpha = 0.05\n",
    "\n",
    "F, p = stats.f_oneway(train[train.clusters == 0].wage_eur,\n",
    "                      train[train.clusters == 1].wage_eur,\n",
    "                      train[train.clusters == 2].wage_eur,\n",
    "                      train[train.clusters == 3].wage_eur)\n",
    "\n",
    "print('Anova Test Results on goalkeeper handling/diving/reflexes Cluster')\n",
    "print('F-value: ',F)\n",
    "print('p-value: ',p)\n",
    "#if p > alpha:\n",
    "    #print(\"\\nWe fail to reject null hypothesis.\")\n",
    "#elif t < 0:\n",
    "    #print(\"We fail to reject null hypothesis.\")\n",
    "#else:\n",
    "    #print(\"We reject null hypothesis.\\n\\n\")"
   ]
  },
  {
   "cell_type": "markdown",
   "id": "9dc69026",
   "metadata": {},
   "source": [
    "# Prepare Midfielders"
   ]
  },
  {
   "cell_type": "code",
   "execution_count": null,
   "id": "169b8d4a",
   "metadata": {},
   "outputs": [],
   "source": [
    "#split\n",
    "train, validate, test = prepare.split(midfielder_df)"
   ]
  },
  {
   "cell_type": "code",
   "execution_count": null,
   "id": "18a100c5",
   "metadata": {},
   "outputs": [],
   "source": [
    "#split data\n",
    "X_train = train.drop(columns=['wage_eur', 'total_wage', 'value_eur'])\n",
    "y_train = train[['wage_eur']]\n",
    "\n",
    "X_validate = validate.drop(columns=['wage_eur', 'total_wage', 'value_eur'])\n",
    "y_validate = validate[['wage_eur']]\n",
    "\n",
    "X_test = test.drop(columns=['wage_eur', 'total_wage', 'value_eur'])\n",
    "y_test = test[['wage_eur']]"
   ]
  },
  {
   "cell_type": "code",
   "execution_count": null,
   "id": "385bf244",
   "metadata": {},
   "outputs": [],
   "source": [
    "#encode categorical variables\n",
    "encoder = ce.LeaveOneOutEncoder(return_df=True)\n",
    "X_train_loo = encoder.fit_transform(X_train, y_train)\n",
    "X_test_loo = encoder.transform(X_test)\n",
    "X_train_loo.shape"
   ]
  },
  {
   "cell_type": "code",
   "execution_count": null,
   "id": "985e8b89",
   "metadata": {},
   "outputs": [],
   "source": [
    "#scale data \n",
    "scaler = RobustScaler()\n",
    "X_train_scaled = scaler.fit_transform(X_train_loo, y_train)\n",
    "X_train_scaled.shape"
   ]
  },
  {
   "cell_type": "code",
   "execution_count": null,
   "id": "15753d02",
   "metadata": {},
   "outputs": [],
   "source": [
    "X_train_scaled_df = pd.DataFrame(X_train_scaled, columns=X_train.columns)"
   ]
  },
  {
   "cell_type": "markdown",
   "id": "4c66cd50",
   "metadata": {},
   "source": [
    "# Midfielder Cluster"
   ]
  },
  {
   "cell_type": "markdown",
   "id": "7ba89f8f",
   "metadata": {},
   "source": [
    "#### ANOVA test on ball_control, reactions, passing"
   ]
  },
  {
   "cell_type": "code",
   "execution_count": null,
   "id": "f1cd4599",
   "metadata": {},
   "outputs": [],
   "source": [
    "#significance level \n",
    "a = 0.05 \n",
    "#define x \n",
    "X = X_train_scaled_df[['ball_control', 'reactions', 'passing']]\n",
    "#define kmeans\n",
    "kmeans = KMeans(n_clusters=4)\n",
    "#fit \n",
    "kmeans.fit(X)"
   ]
  },
  {
   "cell_type": "code",
   "execution_count": null,
   "id": "006458a1",
   "metadata": {},
   "outputs": [],
   "source": [
    "train['clusters'] = kmeans.predict(X)"
   ]
  },
  {
   "cell_type": "code",
   "execution_count": null,
   "id": "6e9d8cd1",
   "metadata": {},
   "outputs": [],
   "source": [
    "# Find K: evaluate best k using elbow method \n",
    "with plt.style.context('seaborn-whitegrid'):\n",
    "    plt.figure(figsize=(12, 6))\n",
    "    pd.Series({k: KMeans(k).fit(X).inertia_ for k in range(2, 15)}).plot(marker='x')\n",
    "    plt.xticks(range(2, 15))\n",
    "    plt.xlabel('k')\n",
    "    plt.ylabel('inertia')\n",
    "    plt.title('Change in inertia as k increases')"
   ]
  },
  {
   "cell_type": "code",
   "execution_count": null,
   "id": "abe5dd46",
   "metadata": {},
   "outputs": [],
   "source": [
    "train.groupby('clusters')[ 'ball_control', 'reactions', 'passing'].median()"
   ]
  },
  {
   "cell_type": "markdown",
   "id": "c8b28354",
   "metadata": {},
   "source": [
    "#### _The ANOVA test will be used to measure the significance or lack there of variance between clusters_"
   ]
  },
  {
   "cell_type": "markdown",
   "id": "9dffdb6e",
   "metadata": {},
   "source": [
    " - H0: There is no significant difference between salaries of each cluster \n",
    " - HA: There is a significant difference between salaries of each cluster"
   ]
  },
  {
   "cell_type": "code",
   "execution_count": null,
   "id": "7d9bde0a",
   "metadata": {},
   "outputs": [],
   "source": [
    "alpha = 0.05\n",
    "\n",
    "F, p = stats.f_oneway(train[train.clusters == 0].wage_eur,\n",
    "                      train[train.clusters == 1].wage_eur,\n",
    "                      train[train.clusters == 2].wage_eur,\n",
    "                      train[train.clusters == 3].wage_eur)\n",
    "\n",
    "print('Anova Test Results on goalkeeper handling/diving/reflexes Cluster')\n",
    "print('F-value: ',F)\n",
    "print('p-value: ',p)\n",
    "#if p > alpha:\n",
    "    #print(\"\\nWe fail to reject null hypothesis.\")\n",
    "#elif t < 0:\n",
    "    #print(\"We fail to reject null hypothesis.\")\n",
    "#else:\n",
    "    #print(\"We reject null hypothesis.\\n\\n\")"
   ]
  },
  {
   "cell_type": "markdown",
   "id": "b99204a6",
   "metadata": {},
   "source": [
    "# Prepare Defenders"
   ]
  },
  {
   "cell_type": "code",
   "execution_count": null,
   "id": "7f962c7d",
   "metadata": {},
   "outputs": [],
   "source": [
    "#split\n",
    "train, validate, test = prepare.split(defender_df)"
   ]
  },
  {
   "cell_type": "code",
   "execution_count": null,
   "id": "1e701922",
   "metadata": {},
   "outputs": [],
   "source": [
    "#split data\n",
    "X_train = train.drop(columns=['wage_eur', 'total_wage', 'value_eur'])\n",
    "y_train = train[['wage_eur']]\n",
    "\n",
    "X_validate = validate.drop(columns=['wage_eur', 'total_wage', 'value_eur'])\n",
    "y_validate = validate[['wage_eur']]\n",
    "\n",
    "X_test = test.drop(columns=['wage_eur', 'total_wage', 'value_eur'])\n",
    "y_test = test[['wage_eur']]"
   ]
  },
  {
   "cell_type": "code",
   "execution_count": null,
   "id": "7a3c80fd",
   "metadata": {},
   "outputs": [],
   "source": [
    "#encode categorical variables\n",
    "encoder = ce.LeaveOneOutEncoder(return_df=True)\n",
    "X_train_loo = encoder.fit_transform(X_train, y_train)\n",
    "X_test_loo = encoder.transform(X_test)\n",
    "X_train_loo.shape"
   ]
  },
  {
   "cell_type": "code",
   "execution_count": null,
   "id": "a635d727",
   "metadata": {},
   "outputs": [],
   "source": [
    "#scale data \n",
    "scaler = RobustScaler()\n",
    "X_train_scaled = scaler.fit_transform(X_train_loo, y_train)\n",
    "X_train_scaled.shape"
   ]
  },
  {
   "cell_type": "code",
   "execution_count": null,
   "id": "b0d5c0c2",
   "metadata": {},
   "outputs": [],
   "source": [
    "X_train_scaled_df = pd.DataFrame(X_train_scaled, columns=X_train.columns)"
   ]
  },
  {
   "cell_type": "markdown",
   "id": "b844df34",
   "metadata": {},
   "source": [
    "# Defender Clusters "
   ]
  },
  {
   "cell_type": "markdown",
   "id": "29f18edc",
   "metadata": {},
   "source": [
    "#### ANOVA test on marking, potential, short_passing"
   ]
  },
  {
   "cell_type": "code",
   "execution_count": null,
   "id": "54f3f9c4",
   "metadata": {},
   "outputs": [],
   "source": [
    "#significance level \n",
    "a = 0.05 \n",
    "#define x \n",
    "X = X_train_scaled_df[['marking', 'potential', 'short_passing']]\n",
    "#define kmeans\n",
    "kmeans = KMeans(n_clusters=4)\n",
    "#fit \n",
    "kmeans.fit(X)"
   ]
  },
  {
   "cell_type": "code",
   "execution_count": null,
   "id": "86dc7b4f",
   "metadata": {},
   "outputs": [],
   "source": [
    "train['clusters'] = kmeans.predict(X)"
   ]
  },
  {
   "cell_type": "code",
   "execution_count": null,
   "id": "5240c6c5",
   "metadata": {},
   "outputs": [],
   "source": [
    "# Find K: evaluate best k using elbow method \n",
    "with plt.style.context('seaborn-whitegrid'):\n",
    "    plt.figure(figsize=(12, 6))\n",
    "    pd.Series({k: KMeans(k).fit(X).inertia_ for k in range(2, 15)}).plot(marker='x')\n",
    "    plt.xticks(range(2, 15))\n",
    "    plt.xlabel('k')\n",
    "    plt.ylabel('inertia')\n",
    "    plt.title('Change in inertia as k increases')"
   ]
  },
  {
   "cell_type": "code",
   "execution_count": null,
   "id": "f8ca43e0",
   "metadata": {},
   "outputs": [],
   "source": [
    "train.groupby('clusters')[ 'ball_control', 'reactions', 'passing'].median()"
   ]
  },
  {
   "cell_type": "markdown",
   "id": "dfc6b0ef",
   "metadata": {},
   "source": [
    "#### _The ANOVA test will be used to measure the significance or lack there of variance between clusters_"
   ]
  },
  {
   "cell_type": "markdown",
   "id": "54e28c6a",
   "metadata": {},
   "source": [
    " - H0: There is no significant difference between salaries of each cluster \n",
    " - HA: There is a significant difference between salaries of each cluster"
   ]
  },
  {
   "cell_type": "code",
   "execution_count": null,
   "id": "0d22f4c0",
   "metadata": {},
   "outputs": [],
   "source": [
    "alpha = 0.05\n",
    "\n",
    "F, p = stats.f_oneway(train[train.clusters == 0].wage_eur,\n",
    "                      train[train.clusters == 1].wage_eur,\n",
    "                      train[train.clusters == 2].wage_eur,\n",
    "                      train[train.clusters == 3].wage_eur)\n",
    "\n",
    "print('Anova Test Results on goalkeeper handling/diving/reflexes Cluster')\n",
    "print('F-value: ',F)\n",
    "print('p-value: ',p)\n",
    "#if p > alpha:\n",
    "    #print(\"\\nWe fail to reject null hypothesis.\")\n",
    "#elif t < 0:\n",
    "    #print(\"We fail to reject null hypothesis.\")\n",
    "#else:\n",
    "    #print(\"We reject null hypothesis.\\n\\n\")"
   ]
  },
  {
   "cell_type": "code",
   "execution_count": null,
   "id": "498219e2",
   "metadata": {},
   "outputs": [],
   "source": []
  },
  {
   "cell_type": "code",
   "execution_count": null,
   "id": "248907e6",
   "metadata": {},
   "outputs": [],
   "source": []
  },
  {
   "cell_type": "code",
   "execution_count": null,
   "id": "4d985e93",
   "metadata": {},
   "outputs": [],
   "source": []
  },
  {
   "cell_type": "code",
   "execution_count": null,
   "id": "81637fac",
   "metadata": {},
   "outputs": [],
   "source": []
  },
  {
   "cell_type": "code",
   "execution_count": null,
   "id": "388601d1",
   "metadata": {},
   "outputs": [],
   "source": []
  },
  {
   "cell_type": "code",
   "execution_count": null,
   "id": "78a2177a",
   "metadata": {},
   "outputs": [],
   "source": []
  },
  {
   "cell_type": "code",
   "execution_count": null,
   "id": "509ddd79",
   "metadata": {},
   "outputs": [],
   "source": []
  },
  {
   "cell_type": "code",
   "execution_count": null,
   "id": "3fa9c3f8",
   "metadata": {},
   "outputs": [],
   "source": []
  },
  {
   "cell_type": "code",
   "execution_count": null,
   "id": "927389db",
   "metadata": {},
   "outputs": [],
   "source": []
  },
  {
   "cell_type": "code",
   "execution_count": null,
   "id": "0caec967",
   "metadata": {},
   "outputs": [],
   "source": []
  },
  {
   "cell_type": "code",
   "execution_count": null,
   "id": "ae8b6e24",
   "metadata": {},
   "outputs": [],
   "source": []
  },
  {
   "cell_type": "code",
   "execution_count": null,
   "id": "d8aeccf6",
   "metadata": {},
   "outputs": [],
   "source": []
  },
  {
   "cell_type": "code",
   "execution_count": null,
   "id": "8e27255b",
   "metadata": {},
   "outputs": [],
   "source": []
  },
  {
   "cell_type": "code",
   "execution_count": null,
   "id": "2f3c0828",
   "metadata": {},
   "outputs": [],
   "source": []
  },
  {
   "cell_type": "code",
   "execution_count": null,
   "id": "bfc3c462",
   "metadata": {},
   "outputs": [],
   "source": []
  },
  {
   "cell_type": "code",
   "execution_count": null,
   "id": "377d548f",
   "metadata": {},
   "outputs": [],
   "source": []
  },
  {
   "cell_type": "code",
   "execution_count": null,
   "id": "da9d63d6",
   "metadata": {},
   "outputs": [],
   "source": []
  },
  {
   "cell_type": "code",
   "execution_count": null,
   "id": "811817f2",
   "metadata": {},
   "outputs": [],
   "source": []
  },
  {
   "cell_type": "code",
   "execution_count": null,
   "id": "fae8e99c",
   "metadata": {},
   "outputs": [],
   "source": []
  },
  {
   "cell_type": "code",
   "execution_count": null,
   "id": "ee3fe253",
   "metadata": {},
   "outputs": [],
   "source": []
  },
  {
   "cell_type": "code",
   "execution_count": null,
   "id": "cbc51792",
   "metadata": {},
   "outputs": [],
   "source": []
  },
  {
   "cell_type": "code",
   "execution_count": null,
   "id": "1f581c9d",
   "metadata": {},
   "outputs": [],
   "source": []
  },
  {
   "cell_type": "code",
   "execution_count": null,
   "id": "76684e1c",
   "metadata": {},
   "outputs": [],
   "source": []
  },
  {
   "cell_type": "code",
   "execution_count": null,
   "id": "18fef49c",
   "metadata": {},
   "outputs": [],
   "source": []
  },
  {
   "cell_type": "code",
   "execution_count": null,
   "id": "b48f573f",
   "metadata": {},
   "outputs": [],
   "source": []
  },
  {
   "cell_type": "code",
   "execution_count": null,
   "id": "06cb1465",
   "metadata": {},
   "outputs": [],
   "source": []
  },
  {
   "cell_type": "code",
   "execution_count": null,
   "id": "730854b5",
   "metadata": {},
   "outputs": [],
   "source": []
  },
  {
   "cell_type": "code",
   "execution_count": null,
   "id": "a52982c9",
   "metadata": {},
   "outputs": [],
   "source": []
  },
  {
   "cell_type": "code",
   "execution_count": null,
   "id": "3f72cd01",
   "metadata": {},
   "outputs": [],
   "source": []
  },
  {
   "cell_type": "code",
   "execution_count": null,
   "id": "0b41ae72",
   "metadata": {},
   "outputs": [],
   "source": []
  },
  {
   "cell_type": "code",
   "execution_count": null,
   "id": "94929056",
   "metadata": {},
   "outputs": [],
   "source": []
  },
  {
   "cell_type": "code",
   "execution_count": null,
   "id": "771f9a2d",
   "metadata": {},
   "outputs": [],
   "source": []
  },
  {
   "cell_type": "code",
   "execution_count": null,
   "id": "f4ead93d",
   "metadata": {},
   "outputs": [],
   "source": []
  },
  {
   "cell_type": "code",
   "execution_count": null,
   "id": "b3e9bf17",
   "metadata": {},
   "outputs": [],
   "source": []
  },
  {
   "cell_type": "code",
   "execution_count": null,
   "id": "4fe8dd16",
   "metadata": {},
   "outputs": [],
   "source": []
  },
  {
   "cell_type": "code",
   "execution_count": null,
   "id": "253d3b40",
   "metadata": {},
   "outputs": [],
   "source": []
  },
  {
   "cell_type": "code",
   "execution_count": null,
   "id": "1be2bad6",
   "metadata": {},
   "outputs": [],
   "source": []
  },
  {
   "cell_type": "code",
   "execution_count": null,
   "id": "5a55cb66",
   "metadata": {},
   "outputs": [],
   "source": []
  }
 ],
 "metadata": {
  "kernelspec": {
   "display_name": "Python 3 (ipykernel)",
   "language": "python",
   "name": "python3"
  },
  "language_info": {
   "codemirror_mode": {
    "name": "ipython",
    "version": 3
   },
   "file_extension": ".py",
   "mimetype": "text/x-python",
   "name": "python",
   "nbconvert_exporter": "python",
   "pygments_lexer": "ipython3",
   "version": "3.9.7"
  }
 },
 "nbformat": 4,
 "nbformat_minor": 5
}
