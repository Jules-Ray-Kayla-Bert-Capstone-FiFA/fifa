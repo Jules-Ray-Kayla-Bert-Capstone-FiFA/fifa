{
 "cells": [
  {
   "cell_type": "markdown",
   "id": "00bd29a0",
   "metadata": {},
   "source": [
    "<hr style=\"border-top: 10px groove lightblue; margin-top: 1px; margin-bottom: 1px\"></hr>\n",
    "\n",
    "# Modeling Plan\n",
    "\n",
    "\n",
    "- Model for Overall players\n",
    "- Model for Foward position players\n",
    "- Model for Midfielder postion players\n",
    "- Model for Defense position plauyers\n",
    "- Model for Goal Keepers\n",
    "\n",
    "<hr style=\"border-top: 10px groove lightblue; margin-top: 1px; margin-bottom: 1px\"></hr>\n"
   ]
  },
  {
   "cell_type": "code",
   "execution_count": 1,
   "id": "13f2f663",
   "metadata": {},
   "outputs": [],
   "source": [
    "import os\n",
    "import json\n",
    "from typing import Dict, List, Optional, Union, cast\n",
    "import requests\n",
    "import pandas as pd\n",
    "import bamboolib as bam\n",
    "\n",
    "import unicodedata\n",
    "import re\n",
    "import json\n",
    "\n",
    "import acquire\n",
    "\n",
    "import nltk\n",
    "from nltk.tokenize.toktok import ToktokTokenizer\n",
    "from nltk.corpus import stopwords\n",
    "from wordcloud import WordCloud\n",
    "\n",
    "from sklearn.model_selection import train_test_split\n",
    "from sklearn.linear_model import LogisticRegression\n",
    "from sklearn.metrics import classification_report, accuracy_score\n",
    "from sklearn.feature_extraction.text import TfidfVectorizer\n",
    "from sklearn.neighbors import KNeighborsClassifier\n",
    "from sklearn.metrics import confusion_matrix\n",
    "from sklearn.ensemble import RandomForestClassifier\n",
    "from sklearn.tree import DecisionTreeClassifier\n",
    "from sklearn.impute import SimpleImputer\n",
    "from sklearn.preprocessing import MinMaxScaler, StandardScaler, RobustScaler, QuantileTransformer\n",
    "from sklearn.cluster import KMeans\n",
    "\n",
    "from sklearn.metrics import mean_squared_error, r2_score\n",
    "from sklearn.feature_selection import f_regression \n",
    "\n",
    "#statistical tests\n",
    "from scipy import stats\n",
    "from scipy.stats import pearsonr, spearmanr\n",
    "\n",
    "from math import sqrt\n",
    "from sklearn.linear_model import LinearRegression, LassoLars, TweedieRegressor\n",
    "from sklearn.preprocessing import PolynomialFeatures\n",
    "\n",
    "\n",
    "import matplotlib.pyplot as plt\n",
    "import seaborn as sns\n",
    "import warnings\n",
    "warnings.filterwarnings(\"ignore\")\n",
    "\n",
    "from bs4 import BeautifulSoup\n",
    "import prepare\n",
    "import plotly.express as px\n",
    "\n",
    "#imports to show interactive visuals on github\n",
    "import plotly.io as pio\n",
    "pio.renderers\n",
    "\n",
    "import modeling\n",
    "#import model\n",
    "import math\n",
    "from math import sqrt\n"
   ]
  },
  {
   "cell_type": "markdown",
   "id": "b347d36f",
   "metadata": {},
   "source": [
    "<hr style=\"border-top: 10px groove lightblue; margin-top: 1px; margin-bottom: 1px\"></hr>"
   ]
  },
  {
   "cell_type": "markdown",
   "id": "65c9c059",
   "metadata": {},
   "source": [
    "# `Acquire` Data."
   ]
  },
  {
   "cell_type": "code",
   "execution_count": 2,
   "id": "77b26fa7",
   "metadata": {},
   "outputs": [
    {
     "name": "stdout",
     "output_type": "stream",
     "text": [
      "Row and column count: (142079, 111)\n"
     ]
    }
   ],
   "source": [
    "df = acquire.get_fifa_data()\n",
    "print(\"Row and column count:\",df.shape)"
   ]
  },
  {
   "cell_type": "markdown",
   "id": "8192d4c6",
   "metadata": {},
   "source": [
    "<hr style=\"border-top: 10px groove lightblue; margin-top: 1px; margin-bottom: 1px\"></hr>"
   ]
  },
  {
   "cell_type": "markdown",
   "id": "01998d31",
   "metadata": {},
   "source": [
    "# Import [Prepare.py](https://github.com/Jules-Ray-Kayla-Bert-Capstone-FiFA/fifa/blob/main/prepare.py) File.\n",
    "`Summary:`\n",
    "    This file was created with the purpose of cleaning, encoding, scaling, dropping, and adding collumns to our existing data. It is necessary to complete this preperation step before we start exploring and modeling our data."
   ]
  },
  {
   "cell_type": "code",
   "execution_count": 3,
   "id": "dc8f5151",
   "metadata": {},
   "outputs": [
    {
     "name": "stdout",
     "output_type": "stream",
     "text": [
      "Before dropping nulls, 142079 rows, 111 cols\n",
      "After dropping nulls. 131489 rows. 66 cols\n",
      "After cleaning the data and adding additional columns there are: 98804 rows. 83 cols\n"
     ]
    }
   ],
   "source": [
    "#defining df as our imported prepped data.\n",
    "df = prepare.prepped_data(df)"
   ]
  },
  {
   "cell_type": "markdown",
   "id": "6c07340d",
   "metadata": {},
   "source": [
    "<hr style=\"border-top: 10px groove lightblue; margin-top: 1px; margin-bottom: 1px\"></hr>\n",
    "\n",
    "\n",
    "# Removing outliers"
   ]
  },
  {
   "cell_type": "code",
   "execution_count": 4,
   "id": "7551931d",
   "metadata": {},
   "outputs": [],
   "source": [
    "cols = ['overall','potential'] \n",
    "df = modeling.handle_outliers(df,cols,1.5)"
   ]
  },
  {
   "cell_type": "markdown",
   "id": "b3e6f837",
   "metadata": {},
   "source": [
    "<hr style=\"border-top: 10px groove lightblue; margin-top: 1px; margin-bottom: 1px\"></hr>\n",
    "\n",
    "# Assigning positions for future position modeling "
   ]
  },
  {
   "cell_type": "code",
   "execution_count": 5,
   "id": "3e0703a8",
   "metadata": {},
   "outputs": [],
   "source": [
    "goalkeeper_df, forward_df, midfielder_df, defender_df = prepare.acquire_players_by_position(df)"
   ]
  },
  {
   "cell_type": "markdown",
   "id": "7468e0b4",
   "metadata": {},
   "source": [
    "<hr style=\"border-top: 10px groove lightblue; margin-top: 1px; margin-bottom: 1px\"></hr>\n",
    "\n",
    "# Splitting Data for Modeling"
   ]
  },
  {
   "cell_type": "code",
   "execution_count": 6,
   "id": "aa0ea4f2",
   "metadata": {},
   "outputs": [
    {
     "ename": "NameError",
     "evalue": "name 's' is not defined",
     "output_type": "error",
     "traceback": [
      "\u001b[0;31m---------------------------------------------------------------------------\u001b[0m",
      "\u001b[0;31mNameError\u001b[0m                                 Traceback (most recent call last)",
      "\u001b[0;32m/var/folders/dc/8rtfvpyj2mb6mqbnfkf5dl400000gn/T/ipykernel_5302/2932766711.py\u001b[0m in \u001b[0;36m<module>\u001b[0;34m\u001b[0m\n\u001b[0;32m----> 1\u001b[0;31m \u001b[0ms\u001b[0m\u001b[0;34m\u001b[0m\u001b[0;34m\u001b[0m\u001b[0m\n\u001b[0m\u001b[1;32m      2\u001b[0m \u001b[0mtrain\u001b[0m\u001b[0;34m,\u001b[0m \u001b[0mvalidate\u001b[0m\u001b[0;34m,\u001b[0m \u001b[0mtest\u001b[0m \u001b[0;34m=\u001b[0m \u001b[0mprepare\u001b[0m\u001b[0;34m.\u001b[0m\u001b[0msplit\u001b[0m\u001b[0;34m(\u001b[0m\u001b[0mdf\u001b[0m\u001b[0;34m)\u001b[0m\u001b[0;34m\u001b[0m\u001b[0;34m\u001b[0m\u001b[0m\n",
      "\u001b[0;31mNameError\u001b[0m: name 's' is not defined"
     ]
    }
   ],
   "source": [
    "s\n",
    "train, validate, test = prepare.split(df)"
   ]
  },
  {
   "cell_type": "markdown",
   "id": "2e934705",
   "metadata": {},
   "source": [
    "<hr style=\"border-top: 10px groove lightblue; margin-top: 1px; margin-bottom: 1px\"></hr>\n",
    "\n",
    "# Overall Players\n",
    "\n",
    "## Plan\n",
    "- Use key features to create a good predictive model\n",
    "- Use a minimum of 3 models\n",
    "- Pick the best performing model\n",
    "- Run model on test data"
   ]
  },
  {
   "cell_type": "markdown",
   "id": "e3ef50b8",
   "metadata": {},
   "source": [
    "<hr style=\"border-top: 10px groove lightblue; margin-top: 1px; margin-bottom: 1px\"></hr>\n",
    "\n",
    "# Relationship to Wage_eur Plot"
   ]
  },
  {
   "cell_type": "code",
   "execution_count": null,
   "id": "3f55ff57",
   "metadata": {
    "scrolled": false
   },
   "outputs": [],
   "source": [
    "plt.figure(figsize = (12,8))\n",
    "train.corr()['wage_eur'].sort_values(ascending=False).plot(kind='barh', color='orange')\n",
    "plt.title('Relationship with wages')\n",
    "plt.xlabel('Relationship')\n",
    "plt.ylabel('Features')\n",
    "plt.show()"
   ]
  },
  {
   "cell_type": "code",
   "execution_count": null,
   "id": "4193d591",
   "metadata": {
    "scrolled": false
   },
   "outputs": [],
   "source": [
    "features_cor =  train.corr()['wage_eur'].sort_values(ascending=False)\n",
    "features_cor = pd.DataFrame(features_cor)\n",
    "features_cor.head(15)"
   ]
  },
  {
   "cell_type": "markdown",
   "id": "9df09add",
   "metadata": {},
   "source": [
    "`Takeaways:` \n",
    "For this Exploration section I wil be focusing on the skills that are under or equal to 70 percent of correlation and greater then 48 percent. \n",
    "The list below will be the skills and stats that I will be focusing on.\n",
    "\n",
    "- international_reputation\n",
    "- overall\n",
    "- passing\n",
    "- ball_control\n",
    "- short_passing\n",
    "- reactions\n",
    "- potential\n",
    "- dribbling\n",
    "- vision\n",
    "- skill_dribbling\n",
    "- league_yr_sum\n",
    "- long_passing\n",
    "- shooting\n",
    "\n",
    "<hr style=\"border-top: 10px groove lightblue; margin-top: 1px; margin-bottom: 1px\"></hr>\n"
   ]
  },
  {
   "cell_type": "markdown",
   "id": "bb5812ca",
   "metadata": {},
   "source": [
    "# MVP for Overall"
   ]
  },
  {
   "cell_type": "code",
   "execution_count": null,
   "id": "43e98e08",
   "metadata": {},
   "outputs": [],
   "source": [
    "# identifying mvp columns\n",
    "mvp = ['international_reputation','overall','reactions','potential']"
   ]
  },
  {
   "cell_type": "code",
   "execution_count": null,
   "id": "78db62b1",
   "metadata": {},
   "outputs": [],
   "source": [
    "X_train = train[mvp]\n",
    "y_train = train[['wage_eur']]\n",
    "\n",
    "X_validate = validate[mvp]\n",
    "y_validate = validate[['wage_eur']]\n",
    "\n",
    "X_test = test[mvp]\n",
    "y_test = test[['wage_eur']]"
   ]
  },
  {
   "cell_type": "markdown",
   "id": "934dfa34",
   "metadata": {},
   "source": [
    "<hr style=\"border-top: 10px groove lightblue; margin-top: 1px; margin-bottom: 1px\"></hr>\n",
    "\n",
    "# Modeling for Overall\n",
    "***\n",
    "<hr style=\"border-top: 10px groove lightblue; margin-top: 1px; margin-bottom: 1px\"></hr>"
   ]
  },
  {
   "cell_type": "markdown",
   "id": "59828ce6",
   "metadata": {},
   "source": [
    "# Baseline to beat = 14060.50\n",
    "# RMSE"
   ]
  },
  {
   "cell_type": "code",
   "execution_count": null,
   "id": "fdffedf5",
   "metadata": {},
   "outputs": [],
   "source": [
    "modeling.create_baseline(y_train, y_validate,' wage_eur')"
   ]
  },
  {
   "cell_type": "markdown",
   "id": "43bc7762",
   "metadata": {},
   "source": [
    "***\n",
    "# LinearRegression"
   ]
  },
  {
   "cell_type": "code",
   "execution_count": null,
   "id": "4c624657",
   "metadata": {},
   "outputs": [],
   "source": [
    "model = LinearRegression().fit(X_train, y_train.wage_eur)\n",
    "predictions = model.predict(X_train)"
   ]
  },
  {
   "cell_type": "code",
   "execution_count": null,
   "id": "5483d8f0",
   "metadata": {},
   "outputs": [],
   "source": [
    "modeling.linear_model(y_train,y_validate, X_train,X_validate)"
   ]
  },
  {
   "cell_type": "markdown",
   "id": "3ab1c166",
   "metadata": {},
   "source": [
    "***\n",
    "# Lasso + Lars"
   ]
  },
  {
   "cell_type": "code",
   "execution_count": null,
   "id": "cde56442",
   "metadata": {},
   "outputs": [],
   "source": [
    "modeling.lassolars_model(y_train,y_validate,X_train,X_validate)"
   ]
  },
  {
   "cell_type": "markdown",
   "id": "c6b974d2",
   "metadata": {},
   "source": [
    "***\n",
    "# TweedieRegressor"
   ]
  },
  {
   "cell_type": "code",
   "execution_count": null,
   "id": "26413797",
   "metadata": {},
   "outputs": [],
   "source": [
    "modeling.tweedie_model(y_train,y_validate,X_train,X_validate)"
   ]
  },
  {
   "cell_type": "markdown",
   "id": "badf5443",
   "metadata": {},
   "source": [
    "<hr style=\"border-top: 10px groove lightblue; margin-top: 1px; margin-bottom: 1px\"></hr>\n",
    "\n",
    "\n",
    "# Evaluating Models"
   ]
  },
  {
   "cell_type": "code",
   "execution_count": null,
   "id": "7c58b3ff",
   "metadata": {},
   "outputs": [],
   "source": [
    "from sklearn.linear_model import LinearRegression\n",
    "#residuals\n",
    "y_train['lm_residuals'] = y_train['wage_eur_pred_lm'] - y_train['wage_eur']\n",
    "y_validate['lm_residuals'] = y_validate['wage_eur_pred_lm'] - y_validate['wage_eur']\n",
    "#residuals\n",
    "y_train['lars_residuals'] = y_train['wage_eur_pred_lars'] - y_train['wage_eur']\n",
    "y_validate['lars_residuals'] = y_validate['wage_eur_pred_lars'] - y_validate['wage_eur']\n",
    "#residuals\n",
    "y_train['glm_residuals'] = y_train['wage_eur_pred_glm'] - y_train['wage_eur']\n",
    "y_validate['glm_residuals'] = y_validate['wage_eur_pred_glm'] - y_validate['wage_eur']\n",
    "y_test = pd.DataFrame(y_test)\n",
    "y = pd.DataFrame(y_train.wage_eur)\n",
    "X = pd.DataFrame(X_train)\n",
    "# assuming X and y are already defined\n",
    "m = LinearRegression().fit(X, y)\n",
    "train['yhat'] = m.predict(X)\n",
    "\n",
    "df = pd.DataFrame(train[['international_reputation','overall','reactions',\n",
    "                         'potential','wage_eur','yhat']])"
   ]
  },
  {
   "cell_type": "code",
   "execution_count": null,
   "id": "8e7313bc",
   "metadata": {},
   "outputs": [],
   "source": [
    "df['baseline'] = y.wage_eur.mean()\n",
    "# turning baseline to int from float\n",
    "df.baseline = df.baseline.astype(int)\n",
    "# residual = actual - predicted\n",
    "df['residual'] = df.wage_eur - df.yhat\n",
    "df['baseline_residual'] = df.wage_eur - df.baseline"
   ]
  },
  {
   "cell_type": "markdown",
   "id": "b62bde2e",
   "metadata": {},
   "source": [
    "## Baseline = 14060.50"
   ]
  },
  {
   "cell_type": "code",
   "execution_count": null,
   "id": "67da25db",
   "metadata": {
    "scrolled": false
   },
   "outputs": [],
   "source": [
    "y_train"
   ]
  },
  {
   "cell_type": "code",
   "execution_count": null,
   "id": "f3eca5fb",
   "metadata": {},
   "outputs": [],
   "source": [
    "modeling.actual_vs_predicted(train,y_train,y_validate,X_train,X_validate,y_test)"
   ]
  },
  {
   "cell_type": "code",
   "execution_count": null,
   "id": "57bcacdd",
   "metadata": {},
   "outputs": [],
   "source": [
    "modeling.metrics(df,y_train,y_validate,X_train,X_validate)"
   ]
  },
  {
   "cell_type": "code",
   "execution_count": null,
   "id": "b01fa194",
   "metadata": {},
   "outputs": [],
   "source": [
    "\n",
    "# We need y_train and y_validate to be dataframes to append the new columns with predicted values. \n",
    "y_train = pd.DataFrame(y_train)\n",
    "y_validate = pd.DataFrame(y_validate)\n",
    "\n",
    "# 1. Predict wage_eur_pred_mean\n",
    "wage_eur_pred_mean = y_train['wage_eur'].mean()\n",
    "y_train['wage_eur_pred_mean'] = wage_eur_pred_mean\n",
    "y_validate['wage_eur_pred_mean'] = wage_eur_pred_mean\n",
    "\n",
    "# 2. compute wage_eur_pred_median\n",
    "wage_eur_pred_median = y_train['wage_eur'].median()\n",
    "y_train['wage_eur_pred_median'] = wage_eur_pred_median\n",
    "y_validate['wage_eur_pred_median'] = wage_eur_pred_median\n",
    "\n",
    "# 3. RMSE of wage_eur_pred_mean\n",
    "rmse_train = mean_squared_error(y_train.wage_eur, y_train.wage_eur_pred_mean)**(1/2)\n",
    "rmse_validate = mean_squared_error(y_validate.wage_eur, y_validate.wage_eur_pred_mean)**(1/2)\n",
    "\n",
    "print(\"RMSE using Mean\\nTrain/In-Sample: \", round(rmse_train, 2), \n",
    "      \"\\nValidate/Out-of-Sample: \", round(rmse_validate, 2))\n",
    "\n",
    "# 4. RMSE of wage_eur_pred_median\n",
    "rmse_train = mean_squared_error(y_train.wage_eur, y_train.wage_eur_pred_median)**(1/2)\n",
    "rmse_validate = mean_squared_error(y_validate.wage_eur, y_validate.wage_eur_pred_median)**(1/2)\n",
    "# create the model object\n",
    "lm = LinearRegression(normalize=True)\n",
    "\n",
    "# fit the model to our training data. We must specify the column in y_train, \n",
    "# since we have converted it to a dataframe from a series! \n",
    "lm.fit(X_train, y_train.wage_eur)\n",
    "\n",
    "# predict train\n",
    "y_train['wage_eur_pred_lm'] = lm.predict(X_train)\n",
    "\n",
    "# evaluate: rmse\n",
    "rmse_train = mean_squared_error(y_train.wage_eur, y_train.wage_eur_pred_lm)**(1/2)\n",
    "\n",
    "# predict validate\n",
    "y_validate['wage_eur_pred_lm'] = lm.predict(X_validate)\n",
    "\n",
    "# evaluate: rmse\n",
    "rmse_validate_lm = mean_squared_error(y_validate.wage_eur, y_validate.wage_eur_pred_lm)**(1/2)\n",
    "##############################################################\n",
    "# create the model object\n",
    "lars = LassoLars(alpha=1.0)\n",
    "\n",
    "# fit the model to our training data. We must specify the column in y_train, \n",
    "# since we have converted it to a dataframe from a series! \n",
    "lars.fit(X_train, y_train.wage_eur)\n",
    "\n",
    "# predict train\n",
    "y_train['wage_eur_pred_lars'] = lars.predict(X_train)\n",
    "\n",
    "# evaluate: rmse\n",
    "rmse_train_lars = mean_squared_error(y_train.wage_eur, y_train.wage_eur_pred_lars)**(1/2)\n",
    "\n",
    "# predict validate\n",
    "y_validate['wage_eur_pred_lars'] = lars.predict(X_validate)\n",
    "\n",
    "# evaluate: rmse\n",
    "rmse_validate_lars = mean_squared_error(y_validate.wage_eur, y_validate.wage_eur_pred_lars)**(1/2)\n",
    "#########################################################\n",
    "glm = TweedieRegressor(power=1, alpha=0)\n",
    "\n",
    "# fit the model to our training data. We must specify the column in y_train, \n",
    "# since we have converted it to a dataframe from a series! \n",
    "glm.fit(X_train, y_train.wage_eur)\n",
    "\n",
    "# predict train\n",
    "y_train['wage_eur_pred_glm'] = glm.predict(X_train)\n",
    "\n",
    "# evaluate: rmse\n",
    "rmse_train_glm = mean_squared_error(y_train.wage_eur, y_train.wage_eur_pred_glm)**(1/2)\n",
    "\n",
    "# predict validate\n",
    "y_validate['wage_eur_pred_glm'] = glm.predict(X_validate)\n",
    "\n",
    "# evaluate: rmse\n",
    "rmse_validate_glm = mean_squared_error(y_validate.wage_eur, y_validate.wage_eur_pred_glm)**(1/2)\n",
    "y_test = pd.DataFrame(y_test)\n",
    "###########################################################\n",
    "# predict on test\n",
    "# y_test['wage_eur_pred_LINEAR'] = lm.predict(X_test)\n",
    "\n",
    "# # evaluate: rmse\n",
    "# rmse_test_lm = mean_squared_error(y_test.wage_eur, y_test.wage_eur_pred_LINEAR)**(1/2)\n",
    "\n",
    "# print(\"RMSE for OLS Model using LinearRegression\\nOut-of-Sample Performance: \", rmse_test_lm)\n",
    "\n",
    "# y_test = pd.DataFrame(y_test)\n",
    "\n",
    "# # predict on test\n",
    "# y_test['wage_eur_pred_LASSO'] = lars.predict(X_test)\n",
    "\n",
    "# # evaluate: rmse\n",
    "# rmse_test_lars = mean_squared_error(y_test.wage_eur, y_test.wage_eur_pred_LASSO)**(1/2)\n",
    "\n",
    "# print(\"RMSE for OLS Model using Lasso\\nOut-of-Sample Performance: \", rmse_test_lars)\n",
    "\n",
    "y_test = pd.DataFrame(y_test)\n",
    "\n",
    "#predict on test\n",
    "y_test['wage_eur_pred_glm'] = glm.predict(X_test)\n",
    "\n",
    "# evaluate: rmse\n",
    "rmse_test = mean_squared_error(y_test.wage_eur, y_test.wage_eur_pred_glm)**(1/2)\n",
    "print(\"RMSE for GLM using Tweedie, power=1 & alpha=0\\nTraining/In-Sample: \", rmse_train, \n",
    "      \"\\nValidation/Out-of-Sample: \", rmse_validate_glm)\n"
   ]
  },
  {
   "cell_type": "code",
   "execution_count": null,
   "id": "b363bde2",
   "metadata": {},
   "outputs": [],
   "source": [
    "y_test"
   ]
  },
  {
   "cell_type": "code",
   "execution_count": null,
   "id": "92eb38b5",
   "metadata": {},
   "outputs": [],
   "source": [
    "fig = px.histogram(y_test.sample(n=1800, replace=False, random_state=123).sort_index())\n",
    "fig"
   ]
  },
  {
   "cell_type": "markdown",
   "id": "80b7bd4b",
   "metadata": {},
   "source": [
    "<hr style=\"border-top: 10px groove lightblue; margin-top: 1px; margin-bottom: 1px\"></hr>\n",
    "<hr style=\"border-top: 10px groove lightblue; margin-top: 1px; margin-bottom: 1px\"></hr>\n",
    "\n",
    "***\n",
    "\n",
    "# End of Overall Modeling, now to focus on `Forwards`.\n",
    "***\n",
    "<hr style=\"border-top: 10px groove green; margin-top: 1px; margin-bottom: 1px\"></hr>\n",
    "<hr style=\"border-top: 10px groove green; margin-top: 1px; margin-bottom: 1px\"></hr>"
   ]
  },
  {
   "cell_type": "code",
   "execution_count": null,
   "id": "603f5e9e",
   "metadata": {},
   "outputs": [],
   "source": [
    "df = forward_df"
   ]
  },
  {
   "cell_type": "markdown",
   "id": "2fb332c1",
   "metadata": {},
   "source": [
    "<hr style=\"border-top: 10px groove green; margin-top: 1px; margin-bottom: 1px\"></hr>\n",
    "\n",
    "# Splitting Data"
   ]
  },
  {
   "cell_type": "code",
   "execution_count": null,
   "id": "b895e3b4",
   "metadata": {},
   "outputs": [],
   "source": [
    "train, validate, test = prepare.split(df)"
   ]
  },
  {
   "cell_type": "markdown",
   "id": "9d469efd",
   "metadata": {},
   "source": [
    "<hr style=\"border-top: 10px groove green; margin-top: 1px; margin-bottom: 1px\"></hr>\n",
    "\n",
    "# Relationship to Wage_eur Plot"
   ]
  },
  {
   "cell_type": "code",
   "execution_count": null,
   "id": "cab2e38b",
   "metadata": {},
   "outputs": [],
   "source": [
    "plt.figure(figsize = (12,8))\n",
    "train.corr()['wage_eur'].sort_values(ascending=False).plot(kind='barh', color='orange')\n",
    "plt.title('Relationship with wages & Forward players')\n",
    "plt.xlabel('Relationship')\n",
    "plt.ylabel('Features')\n",
    "plt.show()"
   ]
  },
  {
   "cell_type": "code",
   "execution_count": null,
   "id": "c4bdb241",
   "metadata": {},
   "outputs": [],
   "source": [
    "features_cor =  train.corr()['wage_eur'].sort_values(ascending=False)\n",
    "features_cor = pd.DataFrame(features_cor)\n",
    "features_cor.head(15)"
   ]
  },
  {
   "cell_type": "markdown",
   "id": "58e66867",
   "metadata": {},
   "source": [
    "`Takeaways:` \n",
    "For this Exploration section I wil be focusing on the skills that are under or equal to 70 percent of correlation and greater then 48 percent. \n",
    "The list below will be the skills and stats that I will be focusing on.\n",
    "\n",
    "- international_reputation\n",
    "- overall\n",
    "- passing\n",
    "- positioning\n",
    "- ball_control\n",
    "- shooting\n",
    "- reactions\n",
    "\n",
    "<hr style=\"border-top: 10px groove green; margin-top: 1px; margin-bottom: 1px\"></hr>\n"
   ]
  },
  {
   "cell_type": "markdown",
   "id": "827fe202",
   "metadata": {},
   "source": [
    "# MVP for Overall"
   ]
  },
  {
   "cell_type": "code",
   "execution_count": null,
   "id": "302e2cfb",
   "metadata": {},
   "outputs": [],
   "source": [
    "# identifying mvp columns\n",
    "mvp = ['international_reputation','overall']\n",
    "X_train = train[mvp]\n",
    "y_train = train[['wage_eur']]\n",
    "\n",
    "X_validate = validate[mvp]\n",
    "y_validate = validate[['wage_eur']]\n",
    "\n",
    "X_test = test[mvp]\n",
    "y_test = test[['wage_eur']]"
   ]
  },
  {
   "cell_type": "markdown",
   "id": "8d81807b",
   "metadata": {},
   "source": [
    "<hr style=\"border-top: 10px groove green; margin-top: 1px; margin-bottom: 1px\"></hr>\n",
    "\n",
    "# Modeling for Forwards\n",
    "***\n",
    "<hr style=\"border-top: 10px groove green; margin-top: 1px; margin-bottom: 1px\"></hr>"
   ]
  },
  {
   "cell_type": "markdown",
   "id": "e5453e46",
   "metadata": {},
   "source": [
    "# Baseline to beat = 14060.50\n",
    "# RMSE"
   ]
  },
  {
   "cell_type": "code",
   "execution_count": null,
   "id": "2387e80d",
   "metadata": {},
   "outputs": [],
   "source": [
    "modeling.create_baseline(y_train, y_validate,' wage_eur')"
   ]
  },
  {
   "cell_type": "markdown",
   "id": "2e3ec7d0",
   "metadata": {},
   "source": [
    "***\n",
    "# LinearRegression"
   ]
  },
  {
   "cell_type": "code",
   "execution_count": null,
   "id": "a1643836",
   "metadata": {},
   "outputs": [],
   "source": [
    "model = LinearRegression().fit(X_train, y_train.wage_eur)\n",
    "predictions = model.predict(X_train)\n",
    "modeling.linear_model(y_train,y_validate, X_train,X_validate)"
   ]
  },
  {
   "cell_type": "markdown",
   "id": "824bc34e",
   "metadata": {},
   "source": [
    "***\n",
    "# Lasso + Lars"
   ]
  },
  {
   "cell_type": "code",
   "execution_count": null,
   "id": "8d65597b",
   "metadata": {},
   "outputs": [],
   "source": [
    "modeling.lassolars_model(y_train,y_validate,X_train,X_validate)"
   ]
  },
  {
   "cell_type": "markdown",
   "id": "8bfdecee",
   "metadata": {},
   "source": [
    "***\n",
    "# TweedieRegressor"
   ]
  },
  {
   "cell_type": "code",
   "execution_count": null,
   "id": "d1bd3d0f",
   "metadata": {},
   "outputs": [],
   "source": [
    "modeling.tweedie_model(y_train,y_validate,X_train,X_validate)"
   ]
  },
  {
   "cell_type": "markdown",
   "id": "f3e5e9f4",
   "metadata": {},
   "source": [
    "<hr style=\"border-top: 10px groove green; margin-top: 1px; margin-bottom: 1px\"></hr>\n",
    "\n",
    "\n",
    "# Evaluating Models"
   ]
  },
  {
   "cell_type": "code",
   "execution_count": null,
   "id": "d49f4608",
   "metadata": {},
   "outputs": [],
   "source": [
    "from sklearn.linear_model import LinearRegression\n",
    "#residuals\n",
    "y_train['lm_residuals'] = y_train['wage_eur_pred_lm'] - y_train['wage_eur']\n",
    "y_validate['lm_residuals'] = y_validate['wage_eur_pred_lm'] - y_validate['wage_eur']\n",
    "#residuals\n",
    "y_train['lars_residuals'] = y_train['wage_eur_pred_lars'] - y_train['wage_eur']\n",
    "y_validate['lars_residuals'] = y_validate['wage_eur_pred_lars'] - y_validate['wage_eur']\n",
    "#residuals\n",
    "y_train['glm_residuals'] = y_train['wage_eur_pred_glm'] - y_train['wage_eur']\n",
    "y_validate['glm_residuals'] = y_validate['wage_eur_pred_glm'] - y_validate['wage_eur']\n",
    "y_test = pd.DataFrame(y_test)\n",
    "y = pd.DataFrame(y_train.wage_eur)\n",
    "X = pd.DataFrame(X_train)\n",
    "# assuming X and y are already defined\n",
    "m = LinearRegression().fit(X, y)\n",
    "train['yhat'] = m.predict(X)\n",
    "\n",
    "df = pd.DataFrame(train[['international_reputation','overall','shooting','wage_eur','yhat']])"
   ]
  },
  {
   "cell_type": "code",
   "execution_count": null,
   "id": "21cbca6b",
   "metadata": {},
   "outputs": [],
   "source": [
    "df['baseline'] = y.wage_eur.mean()\n",
    "# turning baseline to int from float\n",
    "df.baseline = df.baseline.astype(int)\n",
    "# residual = actual - predicted\n",
    "df['residual'] = df.wage_eur - df.yhat\n",
    "df['baseline_residual'] = df.wage_eur - df.baseline\n",
    "y_train"
   ]
  },
  {
   "cell_type": "code",
   "execution_count": null,
   "id": "8a7e5966",
   "metadata": {},
   "outputs": [],
   "source": [
    "modeling.actual_vs_predicted(train,y_train,y_validate,X_train,X_validate,y_test)"
   ]
  },
  {
   "cell_type": "code",
   "execution_count": null,
   "id": "73516822",
   "metadata": {},
   "outputs": [],
   "source": [
    "modeling.metrics(df,y_train,y_validate,X_train,X_validate)"
   ]
  },
  {
   "cell_type": "markdown",
   "id": "757d3565",
   "metadata": {},
   "source": [
    "<hr style=\"border-top: 10px groove green; margin-top: 1px; margin-bottom: 1px\"></hr>\n",
    "\n",
    "# Testing"
   ]
  },
  {
   "cell_type": "code",
   "execution_count": null,
   "id": "9c89f25a",
   "metadata": {},
   "outputs": [],
   "source": [
    "# We need y_train and y_validate to be dataframes to append the new columns with predicted values. \n",
    "y_train = pd.DataFrame(y_train)\n",
    "y_validate = pd.DataFrame(y_validate)\n",
    "\n",
    "# 1. Predict wage_eur_pred_mean\n",
    "wage_eur_pred_mean = y_train['wage_eur'].mean()\n",
    "y_train['wage_eur_pred_mean'] = wage_eur_pred_mean\n",
    "y_validate['wage_eur_pred_mean'] = wage_eur_pred_mean\n",
    "\n",
    "# 2. compute wage_eur_pred_median\n",
    "wage_eur_pred_median = y_train['wage_eur'].median()\n",
    "y_train['wage_eur_pred_median'] = wage_eur_pred_median\n",
    "y_validate['wage_eur_pred_median'] = wage_eur_pred_median\n",
    "\n",
    "# 3. RMSE of wage_eur_pred_mean\n",
    "rmse_train = mean_squared_error(y_train.wage_eur, y_train.wage_eur_pred_mean)**(1/2)\n",
    "rmse_validate = mean_squared_error(y_validate.wage_eur, y_validate.wage_eur_pred_mean)**(1/2)\n",
    "\n",
    "print(\"RMSE using Mean\\nTrain/In-Sample: \", round(rmse_train, 2), \n",
    "      \"\\nValidate/Out-of-Sample: \", round(rmse_validate, 2))\n",
    "\n",
    "# 4. RMSE of wage_eur_pred_median\n",
    "rmse_train = mean_squared_error(y_train.wage_eur, y_train.wage_eur_pred_median)**(1/2)\n",
    "rmse_validate = mean_squared_error(y_validate.wage_eur, y_validate.wage_eur_pred_median)**(1/2)\n",
    "# create the model object\n",
    "lm = LinearRegression(normalize=True)\n",
    "\n",
    "# fit the model to our training data. We must specify the column in y_train, \n",
    "# since we have converted it to a dataframe from a series! \n",
    "lm.fit(X_train, y_train.wage_eur)\n",
    "\n",
    "# predict train\n",
    "y_train['wage_eur_pred_lm'] = lm.predict(X_train)\n",
    "\n",
    "# evaluate: rmse\n",
    "rmse_train = mean_squared_error(y_train.wage_eur, y_train.wage_eur_pred_lm)**(1/2)\n",
    "\n",
    "# predict validate\n",
    "y_validate['wage_eur_pred_lm'] = lm.predict(X_validate)\n",
    "\n",
    "# evaluate: rmse\n",
    "rmse_validate_lm = mean_squared_error(y_validate.wage_eur, y_validate.wage_eur_pred_lm)**(1/2)\n",
    "##############################################################\n",
    "# create the model object\n",
    "lars = LassoLars(alpha=1.0)\n",
    "\n",
    "# fit the model to our training data. We must specify the column in y_train, \n",
    "# since we have converted it to a dataframe from a series! \n",
    "lars.fit(X_train, y_train.wage_eur)\n",
    "\n",
    "# predict train\n",
    "y_train['wage_eur_pred_lars'] = lars.predict(X_train)\n",
    "\n",
    "# evaluate: rmse\n",
    "rmse_train_lars = mean_squared_error(y_train.wage_eur, y_train.wage_eur_pred_lars)**(1/2)\n",
    "\n",
    "# predict validate\n",
    "y_validate['wage_eur_pred_lars'] = lars.predict(X_validate)\n",
    "\n",
    "# evaluate: rmse\n",
    "rmse_validate_lars = mean_squared_error(y_validate.wage_eur, y_validate.wage_eur_pred_lars)**(1/2)\n",
    "#########################################################\n",
    "glm = TweedieRegressor(power=1, alpha=0)\n",
    "\n",
    "# fit the model to our training data. We must specify the column in y_train, \n",
    "# since we have converted it to a dataframe from a series! \n",
    "glm.fit(X_train, y_train.wage_eur)\n",
    "\n",
    "# predict train\n",
    "y_train['wage_eur_pred_glm'] = glm.predict(X_train)\n",
    "\n",
    "# evaluate: rmse\n",
    "rmse_train_glm = mean_squared_error(y_train.wage_eur, y_train.wage_eur_pred_glm)**(1/2)\n",
    "\n",
    "# predict validate\n",
    "y_validate['wage_eur_pred_glm'] = glm.predict(X_validate)\n",
    "\n",
    "# evaluate: rmse\n",
    "rmse_validate_glm = mean_squared_error(y_validate.wage_eur, y_validate.wage_eur_pred_glm)**(1/2)\n",
    "y_test = pd.DataFrame(y_test)\n",
    "###########################################################\n",
    "\n",
    "y_test = pd.DataFrame(y_test)\n",
    "\n",
    "#predict on test\n",
    "y_test['wage_eur_pred_glm'] = glm.predict(X_test)\n",
    "\n",
    "# evaluate: rmse\n",
    "rmse_test = mean_squared_error(y_test.wage_eur, y_test.wage_eur_pred_glm)**(1/2)\n",
    "print(\"RMSE for GLM using Tweedie, power=1 & alpha=0\\nTraining/In-Sample: \", rmse_train, \n",
    "      \"\\nValidation/Out-of-Sample: \", rmse_validate_glm)\n"
   ]
  },
  {
   "cell_type": "code",
   "execution_count": null,
   "id": "1087e7d6",
   "metadata": {},
   "outputs": [],
   "source": [
    "y_test"
   ]
  },
  {
   "cell_type": "code",
   "execution_count": null,
   "id": "b7dcce3a",
   "metadata": {},
   "outputs": [],
   "source": [
    "fig = px.histogram(y_test.sample(n=2000, replace=False, random_state=123).sort_index())\n",
    "fig"
   ]
  },
  {
   "cell_type": "markdown",
   "id": "f0624f4a",
   "metadata": {},
   "source": [
    "<hr style=\"border-top: 10px groove green; margin-top: 1px; margin-bottom: 1px\"></hr>\n",
    "<hr style=\"border-top: 10px groove green; margin-top: 1px; margin-bottom: 1px\"></hr>\n",
    "\n",
    "***\n",
    "\n",
    "# End of Forward Modeling, now to focus on `Midfielders`.\n",
    "***\n",
    "<hr style=\"border-top: 10px groove lightblue; margin-top: 1px; margin-bottom: 1px\"></hr>\n",
    "<hr style=\"border-top: 10px groove lightblue; margin-top: 1px; margin-bottom: 1px\"></hr>"
   ]
  },
  {
   "cell_type": "code",
   "execution_count": 7,
   "id": "b9425037",
   "metadata": {},
   "outputs": [
    {
     "data": {
      "application/vnd.jupyter.widget-view+json": {
       "model_id": "f9f01d12495f46d593543a5de0f3b08c"
      },
      "text/plain": [
       "       sofifa_id     short_name player_positions  overall  potential  \\\n",
       "7         199556    M. Verratti          CM, CAM       87         87   \n",
       "10        181291   G. Wijnaldum          CM, CDM       84         84   \n",
       "35        199556    M. Verratti          CM, CDM       86         87   \n",
       "38        193474       I. Gueye          CDM, CM       84         84   \n",
       "70        191740  Ander Herrera          CM, CDM       82         82   \n",
       "...          ...            ...              ...      ...        ...   \n",
       "98649     233111     P. Brennan               CM       48         59   \n",
       "98651     236309      C. Sutton               CM       47         69   \n",
       "98699     256215     M. Peltola              CDM       57         74   \n",
       "98791     232023      A. Pelvas               RM       61         61   \n",
       "98801     234297   S. Dahlström               CM       57         72   \n",
       "\n",
       "        value_eur  wage_eur  age  height_cm  weight_kg  ...  league_yr_sum  \\\n",
       "7      79500000.0  155000.0   28        165         60  ...   5.034099e+09   \n",
       "10     40500000.0  115000.0   30        175         74  ...   5.034099e+09   \n",
       "35     77500000.0  135000.0   27        165         60  ...   5.034099e+09   \n",
       "38     35500000.0  105000.0   30        174         66  ...   5.034099e+09   \n",
       "70     21500000.0  100000.0   29        182         73  ...   5.034099e+09   \n",
       "...           ...       ...  ...        ...        ...  ...            ...   \n",
       "98649     50000.0     500.0   19        177         75  ...   1.222338e+08   \n",
       "98651     70000.0     500.0   18        180         75  ...   1.222338e+08   \n",
       "98699    400000.0     500.0   18        187         70  ...   3.504800e+06   \n",
       "98791    230000.0     500.0   27        185         80  ...   3.504800e+06   \n",
       "98801    240000.0     500.0   19        181         83  ...   3.504800e+06   \n",
       "\n",
       "      club_name_yr_sum seniority  club_position_encoded work_rate_encoded  \\\n",
       "7          991694600.0        10                     11                 6   \n",
       "10         991694600.0         1                      4                 9   \n",
       "35         991694600.0         9                     11                 6   \n",
       "38         991694600.0         2                      4                 6   \n",
       "70         991694600.0         1                     11                 9   \n",
       "...                ...       ...                    ...               ...   \n",
       "98649         650000.0         1                     22                 5   \n",
       "98651         650000.0         1                     22                 5   \n",
       "98699        3504800.0         2                     22                 6   \n",
       "98791        3504800.0         1                     22                 5   \n",
       "98801        3504800.0         1                     22                 5   \n",
       "\n",
       "      preferred_foot_encoded age_bins_encoded weight_bins_encoded  \\\n",
       "7                          2                2                   1   \n",
       "10                         2                1                   2   \n",
       "35                         2                2                   1   \n",
       "38                         2                1                   1   \n",
       "70                         2                2                   2   \n",
       "...                      ...              ...                 ...   \n",
       "98649                      2                2                   2   \n",
       "98651                      2                2                   2   \n",
       "98699                      2                2                   2   \n",
       "98791                      1                2                   2   \n",
       "98801                      2                2                   2   \n",
       "\n",
       "      body_type_encoded  league_encoded  \n",
       "7                     1               4  \n",
       "10                    1               4  \n",
       "35                    1               4  \n",
       "38                    3               4  \n",
       "70                    3               4  \n",
       "...                 ...             ...  \n",
       "98649                 2              24  \n",
       "98651                 2              24  \n",
       "98699                 4              42  \n",
       "98791                 5              42  \n",
       "98801                 2              42  \n",
       "\n",
       "[36477 rows x 83 columns]"
      ]
     },
     "metadata": {},
     "output_type": "display_data"
    }
   ],
   "source": [
    "df = midfielder_df\n",
    "df"
   ]
  },
  {
   "cell_type": "markdown",
   "id": "bc633424",
   "metadata": {},
   "source": [
    "<hr style=\"border-top: 10px groove lightblue; margin-top: 1px; margin-bottom: 1px\"></hr>\n",
    "\n",
    "# Splitting Data"
   ]
  },
  {
   "cell_type": "code",
   "execution_count": 8,
   "id": "cff7f006",
   "metadata": {},
   "outputs": [
    {
     "name": "stdout",
     "output_type": "stream",
     "text": [
      "Train: 21749 rows, 83 cols\n",
      "Validate: 9639 rows, 83 cols\n",
      "Test: 5089 rows, 83 cols\n"
     ]
    }
   ],
   "source": [
    "train, validate, test = prepare.split(df)"
   ]
  },
  {
   "cell_type": "markdown",
   "id": "112d8c16",
   "metadata": {},
   "source": [
    "<hr style=\"border-top: 10px groove lightblue; margin-top: 1px; margin-bottom: 1px\"></hr>\n",
    "\n",
    "\n",
    "# Relationship to Wage_eur Plot"
   ]
  },
  {
   "cell_type": "code",
   "execution_count": 9,
   "id": "a32f15ce",
   "metadata": {},
   "outputs": [
    {
     "data": {
      "image/png": "[encoded data removed]",
      "text/plain": [
       "<Figure size 864x576 with 1 Axes>"
      ]
     },
     "metadata": {
      "needs_background": "light"
     },
     "output_type": "display_data"
    }
   ],
   "source": [
    "plt.figure(figsize = (12,8))\n",
    "train.corr()['wage_eur'].sort_values(ascending=False).plot(kind='barh', color='orange')\n",
    "plt.title('Relationship with wages')\n",
    "plt.xlabel('Relationship')\n",
    "plt.ylabel('Features')\n",
    "plt.show()"
   ]
  },
  {
   "cell_type": "code",
   "execution_count": 10,
   "id": "7f23f7ab",
   "metadata": {},
   "outputs": [
    {
     "data": {
      "application/vnd.jupyter.widget-view+json": {
       "model_id": "b37bdadd6f1e4a40be2f775758ba38e1"
      },
      "text/plain": [
       "                          wage_eur\n",
       "wage_eur                  1.000000\n",
       "wage_year                 1.000000\n",
       "total_wage                0.801682\n",
       "value_eur                 0.799817\n",
       "international_reputation  0.703696\n",
       "club_name_yr_sum          0.690211\n",
       "overall                   0.669972\n",
       "passing                   0.611213\n",
       "ball_control              0.610198\n",
       "short_passing             0.597582\n",
       "reactions                 0.579683\n",
       "potential                 0.569505\n",
       "dribbling                 0.566178\n",
       "vision                    0.545699\n",
       "skill_dribbling           0.520693"
      ]
     },
     "metadata": {},
     "output_type": "display_data"
    }
   ],
   "source": [
    "features_cor =  train.corr()['wage_eur'].sort_values(ascending=False)\n",
    "features_cor = pd.DataFrame(features_cor)\n",
    "features_cor.head(15)"
   ]
  },
  {
   "cell_type": "markdown",
   "id": "2965fbe0",
   "metadata": {},
   "source": [
    "`Takeaways:` \n",
    "For this Exploration section I wil be focusing on the skills that are under or equal to 70 percent of correlation and greater then 48 percent. \n",
    "The list below will be the skills and stats that I will be focusing on.\n",
    "\n",
    "- international_reputation\n",
    "- overall\n",
    "- passing\n",
    "- ball_control\n",
    "\n",
    "\n",
    "<hr style=\"border-top: 10px groove lightblue; margin-top: 1px; margin-bottom: 1px\"></hr>"
   ]
  },
  {
   "cell_type": "markdown",
   "id": "58ff7fee",
   "metadata": {},
   "source": [
    "# MVP for Midfielders"
   ]
  },
  {
   "cell_type": "code",
   "execution_count": 11,
   "id": "7482efa8",
   "metadata": {},
   "outputs": [],
   "source": [
    "# identifying mvp columns\n",
    "mvp = ['international_reputation','overall','passing']\n",
    "X_train = train[mvp]\n",
    "y_train = train[['wage_eur']]\n",
    "\n",
    "X_validate = validate[mvp]\n",
    "y_validate = validate[['wage_eur']]\n",
    "\n",
    "X_test = test[mvp]\n",
    "y_test = test[['wage_eur']]"
   ]
  },
  {
   "cell_type": "markdown",
   "id": "32a64d8f",
   "metadata": {},
   "source": [
    "<hr style=\"border-top: 10px groove lightblue; margin-top: 1px; margin-bottom: 1px\"></hr>\n",
    "\n",
    "# Modeling for Midfielders\n",
    "***\n",
    "<hr style=\"border-top: 10px groove lightblue; margin-top: 1px; margin-bottom: 1px\"></hr>"
   ]
  },
  {
   "cell_type": "markdown",
   "id": "6f0c15ec",
   "metadata": {},
   "source": [
    "# Baseline to beat = 14060.50\n",
    "# RMSE"
   ]
  },
  {
   "cell_type": "code",
   "execution_count": 12,
   "id": "7ccbf218",
   "metadata": {},
   "outputs": [
    {
     "name": "stdout",
     "output_type": "stream",
     "text": [
      "RMSE using Mean\n",
      "Train/In-Sample:  24203.75 \n",
      "Validate/Out-of-Sample:  20560.17\n",
      "RMSE using Median\n",
      "Train/In-Sample:  26092.17 \n",
      "Validate/Out-of-Sample:  20954.88\n"
     ]
    }
   ],
   "source": [
    "modeling.create_baseline(y_train, y_validate,' wage_eur')"
   ]
  },
  {
   "cell_type": "markdown",
   "id": "560984d2",
   "metadata": {},
   "source": [
    "***\n",
    "# Lasso + Lars"
   ]
  },
  {
   "cell_type": "code",
   "execution_count": 13,
   "id": "3f78a3a0",
   "metadata": {},
   "outputs": [],
   "source": [
    "model = LinearRegression().fit(X_train, y_train.wage_eur)\n",
    "predictions = model.predict(X_train)"
   ]
  },
  {
   "cell_type": "code",
   "execution_count": 14,
   "id": "8b5fd583",
   "metadata": {},
   "outputs": [
    {
     "name": "stdout",
     "output_type": "stream",
     "text": [
      "RMSE for Lasso + Lars\n",
      "Training/In-Sample:  14948.955407541534 \n",
      "Validation/Out-of-Sample:  14189.464814961639\n"
     ]
    }
   ],
   "source": [
    "modeling.lassolars_model(y_train,y_validate,X_train,X_validate)"
   ]
  },
  {
   "cell_type": "markdown",
   "id": "640e4ed1",
   "metadata": {},
   "source": [
    "***\n",
    "# TweedieRegressor"
   ]
  },
  {
   "cell_type": "code",
   "execution_count": 15,
   "id": "edb78c7c",
   "metadata": {},
   "outputs": [
    {
     "name": "stdout",
     "output_type": "stream",
     "text": [
      "RMSE for GLM using Tweedie, power=1 & alpha=0\n",
      "Training/In-Sample:  12142.637685135176 \n",
      "Validation/Out-of-Sample:  11662.194075763458\n"
     ]
    }
   ],
   "source": [
    "modeling.tweedie_model(y_train,y_validate,X_train,X_validate)"
   ]
  },
  {
   "cell_type": "markdown",
   "id": "80a268ec",
   "metadata": {},
   "source": [
    "<hr style=\"border-top: 10px groove lightblue; margin-top: 1px; margin-bottom: 1px\"></hr>\n",
    "\n",
    "\n",
    "# Evaluating Models"
   ]
  },
  {
   "cell_type": "code",
   "execution_count": 18,
   "id": "005df859",
   "metadata": {},
   "outputs": [
    {
     "ename": "IndentationError",
     "evalue": "unexpected indent (37146732.py, line 3)",
     "output_type": "error",
     "traceback": [
      "\u001b[0;36m  File \u001b[0;32m\"/var/folders/dc/8rtfvpyj2mb6mqbnfkf5dl400000gn/T/ipykernel_5302/37146732.py\"\u001b[0;36m, line \u001b[0;32m3\u001b[0m\n\u001b[0;31m    y_train['lm_residuals'] = y_train.wage_eur_pred_lm - y_train['wage_eur']\u001b[0m\n\u001b[0m    ^\u001b[0m\n\u001b[0;31mIndentationError\u001b[0m\u001b[0;31m:\u001b[0m unexpected indent\n"
     ]
    }
   ],
   "source": [
    "from sklearn.linear_model import LinearRegression\n",
    "    #residuals\n",
    "    y_train['lm_residuals'] = y_train.wage_eur_pred_lm - y_train['wage_eur']\n",
    "    y_validate['lm_residuals'] = y_validate.wage_eur_pred_lm - y_validate['wage_eur']\n",
    "    #residuals\n",
    "    y_train['lars_residuals'] = y_train['wage_eur_pred_lars'] - y_train['wage_eur']\n",
    "    y_validate['lars_residuals'] = y_validate['wage_eur_pred_lars'] - y_validate['wage_eur']\n",
    "    #residuals\n",
    "    y_train['glm_residuals'] = y_train['wage_eur_pred_glm'] - y_train['wage_eur']\n",
    "    y_validate['glm_residuals'] = y_validate['wage_eur_pred_glm'] - y_validate['wage_eur']\n",
    "    y_test = pd.DataFrame(y_test)\n",
    "    y = pd.DataFrame(y_train.wage_eur)\n",
    "    X = pd.DataFrame(X_train)\n",
    "    # assuming X and y are already defined\n",
    "    m = LinearRegression().fit(X, y)\n",
    "    train['yhat'] = m.predict(X)"
   ]
  },
  {
   "cell_type": "code",
   "execution_count": 16,
   "id": "4c2c0a9c",
   "metadata": {},
   "outputs": [
    {
     "ename": "AttributeError",
     "evalue": "'DataFrame' object has no attribute 'wage_eur_pred_lm'",
     "output_type": "error",
     "traceback": [
      "\u001b[0;31m---------------------------------------------------------------------------\u001b[0m",
      "\u001b[0;31mAttributeError\u001b[0m                            Traceback (most recent call last)",
      "\u001b[0;32m/var/folders/dc/8rtfvpyj2mb6mqbnfkf5dl400000gn/T/ipykernel_5302/2753266908.py\u001b[0m in \u001b[0;36m<module>\u001b[0;34m\u001b[0m\n\u001b[0;32m----> 1\u001b[0;31m \u001b[0mmodeling\u001b[0m\u001b[0;34m.\u001b[0m\u001b[0mactual_vs_predicted\u001b[0m\u001b[0;34m(\u001b[0m\u001b[0mtrain\u001b[0m\u001b[0;34m,\u001b[0m\u001b[0my_train\u001b[0m\u001b[0;34m,\u001b[0m\u001b[0my_validate\u001b[0m\u001b[0;34m,\u001b[0m\u001b[0mX_train\u001b[0m\u001b[0;34m,\u001b[0m\u001b[0mX_validate\u001b[0m\u001b[0;34m,\u001b[0m\u001b[0my_test\u001b[0m\u001b[0;34m)\u001b[0m\u001b[0;34m\u001b[0m\u001b[0;34m\u001b[0m\u001b[0m\n\u001b[0m",
      "\u001b[0;32m~/codeup-data-science/fifa/modeling.py\u001b[0m in \u001b[0;36mactual_vs_predicted\u001b[0;34m(train, y_train, y_validate, X_train, X_validate, y_test)\u001b[0m\n\u001b[1;32m    290\u001b[0m     \u001b[0;32mfrom\u001b[0m \u001b[0msklearn\u001b[0m\u001b[0;34m.\u001b[0m\u001b[0mlinear_model\u001b[0m \u001b[0;32mimport\u001b[0m \u001b[0mLinearRegression\u001b[0m\u001b[0;34m\u001b[0m\u001b[0;34m\u001b[0m\u001b[0m\n\u001b[1;32m    291\u001b[0m     \u001b[0;31m#residuals\u001b[0m\u001b[0;34m\u001b[0m\u001b[0;34m\u001b[0m\u001b[0m\n\u001b[0;32m--> 292\u001b[0;31m     \u001b[0my_train\u001b[0m\u001b[0;34m[\u001b[0m\u001b[0;34m'lm_residuals'\u001b[0m\u001b[0;34m]\u001b[0m \u001b[0;34m=\u001b[0m \u001b[0my_train\u001b[0m\u001b[0;34m.\u001b[0m\u001b[0mwage_eur_pred_lm\u001b[0m \u001b[0;34m-\u001b[0m \u001b[0my_train\u001b[0m\u001b[0;34m[\u001b[0m\u001b[0;34m'wage_eur'\u001b[0m\u001b[0;34m]\u001b[0m\u001b[0;34m\u001b[0m\u001b[0;34m\u001b[0m\u001b[0m\n\u001b[0m\u001b[1;32m    293\u001b[0m     \u001b[0my_validate\u001b[0m\u001b[0;34m[\u001b[0m\u001b[0;34m'lm_residuals'\u001b[0m\u001b[0;34m]\u001b[0m \u001b[0;34m=\u001b[0m \u001b[0my_validate\u001b[0m\u001b[0;34m.\u001b[0m\u001b[0mwage_eur_pred_lm\u001b[0m \u001b[0;34m-\u001b[0m \u001b[0my_validate\u001b[0m\u001b[0;34m[\u001b[0m\u001b[0;34m'wage_eur'\u001b[0m\u001b[0;34m]\u001b[0m\u001b[0;34m\u001b[0m\u001b[0;34m\u001b[0m\u001b[0m\n\u001b[1;32m    294\u001b[0m     \u001b[0;31m#residuals\u001b[0m\u001b[0;34m\u001b[0m\u001b[0;34m\u001b[0m\u001b[0m\n",
      "\u001b[0;32m/usr/local/anaconda3/lib/python3.9/site-packages/pandas/core/generic.py\u001b[0m in \u001b[0;36m__getattr__\u001b[0;34m(self, name)\u001b[0m\n\u001b[1;32m   5485\u001b[0m         ):\n\u001b[1;32m   5486\u001b[0m             \u001b[0;32mreturn\u001b[0m \u001b[0mself\u001b[0m\u001b[0;34m[\u001b[0m\u001b[0mname\u001b[0m\u001b[0;34m]\u001b[0m\u001b[0;34m\u001b[0m\u001b[0;34m\u001b[0m\u001b[0m\n\u001b[0;32m-> 5487\u001b[0;31m         \u001b[0;32mreturn\u001b[0m \u001b[0mobject\u001b[0m\u001b[0;34m.\u001b[0m\u001b[0m__getattribute__\u001b[0m\u001b[0;34m(\u001b[0m\u001b[0mself\u001b[0m\u001b[0;34m,\u001b[0m \u001b[0mname\u001b[0m\u001b[0;34m)\u001b[0m\u001b[0;34m\u001b[0m\u001b[0;34m\u001b[0m\u001b[0m\n\u001b[0m\u001b[1;32m   5488\u001b[0m \u001b[0;34m\u001b[0m\u001b[0m\n\u001b[1;32m   5489\u001b[0m     \u001b[0;32mdef\u001b[0m \u001b[0m__setattr__\u001b[0m\u001b[0;34m(\u001b[0m\u001b[0mself\u001b[0m\u001b[0;34m,\u001b[0m \u001b[0mname\u001b[0m\u001b[0;34m:\u001b[0m \u001b[0mstr\u001b[0m\u001b[0;34m,\u001b[0m \u001b[0mvalue\u001b[0m\u001b[0;34m)\u001b[0m \u001b[0;34m->\u001b[0m \u001b[0;32mNone\u001b[0m\u001b[0;34m:\u001b[0m\u001b[0;34m\u001b[0m\u001b[0;34m\u001b[0m\u001b[0m\n",
      "\u001b[0;31mAttributeError\u001b[0m: 'DataFrame' object has no attribute 'wage_eur_pred_lm'"
     ]
    }
   ],
   "source": [
    "modeling.actual_vs_predicted(train,y_train,y_validate,X_train,X_validate,y_test)"
   ]
  },
  {
   "cell_type": "code",
   "execution_count": 17,
   "id": "8fc0d634",
   "metadata": {},
   "outputs": [
    {
     "name": "stdout",
     "output_type": "stream",
     "text": [
      "RMSE using Mean\n",
      "Train/In-Sample:  24203.75 \n",
      "Validate/Out-of-Sample:  20560.17\n"
     ]
    },
    {
     "ename": "AttributeError",
     "evalue": "'DataFrame' object has no attribute 'yhat'",
     "output_type": "error",
     "traceback": [
      "\u001b[0;31m---------------------------------------------------------------------------\u001b[0m",
      "\u001b[0;31mAttributeError\u001b[0m                            Traceback (most recent call last)",
      "\u001b[0;32m/var/folders/dc/8rtfvpyj2mb6mqbnfkf5dl400000gn/T/ipykernel_5302/214491366.py\u001b[0m in \u001b[0;36m<module>\u001b[0;34m\u001b[0m\n\u001b[0;32m----> 1\u001b[0;31m \u001b[0mmodeling\u001b[0m\u001b[0;34m.\u001b[0m\u001b[0mmetrics\u001b[0m\u001b[0;34m(\u001b[0m\u001b[0mdf\u001b[0m\u001b[0;34m,\u001b[0m\u001b[0my_train\u001b[0m\u001b[0;34m,\u001b[0m\u001b[0my_validate\u001b[0m\u001b[0;34m,\u001b[0m\u001b[0mX_train\u001b[0m\u001b[0;34m,\u001b[0m\u001b[0mX_validate\u001b[0m\u001b[0;34m)\u001b[0m\u001b[0;34m\u001b[0m\u001b[0;34m\u001b[0m\u001b[0m\n\u001b[0m",
      "\u001b[0;32m~/codeup-data-science/fifa/modeling.py\u001b[0m in \u001b[0;36mmetrics\u001b[0;34m(df, y_train, y_validate, X_train, X_validate)\u001b[0m\n\u001b[1;32m    266\u001b[0m     \u001b[0;31m# sklearn.metrics.explained_variance_score\u001b[0m\u001b[0;34m\u001b[0m\u001b[0;34m\u001b[0m\u001b[0m\n\u001b[1;32m    267\u001b[0m     \u001b[0;32mfrom\u001b[0m \u001b[0msklearn\u001b[0m\u001b[0;34m.\u001b[0m\u001b[0mmetrics\u001b[0m \u001b[0;32mimport\u001b[0m \u001b[0mexplained_variance_score\u001b[0m\u001b[0;34m\u001b[0m\u001b[0;34m\u001b[0m\u001b[0m\n\u001b[0;32m--> 268\u001b[0;31m     \u001b[0mevs\u001b[0m \u001b[0;34m=\u001b[0m \u001b[0mexplained_variance_score\u001b[0m\u001b[0;34m(\u001b[0m\u001b[0mdf\u001b[0m\u001b[0;34m.\u001b[0m\u001b[0mwage_eur\u001b[0m\u001b[0;34m,\u001b[0m \u001b[0mdf\u001b[0m\u001b[0;34m.\u001b[0m\u001b[0myhat\u001b[0m\u001b[0;34m)\u001b[0m\u001b[0;34m\u001b[0m\u001b[0;34m\u001b[0m\u001b[0m\n\u001b[0m\u001b[1;32m    269\u001b[0m     \u001b[0mprint\u001b[0m\u001b[0;34m(\u001b[0m\u001b[0;34m'Explained Variance = '\u001b[0m\u001b[0;34m,\u001b[0m \u001b[0mround\u001b[0m\u001b[0;34m(\u001b[0m\u001b[0mevs\u001b[0m\u001b[0;34m,\u001b[0m\u001b[0;36m3\u001b[0m\u001b[0;34m)\u001b[0m\u001b[0;34m)\u001b[0m\u001b[0;34m\u001b[0m\u001b[0;34m\u001b[0m\u001b[0m\n\u001b[1;32m    270\u001b[0m     \u001b[0mrmse_validate\u001b[0m \u001b[0;34m=\u001b[0m \u001b[0mmean_squared_error\u001b[0m\u001b[0;34m(\u001b[0m\u001b[0my_validate\u001b[0m\u001b[0;34m.\u001b[0m\u001b[0mwage_eur\u001b[0m\u001b[0;34m,\u001b[0m \u001b[0my_validate\u001b[0m\u001b[0;34m.\u001b[0m\u001b[0mwage_eur_pred_median\u001b[0m\u001b[0;34m)\u001b[0m\u001b[0;34m**\u001b[0m\u001b[0;34m(\u001b[0m\u001b[0;36m1\u001b[0m\u001b[0;34m/\u001b[0m\u001b[0;36m2\u001b[0m\u001b[0;34m)\u001b[0m\u001b[0;34m\u001b[0m\u001b[0;34m\u001b[0m\u001b[0m\n",
      "\u001b[0;32m/usr/local/anaconda3/lib/python3.9/site-packages/pandas/core/generic.py\u001b[0m in \u001b[0;36m__getattr__\u001b[0;34m(self, name)\u001b[0m\n\u001b[1;32m   5485\u001b[0m         ):\n\u001b[1;32m   5486\u001b[0m             \u001b[0;32mreturn\u001b[0m \u001b[0mself\u001b[0m\u001b[0;34m[\u001b[0m\u001b[0mname\u001b[0m\u001b[0;34m]\u001b[0m\u001b[0;34m\u001b[0m\u001b[0;34m\u001b[0m\u001b[0m\n\u001b[0;32m-> 5487\u001b[0;31m         \u001b[0;32mreturn\u001b[0m \u001b[0mobject\u001b[0m\u001b[0;34m.\u001b[0m\u001b[0m__getattribute__\u001b[0m\u001b[0;34m(\u001b[0m\u001b[0mself\u001b[0m\u001b[0;34m,\u001b[0m \u001b[0mname\u001b[0m\u001b[0;34m)\u001b[0m\u001b[0;34m\u001b[0m\u001b[0;34m\u001b[0m\u001b[0m\n\u001b[0m\u001b[1;32m   5488\u001b[0m \u001b[0;34m\u001b[0m\u001b[0m\n\u001b[1;32m   5489\u001b[0m     \u001b[0;32mdef\u001b[0m \u001b[0m__setattr__\u001b[0m\u001b[0;34m(\u001b[0m\u001b[0mself\u001b[0m\u001b[0;34m,\u001b[0m \u001b[0mname\u001b[0m\u001b[0;34m:\u001b[0m \u001b[0mstr\u001b[0m\u001b[0;34m,\u001b[0m \u001b[0mvalue\u001b[0m\u001b[0;34m)\u001b[0m \u001b[0;34m->\u001b[0m \u001b[0;32mNone\u001b[0m\u001b[0;34m:\u001b[0m\u001b[0;34m\u001b[0m\u001b[0;34m\u001b[0m\u001b[0m\n",
      "\u001b[0;31mAttributeError\u001b[0m: 'DataFrame' object has no attribute 'yhat'"
     ]
    }
   ],
   "source": [
    "modeling.metrics(df,y_train,y_validate,X_train,X_validate)"
   ]
  },
  {
   "cell_type": "code",
   "execution_count": null,
   "id": "411c3c80",
   "metadata": {},
   "outputs": [],
   "source": []
  }
 ],
 "metadata": {
  "kernelspec": {
   "display_name": "Python 3 (ipykernel)",
   "language": "python",
   "name": "python3"
  },
  "language_info": {
   "codemirror_mode": {
    "name": "ipython",
    "version": 3
   },
   "file_extension": ".py",
   "mimetype": "text/x-python",
   "name": "python",
   "nbconvert_exporter": "python",
   "pygments_lexer": "ipython3",
   "version": "3.9.7"
  }
 },
 "nbformat": 4,
 "nbformat_minor": 5
}
