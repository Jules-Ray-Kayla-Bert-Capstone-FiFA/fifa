{
 "cells": [
  {
   "cell_type": "markdown",
   "id": "fff0357e",
   "metadata": {},
   "source": [
    "<hr style=\"border-top: 10px groove lightblue; margin-top: 1px; margin-bottom: 1px\"></hr>\n",
    "\n",
    "# Modeling Plan\n",
    "\n",
    "\n",
    "- Model for Overall players\n",
    "- Model for Foward position players\n",
    "- Model for Midfielder postion players\n",
    "- Model for Defense position plauyers\n",
    "- Model for Goal Keepers\n",
    "\n",
    "<hr style=\"border-top: 10px groove lightblue; margin-top: 1px; margin-bottom: 1px\"></hr>\n"
   ]
  },
  {
   "cell_type": "code",
   "execution_count": 1,
   "id": "13f2f663",
   "metadata": {},
   "outputs": [],
   "source": [
    "import os\n",
    "import json\n",
    "from typing import Dict, List, Optional, Union, cast\n",
    "import requests\n",
    "import pandas as pd\n",
    "import bamboolib as bam\n",
    "\n",
    "import unicodedata\n",
    "import re\n",
    "import json\n",
    "\n",
    "import acquire\n",
    "\n",
    "import nltk\n",
    "from nltk.tokenize.toktok import ToktokTokenizer\n",
    "from nltk.corpus import stopwords\n",
    "from wordcloud import WordCloud\n",
    "\n",
    "from sklearn.model_selection import train_test_split\n",
    "from sklearn.linear_model import LogisticRegression\n",
    "from sklearn.metrics import classification_report, accuracy_score\n",
    "from sklearn.feature_extraction.text import TfidfVectorizer\n",
    "from sklearn.neighbors import KNeighborsClassifier\n",
    "from sklearn.metrics import confusion_matrix\n",
    "from sklearn.ensemble import RandomForestClassifier\n",
    "from sklearn.tree import DecisionTreeClassifier\n",
    "from sklearn.impute import SimpleImputer\n",
    "from sklearn.preprocessing import MinMaxScaler, StandardScaler, RobustScaler, QuantileTransformer\n",
    "from sklearn.cluster import KMeans\n",
    "\n",
    "from sklearn.metrics import mean_squared_error, r2_score\n",
    "from sklearn.feature_selection import f_regression \n",
    "\n",
    "#statistical tests\n",
    "from scipy import stats\n",
    "from scipy.stats import pearsonr, spearmanr\n",
    "\n",
    "from math import sqrt\n",
    "from sklearn.linear_model import LinearRegression, LassoLars, TweedieRegressor\n",
    "from sklearn.preprocessing import PolynomialFeatures\n",
    "\n",
    "\n",
    "import matplotlib.pyplot as plt\n",
    "import seaborn as sns\n",
    "import warnings\n",
    "warnings.filterwarnings(\"ignore\")\n",
    "\n",
    "from bs4 import BeautifulSoup\n",
    "import prepare\n",
    "import plotly.express as px\n",
    "\n",
    "#imports to show interactive visuals on github\n",
    "import plotly.io as pio\n",
    "pio.renderers\n",
    "\n",
    "import model\n"
   ]
  },
  {
   "cell_type": "markdown",
   "id": "b347d36f",
   "metadata": {},
   "source": [
    "<hr style=\"border-top: 10px groove lightblue; margin-top: 1px; margin-bottom: 1px\"></hr>"
   ]
  },
  {
   "cell_type": "markdown",
   "id": "65c9c059",
   "metadata": {},
   "source": [
    "# `Acquire` Data."
   ]
  },
  {
   "cell_type": "code",
   "execution_count": 2,
   "id": "77b26fa7",
   "metadata": {},
   "outputs": [
    {
     "name": "stdout",
     "output_type": "stream",
     "text": [
      "Row and column count: (142079, 111)\n"
     ]
    }
   ],
   "source": [
    "df = acquire.get_fifa_data()\n",
    "print(\"Row and column count:\",df.shape)"
   ]
  },
  {
   "cell_type": "markdown",
   "id": "8192d4c6",
   "metadata": {},
   "source": [
    "<hr style=\"border-top: 10px groove lightblue; margin-top: 1px; margin-bottom: 1px\"></hr>"
   ]
  },
  {
   "cell_type": "markdown",
   "id": "01998d31",
   "metadata": {},
   "source": [
    "# Import [Prepare.py](https://github.com/Jules-Ray-Kayla-Bert-Capstone-FiFA/fifa/blob/main/prepare.py) File.\n",
    "`Summary:`\n",
    "    This file was created with the purpose of cleaning, encoding, scaling, dropping, and adding collumns to our existing data. It is necessary to complete this preperation step before we start exploring and modeling our data."
   ]
  },
  {
   "cell_type": "code",
   "execution_count": 3,
   "id": "dc8f5151",
   "metadata": {},
   "outputs": [
    {
     "name": "stdout",
     "output_type": "stream",
     "text": [
      "Before dropping nulls, 142079 rows, 111 cols\n",
      "After dropping nulls. 131489 rows. 66 cols\n",
      "After cleaning the data and adding additional columns there are: 98804 rows. 83 cols\n"
     ]
    }
   ],
   "source": [
    "#defining df as our imported prepped data.\n",
    "df = prepare.prepped_data(df)"
   ]
  },
  {
   "cell_type": "markdown",
   "id": "4547f62a",
   "metadata": {},
   "source": [
    "## Removing outliers"
   ]
  },
  {
   "cell_type": "code",
   "execution_count": 4,
   "id": "7551931d",
   "metadata": {},
   "outputs": [],
   "source": [
    "cols = ['overall','potential'] \n",
    "def handle_outliers(df, cols, k):\n",
    "    \"\"\"this will eliminate most outliers, use a 1.5 k value if unsure because it is the most common, make sure to define cols value as the features\n",
    "    you want the outliers to be handled. this should be done before running the function and outiside of it\"\"\"\n",
    "\n",
    "    \n",
    "    # Create placeholder dictionary for each columns bounds\n",
    "    bounds_dict = {}\n",
    "   \n",
    "    for col in cols:\n",
    "        # get necessary iqr values\n",
    "        q1 = df[col].quantile(0.25)\n",
    "        q3 = df[col].quantile(0.75)\n",
    "        iqr = q3 - q1\n",
    "        upper_bound =  q3 + k * iqr\n",
    "        lower_bound =  q1 - k * iqr\n",
    "\n",
    "        #store values in a dictionary referencable by the column name\n",
    "        #and specific bound\n",
    "        bounds_dict[col] = {}\n",
    "        bounds_dict[col]['upper_bound'] = upper_bound\n",
    "        bounds_dict[col]['lower_bound'] = lower_bound\n",
    "\n",
    "    for col in cols:\n",
    "        #retrieve bounds\n",
    "        col_upper_bound = bounds_dict[col]['upper_bound']\n",
    "        col_lower_bound = bounds_dict[col]['lower_bound']\n",
    "\n",
    "        #remove rows with an outlier in that column\n",
    "    df = df[(df[col] < col_upper_bound) & (df[col] > col_lower_bound)]\n",
    "        \n",
    "    return df\n",
    "\n",
    "df = handle_outliers(df,cols,1.5)"
   ]
  },
  {
   "cell_type": "markdown",
   "id": "fd5ab2b9",
   "metadata": {},
   "source": [
    "<hr style=\"border-top: 10px groove lightblue; margin-top: 1px; margin-bottom: 1px\"></hr>\n",
    "\n",
    "# Splitting Data for Modeling"
   ]
  },
  {
   "cell_type": "code",
   "execution_count": 5,
   "id": "aa0ea4f2",
   "metadata": {},
   "outputs": [
    {
     "name": "stdout",
     "output_type": "stream",
     "text": [
      "Train: 58213 rows, 83 cols\n",
      "Validate: 26055 rows, 83 cols\n",
      "Test: 13946 rows, 83 cols\n"
     ]
    }
   ],
   "source": [
    "train, validate, test = prepare.split(df)"
   ]
  },
  {
   "cell_type": "markdown",
   "id": "bba9283c",
   "metadata": {},
   "source": [
    "<hr style=\"border-top: 10px groove lightblue; margin-top: 1px; margin-bottom: 1px\"></hr>\n",
    "\n",
    "# Overall Players\n",
    "\n",
    "## Plan\n",
    "- Use key features to create a good predictive model\n",
    "- Use a minimum of 3 models\n",
    "- Pick the best performing model\n",
    "- Run model on test data"
   ]
  },
  {
   "cell_type": "markdown",
   "id": "e3ef50b8",
   "metadata": {},
   "source": [
    "<hr style=\"border-top: 10px groove lightblue; margin-top: 1px; margin-bottom: 1px\"></hr>\n",
    "\n",
    "# Relationship to Wage_euro Plot"
   ]
  },
  {
   "cell_type": "code",
   "execution_count": 6,
   "id": "3f55ff57",
   "metadata": {
    "scrolled": false
   },
   "outputs": [
    {
     "data": {
      "image/png": "[encoded data removed]",
      "text/plain": [
       "<Figure size 864x576 with 1 Axes>"
      ]
     },
     "metadata": {
      "needs_background": "light"
     },
     "output_type": "display_data"
    }
   ],
   "source": [
    "plt.figure(figsize = (12,8))\n",
    "train.corr()['wage_eur'].sort_values(ascending=False).plot(kind='barh', color='orange')\n",
    "plt.title('Relationship with wages')\n",
    "plt.xlabel('Relationship')\n",
    "plt.ylabel('Features')\n",
    "plt.show()"
   ]
  },
  {
   "cell_type": "code",
   "execution_count": 7,
   "id": "4193d591",
   "metadata": {
    "scrolled": false
   },
   "outputs": [
    {
     "data": {
      "application/vnd.jupyter.widget-view+json": {
       "model_id": "d42306d0d49f42a5b765ce15a338ac70"
      },
      "text/plain": [
       "                          wage_eur\n",
       "wage_year                 1.000000\n",
       "wage_eur                  1.000000\n",
       "total_wage                0.801017\n",
       "value_eur                 0.799072\n",
       "international_reputation  0.699798\n",
       "club_name_yr_sum          0.683929\n",
       "overall                   0.670422\n",
       "reactions                 0.582250\n",
       "potential                 0.576212\n",
       "league_yr_sum             0.506001\n",
       "vision                    0.346656\n",
       "short_passing             0.345914\n",
       "long_passing              0.330425\n",
       "ball_control              0.321539\n",
       "shot_power                0.309107"
      ]
     },
     "metadata": {},
     "output_type": "display_data"
    }
   ],
   "source": [
    "features_cor =  train.corr()['wage_eur'].sort_values(ascending=False)\n",
    "features_cor = pd.DataFrame(features_cor)\n",
    "features_cor.head(15)"
   ]
  },
  {
   "cell_type": "markdown",
   "id": "9df09add",
   "metadata": {},
   "source": [
    "`Takeaways:` \n",
    "For this Exploration section I wil be focusing on the skills that are under or equal to 70 percent of correlation and greater then 48 percent. \n",
    "The list below will be the skills and stats that I will be focusing on.\n",
    "\n",
    "- international_reputation\n",
    "- overall\n",
    "- passing\n",
    "- ball_control\n",
    "- short_passing\n",
    "- reactions\n",
    "- potential\n",
    "- dribbling\n",
    "- vision\n",
    "- skill_dribbling\n",
    "- league_yr_sum\n",
    "- long_passing\n",
    "- shooting\n",
    "\n"
   ]
  },
  {
   "cell_type": "code",
   "execution_count": 8,
   "id": "43e98e08",
   "metadata": {},
   "outputs": [],
   "source": [
    "# identifying mvp columns\n",
    "mvp = ['international_reputation','overall','reactions']"
   ]
  },
  {
   "cell_type": "code",
   "execution_count": 9,
   "id": "78db62b1",
   "metadata": {},
   "outputs": [],
   "source": [
    "X_train = train[mvp]\n",
    "y_train = train[['wage_eur']]\n",
    "\n",
    "X_validate = validate[mvp]\n",
    "y_validate = validate[['wage_eur']]\n",
    "\n",
    "X_test = test[mvp]\n",
    "y_test = test[['wage_eur']]"
   ]
  },
  {
   "cell_type": "markdown",
   "id": "011ca93a",
   "metadata": {},
   "source": [
    "# RMSE"
   ]
  },
  {
   "cell_type": "code",
   "execution_count": 12,
   "id": "4316bb1b",
   "metadata": {},
   "outputs": [
    {
     "name": "stdout",
     "output_type": "stream",
     "text": [
      "RMSE Train: $14559.97\n",
      "RMSE Validate: $13954.53\n",
      "R²: 0.492\n",
      "RMSE Train: $14562.73\n",
      "RMSE Validate: $13907.08\n",
      "R²: 0.496\n",
      "RMSE Train: $12059.77\n",
      "RMSE Validate: $11956.91\n",
      "R²: 0.627\n",
      "           model           rmse_train        rmse_validate  \\\n",
      "0  Mean Baseline             23481.13             19935.79   \n",
      "\n",
      "             r^2_value  \n",
      "0                -0.04  \n"
     ]
    }
   ],
   "source": [
    "target = 'wage_eur'\n",
    "#create baseline\n",
    "metric_df, rmse_mean_train, rmse_mean_validate, rmse_median_train, rmse_median_validate, r2_baseline = model.create_baseline(y_train, y_validate, target)\n",
    "#Linear Regression model\n",
    "rmse_lm_train, rmse_lm_validate, r2_lm_value = model.create_model(LinearRegression(normalize = True), X_train,\\\n",
    "                                                                  X_validate, y_train, y_validate, 'wage_eur')\n",
    "#Lasso + Lars model\n",
    "rmse_lars_train, rmse_lars_validate, r2_lars_value = model.create_model(LassoLars(alpha = 1.0), X_train,\\\n",
    "                                                            X_validate, y_train, y_validate, 'wage_eur')\n",
    "#Tweedie Regressor model\n",
    "rmse_glm_train, rmse_glm_validate, r2_glm_value = model.create_model(TweedieRegressor(power = 1, alpha = 0.00),\\\n",
    "                                                            X_train, X_validate, y_train, y_validate, 'wage_eur')\n",
    "print(metric_df)\n"
   ]
  },
  {
   "cell_type": "code",
   "execution_count": 13,
   "id": "4fc7c20b",
   "metadata": {},
   "outputs": [
    {
     "data": {
      "application/vnd.jupyter.widget-view+json": {
       "model_id": "46fd7da49ac048879bda05b84bc4337e"
      },
      "text/plain": [
       "                  wage_eur\n",
       "4                115000.00\n",
       "5                130000.00\n",
       "6                160000.00\n",
       "7                155000.00\n",
       "9                100000.00\n",
       "...                    ...\n",
       "98696               500.00\n",
       "98697               500.00\n",
       "98698               500.00\n",
       "98699               500.00\n",
       "98700               500.00\n",
       "\n",
       "[13946 rows x 1 columns]"
      ]
     },
     "metadata": {},
     "output_type": "display_data"
    }
   ],
   "source": [
    "y_test = pd.DataFrame(y_test)\n",
    "\n",
    "y_test"
   ]
  },
  {
   "cell_type": "code",
   "execution_count": 26,
   "id": "23590ab1",
   "metadata": {},
   "outputs": [
    {
     "name": "stdout",
     "output_type": "stream",
     "text": [
      "RMSE Train: $14559.97\n",
      "RMSE Validate: $13954.53\n",
      "R²: 0.492\n"
     ]
    },
    {
     "data": {
      "text/plain": [
       "(None, None, None)"
      ]
     },
     "execution_count": 26,
     "metadata": {},
     "output_type": "execute_result"
    }
   ],
   "source": [
    "model.create_model(LinearRegression(normalize = True), X_train,X_validate, y_train, y_validate, 'wage_eur')\n",
    "\n"
   ]
  },
  {
   "cell_type": "code",
   "execution_count": 15,
   "id": "10d28375",
   "metadata": {},
   "outputs": [
    {
     "name": "stdout",
     "output_type": "stream",
     "text": [
      "RMSE Train: $14562.73\n",
      "RMSE Validate: $13907.08\n",
      "R²: 0.496\n"
     ]
    }
   ],
   "source": [
    "LassoLars = model.create_model(LassoLars(alpha = 1.0), X_train,X_validate, y_train, y_validate, 'wage_eur')"
   ]
  },
  {
   "cell_type": "code",
   "execution_count": 16,
   "id": "13a3fd08",
   "metadata": {},
   "outputs": [
    {
     "name": "stdout",
     "output_type": "stream",
     "text": [
      "RMSE Train: $12059.77\n",
      "RMSE Validate: $11956.91\n",
      "R²: 0.627\n"
     ]
    }
   ],
   "source": [
    "TweedieRegressor = model.create_model(TweedieRegressor(power = 1, alpha = 0.00),X_train, X_validate, y_train, y_validate, 'wage_eur')"
   ]
  },
  {
   "cell_type": "markdown",
   "id": "badf5443",
   "metadata": {},
   "source": [
    "# Evaluating Models"
   ]
  },
  {
   "cell_type": "code",
   "execution_count": 17,
   "id": "6381324f",
   "metadata": {},
   "outputs": [
    {
     "ename": "NameError",
     "evalue": "name 'X_train_scaled' is not defined",
     "output_type": "error",
     "traceback": [
      "\u001b[0;31m---------------------------------------------------------------------------\u001b[0m",
      "\u001b[0;31mNameError\u001b[0m                                 Traceback (most recent call last)",
      "\u001b[0;32m/var/folders/dc/8rtfvpyj2mb6mqbnfkf5dl400000gn/T/ipykernel_2320/3116813818.py\u001b[0m in \u001b[0;36m<module>\u001b[0;34m\u001b[0m\n\u001b[1;32m      1\u001b[0m \u001b[0;32mfrom\u001b[0m \u001b[0msklearn\u001b[0m\u001b[0;34m.\u001b[0m\u001b[0mlinear_model\u001b[0m \u001b[0;32mimport\u001b[0m \u001b[0mLinearRegression\u001b[0m\u001b[0;34m\u001b[0m\u001b[0;34m\u001b[0m\u001b[0m\n\u001b[1;32m      2\u001b[0m \u001b[0my\u001b[0m \u001b[0;34m=\u001b[0m \u001b[0mpd\u001b[0m\u001b[0;34m.\u001b[0m\u001b[0mDataFrame\u001b[0m\u001b[0;34m(\u001b[0m\u001b[0my_train\u001b[0m\u001b[0;34m.\u001b[0m\u001b[0mwage_eur\u001b[0m\u001b[0;34m)\u001b[0m\u001b[0;34m\u001b[0m\u001b[0;34m\u001b[0m\u001b[0m\n\u001b[0;32m----> 3\u001b[0;31m \u001b[0mX\u001b[0m \u001b[0;34m=\u001b[0m \u001b[0mpd\u001b[0m\u001b[0;34m.\u001b[0m\u001b[0mDataFrame\u001b[0m\u001b[0;34m(\u001b[0m\u001b[0mX_train_scaled\u001b[0m\u001b[0;34m)\u001b[0m\u001b[0;34m\u001b[0m\u001b[0;34m\u001b[0m\u001b[0m\n\u001b[0m\u001b[1;32m      4\u001b[0m \u001b[0;31m# assuming X and y are already defined\u001b[0m\u001b[0;34m\u001b[0m\u001b[0;34m\u001b[0m\u001b[0m\n\u001b[1;32m      5\u001b[0m \u001b[0mmodel\u001b[0m \u001b[0;34m=\u001b[0m \u001b[0mLinearRegression\u001b[0m\u001b[0;34m(\u001b[0m\u001b[0;34m)\u001b[0m\u001b[0;34m.\u001b[0m\u001b[0mfit\u001b[0m\u001b[0;34m(\u001b[0m\u001b[0mX\u001b[0m\u001b[0;34m,\u001b[0m \u001b[0my\u001b[0m\u001b[0;34m)\u001b[0m\u001b[0;34m\u001b[0m\u001b[0;34m\u001b[0m\u001b[0m\n",
      "\u001b[0;31mNameError\u001b[0m: name 'X_train_scaled' is not defined"
     ]
    }
   ],
   "source": [
    "from sklearn.linear_model import LinearRegression\n",
    "y = pd.DataFrame(y_train.wage_eur)\n",
    "X = pd.DataFrame(X_train_scaled)\n",
    "# assuming X and y are already defined\n",
    "model = LinearRegression().fit(X, y)\n",
    "train['yhat'] = model.predict(X)\n",
    "train"
   ]
  },
  {
   "cell_type": "code",
   "execution_count": null,
   "id": "eaf20aa7",
   "metadata": {},
   "outputs": [],
   "source": [
    "df = pd.DataFrame(train[['potential', 'reactions', 'vision', 'short_passing','long_passing',\n",
    "       'ball_control','wage_eur','yhat']])\n",
    "df.head()"
   ]
  },
  {
   "cell_type": "code",
   "execution_count": null,
   "id": "8e7313bc",
   "metadata": {},
   "outputs": [],
   "source": [
    "#creating a baseline from the mean of the target variable\n",
    "baseline = y.mean()\n",
    "df['baseline'] = y.wage_eur.mean()\n",
    "# turning baseline to int from float\n",
    "df.baseline = df.baseline.astype(int)\n",
    "# residual = actual - predicted\n",
    "df['residual'] = df.wage_eur - df.yhat\n",
    "df['baseline_residual'] = df.wage_eur - df.baseline"
   ]
  },
  {
   "cell_type": "code",
   "execution_count": null,
   "id": "e22ef44d",
   "metadata": {},
   "outputs": [],
   "source": [
    "baseline"
   ]
  },
  {
   "cell_type": "code",
   "execution_count": null,
   "id": "fd0d4f7c",
   "metadata": {},
   "outputs": [],
   "source": [
    "df['residual^2'] = df.residual**2\n",
    "df['baseline_residual^2'] = df.baseline_residual**2\n",
    "\n",
    "df.head()"
   ]
  },
  {
   "cell_type": "code",
   "execution_count": null,
   "id": "1c7be17c",
   "metadata": {},
   "outputs": [],
   "source": [
    "MSE = SSE/len(df)\n",
    "MSE_baseline = SSE_baseline/len(df)\n",
    "\n",
    "print(\"MSE = \", \"{:.1f}\".format(MSE))\n",
    "print(\"MSE baseline = \", \"{:.1f}\".format(MSE_baseline))\n",
    "\n",
    "if MSE < MSE_baseline:\n",
    "    print('MSE is better than baseline')\n",
    "else:\n",
    "    print('baseline is better')"
   ]
  },
  {
   "cell_type": "code",
   "execution_count": null,
   "id": "6c0574d4",
   "metadata": {},
   "outputs": [],
   "source": [
    "from math import sqrt\n",
    "RMSE = sqrt(MSE)\n",
    "RMSE_baseline =  sqrt(MSE_baseline)\n",
    "\n",
    "if RMSE < RMSE_baseline:\n",
    "    print('RMSE is better than baseline')\n",
    "else:\n",
    "    print('baseline is better')\n",
    "    \n",
    "print(\"RMSE = \", \"{:.1f}\".format(RMSE))\n",
    "print(\"RMSE baseline = \", \"{:.1f}\".format(RMSE_baseline))"
   ]
  },
  {
   "cell_type": "code",
   "execution_count": null,
   "id": "9a1bbe04",
   "metadata": {},
   "outputs": [],
   "source": [
    "if SSE < SSE_baseline:\n",
    "    print('OLS regression model performs better than the baseline')\n",
    "else:\n",
    "    print('OLS regression model performs worse than the baseline')"
   ]
  },
  {
   "cell_type": "code",
   "execution_count": null,
   "id": "a159259d",
   "metadata": {},
   "outputs": [],
   "source": [
    "# sklearn.metrics.explained_variance_score\n",
    "from sklearn.metrics import explained_variance_score\n",
    "evs = explained_variance_score(df.wage_eur, df.yhat)\n",
    "print('Explained Variance = ', round(evs,3))"
   ]
  },
  {
   "cell_type": "code",
   "execution_count": null,
   "id": "fc17e072",
   "metadata": {},
   "outputs": [],
   "source": [
    "# calculate R2 the easy way:\n",
    "from sklearn.metrics import r2_score\n",
    "r2_score(df.wage_eur, df.yhat)"
   ]
  },
  {
   "cell_type": "code",
   "execution_count": null,
   "id": "9066c006",
   "metadata": {},
   "outputs": [],
   "source": [
    "import statsmodels.api as sm\n",
    "X2 = sm.add_constant(df.potential)\n",
    "est = sm.OLS(df.wage_eur, X2)\n",
    "est2 = est.fit()\n",
    "print(est2.summary())"
   ]
  },
  {
   "cell_type": "code",
   "execution_count": null,
   "id": "b334b76f",
   "metadata": {},
   "outputs": [],
   "source": [
    "def residuals(actual, predicted):\n",
    "    return actual - predicted\n",
    "\n",
    "#sum of squared errors (SSE)\n",
    "def sse(actual, predicted):\n",
    "    return (residuals(actual, predicted) **2).sum()\n",
    "\n",
    "#explained sum of squares (ESS)\n",
    "def ess(actual, predicted):\n",
    "    return ((predicted - actual.mean()) ** 2).sum()\n",
    "\n",
    "#total sum of squares (TSS)\n",
    "def tss(actual):\n",
    "    return ((actual - actual.mean()) ** 2).sum()\n",
    "\n",
    "#mean squared error (MSE)\n",
    "def mse(actual, predicted):\n",
    "    n = actual.shape[0]\n",
    "    return sse(actual, predicted) / n\n",
    "\n",
    "#root mean squared error (RMSE)\n",
    "def rmse(actual, predicted):\n",
    "    return math.sqrt(mse(actual, predicted))\n",
    "\n",
    "# returns r2 scor\n",
    "def r2_score(actual, predicted):\n",
    "    return ess(actual, predicted) / tss(actual)\n",
    "\n",
    "def regression_errors(actual, predicted):\n",
    "    return pd.Series({\n",
    "                        'SSE': sse(actual, predicted),\n",
    "                        'ESS': ess(actual, predicted),\n",
    "                        'TSS': tss(actual),\n",
    "                        'MSE': mse(actual, predicted),\n",
    "                        'RMSE': rmse(actual, predicted),\n",
    "                        })\n",
    "\n",
    "def baseline_mean_errors(actual):\n",
    "    predicted = actual.mean()\n",
    "    return {\n",
    "             'SSE': sse(actual, predicted),\n",
    "             'MSE': mse(actual, predicted),\n",
    "             'RMSE': rmse(actual, predicted),\n",
    "            }\n",
    "\n",
    "def better_than_baseline(actual, predicted):\n",
    "    rmse_baseline = rmse(actual, actual.mean())\n",
    "    rmse_model = rmse(actual, predicted)\n",
    "    return rmse_model < rmse_baseline"
   ]
  },
  {
   "cell_type": "code",
   "execution_count": null,
   "id": "555d62da",
   "metadata": {},
   "outputs": [],
   "source": [
    "actual = y_train.wage_eur\n",
    "predicted = df.yhat\n",
    "residuals = actual - predicted"
   ]
  },
  {
   "cell_type": "code",
   "execution_count": null,
   "id": "28c4507f",
   "metadata": {},
   "outputs": [],
   "source": [
    "def actual_vs_predicted():\n",
    "    # plot to visualize actual vs predicted. \n",
    "    plt.figure(figsize=(16,8))\n",
    "    plt.hist(y_validate.wage_eur, color='blue', alpha=.5, label=\"Actual Final wage_eur\")\n",
    "    plt.hist(y_validate.wage_eur_pred_lm, color='red', alpha=.5, label=\"Model: LinearRegression\")\n",
    "    plt.hist(y_validate.wage_eur_pred_glm, color='yellow', alpha=.5, label=\"Model: TweedieRegressor\")\n",
    "    plt.hist(y_validate.wage_eur_pred_lm2, color='green', alpha=.5, label=\"Model 2nd degree Polynomial\")\n",
    "    plt.xlabel(\"Final wage(eur)\")\n",
    "    plt.ylabel(\"predicted wage_eur\")\n",
    "    plt.title(\"Comparing the Distribution of Actual wage_eur to Distributions of Predicted wage_eur for the Top Models\")\n",
    "    plt.legend()\n",
    "    plt.show()\n",
    "actual_vs_predicted()"
   ]
  },
  {
   "cell_type": "code",
   "execution_count": null,
   "id": "67da25db",
   "metadata": {},
   "outputs": [],
   "source": [
    "y_train"
   ]
  },
  {
   "cell_type": "code",
   "execution_count": null,
   "id": "57bcacdd",
   "metadata": {},
   "outputs": [],
   "source": [
    "metric_df = pd.DataFrame(data=[{\n",
    "    'model': 'mean_baseline', \n",
    "    'RMSE_validate': rmse_validate,\n",
    "        'r^2_validate': explained_variance_score(y_validate.wage_eur, y_validate.wage_eur_pred_mean)}])\n",
    "metric_df = metric_df.append({\n",
    "    'model': 'OLS Regressor', \n",
    "    'RMSE_validate': rmse_validate_lm,\n",
    "    'r^2_validate': explained_variance_score(y_validate.wage_eur, y_validate.wage_eur_pred_lm)}, ignore_index=True)\n",
    "metric_df = metric_df.append({\n",
    "    'model': 'Lasso alpha 1', \n",
    "    'RMSE_validate': rmse_validate_lars,\n",
    "    'r^2_validate': explained_variance_score(y_validate.wage_eur, y_validate.wage_eur_pred_lars)}, ignore_index=True)\n",
    "metric_df = metric_df.append({\n",
    "    'model': 'GLM (tweedie)', \n",
    "    'RMSE_validate': rmse_validate_glm,\n",
    "    'r^2_validate': explained_variance_score(y_validate.wage_eur, y_validate.wage_eur_pred_glm)}, ignore_index=True)\n",
    "metric_df = metric_df.append({\n",
    "    'model': 'Poly', \n",
    "    'RMSE_validate': rmse_validate_lm2,\n",
    "    'r^2_validate': explained_variance_score(y_validate.wage_eur, y_validate.wage_eur_pred_lm2)}, ignore_index=True)"
   ]
  },
  {
   "cell_type": "code",
   "execution_count": null,
   "id": "55e1a5e3",
   "metadata": {},
   "outputs": [],
   "source": [
    "metric_df  "
   ]
  },
  {
   "cell_type": "code",
   "execution_count": null,
   "id": "79814d92",
   "metadata": {},
   "outputs": [],
   "source": [
    "sdc"
   ]
  },
  {
   "cell_type": "code",
   "execution_count": null,
   "id": "b01fa194",
   "metadata": {},
   "outputs": [],
   "source": [
    "y_test = pd.DataFrame(y_test)\n",
    "\n",
    "# predict on test\n",
    "y_test['wage_eur_pred_LINEAR'] = lm.predict(X_test_scaled)\n",
    "\n",
    "# evaluate: rmse\n",
    "rmse_test_lm = mean_squared_error(y_test.wage_eur, y_test.wage_eur_pred_LINEAR)**(1/2)\n",
    "\n",
    "print(\"RMSE for OLS Model using LinearRegression\\nOut-of-Sample Performance: \", rmse_test_lm)\n",
    "\n",
    "y_test = pd.DataFrame(y_test)\n",
    "\n",
    "# predict on test\n",
    "y_test['wage_eur_pred_LASSO'] = lars.predict(X_test_scaled)\n",
    "\n",
    "# evaluate: rmse\n",
    "rmse_test_lars = mean_squared_error(y_test.wage_eur, y_test.wage_eur_pred_LASSO)**(1/2)\n",
    "\n",
    "print(\"RMSE for OLS Model using Lasso\\nOut-of-Sample Performance: \", rmse_test_lars)\n",
    "\n",
    "y_test = pd.DataFrame(y_test)\n",
    "\n",
    "#predict on test\n",
    "y_test['pred_Poly'] = lm2.predict(X_test_degree2)\n",
    "\n",
    "# evaluate: rmse\n",
    "rmse_test = mean_squared_error(y_test.wage_eur, y_test.pred_Poly)**(0.5)\n",
    "\n",
    "print(f\"\"\"\n",
    "RMSE for Polynomial Regressor, degrees=2:\n",
    "Test/Out-of-Sample Performance: {rmse_test}\n",
    "\"\"\")\n",
    "\n",
    "\n",
    "\n",
    "#predict on test\n",
    "y_test['wage_eur_pred_glm'] = glm.predict(X_test_scaled)\n",
    "\n",
    "# evaluate: rmse\n",
    "rmse_test = mean_squared_error(y_test.wage_eur, y_test.wage_eur_pred_glm)**(1/2)\n",
    "print(\"RMSE for GLM using Tweedie, power=1 & alpha=0\\nTraining/In-Sample: \", rmse_train, \n",
    "      \"\\nValidation/Out-of-Sample: \", rmse_validate_glm)\n"
   ]
  },
  {
   "cell_type": "code",
   "execution_count": null,
   "id": "b363bde2",
   "metadata": {},
   "outputs": [],
   "source": [
    "y_test"
   ]
  },
  {
   "cell_type": "code",
   "execution_count": null,
   "id": "92eb38b5",
   "metadata": {},
   "outputs": [],
   "source": [
    "sns.scatterplot(data = y_test)"
   ]
  },
  {
   "cell_type": "markdown",
   "id": "7447cfb0",
   "metadata": {},
   "source": []
  }
 ],
 "metadata": {
  "kernelspec": {
   "display_name": "Python 3 (ipykernel)",
   "language": "python",
   "name": "python3"
  },
  "language_info": {
   "codemirror_mode": {
    "name": "ipython",
    "version": 3
   },
   "file_extension": ".py",
   "mimetype": "text/x-python",
   "name": "python",
   "nbconvert_exporter": "python",
   "pygments_lexer": "ipython3",
   "version": "3.9.7"
  }
 },
 "nbformat": 4,
 "nbformat_minor": 5
}
