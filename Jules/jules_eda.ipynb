{
 "cells": [
  {
   "cell_type": "markdown",
   "id": "dffeaa09",
   "metadata": {},
   "source": [
    "- 1.) Does age impact salary?\n",
    "- 2.) Does seniority(length of time playing with a club) impact salary?\n",
    "- 3.) Does the league you're with impact your salary?\n",
    "- 4.) Do players with unusual body types have higher or lower salaries?\n",
    "- 5.) Does nationality impact salary?\n",
    "- 6.) Does international reputation impact salary?\n",
    "- 7.) Does contract length positively or negatively impact salary?\n",
    "- 8.) Overarching question: What features are most important in player salaries?"
   ]
  },
  {
   "cell_type": "code",
   "execution_count": 40,
   "id": "88724b1b",
   "metadata": {},
   "outputs": [],
   "source": [
    "#ignore warnings\n",
    "import warnings\n",
    "warnings.filterwarnings(\"ignore\")\n",
    "\n",
    "#linear algebra\n",
    "import numpy as np\n",
    "import pandas as pd\n",
    "\n",
    "#helper modules\n",
    "import acquire\n",
    "#import prepare\n",
    "\n",
    "#statistical tests\n",
    "from scipy import stats\n",
    "from scipy.stats import pearsonr, spearmanr\n",
    "\n",
    "#visualizations\n",
    "import matplotlib.pyplot as plt\n",
    "import seaborn as sns\n",
    "import plotly.express as px\n",
    "import plotly.offline as py\n",
    "from plotly.offline import iplot, init_notebook_mode\n",
    "import plotly.graph_objs as go\n",
    "\n",
    "#world bank data\n",
    "import wbgapi as wb\n",
    "\n",
    "#from sklearn.model_selection import train_test_split\n",
    "\n",
    "#display max columns\n",
    "pd.set_option('display.max_columns', None)\n",
    "\n",
    "#use this format specifier exactly AS IS to avoid breaking module, space matters!\n",
    "#pd.options.display.float_format = '{:20,.2f}'.format \n",
    "sns.set_style(\"white\")"
   ]
  },
  {
   "cell_type": "code",
   "execution_count": 41,
   "id": "b598f85e",
   "metadata": {},
   "outputs": [],
   "source": [
    "#how to import function from general \n",
    "\n",
    "import sys\n",
    " \n",
    "# the system path\n",
    "sys.path.append('/Users/juleszara/codeup_data_science/fifa')\n",
    " \n",
    "# importing the function\n",
    "import prepare"
   ]
  },
  {
   "cell_type": "code",
   "execution_count": 42,
   "id": "0c6bd821",
   "metadata": {},
   "outputs": [],
   "source": [
    "#acquire\n",
    "df = acquire.get_fifa_data()"
   ]
  },
  {
   "cell_type": "code",
   "execution_count": 43,
   "id": "df931efe",
   "metadata": {},
   "outputs": [
    {
     "name": "stdout",
     "output_type": "stream",
     "text": [
      "Before dropping nulls, 142079 rows, 111 cols\n",
      "After dropping nulls. 131489 rows. 66 cols\n",
      "After clening the data and adding encoded columns. 98804 rows. 80 cols\n"
     ]
    }
   ],
   "source": [
    "#prepare\n",
    "df = prepare.prepped_data(df)"
   ]
  },
  {
   "cell_type": "code",
   "execution_count": 23,
   "id": "d8e01924",
   "metadata": {},
   "outputs": [
    {
     "data": {
      "text/html": [
       "<div>\n",
       "<style scoped>\n",
       "    .dataframe tbody tr th:only-of-type {\n",
       "        vertical-align: middle;\n",
       "    }\n",
       "\n",
       "    .dataframe tbody tr th {\n",
       "        vertical-align: top;\n",
       "    }\n",
       "\n",
       "    .dataframe thead th {\n",
       "        text-align: right;\n",
       "    }\n",
       "</style>\n",
       "<table border=\"1\" class=\"dataframe\">\n",
       "  <thead>\n",
       "    <tr style=\"text-align: right;\">\n",
       "      <th></th>\n",
       "      <th>sofifa_id</th>\n",
       "      <th>short_name</th>\n",
       "      <th>player_positions</th>\n",
       "      <th>overall</th>\n",
       "      <th>potential</th>\n",
       "      <th>value_eur</th>\n",
       "      <th>wage_eur</th>\n",
       "      <th>age</th>\n",
       "      <th>height_cm</th>\n",
       "      <th>weight_kg</th>\n",
       "      <th>club_team_id</th>\n",
       "      <th>club_name</th>\n",
       "      <th>league_name</th>\n",
       "      <th>nationality_id</th>\n",
       "      <th>nationality_name</th>\n",
       "      <th>club_position</th>\n",
       "      <th>position</th>\n",
       "      <th>field_position</th>\n",
       "      <th>club_joined</th>\n",
       "      <th>club_contract_valid_until</th>\n",
       "      <th>body_type</th>\n",
       "      <th>preferred_foot</th>\n",
       "      <th>weak_foot</th>\n",
       "      <th>skill_moves</th>\n",
       "      <th>international_reputation</th>\n",
       "      <th>work_rate</th>\n",
       "      <th>pace</th>\n",
       "      <th>shooting</th>\n",
       "      <th>passing</th>\n",
       "      <th>dribbling</th>\n",
       "      <th>defending</th>\n",
       "      <th>physical</th>\n",
       "      <th>crossing</th>\n",
       "      <th>finishing</th>\n",
       "      <th>heading_accuracy</th>\n",
       "      <th>short_passing</th>\n",
       "      <th>volleys</th>\n",
       "      <th>skill_dribbling</th>\n",
       "      <th>curve</th>\n",
       "      <th>fk_accuracy</th>\n",
       "      <th>long_passing</th>\n",
       "      <th>ball_control</th>\n",
       "      <th>acceleration</th>\n",
       "      <th>sprint_speed</th>\n",
       "      <th>agility</th>\n",
       "      <th>reactions</th>\n",
       "      <th>balance</th>\n",
       "      <th>shot_power</th>\n",
       "      <th>jumping</th>\n",
       "      <th>stamina</th>\n",
       "      <th>strength</th>\n",
       "      <th>long_shots</th>\n",
       "      <th>aggression</th>\n",
       "      <th>interceptions</th>\n",
       "      <th>positioning</th>\n",
       "      <th>vision</th>\n",
       "      <th>penalties</th>\n",
       "      <th>marking</th>\n",
       "      <th>standing_tackle</th>\n",
       "      <th>sliding_tackle</th>\n",
       "      <th>gk_diving</th>\n",
       "      <th>gk_handling</th>\n",
       "      <th>gk_kicking</th>\n",
       "      <th>gk_positioning</th>\n",
       "      <th>gk_reflexes</th>\n",
       "      <th>gk_speed</th>\n",
       "      <th>year</th>\n",
       "      <th>total_wage</th>\n",
       "      <th>age_bins</th>\n",
       "      <th>height_bins</th>\n",
       "      <th>weight_bins</th>\n",
       "      <th>year_joined</th>\n",
       "      <th>seniority</th>\n",
       "      <th>league_encoded</th>\n",
       "      <th>club_position_encoded</th>\n",
       "      <th>work_rate_encoded</th>\n",
       "      <th>preferred_foot_encoded</th>\n",
       "      <th>age_bins_encoded</th>\n",
       "      <th>weight_bins_encoded</th>\n",
       "      <th>body_type_encoded</th>\n",
       "    </tr>\n",
       "  </thead>\n",
       "  <tbody>\n",
       "    <tr>\n",
       "      <th>0</th>\n",
       "      <td>158023</td>\n",
       "      <td>L. Messi</td>\n",
       "      <td>RW, ST, CF</td>\n",
       "      <td>93</td>\n",
       "      <td>93</td>\n",
       "      <td>78000000.0</td>\n",
       "      <td>320000.0</td>\n",
       "      <td>34</td>\n",
       "      <td>170</td>\n",
       "      <td>72</td>\n",
       "      <td>73.0</td>\n",
       "      <td>Paris Saint-Germain</td>\n",
       "      <td>French Ligue 1</td>\n",
       "      <td>52</td>\n",
       "      <td>Argentina</td>\n",
       "      <td>RW</td>\n",
       "      <td>Right Wing</td>\n",
       "      <td>Forward</td>\n",
       "      <td>2021-08-10</td>\n",
       "      <td>2023.0</td>\n",
       "      <td>Unique</td>\n",
       "      <td>Left</td>\n",
       "      <td>4</td>\n",
       "      <td>4</td>\n",
       "      <td>5</td>\n",
       "      <td>Medium/Low</td>\n",
       "      <td>85</td>\n",
       "      <td>92</td>\n",
       "      <td>91</td>\n",
       "      <td>95</td>\n",
       "      <td>34</td>\n",
       "      <td>65</td>\n",
       "      <td>85</td>\n",
       "      <td>95</td>\n",
       "      <td>70</td>\n",
       "      <td>91</td>\n",
       "      <td>88</td>\n",
       "      <td>96</td>\n",
       "      <td>93</td>\n",
       "      <td>94</td>\n",
       "      <td>91</td>\n",
       "      <td>96</td>\n",
       "      <td>91</td>\n",
       "      <td>80</td>\n",
       "      <td>91</td>\n",
       "      <td>94</td>\n",
       "      <td>95</td>\n",
       "      <td>86</td>\n",
       "      <td>68</td>\n",
       "      <td>72</td>\n",
       "      <td>69</td>\n",
       "      <td>94</td>\n",
       "      <td>44</td>\n",
       "      <td>40</td>\n",
       "      <td>93</td>\n",
       "      <td>95</td>\n",
       "      <td>75</td>\n",
       "      <td>20</td>\n",
       "      <td>35</td>\n",
       "      <td>24</td>\n",
       "      <td>6</td>\n",
       "      <td>11</td>\n",
       "      <td>15</td>\n",
       "      <td>14</td>\n",
       "      <td>8</td>\n",
       "      <td>0</td>\n",
       "      <td>2022</td>\n",
       "      <td>78320000.0</td>\n",
       "      <td>older</td>\n",
       "      <td>short</td>\n",
       "      <td>average</td>\n",
       "      <td>2021</td>\n",
       "      <td>1</td>\n",
       "      <td>4</td>\n",
       "      <td>1</td>\n",
       "      <td>4</td>\n",
       "      <td>1</td>\n",
       "      <td>1</td>\n",
       "      <td>2</td>\n",
       "      <td>1</td>\n",
       "    </tr>\n",
       "    <tr>\n",
       "      <th>1</th>\n",
       "      <td>188545</td>\n",
       "      <td>R. Lewandowski</td>\n",
       "      <td>ST</td>\n",
       "      <td>92</td>\n",
       "      <td>92</td>\n",
       "      <td>119500000.0</td>\n",
       "      <td>270000.0</td>\n",
       "      <td>32</td>\n",
       "      <td>185</td>\n",
       "      <td>81</td>\n",
       "      <td>21.0</td>\n",
       "      <td>FC Bayern München</td>\n",
       "      <td>German 1. Bundesliga</td>\n",
       "      <td>37</td>\n",
       "      <td>Poland</td>\n",
       "      <td>ST</td>\n",
       "      <td>Striker</td>\n",
       "      <td>Forward</td>\n",
       "      <td>2014-07-01</td>\n",
       "      <td>2023.0</td>\n",
       "      <td>Unique</td>\n",
       "      <td>Right</td>\n",
       "      <td>4</td>\n",
       "      <td>4</td>\n",
       "      <td>5</td>\n",
       "      <td>High/Medium</td>\n",
       "      <td>78</td>\n",
       "      <td>92</td>\n",
       "      <td>79</td>\n",
       "      <td>86</td>\n",
       "      <td>44</td>\n",
       "      <td>82</td>\n",
       "      <td>71</td>\n",
       "      <td>95</td>\n",
       "      <td>90</td>\n",
       "      <td>85</td>\n",
       "      <td>89</td>\n",
       "      <td>85</td>\n",
       "      <td>79</td>\n",
       "      <td>85</td>\n",
       "      <td>70</td>\n",
       "      <td>88</td>\n",
       "      <td>77</td>\n",
       "      <td>79</td>\n",
       "      <td>77</td>\n",
       "      <td>93</td>\n",
       "      <td>82</td>\n",
       "      <td>90</td>\n",
       "      <td>85</td>\n",
       "      <td>76</td>\n",
       "      <td>86</td>\n",
       "      <td>87</td>\n",
       "      <td>81</td>\n",
       "      <td>49</td>\n",
       "      <td>95</td>\n",
       "      <td>81</td>\n",
       "      <td>90</td>\n",
       "      <td>35</td>\n",
       "      <td>42</td>\n",
       "      <td>19</td>\n",
       "      <td>15</td>\n",
       "      <td>6</td>\n",
       "      <td>12</td>\n",
       "      <td>8</td>\n",
       "      <td>10</td>\n",
       "      <td>0</td>\n",
       "      <td>2022</td>\n",
       "      <td>119770000.0</td>\n",
       "      <td>older</td>\n",
       "      <td>medium</td>\n",
       "      <td>average</td>\n",
       "      <td>2014</td>\n",
       "      <td>8</td>\n",
       "      <td>7</td>\n",
       "      <td>2</td>\n",
       "      <td>8</td>\n",
       "      <td>2</td>\n",
       "      <td>1</td>\n",
       "      <td>2</td>\n",
       "      <td>1</td>\n",
       "    </tr>\n",
       "    <tr>\n",
       "      <th>2</th>\n",
       "      <td>20801</td>\n",
       "      <td>Cristiano Ronaldo</td>\n",
       "      <td>ST, LW</td>\n",
       "      <td>91</td>\n",
       "      <td>91</td>\n",
       "      <td>45000000.0</td>\n",
       "      <td>270000.0</td>\n",
       "      <td>36</td>\n",
       "      <td>187</td>\n",
       "      <td>83</td>\n",
       "      <td>11.0</td>\n",
       "      <td>Manchester United</td>\n",
       "      <td>English Premier League</td>\n",
       "      <td>38</td>\n",
       "      <td>Portugal</td>\n",
       "      <td>ST</td>\n",
       "      <td>Striker</td>\n",
       "      <td>Forward</td>\n",
       "      <td>2021-08-27</td>\n",
       "      <td>2023.0</td>\n",
       "      <td>Unique</td>\n",
       "      <td>Right</td>\n",
       "      <td>4</td>\n",
       "      <td>5</td>\n",
       "      <td>5</td>\n",
       "      <td>High/Low</td>\n",
       "      <td>87</td>\n",
       "      <td>94</td>\n",
       "      <td>80</td>\n",
       "      <td>88</td>\n",
       "      <td>34</td>\n",
       "      <td>75</td>\n",
       "      <td>87</td>\n",
       "      <td>95</td>\n",
       "      <td>90</td>\n",
       "      <td>80</td>\n",
       "      <td>86</td>\n",
       "      <td>88</td>\n",
       "      <td>81</td>\n",
       "      <td>84</td>\n",
       "      <td>77</td>\n",
       "      <td>88</td>\n",
       "      <td>85</td>\n",
       "      <td>88</td>\n",
       "      <td>86</td>\n",
       "      <td>94</td>\n",
       "      <td>74</td>\n",
       "      <td>94</td>\n",
       "      <td>95</td>\n",
       "      <td>77</td>\n",
       "      <td>77</td>\n",
       "      <td>93</td>\n",
       "      <td>63</td>\n",
       "      <td>29</td>\n",
       "      <td>95</td>\n",
       "      <td>76</td>\n",
       "      <td>88</td>\n",
       "      <td>24</td>\n",
       "      <td>32</td>\n",
       "      <td>24</td>\n",
       "      <td>7</td>\n",
       "      <td>11</td>\n",
       "      <td>15</td>\n",
       "      <td>14</td>\n",
       "      <td>11</td>\n",
       "      <td>0</td>\n",
       "      <td>2022</td>\n",
       "      <td>45270000.0</td>\n",
       "      <td>older</td>\n",
       "      <td>medium</td>\n",
       "      <td>average</td>\n",
       "      <td>2021</td>\n",
       "      <td>1</td>\n",
       "      <td>2</td>\n",
       "      <td>2</td>\n",
       "      <td>7</td>\n",
       "      <td>2</td>\n",
       "      <td>1</td>\n",
       "      <td>2</td>\n",
       "      <td>1</td>\n",
       "    </tr>\n",
       "    <tr>\n",
       "      <th>3</th>\n",
       "      <td>190871</td>\n",
       "      <td>Neymar Jr</td>\n",
       "      <td>LW, CAM</td>\n",
       "      <td>91</td>\n",
       "      <td>91</td>\n",
       "      <td>129000000.0</td>\n",
       "      <td>270000.0</td>\n",
       "      <td>29</td>\n",
       "      <td>175</td>\n",
       "      <td>68</td>\n",
       "      <td>73.0</td>\n",
       "      <td>Paris Saint-Germain</td>\n",
       "      <td>French Ligue 1</td>\n",
       "      <td>54</td>\n",
       "      <td>Brazil</td>\n",
       "      <td>LW</td>\n",
       "      <td>Left Wing</td>\n",
       "      <td>Forward</td>\n",
       "      <td>2017-08-03</td>\n",
       "      <td>2025.0</td>\n",
       "      <td>Unique</td>\n",
       "      <td>Right</td>\n",
       "      <td>5</td>\n",
       "      <td>5</td>\n",
       "      <td>5</td>\n",
       "      <td>High/Medium</td>\n",
       "      <td>91</td>\n",
       "      <td>83</td>\n",
       "      <td>86</td>\n",
       "      <td>94</td>\n",
       "      <td>37</td>\n",
       "      <td>63</td>\n",
       "      <td>85</td>\n",
       "      <td>83</td>\n",
       "      <td>63</td>\n",
       "      <td>86</td>\n",
       "      <td>86</td>\n",
       "      <td>95</td>\n",
       "      <td>88</td>\n",
       "      <td>87</td>\n",
       "      <td>81</td>\n",
       "      <td>95</td>\n",
       "      <td>93</td>\n",
       "      <td>89</td>\n",
       "      <td>96</td>\n",
       "      <td>89</td>\n",
       "      <td>84</td>\n",
       "      <td>80</td>\n",
       "      <td>64</td>\n",
       "      <td>81</td>\n",
       "      <td>53</td>\n",
       "      <td>81</td>\n",
       "      <td>63</td>\n",
       "      <td>37</td>\n",
       "      <td>86</td>\n",
       "      <td>90</td>\n",
       "      <td>93</td>\n",
       "      <td>35</td>\n",
       "      <td>32</td>\n",
       "      <td>29</td>\n",
       "      <td>9</td>\n",
       "      <td>9</td>\n",
       "      <td>15</td>\n",
       "      <td>15</td>\n",
       "      <td>11</td>\n",
       "      <td>0</td>\n",
       "      <td>2022</td>\n",
       "      <td>129270000.0</td>\n",
       "      <td>younger</td>\n",
       "      <td>medium</td>\n",
       "      <td>slim</td>\n",
       "      <td>2017</td>\n",
       "      <td>5</td>\n",
       "      <td>4</td>\n",
       "      <td>3</td>\n",
       "      <td>8</td>\n",
       "      <td>2</td>\n",
       "      <td>2</td>\n",
       "      <td>1</td>\n",
       "      <td>1</td>\n",
       "    </tr>\n",
       "    <tr>\n",
       "      <th>4</th>\n",
       "      <td>192985</td>\n",
       "      <td>K. De Bruyne</td>\n",
       "      <td>CM, CAM</td>\n",
       "      <td>91</td>\n",
       "      <td>91</td>\n",
       "      <td>125500000.0</td>\n",
       "      <td>350000.0</td>\n",
       "      <td>30</td>\n",
       "      <td>181</td>\n",
       "      <td>70</td>\n",
       "      <td>10.0</td>\n",
       "      <td>Manchester City</td>\n",
       "      <td>English Premier League</td>\n",
       "      <td>7</td>\n",
       "      <td>Belgium</td>\n",
       "      <td>RCM</td>\n",
       "      <td>Right Centre Midfield</td>\n",
       "      <td>Midfielder</td>\n",
       "      <td>2015-08-30</td>\n",
       "      <td>2025.0</td>\n",
       "      <td>Unique</td>\n",
       "      <td>Right</td>\n",
       "      <td>5</td>\n",
       "      <td>4</td>\n",
       "      <td>4</td>\n",
       "      <td>High/High</td>\n",
       "      <td>76</td>\n",
       "      <td>86</td>\n",
       "      <td>93</td>\n",
       "      <td>88</td>\n",
       "      <td>64</td>\n",
       "      <td>78</td>\n",
       "      <td>94</td>\n",
       "      <td>82</td>\n",
       "      <td>55</td>\n",
       "      <td>94</td>\n",
       "      <td>82</td>\n",
       "      <td>88</td>\n",
       "      <td>85</td>\n",
       "      <td>83</td>\n",
       "      <td>93</td>\n",
       "      <td>91</td>\n",
       "      <td>76</td>\n",
       "      <td>76</td>\n",
       "      <td>79</td>\n",
       "      <td>91</td>\n",
       "      <td>78</td>\n",
       "      <td>91</td>\n",
       "      <td>63</td>\n",
       "      <td>89</td>\n",
       "      <td>74</td>\n",
       "      <td>91</td>\n",
       "      <td>76</td>\n",
       "      <td>66</td>\n",
       "      <td>88</td>\n",
       "      <td>94</td>\n",
       "      <td>83</td>\n",
       "      <td>68</td>\n",
       "      <td>65</td>\n",
       "      <td>53</td>\n",
       "      <td>15</td>\n",
       "      <td>13</td>\n",
       "      <td>5</td>\n",
       "      <td>10</td>\n",
       "      <td>13</td>\n",
       "      <td>0</td>\n",
       "      <td>2022</td>\n",
       "      <td>125850000.0</td>\n",
       "      <td>older</td>\n",
       "      <td>medium</td>\n",
       "      <td>average</td>\n",
       "      <td>2015</td>\n",
       "      <td>7</td>\n",
       "      <td>2</td>\n",
       "      <td>4</td>\n",
       "      <td>9</td>\n",
       "      <td>2</td>\n",
       "      <td>1</td>\n",
       "      <td>2</td>\n",
       "      <td>1</td>\n",
       "    </tr>\n",
       "  </tbody>\n",
       "</table>\n",
       "</div>"
      ],
      "text/plain": [
       "   sofifa_id         short_name player_positions  overall  potential  \\\n",
       "0     158023           L. Messi       RW, ST, CF       93         93   \n",
       "1     188545     R. Lewandowski               ST       92         92   \n",
       "2      20801  Cristiano Ronaldo           ST, LW       91         91   \n",
       "3     190871          Neymar Jr          LW, CAM       91         91   \n",
       "4     192985       K. De Bruyne          CM, CAM       91         91   \n",
       "\n",
       "     value_eur  wage_eur  age  height_cm  weight_kg  club_team_id  \\\n",
       "0   78000000.0  320000.0   34        170         72          73.0   \n",
       "1  119500000.0  270000.0   32        185         81          21.0   \n",
       "2   45000000.0  270000.0   36        187         83          11.0   \n",
       "3  129000000.0  270000.0   29        175         68          73.0   \n",
       "4  125500000.0  350000.0   30        181         70          10.0   \n",
       "\n",
       "             club_name             league_name  nationality_id  \\\n",
       "0  Paris Saint-Germain          French Ligue 1              52   \n",
       "1    FC Bayern München    German 1. Bundesliga              37   \n",
       "2    Manchester United  English Premier League              38   \n",
       "3  Paris Saint-Germain          French Ligue 1              54   \n",
       "4      Manchester City  English Premier League               7   \n",
       "\n",
       "  nationality_name club_position               position field_position  \\\n",
       "0        Argentina            RW             Right Wing        Forward   \n",
       "1           Poland            ST                Striker        Forward   \n",
       "2         Portugal            ST                Striker        Forward   \n",
       "3           Brazil            LW              Left Wing        Forward   \n",
       "4          Belgium           RCM  Right Centre Midfield     Midfielder   \n",
       "\n",
       "  club_joined  club_contract_valid_until body_type preferred_foot  weak_foot  \\\n",
       "0  2021-08-10                     2023.0    Unique           Left          4   \n",
       "1  2014-07-01                     2023.0    Unique          Right          4   \n",
       "2  2021-08-27                     2023.0    Unique          Right          4   \n",
       "3  2017-08-03                     2025.0    Unique          Right          5   \n",
       "4  2015-08-30                     2025.0    Unique          Right          5   \n",
       "\n",
       "   skill_moves  international_reputation    work_rate  pace  shooting  \\\n",
       "0            4                         5   Medium/Low    85        92   \n",
       "1            4                         5  High/Medium    78        92   \n",
       "2            5                         5     High/Low    87        94   \n",
       "3            5                         5  High/Medium    91        83   \n",
       "4            4                         4    High/High    76        86   \n",
       "\n",
       "   passing  dribbling  defending  physical  crossing  finishing  \\\n",
       "0       91         95         34        65        85         95   \n",
       "1       79         86         44        82        71         95   \n",
       "2       80         88         34        75        87         95   \n",
       "3       86         94         37        63        85         83   \n",
       "4       93         88         64        78        94         82   \n",
       "\n",
       "   heading_accuracy  short_passing  volleys  skill_dribbling  curve  \\\n",
       "0                70             91       88               96     93   \n",
       "1                90             85       89               85     79   \n",
       "2                90             80       86               88     81   \n",
       "3                63             86       86               95     88   \n",
       "4                55             94       82               88     85   \n",
       "\n",
       "   fk_accuracy  long_passing  ball_control  acceleration  sprint_speed  \\\n",
       "0           94            91            96            91            80   \n",
       "1           85            70            88            77            79   \n",
       "2           84            77            88            85            88   \n",
       "3           87            81            95            93            89   \n",
       "4           83            93            91            76            76   \n",
       "\n",
       "   agility  reactions  balance  shot_power  jumping  stamina  strength  \\\n",
       "0       91         94       95          86       68       72        69   \n",
       "1       77         93       82          90       85       76        86   \n",
       "2       86         94       74          94       95       77        77   \n",
       "3       96         89       84          80       64       81        53   \n",
       "4       79         91       78          91       63       89        74   \n",
       "\n",
       "   long_shots  aggression  interceptions  positioning  vision  penalties  \\\n",
       "0          94          44             40           93      95         75   \n",
       "1          87          81             49           95      81         90   \n",
       "2          93          63             29           95      76         88   \n",
       "3          81          63             37           86      90         93   \n",
       "4          91          76             66           88      94         83   \n",
       "\n",
       "   marking  standing_tackle  sliding_tackle  gk_diving  gk_handling  \\\n",
       "0       20               35              24          6           11   \n",
       "1       35               42              19         15            6   \n",
       "2       24               32              24          7           11   \n",
       "3       35               32              29          9            9   \n",
       "4       68               65              53         15           13   \n",
       "\n",
       "   gk_kicking  gk_positioning  gk_reflexes  gk_speed  year   total_wage  \\\n",
       "0          15              14            8         0  2022   78320000.0   \n",
       "1          12               8           10         0  2022  119770000.0   \n",
       "2          15              14           11         0  2022   45270000.0   \n",
       "3          15              15           11         0  2022  129270000.0   \n",
       "4           5              10           13         0  2022  125850000.0   \n",
       "\n",
       "  age_bins height_bins weight_bins  year_joined  seniority  league_encoded  \\\n",
       "0    older       short     average         2021          1               4   \n",
       "1    older      medium     average         2014          8               7   \n",
       "2    older      medium     average         2021          1               2   \n",
       "3  younger      medium        slim         2017          5               4   \n",
       "4    older      medium     average         2015          7               2   \n",
       "\n",
       "   club_position_encoded  work_rate_encoded  preferred_foot_encoded  \\\n",
       "0                      1                  4                       1   \n",
       "1                      2                  8                       2   \n",
       "2                      2                  7                       2   \n",
       "3                      3                  8                       2   \n",
       "4                      4                  9                       2   \n",
       "\n",
       "  age_bins_encoded weight_bins_encoded  body_type_encoded  \n",
       "0                1                   2                  1  \n",
       "1                1                   2                  1  \n",
       "2                1                   2                  1  \n",
       "3                2                   1                  1  \n",
       "4                1                   2                  1  "
      ]
     },
     "execution_count": 23,
     "metadata": {},
     "output_type": "execute_result"
    }
   ],
   "source": [
    "df.head()"
   ]
  },
  {
   "cell_type": "code",
   "execution_count": 44,
   "id": "38692e18",
   "metadata": {},
   "outputs": [],
   "source": [
    "#subset by gk only\n",
    "gk = df.loc[df['club_position'] == 'GK']\n",
    "\n",
    "#subset w/o gk\n",
    "df = df.loc[df['club_position'] != 'GK']"
   ]
  },
  {
   "cell_type": "code",
   "execution_count": null,
   "id": "da0c1698",
   "metadata": {},
   "outputs": [],
   "source": []
  },
  {
   "cell_type": "code",
   "execution_count": 45,
   "id": "66d8dcb4",
   "metadata": {},
   "outputs": [],
   "source": [
    "df2 = df.loc[df['year'] == 2022]"
   ]
  },
  {
   "cell_type": "code",
   "execution_count": 46,
   "id": "6b524c18",
   "metadata": {},
   "outputs": [
    {
     "data": {
      "text/html": [
       "<style type=\"text/css\">\n",
       "#T_eb9f5_row0_col1, #T_eb9f5_row5_col2 {\n",
       "  background-color: #00441b;\n",
       "  color: #f1f1f1;\n",
       "}\n",
       "#T_eb9f5_row0_col2 {\n",
       "  background-color: #37a055;\n",
       "  color: #f1f1f1;\n",
       "}\n",
       "#T_eb9f5_row1_col1 {\n",
       "  background-color: #228a44;\n",
       "  color: #f1f1f1;\n",
       "}\n",
       "#T_eb9f5_row1_col2, #T_eb9f5_row2_col1, #T_eb9f5_row3_col1, #T_eb9f5_row4_col1, #T_eb9f5_row5_col1 {\n",
       "  background-color: #73c476;\n",
       "  color: #000000;\n",
       "}\n",
       "#T_eb9f5_row2_col2, #T_eb9f5_row3_col2, #T_eb9f5_row4_col2 {\n",
       "  background-color: #aedea7;\n",
       "  color: #000000;\n",
       "}\n",
       "#T_eb9f5_row6_col1, #T_eb9f5_row7_col1 {\n",
       "  background-color: #c7e9c0;\n",
       "  color: #000000;\n",
       "}\n",
       "#T_eb9f5_row6_col2, #T_eb9f5_row7_col2, #T_eb9f5_row9_col2 {\n",
       "  background-color: #dbf1d6;\n",
       "  color: #000000;\n",
       "}\n",
       "#T_eb9f5_row8_col1, #T_eb9f5_row8_col2, #T_eb9f5_row9_col1 {\n",
       "  background-color: #f7fcf5;\n",
       "  color: #000000;\n",
       "}\n",
       "</style>\n",
       "<table id=\"T_eb9f5\">\n",
       "  <thead>\n",
       "    <tr>\n",
       "      <th class=\"blank level0\" >&nbsp;</th>\n",
       "      <th id=\"T_eb9f5_level0_col0\" class=\"col_heading level0 col0\" >short_name</th>\n",
       "      <th id=\"T_eb9f5_level0_col1\" class=\"col_heading level0 col1\" >overall</th>\n",
       "      <th id=\"T_eb9f5_level0_col2\" class=\"col_heading level0 col2\" >potential</th>\n",
       "      <th id=\"T_eb9f5_level0_col3\" class=\"col_heading level0 col3\" >club_name</th>\n",
       "      <th id=\"T_eb9f5_level0_col4\" class=\"col_heading level0 col4\" >preferred_foot</th>\n",
       "      <th id=\"T_eb9f5_level0_col5\" class=\"col_heading level0 col5\" >club_position</th>\n",
       "    </tr>\n",
       "  </thead>\n",
       "  <tbody>\n",
       "    <tr>\n",
       "      <th id=\"T_eb9f5_level0_row0\" class=\"row_heading level0 row0\" >0</th>\n",
       "      <td id=\"T_eb9f5_row0_col0\" class=\"data row0 col0\" >L. Messi</td>\n",
       "      <td id=\"T_eb9f5_row0_col1\" class=\"data row0 col1\" >93</td>\n",
       "      <td id=\"T_eb9f5_row0_col2\" class=\"data row0 col2\" >93</td>\n",
       "      <td id=\"T_eb9f5_row0_col3\" class=\"data row0 col3\" >Paris Saint-Germain</td>\n",
       "      <td id=\"T_eb9f5_row0_col4\" class=\"data row0 col4\" >Left</td>\n",
       "      <td id=\"T_eb9f5_row0_col5\" class=\"data row0 col5\" >RW</td>\n",
       "    </tr>\n",
       "    <tr>\n",
       "      <th id=\"T_eb9f5_level0_row1\" class=\"row_heading level0 row1\" >1</th>\n",
       "      <td id=\"T_eb9f5_row1_col0\" class=\"data row1 col0\" >R. Lewandowski</td>\n",
       "      <td id=\"T_eb9f5_row1_col1\" class=\"data row1 col1\" >92</td>\n",
       "      <td id=\"T_eb9f5_row1_col2\" class=\"data row1 col2\" >92</td>\n",
       "      <td id=\"T_eb9f5_row1_col3\" class=\"data row1 col3\" >FC Bayern München</td>\n",
       "      <td id=\"T_eb9f5_row1_col4\" class=\"data row1 col4\" >Right</td>\n",
       "      <td id=\"T_eb9f5_row1_col5\" class=\"data row1 col5\" >ST</td>\n",
       "    </tr>\n",
       "    <tr>\n",
       "      <th id=\"T_eb9f5_level0_row2\" class=\"row_heading level0 row2\" >2</th>\n",
       "      <td id=\"T_eb9f5_row2_col0\" class=\"data row2 col0\" >Cristiano Ronaldo</td>\n",
       "      <td id=\"T_eb9f5_row2_col1\" class=\"data row2 col1\" >91</td>\n",
       "      <td id=\"T_eb9f5_row2_col2\" class=\"data row2 col2\" >91</td>\n",
       "      <td id=\"T_eb9f5_row2_col3\" class=\"data row2 col3\" >Manchester United</td>\n",
       "      <td id=\"T_eb9f5_row2_col4\" class=\"data row2 col4\" >Right</td>\n",
       "      <td id=\"T_eb9f5_row2_col5\" class=\"data row2 col5\" >ST</td>\n",
       "    </tr>\n",
       "    <tr>\n",
       "      <th id=\"T_eb9f5_level0_row3\" class=\"row_heading level0 row3\" >3</th>\n",
       "      <td id=\"T_eb9f5_row3_col0\" class=\"data row3 col0\" >Neymar Jr</td>\n",
       "      <td id=\"T_eb9f5_row3_col1\" class=\"data row3 col1\" >91</td>\n",
       "      <td id=\"T_eb9f5_row3_col2\" class=\"data row3 col2\" >91</td>\n",
       "      <td id=\"T_eb9f5_row3_col3\" class=\"data row3 col3\" >Paris Saint-Germain</td>\n",
       "      <td id=\"T_eb9f5_row3_col4\" class=\"data row3 col4\" >Right</td>\n",
       "      <td id=\"T_eb9f5_row3_col5\" class=\"data row3 col5\" >LW</td>\n",
       "    </tr>\n",
       "    <tr>\n",
       "      <th id=\"T_eb9f5_level0_row4\" class=\"row_heading level0 row4\" >4</th>\n",
       "      <td id=\"T_eb9f5_row4_col0\" class=\"data row4 col0\" >K. De Bruyne</td>\n",
       "      <td id=\"T_eb9f5_row4_col1\" class=\"data row4 col1\" >91</td>\n",
       "      <td id=\"T_eb9f5_row4_col2\" class=\"data row4 col2\" >91</td>\n",
       "      <td id=\"T_eb9f5_row4_col3\" class=\"data row4 col3\" >Manchester City</td>\n",
       "      <td id=\"T_eb9f5_row4_col4\" class=\"data row4 col4\" >Right</td>\n",
       "      <td id=\"T_eb9f5_row4_col5\" class=\"data row4 col5\" >RCM</td>\n",
       "    </tr>\n",
       "    <tr>\n",
       "      <th id=\"T_eb9f5_level0_row5\" class=\"row_heading level0 row5\" >6</th>\n",
       "      <td id=\"T_eb9f5_row5_col0\" class=\"data row5 col0\" >K. Mbappé</td>\n",
       "      <td id=\"T_eb9f5_row5_col1\" class=\"data row5 col1\" >91</td>\n",
       "      <td id=\"T_eb9f5_row5_col2\" class=\"data row5 col2\" >95</td>\n",
       "      <td id=\"T_eb9f5_row5_col3\" class=\"data row5 col3\" >Paris Saint-Germain</td>\n",
       "      <td id=\"T_eb9f5_row5_col4\" class=\"data row5 col4\" >Right</td>\n",
       "      <td id=\"T_eb9f5_row5_col5\" class=\"data row5 col5\" >ST</td>\n",
       "    </tr>\n",
       "    <tr>\n",
       "      <th id=\"T_eb9f5_level0_row6\" class=\"row_heading level0 row6\" >9</th>\n",
       "      <td id=\"T_eb9f5_row6_col0\" class=\"data row6 col0\" >H. Kane</td>\n",
       "      <td id=\"T_eb9f5_row6_col1\" class=\"data row6 col1\" >90</td>\n",
       "      <td id=\"T_eb9f5_row6_col2\" class=\"data row6 col2\" >90</td>\n",
       "      <td id=\"T_eb9f5_row6_col3\" class=\"data row6 col3\" >Tottenham Hotspur</td>\n",
       "      <td id=\"T_eb9f5_row6_col4\" class=\"data row6 col4\" >Right</td>\n",
       "      <td id=\"T_eb9f5_row6_col5\" class=\"data row6 col5\" >ST</td>\n",
       "    </tr>\n",
       "    <tr>\n",
       "      <th id=\"T_eb9f5_level0_row7\" class=\"row_heading level0 row7\" >10</th>\n",
       "      <td id=\"T_eb9f5_row7_col0\" class=\"data row7 col0\" >N. Kanté</td>\n",
       "      <td id=\"T_eb9f5_row7_col1\" class=\"data row7 col1\" >90</td>\n",
       "      <td id=\"T_eb9f5_row7_col2\" class=\"data row7 col2\" >90</td>\n",
       "      <td id=\"T_eb9f5_row7_col3\" class=\"data row7 col3\" >Chelsea</td>\n",
       "      <td id=\"T_eb9f5_row7_col4\" class=\"data row7 col4\" >Right</td>\n",
       "      <td id=\"T_eb9f5_row7_col5\" class=\"data row7 col5\" >RCM</td>\n",
       "    </tr>\n",
       "    <tr>\n",
       "      <th id=\"T_eb9f5_level0_row8\" class=\"row_heading level0 row8\" >16</th>\n",
       "      <td id=\"T_eb9f5_row8_col0\" class=\"data row8 col0\" >S. Mané</td>\n",
       "      <td id=\"T_eb9f5_row8_col1\" class=\"data row8 col1\" >89</td>\n",
       "      <td id=\"T_eb9f5_row8_col2\" class=\"data row8 col2\" >89</td>\n",
       "      <td id=\"T_eb9f5_row8_col3\" class=\"data row8 col3\" >Liverpool</td>\n",
       "      <td id=\"T_eb9f5_row8_col4\" class=\"data row8 col4\" >Right</td>\n",
       "      <td id=\"T_eb9f5_row8_col5\" class=\"data row8 col5\" >LW</td>\n",
       "    </tr>\n",
       "    <tr>\n",
       "      <th id=\"T_eb9f5_level0_row9\" class=\"row_heading level0 row9\" >19</th>\n",
       "      <td id=\"T_eb9f5_row9_col0\" class=\"data row9 col0\" >J. Kimmich</td>\n",
       "      <td id=\"T_eb9f5_row9_col1\" class=\"data row9 col1\" >89</td>\n",
       "      <td id=\"T_eb9f5_row9_col2\" class=\"data row9 col2\" >90</td>\n",
       "      <td id=\"T_eb9f5_row9_col3\" class=\"data row9 col3\" >FC Bayern München</td>\n",
       "      <td id=\"T_eb9f5_row9_col4\" class=\"data row9 col4\" >Right</td>\n",
       "      <td id=\"T_eb9f5_row9_col5\" class=\"data row9 col5\" >RDM</td>\n",
       "    </tr>\n",
       "  </tbody>\n",
       "</table>\n"
      ],
      "text/plain": [
       "<pandas.io.formats.style.Styler at 0x13c496e20>"
      ]
     },
     "execution_count": 46,
     "metadata": {},
     "output_type": "execute_result"
    }
   ],
   "source": [
    "fifa_overall = df2.sort_values(['overall'],ascending=False)[:10]\n",
    "fifa_overall[['short_name','overall','potential','club_name','preferred_foot','club_position']].style.background_gradient(cmap='Greens')"
   ]
  },
  {
   "cell_type": "code",
   "execution_count": 47,
   "id": "486b9370",
   "metadata": {},
   "outputs": [
    {
     "data": {
      "text/html": [
       "<style type=\"text/css\">\n",
       "#T_6f037_row0_col1, #T_6f037_row9_col1 {\n",
       "  background-color: #bc141a;\n",
       "  color: #f1f1f1;\n",
       "}\n",
       "#T_6f037_row0_col2, #T_6f037_row1_col1 {\n",
       "  background-color: #67000d;\n",
       "  color: #f1f1f1;\n",
       "}\n",
       "#T_6f037_row1_col2, #T_6f037_row2_col1, #T_6f037_row2_col2 {\n",
       "  background-color: #fb694a;\n",
       "  color: #f1f1f1;\n",
       "}\n",
       "#T_6f037_row3_col1 {\n",
       "  background-color: #980c13;\n",
       "  color: #f1f1f1;\n",
       "}\n",
       "#T_6f037_row3_col2, #T_6f037_row4_col2, #T_6f037_row5_col2, #T_6f037_row6_col2, #T_6f037_row7_col2 {\n",
       "  background-color: #fcbba1;\n",
       "  color: #000000;\n",
       "}\n",
       "#T_6f037_row4_col1, #T_6f037_row5_col1 {\n",
       "  background-color: #fc8a6a;\n",
       "  color: #f1f1f1;\n",
       "}\n",
       "#T_6f037_row6_col1, #T_6f037_row7_col1 {\n",
       "  background-color: #fee5d8;\n",
       "  color: #000000;\n",
       "}\n",
       "#T_6f037_row8_col1, #T_6f037_row8_col2, #T_6f037_row9_col2 {\n",
       "  background-color: #fff5f0;\n",
       "  color: #000000;\n",
       "}\n",
       "</style>\n",
       "<table id=\"T_6f037\">\n",
       "  <thead>\n",
       "    <tr>\n",
       "      <th class=\"blank level0\" >&nbsp;</th>\n",
       "      <th id=\"T_6f037_level0_col0\" class=\"col_heading level0 col0\" >short_name</th>\n",
       "      <th id=\"T_6f037_level0_col1\" class=\"col_heading level0 col1\" >overall</th>\n",
       "      <th id=\"T_6f037_level0_col2\" class=\"col_heading level0 col2\" >potential</th>\n",
       "      <th id=\"T_6f037_level0_col3\" class=\"col_heading level0 col3\" >club_name</th>\n",
       "      <th id=\"T_6f037_level0_col4\" class=\"col_heading level0 col4\" >preferred_foot</th>\n",
       "      <th id=\"T_6f037_level0_col5\" class=\"col_heading level0 col5\" >club_position</th>\n",
       "    </tr>\n",
       "  </thead>\n",
       "  <tbody>\n",
       "    <tr>\n",
       "      <th id=\"T_6f037_level0_row0\" class=\"row_heading level0 row0\" >6</th>\n",
       "      <td id=\"T_6f037_row0_col0\" class=\"data row0 col0\" >K. Mbappé</td>\n",
       "      <td id=\"T_6f037_row0_col1\" class=\"data row0 col1\" >91</td>\n",
       "      <td id=\"T_6f037_row0_col2\" class=\"data row0 col2\" >95</td>\n",
       "      <td id=\"T_6f037_row0_col3\" class=\"data row0 col3\" >Paris Saint-Germain</td>\n",
       "      <td id=\"T_6f037_row0_col4\" class=\"data row0 col4\" >Right</td>\n",
       "      <td id=\"T_6f037_row0_col5\" class=\"data row0 col5\" >ST</td>\n",
       "    </tr>\n",
       "    <tr>\n",
       "      <th id=\"T_6f037_level0_row1\" class=\"row_heading level0 row1\" >0</th>\n",
       "      <td id=\"T_6f037_row1_col0\" class=\"data row1 col0\" >L. Messi</td>\n",
       "      <td id=\"T_6f037_row1_col1\" class=\"data row1 col1\" >93</td>\n",
       "      <td id=\"T_6f037_row1_col2\" class=\"data row1 col2\" >93</td>\n",
       "      <td id=\"T_6f037_row1_col3\" class=\"data row1 col3\" >Paris Saint-Germain</td>\n",
       "      <td id=\"T_6f037_row1_col4\" class=\"data row1 col4\" >Left</td>\n",
       "      <td id=\"T_6f037_row1_col5\" class=\"data row1 col5\" >RW</td>\n",
       "    </tr>\n",
       "    <tr>\n",
       "      <th id=\"T_6f037_level0_row2\" class=\"row_heading level0 row2\" >29</th>\n",
       "      <td id=\"T_6f037_row2_col0\" class=\"data row2 col0\" >E. Haaland</td>\n",
       "      <td id=\"T_6f037_row2_col1\" class=\"data row2 col1\" >88</td>\n",
       "      <td id=\"T_6f037_row2_col2\" class=\"data row2 col2\" >93</td>\n",
       "      <td id=\"T_6f037_row2_col3\" class=\"data row2 col3\" >Borussia Dortmund</td>\n",
       "      <td id=\"T_6f037_row2_col4\" class=\"data row2 col4\" >Left</td>\n",
       "      <td id=\"T_6f037_row2_col5\" class=\"data row2 col5\" >RS</td>\n",
       "    </tr>\n",
       "    <tr>\n",
       "      <th id=\"T_6f037_level0_row3\" class=\"row_heading level0 row3\" >1</th>\n",
       "      <td id=\"T_6f037_row3_col0\" class=\"data row3 col0\" >R. Lewandowski</td>\n",
       "      <td id=\"T_6f037_row3_col1\" class=\"data row3 col1\" >92</td>\n",
       "      <td id=\"T_6f037_row3_col2\" class=\"data row3 col2\" >92</td>\n",
       "      <td id=\"T_6f037_row3_col3\" class=\"data row3 col3\" >FC Bayern München</td>\n",
       "      <td id=\"T_6f037_row3_col4\" class=\"data row3 col4\" >Right</td>\n",
       "      <td id=\"T_6f037_row3_col5\" class=\"data row3 col5\" >ST</td>\n",
       "    </tr>\n",
       "    <tr>\n",
       "      <th id=\"T_6f037_level0_row4\" class=\"row_heading level0 row4\" >43</th>\n",
       "      <td id=\"T_6f037_row4_col0\" class=\"data row4 col0\" >F. de Jong</td>\n",
       "      <td id=\"T_6f037_row4_col1\" class=\"data row4 col1\" >87</td>\n",
       "      <td id=\"T_6f037_row4_col2\" class=\"data row4 col2\" >92</td>\n",
       "      <td id=\"T_6f037_row4_col3\" class=\"data row4 col3\" >FC Barcelona</td>\n",
       "      <td id=\"T_6f037_row4_col4\" class=\"data row4 col4\" >Right</td>\n",
       "      <td id=\"T_6f037_row4_col5\" class=\"data row4 col5\" >RCM</td>\n",
       "    </tr>\n",
       "    <tr>\n",
       "      <th id=\"T_6f037_level0_row5\" class=\"row_heading level0 row5\" >44</th>\n",
       "      <td id=\"T_6f037_row5_col0\" class=\"data row5 col0\" >T. Alexander-Arnold</td>\n",
       "      <td id=\"T_6f037_row5_col1\" class=\"data row5 col1\" >87</td>\n",
       "      <td id=\"T_6f037_row5_col2\" class=\"data row5 col2\" >92</td>\n",
       "      <td id=\"T_6f037_row5_col3\" class=\"data row5 col3\" >Liverpool</td>\n",
       "      <td id=\"T_6f037_row5_col4\" class=\"data row5 col4\" >Right</td>\n",
       "      <td id=\"T_6f037_row5_col5\" class=\"data row5 col5\" >RB</td>\n",
       "    </tr>\n",
       "    <tr>\n",
       "      <th id=\"T_6f037_level0_row6\" class=\"row_heading level0 row6\" >138</th>\n",
       "      <td id=\"T_6f037_row6_col0\" class=\"data row6 col0\" >K. Havertz</td>\n",
       "      <td id=\"T_6f037_row6_col1\" class=\"data row6 col1\" >84</td>\n",
       "      <td id=\"T_6f037_row6_col2\" class=\"data row6 col2\" >92</td>\n",
       "      <td id=\"T_6f037_row6_col3\" class=\"data row6 col3\" >Chelsea</td>\n",
       "      <td id=\"T_6f037_row6_col4\" class=\"data row6 col4\" >Left</td>\n",
       "      <td id=\"T_6f037_row6_col5\" class=\"data row6 col5\" >SUB</td>\n",
       "    </tr>\n",
       "    <tr>\n",
       "      <th id=\"T_6f037_level0_row7\" class=\"row_heading level0 row7\" >139</th>\n",
       "      <td id=\"T_6f037_row7_col0\" class=\"data row7 col0\" >P. Foden</td>\n",
       "      <td id=\"T_6f037_row7_col1\" class=\"data row7 col1\" >84</td>\n",
       "      <td id=\"T_6f037_row7_col2\" class=\"data row7 col2\" >92</td>\n",
       "      <td id=\"T_6f037_row7_col3\" class=\"data row7 col3\" >Manchester City</td>\n",
       "      <td id=\"T_6f037_row7_col4\" class=\"data row7 col4\" >Left</td>\n",
       "      <td id=\"T_6f037_row7_col5\" class=\"data row7 col5\" >SUB</td>\n",
       "    </tr>\n",
       "    <tr>\n",
       "      <th id=\"T_6f037_level0_row8\" class=\"row_heading level0 row8\" >198</th>\n",
       "      <td id=\"T_6f037_row8_col0\" class=\"data row8 col0\" >João Félix</td>\n",
       "      <td id=\"T_6f037_row8_col1\" class=\"data row8 col1\" >83</td>\n",
       "      <td id=\"T_6f037_row8_col2\" class=\"data row8 col2\" >91</td>\n",
       "      <td id=\"T_6f037_row8_col3\" class=\"data row8 col3\" >Atlético de Madrid</td>\n",
       "      <td id=\"T_6f037_row8_col4\" class=\"data row8 col4\" >Right</td>\n",
       "      <td id=\"T_6f037_row8_col5\" class=\"data row8 col5\" >SUB</td>\n",
       "    </tr>\n",
       "    <tr>\n",
       "      <th id=\"T_6f037_level0_row9\" class=\"row_heading level0 row9\" >4</th>\n",
       "      <td id=\"T_6f037_row9_col0\" class=\"data row9 col0\" >K. De Bruyne</td>\n",
       "      <td id=\"T_6f037_row9_col1\" class=\"data row9 col1\" >91</td>\n",
       "      <td id=\"T_6f037_row9_col2\" class=\"data row9 col2\" >91</td>\n",
       "      <td id=\"T_6f037_row9_col3\" class=\"data row9 col3\" >Manchester City</td>\n",
       "      <td id=\"T_6f037_row9_col4\" class=\"data row9 col4\" >Right</td>\n",
       "      <td id=\"T_6f037_row9_col5\" class=\"data row9 col5\" >RCM</td>\n",
       "    </tr>\n",
       "  </tbody>\n",
       "</table>\n"
      ],
      "text/plain": [
       "<pandas.io.formats.style.Styler at 0x2a748f970>"
      ]
     },
     "execution_count": 47,
     "metadata": {},
     "output_type": "execute_result"
    }
   ],
   "source": [
    "fifa_potential = df2.sort_values(['potential'],ascending=False)[:10]\n",
    "fifa_potential[['short_name','overall','potential','club_name','preferred_foot','club_position']].style.background_gradient(cmap='Reds')"
   ]
  },
  {
   "cell_type": "markdown",
   "id": "cbe17e4d",
   "metadata": {},
   "source": [
    "# Multivariate Analysis"
   ]
  },
  {
   "cell_type": "code",
   "execution_count": 48,
   "id": "c30cd666",
   "metadata": {},
   "outputs": [
    {
     "data": {
      "text/plain": [
       "<seaborn.axisgrid.FacetGrid at 0x2bb540550>"
      ]
     },
     "execution_count": 48,
     "metadata": {},
     "output_type": "execute_result"
    },
    {
     "data": {
      "image/png": "[encoded data removed]",
      "text/plain": [
       "<Figure size 720x360 with 2 Axes>"
      ]
     },
     "metadata": {},
     "output_type": "display_data"
    }
   ],
   "source": [
    "sns.lmplot(x = 'ball_control', \n",
    "           y = 'dribbling', \n",
    "           data = df,\n",
    "           col = 'preferred_foot',\n",
    "           scatter_kws = {'alpha':0.1,'color':'orange'},\n",
    "           line_kws = {'color':'red'})"
   ]
  },
  {
   "cell_type": "code",
   "execution_count": 49,
   "id": "9a47a86f",
   "metadata": {},
   "outputs": [
    {
     "data": {
      "image/png": "[encoded data removed]",
      "text/plain": [
       "<Figure size 612.5x504 with 1 Axes>"
      ]
     },
     "metadata": {},
     "output_type": "display_data"
    }
   ],
   "source": [
    "pop_clubs = ('Manchester City', 'FC Barcelona',  'Chelsea', 'Real Madrid')\n",
    "\n",
    "sns.lmplot(x = 'potential', \n",
    "           y = 'wage_eur', \n",
    "           hue ='club_name', \n",
    "           palette =  'tab20',\n",
    "           data = df.loc[df['club_name'].isin(pop_clubs)], \n",
    "           fit_reg = False, \n",
    "           size = 7)\n",
    "plt.title('Comparison of Potential and Salary with Popular Clubs', fontsize = 14)\n",
    "plt.show()"
   ]
  },
  {
   "cell_type": "code",
   "execution_count": 50,
   "id": "76c47e01",
   "metadata": {},
   "outputs": [
    {
     "data": {
      "image/png": "[encoded data removed]",
      "text/plain": [
       "<Figure size 570.875x504 with 1 Axes>"
      ]
     },
     "metadata": {},
     "output_type": "display_data"
    }
   ],
   "source": [
    "\n",
    "sns.lmplot(x = 'potential', \n",
    "           y = 'wage_eur', \n",
    "           hue = 'club_position', \n",
    "           palette =  'tab20',\n",
    "           data = df.loc[df['club_position'].isin(['ST', 'RW', 'LW'])], \n",
    "           fit_reg=False, size = 7)\n",
    "\n",
    "plt.title('Offensive Players and Salary', fontsize = 14)\n",
    "plt.show()"
   ]
  },
  {
   "cell_type": "code",
   "execution_count": null,
   "id": "ff8bb675",
   "metadata": {},
   "outputs": [],
   "source": [
    "scraped"
   ]
  },
  {
   "cell_type": "code",
   "execution_count": 51,
   "id": "a1cb2728",
   "metadata": {},
   "outputs": [],
   "source": [
    "#df.iloc[df.groupby(df['club_position'])['overall'].idxmax()][['club_position', 'short_name', 'age', 'club_name', 'nationality_name']]"
   ]
  },
  {
   "cell_type": "code",
   "execution_count": null,
   "id": "f684ced1",
   "metadata": {},
   "outputs": [],
   "source": []
  },
  {
   "cell_type": "code",
   "execution_count": null,
   "id": "6d302938",
   "metadata": {},
   "outputs": [],
   "source": []
  },
  {
   "cell_type": "code",
   "execution_count": null,
   "id": "ff8bc1ba",
   "metadata": {},
   "outputs": [],
   "source": []
  },
  {
   "cell_type": "code",
   "execution_count": 53,
   "id": "f99e2b3a",
   "metadata": {},
   "outputs": [],
   "source": [
    "# labels=np.array([\n",
    "#     \"gk_diving\",\n",
    "#     \"gk_handling\",\n",
    "#     \"gk_kicking\",\n",
    "#     \"gk_reflexes\",\n",
    "#     \"gk_speed\",\n",
    "#     \"gk_positioning\",\n",
    "#     \"overall\",\n",
    "#     \"potential\",\n",
    "# ])\n",
    "# stats=gk.loc[2, labels].values\n",
    "# # fig = px.line_polar(highest_rated, r=stats, theta=labels, line_close=True)\n",
    "# # fig.update_traces(fill='toself')\n",
    "# # fig.show()\n",
    "\n",
    "# fig = go.Figure()\n",
    "\n",
    "# fig.add_trace(go.Scatterpolar(\n",
    "#       r=stats,\n",
    "#       theta=labels,\n",
    "#       fill='toself',\n",
    "#       name='J. Oblak'\n",
    "# ))\n",
    "\n",
    "# stats=gk.loc[36, labels].values\n",
    "\n",
    "# fig.add_trace(go.Scatterpolar(\n",
    "#       r=stats,\n",
    "#       theta=labels,\n",
    "#       fill='toself',\n",
    "#       name='H. Lloris'\n",
    "# ))\n",
    "\n",
    "# fig.update_layout(\n",
    "#     autosize=False,\n",
    "#     width=500,\n",
    "#     height=500,)\n",
    "\n",
    "# fig.show()"
   ]
  },
  {
   "cell_type": "code",
   "execution_count": null,
   "id": "ec5f924b",
   "metadata": {},
   "outputs": [],
   "source": []
  },
  {
   "cell_type": "code",
   "execution_count": null,
   "id": "19fd123d",
   "metadata": {},
   "outputs": [],
   "source": [
    "df.loc[df['short_name'] == 'L. Messi']"
   ]
  },
  {
   "cell_type": "code",
   "execution_count": null,
   "id": "98437d52",
   "metadata": {},
   "outputs": [],
   "source": [
    "df.isna().sum()"
   ]
  },
  {
   "cell_type": "code",
   "execution_count": null,
   "id": "40085e6f",
   "metadata": {},
   "outputs": [],
   "source": [
    "df.loc[df['short_name'] == 'Cristiano Ronaldo']"
   ]
  },
  {
   "cell_type": "code",
   "execution_count": null,
   "id": "20317108",
   "metadata": {},
   "outputs": [],
   "source": [
    "#df.info()"
   ]
  },
  {
   "cell_type": "markdown",
   "id": "1fd52911",
   "metadata": {},
   "source": [
    "#### Add to prepare"
   ]
  },
  {
   "cell_type": "code",
   "execution_count": null,
   "id": "e3c5d95e",
   "metadata": {},
   "outputs": [],
   "source": [
    "# #change numerical data to integers\n",
    "# df.pace = df.pace.astype(int)\n",
    "# df.shooting = df.shooting.astype(int)\n",
    "# df.passing = df.passing.astype(int)\n",
    "# df.dribbling = df.dribbling.astype(int)\n",
    "# df.defending = df.defending.astype(int)\n",
    "# df.physic = df.physic.astype(int)\n",
    "# df.goalkeeping_speed = df.goalkeeping_speed.astype(int)"
   ]
  },
  {
   "cell_type": "code",
   "execution_count": null,
   "id": "5f257023",
   "metadata": {},
   "outputs": [],
   "source": [
    "df.year.dtype"
   ]
  },
  {
   "cell_type": "markdown",
   "id": "42732c33",
   "metadata": {},
   "source": [
    "---"
   ]
  },
  {
   "cell_type": "code",
   "execution_count": null,
   "id": "685e1608",
   "metadata": {},
   "outputs": [],
   "source": [
    "df.head(1)"
   ]
  },
  {
   "cell_type": "code",
   "execution_count": null,
   "id": "f758a666",
   "metadata": {},
   "outputs": [],
   "source": [
    "df.nationality_name.nunique()"
   ]
  },
  {
   "cell_type": "markdown",
   "id": "d023c9f4",
   "metadata": {},
   "source": [
    "### Add to Prepare"
   ]
  },
  {
   "cell_type": "markdown",
   "id": "b7df8641",
   "metadata": {},
   "source": [
    "#### Add income_level column "
   ]
  },
  {
   "cell_type": "code",
   "execution_count": null,
   "id": "4eb6c547",
   "metadata": {},
   "outputs": [],
   "source": [
    "# #select incomeLevel\n",
    "# income_level = wb.economy.DataFrame()['incomeLevel']\n",
    "\n",
    "# #select country\n",
    "# country = wb.economy.DataFrame()['name']\n",
    "\n",
    "# #turn income into df and join country\n",
    "# income_level = pd.DataFrame(income_level).join(country)\n",
    "\n",
    "# #reset index\n",
    "# income_level = income_level.reset_index()\n",
    "\n",
    "# #rename columns\n",
    "# income_level.rename(columns = {'incomeLevel': 'income_level', 'name' : 'nationality_name'}, inplace = True)\n",
    "\n",
    "# #pd.set_option('display.max_rows', 266)\n",
    "# #income_level"
   ]
  },
  {
   "cell_type": "markdown",
   "id": "7e06750f",
   "metadata": {},
   "source": [
    "#### Add to Prepare"
   ]
  },
  {
   "cell_type": "code",
   "execution_count": null,
   "id": "a298857e",
   "metadata": {},
   "outputs": [],
   "source": [
    "# #inner merge of income_level\n",
    "# df = pd.merge(df, income_level[['nationality_name', 'income_level']], how = 'left', on = 'nationality_name')"
   ]
  },
  {
   "cell_type": "code",
   "execution_count": null,
   "id": "061ec17e",
   "metadata": {},
   "outputs": [],
   "source": [
    "df.nationality_name.nunique()"
   ]
  },
  {
   "cell_type": "code",
   "execution_count": null,
   "id": "c4e30ed8",
   "metadata": {},
   "outputs": [],
   "source": [
    "df.head()"
   ]
  },
  {
   "cell_type": "code",
   "execution_count": null,
   "id": "2cb0c8bc",
   "metadata": {
    "scrolled": true
   },
   "outputs": [],
   "source": [
    "df.income_level.isna().sum()"
   ]
  },
  {
   "cell_type": "code",
   "execution_count": null,
   "id": "6fb66c74",
   "metadata": {},
   "outputs": [],
   "source": [
    "df.income_level.value_counts()"
   ]
  },
  {
   "cell_type": "code",
   "execution_count": null,
   "id": "88666fcc",
   "metadata": {},
   "outputs": [],
   "source": [
    "# #see how many null values per country for variables\n",
    "# df.pivot_table(index = 'nationality_name',\n",
    "#               values = ['income_level'\n",
    "#                        ],\n",
    "#               aggfunc = lambda x:x.isna().sum())"
   ]
  },
  {
   "cell_type": "markdown",
   "id": "1978b113",
   "metadata": {},
   "source": [
    "#### Add to Prepare"
   ]
  },
  {
   "cell_type": "code",
   "execution_count": null,
   "id": "506420e5",
   "metadata": {},
   "outputs": [],
   "source": [
    "# #df.loc[df['column name'] == 'column value', ['col name 2']] = 'input into col 2 based on col 1'\n",
    "\n",
    "# #Eswatini = Swaziland\n",
    "# #West Bank and Gaza = Palestine\n",
    "# #Russian Federation = Russia\n",
    "# #Kyrgyz Republic = Kyrgyzstan\n",
    "# #Macao SAR, China = Macau\n",
    "# #Turkiye = Turkey\n",
    "\n",
    "# #Add income levels to null values\n",
    "# df.loc[df['nationality_name'] == 'Cape Verde Islands', ['income_level']] = 'LMC'\n",
    "# df.loc[df['nationality_name'] == 'China PR', ['income_level']] = 'UMC'\n",
    "# df.loc[df['nationality_name'] == 'Chinese Taipei', ['income_level']] = 'HIC'\n",
    "# df.loc[df['nationality_name'] == 'Congo', ['income_level']] = 'LMC'\n",
    "# df.loc[df['nationality_name'] == 'Congo DR', ['income_level']] = 'LIC'\n",
    "# df.loc[df['nationality_name'] == \"Côte d'Ivoire\", ['income_level']] = 'LMC'\n",
    "# df.loc[df['nationality_name'] == 'Egypt', ['income_level']] = 'LMC'\n",
    "# df.loc[df['nationality_name'] == 'England', ['income_level']] = 'HIC'\n",
    "# df.loc[df['nationality_name'] == 'Gambia', ['income_level']] = 'LIC'\n",
    "# df.loc[df['nationality_name'] == 'Guinea Bissau', ['income_level']] = 'LIC'\n",
    "# df.loc[df['nationality_name'] == 'Hong Kong', ['income_level']] = 'HIC'\n",
    "# df.loc[df['nationality_name'] == 'Iran', ['income_level']] = 'LMC'\n",
    "# df.loc[df['nationality_name'] == 'Korea DPR', ['income_level']] = 'LIC'\n",
    "# df.loc[df['nationality_name'] == 'Korea Republic', ['income_level']] = 'HIC'\n",
    "# df.loc[df['nationality_name'] == 'Kyrgyzstan', ['income_level']] = 'LMC'\n",
    "# df.loc[df['nationality_name'] == 'Macau', ['income_level']] = 'HIC'\n",
    "# df.loc[df['nationality_name'] == 'Montserrat', ['income_level']] = 'UMC'\n",
    "# df.loc[df['nationality_name'] == 'Northern Ireland', ['income_level']] = 'HIC'\n",
    "# df.loc[df['nationality_name'] == 'Palestine', ['income_level']] = 'LMC'\n",
    "# df.loc[df['nationality_name'] == 'Republic of Ireland', ['income_level']] = 'HIC'\n",
    "# df.loc[df['nationality_name'] == 'Russia', ['income_level']] = 'UMC'\n",
    "# df.loc[df['nationality_name'] == 'Saint Kitts and Nevis', ['income_level']] = 'HIC'\n",
    "# df.loc[df['nationality_name'] == 'Saint Vincent and the Grenadines', ['income_level']] = 'UMC'\n",
    "# df.loc[df['nationality_name'] == 'Scotland', ['income_level']] = 'HIC'\n",
    "# df.loc[df['nationality_name'] == 'Slovakia', ['income_level']] = 'HIC'\n",
    "# df.loc[df['nationality_name'] == 'Swaziland', ['income_level']] = 'LMC'\n",
    "# df.loc[df['nationality_name'] == 'Syria', ['income_level']] = 'LIC'\n",
    "# df.loc[df['nationality_name'] == 'São Tomé e Príncipe', ['income_level']] = 'LMC'\n",
    "# df.loc[df['nationality_name'] == 'Turkey', ['income_level']] = 'UMC'\n",
    "# df.loc[df['nationality_name'] == 'Venezuela', ['income_level']] = 'LIC'\n",
    "# df.loc[df['nationality_name'] == 'Wales', ['income_level']] = 'HIC'"
   ]
  },
  {
   "cell_type": "code",
   "execution_count": null,
   "id": "8617975f",
   "metadata": {},
   "outputs": [],
   "source": [
    "df.income_level.isna().sum()"
   ]
  },
  {
   "cell_type": "code",
   "execution_count": null,
   "id": "807318ce",
   "metadata": {},
   "outputs": [],
   "source": []
  },
  {
   "cell_type": "code",
   "execution_count": null,
   "id": "c0acfdb0",
   "metadata": {},
   "outputs": [],
   "source": [
    "# sequence = ['sofifa_id', 'short_name', 'player_positions', 'overall', 'potential',\n",
    "#        'value_eur', 'wage_eur', 'age', 'height_cm', 'weight_kg',\n",
    "#        'club_team_id', 'club_name', 'league_name', 'league_level',\n",
    "#        'club_position', 'club_joined', 'club_contract_valid_until',\n",
    "#        'nationality_id', 'nationality_name', 'preferred_foot', 'weak_foot',\n",
    "#        'skill_moves', 'international_reputation', 'work_rate', 'pace',\n",
    "#        'shooting', 'passing', 'dribbling', 'defending', 'physic',\n",
    "#        'attacking_crossing', 'attacking_finishing',\n",
    "#        'attacking_heading_accuracy', 'attacking_short_passing',\n",
    "#        'attacking_volleys', 'skill_dribbling', 'skill_curve',\n",
    "#        'skill_fk_accuracy', 'skill_long_passing', 'skill_ball_control',\n",
    "#        'movement_acceleration', 'movement_sprint_speed', 'movement_agility',\n",
    "#        'movement_reactions', 'movement_balance', 'power_shot_power',\n",
    "#        'power_jumping', 'power_stamina', 'power_strength', 'power_long_shots',\n",
    "#        'mentality_aggression', 'mentality_interceptions',\n",
    "#        'mentality_positioning', 'mentality_vision', 'mentality_penalties',\n",
    "#        'defending_marking_awareness', 'defending_standing_tackle',\n",
    "#        'defending_sliding_tackle', 'goalkeeping_diving',\n",
    "#        'goalkeeping_handling', 'goalkeeping_kicking',\n",
    "#        'goalkeeping_positioning', 'goalkeeping_reflexes', 'goalkeeping_speed',\n",
    "#        'year', 'position']\n",
    "# df = df.reindex(columns=sequence)"
   ]
  },
  {
   "cell_type": "code",
   "execution_count": null,
   "id": "a1505fb2",
   "metadata": {},
   "outputs": [],
   "source": []
  },
  {
   "cell_type": "markdown",
   "id": "a3b882b0",
   "metadata": {},
   "source": [
    "#### Add to prepare"
   ]
  },
  {
   "cell_type": "code",
   "execution_count": null,
   "id": "5ae23693",
   "metadata": {},
   "outputs": [],
   "source": [
    "# #rename columns\n",
    "# df = df.rename(columns = {'physic': 'physical',\n",
    "#                         'attacking_crossing':'crossing',\n",
    "#                                 'attacking_finishing': 'finishing',\n",
    "#                         'attacking_heading_accuracy': 'heading_accuracy',\n",
    "#  'attacking_short_passing': 'short_passing',\n",
    "#  'attacking_volleys': 'volleys',\n",
    "#  'skill_curve': 'curve',\n",
    "#  'skill_fk_accuracy':'fk_accuracy',\n",
    "#  'skill_long_passing': 'long_passing',\n",
    "#  'skill_ball_control': 'ball_control',\n",
    "#  'movement_acceleration': 'acceleration',\n",
    "#  'movement_sprint_speed': 'sprint_speed',\n",
    "#  'movement_agility': 'agility',\n",
    "#  'movement_reactions': 'reactions',\n",
    "#  'movement_balance': 'balance',\n",
    "#  'power_shot_power': 'shot_power',\n",
    "#  'power_jumping': 'jumping',\n",
    "#  'power_stamina': 'stamina',\n",
    "#  'power_strength' : 'strength',\n",
    "#  'power_long_shots': 'long_shots',\n",
    "#  'mentality_aggression': 'aggression',\n",
    "#  'mentality_interceptions': 'interceptions',\n",
    "#  'mentality_positioning': 'positioning',\n",
    "#  'mentality_vision': 'vision',\n",
    "#  'mentality_penalties': 'penalties',\n",
    "#  'defending_marking_awareness': 'marking',\n",
    "#  'defending_standing_tackle': 'standing_tackle',\n",
    "#  'defending_sliding_tackle': 'sliding_tackle',\n",
    "#  'goalkeeping_diving': 'gk_diving',\n",
    "#  'goalkeeping_handling': 'gk_handling',\n",
    "#  'goalkeeping_kicking': 'gk_kicking',\n",
    "#  'goalkeeping_positioning': 'gk_positioning',\n",
    "#  'goalkeeping_reflexes': 'gk_reflexes' ,\n",
    "#  'goalkeeping_speed': 'gk_speed',\n",
    "#                         })"
   ]
  },
  {
   "cell_type": "code",
   "execution_count": null,
   "id": "ef667192",
   "metadata": {},
   "outputs": [],
   "source": []
  },
  {
   "cell_type": "code",
   "execution_count": null,
   "id": "db7fcad0",
   "metadata": {},
   "outputs": [],
   "source": [
    "import os\n",
    "os.getcwd()"
   ]
  },
  {
   "cell_type": "markdown",
   "id": "aec6687c",
   "metadata": {},
   "source": [
    "#### Add to prepre"
   ]
  },
  {
   "cell_type": "code",
   "execution_count": null,
   "id": "0492f6ff",
   "metadata": {},
   "outputs": [],
   "source": [
    "# #add total wage column\n",
    "# df['total_wage'] = df['value_eur'] + df['wage_eur']"
   ]
  },
  {
   "cell_type": "markdown",
   "id": "6a05ea4c",
   "metadata": {},
   "source": [
    "#### Add to prepare"
   ]
  },
  {
   "cell_type": "code",
   "execution_count": null,
   "id": "5e975830",
   "metadata": {},
   "outputs": [],
   "source": [
    "df.club_contract_valid_until.dtype"
   ]
  },
  {
   "cell_type": "code",
   "execution_count": null,
   "id": "b4c60214",
   "metadata": {},
   "outputs": [],
   "source": [
    "df.club_joined.dtype"
   ]
  },
  {
   "cell_type": "code",
   "execution_count": null,
   "id": "d1fe462f",
   "metadata": {},
   "outputs": [],
   "source": [
    "df.head(1)"
   ]
  },
  {
   "cell_type": "code",
   "execution_count": null,
   "id": "4715248a",
   "metadata": {},
   "outputs": [],
   "source": [
    "#df['sale_date'] = pd.to_datetime(df['sale_date'], format='%d/%m/%y %H:%M:%S')"
   ]
  },
  {
   "cell_type": "code",
   "execution_count": null,
   "id": "bd7f6627",
   "metadata": {},
   "outputs": [],
   "source": [
    "# change columns to datetime\n",
    "df.club_joined = pd.to_datetime(df.club_joined)\n",
    "\n",
    "#figure out why hh:mm:ss shows up\n",
    "#df.club_contract_valid_until = pd.to_datetime(df['club_contract_valid_until'], format = '%Y')"
   ]
  },
  {
   "cell_type": "code",
   "execution_count": null,
   "id": "89bb94c4",
   "metadata": {},
   "outputs": [],
   "source": [
    "df.head(1)"
   ]
  },
  {
   "cell_type": "markdown",
   "id": "27853fbb",
   "metadata": {},
   "source": [
    "#### Add to Prepare"
   ]
  },
  {
   "cell_type": "code",
   "execution_count": null,
   "id": "dc363f5f",
   "metadata": {},
   "outputs": [],
   "source": [
    "#create age bins players younger than 30 are considered younger, else, older\n",
    "# df['age_bins'] = pd.cut(df['age'], bins = [0, 29, np.inf], labels = ['younger', 'older'])"
   ]
  },
  {
   "cell_type": "markdown",
   "id": "399af7a9",
   "metadata": {},
   "source": [
    "---"
   ]
  },
  {
   "cell_type": "markdown",
   "id": "5acdaec1",
   "metadata": {},
   "source": [
    "#### Add to Prepare"
   ]
  },
  {
   "cell_type": "code",
   "execution_count": null,
   "id": "67615473",
   "metadata": {},
   "outputs": [],
   "source": [
    "#create height bins\n",
    "\n",
    "# df['height_bins'] = pd.cut(df['height_cm'], bins = 3, labels = ['short', 'medium', 'tall'])\n",
    "\n",
    "# #create weight bins\n",
    "# df['weight_bins'] = pd.cut(df['weight_kg'], bins = 3, labels = ['slim', 'average', 'heavy'])"
   ]
  },
  {
   "cell_type": "markdown",
   "id": "0a3dd640",
   "metadata": {},
   "source": [
    "#### Add to Prepare"
   ]
  },
  {
   "cell_type": "code",
   "execution_count": null,
   "id": "8b6e8af2",
   "metadata": {},
   "outputs": [],
   "source": [
    "# #add a field position column\n",
    "# df['field_position'] = df.club_position.map({'ST': 'Forward',\n",
    "#                                              'CF': 'Forward',\n",
    "#                                              'LF': 'Forward',\n",
    "#                                              'LW': 'Forward',\n",
    "#                                              'RW': 'Forward',\n",
    "#                                              'LS': 'Forward',\n",
    "#                                              'RS': 'Forward',\n",
    "#                                              'LM': 'Midfielder', \n",
    "#                                              'RM': 'Midfielder', \n",
    "#                                              'LAM': 'Midfielder', \n",
    "#                                              'RAM': 'Midfielder', \n",
    "#                                              'CAM':'Midfielder', \n",
    "#                                              'LDM': 'Midfielder', \n",
    "#                                              'RDM': 'Midfielder', \n",
    "#                                              'CDM': 'Midfielder', \n",
    "#                                              'LCM': 'Midfielder', \n",
    "#                                              'RCM': 'Midfielder',\n",
    "#                                              'CB': 'Defender', \n",
    "#                                              'LB': 'Defender', \n",
    "#                                              'LCB': 'Defender', \n",
    "#                                              'RCB': 'Defender', \n",
    "#                                              'RB':'Defender', \n",
    "#                                              'LWB': 'Defender', \n",
    "#                                              'RWB': 'Defender',\n",
    "#                                              'GK': 'Goalkeeper',\n",
    "#                                              'RES': 'Reserves',\n",
    "#                                              'SUB': 'Subs'  \n",
    "                                            \n",
    "#                                             })"
   ]
  },
  {
   "cell_type": "code",
   "execution_count": null,
   "id": "df8fd832",
   "metadata": {},
   "outputs": [],
   "source": [
    "df.height_bins.isna().sum()"
   ]
  },
  {
   "cell_type": "code",
   "execution_count": null,
   "id": "34585752",
   "metadata": {},
   "outputs": [],
   "source": [
    "df.weight_bins.isna().sum()"
   ]
  },
  {
   "cell_type": "code",
   "execution_count": null,
   "id": "bc5c4211",
   "metadata": {},
   "outputs": [],
   "source": [
    "df.head()"
   ]
  },
  {
   "cell_type": "code",
   "execution_count": null,
   "id": "c35d191b",
   "metadata": {},
   "outputs": [],
   "source": []
  },
  {
   "cell_type": "code",
   "execution_count": null,
   "id": "e8c6761f",
   "metadata": {},
   "outputs": [],
   "source": [
    "#train, test, split\n",
    "\n",
    "train, validate, test = prepare.split(df)"
   ]
  },
  {
   "cell_type": "code",
   "execution_count": null,
   "id": "c6f445ee",
   "metadata": {},
   "outputs": [],
   "source": [
    "#train.info(verbose = True)"
   ]
  },
  {
   "cell_type": "code",
   "execution_count": null,
   "id": "4629e3c6",
   "metadata": {},
   "outputs": [],
   "source": [
    "pd.set_option('display.max_columns', None)"
   ]
  },
  {
   "cell_type": "markdown",
   "id": "f4052ecb",
   "metadata": {},
   "source": [
    "# Explore (General Analysis)"
   ]
  },
  {
   "cell_type": "code",
   "execution_count": null,
   "id": "7f267032",
   "metadata": {},
   "outputs": [],
   "source": [
    "df.corr()\n",
    "#unable to use overall, international reputation for modeling portion"
   ]
  },
  {
   "cell_type": "code",
   "execution_count": null,
   "id": "8e2c568b",
   "metadata": {},
   "outputs": [],
   "source": [
    "for col in train.columns:\n",
    "    plt.figure(figsize=(4,2))\n",
    "    plt.hist(train[col])\n",
    "    plt.title(col)\n",
    "    plt.show()"
   ]
  },
  {
   "cell_type": "code",
   "execution_count": null,
   "id": "8d91bfdf",
   "metadata": {},
   "outputs": [],
   "source": [
    "plt.figure(figsize = (12,8))\n",
    "train.corr()['wage_eur'].sort_values(ascending=False).plot(kind='barh', color='orange')\n",
    "#plt.figure(figsize= 3,3)\n",
    "plt.title('Relationship with wages')\n",
    "plt.xlabel('Relationship')\n",
    "plt.ylabel('Features')\n",
    "plt.show()"
   ]
  },
  {
   "cell_type": "code",
   "execution_count": null,
   "id": "819dd9f2",
   "metadata": {},
   "outputs": [],
   "source": []
  },
  {
   "cell_type": "markdown",
   "id": "c4392323",
   "metadata": {},
   "source": [
    "# 1) Does age impact player salaries?"
   ]
  },
  {
   "cell_type": "code",
   "execution_count": null,
   "id": "18d5ffa1",
   "metadata": {},
   "outputs": [],
   "source": []
  },
  {
   "cell_type": "code",
   "execution_count": null,
   "id": "6ddbdd3f",
   "metadata": {},
   "outputs": [],
   "source": [
    "#look at age distribution\n",
    "train.age.hist(grid = False, bins = 30)"
   ]
  },
  {
   "cell_type": "code",
   "execution_count": null,
   "id": "154558f0",
   "metadata": {},
   "outputs": [],
   "source": [
    "sns.scatterplot(data = train,\n",
    "               x = 'age',\n",
    "               y = 'wage_eur',\n",
    "               hue = 'age_bins')"
   ]
  },
  {
   "cell_type": "markdown",
   "id": "73ab0f70",
   "metadata": {},
   "source": [
    "Pearson's Correlation Coefficient\n",
    "\n",
    "$\\alpha$ = .05\n",
    "\n",
    "$𝐻_{0}$: There is no linear correlation with between age and salary.\n",
    "\n",
    "𝐻𝑎: There is a linear relationship between age and salary."
   ]
  },
  {
   "cell_type": "code",
   "execution_count": null,
   "id": "a52a5c11",
   "metadata": {},
   "outputs": [],
   "source": [
    "#set alpha\n",
    "α = 0.05\n",
    "\n",
    "#perform test\n",
    "r, p = pearsonr(train.age, train.wage_eur)\n",
    "\n",
    "#evaluate coefficient and p-value\n",
    "print(f'Correlation Coefficient: {r:.3f}\\nP-value: {p:.3f}')\n",
    "\n",
    "#evaluate if p < α\n",
    "if p < α:\n",
    "    print('Reject the null hypothesis.')\n",
    "else:\n",
    "    print('Fail to reject the null hypothesis.')"
   ]
  },
  {
   "cell_type": "code",
   "execution_count": null,
   "id": "e48fff1f",
   "metadata": {},
   "outputs": [],
   "source": []
  },
  {
   "cell_type": "code",
   "execution_count": null,
   "id": "b5e5f099",
   "metadata": {},
   "outputs": [],
   "source": []
  },
  {
   "cell_type": "code",
   "execution_count": null,
   "id": "34793bf1",
   "metadata": {},
   "outputs": [],
   "source": []
  },
  {
   "cell_type": "markdown",
   "id": "bb18fc1e",
   "metadata": {},
   "source": [
    "#### Takeaways:\n",
    "\n",
    "- There is a positive linear relationship between age and salary."
   ]
  },
  {
   "cell_type": "markdown",
   "id": "3e3eae5b",
   "metadata": {},
   "source": [
    "---"
   ]
  },
  {
   "cell_type": "markdown",
   "id": "3448992a",
   "metadata": {},
   "source": [
    "# 2) Does seniority(length of time playing with a club) impact salary?"
   ]
  },
  {
   "cell_type": "code",
   "execution_count": null,
   "id": "008b1cb0",
   "metadata": {},
   "outputs": [],
   "source": [
    "train.seniority.hist(grid = False, bins = 30)"
   ]
  },
  {
   "cell_type": "markdown",
   "id": "0859d2c1",
   "metadata": {},
   "source": [
    "Spearman's Correlation Coefficient\n",
    "\n",
    "$\\alpha$ = .05\n",
    "\n",
    "$𝐻_{0}$: There is no linear correlation with between seniority and salary.\n",
    "\n",
    "𝐻𝑎: There is a linear relationship between seniority and salary."
   ]
  },
  {
   "cell_type": "code",
   "execution_count": null,
   "id": "b8668d76",
   "metadata": {},
   "outputs": [],
   "source": [
    "#seniority not normally distributed, use Spearman's\n",
    "#set alpha\n",
    "α = 0.05\n",
    "\n",
    "#perform test\n",
    "r, p = spearmanr(train.seniority, train.wage_eur)\n",
    "\n",
    "#evaluate coefficient and p-value\n",
    "print(f'Correlation Coefficient: {r:.3f}\\nP-value: {p:.3f}')\n",
    "\n",
    "#evaluate if p < α\n",
    "if p < α:\n",
    "    print('Reject the null hypothesis.')\n",
    "else:\n",
    "    print('Fail to reject the null hypothesis.')"
   ]
  },
  {
   "cell_type": "code",
   "execution_count": null,
   "id": "8f45ccbf",
   "metadata": {},
   "outputs": [],
   "source": []
  },
  {
   "cell_type": "code",
   "execution_count": null,
   "id": "acd38d08",
   "metadata": {},
   "outputs": [],
   "source": [
    "train.head(1)"
   ]
  },
  {
   "cell_type": "code",
   "execution_count": null,
   "id": "d254c28c",
   "metadata": {},
   "outputs": [],
   "source": []
  },
  {
   "cell_type": "markdown",
   "id": "4c139e44",
   "metadata": {},
   "source": [
    "## 3) Does the league a player is with impact salary?"
   ]
  },
  {
   "cell_type": "markdown",
   "id": "f28df0b5",
   "metadata": {},
   "source": [
    "$Chi^{2}$ Hypothesis\n",
    "\n",
    "$\\alpha$ = .05\n",
    "\n",
    "$𝐻_{0}$: League and salary are independent.\n",
    "\n",
    "𝐻𝑎: League and salary are not independent."
   ]
  },
  {
   "cell_type": "code",
   "execution_count": null,
   "id": "bd935ee8",
   "metadata": {},
   "outputs": [],
   "source": [
    "train.league_name.value_counts()"
   ]
  },
  {
   "cell_type": "code",
   "execution_count": null,
   "id": "eb24dff4",
   "metadata": {},
   "outputs": [],
   "source": [
    "train.groupby('league_name')['wage_eur'].mean().sort_values(ascending = False).head(10)"
   ]
  },
  {
   "cell_type": "code",
   "execution_count": null,
   "id": "6387b53a",
   "metadata": {},
   "outputs": [],
   "source": [
    "#setup crosstab\n",
    "observed = pd.crosstab(train.league_name, train.wage_eur)\n",
    "\n",
    "chi2, p, degf, expected = stats.chi2_contingency(observed)\n",
    "round(p ,3)\n",
    "\n",
    "#print p-value\n",
    "print(f'P Value: {p:.3f}')\n",
    "\n",
    "if p < α:\n",
    "    print('Reject the null hypothesis.')\n",
    "else:\n",
    "    print('Fail to reject the null.')"
   ]
  },
  {
   "cell_type": "code",
   "execution_count": null,
   "id": "ee17fd81",
   "metadata": {},
   "outputs": [],
   "source": []
  },
  {
   "cell_type": "markdown",
   "id": "edbac99b",
   "metadata": {},
   "source": [
    "### Are the wages of the English Premier League significantly higher than the mean wage?\n",
    "\n",
    "One Sample T-Test\n",
    "\n",
    "$\\alpha$ = .05\n",
    "\n",
    "$𝐻_{0}$: EPL mean wages are <= than the combined mean wages of all the leagues.\n",
    "\n",
    "𝐻𝑎: EPL mean wages are > than the combined mean wages of all the leagues."
   ]
  },
  {
   "cell_type": "code",
   "execution_count": null,
   "id": "e67a210b",
   "metadata": {},
   "outputs": [],
   "source": [
    "#set alpha\n",
    "α = 0.05\n",
    "\n",
    "#get sample\n",
    "epl_sample = train[train.league_name == 'English Premier League'].wage_eur\n",
    "\n",
    "#get mean\n",
    "overall_mean = train.wage_eur.mean()\n",
    "\n",
    "#perform test\n",
    "t, p = stats.ttest_1samp(epl_sample, overall_mean)\n",
    "\n",
    "#print p-value\n",
    "print(f'P Value: {p/2:.3f}')\n",
    "\n",
    "#evaluate if mean of EPL wages is significantly higher than all wages, is p/2 < a and t > 0?\n",
    "if p/2 < α and t > 0:\n",
    "    print('Reject the null hypothesis.')\n",
    "else:\n",
    "    print('Fail to reject the null hypothesis.')"
   ]
  },
  {
   "cell_type": "code",
   "execution_count": null,
   "id": "7eedb0cf",
   "metadata": {},
   "outputs": [],
   "source": []
  },
  {
   "cell_type": "code",
   "execution_count": null,
   "id": "4b7a82b1",
   "metadata": {},
   "outputs": [],
   "source": []
  },
  {
   "cell_type": "code",
   "execution_count": null,
   "id": "abcf1ef2",
   "metadata": {},
   "outputs": [],
   "source": [
    "sns.scatterplot(data = train,\n",
    "                x = '')"
   ]
  },
  {
   "cell_type": "code",
   "execution_count": null,
   "id": "ae5af017",
   "metadata": {},
   "outputs": [],
   "source": []
  },
  {
   "cell_type": "markdown",
   "id": "3fbbb8c6",
   "metadata": {},
   "source": [
    "### 3a) Does the club a player is with impact salary?"
   ]
  },
  {
   "cell_type": "code",
   "execution_count": null,
   "id": "9a3c59c7",
   "metadata": {},
   "outputs": [],
   "source": [
    "train.groupby('club_name')['wage_eur'].mean().sort_values(ascending = False).head(10)"
   ]
  },
  {
   "cell_type": "markdown",
   "id": "45d8abf3",
   "metadata": {},
   "source": [
    "### Are the wages of FC Barcelona significantly higher than the mean wage?\n",
    "\n",
    "One Sample T-Test\n",
    "\n",
    "$\\alpha$ = .05\n",
    "\n",
    "$𝐻_{0}$: FC Barcelona mean wages are <= than the combined mean wages.\n",
    "\n",
    "𝐻𝑎: FC Barcelona mean wages are > than the combined mean wages of all the leagues."
   ]
  },
  {
   "cell_type": "code",
   "execution_count": null,
   "id": "0c94242b",
   "metadata": {},
   "outputs": [],
   "source": [
    "#set alpha\n",
    "α = 0.05\n",
    "\n",
    "#get sample\n",
    "bar_sample = train[train.club_name == 'FC Barcelona'].wage_eur\n",
    "\n",
    "#get mean\n",
    "overall_mean = train.wage_eur.mean()\n",
    "\n",
    "#perform test\n",
    "t, p = stats.ttest_1samp(bar_sample, overall_mean)\n",
    "\n",
    "#print p-value\n",
    "print(f'P Value: {p/2:.3f}')\n",
    "\n",
    "#evaluate if mean of Barcelona wages is significantly higher than all wages, is p/2 < a and t > 0?\n",
    "if p/2 < α and t > 0:\n",
    "    print('Reject the null hypothesis.')\n",
    "else:\n",
    "    print('Fail to reject the null hypothesis.')"
   ]
  },
  {
   "cell_type": "code",
   "execution_count": null,
   "id": "75954354",
   "metadata": {},
   "outputs": [],
   "source": [
    "#only top 10 most pop clubs\n",
    "#most_pop = ['']"
   ]
  },
  {
   "cell_type": "code",
   "execution_count": null,
   "id": "52604758",
   "metadata": {},
   "outputs": [],
   "source": [
    "#create variable w/ well-paying clubs\n",
    "most_exp = ['FC Barcelona', 'Real Madrid CF', 'Manchester City', \n",
    "            'Juventus', 'FC Bayern München', 'Manchester United',\n",
    "           'Chelsea', 'Liverpool']"
   ]
  },
  {
   "cell_type": "code",
   "execution_count": null,
   "id": "6e9a084a",
   "metadata": {},
   "outputs": [],
   "source": []
  },
  {
   "cell_type": "code",
   "execution_count": null,
   "id": "ae9d20a3",
   "metadata": {},
   "outputs": [],
   "source": []
  },
  {
   "cell_type": "markdown",
   "id": "287dcd11",
   "metadata": {},
   "source": [
    "### 4) Do players with unusual body types have higher or lower salaries?"
   ]
  },
  {
   "cell_type": "code",
   "execution_count": null,
   "id": "5fcc6dea",
   "metadata": {},
   "outputs": [],
   "source": [
    "train.groupby('club_position')['height_cm', 'wage_eur'].mean().sort_values(by = 'wage_eur', ascending = False)"
   ]
  },
  {
   "cell_type": "code",
   "execution_count": null,
   "id": "444723e9",
   "metadata": {},
   "outputs": [],
   "source": [
    "train.groupby('club_position')['weight_kg'].mean()"
   ]
  },
  {
   "cell_type": "code",
   "execution_count": null,
   "id": "caa5a69d",
   "metadata": {},
   "outputs": [],
   "source": [
    "train.groupby('height_bins')['wage_eur'].mean()"
   ]
  },
  {
   "cell_type": "code",
   "execution_count": null,
   "id": "c758e9e4",
   "metadata": {},
   "outputs": [],
   "source": [
    "train.groupby('weight_bins')['wage_eur'].mean()"
   ]
  },
  {
   "cell_type": "code",
   "execution_count": null,
   "id": "a76049f0",
   "metadata": {},
   "outputs": [],
   "source": [
    "train.height_bins.value_counts()"
   ]
  },
  {
   "cell_type": "code",
   "execution_count": null,
   "id": "7d09c7e4",
   "metadata": {},
   "outputs": [],
   "source": [
    "train.weight_bins.value_counts()"
   ]
  },
  {
   "cell_type": "code",
   "execution_count": null,
   "id": "45d8a0a2",
   "metadata": {},
   "outputs": [],
   "source": [
    "sns.scatterplot(data = train,\n",
    "                x = 'height_cm',\n",
    "               y = 'wage_eur',\n",
    "               hue = 'height_bins')"
   ]
  },
  {
   "cell_type": "code",
   "execution_count": null,
   "id": "ce1c74b6",
   "metadata": {},
   "outputs": [],
   "source": [
    "#train.columns.to_list()"
   ]
  },
  {
   "cell_type": "code",
   "execution_count": null,
   "id": "37b9380b",
   "metadata": {},
   "outputs": [],
   "source": [
    "sns.scatterplot(data = train,\n",
    "               x = 'weight_kg',\n",
    "               y = 'wage_eur',\n",
    "               hue = 'weight_bins')"
   ]
  },
  {
   "cell_type": "code",
   "execution_count": null,
   "id": "4a152bbb",
   "metadata": {},
   "outputs": [],
   "source": [
    "sns.catplot(data = train,\n",
    "              x = 'weight_bins',\n",
    "              y = 'wage_eur',\n",
    "              hue = 'age_bins',\n",
    "           kind = 'violin',\n",
    "            split = False,\n",
    "            palette = 'husl'\n",
    ")"
   ]
  },
  {
   "cell_type": "code",
   "execution_count": null,
   "id": "5a06854e",
   "metadata": {},
   "outputs": [],
   "source": [
    "#train.height_bins.hist()"
   ]
  },
  {
   "cell_type": "code",
   "execution_count": null,
   "id": "a32127af",
   "metadata": {},
   "outputs": [],
   "source": [
    "#train.weight_bins.hist()"
   ]
  },
  {
   "cell_type": "code",
   "execution_count": null,
   "id": "283a5759",
   "metadata": {},
   "outputs": [],
   "source": [
    "#train.height_cm.hist(bins = 20)"
   ]
  },
  {
   "cell_type": "markdown",
   "id": "5785020f",
   "metadata": {},
   "source": [
    "### Is there a linear relationship between height and salary?\n",
    "\n",
    "Pearson's R\n",
    "\n",
    "$\\alpha$ = .05\n",
    "\n",
    "$𝐻_{0}$: There is no linear relationship between height and salary.\n",
    "\n",
    "𝐻𝑎: There is a linear relationship between height and salary."
   ]
  },
  {
   "cell_type": "code",
   "execution_count": null,
   "id": "846bbe6a",
   "metadata": {},
   "outputs": [],
   "source": [
    "#height is normally distributed, use Pearson's\n",
    "#set alpha\n",
    "α = 0.05\n",
    "\n",
    "#perform test\n",
    "r, p = pearsonr(train.height_cm, train.wage_eur)\n",
    "\n",
    "#evaluate coefficient and p-value\n",
    "print(f'Correlation Coefficient: {r:.3f}\\nP-value: {p:.3f}')\n",
    "\n",
    "#evaluate if p < α\n",
    "if p < α:\n",
    "    print('Reject the null hypothesis.')\n",
    "else:\n",
    "    print('Fail to reject the null hypothesis.')"
   ]
  },
  {
   "cell_type": "code",
   "execution_count": null,
   "id": "a54f5894",
   "metadata": {},
   "outputs": [],
   "source": [
    "train.weight_kg.hist(bins = 20)"
   ]
  },
  {
   "cell_type": "code",
   "execution_count": null,
   "id": "63e2c5d9",
   "metadata": {},
   "outputs": [],
   "source": []
  },
  {
   "cell_type": "markdown",
   "id": "445be8ec",
   "metadata": {},
   "source": [
    "### Is there a linear relationship between weight and salary?\n",
    "\n",
    "Pearson's R\n",
    "\n",
    "$\\alpha$ = .05\n",
    "\n",
    "$𝐻_{0}$: There is no linear relationship between weight and salary.\n",
    "\n",
    "𝐻𝑎: There is a linear relationship between weight and salary."
   ]
  },
  {
   "cell_type": "code",
   "execution_count": null,
   "id": "cbcb0c9a",
   "metadata": {},
   "outputs": [],
   "source": [
    "train.weight_kg.hist(grid = False)"
   ]
  },
  {
   "cell_type": "code",
   "execution_count": null,
   "id": "13eff741",
   "metadata": {},
   "outputs": [],
   "source": [
    "#weight is normally distributed, use Pearson's\n",
    "#set alpha\n",
    "α = 0.05\n",
    "\n",
    "#perform test\n",
    "r, p = pearsonr(train.weight_kg, train.wage_eur)\n",
    "\n",
    "#evaluate coefficient and p-value\n",
    "print(f'Correlation Coefficient: {r:.3f}\\nP-value: {p:.3f}')\n",
    "\n",
    "#evaluate if p < α\n",
    "if p < α:\n",
    "    print('Reject the null hypothesis.')\n",
    "else:\n",
    "    print('Fail to reject the null hypothesis.')"
   ]
  },
  {
   "cell_type": "code",
   "execution_count": null,
   "id": "0924e1e1",
   "metadata": {},
   "outputs": [],
   "source": []
  },
  {
   "cell_type": "markdown",
   "id": "cb8db86f",
   "metadata": {},
   "source": [
    "### 5) Does nationality impact salary?"
   ]
  },
  {
   "cell_type": "code",
   "execution_count": null,
   "id": "3699a3a7",
   "metadata": {},
   "outputs": [],
   "source": []
  },
  {
   "cell_type": "code",
   "execution_count": null,
   "id": "75a65c3c",
   "metadata": {},
   "outputs": [],
   "source": [
    "#pd.set_option('display.max_rows', 177)"
   ]
  },
  {
   "cell_type": "code",
   "execution_count": null,
   "id": "63ed358d",
   "metadata": {},
   "outputs": [],
   "source": [
    "train.groupby('nationality_name')['wage_eur'].mean().sort_values(ascending = False).head(10)"
   ]
  },
  {
   "cell_type": "code",
   "execution_count": null,
   "id": "e356868d",
   "metadata": {},
   "outputs": [],
   "source": [
    "train.groupby('nationality_name')['wage_eur'].median().sort_values(ascending = False).head(10)"
   ]
  },
  {
   "cell_type": "code",
   "execution_count": null,
   "id": "fb6e13d4",
   "metadata": {},
   "outputs": [],
   "source": [
    "train.groupby('nationality_name')['wage_eur'].nlargest().sort_values(ascending = False).head(20)"
   ]
  },
  {
   "cell_type": "code",
   "execution_count": null,
   "id": "6e4ffd9c",
   "metadata": {},
   "outputs": [],
   "source": [
    "#train.nationality_name.value_counts()"
   ]
  },
  {
   "cell_type": "code",
   "execution_count": null,
   "id": "136cb8e4",
   "metadata": {},
   "outputs": [],
   "source": [
    "#countries = ['Argentina', 'Brazil', 'France', 'Spain', 'Colombia', 'Netherlands', 'Sweden', 'Japan', 'Germany']"
   ]
  },
  {
   "cell_type": "code",
   "execution_count": null,
   "id": "28b82989",
   "metadata": {},
   "outputs": [],
   "source": [
    "top_mean_wage = ['Dominican Republic', 'Wales', 'Egypt', 'Armenia', \n",
    "                 'Gabon', 'Spain', 'Italy', 'Algeria', 'Germany', 'England']\n",
    "\n",
    "sns.scatterplot(data = train,\n",
    "               x = '')"
   ]
  },
  {
   "cell_type": "code",
   "execution_count": null,
   "id": "a168c931",
   "metadata": {},
   "outputs": [],
   "source": []
  },
  {
   "cell_type": "markdown",
   "id": "e5a19cb1",
   "metadata": {},
   "source": [
    "### Is there a linear relationship between nationality and salary?"
   ]
  },
  {
   "cell_type": "markdown",
   "id": "13f00872",
   "metadata": {},
   "source": [
    "#### Is there a linear relationship between nationality and salary?\n",
    "$Chi^{2}$ Hypothesis\n",
    "\n",
    "$\\alpha$ = .05\n",
    "\n",
    "$𝐻_{0}$: Nationality and salary are independent.\n",
    "\n",
    "𝐻𝑎: Nationality and salary are not independent."
   ]
  },
  {
   "cell_type": "code",
   "execution_count": null,
   "id": "88e81d77",
   "metadata": {},
   "outputs": [],
   "source": [
    "#setup crosstab\n",
    "observed = pd.crosstab(train.nationality_name, train.wage_eur)\n",
    "\n",
    "chi2, p, degf, expected = stats.chi2_contingency(observed)\n",
    "round(p ,3)\n",
    "\n",
    "#print p-value\n",
    "print(f'P Value: {p:.3f}')\n",
    "\n",
    "if p < α:\n",
    "    print('Reject the null hypothesis.')\n",
    "else:\n",
    "    print('Fail to reject the null.')"
   ]
  },
  {
   "cell_type": "markdown",
   "id": "075d5767",
   "metadata": {},
   "source": [
    "### 6.) Does international reputation impact salary?"
   ]
  },
  {
   "cell_type": "markdown",
   "id": "24001dc5",
   "metadata": {},
   "source": [
    "$Chi^{2}$ Hypothesis\n",
    "\n",
    "$\\alpha$ = .05\n",
    "\n",
    "$𝐻_{0}$: International reputation and salary are independent.\n",
    "\n",
    "𝐻𝑎: International reputation and salary are not independent."
   ]
  },
  {
   "cell_type": "code",
   "execution_count": null,
   "id": "f34172a9",
   "metadata": {},
   "outputs": [],
   "source": [
    "#international reputation vs. wage\n",
    "sns.boxplot(data = train,\n",
    "           x = 'international_reputation',\n",
    "           y = 'wage_eur')"
   ]
  },
  {
   "cell_type": "code",
   "execution_count": null,
   "id": "32382a6e",
   "metadata": {},
   "outputs": [],
   "source": [
    "#setup crosstab\n",
    "observed = pd.crosstab(train.international_reputation, train.wage_eur)\n",
    "\n",
    "chi2, p, degf, expected = stats.chi2_contingency(observed)\n",
    "round(p ,3)\n",
    "\n",
    "#print p-value\n",
    "print(f'P Value: {p:.3f}')\n",
    "\n",
    "if p < α:\n",
    "    print('Reject the null hypothesis.')\n",
    "else:\n",
    "    print('Fail to reject the null.')"
   ]
  },
  {
   "cell_type": "code",
   "execution_count": null,
   "id": "57cdcf49",
   "metadata": {},
   "outputs": [],
   "source": []
  },
  {
   "cell_type": "markdown",
   "id": "592067b3",
   "metadata": {},
   "source": [
    "### 7.) Does contract length positively or negatively impact salary?\n"
   ]
  },
  {
   "cell_type": "markdown",
   "id": "a85f5c7f",
   "metadata": {},
   "source": [
    "$Chi^{2}$ Hypothesis\n",
    "\n",
    "$\\alpha$ = .05\n",
    "\n",
    "$𝐻_{0}$: Contract and salary are independent.\n",
    "\n",
    "𝐻𝑎: Contract and salary are not independent."
   ]
  },
  {
   "cell_type": "code",
   "execution_count": null,
   "id": "45f22e89",
   "metadata": {},
   "outputs": [],
   "source": [
    "train.head(1)"
   ]
  },
  {
   "cell_type": "code",
   "execution_count": null,
   "id": "4937e437",
   "metadata": {},
   "outputs": [],
   "source": [
    "#setup crosstab\n",
    "observed = pd.crosstab(train.seniority, train.wage_eur)\n",
    "\n",
    "chi2, p, degf, expected = stats.chi2_contingency(observed)\n",
    "round(p ,3)\n",
    "\n",
    "#print p-value\n",
    "print(f'P Value: {p:.3f}')\n",
    "\n",
    "if p < α:\n",
    "    print('Reject the null hypothesis.')\n",
    "else:\n",
    "    print('Fail to reject the null.')"
   ]
  },
  {
   "cell_type": "code",
   "execution_count": null,
   "id": "38747135",
   "metadata": {},
   "outputs": [],
   "source": []
  },
  {
   "cell_type": "code",
   "execution_count": null,
   "id": "d824e6f2",
   "metadata": {},
   "outputs": [],
   "source": []
  },
  {
   "cell_type": "markdown",
   "id": "616fd06f",
   "metadata": {},
   "source": [
    "- 8.) Overarching question: What features are most important in player salaries?"
   ]
  },
  {
   "cell_type": "code",
   "execution_count": null,
   "id": "ef8398da",
   "metadata": {},
   "outputs": [],
   "source": []
  },
  {
   "cell_type": "markdown",
   "id": "7eec1050",
   "metadata": {},
   "source": [
    "---"
   ]
  },
  {
   "cell_type": "markdown",
   "id": "d1b28c19",
   "metadata": {},
   "source": [
    "# General EDA "
   ]
  },
  {
   "cell_type": "code",
   "execution_count": null,
   "id": "0cad387d",
   "metadata": {},
   "outputs": [],
   "source": [
    "#international reputation vs. wage\n",
    "sns.boxplot(data = train,\n",
    "           x = 'international_reputation',\n",
    "           y = 'wage_eur')"
   ]
  },
  {
   "cell_type": "code",
   "execution_count": null,
   "id": "f920294d",
   "metadata": {},
   "outputs": [],
   "source": [
    "train.head(5)"
   ]
  },
  {
   "cell_type": "code",
   "execution_count": null,
   "id": "d9355d19",
   "metadata": {},
   "outputs": [],
   "source": [
    "def radar_chart(players = ['V. van Dijk','M. Salah'], title = \"Virgil van Dijk Vs Mo Salah\"):\n",
    "    \"\"\"\n",
    "    INPUT: \n",
    "    players: Player names for comparison(1D-array)\n",
    "    title : Title for the chart(str)\n",
    "    \n",
    "    OUTPUT \n",
    "    Plots Radar Chart\n",
    "    \"\"\"\n",
    "    labels = np.array(['pace','shooting', 'passing', 'dribbling','physical','defending'])\n",
    "    \n",
    "    angles = np.linspace(0, 2 * np.pi, len(labels), endpoint = False)\n",
    "    angles = np.concatenate((angles,[angles[0]]))\n",
    "\n",
    "    fig = plt.figure(figsize = (6,6))\n",
    "    plt.suptitle(title)\n",
    "    for player in players:\n",
    "        stats = np.array(df[df.Name == player][labels])[0]\n",
    "        stats = np.concatenate((stats,[stats[0]]))\n",
    "\n",
    "        ax = fig.add_subplot(111, polar = True)\n",
    "        ax.plot(angles, stats, 'o-', linewidth = 2, label = player)\n",
    "        ax.fill(angles, stats, alpha = 0.25)\n",
    "        ax.set_thetagrids(angles * 180/np.pi, labels)\n",
    "\n",
    "    ax.grid(True)\n",
    "    plt.legend()\n",
    "    plt.tight_layout()\n",
    "    plt.show()\n",
    "    \n",
    "radar_chart()"
   ]
  },
  {
   "cell_type": "code",
   "execution_count": null,
   "id": "5b086d9c",
   "metadata": {},
   "outputs": [],
   "source": [
    "over_90 = train[train.overall > 90]\n",
    "\n",
    "print(\"Number of Players with 90+ overall rating : {}\".format(over_90.shape[0]))\n",
    "\n",
    "radar_chart(players = over_90.short_name, title = \"Top Rated Players\")"
   ]
  },
  {
   "cell_type": "code",
   "execution_count": null,
   "id": "8d911878",
   "metadata": {},
   "outputs": [],
   "source": []
  },
  {
   "cell_type": "code",
   "execution_count": null,
   "id": "486c8b3e",
   "metadata": {},
   "outputs": [],
   "source": []
  },
  {
   "cell_type": "code",
   "execution_count": null,
   "id": "ef5b1a0e",
   "metadata": {},
   "outputs": [],
   "source": []
  },
  {
   "cell_type": "markdown",
   "id": "b9d2b2d1",
   "metadata": {},
   "source": [
    "     - Years: 2017, 2018, 2019 \n",
    "     - Basic IQR? Keep outliers for EDA, remove for modeling\n",
    "     - cutting down features\n",
    "     - encode categorical variables to add the Select K Best and RFE \n",
    "     - Additional questions come from the results of the RFE and Select K best\n",
    "     - separate by year before going into clustering\n",
    "     - Linear regression has to have four conditions: heteroschedasticity, cannot be too closely correlated(over 60%), \n",
    " \n",
    "\n",
    "- Longitudinal data\n",
    "\n",
    "- train on the first year of each player, to predict year two, then one and two to predict year three\n",
    "\n",
    "- All unique players, put name into list, and then do 70/20/10 split, train model on the 70%, on feature engineering only use the past information of one year. Only players that have at least one year past information on a player.\n",
    "\n",
    "- Sub-setting by players themselves and making sure each player has multiple years will overcome the issue of losing annual stats\n",
    "\n",
    "- pseudo - code: df[df.player_name.isin(train_list)] <- This is technically the train, test, split. (val_list), (test_list) Will need to remove player names so they aren't duplicated from other sets. Use np.random or python random to get a random picks from the lists. How many names out of list to get 70%, to get 20%, to get 10%. Still only explore on train. (player performance prediction may be better for this) ask OG Ryan : how would we account for budget cuts, are there too many outside variables to be able to accurately predict y-o-y, would having a budget cut encoded column be adequate for the model (would it not inform the model enough bc percentage will vary by league), is overall player wage value too volatile to be used at all?\n",
    "\n",
    "    - Shift will have to be done player by player and then the dataset recombined\n",
    "   \n",
    "       \n",
    "           - 12,932 players have less than two appearances in the data.\n",
    "           \n",
    "           - What percentile does a player stay within base salary-wise? Instead of assigning a salary amount, assign them a percentile\n",
    "           \n",
    "           - Separating by year, predicting by year...\n",
    "           \n",
    "           -Eriberto - Club budget, league budget per year"
   ]
  },
  {
   "cell_type": "code",
   "execution_count": null,
   "id": "f30c2ed0",
   "metadata": {},
   "outputs": [],
   "source": []
  },
  {
   "cell_type": "code",
   "execution_count": null,
   "id": "91f15ef9",
   "metadata": {},
   "outputs": [],
   "source": [
    "train.head(1)"
   ]
  },
  {
   "cell_type": "markdown",
   "id": "eb9684a7",
   "metadata": {},
   "source": [
    "# Feature Selection"
   ]
  },
  {
   "cell_type": "code",
   "execution_count": null,
   "id": "6a7ee2a5",
   "metadata": {},
   "outputs": [],
   "source": [
    "X = train[['club_team_id','age', 'height_cm', 'weight_kg', 'weak_foot', 'skill_moves', 'pace', 'shooting', \n",
    "           'passing', 'dribbling', 'defending', 'physical', 'crossing', 'finishing', 'heading_accuracy', \n",
    "           'short_passing', 'volleys', 'skill_dribbling', 'curve', 'fk_accuracy', 'long_passing', \n",
    "           'ball_control', 'acceleration', 'sprint_speed', 'agility', 'reactions', 'balance', 'shot_power', \n",
    "           'jumping', 'stamina', 'strength', 'long_shots', 'aggression', 'interceptions', 'positioning', \n",
    "           'vision', 'penalties', 'marking', 'standing_tackle', 'sliding_tackle', 'gk_diving', 'gk_handling', \n",
    "           'gk_kicking', 'gk_positioning', 'gk_reflexes', 'gk_speed', 'gk_speed', 'potential', 'seniority', \n",
    "           'league_encoded', 'club_position_encoded', 'work_rate_encoded', 'preferred_foot_encoded', \n",
    "           'age_bins_encoded', 'weight_bins_encoded', 'body_type_encoded']]\n",
    "\n",
    "y = train[['wage_eur']]"
   ]
  },
  {
   "cell_type": "code",
   "execution_count": null,
   "id": "10affc79",
   "metadata": {},
   "outputs": [],
   "source": [
    "from sklearn.feature_selection import SelectKBest, f_regression\n",
    "\n",
    "# parameters: f_regression stats test, give me 10 features\n",
    "f_selector = SelectKBest(f_regression, k = 10)\n",
    "\n",
    "# find the top 10 X's correlated with y (should be scaled!)\n",
    "f_selector.fit(X, y)\n",
    "\n",
    "# boolean mask of whether the column was selected or not. \n",
    "feature_mask = f_selector.get_support()\n",
    "\n",
    "# get list of top K features. \n",
    "f_feature = X.iloc[:,feature_mask].columns.tolist()"
   ]
  },
  {
   "cell_type": "code",
   "execution_count": null,
   "id": "656fe3cb",
   "metadata": {},
   "outputs": [],
   "source": [
    "f_feature"
   ]
  },
  {
   "cell_type": "markdown",
   "id": "dd77a845",
   "metadata": {},
   "source": [
    "- Statistical testing on whether a player has a higher or lower short_passing score (for each of the features returned)"
   ]
  },
  {
   "cell_type": "markdown",
   "id": "5d262e1b",
   "metadata": {},
   "source": [
    "---"
   ]
  },
  {
   "cell_type": "code",
   "execution_count": null,
   "id": "b3635658",
   "metadata": {},
   "outputs": [],
   "source": [
    "from sklearn.linear_model import LinearRegression\n",
    "from sklearn.feature_selection import RFE\n",
    "\n",
    "# initialize the ML algorithm\n",
    "lm = LinearRegression()\n",
    "\n",
    "# create the rfe object, indicating the ML object (lm) and the number of features I want to end up with. \n",
    "rfe = RFE(lm, n_features_to_select=10)\n",
    "\n",
    "# fit the data using RFE\n",
    "rfe.fit(X , y)  \n",
    "\n",
    "# get the mask of the columns selected\n",
    "feature_mask = rfe.support_\n",
    "\n",
    "# get list of the column names. \n",
    "rfe_feature = X.iloc[:,feature_mask].columns.tolist()\n",
    "\n"
   ]
  },
  {
   "cell_type": "code",
   "execution_count": null,
   "id": "63ef05ad",
   "metadata": {},
   "outputs": [],
   "source": [
    "rfe_feature"
   ]
  },
  {
   "cell_type": "markdown",
   "id": "f0d265f7",
   "metadata": {},
   "source": [
    "----"
   ]
  },
  {
   "cell_type": "markdown",
   "id": "3d3c4f6f",
   "metadata": {},
   "source": [
    "# EDA player positions: ST, LW, RW, LS, RS, LM, RM, CF"
   ]
  },
  {
   "cell_type": "code",
   "execution_count": null,
   "id": "f4ac0a7a",
   "metadata": {},
   "outputs": [],
   "source": [
    "values = ['ST', 'LW', 'RW', 'LS', 'RS', 'LM', 'RM', 'CF']\n",
    "\n",
    "\n",
    "#make a new df w/ only certain positions\n",
    "df_p = df.loc[df['club_position'].isin(values)]\n",
    "\n",
    "df_p.club_position.unique()"
   ]
  },
  {
   "cell_type": "code",
   "execution_count": null,
   "id": "38e4868d",
   "metadata": {},
   "outputs": [],
   "source": [
    "sns.boxplot(data = df_p,\n",
    "               x = 'club_position',\n",
    "               y = 'wage_eur')"
   ]
  },
  {
   "cell_type": "code",
   "execution_count": null,
   "id": "db939f7e",
   "metadata": {},
   "outputs": [],
   "source": [
    "sns.scatterplot(data = df_p,\n",
    "               x = 'club_position',\n",
    "               y = 'wage_eur')"
   ]
  },
  {
   "cell_type": "code",
   "execution_count": null,
   "id": "59f586e5",
   "metadata": {},
   "outputs": [],
   "source": [
    "#create a variable for the top features of each player\n",
    "player_features = ('shooting',\n",
    "                   'passing',\n",
    "                   'dribbling',\n",
    "                   'defending',\n",
    "                   'crossing',\n",
    "                   'finishing',\n",
    "                   'heading_accuracy',\n",
    "                   'short_passing',\n",
    "                   'volleys',\n",
    "                   'dribbling',\n",
    "                   'curve',\n",
    "                   'fk_accuracy',\n",
    "                   'long_passing',\n",
    "                   'ball_control',\n",
    "                   'acceleration',\n",
    "                   'sprint_speed',\n",
    "                   'agility',\n",
    "                   'reactions',\n",
    "                   'balance',\n",
    "                   'jumping',\n",
    "                   'shot_power',\n",
    "                   'aggression',\n",
    "                   'penalties',\n",
    "                   'marking',\n",
    "                   'long_shots'\n",
    "                   \n",
    "                  )\n",
    "\n",
    "for i, val in df_p.groupby(df_p['club_position'])[player_features].mean().iterrows():\n",
    "    print('Position {}: {}, {}, {}, {}'.format(i, *tuple(val.nlargest(4).index)))"
   ]
  },
  {
   "cell_type": "code",
   "execution_count": null,
   "id": "7e63dfad",
   "metadata": {},
   "outputs": [],
   "source": []
  },
  {
   "cell_type": "code",
   "execution_count": null,
   "id": "8af962d4",
   "metadata": {},
   "outputs": [],
   "source": []
  }
 ],
 "metadata": {
  "kernelspec": {
   "display_name": "Python 3 (ipykernel)",
   "language": "python",
   "name": "python3"
  },
  "language_info": {
   "codemirror_mode": {
    "name": "ipython",
    "version": 3
   },
   "file_extension": ".py",
   "mimetype": "text/x-python",
   "name": "python",
   "nbconvert_exporter": "python",
   "pygments_lexer": "ipython3",
   "version": "3.9.7"
  }
 },
 "nbformat": 4,
 "nbformat_minor": 5
}
