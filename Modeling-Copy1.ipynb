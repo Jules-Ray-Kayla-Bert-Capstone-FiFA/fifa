{
 "cells": [
  {
   "cell_type": "markdown",
   "id": "3bacc1c5",
   "metadata": {},
   "source": [
    "<hr style=\"border-top: 10px groove lightblue; margin-top: 1px; margin-bottom: 1px\"></hr>\n",
    "\n",
    "# Modeling Plan\n",
    "\n",
    "\n",
    "- Model for Overall players\n",
    "- Model for Foward position players\n",
    "- Model for Midfielder postion players\n",
    "- Model for Defense position plauyers\n",
    "- Model for Goal Keepers\n",
    "\n",
    "<hr style=\"border-top: 10px groove lightblue; margin-top: 1px; margin-bottom: 1px\"></hr>\n"
   ]
  },
  {
   "cell_type": "code",
   "execution_count": 1,
   "id": "13f2f663",
   "metadata": {},
   "outputs": [],
   "source": [
    "import os\n",
    "import json\n",
    "from typing import Dict, List, Optional, Union, cast\n",
    "import requests\n",
    "import pandas as pd\n",
    "import bamboolib as bam\n",
    "\n",
    "import unicodedata\n",
    "import re\n",
    "import json\n",
    "\n",
    "import acquire\n",
    "\n",
    "import nltk\n",
    "from nltk.tokenize.toktok import ToktokTokenizer\n",
    "from nltk.corpus import stopwords\n",
    "from wordcloud import WordCloud\n",
    "\n",
    "from sklearn.model_selection import train_test_split\n",
    "from sklearn.linear_model import LogisticRegression\n",
    "from sklearn.metrics import classification_report, accuracy_score\n",
    "from sklearn.feature_extraction.text import TfidfVectorizer\n",
    "from sklearn.neighbors import KNeighborsClassifier\n",
    "from sklearn.metrics import confusion_matrix\n",
    "from sklearn.ensemble import RandomForestClassifier\n",
    "from sklearn.tree import DecisionTreeClassifier\n",
    "from sklearn.impute import SimpleImputer\n",
    "from sklearn.preprocessing import MinMaxScaler, StandardScaler, RobustScaler, QuantileTransformer\n",
    "from sklearn.cluster import KMeans\n",
    "\n",
    "from sklearn.metrics import mean_squared_error, r2_score\n",
    "from sklearn.feature_selection import f_regression \n",
    "\n",
    "#statistical tests\n",
    "from scipy import stats\n",
    "from scipy.stats import pearsonr, spearmanr\n",
    "\n",
    "from math import sqrt\n",
    "from sklearn.linear_model import LinearRegression, LassoLars, TweedieRegressor\n",
    "from sklearn.preprocessing import PolynomialFeatures\n",
    "\n",
    "\n",
    "import matplotlib.pyplot as plt\n",
    "import seaborn as sns\n",
    "import warnings\n",
    "warnings.filterwarnings(\"ignore\")\n",
    "\n",
    "from bs4 import BeautifulSoup\n",
    "import prepare\n",
    "import plotly.express as px\n",
    "\n",
    "#imports to show interactive visuals on github\n",
    "import plotly.io as pio\n",
    "pio.renderers\n",
    "\n",
    "import modeling\n",
    "#import model\n",
    "import math\n",
    "from math import sqrt\n"
   ]
  },
  {
   "cell_type": "markdown",
   "id": "b347d36f",
   "metadata": {},
   "source": [
    "<hr style=\"border-top: 10px groove lightblue; margin-top: 1px; margin-bottom: 1px\"></hr>"
   ]
  },
  {
   "cell_type": "markdown",
   "id": "65c9c059",
   "metadata": {},
   "source": [
    "# `Acquire` Data."
   ]
  },
  {
   "cell_type": "code",
   "execution_count": 2,
   "id": "77b26fa7",
   "metadata": {},
   "outputs": [
    {
     "name": "stdout",
     "output_type": "stream",
     "text": [
      "Row and column count: (142079, 111)\n"
     ]
    }
   ],
   "source": [
    "df = acquire.get_fifa_data()\n",
    "print(\"Row and column count:\",df.shape)"
   ]
  },
  {
   "cell_type": "markdown",
   "id": "8192d4c6",
   "metadata": {},
   "source": [
    "<hr style=\"border-top: 10px groove lightblue; margin-top: 1px; margin-bottom: 1px\"></hr>"
   ]
  },
  {
   "cell_type": "markdown",
   "id": "01998d31",
   "metadata": {},
   "source": [
    "# Import [Prepare.py](https://github.com/Jules-Ray-Kayla-Bert-Capstone-FiFA/fifa/blob/main/prepare.py) File.\n",
    "`Summary:`\n",
    "    This file was created with the purpose of cleaning, encoding, scaling, dropping, and adding collumns to our existing data. It is necessary to complete this preperation step before we start exploring and modeling our data."
   ]
  },
  {
   "cell_type": "code",
   "execution_count": 3,
   "id": "dc8f5151",
   "metadata": {},
   "outputs": [
    {
     "name": "stdout",
     "output_type": "stream",
     "text": [
      "Before dropping nulls, 142079 rows, 111 cols\n",
      "After dropping nulls. 131489 rows. 66 cols\n",
      "After cleaning the data and adding additional columns there are: 98804 rows. 83 cols\n"
     ]
    }
   ],
   "source": [
    "#defining df as our imported prepped data.\n",
    "df = prepare.prepped_data(df)"
   ]
  },
  {
   "cell_type": "markdown",
   "id": "27140433",
   "metadata": {},
   "source": [
    "## Removing outliers"
   ]
  },
  {
   "cell_type": "code",
   "execution_count": 4,
   "id": "7551931d",
   "metadata": {},
   "outputs": [],
   "source": [
    "cols = ['overall','potential'] \n",
    "def handle_outliers(df, cols, k):\n",
    "    \"\"\"this will eliminate most outliers, use a 1.5 k value if unsure because it is the most common, make sure to define cols value as the features\n",
    "    you want the outliers to be handled. this should be done before running the function and outiside of it\"\"\"\n",
    "\n",
    "    \n",
    "    # Create placeholder dictionary for each columns bounds\n",
    "    bounds_dict = {}\n",
    "   \n",
    "    for col in cols:\n",
    "        # get necessary iqr values\n",
    "        q1 = df[col].quantile(0.25)\n",
    "        q3 = df[col].quantile(0.75)\n",
    "        iqr = q3 - q1\n",
    "        upper_bound =  q3 + k * iqr\n",
    "        lower_bound =  q1 - k * iqr\n",
    "\n",
    "        #store values in a dictionary referencable by the column name\n",
    "        #and specific bound\n",
    "        bounds_dict[col] = {}\n",
    "        bounds_dict[col]['upper_bound'] = upper_bound\n",
    "        bounds_dict[col]['lower_bound'] = lower_bound\n",
    "\n",
    "    for col in cols:\n",
    "        #retrieve bounds\n",
    "        col_upper_bound = bounds_dict[col]['upper_bound']\n",
    "        col_lower_bound = bounds_dict[col]['lower_bound']\n",
    "\n",
    "        #remove rows with an outlier in that column\n",
    "    df = df[(df[col] < col_upper_bound) & (df[col] > col_lower_bound)]\n",
    "        \n",
    "    return df\n",
    "\n",
    "df = handle_outliers(df,cols,1.5)"
   ]
  },
  {
   "cell_type": "markdown",
   "id": "ad35854d",
   "metadata": {},
   "source": [
    "<hr style=\"border-top: 10px groove lightblue; margin-top: 1px; margin-bottom: 1px\"></hr>\n",
    "\n",
    "# Splitting Data for Modeling"
   ]
  },
  {
   "cell_type": "code",
   "execution_count": 5,
   "id": "aa0ea4f2",
   "metadata": {},
   "outputs": [
    {
     "name": "stdout",
     "output_type": "stream",
     "text": [
      "Train: 58213 rows, 83 cols\n",
      "Validate: 26055 rows, 83 cols\n",
      "Test: 13946 rows, 83 cols\n"
     ]
    }
   ],
   "source": [
    "train, validate, test = prepare.split(df)"
   ]
  },
  {
   "cell_type": "markdown",
   "id": "6b954338",
   "metadata": {},
   "source": [
    "<hr style=\"border-top: 10px groove lightblue; margin-top: 1px; margin-bottom: 1px\"></hr>\n",
    "\n",
    "# Overall Players\n",
    "\n",
    "## Plan\n",
    "- Use key features to create a good predictive model\n",
    "- Use a minimum of 3 models\n",
    "- Pick the best performing model\n",
    "- Run model on test data"
   ]
  },
  {
   "cell_type": "markdown",
   "id": "e3ef50b8",
   "metadata": {},
   "source": [
    "<hr style=\"border-top: 10px groove lightblue; margin-top: 1px; margin-bottom: 1px\"></hr>\n",
    "\n",
    "# Relationship to Wage_eur Plot"
   ]
  },
  {
   "cell_type": "code",
   "execution_count": 6,
   "id": "3f55ff57",
   "metadata": {
    "scrolled": false
   },
   "outputs": [
    {
     "data": {
      "image/png": "[encoded data removed]",
      "text/plain": [
       "<Figure size 864x576 with 1 Axes>"
      ]
     },
     "metadata": {
      "needs_background": "light"
     },
     "output_type": "display_data"
    }
   ],
   "source": [
    "plt.figure(figsize = (12,8))\n",
    "train.corr()['wage_eur'].sort_values(ascending=False).plot(kind='barh', color='orange')\n",
    "plt.title('Relationship with wages')\n",
    "plt.xlabel('Relationship')\n",
    "plt.ylabel('Features')\n",
    "plt.show()"
   ]
  },
  {
   "cell_type": "code",
   "execution_count": 7,
   "id": "4193d591",
   "metadata": {
    "scrolled": false
   },
   "outputs": [
    {
     "data": {
      "application/vnd.jupyter.widget-view+json": {
       "model_id": "5bbf6d85c0724de5b113457ebdc8e234"
      },
      "text/plain": [
       "                          wage_eur\n",
       "wage_year                 1.000000\n",
       "wage_eur                  1.000000\n",
       "total_wage                0.801017\n",
       "value_eur                 0.799072\n",
       "international_reputation  0.699798\n",
       "club_name_yr_sum          0.683929\n",
       "overall                   0.670422\n",
       "reactions                 0.582250\n",
       "potential                 0.576212\n",
       "league_yr_sum             0.506001\n",
       "vision                    0.346656\n",
       "short_passing             0.345914\n",
       "long_passing              0.330425\n",
       "ball_control              0.321539\n",
       "shot_power                0.309107"
      ]
     },
     "metadata": {},
     "output_type": "display_data"
    }
   ],
   "source": [
    "features_cor =  train.corr()['wage_eur'].sort_values(ascending=False)\n",
    "features_cor = pd.DataFrame(features_cor)\n",
    "features_cor.head(15)"
   ]
  },
  {
   "cell_type": "markdown",
   "id": "9df09add",
   "metadata": {},
   "source": [
    "`Takeaways:` \n",
    "For this Exploration section I wil be focusing on the skills that are under or equal to 70 percent of correlation and greater then 48 percent. \n",
    "The list below will be the skills and stats that I will be focusing on.\n",
    "\n",
    "- international_reputation\n",
    "- overall\n",
    "- passing\n",
    "- ball_control\n",
    "- short_passing\n",
    "- reactions\n",
    "- potential\n",
    "- dribbling\n",
    "- vision\n",
    "- skill_dribbling\n",
    "- league_yr_sum\n",
    "- long_passing\n",
    "- shooting\n",
    "\n"
   ]
  },
  {
   "cell_type": "code",
   "execution_count": 8,
   "id": "43e98e08",
   "metadata": {},
   "outputs": [],
   "source": [
    "# identifying mvp columns\n",
    "mvp = ['international_reputation','overall','reactions','potential']"
   ]
  },
  {
   "cell_type": "code",
   "execution_count": 9,
   "id": "78db62b1",
   "metadata": {},
   "outputs": [],
   "source": [
    "X_train = train[mvp]\n",
    "y_train = train[['wage_eur']]\n",
    "\n",
    "X_validate = validate[mvp]\n",
    "y_validate = validate[['wage_eur']]\n",
    "\n",
    "X_test = test[mvp]\n",
    "y_test = test[['wage_eur']]"
   ]
  },
  {
   "cell_type": "code",
   "execution_count": 10,
   "id": "1cc7bfc1",
   "metadata": {},
   "outputs": [
    {
     "name": "stdout",
     "output_type": "stream",
     "text": [
      "RMSE using Mean\n",
      "Train/In-Sample:  23481.13 \n",
      "Validate/Out-of-Sample:  19935.79\n",
      "RMSE using Median\n",
      "Train/In-Sample:  25168.55 \n",
      "Validate/Out-of-Sample:  20296.97\n"
     ]
    }
   ],
   "source": [
    "modeling.create_baseline(y_train, y_validate,' wage_eur')"
   ]
  },
  {
   "cell_type": "code",
   "execution_count": 11,
   "id": "dbc793ce",
   "metadata": {},
   "outputs": [
    {
     "name": "stdout",
     "output_type": "stream",
     "text": [
      "RMSE using Mean\n",
      "Train/In-Sample:  23481.13 \n",
      "Validate/Out-of-Sample:  19935.79\n",
      "RMSE using Median\n",
      "Train/In-Sample:  25168.55 \n",
      "Validate/Out-of-Sample:  20296.97\n"
     ]
    }
   ],
   "source": [
    "#.   Use this!!!!\n",
    "# We need y_train and y_validate to be dataframes to append the new columns with predicted values. \n",
    "y_train = pd.DataFrame(y_train)\n",
    "y_validate = pd.DataFrame(y_validate)# 1. Predict wage_eur_pred_mean\n",
    "wage_eur_pred_mean = y_train['wage_eur'].mean()\n",
    "y_train['wage_eur_pred_mean'] = wage_eur_pred_mean\n",
    "y_validate['wage_eur_pred_mean'] = wage_eur_pred_mean# 2. compute wage_eur_pred_median\n",
    "wage_eur_pred_median = y_train['wage_eur'].median()\n",
    "y_train['wage_eur_pred_median'] = wage_eur_pred_median\n",
    "y_validate['wage_eur_pred_median'] = wage_eur_pred_median# 3. RMSE of wage_eur_pred_mean\n",
    "rmse_train = mean_squared_error(y_train.wage_eur, y_train.wage_eur_pred_mean)**(1/2)\n",
    "rmse_validate = mean_squared_error(y_validate.wage_eur, y_validate.wage_eur_pred_mean)**(1/2)\n",
    "print(\"RMSE using Mean\\nTrain/In-Sample: \", round(rmse_train, 2), \n",
    "      \"\\nValidate/Out-of-Sample: \", round(rmse_validate, 2))# 4. RMSE of wage_eur_pred_median\n",
    "rmse_train = mean_squared_error(y_train.wage_eur, y_train.wage_eur_pred_median)**(1/2)\n",
    "rmse_validate = mean_squared_error(y_validate.wage_eur, y_validate.wage_eur_pred_median)**(1/2)\n",
    "print(\"RMSE using Median\\nTrain/In-Sample: \", round(rmse_train, 2), \n",
    "      \"\\nValidate/Out-of-Sample: \", round(rmse_validate, 2))"
   ]
  },
  {
   "cell_type": "markdown",
   "id": "d936db2d",
   "metadata": {},
   "source": [
    "# RMSE"
   ]
  },
  {
   "cell_type": "code",
   "execution_count": 12,
   "id": "70b658e6",
   "metadata": {},
   "outputs": [],
   "source": [
    "model = LinearRegression().fit(X_train, y_train.wage_eur)\n",
    "predictions = model.predict(X_train)"
   ]
  },
  {
   "cell_type": "code",
   "execution_count": 13,
   "id": "eb841c73",
   "metadata": {},
   "outputs": [
    {
     "name": "stdout",
     "output_type": "stream",
     "text": [
      "RMSE for OLS using LinearRegression\n",
      "Training/In-Sample:  14387.186139593161 \n",
      "Validation/Out-of-Sample:  13794.31310783574\n"
     ]
    }
   ],
   "source": [
    "modeling.linear_model(y_train,y_validate, X_train,X_validate)"
   ]
  },
  {
   "cell_type": "code",
   "execution_count": 14,
   "id": "62015bf1",
   "metadata": {},
   "outputs": [],
   "source": [
    "## create the model object\n",
    "#lm = LinearRegression(normalize=True)\n",
    "## fit the model to our training data. We must specify the column in y_train, \n",
    "## since we have converted it to a dataframe from a series! \n",
    "#lm.fit(X_train, y_train.wage_eur)\n",
    "## predict train\n",
    "#y_train['wage_eur_pred_lm'] = lm.predict(X_train)\n",
    "## evaluate: rmse\n",
    "#rmse_train = mean_squared_error(y_train.wage_eur, y_train.wage_eur_pred_lm)**(1/2)\n",
    "## predict validate\n",
    "#y_validate['wage_eur_pred_lm'] = lm.predict(X_validate)\n",
    "## evaluate: rmse\n",
    "#rmse_validate_lm = mean_squared_error(y_validate.wage_eur, y_validate.wage_eur_pred_lm)**(1/2)\n",
    "#print(\"RMSE for OLS using LinearRegression\\nTraining/In-Sample: \", rmse_train, \n",
    "#      \"\\nValidation/Out-of-Sample: \", rmse_validate_lm)"
   ]
  },
  {
   "cell_type": "code",
   "execution_count": 15,
   "id": "97342d22",
   "metadata": {},
   "outputs": [
    {
     "name": "stdout",
     "output_type": "stream",
     "text": [
      "RMSE for Lasso + Lars\n",
      "Training/In-Sample:  14390.288284191163 \n",
      "Validation/Out-of-Sample:  13748.439932780246\n"
     ]
    }
   ],
   "source": [
    "modeling.lassolars_model(y_train,y_validate,X_train,X_validate)"
   ]
  },
  {
   "cell_type": "code",
   "execution_count": 16,
   "id": "0a89e1f2",
   "metadata": {},
   "outputs": [
    {
     "name": "stdout",
     "output_type": "stream",
     "text": [
      "RMSE for Lasso + Lars\n",
      "Training/In-Sample:  14390.288284191163 \n",
      "Validation/Out-of-Sample:  13748.439932780246\n"
     ]
    }
   ],
   "source": [
    "# create the model object\n",
    "lars = LassoLars(alpha=1.0)\n",
    "\n",
    "# fit the model to our training data. We must specify the column in y_train, \n",
    "# since we have converted it to a dataframe from a series! \n",
    "lars.fit(X_train, y_train.wage_eur)\n",
    "\n",
    "# predict train\n",
    "y_train['wage_eur_pred_lars'] = lars.predict(X_train)\n",
    "\n",
    "# evaluate: rmse\n",
    "rmse_train_lars = mean_squared_error(y_train.wage_eur, y_train.wage_eur_pred_lars)**(1/2)\n",
    "\n",
    "# predict validate\n",
    "y_validate['wage_eur_pred_lars'] = lars.predict(X_validate)\n",
    "\n",
    "# evaluate: rmse\n",
    "rmse_validate_lars = mean_squared_error(y_validate.wage_eur, y_validate.wage_eur_pred_lars)**(1/2)\n",
    "\n",
    "print(\"RMSE for Lasso + Lars\\nTraining/In-Sample: \", rmse_train_lars, \n",
    "      \"\\nValidation/Out-of-Sample: \", rmse_validate_lars)\n"
   ]
  },
  {
   "cell_type": "code",
   "execution_count": 17,
   "id": "dd306cab",
   "metadata": {},
   "outputs": [
    {
     "name": "stdout",
     "output_type": "stream",
     "text": [
      "RMSE for GLM using Tweedie, power=1 & alpha=0\n",
      "Training/In-Sample:  25168.553127153584 \n",
      "Validation/Out-of-Sample:  11953.927056606866\n"
     ]
    }
   ],
   "source": [
    "# create the model object\n",
    "glm = TweedieRegressor(power=1, alpha=0)\n",
    "\n",
    "# fit the model to our training data. We must specify the column in y_train, \n",
    "# since we have converted it to a dataframe from a series! \n",
    "glm.fit(X_train, y_train.wage_eur)\n",
    "\n",
    "# predict train\n",
    "y_train['wage_eur_pred_glm'] = glm.predict(X_train)\n",
    "\n",
    "# evaluate: rmse\n",
    "rmse_train_glm = mean_squared_error(y_train.wage_eur, y_train.wage_eur_pred_glm)**(1/2)\n",
    "\n",
    "# predict validate\n",
    "y_validate['wage_eur_pred_glm'] = glm.predict(X_validate)\n",
    "\n",
    "# evaluate: rmse\n",
    "rmse_validate_glm = mean_squared_error(y_validate.wage_eur, y_validate.wage_eur_pred_glm)**(1/2)\n",
    "\n",
    "print(\"RMSE for GLM using Tweedie, power=1 & alpha=0\\nTraining/In-Sample: \", rmse_train, \n",
    "      \"\\nValidation/Out-of-Sample: \", rmse_validate_glm)"
   ]
  },
  {
   "cell_type": "code",
   "execution_count": 18,
   "id": "b4beb660",
   "metadata": {},
   "outputs": [],
   "source": [
    "#residuals\n",
    "y_train['lm_residuals'] = y_train['wage_eur_pred_lm'] - y_train['wage_eur']\n",
    "y_validate['lm_residuals'] = y_validate['wage_eur_pred_lm'] - y_validate['wage_eur']\n",
    "#residuals\n",
    "y_train['lars_residuals'] = y_train['wage_eur_pred_lars'] - y_train['wage_eur']\n",
    "y_validate['lars_residuals'] = y_validate['wage_eur_pred_lars'] - y_validate['wage_eur']\n",
    "#residuals\n",
    "y_train['glm_residuals'] = y_train['wage_eur_pred_glm'] - y_train['wage_eur']\n",
    "y_validate['glm_residuals'] = y_validate['wage_eur_pred_glm'] - y_validate['wage_eur']"
   ]
  },
  {
   "cell_type": "code",
   "execution_count": 19,
   "id": "4fc7c20b",
   "metadata": {},
   "outputs": [
    {
     "data": {
      "application/vnd.jupyter.widget-view+json": {
       "model_id": "feb9f3330ec240f59797004278ab893f"
      },
      "text/plain": [
       "       wage_eur\n",
       "4      115000.0\n",
       "5      130000.0\n",
       "6      160000.0\n",
       "7      155000.0\n",
       "9      100000.0\n",
       "...         ...\n",
       "98696     500.0\n",
       "98697     500.0\n",
       "98698     500.0\n",
       "98699     500.0\n",
       "98700     500.0\n",
       "\n",
       "[13946 rows x 1 columns]"
      ]
     },
     "metadata": {},
     "output_type": "display_data"
    }
   ],
   "source": [
    "y_test = pd.DataFrame(y_test)\n",
    "y_test"
   ]
  },
  {
   "cell_type": "markdown",
   "id": "badf5443",
   "metadata": {},
   "source": [
    "***\n",
    "# Evaluating Models"
   ]
  },
  {
   "cell_type": "code",
   "execution_count": 20,
   "id": "6381324f",
   "metadata": {},
   "outputs": [],
   "source": [
    "from sklearn.linear_model import LinearRegression\n",
    "y = pd.DataFrame(y_train.wage_eur)\n",
    "X = pd.DataFrame(X_train)\n",
    "# assuming X and y are already defined\n",
    "m = LinearRegression().fit(X, y)\n",
    "train['yhat'] = m.predict(X)"
   ]
  },
  {
   "cell_type": "code",
   "execution_count": 21,
   "id": "eaf20aa7",
   "metadata": {},
   "outputs": [
    {
     "data": {
      "application/vnd.jupyter.widget-view+json": {
       "model_id": "811b9f1dfe654c8cad744a9d98194d47"
      },
      "text/plain": [
       "     international_reputation  overall  reactions  potential  wage_eur  \\\n",
       "212                         4       87         83         87  190000.0   \n",
       "213                         4       85         85         87  200000.0   \n",
       "214                         3       84         78         85  180000.0   \n",
       "215                         3       83         83         85  150000.0   \n",
       "216                         3       82         78         82  130000.0   \n",
       "\n",
       "              yhat  \n",
       "212  118024.989587  \n",
       "213  116579.889522  \n",
       "214   87558.428414  \n",
       "215   87344.226804  \n",
       "216   84262.902411  "
      ]
     },
     "metadata": {},
     "output_type": "display_data"
    }
   ],
   "source": [
    "\n",
    "df = pd.DataFrame(train[['international_reputation','overall','reactions',\n",
    "                         'potential','wage_eur','yhat']])\n",
    "df.head()"
   ]
  },
  {
   "cell_type": "code",
   "execution_count": 22,
   "id": "8e7313bc",
   "metadata": {},
   "outputs": [],
   "source": [
    "#creating a baseline from the mean of the target variable\n",
    "baseline = y.mean()\n",
    "df['baseline'] = y.wage_eur.mean()\n",
    "# turning baseline to int from float\n",
    "df.baseline = df.baseline.astype(int)\n",
    "# residual = actual - predicted\n",
    "df['residual'] = df.wage_eur - df.yhat\n",
    "df['baseline_residual'] = df.wage_eur - df.baseline"
   ]
  },
  {
   "cell_type": "markdown",
   "id": "28cec37d",
   "metadata": {},
   "source": [
    "## Baseline = 14060.50"
   ]
  },
  {
   "cell_type": "code",
   "execution_count": 23,
   "id": "fd0d4f7c",
   "metadata": {},
   "outputs": [],
   "source": [
    "df['residual^2'] = df.residual**2\n",
    "df['baseline_residual^2'] = df.baseline_residual**2"
   ]
  },
  {
   "cell_type": "code",
   "execution_count": 24,
   "id": "2e46cb1b",
   "metadata": {},
   "outputs": [],
   "source": [
    "actual = y_train.wage_eur\n",
    "predicted = df.yhat\n",
    "residuals = actual - predicted\n",
    "df['residual^2'] = df.residual**2\n",
    "df['baseline_residual^2'] = df.baseline_residual**2"
   ]
  },
  {
   "cell_type": "code",
   "execution_count": 25,
   "id": "5ed684ae",
   "metadata": {},
   "outputs": [],
   "source": [
    "def residuals(actual, predicted):\n",
    "    return actual - predicted\n",
    "\n",
    "#sum of squared errors (SSE)\n",
    "def sse(actual, predicted):\n",
    "    return (residuals(actual, predicted) **2).sum()\n",
    "\n",
    "#explained sum of squares (ESS)\n",
    "def ess(actual, predicted):\n",
    "    return ((predicted - actual.mean()) ** 2).sum()\n",
    "\n",
    "#total sum of squares (TSS)\n",
    "def tss(actual):\n",
    "    return ((actual - actual.mean()) ** 2).sum()\n",
    "\n",
    "#mean squared error (MSE)\n",
    "def mse(actual, predicted):\n",
    "    n = actual.shape[0]\n",
    "    return sse(actual, predicted) / n\n",
    "\n",
    "#root mean squared error (RMSE)\n",
    "def rmse(actual, predicted):\n",
    "    return math.sqrt(mse(actual, predicted))\n",
    "\n",
    "# returns r2 scor\n",
    "def r2_score(actual, predicted):\n",
    "    return ess(actual, predicted) / tss(actual)\n",
    "\n",
    "def regression_errors(actual, predicted):\n",
    "    return pd.Series({\n",
    "                        'SSE': sse(actual, predicted),\n",
    "                        'ESS': ess(actual, predicted),\n",
    "                        'TSS': tss(actual),\n",
    "                        'MSE': mse(actual, predicted),\n",
    "                        'RMSE': rmse(actual, predicted),\n",
    "                        })\n",
    "\n",
    "def baseline_mean_errors(actual):\n",
    "    predicted = actual.mean()\n",
    "    return {\n",
    "             'SSE': sse(actual, predicted),\n",
    "             'MSE': mse(actual, predicted),\n",
    "             'RMSE': rmse(actual, predicted),\n",
    "            }\n",
    "\n",
    "def better_than_baseline(actual, predicted):\n",
    "    rmse_baseline = rmse(actual, actual.mean())\n",
    "    rmse_model = rmse(actual, predicted)\n",
    "    return rmse_model < rmse_baseline"
   ]
  },
  {
   "cell_type": "code",
   "execution_count": 26,
   "id": "1c04aa3c",
   "metadata": {},
   "outputs": [
    {
     "data": {
      "text/plain": [
       "SSE     1.204957e+13\n",
       "ESS     2.004694e+13\n",
       "TSS     3.209652e+13\n",
       "MSE     2.069911e+08\n",
       "RMSE    1.438719e+04\n",
       "dtype: float64"
      ]
     },
     "execution_count": 26,
     "metadata": {},
     "output_type": "execute_result"
    }
   ],
   "source": [
    "regression_errors(actual, predicted)"
   ]
  },
  {
   "cell_type": "code",
   "execution_count": 27,
   "id": "ba32a1fa",
   "metadata": {},
   "outputs": [
    {
     "data": {
      "text/plain": [
       "{'SSE': 32096515912133.035,\n",
       " 'MSE': 551363370.933177,\n",
       " 'RMSE': 23481.127974038576}"
      ]
     },
     "execution_count": 27,
     "metadata": {},
     "output_type": "execute_result"
    }
   ],
   "source": [
    "baseline_mean_errors(actual)"
   ]
  },
  {
   "cell_type": "code",
   "execution_count": 28,
   "id": "fc17e072",
   "metadata": {},
   "outputs": [
    {
     "data": {
      "text/plain": [
       "0.624583104487026"
      ]
     },
     "execution_count": 28,
     "metadata": {},
     "output_type": "execute_result"
    }
   ],
   "source": [
    "# calculate R2 the easy way:\n",
    "from sklearn.metrics import r2_score\n",
    "r2_score(df.wage_eur, df.yhat)"
   ]
  },
  {
   "cell_type": "code",
   "execution_count": 29,
   "id": "9066c006",
   "metadata": {},
   "outputs": [
    {
     "name": "stdout",
     "output_type": "stream",
     "text": [
      "                            OLS Regression Results                            \n",
      "==============================================================================\n",
      "Dep. Variable:               wage_eur   R-squared:                       0.332\n",
      "Model:                            OLS   Adj. R-squared:                  0.332\n",
      "Method:                 Least Squares   F-statistic:                 2.893e+04\n",
      "Date:                Thu, 11 Aug 2022   Prob (F-statistic):               0.00\n",
      "Time:                        20:18:51   Log-Likelihood:            -6.5671e+05\n",
      "No. Observations:               58213   AIC:                         1.313e+06\n",
      "Df Residuals:                   58211   BIC:                         1.313e+06\n",
      "Df Model:                           1                                         \n",
      "Covariance Type:            nonrobust                                         \n",
      "==============================================================================\n",
      "                 coef    std err          t      P>|t|      [0.025      0.975]\n",
      "------------------------------------------------------------------------------\n",
      "const      -1.338e+05    872.597   -153.278      0.000   -1.35e+05   -1.32e+05\n",
      "potential   2089.3498     12.283    170.100      0.000    2065.275    2113.425\n",
      "==============================================================================\n",
      "Omnibus:                    42661.681   Durbin-Watson:                   0.533\n",
      "Prob(Omnibus):                  0.000   Jarque-Bera (JB):          1214723.262\n",
      "Skew:                           3.233   Prob(JB):                         0.00\n",
      "Kurtosis:                      24.424   Cond. No.                         779.\n",
      "==============================================================================\n",
      "\n",
      "Notes:\n",
      "[1] Standard Errors assume that the covariance matrix of the errors is correctly specified.\n"
     ]
    }
   ],
   "source": [
    "import statsmodels.api as sm\n",
    "X2 = sm.add_constant(df.potential)\n",
    "est = sm.OLS(df.wage_eur, X2)\n",
    "est2 = est.fit()\n",
    "print(est2.summary())"
   ]
  },
  {
   "cell_type": "code",
   "execution_count": 30,
   "id": "555d62da",
   "metadata": {},
   "outputs": [],
   "source": [
    "# actual = y_train.wage_eur\n",
    "# predicted = df.yhat\n",
    "# residuals = actual - predicted"
   ]
  },
  {
   "cell_type": "code",
   "execution_count": 31,
   "id": "67da25db",
   "metadata": {
    "scrolled": false
   },
   "outputs": [
    {
     "data": {
      "application/vnd.jupyter.widget-view+json": {
       "model_id": "218dd398c1a5453a89fba1cfcbbbb549"
      },
      "text/plain": [
       "       wage_eur  wage_eur_pred_mean  wage_eur_pred_median  wage_eur_pred_lm  \\\n",
       "212    190000.0         14060.50195                5000.0     118024.989587   \n",
       "213    200000.0         14060.50195                5000.0     116579.889522   \n",
       "214    180000.0         14060.50195                5000.0      87558.428414   \n",
       "215    150000.0         14060.50195                5000.0      87344.226804   \n",
       "216    130000.0         14060.50195                5000.0      84262.902411   \n",
       "...         ...                 ...                   ...               ...   \n",
       "98746     500.0         14060.50195                5000.0      -1310.684160   \n",
       "98747     500.0         14060.50195                5000.0      -7409.953927   \n",
       "98748     500.0         14060.50195                5000.0      -3224.489115   \n",
       "98749     500.0         14060.50195                5000.0      -4455.387571   \n",
       "98750     500.0         14060.50195                5000.0      -4137.505272   \n",
       "\n",
       "       wage_eur_pred_lars  wage_eur_pred_glm  lm_residuals  lars_residuals  \\\n",
       "212         116531.550725      219753.468430 -71975.010413   -73468.449275   \n",
       "213         115038.881753      169574.603156 -83420.110478   -84961.118247   \n",
       "214          86509.873179      128319.271475 -92441.571586   -93490.126821   \n",
       "215          86212.366969      116382.612322 -62655.773196   -63787.633031   \n",
       "216          83263.848590       93768.788865 -45737.097589   -46736.151410   \n",
       "...                   ...                ...           ...             ...   \n",
       "98746        -1266.951245        1108.741579  -1810.684160    -1766.951245   \n",
       "98747        -7039.507745         802.444528  -7909.953927    -7539.507745   \n",
       "98748        -3144.787119         941.732178  -3724.489115    -3644.787119   \n",
       "98749        -4339.949880         801.228272  -4955.387571    -4839.949880   \n",
       "98750        -4127.808931         736.079548  -4637.505272    -4627.808931   \n",
       "\n",
       "       glm_residuals  \n",
       "212     29753.468430  \n",
       "213    -30425.396844  \n",
       "214    -51680.728525  \n",
       "215    -33617.387678  \n",
       "216    -36231.211135  \n",
       "...              ...  \n",
       "98746     608.741579  \n",
       "98747     302.444528  \n",
       "98748     441.732178  \n",
       "98749     301.228272  \n",
       "98750     236.079548  \n",
       "\n",
       "[58213 rows x 9 columns]"
      ]
     },
     "metadata": {},
     "output_type": "display_data"
    }
   ],
   "source": [
    "y_train"
   ]
  },
  {
   "cell_type": "code",
   "execution_count": 32,
   "id": "ff01422f",
   "metadata": {},
   "outputs": [
    {
     "data": {
      "image/png": "[encoded data removed]",
      "text/plain": [
       "<Figure size 1152x576 with 1 Axes>"
      ]
     },
     "metadata": {
      "needs_background": "light"
     },
     "output_type": "display_data"
    }
   ],
   "source": [
    "def actual_vs_predicted():\n",
    "    # plot to visualize actual vs predicted. \n",
    "    plt.figure(figsize=(16,8))\n",
    "    plt.hist(y_validate.wage_eur, color='blue', alpha=.5, label=\"Actual Final wage_eur\")\n",
    "    plt.hist(y_validate.wage_eur_pred_lm, color='red', alpha=.5, label=\"Model: LinearRegression\")\n",
    "    plt.hist(y_validate.wage_eur_pred_glm, color='yellow', alpha=.5, label=\"Model: TweedieRegressor\")\n",
    "    plt.hist(y_validate.wage_eur_pred_lars, color='green', alpha=.5, label=\"Model: Lasso Lars\")\n",
    "    plt.xlabel(\"Final taxvaluedollarcnt (taxvaluedollarcnt)\")\n",
    "    plt.ylabel(\"predicted taxvalue\")\n",
    "    plt.title(\"Comparing the Distribution of Actual taxvaluedollarcnt to Distributions of Predicted taxvaluedollarcnt for the Top Models\")\n",
    "    plt.legend()\n",
    "    plt.show()\n",
    "actual_vs_predicted()"
   ]
  },
  {
   "cell_type": "code",
   "execution_count": 33,
   "id": "0b2c34e0",
   "metadata": {},
   "outputs": [
    {
     "name": "stdout",
     "output_type": "stream",
     "text": [
      "Explained Variance =  0.625\n"
     ]
    }
   ],
   "source": [
    "# sklearn.metrics.explained_variance_score\n",
    "from sklearn.metrics import explained_variance_score\n",
    "evs = explained_variance_score(df.wage_eur, df.yhat)\n",
    "print('Explained Variance = ', round(evs,3))"
   ]
  },
  {
   "cell_type": "code",
   "execution_count": 34,
   "id": "57bcacdd",
   "metadata": {},
   "outputs": [
    {
     "ename": "NameError",
     "evalue": "name 'rmse_validate_lm' is not defined",
     "output_type": "error",
     "traceback": [
      "\u001b[0;31m---------------------------------------------------------------------------\u001b[0m",
      "\u001b[0;31mNameError\u001b[0m                                 Traceback (most recent call last)",
      "\u001b[0;32m/var/folders/dc/8rtfvpyj2mb6mqbnfkf5dl400000gn/T/ipykernel_4788/398019547.py\u001b[0m in \u001b[0;36m<module>\u001b[0;34m\u001b[0m\n\u001b[1;32m      5\u001b[0m metric_df = metric_df.append({\n\u001b[1;32m      6\u001b[0m     \u001b[0;34m'model'\u001b[0m\u001b[0;34m:\u001b[0m \u001b[0;34m'OLS Regressor'\u001b[0m\u001b[0;34m,\u001b[0m\u001b[0;34m\u001b[0m\u001b[0;34m\u001b[0m\u001b[0m\n\u001b[0;32m----> 7\u001b[0;31m     \u001b[0;34m'RMSE_validate'\u001b[0m\u001b[0;34m:\u001b[0m \u001b[0mrmse_validate_lm\u001b[0m\u001b[0;34m,\u001b[0m\u001b[0;34m\u001b[0m\u001b[0;34m\u001b[0m\u001b[0m\n\u001b[0m\u001b[1;32m      8\u001b[0m     'r^2_validate': explained_variance_score(y_validate.wage_eur, y_validate.wage_eur_pred_lm)}, ignore_index=True)\n\u001b[1;32m      9\u001b[0m metric_df = metric_df.append({\n",
      "\u001b[0;31mNameError\u001b[0m: name 'rmse_validate_lm' is not defined"
     ]
    }
   ],
   "source": [
    "metric_df = pd.DataFrame(data=[{\n",
    "    'model': 'mean_baseline', \n",
    "    'RMSE_validate': rmse_validate,\n",
    "        'r^2_validate': explained_variance_score(y_validate.wage_eur, y_validate.wage_eur_pred_mean)}])\n",
    "metric_df = metric_df.append({\n",
    "    'model': 'OLS Regressor', \n",
    "    'RMSE_validate': rmse_validate_lm,\n",
    "    'r^2_validate': explained_variance_score(y_validate.wage_eur, y_validate.wage_eur_pred_lm)}, ignore_index=True)\n",
    "metric_df = metric_df.append({\n",
    "    'model': 'Lasso alpha 1', \n",
    "    'RMSE_validate': rmse_validate_lars,\n",
    "    'r^2_validate': explained_variance_score(y_validate.wage_eur, y_validate.wage_eur_pred_lars)}, ignore_index=True)\n",
    "metric_df = metric_df.append({\n",
    "    'model': 'GLM (tweedie)', \n",
    "    'RMSE_validate': rmse_validate_glm,\n",
    "    'r^2_validate': explained_variance_score(y_validate.wage_eur, y_validate.wage_eur_pred_glm)}, ignore_index=True)\n",
    "metric_df "
   ]
  },
  {
   "cell_type": "code",
   "execution_count": null,
   "id": "79814d92",
   "metadata": {},
   "outputs": [],
   "source": []
  },
  {
   "cell_type": "code",
   "execution_count": null,
   "id": "b01fa194",
   "metadata": {},
   "outputs": [],
   "source": [
    "y_test = pd.DataFrame(y_test)\n",
    "\n",
    "# predict on test\n",
    "y_test['wage_eur_pred_LINEAR'] = lm.predict(X_test_scaled)\n",
    "\n",
    "# evaluate: rmse\n",
    "rmse_test_lm = mean_squared_error(y_test.wage_eur, y_test.wage_eur_pred_LINEAR)**(1/2)\n",
    "\n",
    "print(\"RMSE for OLS Model using LinearRegression\\nOut-of-Sample Performance: \", rmse_test_lm)\n",
    "\n",
    "y_test = pd.DataFrame(y_test)\n",
    "\n",
    "# predict on test\n",
    "y_test['wage_eur_pred_LASSO'] = lars.predict(X_test_scaled)\n",
    "\n",
    "# evaluate: rmse\n",
    "rmse_test_lars = mean_squared_error(y_test.wage_eur, y_test.wage_eur_pred_LASSO)**(1/2)\n",
    "\n",
    "print(\"RMSE for OLS Model using Lasso\\nOut-of-Sample Performance: \", rmse_test_lars)\n",
    "\n",
    "y_test = pd.DataFrame(y_test)\n",
    "\n",
    "#predict on test\n",
    "y_test['pred_Poly'] = lm2.predict(X_test_degree2)\n",
    "\n",
    "# evaluate: rmse\n",
    "rmse_test = mean_squared_error(y_test.wage_eur, y_test.pred_Poly)**(0.5)\n",
    "\n",
    "print(f\"\"\"\n",
    "RMSE for Polynomial Regressor, degrees=2:\n",
    "Test/Out-of-Sample Performance: {rmse_test}\n",
    "\"\"\")\n",
    "\n",
    "\n",
    "\n",
    "#predict on test\n",
    "y_test['wage_eur_pred_glm'] = glm.predict(X_test_scaled)\n",
    "\n",
    "# evaluate: rmse\n",
    "rmse_test = mean_squared_error(y_test.wage_eur, y_test.wage_eur_pred_glm)**(1/2)\n",
    "print(\"RMSE for GLM using Tweedie, power=1 & alpha=0\\nTraining/In-Sample: \", rmse_train, \n",
    "      \"\\nValidation/Out-of-Sample: \", rmse_validate_glm)\n"
   ]
  },
  {
   "cell_type": "code",
   "execution_count": null,
   "id": "b363bde2",
   "metadata": {},
   "outputs": [],
   "source": [
    "y_test"
   ]
  },
  {
   "cell_type": "code",
   "execution_count": null,
   "id": "92eb38b5",
   "metadata": {},
   "outputs": [],
   "source": [
    "sns.scatterplot(data = y_test)"
   ]
  },
  {
   "cell_type": "markdown",
   "id": "7447cfb0",
   "metadata": {},
   "source": []
  }
 ],
 "metadata": {
  "kernelspec": {
   "display_name": "Python 3 (ipykernel)",
   "language": "python",
   "name": "python3"
  },
  "language_info": {
   "codemirror_mode": {
    "name": "ipython",
    "version": 3
   },
   "file_extension": ".py",
   "mimetype": "text/x-python",
   "name": "python",
   "nbconvert_exporter": "python",
   "pygments_lexer": "ipython3",
   "version": "3.9.7"
  }
 },
 "nbformat": 4,
 "nbformat_minor": 5
}
